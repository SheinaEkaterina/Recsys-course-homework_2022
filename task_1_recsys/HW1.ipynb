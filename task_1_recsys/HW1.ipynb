{
  "cells": [
    {
      "cell_type": "code",
      "execution_count": 1,
      "metadata": {
        "collapsed": true,
        "id": "tX6_Eyt-vJ8B"
      },
      "outputs": [],
      "source": [
        "import pandas as pd\n",
        "import numpy as np"
      ]
    },
    {
      "cell_type": "code",
      "source": [
        "from google.colab import drive\n",
        "drive.mount('/content/drive')"
      ],
      "metadata": {
        "colab": {
          "base_uri": "https://localhost:8080/"
        },
        "id": "KXVcBPn0vL9a",
        "outputId": "cd3f7ff3-6163-4f7c-ddb2-7f44dab1e24b"
      },
      "execution_count": 2,
      "outputs": [
        {
          "output_type": "stream",
          "name": "stdout",
          "text": [
            "Drive already mounted at /content/drive; to attempt to forcibly remount, call drive.mount(\"/content/drive\", force_remount=True).\n"
          ]
        }
      ]
    },
    {
      "cell_type": "code",
      "execution_count": 3,
      "outputs": [],
      "source": [
        "data = pd.read_csv('/content/drive/MyDrive/RecSys/data.csv')"
      ],
      "metadata": {
        "id": "CSPgajZ6vJ8J"
      }
    },
    {
      "cell_type": "markdown",
      "source": [
        "### Анализ"
      ],
      "metadata": {
        "collapsed": false,
        "id": "H5WYUkxSvJ8K"
      }
    },
    {
      "cell_type": "markdown",
      "source": [
        "Эту часть работы сделаем не в функции, а в отдельных ячейках, так удобнее наблюдать, что происходит с датасетом. Сначала удалим ненужные столбцы"
      ],
      "metadata": {
        "collapsed": false,
        "id": "9TgZkCtOvJ8N"
      }
    },
    {
      "cell_type": "code",
      "execution_count": 4,
      "outputs": [
        {
          "output_type": "execute_result",
          "data": {
            "text/plain": [
              "                    date_time  zone_id  banner_id  campaign_clicks  os_id  \\\n",
              "0  2021-09-27 00:01:30.000000        0          0                0      0   \n",
              "1  2021-09-26 22:54:49.000000        1          1                0      0   \n",
              "2  2021-09-26 23:57:20.000000        2          2                3      0   \n",
              "3  2021-09-27 00:04:30.000000        3          3                0      1   \n",
              "4  2021-09-27 00:06:21.000000        4          4                0      1   \n",
              "\n",
              "   country_id  impressions  clicks  \n",
              "0           0            1       1  \n",
              "1           1            1       1  \n",
              "2           0            1       1  \n",
              "3           1            1       1  \n",
              "4           0            1       1  "
            ],
            "text/html": [
              "\n",
              "  <div id=\"df-e5af8872-bd45-453e-9d91-4372ecb57b2b\">\n",
              "    <div class=\"colab-df-container\">\n",
              "      <div>\n",
              "<style scoped>\n",
              "    .dataframe tbody tr th:only-of-type {\n",
              "        vertical-align: middle;\n",
              "    }\n",
              "\n",
              "    .dataframe tbody tr th {\n",
              "        vertical-align: top;\n",
              "    }\n",
              "\n",
              "    .dataframe thead th {\n",
              "        text-align: right;\n",
              "    }\n",
              "</style>\n",
              "<table border=\"1\" class=\"dataframe\">\n",
              "  <thead>\n",
              "    <tr style=\"text-align: right;\">\n",
              "      <th></th>\n",
              "      <th>date_time</th>\n",
              "      <th>zone_id</th>\n",
              "      <th>banner_id</th>\n",
              "      <th>campaign_clicks</th>\n",
              "      <th>os_id</th>\n",
              "      <th>country_id</th>\n",
              "      <th>impressions</th>\n",
              "      <th>clicks</th>\n",
              "    </tr>\n",
              "  </thead>\n",
              "  <tbody>\n",
              "    <tr>\n",
              "      <th>0</th>\n",
              "      <td>2021-09-27 00:01:30.000000</td>\n",
              "      <td>0</td>\n",
              "      <td>0</td>\n",
              "      <td>0</td>\n",
              "      <td>0</td>\n",
              "      <td>0</td>\n",
              "      <td>1</td>\n",
              "      <td>1</td>\n",
              "    </tr>\n",
              "    <tr>\n",
              "      <th>1</th>\n",
              "      <td>2021-09-26 22:54:49.000000</td>\n",
              "      <td>1</td>\n",
              "      <td>1</td>\n",
              "      <td>0</td>\n",
              "      <td>0</td>\n",
              "      <td>1</td>\n",
              "      <td>1</td>\n",
              "      <td>1</td>\n",
              "    </tr>\n",
              "    <tr>\n",
              "      <th>2</th>\n",
              "      <td>2021-09-26 23:57:20.000000</td>\n",
              "      <td>2</td>\n",
              "      <td>2</td>\n",
              "      <td>3</td>\n",
              "      <td>0</td>\n",
              "      <td>0</td>\n",
              "      <td>1</td>\n",
              "      <td>1</td>\n",
              "    </tr>\n",
              "    <tr>\n",
              "      <th>3</th>\n",
              "      <td>2021-09-27 00:04:30.000000</td>\n",
              "      <td>3</td>\n",
              "      <td>3</td>\n",
              "      <td>0</td>\n",
              "      <td>1</td>\n",
              "      <td>1</td>\n",
              "      <td>1</td>\n",
              "      <td>1</td>\n",
              "    </tr>\n",
              "    <tr>\n",
              "      <th>4</th>\n",
              "      <td>2021-09-27 00:06:21.000000</td>\n",
              "      <td>4</td>\n",
              "      <td>4</td>\n",
              "      <td>0</td>\n",
              "      <td>1</td>\n",
              "      <td>0</td>\n",
              "      <td>1</td>\n",
              "      <td>1</td>\n",
              "    </tr>\n",
              "  </tbody>\n",
              "</table>\n",
              "</div>\n",
              "      <button class=\"colab-df-convert\" onclick=\"convertToInteractive('df-e5af8872-bd45-453e-9d91-4372ecb57b2b')\"\n",
              "              title=\"Convert this dataframe to an interactive table.\"\n",
              "              style=\"display:none;\">\n",
              "        \n",
              "  <svg xmlns=\"http://www.w3.org/2000/svg\" height=\"24px\"viewBox=\"0 0 24 24\"\n",
              "       width=\"24px\">\n",
              "    <path d=\"M0 0h24v24H0V0z\" fill=\"none\"/>\n",
              "    <path d=\"M18.56 5.44l.94 2.06.94-2.06 2.06-.94-2.06-.94-.94-2.06-.94 2.06-2.06.94zm-11 1L8.5 8.5l.94-2.06 2.06-.94-2.06-.94L8.5 2.5l-.94 2.06-2.06.94zm10 10l.94 2.06.94-2.06 2.06-.94-2.06-.94-.94-2.06-.94 2.06-2.06.94z\"/><path d=\"M17.41 7.96l-1.37-1.37c-.4-.4-.92-.59-1.43-.59-.52 0-1.04.2-1.43.59L10.3 9.45l-7.72 7.72c-.78.78-.78 2.05 0 2.83L4 21.41c.39.39.9.59 1.41.59.51 0 1.02-.2 1.41-.59l7.78-7.78 2.81-2.81c.8-.78.8-2.07 0-2.86zM5.41 20L4 18.59l7.72-7.72 1.47 1.35L5.41 20z\"/>\n",
              "  </svg>\n",
              "      </button>\n",
              "      \n",
              "  <style>\n",
              "    .colab-df-container {\n",
              "      display:flex;\n",
              "      flex-wrap:wrap;\n",
              "      gap: 12px;\n",
              "    }\n",
              "\n",
              "    .colab-df-convert {\n",
              "      background-color: #E8F0FE;\n",
              "      border: none;\n",
              "      border-radius: 50%;\n",
              "      cursor: pointer;\n",
              "      display: none;\n",
              "      fill: #1967D2;\n",
              "      height: 32px;\n",
              "      padding: 0 0 0 0;\n",
              "      width: 32px;\n",
              "    }\n",
              "\n",
              "    .colab-df-convert:hover {\n",
              "      background-color: #E2EBFA;\n",
              "      box-shadow: 0px 1px 2px rgba(60, 64, 67, 0.3), 0px 1px 3px 1px rgba(60, 64, 67, 0.15);\n",
              "      fill: #174EA6;\n",
              "    }\n",
              "\n",
              "    [theme=dark] .colab-df-convert {\n",
              "      background-color: #3B4455;\n",
              "      fill: #D2E3FC;\n",
              "    }\n",
              "\n",
              "    [theme=dark] .colab-df-convert:hover {\n",
              "      background-color: #434B5C;\n",
              "      box-shadow: 0px 1px 3px 1px rgba(0, 0, 0, 0.15);\n",
              "      filter: drop-shadow(0px 1px 2px rgba(0, 0, 0, 0.3));\n",
              "      fill: #FFFFFF;\n",
              "    }\n",
              "  </style>\n",
              "\n",
              "      <script>\n",
              "        const buttonEl =\n",
              "          document.querySelector('#df-e5af8872-bd45-453e-9d91-4372ecb57b2b button.colab-df-convert');\n",
              "        buttonEl.style.display =\n",
              "          google.colab.kernel.accessAllowed ? 'block' : 'none';\n",
              "\n",
              "        async function convertToInteractive(key) {\n",
              "          const element = document.querySelector('#df-e5af8872-bd45-453e-9d91-4372ecb57b2b');\n",
              "          const dataTable =\n",
              "            await google.colab.kernel.invokeFunction('convertToInteractive',\n",
              "                                                     [key], {});\n",
              "          if (!dataTable) return;\n",
              "\n",
              "          const docLinkHtml = 'Like what you see? Visit the ' +\n",
              "            '<a target=\"_blank\" href=https://colab.research.google.com/notebooks/data_table.ipynb>data table notebook</a>'\n",
              "            + ' to learn more about interactive tables.';\n",
              "          element.innerHTML = '';\n",
              "          dataTable['output_type'] = 'display_data';\n",
              "          await google.colab.output.renderOutput(dataTable, element);\n",
              "          const docLink = document.createElement('div');\n",
              "          docLink.innerHTML = docLinkHtml;\n",
              "          element.appendChild(docLink);\n",
              "        }\n",
              "      </script>\n",
              "    </div>\n",
              "  </div>\n",
              "  "
            ]
          },
          "metadata": {},
          "execution_count": 4
        }
      ],
      "source": [
        "to_drop = [\"oaid_hash\", \"banner_id0\", \"banner_id1\", \"rate0\", \"rate1\", \"g0\", \"g1\", \"coeff_sum0\", \"coeff_sum1\"]\n",
        "data = data.drop(to_drop, axis=1)\n",
        "data.head()"
      ],
      "metadata": {
        "colab": {
          "base_uri": "https://localhost:8080/",
          "height": 206
        },
        "id": "qgNgptn0vJ8O",
        "outputId": "0547bbdf-0ae7-4010-8b30-463a00514c76"
      }
    },
    {
      "cell_type": "markdown",
      "source": [
        "Посмотрим на столбец impressions, пока кажется, что он не несет информации."
      ],
      "metadata": {
        "collapsed": false,
        "id": "S96E6rFxvJ8R"
      }
    },
    {
      "cell_type": "code",
      "execution_count": 5,
      "outputs": [
        {
          "output_type": "execute_result",
          "data": {
            "text/plain": [
              "             date_time   zone_id  banner_id  campaign_clicks     os_id  \\\n",
              "impressions                                                              \n",
              "1             15821472  15821472   15821472         15821472  15821472   \n",
              "\n",
              "             country_id    clicks  \n",
              "impressions                        \n",
              "1              15821472  15821472  "
            ],
            "text/html": [
              "\n",
              "  <div id=\"df-addbcc2e-4256-438c-8217-63523dc470af\">\n",
              "    <div class=\"colab-df-container\">\n",
              "      <div>\n",
              "<style scoped>\n",
              "    .dataframe tbody tr th:only-of-type {\n",
              "        vertical-align: middle;\n",
              "    }\n",
              "\n",
              "    .dataframe tbody tr th {\n",
              "        vertical-align: top;\n",
              "    }\n",
              "\n",
              "    .dataframe thead th {\n",
              "        text-align: right;\n",
              "    }\n",
              "</style>\n",
              "<table border=\"1\" class=\"dataframe\">\n",
              "  <thead>\n",
              "    <tr style=\"text-align: right;\">\n",
              "      <th></th>\n",
              "      <th>date_time</th>\n",
              "      <th>zone_id</th>\n",
              "      <th>banner_id</th>\n",
              "      <th>campaign_clicks</th>\n",
              "      <th>os_id</th>\n",
              "      <th>country_id</th>\n",
              "      <th>clicks</th>\n",
              "    </tr>\n",
              "    <tr>\n",
              "      <th>impressions</th>\n",
              "      <th></th>\n",
              "      <th></th>\n",
              "      <th></th>\n",
              "      <th></th>\n",
              "      <th></th>\n",
              "      <th></th>\n",
              "      <th></th>\n",
              "    </tr>\n",
              "  </thead>\n",
              "  <tbody>\n",
              "    <tr>\n",
              "      <th>1</th>\n",
              "      <td>15821472</td>\n",
              "      <td>15821472</td>\n",
              "      <td>15821472</td>\n",
              "      <td>15821472</td>\n",
              "      <td>15821472</td>\n",
              "      <td>15821472</td>\n",
              "      <td>15821472</td>\n",
              "    </tr>\n",
              "  </tbody>\n",
              "</table>\n",
              "</div>\n",
              "      <button class=\"colab-df-convert\" onclick=\"convertToInteractive('df-addbcc2e-4256-438c-8217-63523dc470af')\"\n",
              "              title=\"Convert this dataframe to an interactive table.\"\n",
              "              style=\"display:none;\">\n",
              "        \n",
              "  <svg xmlns=\"http://www.w3.org/2000/svg\" height=\"24px\"viewBox=\"0 0 24 24\"\n",
              "       width=\"24px\">\n",
              "    <path d=\"M0 0h24v24H0V0z\" fill=\"none\"/>\n",
              "    <path d=\"M18.56 5.44l.94 2.06.94-2.06 2.06-.94-2.06-.94-.94-2.06-.94 2.06-2.06.94zm-11 1L8.5 8.5l.94-2.06 2.06-.94-2.06-.94L8.5 2.5l-.94 2.06-2.06.94zm10 10l.94 2.06.94-2.06 2.06-.94-2.06-.94-.94-2.06-.94 2.06-2.06.94z\"/><path d=\"M17.41 7.96l-1.37-1.37c-.4-.4-.92-.59-1.43-.59-.52 0-1.04.2-1.43.59L10.3 9.45l-7.72 7.72c-.78.78-.78 2.05 0 2.83L4 21.41c.39.39.9.59 1.41.59.51 0 1.02-.2 1.41-.59l7.78-7.78 2.81-2.81c.8-.78.8-2.07 0-2.86zM5.41 20L4 18.59l7.72-7.72 1.47 1.35L5.41 20z\"/>\n",
              "  </svg>\n",
              "      </button>\n",
              "      \n",
              "  <style>\n",
              "    .colab-df-container {\n",
              "      display:flex;\n",
              "      flex-wrap:wrap;\n",
              "      gap: 12px;\n",
              "    }\n",
              "\n",
              "    .colab-df-convert {\n",
              "      background-color: #E8F0FE;\n",
              "      border: none;\n",
              "      border-radius: 50%;\n",
              "      cursor: pointer;\n",
              "      display: none;\n",
              "      fill: #1967D2;\n",
              "      height: 32px;\n",
              "      padding: 0 0 0 0;\n",
              "      width: 32px;\n",
              "    }\n",
              "\n",
              "    .colab-df-convert:hover {\n",
              "      background-color: #E2EBFA;\n",
              "      box-shadow: 0px 1px 2px rgba(60, 64, 67, 0.3), 0px 1px 3px 1px rgba(60, 64, 67, 0.15);\n",
              "      fill: #174EA6;\n",
              "    }\n",
              "\n",
              "    [theme=dark] .colab-df-convert {\n",
              "      background-color: #3B4455;\n",
              "      fill: #D2E3FC;\n",
              "    }\n",
              "\n",
              "    [theme=dark] .colab-df-convert:hover {\n",
              "      background-color: #434B5C;\n",
              "      box-shadow: 0px 1px 3px 1px rgba(0, 0, 0, 0.15);\n",
              "      filter: drop-shadow(0px 1px 2px rgba(0, 0, 0, 0.3));\n",
              "      fill: #FFFFFF;\n",
              "    }\n",
              "  </style>\n",
              "\n",
              "      <script>\n",
              "        const buttonEl =\n",
              "          document.querySelector('#df-addbcc2e-4256-438c-8217-63523dc470af button.colab-df-convert');\n",
              "        buttonEl.style.display =\n",
              "          google.colab.kernel.accessAllowed ? 'block' : 'none';\n",
              "\n",
              "        async function convertToInteractive(key) {\n",
              "          const element = document.querySelector('#df-addbcc2e-4256-438c-8217-63523dc470af');\n",
              "          const dataTable =\n",
              "            await google.colab.kernel.invokeFunction('convertToInteractive',\n",
              "                                                     [key], {});\n",
              "          if (!dataTable) return;\n",
              "\n",
              "          const docLinkHtml = 'Like what you see? Visit the ' +\n",
              "            '<a target=\"_blank\" href=https://colab.research.google.com/notebooks/data_table.ipynb>data table notebook</a>'\n",
              "            + ' to learn more about interactive tables.';\n",
              "          element.innerHTML = '';\n",
              "          dataTable['output_type'] = 'display_data';\n",
              "          await google.colab.output.renderOutput(dataTable, element);\n",
              "          const docLink = document.createElement('div');\n",
              "          docLink.innerHTML = docLinkHtml;\n",
              "          element.appendChild(docLink);\n",
              "        }\n",
              "      </script>\n",
              "    </div>\n",
              "  </div>\n",
              "  "
            ]
          },
          "metadata": {},
          "execution_count": 5
        }
      ],
      "source": [
        "data.groupby(\"impressions\").count()"
      ],
      "metadata": {
        "colab": {
          "base_uri": "https://localhost:8080/",
          "height": 112
        },
        "id": "K4QQDqkDvJ8S",
        "outputId": "aba15fe5-c408-477d-d82d-fde80e5361a4"
      }
    },
    {
      "cell_type": "code",
      "execution_count": 6,
      "outputs": [],
      "source": [
        "data = data.drop(\"impressions\", axis=1)"
      ],
      "metadata": {
        "id": "3KotQ3KFvJ8V"
      }
    },
    {
      "cell_type": "markdown",
      "source": [
        "Проверим, есть ли None:"
      ],
      "metadata": {
        "collapsed": false,
        "id": "R8aE_RxGvJ8W"
      }
    },
    {
      "cell_type": "code",
      "execution_count": 7,
      "outputs": [
        {
          "output_type": "execute_result",
          "data": {
            "text/plain": [
              "date_time  zone_id  banner_id  campaign_clicks  os_id  country_id  clicks\n",
              "False      False    False      False            False  False       False     15821472\n",
              "dtype: int64"
            ]
          },
          "metadata": {},
          "execution_count": 7
        }
      ],
      "source": [
        "data.isnull().value_counts()"
      ],
      "metadata": {
        "colab": {
          "base_uri": "https://localhost:8080/"
        },
        "id": "ded0r6bKvJ8Y",
        "outputId": "9f067097-fd5d-4f4c-acf6-1193ebc78d5b"
      }
    },
    {
      "cell_type": "markdown",
      "source": [
        "Таких значений нет, чистить датасет не нужно. Посмотрим на статистику по дням"
      ],
      "metadata": {
        "collapsed": false,
        "id": "tsNADWCKvJ8a"
      }
    },
    {
      "cell_type": "code",
      "execution_count": 8,
      "outputs": [
        {
          "output_type": "execute_result",
          "data": {
            "text/plain": [
              "2021-09-26    3102610\n",
              "2021-09-29    2420588\n",
              "2021-09-27    2367303\n",
              "2021-09-28    2307355\n",
              "2021-10-02    2128978\n",
              "2021-09-30    1851189\n",
              "2021-10-01    1643448\n",
              "2021-09-01          1\n",
              "Name: date, dtype: int64"
            ]
          },
          "metadata": {},
          "execution_count": 8
        }
      ],
      "source": [
        "data[\"date_time\"] = pd.to_datetime(data[\"date_time\"])\n",
        "data['date'] = data.date_time.dt.date\n",
        "data.date.value_counts()"
      ],
      "metadata": {
        "colab": {
          "base_uri": "https://localhost:8080/"
        },
        "id": "0iEIgXu6vJ8b",
        "outputId": "f6d023f5-55f2-44f0-d067-47283540773f"
      }
    },
    {
      "cell_type": "markdown",
      "source": [
        "По одному из дней только одна запись, выбросим его."
      ],
      "metadata": {
        "collapsed": false,
        "id": "0Eotx_r2vJ8c"
      }
    },
    {
      "cell_type": "code",
      "execution_count": 9,
      "outputs": [
        {
          "output_type": "stream",
          "name": "stderr",
          "text": [
            "/usr/local/lib/python3.7/dist-packages/ipykernel_launcher.py:2: FutureWarning: Index.asi8 is deprecated and will be removed in a future version\n",
            "  \n"
          ]
        },
        {
          "output_type": "execute_result",
          "data": {
            "text/plain": [
              "2021-09-26    3102610\n",
              "2021-09-29    2420588\n",
              "2021-09-27    2367303\n",
              "2021-09-28    2307355\n",
              "2021-10-02    2128978\n",
              "2021-09-30    1851189\n",
              "2021-10-01    1643448\n",
              "Name: date, dtype: int64"
            ]
          },
          "metadata": {},
          "execution_count": 9
        }
      ],
      "source": [
        "import datetime\n",
        "data = data.drop(data[data[\"date\"] == datetime.date(2021, 9, 1)].index.asi8)\n",
        "data = data.sort_values(by='date')\n",
        "data.date.value_counts()"
      ],
      "metadata": {
        "colab": {
          "base_uri": "https://localhost:8080/"
        },
        "id": "bqMEV6DUvJ8d",
        "outputId": "9e6c3736-db27-43c4-ae55-9ab89063272c"
      }
    },
    {
      "cell_type": "markdown",
      "source": [
        "Из данной в README информации можно сделать вывод, что все фичи, кроме campaign_click, категориальные. К ним в последствии применим One Hot encoding. Посмотрим ближе на величину campaign cliсks - насколько велики значения, какое распределение"
      ],
      "metadata": {
        "collapsed": false,
        "id": "uWPTiSH3vJ8e"
      }
    },
    {
      "cell_type": "code",
      "execution_count": 10,
      "outputs": [
        {
          "output_type": "execute_result",
          "data": {
            "text/plain": [
              "829"
            ]
          },
          "metadata": {},
          "execution_count": 10
        }
      ],
      "source": [
        "data.campaign_clicks.max()"
      ],
      "metadata": {
        "colab": {
          "base_uri": "https://localhost:8080/"
        },
        "id": "CyItPNa9vJ8e",
        "outputId": "f7e9a930-4d7b-47c3-9f0e-14aaedc4c665"
      }
    },
    {
      "cell_type": "code",
      "source": [
        "data.campaign_clicks.value_counts().plot(figsize=(12, 8), xlabel=\"number of clicks\", xticks=np.arange(0, 900, 100))"
      ],
      "metadata": {
        "colab": {
          "base_uri": "https://localhost:8080/",
          "height": 525
        },
        "id": "gtu380YV7EcJ",
        "outputId": "b06344ff-b320-4b18-d4c2-4ed1a5b177cd"
      },
      "execution_count": 11,
      "outputs": [
        {
          "output_type": "execute_result",
          "data": {
            "text/plain": [
              "<matplotlib.axes._subplots.AxesSubplot at 0x7f89874f5210>"
            ]
          },
          "metadata": {},
          "execution_count": 11
        },
        {
          "output_type": "display_data",
          "data": {
            "text/plain": [
              "<Figure size 864x576 with 1 Axes>"
            ],
            "image/png": "[encoded data removed]"
          },
          "metadata": {
            "needs_background": "light"
          }
        }
      ]
    },
    {
      "cell_type": "markdown",
      "source": [
        "Видим, что распределение перекошено. Было бы хорошо придумать такое преобразование, которое бы \"растянуло\" распределение, то есть область маленьких величин сделало пошире, а больших сгладило. В таких случаях обычно используют логарифм."
      ],
      "metadata": {
        "id": "9BsGS5oF7dih"
      }
    },
    {
      "cell_type": "markdown",
      "source": [
        "### Feature engineering"
      ],
      "metadata": {
        "collapsed": false,
        "id": "Ke78rH4RvJ8f"
      }
    },
    {
      "cell_type": "markdown",
      "source": [
        "Применим One hot encoding:"
      ],
      "metadata": {
        "collapsed": false,
        "id": "gbtZqYEgvJ8g"
      }
    },
    {
      "cell_type": "code",
      "execution_count": 12,
      "outputs": [],
      "source": [
        "from sklearn.preprocessing import OneHotEncoder\n",
        "from scipy.sparse import hstack\n",
        "\n",
        "def feature_engineering(data: pd.DataFrame):\n",
        "    #делим на train/test\n",
        "    train = data[data[\"date\"] < datetime.date(2021, 10, 2)]\n",
        "    test = data[data[\"date\"] == datetime.date(2021, 10, 2)]\n",
        "\n",
        "    x_train = train.drop([\"clicks\", \"date\", \"date_time\", \"campaign_clicks\"], axis=1)\n",
        "    y_train = np.array(train[\"clicks\"])\n",
        "    x_test = test.drop([\"clicks\", \"date\", \"date_time\", \"campaign_clicks\"], axis=1)\n",
        "    y_test = np.array(test[\"clicks\"])\n",
        "\n",
        "    #преобразуем данные\n",
        "    #используем разреженные матрицы, поскольку OHE преимущественно нули\n",
        "    ohe = OneHotEncoder(handle_unknown='ignore', sparse=True)\n",
        "    x_train = ohe.fit_transform(x_train)\n",
        "    print(\"OHE train transformed\")\n",
        "    #print(type(x_train))\n",
        "    x_train = hstack([x_train, np.log(np.array(train['campaign_clicks']+1e-4))[:, np.newaxis]])\n",
        "    x_test = ohe.transform(x_test)\n",
        "    x_test = hstack([x_test, np.log(np.array(test['campaign_clicks'])+1e-4)[:, np.newaxis]])\n",
        "    return x_train, x_test, y_train, y_test"
      ],
      "metadata": {
        "id": "ASPgsAsOvJ8g"
      }
    },
    {
      "cell_type": "code",
      "execution_count": 13,
      "outputs": [
        {
          "output_type": "stream",
          "name": "stdout",
          "text": [
            "OHE train transformed\n"
          ]
        }
      ],
      "source": [
        "x_train, x_test, y_train, y_test = feature_engineering(data)"
      ],
      "metadata": {
        "colab": {
          "base_uri": "https://localhost:8080/"
        },
        "id": "kRhWE3L9vJ8i",
        "outputId": "3782ec46-5b97-440a-ba47-a1c7fa5fa6d5"
      }
    },
    {
      "cell_type": "code",
      "execution_count": 14,
      "outputs": [],
      "source": [
        "from sklearn.linear_model import LogisticRegression\n",
        "from sklearn.model_selection import cross_validate"
      ],
      "metadata": {
        "id": "R_9v_PMAvJ8j"
      }
    },
    {
      "cell_type": "markdown",
      "source": [
        "### Модель"
      ],
      "metadata": {
        "id": "Hfh2-U1hL2NE"
      }
    },
    {
      "cell_type": "markdown",
      "source": [
        "Будем использовать линейную регрессию с не SGD-like оптимизатором. Я выбрала liblinear, он удобнее всего в использовании с моделью из sklearn."
      ],
      "metadata": {
        "id": "KP1bjNVXYoMS"
      }
    },
    {
      "cell_type": "code",
      "execution_count": 15,
      "outputs": [],
      "source": [
        "def create_model(penalty='l1', C=1.0):\n",
        "    model = LogisticRegression(penalty=penalty, C=C, solver='liblinear')\n",
        "    return model"
      ],
      "metadata": {
        "id": "CjJ18o9HvJ8k"
      }
    },
    {
      "cell_type": "code",
      "execution_count": 16,
      "outputs": [],
      "source": [
        "def cv(X_train, y_train, l='l1'):\n",
        "  # данных для кросс валидации достаточно мало, но проблема в том, что в collab переполняется ОЗУ\n",
        "  # и я не придумала, как с этим справиться\n",
        "  # а на личном компьютере совсем не работает\n",
        "    c_ = [0.001, 0.01, 0.1, 1.0]\n",
        "\n",
        "    for C in c_:\n",
        "        print(C)\n",
        "        model = create_model(C=C, penalty=l)\n",
        "        scores = cross_validate(model, X_train, y_train, scoring=['neg_log_loss', 'roc_auc'], cv=3)\n",
        "        #print(scores)\n",
        "        print(f\"C = {C}, penalty = {l}, NLL = {np.mean(scores['test_neg_log_loss'])}, ROC AUC = {np.mean(scores['test_roc_auc'])}\")\n",
        "#\n"
      ],
      "metadata": {
        "id": "dXbhnwDxvJ8l"
      }
    },
    {
      "cell_type": "markdown",
      "source": [
        "Проведем исследования для L2 регуляризации."
      ],
      "metadata": {
        "id": "tUeLVIoVMWCt"
      }
    },
    {
      "cell_type": "code",
      "source": [
        "cv(x_train, y_train, l='l2')"
      ],
      "metadata": {
        "colab": {
          "base_uri": "https://localhost:8080/"
        },
        "id": "Wk_Owycq86qY",
        "outputId": "f2278114-6f3d-4198-f7b8-fba9ee962883"
      },
      "execution_count": 17,
      "outputs": [
        {
          "output_type": "stream",
          "name": "stdout",
          "text": [
            "0.001\n",
            "C = 0.001, penalty = l2, NLL = -0.11174569911760525, ROC AUC = 0.7244093086026079\n",
            "0.01\n",
            "C = 0.01, penalty = l2, NLL = -0.11835203033182666, ROC AUC = 0.7302093283734349\n",
            "0.1\n",
            "C = 0.1, penalty = l2, NLL = -0.13122586334861944, ROC AUC = 0.7202240860768595\n",
            "1.0\n",
            "C = 1.0, penalty = l2, NLL = -0.15937981249419766, ROC AUC = 0.7098655871014096\n"
          ]
        }
      ]
    },
    {
      "cell_type": "code",
      "source": [
        "model = create_model(C=0.01, penalty='l2')\n",
        "model.fit(x_train, y_train)"
      ],
      "metadata": {
        "colab": {
          "base_uri": "https://localhost:8080/"
        },
        "id": "HGcLI10CT369",
        "outputId": "0722d4cd-f1b2-46b8-8615-30c301ba8199"
      },
      "execution_count": 40,
      "outputs": [
        {
          "output_type": "execute_result",
          "data": {
            "text/plain": [
              "LogisticRegression(C=0.01, solver='liblinear')"
            ]
          },
          "metadata": {},
          "execution_count": 40
        }
      ]
    },
    {
      "cell_type": "code",
      "execution_count": 39,
      "outputs": [
        {
          "output_type": "stream",
          "name": "stdout",
          "text": [
            "float64\n",
            "My model: NNL = 0.13363618401953573, ROC AUC = 0.7789599619007965\n",
            "Baseline: NNL = 0.153032899049186, ROC AUC = 0.5\n"
          ]
        }
      ],
      "source": [
        "from sklearn.metrics import log_loss, roc_auc_score\n",
        "y_model = model.predict_proba(x_test)[:, 1]\n",
        "y_base = np.mean(y_test)*np.ones(y_test.shape)\n",
        "print(f\"My model: NNL = {log_loss(y_test, y_model)}, ROC AUC = {roc_auc_score(y_test, y_model)}\")\n",
        "print(f\"Baseline: NNL = {log_loss(y_test, y_base)}, ROC AUC = {roc_auc_score(y_test, y_base)}\")"
      ],
      "metadata": {
        "id": "fOxTGMHtvJ8o",
        "colab": {
          "base_uri": "https://localhost:8080/"
        },
        "outputId": "d4078845-559b-4b8e-ab1c-36df00c6e2fe"
      }
    },
    {
      "cell_type": "markdown",
      "source": [
        "Даже используя только L2 loss, мы смогли побить бейзлайн. С L2 лоссом у меня возникли проблемы подсчета, вылетал коллаб. То, что удалось сосчитать:"
      ],
      "metadata": {
        "id": "vhUtW8lSYHHQ"
      }
    },
    {
      "cell_type": "code",
      "execution_count": null,
      "outputs": [
        {
          "output_type": "stream",
          "name": "stdout",
          "text": [
            "0.001\n",
            "C = 0.001, penalty = l1, NLL = -0.11471927480200289, ROC AUC = 0.7139811447445098\n",
            "0.1\n"
          ]
        }
      ],
      "source": [
        "cv(x_train, y_train, l='l1')"
      ],
      "metadata": {
        "pycharm": {
          "is_executing": true
        },
        "colab": {
          "base_uri": "https://localhost:8080/"
        },
        "id": "pOL7HPOovJ8m",
        "outputId": "ee106cd1-4bbc-4556-8fba-7aa7b3c19c27"
      }
    }
  ],
  "metadata": {
    "kernelspec": {
      "display_name": "Python 3",
      "language": "python",
      "name": "python3"
    },
    "language_info": {
      "codemirror_mode": {
        "name": "ipython",
        "version": 2
      },
      "file_extension": ".py",
      "mimetype": "text/x-python",
      "name": "python",
      "nbconvert_exporter": "python",
      "pygments_lexer": "ipython2",
      "version": "2.7.6"
    },
    "colab": {
      "provenance": []
    },
    "gpuClass": "standard"
  },
  "nbformat": 4,
  "nbformat_minor": 0
}