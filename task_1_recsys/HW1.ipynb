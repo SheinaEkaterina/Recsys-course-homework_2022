{
 "cells": [
  {
   "cell_type": "code",
   "execution_count": 22,
   "metadata": {
    "collapsed": true
   },
   "outputs": [],
   "source": [
    "from copy import deepcopy\n",
    "from tqdm import tqdm\n",
    "import numpy as np\n",
    "import pandas as pd\n",
    "import matplotlib.pyplot as plt\n",
    "from sklearn.linear_model import LogisticRegression\n",
    "from sklearn.model_selection import StratifiedKFold\n",
    "from sklearn.metrics import log_loss"
   ]
  },
  {
   "cell_type": "markdown",
   "metadata": {},
   "source": [
    "## Чтение данных"
   ]
  },
  {
   "cell_type": "code",
   "execution_count": 2,
   "metadata": {
    "collapsed": false,
    "pycharm": {
     "name": "#%%\n"
    }
   },
   "outputs": [
    {
     "data": {
      "text/html": [
       "<div>\n",
       "<style scoped>\n",
       "    .dataframe tbody tr th:only-of-type {\n",
       "        vertical-align: middle;\n",
       "    }\n",
       "\n",
       "    .dataframe tbody tr th {\n",
       "        vertical-align: top;\n",
       "    }\n",
       "\n",
       "    .dataframe thead th {\n",
       "        text-align: right;\n",
       "    }\n",
       "</style>\n",
       "<table border=\"1\" class=\"dataframe\">\n",
       "  <thead>\n",
       "    <tr style=\"text-align: right;\">\n",
       "      <th></th>\n",
       "      <th>date_time</th>\n",
       "      <th>zone_id</th>\n",
       "      <th>banner_id</th>\n",
       "      <th>campaign_clicks</th>\n",
       "      <th>os_id</th>\n",
       "      <th>country_id</th>\n",
       "      <th>impressions</th>\n",
       "      <th>clicks</th>\n",
       "    </tr>\n",
       "  </thead>\n",
       "  <tbody>\n",
       "    <tr>\n",
       "      <th>0</th>\n",
       "      <td>2021-09-27 00:01:30.000000</td>\n",
       "      <td>0</td>\n",
       "      <td>0</td>\n",
       "      <td>0</td>\n",
       "      <td>0</td>\n",
       "      <td>0</td>\n",
       "      <td>1</td>\n",
       "      <td>1</td>\n",
       "    </tr>\n",
       "    <tr>\n",
       "      <th>1</th>\n",
       "      <td>2021-09-26 22:54:49.000000</td>\n",
       "      <td>1</td>\n",
       "      <td>1</td>\n",
       "      <td>0</td>\n",
       "      <td>0</td>\n",
       "      <td>1</td>\n",
       "      <td>1</td>\n",
       "      <td>1</td>\n",
       "    </tr>\n",
       "    <tr>\n",
       "      <th>2</th>\n",
       "      <td>2021-09-26 23:57:20.000000</td>\n",
       "      <td>2</td>\n",
       "      <td>2</td>\n",
       "      <td>3</td>\n",
       "      <td>0</td>\n",
       "      <td>0</td>\n",
       "      <td>1</td>\n",
       "      <td>1</td>\n",
       "    </tr>\n",
       "    <tr>\n",
       "      <th>3</th>\n",
       "      <td>2021-09-27 00:04:30.000000</td>\n",
       "      <td>3</td>\n",
       "      <td>3</td>\n",
       "      <td>0</td>\n",
       "      <td>1</td>\n",
       "      <td>1</td>\n",
       "      <td>1</td>\n",
       "      <td>1</td>\n",
       "    </tr>\n",
       "    <tr>\n",
       "      <th>4</th>\n",
       "      <td>2021-09-27 00:06:21.000000</td>\n",
       "      <td>4</td>\n",
       "      <td>4</td>\n",
       "      <td>0</td>\n",
       "      <td>1</td>\n",
       "      <td>0</td>\n",
       "      <td>1</td>\n",
       "      <td>1</td>\n",
       "    </tr>\n",
       "  </tbody>\n",
       "</table>\n",
       "</div>"
      ],
      "text/plain": [
       "                    date_time  zone_id  banner_id  campaign_clicks  os_id  \\\n",
       "0  2021-09-27 00:01:30.000000        0          0                0      0   \n",
       "1  2021-09-26 22:54:49.000000        1          1                0      0   \n",
       "2  2021-09-26 23:57:20.000000        2          2                3      0   \n",
       "3  2021-09-27 00:04:30.000000        3          3                0      1   \n",
       "4  2021-09-27 00:06:21.000000        4          4                0      1   \n",
       "\n",
       "   country_id  impressions  clicks  \n",
       "0           0            1       1  \n",
       "1           1            1       1  \n",
       "2           0            1       1  \n",
       "3           1            1       1  \n",
       "4           0            1       1  "
      ]
     },
     "execution_count": 2,
     "metadata": {},
     "output_type": "execute_result"
    }
   ],
   "source": [
    "data = pd.read_csv('../data/data.csv')\n",
    "data = data.drop(columns=[\n",
    "    \"oaid_hash\", \"banner_id0\", \"banner_id1\", \"rate0\", \"rate1\",\n",
    "    \"g0\", \"g1\", \"coeff_sum0\", \"coeff_sum1\"])\n",
    "data.head()"
   ]
  },
  {
   "cell_type": "code",
   "execution_count": 3,
   "metadata": {
    "collapsed": false,
    "pycharm": {
     "name": "#%%\n"
    }
   },
   "outputs": [
    {
     "data": {
      "text/plain": [
       "(Timestamp('2021-09-01 00:02:49'), Timestamp('2021-10-02 23:59:59'))"
      ]
     },
     "execution_count": 3,
     "metadata": {},
     "output_type": "execute_result"
    }
   ],
   "source": [
    "data[\"date_time\"] = pd.to_datetime(data[\"date_time\"])\n",
    "data[\"date_time\"].min(), data[\"date_time\"].max()"
   ]
  },
  {
   "cell_type": "code",
   "execution_count": 4,
   "metadata": {},
   "outputs": [
    {
     "name": "stdout",
     "output_type": "stream",
     "text": [
      "Последнему дню соответствует 13.5% данных\n"
     ]
    }
   ],
   "source": [
    "last_date = data[\"date_time\"].max().date()\n",
    "mask = data[\"date_time\"].dt.date == last_date\n",
    "test_frac = mask.sum() / len(data)\n",
    "print(f\"Последнему дню соответствует {test_frac*100:.1f}% данных\")"
   ]
  },
  {
   "cell_type": "code",
   "execution_count": 5,
   "metadata": {},
   "outputs": [
    {
     "name": "stdout",
     "output_type": "stream",
     "text": [
      "(13692494, 8) (2128978, 8)\n"
     ]
    }
   ],
   "source": [
    "df = data[~mask]\n",
    "df_test = data[mask]\n",
    "print(df.shape, df_test.shape)"
   ]
  },
  {
   "cell_type": "markdown",
   "metadata": {},
   "source": [
    "## Визуализация данных"
   ]
  },
  {
   "cell_type": "code",
   "execution_count": 6,
   "metadata": {},
   "outputs": [],
   "source": [
    "def plot_counts_mean(df: pd.DataFrame, col_name: str):\n",
    "    grouped = df[[col_name, \"clicks\"]].groupby(col_name)\n",
    "    x = list(grouped.groups.keys())\n",
    "    counts = grouped.size()\n",
    "    means = grouped.mean()\n",
    "\n",
    "    plt.figure(figsize=(6, 6))\n",
    "    plt.subplot(211)\n",
    "    plt.semilogy(counts.index, counts.values, color=\"tab:blue\")\n",
    "    plt.ylabel(\"Counts\")\n",
    "    plt.subplot(212)\n",
    "    plt.plot(means.index, means.values, color=\"tab:orange\")\n",
    "    plt.ylabel(\"Avg. clicks\")\n",
    "    plt.xlabel(col_name)\n",
    "    plt.tight_layout()\n",
    "    plt.show()"
   ]
  },
  {
   "cell_type": "code",
   "execution_count": 7,
   "metadata": {},
   "outputs": [
    {
     "data": {
      "image/png": "[encoded data removed]",
      "text/plain": [
       "<Figure size 432x432 with 2 Axes>"
      ]
     },
     "metadata": {
      "needs_background": "light"
     },
     "output_type": "display_data"
    }
   ],
   "source": [
    "plot_counts_mean(df, \"zone_id\")"
   ]
  },
  {
   "cell_type": "code",
   "execution_count": 8,
   "metadata": {},
   "outputs": [
    {
     "data": {
      "image/png": "[encoded data removed]",
      "text/plain": [
       "<Figure size 432x432 with 2 Axes>"
      ]
     },
     "metadata": {
      "needs_background": "light"
     },
     "output_type": "display_data"
    }
   ],
   "source": [
    "plot_counts_mean(df, \"banner_id\")"
   ]
  },
  {
   "cell_type": "code",
   "execution_count": 9,
   "metadata": {},
   "outputs": [
    {
     "data": {
      "image/png": "[encoded data removed]",
      "text/plain": [
       "<Figure size 432x432 with 2 Axes>"
      ]
     },
     "metadata": {
      "needs_background": "light"
     },
     "output_type": "display_data"
    }
   ],
   "source": [
    "plot_counts_mean(df, \"campaign_clicks\")"
   ]
  },
  {
   "cell_type": "code",
   "execution_count": 10,
   "metadata": {},
   "outputs": [
    {
     "data": {
      "image/png": "[encoded data removed]",
      "text/plain": [
       "<Figure size 432x432 with 2 Axes>"
      ]
     },
     "metadata": {
      "needs_background": "light"
     },
     "output_type": "display_data"
    }
   ],
   "source": [
    "plot_counts_mean(df, \"os_id\")"
   ]
  },
  {
   "cell_type": "code",
   "execution_count": 11,
   "metadata": {},
   "outputs": [
    {
     "data": {
      "image/png": "[encoded data removed]",
      "text/plain": [
       "<Figure size 432x432 with 2 Axes>"
      ]
     },
     "metadata": {
      "needs_background": "light"
     },
     "output_type": "display_data"
    }
   ],
   "source": [
    "plot_counts_mean(df, \"country_id\")"
   ]
  },
  {
   "cell_type": "code",
   "execution_count": 12,
   "metadata": {},
   "outputs": [
    {
     "data": {
      "text/plain": [
       "array([1])"
      ]
     },
     "execution_count": 12,
     "metadata": {},
     "output_type": "execute_result"
    }
   ],
   "source": [
    "pd.unique(df[\"impressions\"])"
   ]
  },
  {
   "cell_type": "code",
   "execution_count": 13,
   "metadata": {},
   "outputs": [
    {
     "data": {
      "text/plain": [
       "[<matplotlib.lines.Line2D at 0x7fec1d56f730>]"
      ]
     },
     "execution_count": 13,
     "metadata": {},
     "output_type": "execute_result"
    },
    {
     "data": {
      "image/png": "[encoded data removed]",
      "text/plain": [
       "<Figure size 432x288 with 1 Axes>"
      ]
     },
     "metadata": {
      "needs_background": "light"
     },
     "output_type": "display_data"
    }
   ],
   "source": [
    "plt.plot(df[\"clicks\"])"
   ]
  },
  {
   "cell_type": "markdown",
   "metadata": {},
   "source": [
    "## Выбор признаков"
   ]
  },
  {
   "cell_type": "code",
   "execution_count": 19,
   "metadata": {},
   "outputs": [],
   "source": [
    "def process_data(df: pd.DataFrame, drop_ids: bool = True) -> pd.DataFrame:\n",
    "    df_new = deepcopy(df)\n",
    "    df_new.drop(\"impressions\", axis=1, inplace=True)\n",
    "    process_date_time(df_new)\n",
    "    process_os_id(df_new, n=7)\n",
    "    process_country_id(df_new, n=16)\n",
    "    process_campaign_clicks(df_new)\n",
    "    if drop_ids:\n",
    "        df_new.drop(columns=[\"zone_id\", \"banner_id\"], inplace=True)\n",
    "    return df_new\n",
    "\n",
    "# all following functions modify dataframe inplace\n",
    "def process_date_time(df: pd.DataFrame) -> None:\n",
    "    df[\"weekday\"] = df[\"date_time\"].dt.weekday\n",
    "    df[\"hour\"] = df[\"date_time\"].dt.hour\n",
    "    df.drop(\"date_time\", axis=1, inplace=True)\n",
    "\n",
    "def process_os_id(df: pd.DataFrame, n: int) -> None:\n",
    "    one_hot_n_first(df, \"os_id\", n=n)\n",
    "\n",
    "def process_country_id(df: pd.DataFrame, n: int) -> None:\n",
    "    one_hot_n_first(df, \"country_id\", n=n)\n",
    "\n",
    "def one_hot_n_first(df: pd.DataFrame, col_name: str, n: None | int) -> None:\n",
    "    if n is not None:\n",
    "        mask = df[col_name] >= n\n",
    "        df.loc[mask, col_name] = n\n",
    "    dummies = pd.get_dummies(df[col_name])\n",
    "    if n is None:\n",
    "        n = dummies.shape[1] - 1\n",
    "    col_names = [f\"{col_name}_{i}\" for i in range(n + 1)]\n",
    "    df[col_names] = dummies\n",
    "    df.drop(col_name, axis=1, inplace=True)\n",
    "\n",
    "def process_campaign_clicks(df: pd.DataFrame) -> None:\n",
    "    df[\"log_campaign_clicks\"] = np.log(df[\"campaign_clicks\"] + 1)\n",
    "    df.drop(\"campaign_clicks\", axis=1, inplace=True)"
   ]
  },
  {
   "cell_type": "code",
   "execution_count": 20,
   "metadata": {},
   "outputs": [
    {
     "data": {
      "text/html": [
       "<div>\n",
       "<style scoped>\n",
       "    .dataframe tbody tr th:only-of-type {\n",
       "        vertical-align: middle;\n",
       "    }\n",
       "\n",
       "    .dataframe tbody tr th {\n",
       "        vertical-align: top;\n",
       "    }\n",
       "\n",
       "    .dataframe thead th {\n",
       "        text-align: right;\n",
       "    }\n",
       "</style>\n",
       "<table border=\"1\" class=\"dataframe\">\n",
       "  <thead>\n",
       "    <tr style=\"text-align: right;\">\n",
       "      <th></th>\n",
       "      <th>clicks</th>\n",
       "      <th>weekday</th>\n",
       "      <th>hour</th>\n",
       "      <th>os_id_0</th>\n",
       "      <th>os_id_1</th>\n",
       "      <th>os_id_2</th>\n",
       "      <th>os_id_3</th>\n",
       "      <th>os_id_4</th>\n",
       "      <th>os_id_5</th>\n",
       "      <th>os_id_6</th>\n",
       "      <th>...</th>\n",
       "      <th>country_id_8</th>\n",
       "      <th>country_id_9</th>\n",
       "      <th>country_id_10</th>\n",
       "      <th>country_id_11</th>\n",
       "      <th>country_id_12</th>\n",
       "      <th>country_id_13</th>\n",
       "      <th>country_id_14</th>\n",
       "      <th>country_id_15</th>\n",
       "      <th>country_id_16</th>\n",
       "      <th>log_campaign_clicks</th>\n",
       "    </tr>\n",
       "  </thead>\n",
       "  <tbody>\n",
       "    <tr>\n",
       "      <th>0</th>\n",
       "      <td>1</td>\n",
       "      <td>0</td>\n",
       "      <td>0</td>\n",
       "      <td>1</td>\n",
       "      <td>0</td>\n",
       "      <td>0</td>\n",
       "      <td>0</td>\n",
       "      <td>0</td>\n",
       "      <td>0</td>\n",
       "      <td>0</td>\n",
       "      <td>...</td>\n",
       "      <td>0</td>\n",
       "      <td>0</td>\n",
       "      <td>0</td>\n",
       "      <td>0</td>\n",
       "      <td>0</td>\n",
       "      <td>0</td>\n",
       "      <td>0</td>\n",
       "      <td>0</td>\n",
       "      <td>0</td>\n",
       "      <td>0.000000</td>\n",
       "    </tr>\n",
       "    <tr>\n",
       "      <th>1</th>\n",
       "      <td>1</td>\n",
       "      <td>6</td>\n",
       "      <td>22</td>\n",
       "      <td>1</td>\n",
       "      <td>0</td>\n",
       "      <td>0</td>\n",
       "      <td>0</td>\n",
       "      <td>0</td>\n",
       "      <td>0</td>\n",
       "      <td>0</td>\n",
       "      <td>...</td>\n",
       "      <td>0</td>\n",
       "      <td>0</td>\n",
       "      <td>0</td>\n",
       "      <td>0</td>\n",
       "      <td>0</td>\n",
       "      <td>0</td>\n",
       "      <td>0</td>\n",
       "      <td>0</td>\n",
       "      <td>0</td>\n",
       "      <td>0.000000</td>\n",
       "    </tr>\n",
       "    <tr>\n",
       "      <th>2</th>\n",
       "      <td>1</td>\n",
       "      <td>6</td>\n",
       "      <td>23</td>\n",
       "      <td>1</td>\n",
       "      <td>0</td>\n",
       "      <td>0</td>\n",
       "      <td>0</td>\n",
       "      <td>0</td>\n",
       "      <td>0</td>\n",
       "      <td>0</td>\n",
       "      <td>...</td>\n",
       "      <td>0</td>\n",
       "      <td>0</td>\n",
       "      <td>0</td>\n",
       "      <td>0</td>\n",
       "      <td>0</td>\n",
       "      <td>0</td>\n",
       "      <td>0</td>\n",
       "      <td>0</td>\n",
       "      <td>0</td>\n",
       "      <td>1.386294</td>\n",
       "    </tr>\n",
       "    <tr>\n",
       "      <th>3</th>\n",
       "      <td>1</td>\n",
       "      <td>0</td>\n",
       "      <td>0</td>\n",
       "      <td>0</td>\n",
       "      <td>1</td>\n",
       "      <td>0</td>\n",
       "      <td>0</td>\n",
       "      <td>0</td>\n",
       "      <td>0</td>\n",
       "      <td>0</td>\n",
       "      <td>...</td>\n",
       "      <td>0</td>\n",
       "      <td>0</td>\n",
       "      <td>0</td>\n",
       "      <td>0</td>\n",
       "      <td>0</td>\n",
       "      <td>0</td>\n",
       "      <td>0</td>\n",
       "      <td>0</td>\n",
       "      <td>0</td>\n",
       "      <td>0.000000</td>\n",
       "    </tr>\n",
       "    <tr>\n",
       "      <th>4</th>\n",
       "      <td>1</td>\n",
       "      <td>0</td>\n",
       "      <td>0</td>\n",
       "      <td>0</td>\n",
       "      <td>1</td>\n",
       "      <td>0</td>\n",
       "      <td>0</td>\n",
       "      <td>0</td>\n",
       "      <td>0</td>\n",
       "      <td>0</td>\n",
       "      <td>...</td>\n",
       "      <td>0</td>\n",
       "      <td>0</td>\n",
       "      <td>0</td>\n",
       "      <td>0</td>\n",
       "      <td>0</td>\n",
       "      <td>0</td>\n",
       "      <td>0</td>\n",
       "      <td>0</td>\n",
       "      <td>0</td>\n",
       "      <td>0.000000</td>\n",
       "    </tr>\n",
       "  </tbody>\n",
       "</table>\n",
       "<p>5 rows × 29 columns</p>\n",
       "</div>"
      ],
      "text/plain": [
       "   clicks  weekday  hour  os_id_0  os_id_1  os_id_2  os_id_3  os_id_4  \\\n",
       "0       1        0     0        1        0        0        0        0   \n",
       "1       1        6    22        1        0        0        0        0   \n",
       "2       1        6    23        1        0        0        0        0   \n",
       "3       1        0     0        0        1        0        0        0   \n",
       "4       1        0     0        0        1        0        0        0   \n",
       "\n",
       "   os_id_5  os_id_6  ...  country_id_8  country_id_9  country_id_10  \\\n",
       "0        0        0  ...             0             0              0   \n",
       "1        0        0  ...             0             0              0   \n",
       "2        0        0  ...             0             0              0   \n",
       "3        0        0  ...             0             0              0   \n",
       "4        0        0  ...             0             0              0   \n",
       "\n",
       "   country_id_11  country_id_12  country_id_13  country_id_14  country_id_15  \\\n",
       "0              0              0              0              0              0   \n",
       "1              0              0              0              0              0   \n",
       "2              0              0              0              0              0   \n",
       "3              0              0              0              0              0   \n",
       "4              0              0              0              0              0   \n",
       "\n",
       "   country_id_16  log_campaign_clicks  \n",
       "0              0             0.000000  \n",
       "1              0             0.000000  \n",
       "2              0             1.386294  \n",
       "3              0             0.000000  \n",
       "4              0             0.000000  \n",
       "\n",
       "[5 rows x 29 columns]"
      ]
     },
     "execution_count": 20,
     "metadata": {},
     "output_type": "execute_result"
    }
   ],
   "source": [
    "df_p = process_data(df)\n",
    "df_p.head()"
   ]
  },
  {
   "cell_type": "code",
   "execution_count": 21,
   "metadata": {},
   "outputs": [
    {
     "data": {
      "text/html": [
       "<div>\n",
       "<style scoped>\n",
       "    .dataframe tbody tr th:only-of-type {\n",
       "        vertical-align: middle;\n",
       "    }\n",
       "\n",
       "    .dataframe tbody tr th {\n",
       "        vertical-align: top;\n",
       "    }\n",
       "\n",
       "    .dataframe thead th {\n",
       "        text-align: right;\n",
       "    }\n",
       "</style>\n",
       "<table border=\"1\" class=\"dataframe\">\n",
       "  <thead>\n",
       "    <tr style=\"text-align: right;\">\n",
       "      <th></th>\n",
       "      <th>clicks</th>\n",
       "      <th>weekday</th>\n",
       "      <th>hour</th>\n",
       "      <th>os_id_0</th>\n",
       "      <th>os_id_1</th>\n",
       "      <th>os_id_2</th>\n",
       "      <th>os_id_3</th>\n",
       "      <th>os_id_4</th>\n",
       "      <th>os_id_5</th>\n",
       "      <th>os_id_6</th>\n",
       "      <th>...</th>\n",
       "      <th>country_id_8</th>\n",
       "      <th>country_id_9</th>\n",
       "      <th>country_id_10</th>\n",
       "      <th>country_id_11</th>\n",
       "      <th>country_id_12</th>\n",
       "      <th>country_id_13</th>\n",
       "      <th>country_id_14</th>\n",
       "      <th>country_id_15</th>\n",
       "      <th>country_id_16</th>\n",
       "      <th>log_campaign_clicks</th>\n",
       "    </tr>\n",
       "  </thead>\n",
       "  <tbody>\n",
       "    <tr>\n",
       "      <th>164</th>\n",
       "      <td>1</td>\n",
       "      <td>5</td>\n",
       "      <td>0</td>\n",
       "      <td>0</td>\n",
       "      <td>1</td>\n",
       "      <td>0</td>\n",
       "      <td>0</td>\n",
       "      <td>0</td>\n",
       "      <td>0</td>\n",
       "      <td>0</td>\n",
       "      <td>...</td>\n",
       "      <td>0</td>\n",
       "      <td>0</td>\n",
       "      <td>0</td>\n",
       "      <td>0</td>\n",
       "      <td>0</td>\n",
       "      <td>0</td>\n",
       "      <td>0</td>\n",
       "      <td>0</td>\n",
       "      <td>0</td>\n",
       "      <td>0.0</td>\n",
       "    </tr>\n",
       "    <tr>\n",
       "      <th>166</th>\n",
       "      <td>1</td>\n",
       "      <td>5</td>\n",
       "      <td>0</td>\n",
       "      <td>0</td>\n",
       "      <td>0</td>\n",
       "      <td>0</td>\n",
       "      <td>0</td>\n",
       "      <td>0</td>\n",
       "      <td>0</td>\n",
       "      <td>1</td>\n",
       "      <td>...</td>\n",
       "      <td>0</td>\n",
       "      <td>0</td>\n",
       "      <td>0</td>\n",
       "      <td>0</td>\n",
       "      <td>0</td>\n",
       "      <td>0</td>\n",
       "      <td>0</td>\n",
       "      <td>0</td>\n",
       "      <td>0</td>\n",
       "      <td>0.0</td>\n",
       "    </tr>\n",
       "    <tr>\n",
       "      <th>168</th>\n",
       "      <td>1</td>\n",
       "      <td>5</td>\n",
       "      <td>0</td>\n",
       "      <td>0</td>\n",
       "      <td>0</td>\n",
       "      <td>1</td>\n",
       "      <td>0</td>\n",
       "      <td>0</td>\n",
       "      <td>0</td>\n",
       "      <td>0</td>\n",
       "      <td>...</td>\n",
       "      <td>0</td>\n",
       "      <td>0</td>\n",
       "      <td>0</td>\n",
       "      <td>0</td>\n",
       "      <td>0</td>\n",
       "      <td>0</td>\n",
       "      <td>0</td>\n",
       "      <td>0</td>\n",
       "      <td>0</td>\n",
       "      <td>0.0</td>\n",
       "    </tr>\n",
       "    <tr>\n",
       "      <th>169</th>\n",
       "      <td>1</td>\n",
       "      <td>5</td>\n",
       "      <td>0</td>\n",
       "      <td>1</td>\n",
       "      <td>0</td>\n",
       "      <td>0</td>\n",
       "      <td>0</td>\n",
       "      <td>0</td>\n",
       "      <td>0</td>\n",
       "      <td>0</td>\n",
       "      <td>...</td>\n",
       "      <td>0</td>\n",
       "      <td>0</td>\n",
       "      <td>0</td>\n",
       "      <td>0</td>\n",
       "      <td>0</td>\n",
       "      <td>0</td>\n",
       "      <td>0</td>\n",
       "      <td>0</td>\n",
       "      <td>0</td>\n",
       "      <td>0.0</td>\n",
       "    </tr>\n",
       "    <tr>\n",
       "      <th>359</th>\n",
       "      <td>1</td>\n",
       "      <td>5</td>\n",
       "      <td>0</td>\n",
       "      <td>1</td>\n",
       "      <td>0</td>\n",
       "      <td>0</td>\n",
       "      <td>0</td>\n",
       "      <td>0</td>\n",
       "      <td>0</td>\n",
       "      <td>0</td>\n",
       "      <td>...</td>\n",
       "      <td>0</td>\n",
       "      <td>0</td>\n",
       "      <td>0</td>\n",
       "      <td>0</td>\n",
       "      <td>0</td>\n",
       "      <td>0</td>\n",
       "      <td>0</td>\n",
       "      <td>0</td>\n",
       "      <td>0</td>\n",
       "      <td>0.0</td>\n",
       "    </tr>\n",
       "  </tbody>\n",
       "</table>\n",
       "<p>5 rows × 29 columns</p>\n",
       "</div>"
      ],
      "text/plain": [
       "     clicks  weekday  hour  os_id_0  os_id_1  os_id_2  os_id_3  os_id_4  \\\n",
       "164       1        5     0        0        1        0        0        0   \n",
       "166       1        5     0        0        0        0        0        0   \n",
       "168       1        5     0        0        0        1        0        0   \n",
       "169       1        5     0        1        0        0        0        0   \n",
       "359       1        5     0        1        0        0        0        0   \n",
       "\n",
       "     os_id_5  os_id_6  ...  country_id_8  country_id_9  country_id_10  \\\n",
       "164        0        0  ...             0             0              0   \n",
       "166        0        1  ...             0             0              0   \n",
       "168        0        0  ...             0             0              0   \n",
       "169        0        0  ...             0             0              0   \n",
       "359        0        0  ...             0             0              0   \n",
       "\n",
       "     country_id_11  country_id_12  country_id_13  country_id_14  \\\n",
       "164              0              0              0              0   \n",
       "166              0              0              0              0   \n",
       "168              0              0              0              0   \n",
       "169              0              0              0              0   \n",
       "359              0              0              0              0   \n",
       "\n",
       "     country_id_15  country_id_16  log_campaign_clicks  \n",
       "164              0              0                  0.0  \n",
       "166              0              0                  0.0  \n",
       "168              0              0                  0.0  \n",
       "169              0              0                  0.0  \n",
       "359              0              0                  0.0  \n",
       "\n",
       "[5 rows x 29 columns]"
      ]
     },
     "execution_count": 21,
     "metadata": {},
     "output_type": "execute_result"
    }
   ],
   "source": [
    "df_test_p = process_data(df_test)\n",
    "df_test_p.head()"
   ]
  },
  {
   "cell_type": "markdown",
   "metadata": {},
   "source": [
    "## Линейная модель"
   ]
  },
  {
   "cell_type": "code",
   "execution_count": 25,
   "metadata": {},
   "outputs": [
    {
     "name": "stderr",
     "output_type": "stream",
     "text": [
      "5it [01:06, 13.29s/it]\n",
      "0it [00:00, ?it/s]"
     ]
    },
    {
     "name": "stdout",
     "output_type": "stream",
     "text": [
      "C = 1.00e-04, train_loss = 1.16e-01, val_loss = 1.20e-01\n"
     ]
    },
    {
     "name": "stderr",
     "output_type": "stream",
     "text": [
      "5it [01:20, 16.17s/it]\n",
      "0it [00:00, ?it/s]"
     ]
    },
    {
     "name": "stdout",
     "output_type": "stream",
     "text": [
      "C = 3.98e-03, train_loss = 1.15e-01, val_loss = 1.21e-01\n"
     ]
    },
    {
     "name": "stderr",
     "output_type": "stream",
     "text": [
      "5it [01:29, 17.82s/it]\n",
      "0it [00:00, ?it/s]"
     ]
    },
    {
     "name": "stdout",
     "output_type": "stream",
     "text": [
      "C = 1.58e-01, train_loss = 1.15e-01, val_loss = 1.21e-01\n"
     ]
    },
    {
     "name": "stderr",
     "output_type": "stream",
     "text": [
      "5it [01:30, 18.12s/it]\n",
      "0it [00:00, ?it/s]"
     ]
    },
    {
     "name": "stdout",
     "output_type": "stream",
     "text": [
      "C = 6.31e+00, train_loss = 1.15e-01, val_loss = 1.21e-01\n"
     ]
    },
    {
     "name": "stderr",
     "output_type": "stream",
     "text": [
      "5it [01:33, 18.65s/it]\n",
      "0it [00:00, ?it/s]"
     ]
    },
    {
     "name": "stdout",
     "output_type": "stream",
     "text": [
      "C = 2.51e+02, train_loss = 1.15e-01, val_loss = 1.21e-01\n"
     ]
    },
    {
     "name": "stderr",
     "output_type": "stream",
     "text": [
      "5it [01:34, 18.90s/it]"
     ]
    },
    {
     "name": "stdout",
     "output_type": "stream",
     "text": [
      "C = 1.00e+04, train_loss = 1.15e-01, val_loss = 1.21e-01\n"
     ]
    },
    {
     "name": "stderr",
     "output_type": "stream",
     "text": [
      "\n"
     ]
    }
   ],
   "source": [
    "N_SPLITS = 5\n",
    "N_C = 6\n",
    "X = df_p.drop(\"clicks\", axis=1).to_numpy()\n",
    "y = df_p[\"clicks\"].to_numpy()\n",
    "\n",
    "skf = StratifiedKFold(N_SPLITS)\n",
    "c_vals = np.logspace(-4, 4, N_C)\n",
    "train_losses = np.zeros((N_C, N_SPLITS))\n",
    "val_losses = np.zeros_like(train_losses)\n",
    "\n",
    "for i, ci in enumerate(c_vals):\n",
    "    model = LogisticRegression(solver=\"liblinear\", C=ci)\n",
    "\n",
    "    for j, (train_index, val_index) in tqdm(enumerate(skf.split(X, y))):\n",
    "        model.fit(X[train_index], y[train_index])\n",
    "\n",
    "        pred_train = model.predict_proba(X[train_index])[:, 1]\n",
    "        train_loss = log_loss(y[train_index], pred_train)\n",
    "        pred_val = model.predict_proba(X[val_index])[:, 1]\n",
    "        val_loss = log_loss(y[val_index], pred_val)\n",
    "\n",
    "        train_losses[i, j] = train_loss\n",
    "        val_losses[i, j] = val_loss\n",
    "\n",
    "    print(f\"C = {ci:.2e}, train_loss = {train_losses[i].mean():.2e}, \" +\n",
    "          f\"val_loss = {val_losses[i].mean():.2e}\")"
   ]
  },
  {
   "cell_type": "code",
   "execution_count": 26,
   "metadata": {},
   "outputs": [
    {
     "data": {
      "text/plain": [
       "array([0.02309828, 0.04068747, 0.03465127, ..., 0.00962696, 0.02429376,\n",
       "       0.02452088])"
      ]
     },
     "execution_count": 26,
     "metadata": {},
     "output_type": "execute_result"
    }
   ],
   "source": [
    "model = LogisticRegression(solver=\"liblinear\", C=10.0)\n",
    "model.fit(X, y)\n",
    "pred_train = model.predict_proba(X)[:, 1]\n",
    "pred_train"
   ]
  },
  {
   "cell_type": "code",
   "execution_count": 27,
   "metadata": {},
   "outputs": [
    {
     "data": {
      "text/plain": [
       "0.1153117297944636"
      ]
     },
     "execution_count": 27,
     "metadata": {},
     "output_type": "execute_result"
    }
   ],
   "source": [
    "log_loss(y, pred_train)"
   ]
  },
  {
   "cell_type": "code",
   "execution_count": 28,
   "metadata": {},
   "outputs": [
    {
     "data": {
      "text/plain": [
       "0.025334099105685202"
      ]
     },
     "execution_count": 28,
     "metadata": {},
     "output_type": "execute_result"
    }
   ],
   "source": [
    "avg_clicks = y.mean()\n",
    "avg_clicks"
   ]
  },
  {
   "cell_type": "code",
   "execution_count": 33,
   "metadata": {},
   "outputs": [
    {
     "data": {
      "text/plain": [
       "0.11812856199302779"
      ]
     },
     "execution_count": 33,
     "metadata": {},
     "output_type": "execute_result"
    }
   ],
   "source": [
    "log_loss(y, np.full(y.shape, avg_clicks))"
   ]
  },
  {
   "cell_type": "code",
   "execution_count": 34,
   "metadata": {},
   "outputs": [
    {
     "data": {
      "text/plain": [
       "0.1481009387237664"
      ]
     },
     "execution_count": 34,
     "metadata": {},
     "output_type": "execute_result"
    }
   ],
   "source": [
    "X_test = df_test_p.drop(\"clicks\", axis=1).to_numpy()\n",
    "y_test = df_test_p[\"clicks\"].to_numpy()\n",
    "pred_test = model.predict_proba(X_test)[:, 1]\n",
    "log_loss(y_test, pred_test)"
   ]
  },
  {
   "cell_type": "code",
   "execution_count": 35,
   "metadata": {},
   "outputs": [
    {
     "data": {
      "text/plain": [
       "0.15486198009919555"
      ]
     },
     "execution_count": 35,
     "metadata": {},
     "output_type": "execute_result"
    }
   ],
   "source": [
    "log_loss(y_test, np.full(y_test.shape, avg_clicks))"
   ]
  },
  {
   "cell_type": "code",
   "execution_count": null,
   "metadata": {},
   "outputs": [],
   "source": []
  }
 ],
 "metadata": {
  "kernelspec": {
   "display_name": "Python 3.10.6 64-bit",
   "language": "python",
   "name": "python3"
  },
  "language_info": {
   "codemirror_mode": {
    "name": "ipython",
    "version": 3
   },
   "file_extension": ".py",
   "mimetype": "text/x-python",
   "name": "python",
   "nbconvert_exporter": "python",
   "pygments_lexer": "ipython3",
   "version": "3.10.6"
  },
  "vscode": {
   "interpreter": {
    "hash": "916dbcbb3f70747c44a77c7bcd40155683ae19c65e1c03b4aa3499c5328201f1"
   }
  }
 },
 "nbformat": 4,
 "nbformat_minor": 0
}
