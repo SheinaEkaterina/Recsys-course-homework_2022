{
 "cells": [
  {
   "cell_type": "markdown",
   "source": [
    "# RecSys. HW 1.\n",
    "## Предсказание вероятности клика с помощью линейной модели"
   ],
   "metadata": {
    "collapsed": false
   }
  },
  {
   "cell_type": "code",
   "execution_count": 1,
   "outputs": [],
   "source": [
    "import pandas as pd\n",
    "import numpy as np\n",
    "import matplotlib.pyplot as plt\n",
    "from sklearn.preprocessing import OneHotEncoder"
   ],
   "metadata": {
    "collapsed": false
   }
  },
  {
   "cell_type": "markdown",
   "source": [
    "Признаки:\n",
    "+ date_time - время показа рекламы\n",
    "+ zone_id - id зоны, где зона - место на сайте для размещения рекламы\n",
    "+ banner_id - id баннера, где баннер - сама реклама\n",
    "+ campaign_clicks - общее количество показов данной кампании (которой соотвествует баннер) данному юзеру, произошедшие до текущего показа. Кампанию стоит понимать как что-то общее (рекламодатель/тематика/ и т. п.) для баннеров.\n",
    "+ os_id - id операционной системы\n",
    "+ country_id - id страны\n",
    "+ impressions - был ли показ\n",
    "+ clicks - был ли клик"
   ],
   "metadata": {
    "collapsed": false
   }
  },
  {
   "cell_type": "code",
   "execution_count": 2,
   "outputs": [
    {
     "data": {
      "text/plain": "                    date_time  zone_id  banner_id  campaign_clicks  os_id  \\\n0  2021-09-27 00:01:30.000000        0          0                0      0   \n1  2021-09-26 22:54:49.000000        1          1                0      0   \n2  2021-09-26 23:57:20.000000        2          2                3      0   \n3  2021-09-27 00:04:30.000000        3          3                0      1   \n4  2021-09-27 00:06:21.000000        4          4                0      1   \n\n   country_id  impressions  clicks  \n0           0            1       1  \n1           1            1       1  \n2           0            1       1  \n3           1            1       1  \n4           0            1       1  ",
      "text/html": "<div>\n<style scoped>\n    .dataframe tbody tr th:only-of-type {\n        vertical-align: middle;\n    }\n\n    .dataframe tbody tr th {\n        vertical-align: top;\n    }\n\n    .dataframe thead th {\n        text-align: right;\n    }\n</style>\n<table border=\"1\" class=\"dataframe\">\n  <thead>\n    <tr style=\"text-align: right;\">\n      <th></th>\n      <th>date_time</th>\n      <th>zone_id</th>\n      <th>banner_id</th>\n      <th>campaign_clicks</th>\n      <th>os_id</th>\n      <th>country_id</th>\n      <th>impressions</th>\n      <th>clicks</th>\n    </tr>\n  </thead>\n  <tbody>\n    <tr>\n      <th>0</th>\n      <td>2021-09-27 00:01:30.000000</td>\n      <td>0</td>\n      <td>0</td>\n      <td>0</td>\n      <td>0</td>\n      <td>0</td>\n      <td>1</td>\n      <td>1</td>\n    </tr>\n    <tr>\n      <th>1</th>\n      <td>2021-09-26 22:54:49.000000</td>\n      <td>1</td>\n      <td>1</td>\n      <td>0</td>\n      <td>0</td>\n      <td>1</td>\n      <td>1</td>\n      <td>1</td>\n    </tr>\n    <tr>\n      <th>2</th>\n      <td>2021-09-26 23:57:20.000000</td>\n      <td>2</td>\n      <td>2</td>\n      <td>3</td>\n      <td>0</td>\n      <td>0</td>\n      <td>1</td>\n      <td>1</td>\n    </tr>\n    <tr>\n      <th>3</th>\n      <td>2021-09-27 00:04:30.000000</td>\n      <td>3</td>\n      <td>3</td>\n      <td>0</td>\n      <td>1</td>\n      <td>1</td>\n      <td>1</td>\n      <td>1</td>\n    </tr>\n    <tr>\n      <th>4</th>\n      <td>2021-09-27 00:06:21.000000</td>\n      <td>4</td>\n      <td>4</td>\n      <td>0</td>\n      <td>1</td>\n      <td>0</td>\n      <td>1</td>\n      <td>1</td>\n    </tr>\n  </tbody>\n</table>\n</div>"
     },
     "execution_count": 2,
     "metadata": {},
     "output_type": "execute_result"
    }
   ],
   "source": [
    "data = pd.read_csv('../data/data.csv')\n",
    "# сразу удаляем ненужные колонки\n",
    "data = data.drop([\"oaid_hash\", \"banner_id0\", \"banner_id1\", \"rate0\", \"rate1\", \"g0\", \"g1\", \"coeff_sum0\", \"coeff_sum1\"], axis=1)\n",
    "data.head()"
   ],
   "metadata": {
    "collapsed": false
   }
  },
  {
   "cell_type": "code",
   "execution_count": 3,
   "outputs": [],
   "source": [
    "def analysis(data: pd.DataFrame):\n",
    "    data = data.copy()\n",
    "    data['date_time'] = pd.to_datetime(data['date_time'])\n",
    "    data['month'] = data['date_time'].dt.month\n",
    "    data['day_of_week'] = data['date_time'].dt.dayofweek\n",
    "    data['hour'] = data['date_time'].dt.hour\n",
    "    data['date'] = data['date_time'].dt.date\n",
    "    train = data[data['date'] < pd.to_datetime('2021-10-02')]\n",
    "    test = data[data['date'] == pd.to_datetime('2021-10-02')]\n",
    "    print(f\"Train size: {np.sum(data['date'] != max(data['date']))}, Test size: {np.sum(data['date'] == max(data['date']))}\")\n",
    "    print(f\"Clicks distribution: count(click=0)={np.sum(data['clicks']==0)}, count(click=1)={np.sum(data['clicks']==1)}\")\n",
    "    print(f\"All banner_ids from test are contained in train as well: {len(set(test['banner_id']) and set(train['banner_id'])) == max(len(set(train['banner_id'])), len(set(test['banner_id'])))}\")\n",
    "    print(f\"All zone_ids from test are contained in train as well: {len(set(test['zone_id']) and set(train['zone_id'])) == max(len(set(train['zone_id'])), len(set(test['zone_id'])))}\")\n",
    "    print(f\"Number of NAs: {data.isna().sum().sum()}\")\n",
    "    print(f\"Number of unique zones: {data['zone_id'].nunique()}\")\n",
    "    print(f\"Number of unique banners: {data['banner_id'].nunique()}\")\n",
    "    print(f\"Number of unique os: {data['os_id'].nunique()}\")\n",
    "    print(f\"Number of unique countries: {data['country_id'].nunique()}\")\n",
    "    print()\n",
    "    print(f\"Number of unique impressions: {data['impressions'].nunique()}\")\n",
    "\n",
    "    plt.hist(data['campaign_clicks'], bins=100)\n",
    "    plt.title(\"Campaign clicks distribution, usual scale\")\n",
    "    plt.show()\n",
    "\n",
    "    plt.hist(data['campaign_clicks'], bins=100, log=True)\n",
    "    plt.title(\"Campaign clicks distribution, log scale\")\n",
    "    plt.show()\n",
    "\n",
    "    print(data['date'].value_counts())\n",
    "    ax = data['hour'].value_counts().plot(kind='bar',\n",
    "                                    title=\"Hours distribution\")\n",
    "    plt.show()\n",
    "\n",
    "    ax = data['day_of_week'].value_counts().plot(kind='bar',\n",
    "                                    title=\"Day of week distribution\")\n",
    "    plt.show()\n",
    "\n",
    "    ax = data['month'].value_counts().plot(kind='bar',\n",
    "                                    title=\"Month distribution\")\n",
    "    plt.show()\n"
   ],
   "metadata": {
    "collapsed": false
   }
  },
  {
   "cell_type": "code",
   "execution_count": 4,
   "outputs": [
    {
     "name": "stderr",
     "output_type": "stream",
     "text": [
      "/usr/local/lib/python3.8/dist-packages/pandas/core/ops/array_ops.py:73: FutureWarning: Comparison of Timestamp with datetime.date is deprecated in order to match the standard library behavior. In a future version these will be considered non-comparable. Use 'ts == pd.Timestamp(date)' or 'ts.date() == date' instead.\n",
      "  result = libops.scalar_compare(x.ravel(), y, op)\n"
     ]
    },
    {
     "name": "stdout",
     "output_type": "stream",
     "text": [
      "Train size: 13692494, Test size: 2128978\n",
      "Clicks distribution: count(click=0)=15399223, count(click=1)=422249\n",
      "All banner_ids from test are contained in train as well: True\n",
      "All zone_ids from test are contained in train as well: True\n",
      "Number of NAs: 0\n",
      "Number of unique zones: 3444\n",
      "Number of unique banners: 1633\n",
      "Number of unique os: 11\n",
      "Number of unique countries: 17\n",
      "\n",
      "Number of unique impressions: 1\n"
     ]
    },
    {
     "data": {
      "text/plain": "<Figure size 432x288 with 1 Axes>",
      "image/png": "[encoded data removed]"
     },
     "metadata": {
      "needs_background": "light"
     },
     "output_type": "display_data"
    },
    {
     "data": {
      "text/plain": "<Figure size 432x288 with 1 Axes>",
      "image/png": "[encoded data removed]"
     },
     "metadata": {
      "needs_background": "light"
     },
     "output_type": "display_data"
    },
    {
     "name": "stdout",
     "output_type": "stream",
     "text": [
      "2021-09-26    3102610\n",
      "2021-09-29    2420588\n",
      "2021-09-27    2367303\n",
      "2021-09-28    2307355\n",
      "2021-10-02    2128978\n",
      "2021-09-30    1851189\n",
      "2021-10-01    1643448\n",
      "2021-09-01          1\n",
      "Name: date, dtype: int64\n"
     ]
    },
    {
     "data": {
      "text/plain": "<Figure size 432x288 with 1 Axes>",
      "image/png": "[encoded data removed]"
     },
     "metadata": {
      "needs_background": "light"
     },
     "output_type": "display_data"
    },
    {
     "data": {
      "text/plain": "<Figure size 432x288 with 1 Axes>",
      "image/png": "[encoded data removed]"
     },
     "metadata": {
      "needs_background": "light"
     },
     "output_type": "display_data"
    },
    {
     "data": {
      "text/plain": "<Figure size 432x288 with 1 Axes>",
      "image/png": "[encoded data removed]"
     },
     "metadata": {
      "needs_background": "light"
     },
     "output_type": "display_data"
    }
   ],
   "source": [
    "analysis(data)"
   ],
   "metadata": {
    "collapsed": false
   }
  },
  {
   "cell_type": "markdown",
   "source": [
    "**Небольшие выводы по анализу**\n",
    "\n",
    "1. нет NAs\n",
    "2. Все баннеры и зоны показа последнего дня имеются в данных предыдущих дней, так что чисто в теории их можно использовать (хотя кол-во переменных, закодированных с помощью one-hot-encoding) будет возможно слишком большим)\n",
    "3. Из колонки date_time, кажется, есть смысл взять лишь час и, возможно, день недели. В данных по факту представлена лишь одна неделя.\n",
    "4. Колонка impressions полностью состоит из единиц, что логично, поэтому удалим ее.\n",
    "5. Колонка campaign_clicks может быть полезной, но возможно лучше использовать ее логарифм, так как существует слишком много маленьких значений и лишь единицы больших, из-за чего она очень перекошена."
   ],
   "metadata": {
    "collapsed": false
   }
  },
  {
   "cell_type": "code",
   "execution_count": 5,
   "outputs": [],
   "source": [
    "from scipy.sparse import hstack\n",
    "\n",
    "def feature_engineering(data: pd.DataFrame):\n",
    "    data = data.copy()\n",
    "    # создаем колонки час и день недели\n",
    "    data['date_time'] = pd.to_datetime(data['date_time'])\n",
    "    data['day_of_week'] = data['date_time'].dt.dayofweek\n",
    "    data['hour'] = data['date_time'].dt.hour\n",
    "    data['date'] = data['date_time'].dt.date\n",
    "    # логарифмируем колонку campaign_clicks\n",
    "    data['campaign_clicks'] = np.log(data['campaign_clicks']+0.001)\n",
    "    # эти колонки будем использовать для обучения (кроме date и clicks)\n",
    "    data = data[['day_of_week', 'hour', 'os_id', 'country_id', 'zone_id', 'banner_id', 'campaign_clicks', 'date', 'clicks']]\n",
    "    # делим на train и test\n",
    "    train = data[data['date'] < pd.to_datetime('2021-10-02')]\n",
    "    test = data[data['date'] == pd.to_datetime('2021-10-02')]\n",
    "    # лейблы\n",
    "    y_train = np.array(train['clicks'])\n",
    "    y_test = np.array(test['clicks'])\n",
    "    train = train.drop(['date', \"clicks\"], axis=1)\n",
    "    test = test.drop(['date', \"clicks\"], axis=1)\n",
    "    # закодируем все фичи с помощью one-hot-encoding, кроме campaign_clicks\n",
    "    enc = OneHotEncoder(drop='first', handle_unknown='ignore', sparse=True)\n",
    "    X_train = enc.fit_transform(train.drop(['campaign_clicks'], axis=1))\n",
    "    X_test = enc.transform(test.drop(['campaign_clicks'], axis=1))\n",
    "\n",
    "    X_train = hstack([X_train, np.array(train['campaign_clicks']).reshape(-1, 1)])\n",
    "    X_test = hstack([X_test, np.array(test['campaign_clicks']).reshape(-1, 1)])\n",
    "\n",
    "    return X_train, X_test, y_train, y_test"
   ],
   "metadata": {
    "collapsed": false
   }
  },
  {
   "cell_type": "raw",
   "source": [
    "# data_test1 = data[pd.to_datetime(data['date_time']) < pd.to_datetime('2021-10-02')].iloc[:200]\n",
    "# data_test2 = data[pd.to_datetime(data['date_time']) >= pd.to_datetime('2021-10-02')].iloc[:200]\n",
    "#\n",
    "# data_test = pd.concat([data_test1, data_test2])\n",
    "# data_test.shape"
   ],
   "metadata": {
    "collapsed": false
   }
  },
  {
   "cell_type": "code",
   "execution_count": 6,
   "outputs": [
    {
     "name": "stderr",
     "output_type": "stream",
     "text": [
      "/usr/local/lib/python3.8/dist-packages/pandas/core/ops/array_ops.py:73: FutureWarning: Comparison of Timestamp with datetime.date is deprecated in order to match the standard library behavior. In a future version these will be considered non-comparable. Use 'ts == pd.Timestamp(date)' or 'ts.date() == date' instead.\n",
      "  result = libops.scalar_compare(x.ravel(), y, op)\n",
      "/usr/local/lib/python3.8/dist-packages/sklearn/preprocessing/_encoders.py:188: UserWarning: Found unknown categories in columns [0, 4, 5] during transform. These unknown categories will be encoded as all zeros\n",
      "  warnings.warn(\n"
     ]
    },
    {
     "name": "stdout",
     "output_type": "stream",
     "text": [
      "(13692494, 4969) (2128978, 4969) (13692494,) (2128978,)\n"
     ]
    }
   ],
   "source": [
    "X_train, X_test, y_train, y_test = feature_engineering(data)\n",
    "print(X_train.shape, X_test.shape, y_train.shape, y_test.shape)"
   ],
   "metadata": {
    "collapsed": false
   }
  },
  {
   "cell_type": "markdown",
   "source": [
    "Итого были взяты следующие признаки: 'day_of_week', 'hour', 'os_id', 'country_id', 'zone_id', 'banner_id', 'campaign_clicks'. Все, кроме последнего, трансформируются с помощью one-hot encoding.\n",
    "\n",
    "Буду обучать логистическую регрессию. С помощью кросс-валидации буду подбирать параметр C и вид регуляризации (l1, l2). В качестве оптимизатора используется liblinear."
   ],
   "metadata": {
    "collapsed": false
   }
  },
  {
   "cell_type": "code",
   "execution_count": 7,
   "outputs": [],
   "source": [
    "from sklearn.linear_model import LogisticRegression\n",
    "\n",
    "def create_model(**args):\n",
    "    model = LogisticRegression(solver='liblinear',\n",
    "                               random_state=10,\n",
    "                               **args)\n",
    "    return model"
   ],
   "metadata": {
    "collapsed": false
   }
  },
  {
   "cell_type": "code",
   "execution_count": 8,
   "outputs": [],
   "source": [
    "from sklearn.model_selection import cross_validate\n",
    "\n",
    "def cv(X_train, y_train):\n",
    "    np.random.seed(10)\n",
    "    results = []\n",
    "    Cs = [0.0001, 0.001, 0.01, 0.1, 1]\n",
    "    l1s = ['l1', 'l2']\n",
    "\n",
    "    for C in Cs:\n",
    "        for l1 in l1s:\n",
    "            print(f'C={C}, penalty={l1}')\n",
    "            params = {'C': C, 'penalty': l1}\n",
    "            model = create_model(**params)\n",
    "            res = cross_validate(model, X_train, y_train, scoring='neg_log_loss', cv=3)\n",
    "            results.append([C, l1, np.mean(res['test_score'])])\n",
    "\n",
    "    return results"
   ],
   "metadata": {
    "collapsed": false
   }
  },
  {
   "cell_type": "code",
   "execution_count": 9,
   "outputs": [
    {
     "name": "stdout",
     "output_type": "stream",
     "text": [
      "C=0.0001, penalty=l1\n",
      "C=0.0001, penalty=l2\n",
      "C=0.001, penalty=l1\n",
      "C=0.001, penalty=l2\n",
      "C=0.01, penalty=l1\n",
      "C=0.01, penalty=l2\n",
      "C=0.1, penalty=l1\n",
      "C=0.1, penalty=l2\n",
      "C=1, penalty=l1\n",
      "C=1, penalty=l2\n"
     ]
    }
   ],
   "source": [
    "cv_results = cv(X_train, y_train)"
   ],
   "metadata": {
    "collapsed": false
   }
  },
  {
   "cell_type": "markdown",
   "source": [
    "Обучаем итоговую модель с подобранными параметрами (выбираем лучшие по значению отрицательного log loss), сравниваем с бейзлайном"
   ],
   "metadata": {
    "collapsed": false
   }
  },
  {
   "cell_type": "code",
   "execution_count": 10,
   "outputs": [
    {
     "name": "stdout",
     "output_type": "stream",
     "text": [
      "Best params: C=1, penalty=l1\n"
     ]
    },
    {
     "data": {
      "text/plain": "LogisticRegression(penalty='l1', random_state=10, solver='liblinear')",
      "text/html": "<style>#sk-container-id-1 {color: black;background-color: white;}#sk-container-id-1 pre{padding: 0;}#sk-container-id-1 div.sk-toggleable {background-color: white;}#sk-container-id-1 label.sk-toggleable__label {cursor: pointer;display: block;width: 100%;margin-bottom: 0;padding: 0.3em;box-sizing: border-box;text-align: center;}#sk-container-id-1 label.sk-toggleable__label-arrow:before {content: \"▸\";float: left;margin-right: 0.25em;color: #696969;}#sk-container-id-1 label.sk-toggleable__label-arrow:hover:before {color: black;}#sk-container-id-1 div.sk-estimator:hover label.sk-toggleable__label-arrow:before {color: black;}#sk-container-id-1 div.sk-toggleable__content {max-height: 0;max-width: 0;overflow: hidden;text-align: left;background-color: #f0f8ff;}#sk-container-id-1 div.sk-toggleable__content pre {margin: 0.2em;color: black;border-radius: 0.25em;background-color: #f0f8ff;}#sk-container-id-1 input.sk-toggleable__control:checked~div.sk-toggleable__content {max-height: 200px;max-width: 100%;overflow: auto;}#sk-container-id-1 input.sk-toggleable__control:checked~label.sk-toggleable__label-arrow:before {content: \"▾\";}#sk-container-id-1 div.sk-estimator input.sk-toggleable__control:checked~label.sk-toggleable__label {background-color: #d4ebff;}#sk-container-id-1 div.sk-label input.sk-toggleable__control:checked~label.sk-toggleable__label {background-color: #d4ebff;}#sk-container-id-1 input.sk-hidden--visually {border: 0;clip: rect(1px 1px 1px 1px);clip: rect(1px, 1px, 1px, 1px);height: 1px;margin: -1px;overflow: hidden;padding: 0;position: absolute;width: 1px;}#sk-container-id-1 div.sk-estimator {font-family: monospace;background-color: #f0f8ff;border: 1px dotted black;border-radius: 0.25em;box-sizing: border-box;margin-bottom: 0.5em;}#sk-container-id-1 div.sk-estimator:hover {background-color: #d4ebff;}#sk-container-id-1 div.sk-parallel-item::after {content: \"\";width: 100%;border-bottom: 1px solid gray;flex-grow: 1;}#sk-container-id-1 div.sk-label:hover label.sk-toggleable__label {background-color: #d4ebff;}#sk-container-id-1 div.sk-serial::before {content: \"\";position: absolute;border-left: 1px solid gray;box-sizing: border-box;top: 0;bottom: 0;left: 50%;z-index: 0;}#sk-container-id-1 div.sk-serial {display: flex;flex-direction: column;align-items: center;background-color: white;padding-right: 0.2em;padding-left: 0.2em;position: relative;}#sk-container-id-1 div.sk-item {position: relative;z-index: 1;}#sk-container-id-1 div.sk-parallel {display: flex;align-items: stretch;justify-content: center;background-color: white;position: relative;}#sk-container-id-1 div.sk-item::before, #sk-container-id-1 div.sk-parallel-item::before {content: \"\";position: absolute;border-left: 1px solid gray;box-sizing: border-box;top: 0;bottom: 0;left: 50%;z-index: -1;}#sk-container-id-1 div.sk-parallel-item {display: flex;flex-direction: column;z-index: 1;position: relative;background-color: white;}#sk-container-id-1 div.sk-parallel-item:first-child::after {align-self: flex-end;width: 50%;}#sk-container-id-1 div.sk-parallel-item:last-child::after {align-self: flex-start;width: 50%;}#sk-container-id-1 div.sk-parallel-item:only-child::after {width: 0;}#sk-container-id-1 div.sk-dashed-wrapped {border: 1px dashed gray;margin: 0 0.4em 0.5em 0.4em;box-sizing: border-box;padding-bottom: 0.4em;background-color: white;}#sk-container-id-1 div.sk-label label {font-family: monospace;font-weight: bold;display: inline-block;line-height: 1.2em;}#sk-container-id-1 div.sk-label-container {text-align: center;}#sk-container-id-1 div.sk-container {/* jupyter's `normalize.less` sets `[hidden] { display: none; }` but bootstrap.min.css set `[hidden] { display: none !important; }` so we also need the `!important` here to be able to override the default hidden behavior on the sphinx rendered scikit-learn.org. See: https://github.com/scikit-learn/scikit-learn/issues/21755 */display: inline-block !important;position: relative;}#sk-container-id-1 div.sk-text-repr-fallback {display: none;}</style><div id=\"sk-container-id-1\" class=\"sk-top-container\"><div class=\"sk-text-repr-fallback\"><pre>LogisticRegression(penalty=&#x27;l1&#x27;, random_state=10, solver=&#x27;liblinear&#x27;)</pre><b>In a Jupyter environment, please rerun this cell to show the HTML representation or trust the notebook. <br />On GitHub, the HTML representation is unable to render, please try loading this page with nbviewer.org.</b></div><div class=\"sk-container\" hidden><div class=\"sk-item\"><div class=\"sk-estimator sk-toggleable\"><input class=\"sk-toggleable__control sk-hidden--visually\" id=\"sk-estimator-id-1\" type=\"checkbox\" checked><label for=\"sk-estimator-id-1\" class=\"sk-toggleable__label sk-toggleable__label-arrow\">LogisticRegression</label><div class=\"sk-toggleable__content\"><pre>LogisticRegression(penalty=&#x27;l1&#x27;, random_state=10, solver=&#x27;liblinear&#x27;)</pre></div></div></div></div></div>"
     },
     "execution_count": 10,
     "metadata": {},
     "output_type": "execute_result"
    }
   ],
   "source": [
    "cv_results = np.array(cv_results)\n",
    "best_try = np.argmax(cv_results[:, 2])\n",
    "C, l1 = cv_results[best_try, 0], cv_results[best_try, 1]\n",
    "print(f'Best params: C={C}, penalty={l1}')\n",
    "params = {'C': float(C), 'penalty': l1}\n",
    "model = create_model(**params)\n",
    "model.fit(X_train, y_train)"
   ],
   "metadata": {
    "collapsed": false
   }
  },
  {
   "cell_type": "code",
   "execution_count": 11,
   "outputs": [],
   "source": [
    "from sklearn.metrics import log_loss, roc_auc_score\n",
    "\n",
    "def eval_prediction(y_pred, y_test):\n",
    "    loss = log_loss(y_test, y_pred)\n",
    "    roc_score = roc_auc_score(y_test, y_pred)\n",
    "    print(f\"Log loss: {loss}, roc-auc: {roc_score}\")"
   ],
   "metadata": {
    "collapsed": false
   }
  },
  {
   "cell_type": "markdown",
   "source": [
    "Результаты модели"
   ],
   "metadata": {
    "collapsed": false
   }
  },
  {
   "cell_type": "code",
   "execution_count": 12,
   "outputs": [
    {
     "name": "stdout",
     "output_type": "stream",
     "text": [
      "Log loss: 0.13470393222089588, roc-auc: 0.7788421085354904\n"
     ]
    }
   ],
   "source": [
    "preds = model.predict_proba(X_test)\n",
    "eval_prediction(preds[:, 1], y_test)"
   ],
   "metadata": {
    "collapsed": false
   }
  },
  {
   "cell_type": "markdown",
   "source": [
    "Бейзлайн"
   ],
   "metadata": {
    "collapsed": false
   }
  },
  {
   "cell_type": "code",
   "execution_count": 13,
   "outputs": [
    {
     "name": "stdout",
     "output_type": "stream",
     "text": [
      "Log loss: 0.15486198009919555, roc-auc: 0.5\n"
     ]
    }
   ],
   "source": [
    "train_mean = np.mean(y_train)\n",
    "preds_base = np.ones_like(y_test) * train_mean\n",
    "eval_prediction(preds_base, y_test)"
   ],
   "metadata": {
    "collapsed": false
   }
  },
  {
   "cell_type": "markdown",
   "source": [
    "Модель превзошла безйлайн."
   ],
   "metadata": {
    "collapsed": false
   }
  }
 ],
 "metadata": {
  "kernelspec": {
   "display_name": "Python 3",
   "language": "python",
   "name": "python3"
  },
  "language_info": {
   "codemirror_mode": {
    "name": "ipython",
    "version": 2
   },
   "file_extension": ".py",
   "mimetype": "text/x-python",
   "name": "python",
   "nbconvert_exporter": "python",
   "pygments_lexer": "ipython2",
   "version": "2.7.6"
  }
 },
 "nbformat": 4,
 "nbformat_minor": 0
}
