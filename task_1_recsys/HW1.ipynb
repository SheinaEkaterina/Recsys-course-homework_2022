{
 "cells": [
  {
   "cell_type": "code",
   "execution_count": 1,
   "metadata": {
    "id": "obnDKk_Jlvzx"
   },
   "outputs": [
    {
     "name": "stderr",
     "output_type": "stream",
     "text": [
      "<frozen importlib._bootstrap>:219: RuntimeWarning: scipy._lib.messagestream.MessageStream size changed, may indicate binary incompatibility. Expected 56 from C header, got 64 from PyObject\n"
     ]
    }
   ],
   "source": [
    "import pandas as pd\n",
    "import numpy as np\n",
    "import matplotlib.pyplot as plt\n",
    "\n",
    "from sklearn.linear_model import SGDClassifier\n",
    "from sklearn.model_selection import cross_validate"
   ]
  },
  {
   "cell_type": "code",
   "execution_count": 2,
   "metadata": {
    "id": "bHELhj4TpHL0"
   },
   "outputs": [],
   "source": [
    "plt.rcParams['figure.figsize'] = (10, 5)\n",
    "plt.rcParams['figure.dpi']= 150"
   ]
  },
  {
   "cell_type": "code",
   "execution_count": 46,
   "metadata": {
    "colab": {
     "base_uri": "https://localhost:8080/",
     "height": 357
    },
    "id": "PVti9siAlvzz",
    "outputId": "d8e10ae1-0a7c-40a4-e8ff-5006504f1f5d",
    "pycharm": {
     "name": "#%%\n"
    }
   },
   "outputs": [
    {
     "data": {
      "text/html": [
       "<div>\n",
       "<style scoped>\n",
       "    .dataframe tbody tr th:only-of-type {\n",
       "        vertical-align: middle;\n",
       "    }\n",
       "\n",
       "    .dataframe tbody tr th {\n",
       "        vertical-align: top;\n",
       "    }\n",
       "\n",
       "    .dataframe thead th {\n",
       "        text-align: right;\n",
       "    }\n",
       "</style>\n",
       "<table border=\"1\" class=\"dataframe\">\n",
       "  <thead>\n",
       "    <tr style=\"text-align: right;\">\n",
       "      <th></th>\n",
       "      <th>date_time</th>\n",
       "      <th>zone_id</th>\n",
       "      <th>banner_id</th>\n",
       "      <th>oaid_hash</th>\n",
       "      <th>campaign_clicks</th>\n",
       "      <th>os_id</th>\n",
       "      <th>country_id</th>\n",
       "      <th>banner_id0</th>\n",
       "      <th>rate0</th>\n",
       "      <th>g0</th>\n",
       "      <th>coeff_sum0</th>\n",
       "      <th>banner_id1</th>\n",
       "      <th>rate1</th>\n",
       "      <th>g1</th>\n",
       "      <th>coeff_sum1</th>\n",
       "      <th>impressions</th>\n",
       "      <th>clicks</th>\n",
       "    </tr>\n",
       "  </thead>\n",
       "  <tbody>\n",
       "    <tr>\n",
       "      <th>0</th>\n",
       "      <td>2021-09-27 00:01:30.000000</td>\n",
       "      <td>0</td>\n",
       "      <td>0</td>\n",
       "      <td>5664530014561852622</td>\n",
       "      <td>0</td>\n",
       "      <td>0</td>\n",
       "      <td>0</td>\n",
       "      <td>1240</td>\n",
       "      <td>0.067</td>\n",
       "      <td>0.035016</td>\n",
       "      <td>-7.268846</td>\n",
       "      <td>0</td>\n",
       "      <td>0.010</td>\n",
       "      <td>0.049516</td>\n",
       "      <td>-5.369901</td>\n",
       "      <td>1</td>\n",
       "      <td>1</td>\n",
       "    </tr>\n",
       "    <tr>\n",
       "      <th>1</th>\n",
       "      <td>2021-09-26 22:54:49.000000</td>\n",
       "      <td>1</td>\n",
       "      <td>1</td>\n",
       "      <td>5186611064559013950</td>\n",
       "      <td>0</td>\n",
       "      <td>0</td>\n",
       "      <td>1</td>\n",
       "      <td>1</td>\n",
       "      <td>0.002</td>\n",
       "      <td>0.054298</td>\n",
       "      <td>-2.657477</td>\n",
       "      <td>269</td>\n",
       "      <td>0.004</td>\n",
       "      <td>0.031942</td>\n",
       "      <td>-4.449220</td>\n",
       "      <td>1</td>\n",
       "      <td>1</td>\n",
       "    </tr>\n",
       "    <tr>\n",
       "      <th>2</th>\n",
       "      <td>2021-09-26 23:57:20.000000</td>\n",
       "      <td>2</td>\n",
       "      <td>2</td>\n",
       "      <td>2215519569292448030</td>\n",
       "      <td>3</td>\n",
       "      <td>0</td>\n",
       "      <td>0</td>\n",
       "      <td>2</td>\n",
       "      <td>0.014</td>\n",
       "      <td>0.014096</td>\n",
       "      <td>-3.824875</td>\n",
       "      <td>21</td>\n",
       "      <td>0.014</td>\n",
       "      <td>0.014906</td>\n",
       "      <td>-3.939309</td>\n",
       "      <td>1</td>\n",
       "      <td>1</td>\n",
       "    </tr>\n",
       "    <tr>\n",
       "      <th>3</th>\n",
       "      <td>2021-09-27 00:04:30.000000</td>\n",
       "      <td>3</td>\n",
       "      <td>3</td>\n",
       "      <td>6262169206735077204</td>\n",
       "      <td>0</td>\n",
       "      <td>1</td>\n",
       "      <td>1</td>\n",
       "      <td>3</td>\n",
       "      <td>0.012</td>\n",
       "      <td>0.015232</td>\n",
       "      <td>-3.461357</td>\n",
       "      <td>99</td>\n",
       "      <td>0.006</td>\n",
       "      <td>0.050671</td>\n",
       "      <td>-3.418403</td>\n",
       "      <td>1</td>\n",
       "      <td>1</td>\n",
       "    </tr>\n",
       "    <tr>\n",
       "      <th>4</th>\n",
       "      <td>2021-09-27 00:06:21.000000</td>\n",
       "      <td>4</td>\n",
       "      <td>4</td>\n",
       "      <td>4778985830203613115</td>\n",
       "      <td>0</td>\n",
       "      <td>1</td>\n",
       "      <td>0</td>\n",
       "      <td>4</td>\n",
       "      <td>0.019</td>\n",
       "      <td>0.051265</td>\n",
       "      <td>-4.009026</td>\n",
       "      <td>11464230</td>\n",
       "      <td>6.790</td>\n",
       "      <td>0.032005</td>\n",
       "      <td>-2.828797</td>\n",
       "      <td>1</td>\n",
       "      <td>1</td>\n",
       "    </tr>\n",
       "  </tbody>\n",
       "</table>\n",
       "</div>"
      ],
      "text/plain": [
       "                    date_time  zone_id  banner_id            oaid_hash  \\\n",
       "0  2021-09-27 00:01:30.000000        0          0  5664530014561852622   \n",
       "1  2021-09-26 22:54:49.000000        1          1  5186611064559013950   \n",
       "2  2021-09-26 23:57:20.000000        2          2  2215519569292448030   \n",
       "3  2021-09-27 00:04:30.000000        3          3  6262169206735077204   \n",
       "4  2021-09-27 00:06:21.000000        4          4  4778985830203613115   \n",
       "\n",
       "   campaign_clicks  os_id  country_id  banner_id0  rate0        g0  \\\n",
       "0                0      0           0        1240  0.067  0.035016   \n",
       "1                0      0           1           1  0.002  0.054298   \n",
       "2                3      0           0           2  0.014  0.014096   \n",
       "3                0      1           1           3  0.012  0.015232   \n",
       "4                0      1           0           4  0.019  0.051265   \n",
       "\n",
       "   coeff_sum0  banner_id1  rate1        g1  coeff_sum1  impressions  clicks  \n",
       "0   -7.268846           0  0.010  0.049516   -5.369901            1       1  \n",
       "1   -2.657477         269  0.004  0.031942   -4.449220            1       1  \n",
       "2   -3.824875          21  0.014  0.014906   -3.939309            1       1  \n",
       "3   -3.461357          99  0.006  0.050671   -3.418403            1       1  \n",
       "4   -4.009026    11464230  6.790  0.032005   -2.828797            1       1  "
      ]
     },
     "execution_count": 46,
     "metadata": {},
     "output_type": "execute_result"
    }
   ],
   "source": [
    "data = pd.read_csv('./data.csv')\n",
    "data.head()"
   ]
  },
  {
   "cell_type": "code",
   "execution_count": 4,
   "metadata": {
    "id": "WrYzpjPSmfLQ"
   },
   "outputs": [],
   "source": [
    "data.drop([\"oaid_hash\", \"banner_id0\", \"banner_id1\", \"rate0\", \"rate1\", \"g0\", \"g1\", \"coeff_sum0\", \"coeff_sum1\"], axis=1, inplace=True)"
   ]
  },
  {
   "cell_type": "code",
   "execution_count": 5,
   "metadata": {
    "colab": {
     "base_uri": "https://localhost:8080/",
     "height": 424
    },
    "id": "E29-FVZhm2Du",
    "outputId": "6b9761af-ad33-4bd3-87f7-cbe971d8e03f"
   },
   "outputs": [
    {
     "data": {
      "text/html": [
       "<div>\n",
       "<style scoped>\n",
       "    .dataframe tbody tr th:only-of-type {\n",
       "        vertical-align: middle;\n",
       "    }\n",
       "\n",
       "    .dataframe tbody tr th {\n",
       "        vertical-align: top;\n",
       "    }\n",
       "\n",
       "    .dataframe thead th {\n",
       "        text-align: right;\n",
       "    }\n",
       "</style>\n",
       "<table border=\"1\" class=\"dataframe\">\n",
       "  <thead>\n",
       "    <tr style=\"text-align: right;\">\n",
       "      <th></th>\n",
       "      <th>date_time</th>\n",
       "      <th>zone_id</th>\n",
       "      <th>banner_id</th>\n",
       "      <th>campaign_clicks</th>\n",
       "      <th>os_id</th>\n",
       "      <th>country_id</th>\n",
       "      <th>impressions</th>\n",
       "      <th>clicks</th>\n",
       "    </tr>\n",
       "  </thead>\n",
       "  <tbody>\n",
       "    <tr>\n",
       "      <th>0</th>\n",
       "      <td>2021-09-27 00:01:30.000000</td>\n",
       "      <td>0</td>\n",
       "      <td>0</td>\n",
       "      <td>0</td>\n",
       "      <td>0</td>\n",
       "      <td>0</td>\n",
       "      <td>1</td>\n",
       "      <td>1</td>\n",
       "    </tr>\n",
       "    <tr>\n",
       "      <th>1</th>\n",
       "      <td>2021-09-26 22:54:49.000000</td>\n",
       "      <td>1</td>\n",
       "      <td>1</td>\n",
       "      <td>0</td>\n",
       "      <td>0</td>\n",
       "      <td>1</td>\n",
       "      <td>1</td>\n",
       "      <td>1</td>\n",
       "    </tr>\n",
       "    <tr>\n",
       "      <th>2</th>\n",
       "      <td>2021-09-26 23:57:20.000000</td>\n",
       "      <td>2</td>\n",
       "      <td>2</td>\n",
       "      <td>3</td>\n",
       "      <td>0</td>\n",
       "      <td>0</td>\n",
       "      <td>1</td>\n",
       "      <td>1</td>\n",
       "    </tr>\n",
       "    <tr>\n",
       "      <th>3</th>\n",
       "      <td>2021-09-27 00:04:30.000000</td>\n",
       "      <td>3</td>\n",
       "      <td>3</td>\n",
       "      <td>0</td>\n",
       "      <td>1</td>\n",
       "      <td>1</td>\n",
       "      <td>1</td>\n",
       "      <td>1</td>\n",
       "    </tr>\n",
       "    <tr>\n",
       "      <th>4</th>\n",
       "      <td>2021-09-27 00:06:21.000000</td>\n",
       "      <td>4</td>\n",
       "      <td>4</td>\n",
       "      <td>0</td>\n",
       "      <td>1</td>\n",
       "      <td>0</td>\n",
       "      <td>1</td>\n",
       "      <td>1</td>\n",
       "    </tr>\n",
       "    <tr>\n",
       "      <th>...</th>\n",
       "      <td>...</td>\n",
       "      <td>...</td>\n",
       "      <td>...</td>\n",
       "      <td>...</td>\n",
       "      <td>...</td>\n",
       "      <td>...</td>\n",
       "      <td>...</td>\n",
       "      <td>...</td>\n",
       "    </tr>\n",
       "    <tr>\n",
       "      <th>15821467</th>\n",
       "      <td>2021-10-02 15:51:35.000000</td>\n",
       "      <td>146</td>\n",
       "      <td>530</td>\n",
       "      <td>0</td>\n",
       "      <td>2</td>\n",
       "      <td>9</td>\n",
       "      <td>1</td>\n",
       "      <td>0</td>\n",
       "    </tr>\n",
       "    <tr>\n",
       "      <th>15821468</th>\n",
       "      <td>2021-09-27 22:03:14.000000</td>\n",
       "      <td>12</td>\n",
       "      <td>22</td>\n",
       "      <td>0</td>\n",
       "      <td>1</td>\n",
       "      <td>6</td>\n",
       "      <td>1</td>\n",
       "      <td>0</td>\n",
       "    </tr>\n",
       "    <tr>\n",
       "      <th>15821469</th>\n",
       "      <td>2021-10-02 17:41:10.000000</td>\n",
       "      <td>12</td>\n",
       "      <td>1236</td>\n",
       "      <td>0</td>\n",
       "      <td>2</td>\n",
       "      <td>0</td>\n",
       "      <td>1</td>\n",
       "      <td>0</td>\n",
       "    </tr>\n",
       "    <tr>\n",
       "      <th>15821470</th>\n",
       "      <td>2021-09-29 00:39:32.000000</td>\n",
       "      <td>967</td>\n",
       "      <td>21</td>\n",
       "      <td>0</td>\n",
       "      <td>0</td>\n",
       "      <td>0</td>\n",
       "      <td>1</td>\n",
       "      <td>0</td>\n",
       "    </tr>\n",
       "    <tr>\n",
       "      <th>15821471</th>\n",
       "      <td>2021-09-28 07:00:18.000000</td>\n",
       "      <td>19</td>\n",
       "      <td>635</td>\n",
       "      <td>0</td>\n",
       "      <td>0</td>\n",
       "      <td>3</td>\n",
       "      <td>1</td>\n",
       "      <td>0</td>\n",
       "    </tr>\n",
       "  </tbody>\n",
       "</table>\n",
       "<p>15821472 rows × 8 columns</p>\n",
       "</div>"
      ],
      "text/plain": [
       "                           date_time  zone_id  banner_id  campaign_clicks  \\\n",
       "0         2021-09-27 00:01:30.000000        0          0                0   \n",
       "1         2021-09-26 22:54:49.000000        1          1                0   \n",
       "2         2021-09-26 23:57:20.000000        2          2                3   \n",
       "3         2021-09-27 00:04:30.000000        3          3                0   \n",
       "4         2021-09-27 00:06:21.000000        4          4                0   \n",
       "...                              ...      ...        ...              ...   \n",
       "15821467  2021-10-02 15:51:35.000000      146        530                0   \n",
       "15821468  2021-09-27 22:03:14.000000       12         22                0   \n",
       "15821469  2021-10-02 17:41:10.000000       12       1236                0   \n",
       "15821470  2021-09-29 00:39:32.000000      967         21                0   \n",
       "15821471  2021-09-28 07:00:18.000000       19        635                0   \n",
       "\n",
       "          os_id  country_id  impressions  clicks  \n",
       "0             0           0            1       1  \n",
       "1             0           1            1       1  \n",
       "2             0           0            1       1  \n",
       "3             1           1            1       1  \n",
       "4             1           0            1       1  \n",
       "...         ...         ...          ...     ...  \n",
       "15821467      2           9            1       0  \n",
       "15821468      1           6            1       0  \n",
       "15821469      2           0            1       0  \n",
       "15821470      0           0            1       0  \n",
       "15821471      0           3            1       0  \n",
       "\n",
       "[15821472 rows x 8 columns]"
      ]
     },
     "execution_count": 5,
     "metadata": {},
     "output_type": "execute_result"
    }
   ],
   "source": [
    "data"
   ]
  },
  {
   "cell_type": "markdown",
   "metadata": {},
   "source": [
    "**Посчитаем статистику для фичей, где это имеет смысл. Построим гистограммы и посчитаем уникальные значения для категориальных признаков**"
   ]
  },
  {
   "cell_type": "code",
   "execution_count": 6,
   "metadata": {
    "id": "Ph7exWaSlvz0",
    "pycharm": {
     "name": "#%%\n"
    }
   },
   "outputs": [],
   "source": [
    "def analysis(data: pd.DataFrame):\n",
    "    print(data[[\"campaign_clicks\", \"impressions\", \"clicks\",]].describe())\n",
    "    for field in [\"zone_id\", \"banner_id\", \"os_id\", \"country_id\",]:\n",
    "        print(f\"Unique {field}:\", len(np.unique(data[field])))\n",
    "        plt.hist(data[field], bins=min(30, len(np.unique(data[field]))))\n",
    "        plt.show()"
   ]
  },
  {
   "cell_type": "code",
   "execution_count": 7,
   "metadata": {
    "colab": {
     "base_uri": "https://localhost:8080/",
     "height": 1000
    },
    "id": "1iNPkwDJnH57",
    "outputId": "7351abf2-a992-4e83-b12e-70113f321d7c"
   },
   "outputs": [
    {
     "name": "stdout",
     "output_type": "stream",
     "text": [
      "       campaign_clicks  impressions        clicks\n",
      "count     1.582147e+07   15821472.0  1.582147e+07\n",
      "mean      6.238540e-01          1.0  2.668835e-02\n",
      "std       9.249152e+00          0.0  1.611710e-01\n",
      "min       0.000000e+00          1.0  0.000000e+00\n",
      "25%       0.000000e+00          1.0  0.000000e+00\n",
      "50%       0.000000e+00          1.0  0.000000e+00\n",
      "75%       0.000000e+00          1.0  0.000000e+00\n",
      "max       8.290000e+02          1.0  1.000000e+00\n",
      "Unique zone_id: 3444\n"
     ]
    },
    {
     "data": {
      "image/png": "[encoded data removed]",
      "text/plain": [
       "<Figure size 1500x750 with 1 Axes>"
      ]
     },
     "metadata": {
      "needs_background": "light"
     },
     "output_type": "display_data"
    },
    {
     "name": "stdout",
     "output_type": "stream",
     "text": [
      "Unique banner_id: 1633\n"
     ]
    },
    {
     "data": {
      "image/png": "[encoded data removed]",
      "text/plain": [
       "<Figure size 1500x750 with 1 Axes>"
      ]
     },
     "metadata": {
      "needs_background": "light"
     },
     "output_type": "display_data"
    },
    {
     "name": "stdout",
     "output_type": "stream",
     "text": [
      "Unique os_id: 11\n"
     ]
    },
    {
     "data": {
      "image/png": "[encoded data removed]",
      "text/plain": [
       "<Figure size 1500x750 with 1 Axes>"
      ]
     },
     "metadata": {
      "needs_background": "light"
     },
     "output_type": "display_data"
    },
    {
     "name": "stdout",
     "output_type": "stream",
     "text": [
      "Unique country_id: 17\n"
     ]
    },
    {
     "data": {
      "image/png": "[encoded data removed]",
      "text/plain": [
       "<Figure size 1500x750 with 1 Axes>"
      ]
     },
     "metadata": {
      "needs_background": "light"
     },
     "output_type": "display_data"
    }
   ],
   "source": [
    "analysis(data)"
   ]
  },
  {
   "cell_type": "code",
   "execution_count": 8,
   "metadata": {
    "id": "5nJ-AfqQxLf4"
   },
   "outputs": [],
   "source": [
    "categorical_features = [\"zone_id\", \"banner_id\", \"os_id\", \"country_id\",]"
   ]
  },
  {
   "cell_type": "markdown",
   "metadata": {},
   "source": [
    "**У некоторых категориальных фичей много различных значений. Часть категорий встречается очень редко. Объединим редкие категории в одну (редкость определяется константой FITLERING_FRACTION), это упростит дальнейшую работу, т.к. иначе данные могут начать занимать много места, а обучение алгоритмов потребует большего количества времени. Все категориальные фичи кодируем с помощью one-hot-encoding**"
   ]
  },
  {
   "cell_type": "code",
   "execution_count": 9,
   "metadata": {
    "id": "p0lDIEIAlvz0",
    "pycharm": {
     "name": "#%%\n"
    }
   },
   "outputs": [],
   "source": [
    "def feature_engineering(data: pd.DataFrame) -> pd.DataFrame:\n",
    "    FITLERING_FRACTION = 0.05\n",
    "    RELABEL = 100000000000\n",
    "    size = len(data)\n",
    "    threshold = size * FITLERING_FRACTION\n",
    "    \n",
    "    for field in categorical_features:\n",
    "        print(field)\n",
    "        uniques = np.unique(data[field])\n",
    "        mapping = {i: i for i in uniques}\n",
    "        for val in uniques:\n",
    "            ids = data[field] == val \n",
    "            if np.sum(ids) < threshold:\n",
    "                mapping[val] = RELABEL\n",
    "        data[field] = data[field].map(mapping)\n",
    "\n",
    "    for field in categorical_features:\n",
    "        one_hot = pd.get_dummies(data[field])\n",
    "        data = data.drop(field,axis = 1)\n",
    "        data = data.join(one_hot, lsuffix=f\"{field}_\")\n",
    "    return data"
   ]
  },
  {
   "cell_type": "code",
   "execution_count": 10,
   "metadata": {
    "colab": {
     "base_uri": "https://localhost:8080/"
    },
    "id": "zONaRoIqr2Bl",
    "outputId": "08e2fddc-c947-4c89-f4c3-d2c339397fda"
   },
   "outputs": [
    {
     "name": "stdout",
     "output_type": "stream",
     "text": [
      "zone_id\n",
      "banner_id\n",
      "os_id\n",
      "country_id\n"
     ]
    }
   ],
   "source": [
    "data = feature_engineering(data)"
   ]
  },
  {
   "cell_type": "code",
   "execution_count": 11,
   "metadata": {
    "id": "ilg6M7ca-JmY"
   },
   "outputs": [],
   "source": [
    "# data.to_csv(\"data_features_1.csv\", index=False)"
   ]
  },
  {
   "cell_type": "code",
   "execution_count": 12,
   "metadata": {
    "id": "k9kb0qqkKkZN"
   },
   "outputs": [],
   "source": [
    "# !cp ./data_features_1.csv /content/drive/MyDrive/"
   ]
  },
  {
   "cell_type": "markdown",
   "metadata": {},
   "source": [
    "**Разделим данные на обучающую выборку и тестовую (последний день лога) по дате и выкинем эту фичу, т.к. не хочется захламлять фичи по указанным ранее причинам**"
   ]
  },
  {
   "cell_type": "code",
   "execution_count": 47,
   "metadata": {
    "colab": {
     "base_uri": "https://localhost:8080/",
     "height": 36
    },
    "id": "0D5HivGL84qO",
    "outputId": "060ee12b-d852-4ce9-b6e8-453e85e72188"
   },
   "outputs": [
    {
     "data": {
      "text/plain": [
       "'2021-10-02 23:59:59.000000'"
      ]
     },
     "execution_count": 47,
     "metadata": {},
     "output_type": "execute_result"
    }
   ],
   "source": [
    "max(data[\"date_time\"])"
   ]
  },
  {
   "cell_type": "code",
   "execution_count": 16,
   "metadata": {
    "id": "1i3uv5Bq8_ZM"
   },
   "outputs": [],
   "source": [
    "max_date = \"2021-10-02\""
   ]
  },
  {
   "cell_type": "code",
   "execution_count": 17,
   "metadata": {
    "colab": {
     "base_uri": "https://localhost:8080/"
    },
    "id": "J34Dy2eu9h9z",
    "outputId": "bf31f97c-b9d0-4023-f61e-2c562f3e7643"
   },
   "outputs": [],
   "source": [
    "last_day_data = data[data.date_time.apply(lambda d: max_date in d)]"
   ]
  },
  {
   "cell_type": "code",
   "execution_count": 18,
   "metadata": {
    "colab": {
     "base_uri": "https://localhost:8080/",
     "height": 296
    },
    "id": "XjHP4OYZ9oy0",
    "outputId": "5cf4832b-4090-4ecc-c351-5d991909eb1d"
   },
   "outputs": [],
   "source": [
    "data.drop(last_day_data.index, inplace=True)"
   ]
  },
  {
   "cell_type": "code",
   "execution_count": 19,
   "metadata": {},
   "outputs": [
    {
     "name": "stderr",
     "output_type": "stream",
     "text": [
      "/tmp/ipykernel_16715/4180371495.py:2: SettingWithCopyWarning: \n",
      "A value is trying to be set on a copy of a slice from a DataFrame\n",
      "\n",
      "See the caveats in the documentation: https://pandas.pydata.org/pandas-docs/stable/user_guide/indexing.html#returning-a-view-versus-a-copy\n",
      "  last_day_data.drop([\"date_time\"], axis=1, inplace=True)\n"
     ]
    }
   ],
   "source": [
    "data.drop([\"date_time\"], axis=1, inplace=True)\n",
    "last_day_data.drop([\"date_time\"], axis=1, inplace=True)"
   ]
  },
  {
   "cell_type": "markdown",
   "metadata": {},
   "source": [
    "**Первая модель, которую попробуем будет линейная модель, обучающаяся градиентым спуском**"
   ]
  },
  {
   "cell_type": "code",
   "execution_count": 20,
   "metadata": {
    "id": "OFfGkLF_lvz1",
    "pycharm": {
     "name": "#%%\n"
    },
    "scrolled": true
   },
   "outputs": [],
   "source": [
    "def create_model(data: pd.DataFrame):\n",
    "    classifier = SGDClassifier(loss=\"modified_huber\", alpha=0.1)\n",
    "    return classifier"
   ]
  },
  {
   "cell_type": "code",
   "execution_count": 29,
   "metadata": {
    "id": "_GBnWyGFlvz1",
    "pycharm": {
     "name": "#%%\n"
    }
   },
   "outputs": [],
   "source": [
    "def cv(data: pd.DataFrame, get_model):\n",
    "    classifier = get_model(data)\n",
    "    y = data[\"clicks\"]\n",
    "    X = data.drop([\"clicks\"], axis=1)\n",
    "    cv_results = cross_validate(classifier, X=X, y=y, cv=5, scoring=[\"neg_log_loss\", \"roc_auc\", \"accuracy\"], n_jobs=-1)\n",
    "    print(\"Negative log loss\", np.mean(cv_results[\"test_neg_log_loss\"]))\n",
    "    print(\"ROC AUC\", np.mean(cv_results[\"test_roc_auc\"]))\n",
    "    print(\"Accuracy\", np.mean(cv_results[\"test_accuracy\"]))"
   ]
  },
  {
   "cell_type": "code",
   "execution_count": 52,
   "metadata": {},
   "outputs": [
    {
     "name": "stdout",
     "output_type": "stream",
     "text": [
      "Negative log loss -0.1556836361695524\n",
      "ROC AUC 0.61082938431054\n",
      "Accuracy 0.9746659008943249\n"
     ]
    }
   ],
   "source": [
    "cv(data, create_model) # alpha = default (very small)"
   ]
  },
  {
   "cell_type": "code",
   "execution_count": 67,
   "metadata": {},
   "outputs": [
    {
     "name": "stdout",
     "output_type": "stream",
     "text": [
      "Negative log loss -0.11583196017605979\n",
      "ROC AUC 0.6317082555803586\n",
      "Accuracy 0.9746659008943249\n"
     ]
    }
   ],
   "source": [
    "cv(data, create_model)"
   ]
  },
  {
   "cell_type": "markdown",
   "metadata": {},
   "source": [
    "**В качестве модели без SGD возьмем Random Forest**"
   ]
  },
  {
   "cell_type": "code",
   "execution_count": 30,
   "metadata": {},
   "outputs": [],
   "source": [
    "from sklearn.ensemble import RandomForestClassifier\n",
    "def create_forest(data: pd.DataFrame):\n",
    "    classifier = RandomForestClassifier(n_estimators=10, max_depth=10)\n",
    "    return classifier"
   ]
  },
  {
   "cell_type": "code",
   "execution_count": 31,
   "metadata": {},
   "outputs": [
    {
     "name": "stdout",
     "output_type": "stream",
     "text": [
      "Negative log loss -0.11400949411424988\n",
      "ROC AUC 0.6603276764278029\n",
      "Accuracy 0.9746656087634896\n"
     ]
    }
   ],
   "source": [
    "cv(data, create_forest)"
   ]
  },
  {
   "cell_type": "markdown",
   "metadata": {},
   "source": [
    "**Обучим на всем обучающем сете и посчитаем метрики на тестовой выборке. В качестве бейзлайна возьмем константую вероятность клика (он был выше, когда считали статистики)**"
   ]
  },
  {
   "cell_type": "code",
   "execution_count": 33,
   "metadata": {},
   "outputs": [],
   "source": [
    "X = data.drop([\"clicks\"], axis=1)\n",
    "y = data[\"clicks\"]"
   ]
  },
  {
   "cell_type": "code",
   "execution_count": 35,
   "metadata": {},
   "outputs": [],
   "source": [
    "X_test = last_day_data.drop([\"clicks\"], axis=1)\n",
    "y_test = last_day_data[\"clicks\"]"
   ]
  },
  {
   "cell_type": "code",
   "execution_count": 32,
   "metadata": {},
   "outputs": [],
   "source": [
    "clf = create_model(data)"
   ]
  },
  {
   "cell_type": "code",
   "execution_count": 34,
   "metadata": {},
   "outputs": [
    {
     "data": {
      "text/plain": [
       "SGDClassifier(alpha=0.1, loss='modified_huber')"
      ]
     },
     "execution_count": 34,
     "metadata": {},
     "output_type": "execute_result"
    }
   ],
   "source": [
    "clf.fit(X, y)"
   ]
  },
  {
   "cell_type": "code",
   "execution_count": 36,
   "metadata": {},
   "outputs": [],
   "source": [
    "y_pred = clf.predict_proba(X_test)"
   ]
  },
  {
   "cell_type": "code",
   "execution_count": 37,
   "metadata": {},
   "outputs": [],
   "source": [
    "from sklearn.metrics import log_loss, roc_auc_score"
   ]
  },
  {
   "cell_type": "code",
   "execution_count": 41,
   "metadata": {},
   "outputs": [],
   "source": [
    "forest = RandomForestClassifier(n_estimators=10, max_depth=10)"
   ]
  },
  {
   "cell_type": "code",
   "execution_count": 42,
   "metadata": {},
   "outputs": [
    {
     "data": {
      "text/plain": [
       "RandomForestClassifier(max_depth=10, n_estimators=10)"
      ]
     },
     "execution_count": 42,
     "metadata": {},
     "output_type": "execute_result"
    }
   ],
   "source": [
    "forest.fit(X, y)"
   ]
  },
  {
   "cell_type": "code",
   "execution_count": 43,
   "metadata": {},
   "outputs": [],
   "source": [
    "y_pred_f = forest.predict_proba(X_test)"
   ]
  },
  {
   "cell_type": "code",
   "execution_count": 39,
   "metadata": {},
   "outputs": [],
   "source": [
    "baseline_prob = 2.668835e-02"
   ]
  },
  {
   "cell_type": "code",
   "execution_count": 40,
   "metadata": {},
   "outputs": [
    {
     "name": "stdout",
     "output_type": "stream",
     "text": [
      "Baseline score\n",
      "Log loss 0.1543597873573571\n",
      "ROC AUC 0.5\n"
     ]
    }
   ],
   "source": [
    "print(\"Baseline score\")\n",
    "print(\"Log loss\", log_loss(y_test, [(1 - baseline_prob, baseline_prob)] * len(y_test)))\n",
    "print(\"ROC AUC\", roc_auc_score([(1, 0) if i == 0 else (0, 1) for i in y_test], [(1 - baseline_prob, baseline_prob)] * len(y_test)))"
   ]
  },
  {
   "cell_type": "code",
   "execution_count": 38,
   "metadata": {},
   "outputs": [
    {
     "name": "stdout",
     "output_type": "stream",
     "text": [
      "SGD algo score\n",
      "Log loss 0.14519220892845874\n",
      "ROC AUC 0.7220394811340641\n"
     ]
    }
   ],
   "source": [
    "print(\"SGD algo score\")\n",
    "print(\"Log loss\", log_loss(y_test, y_pred))\n",
    "print(\"ROC AUC\", roc_auc_score([(1, 0) if i == 0 else (0, 1) for i in y_test], y_pred))"
   ]
  },
  {
   "cell_type": "code",
   "execution_count": 44,
   "metadata": {},
   "outputs": [
    {
     "name": "stdout",
     "output_type": "stream",
     "text": [
      "Forest algo score\n",
      "Log loss 0.1386432334524506\n",
      "ROC AUC 0.7383851118178257\n"
     ]
    },
    {
     "name": "stderr",
     "output_type": "stream",
     "text": [
      "<frozen importlib._bootstrap>:219: RuntimeWarning: scipy._lib.messagestream.MessageStream size changed, may indicate binary incompatibility. Expected 56 from C header, got 64 from PyObject\n",
      "<frozen importlib._bootstrap>:219: RuntimeWarning: scipy._lib.messagestream.MessageStream size changed, may indicate binary incompatibility. Expected 56 from C header, got 64 from PyObject\n",
      "<frozen importlib._bootstrap>:219: RuntimeWarning: scipy._lib.messagestream.MessageStream size changed, may indicate binary incompatibility. Expected 56 from C header, got 64 from PyObject\n",
      "<frozen importlib._bootstrap>:219: RuntimeWarning: scipy._lib.messagestream.MessageStream size changed, may indicate binary incompatibility. Expected 56 from C header, got 64 from PyObject\n",
      "<frozen importlib._bootstrap>:219: RuntimeWarning: scipy._lib.messagestream.MessageStream size changed, may indicate binary incompatibility. Expected 56 from C header, got 64 from PyObject\n"
     ]
    }
   ],
   "source": [
    "print(\"Forest algo score\")\n",
    "print(\"Log loss\", log_loss(y_test, y_pred_f))\n",
    "print(\"ROC AUC\", roc_auc_score([(1, 0) if i == 0 else (0, 1) for i in y_test], y_pred_f))"
   ]
  },
  {
   "cell_type": "markdown",
   "metadata": {},
   "source": [
    "**Оба алгоритма работают лучше, чем бейзлайн. Random Forest немного лучше линейной модели. Скорее всего результаты можно сильно улучшить, если больше перебрать сетку гиперпарметров (сейчас был минимальный перебор руками). К сожалению, для перебора у меня нет ресурсов**"
   ]
  },
  {
   "cell_type": "code",
   "execution_count": null,
   "metadata": {},
   "outputs": [],
   "source": []
  }
 ],
 "metadata": {
  "colab": {
   "collapsed_sections": [],
   "provenance": []
  },
  "kernelspec": {
   "display_name": "Python 3 (ipykernel)",
   "language": "python",
   "name": "python3"
  },
  "language_info": {
   "codemirror_mode": {
    "name": "ipython",
    "version": 3
   },
   "file_extension": ".py",
   "mimetype": "text/x-python",
   "name": "python",
   "nbconvert_exporter": "python",
   "pygments_lexer": "ipython3",
   "version": "3.8.10"
  }
 },
 "nbformat": 4,
 "nbformat_minor": 1
}
