{
 "cells": [
  {
   "cell_type": "code",
   "execution_count": 1,
   "metadata": {
    "collapsed": true
   },
   "outputs": [],
   "source": [
    "import numpy as np\n",
    "import pandas as pd\n",
    "from sklearn.feature_selection import SelectKBest\n",
    "from sklearn.linear_model import LogisticRegression\n",
    "from sklearn.metrics import roc_auc_score, log_loss\n",
    "from sklearn.model_selection import cross_validate\n",
    "from sklearn.preprocessing import OneHotEncoder\n"
   ]
  },
  {
   "cell_type": "code",
   "execution_count": 2,
   "outputs": [
    {
     "data": {
      "text/plain": "                           date_time  zone_id  banner_id            oaid_hash  \\\n8346547   2021-09-27 14:40:08.000000       17        622  3893226935960107276   \n9394680   2021-09-26 18:46:37.000000       19       1235  7846425171453325314   \n13024376  2021-10-02 23:09:07.000000      315        116  9121473753705184179   \n15806667  2021-09-29 14:27:36.000000       14        671  1660532342692348167   \n14459047  2021-09-29 19:41:17.000000       14         63   722574788548885921   \n3825241   2021-09-28 18:40:11.000000       17         52  5334760109874209075   \n10129887  2021-09-26 15:14:34.000000      113         16  3542127356391604262   \n8479671   2021-09-27 23:32:36.000000       76         29  4064698097986638679   \n13549374  2021-10-02 20:54:51.000000      143         89  8281971653706806920   \n6952612   2021-09-26 04:16:46.000000       19          3  6600244079662587812   \n\n          campaign_clicks  os_id  country_id  banner_id0  rate0        g0  \\\n8346547                 0      4           7         622  0.050  0.083065   \n9394680                 0      5           0        1235  0.067  0.017585   \n13024376                0      0          12         116  0.001  0.247624   \n15806667                0      1           0         671  0.009  0.011121   \n14459047                2      2           0          63  0.030  0.033995   \n3825241                 0      2           5          52  0.008  0.009826   \n10129887                0      1          12          16  0.004  0.035155   \n8479671                 0      3           0          29  0.002  0.018906   \n13549374                0      4           1          89  0.010  0.037451   \n6952612                32      2           1           3  0.012  0.009809   \n\n          coeff_sum0  banner_id1  rate1        g1  coeff_sum1  impressions  \\\n8346547    -3.741721         650  0.050  0.075785   -3.726563            1   \n9394680    -6.087682        1240  0.067  0.017566   -6.090274            1   \n13024376   -4.572262         594  0.003  0.239873   -5.467989            1   \n15806667   -4.191673    14620708  1.400  0.005980   -3.556881            1   \n14459047   -3.893601          40  0.030  0.039212   -3.973830            1   \n3825241    -3.960855    12231176  0.137  0.000000    0.000000            1   \n10129887   -4.533533          22  0.004  0.034615   -4.563424            1   \n8479671    -3.129625           6  0.002  0.018130   -3.140339            1   \n13549374   -2.536086    14171614  8.000  0.045791   -2.767040            1   \n6952612    -5.032157          58  0.003  0.049213   -3.978318            1   \n\n          clicks  \n8346547        0  \n9394680        0  \n13024376       0  \n15806667       0  \n14459047       0  \n3825241        0  \n10129887       0  \n8479671        0  \n13549374       0  \n6952612        0  ",
      "text/html": "<div>\n<style scoped>\n    .dataframe tbody tr th:only-of-type {\n        vertical-align: middle;\n    }\n\n    .dataframe tbody tr th {\n        vertical-align: top;\n    }\n\n    .dataframe thead th {\n        text-align: right;\n    }\n</style>\n<table border=\"1\" class=\"dataframe\">\n  <thead>\n    <tr style=\"text-align: right;\">\n      <th></th>\n      <th>date_time</th>\n      <th>zone_id</th>\n      <th>banner_id</th>\n      <th>oaid_hash</th>\n      <th>campaign_clicks</th>\n      <th>os_id</th>\n      <th>country_id</th>\n      <th>banner_id0</th>\n      <th>rate0</th>\n      <th>g0</th>\n      <th>coeff_sum0</th>\n      <th>banner_id1</th>\n      <th>rate1</th>\n      <th>g1</th>\n      <th>coeff_sum1</th>\n      <th>impressions</th>\n      <th>clicks</th>\n    </tr>\n  </thead>\n  <tbody>\n    <tr>\n      <th>8346547</th>\n      <td>2021-09-27 14:40:08.000000</td>\n      <td>17</td>\n      <td>622</td>\n      <td>3893226935960107276</td>\n      <td>0</td>\n      <td>4</td>\n      <td>7</td>\n      <td>622</td>\n      <td>0.050</td>\n      <td>0.083065</td>\n      <td>-3.741721</td>\n      <td>650</td>\n      <td>0.050</td>\n      <td>0.075785</td>\n      <td>-3.726563</td>\n      <td>1</td>\n      <td>0</td>\n    </tr>\n    <tr>\n      <th>9394680</th>\n      <td>2021-09-26 18:46:37.000000</td>\n      <td>19</td>\n      <td>1235</td>\n      <td>7846425171453325314</td>\n      <td>0</td>\n      <td>5</td>\n      <td>0</td>\n      <td>1235</td>\n      <td>0.067</td>\n      <td>0.017585</td>\n      <td>-6.087682</td>\n      <td>1240</td>\n      <td>0.067</td>\n      <td>0.017566</td>\n      <td>-6.090274</td>\n      <td>1</td>\n      <td>0</td>\n    </tr>\n    <tr>\n      <th>13024376</th>\n      <td>2021-10-02 23:09:07.000000</td>\n      <td>315</td>\n      <td>116</td>\n      <td>9121473753705184179</td>\n      <td>0</td>\n      <td>0</td>\n      <td>12</td>\n      <td>116</td>\n      <td>0.001</td>\n      <td>0.247624</td>\n      <td>-4.572262</td>\n      <td>594</td>\n      <td>0.003</td>\n      <td>0.239873</td>\n      <td>-5.467989</td>\n      <td>1</td>\n      <td>0</td>\n    </tr>\n    <tr>\n      <th>15806667</th>\n      <td>2021-09-29 14:27:36.000000</td>\n      <td>14</td>\n      <td>671</td>\n      <td>1660532342692348167</td>\n      <td>0</td>\n      <td>1</td>\n      <td>0</td>\n      <td>671</td>\n      <td>0.009</td>\n      <td>0.011121</td>\n      <td>-4.191673</td>\n      <td>14620708</td>\n      <td>1.400</td>\n      <td>0.005980</td>\n      <td>-3.556881</td>\n      <td>1</td>\n      <td>0</td>\n    </tr>\n    <tr>\n      <th>14459047</th>\n      <td>2021-09-29 19:41:17.000000</td>\n      <td>14</td>\n      <td>63</td>\n      <td>722574788548885921</td>\n      <td>2</td>\n      <td>2</td>\n      <td>0</td>\n      <td>63</td>\n      <td>0.030</td>\n      <td>0.033995</td>\n      <td>-3.893601</td>\n      <td>40</td>\n      <td>0.030</td>\n      <td>0.039212</td>\n      <td>-3.973830</td>\n      <td>1</td>\n      <td>0</td>\n    </tr>\n    <tr>\n      <th>3825241</th>\n      <td>2021-09-28 18:40:11.000000</td>\n      <td>17</td>\n      <td>52</td>\n      <td>5334760109874209075</td>\n      <td>0</td>\n      <td>2</td>\n      <td>5</td>\n      <td>52</td>\n      <td>0.008</td>\n      <td>0.009826</td>\n      <td>-3.960855</td>\n      <td>12231176</td>\n      <td>0.137</td>\n      <td>0.000000</td>\n      <td>0.000000</td>\n      <td>1</td>\n      <td>0</td>\n    </tr>\n    <tr>\n      <th>10129887</th>\n      <td>2021-09-26 15:14:34.000000</td>\n      <td>113</td>\n      <td>16</td>\n      <td>3542127356391604262</td>\n      <td>0</td>\n      <td>1</td>\n      <td>12</td>\n      <td>16</td>\n      <td>0.004</td>\n      <td>0.035155</td>\n      <td>-4.533533</td>\n      <td>22</td>\n      <td>0.004</td>\n      <td>0.034615</td>\n      <td>-4.563424</td>\n      <td>1</td>\n      <td>0</td>\n    </tr>\n    <tr>\n      <th>8479671</th>\n      <td>2021-09-27 23:32:36.000000</td>\n      <td>76</td>\n      <td>29</td>\n      <td>4064698097986638679</td>\n      <td>0</td>\n      <td>3</td>\n      <td>0</td>\n      <td>29</td>\n      <td>0.002</td>\n      <td>0.018906</td>\n      <td>-3.129625</td>\n      <td>6</td>\n      <td>0.002</td>\n      <td>0.018130</td>\n      <td>-3.140339</td>\n      <td>1</td>\n      <td>0</td>\n    </tr>\n    <tr>\n      <th>13549374</th>\n      <td>2021-10-02 20:54:51.000000</td>\n      <td>143</td>\n      <td>89</td>\n      <td>8281971653706806920</td>\n      <td>0</td>\n      <td>4</td>\n      <td>1</td>\n      <td>89</td>\n      <td>0.010</td>\n      <td>0.037451</td>\n      <td>-2.536086</td>\n      <td>14171614</td>\n      <td>8.000</td>\n      <td>0.045791</td>\n      <td>-2.767040</td>\n      <td>1</td>\n      <td>0</td>\n    </tr>\n    <tr>\n      <th>6952612</th>\n      <td>2021-09-26 04:16:46.000000</td>\n      <td>19</td>\n      <td>3</td>\n      <td>6600244079662587812</td>\n      <td>32</td>\n      <td>2</td>\n      <td>1</td>\n      <td>3</td>\n      <td>0.012</td>\n      <td>0.009809</td>\n      <td>-5.032157</td>\n      <td>58</td>\n      <td>0.003</td>\n      <td>0.049213</td>\n      <td>-3.978318</td>\n      <td>1</td>\n      <td>0</td>\n    </tr>\n  </tbody>\n</table>\n</div>"
     },
     "execution_count": 2,
     "metadata": {},
     "output_type": "execute_result"
    }
   ],
   "source": [
    "data = pd.read_csv('../data/data.csv').sample(frac=0.01, random_state=1)\n",
    "data.head(10)"
   ],
   "metadata": {
    "collapsed": false
   }
  },
  {
   "cell_type": "markdown",
   "source": [
    "Сразу удалим ненужные по условию фичи.\n",
    "Преобразуем дату в удобный тип."
   ],
   "metadata": {
    "collapsed": false
   }
  },
  {
   "cell_type": "code",
   "execution_count": 3,
   "outputs": [],
   "source": [
    "data = data.drop(\n",
    "    columns=[\"oaid_hash\", \"banner_id0\", \"banner_id1\", \"rate0\", \"rate1\", \"g0\", \"g1\", \"coeff_sum0\", \"coeff_sum1\"])\n",
    "data['date_time'] = pd.to_datetime(data['date_time'])"
   ],
   "metadata": {
    "collapsed": false
   }
  },
  {
   "cell_type": "markdown",
   "source": [
    "Посмотрим сколько уникальных значений каждого признака.\n",
    "Заметим, что impressions - константа. Удалим его."
   ],
   "metadata": {
    "collapsed": false
   }
  },
  {
   "cell_type": "code",
   "execution_count": 4,
   "outputs": [
    {
     "name": "stdout",
     "output_type": "stream",
     "text": [
      "date_time          136324\n",
      "zone_id              1086\n",
      "banner_id            1153\n",
      "campaign_clicks       202\n",
      "os_id                   9\n",
      "country_id             17\n",
      "impressions             1\n",
      "clicks                  2\n",
      "dtype: int64\n"
     ]
    }
   ],
   "source": [
    "print(data.nunique())"
   ],
   "metadata": {
    "collapsed": false
   }
  },
  {
   "cell_type": "code",
   "execution_count": 5,
   "outputs": [],
   "source": [
    "data = data.drop(columns=[\"impressions\"])"
   ],
   "metadata": {
    "collapsed": false
   }
  },
  {
   "cell_type": "markdown",
   "source": [
    "Выделим в valid_raw часть последний день, в train_raw - все кроме последнего.\n",
    "train_c - категориальные признаки из train_raw,  valid_c - категориальные признаки из valid_raw"
   ],
   "metadata": {
    "collapsed": false
   }
  },
  {
   "cell_type": "code",
   "execution_count": 6,
   "outputs": [],
   "source": [
    "train_raw = data[data['date_time'].dt.date != data['date_time'].dt.date.max()]\n",
    "valid_raw = data[data['date_time'].dt.date == data['date_time'].dt.date.max()]\n",
    "train_c = train_raw.drop(columns=['clicks', 'campaign_clicks', 'date_time'])\n",
    "valid_c = valid_raw.drop(columns=['clicks', 'campaign_clicks', 'date_time'])"
   ],
   "metadata": {
    "collapsed": false
   }
  },
  {
   "cell_type": "markdown",
   "source": [
    "Закодируем категории с помощью One-Hot-Encoding"
   ],
   "metadata": {
    "collapsed": false
   }
  },
  {
   "cell_type": "code",
   "execution_count": 7,
   "outputs": [],
   "source": [
    "ohe = OneHotEncoder(handle_unknown='ignore').fit(train_c)"
   ],
   "metadata": {
    "collapsed": false
   }
  },
  {
   "cell_type": "code",
   "execution_count": 8,
   "outputs": [],
   "source": [
    "train_c_ohe_matrix, valid_c_ohe_matrix = ohe.transform(train_c), ohe.transform(valid_c)"
   ],
   "metadata": {
    "collapsed": false
   }
  },
  {
   "cell_type": "code",
   "execution_count": 9,
   "outputs": [],
   "source": [
    "col_names = [f'f_{i}' for i in range(train_c_ohe_matrix.shape[1])]\n",
    "train_c_ohe = pd.DataFrame.sparse.from_spmatrix(train_c_ohe_matrix, columns=col_names)\n",
    "valid_c_ohe = pd.DataFrame.sparse.from_spmatrix(valid_c_ohe_matrix, columns=col_names)"
   ],
   "metadata": {
    "collapsed": false
   }
  },
  {
   "cell_type": "markdown",
   "source": [
    "чтобы не было слишком много признаков, сделаем фильтрацию с помощью статистического теста, оставим 1000 признаков.\n",
    "\n",
    "так же я пробовал перед данным этапом добавить попарные комбинации признаков (добавить полиномиальные признаки), но на результат это почти не повлияло. тут без них"
   ],
   "metadata": {
    "collapsed": false
   }
  },
  {
   "cell_type": "code",
   "execution_count": 10,
   "outputs": [],
   "source": [
    "selector = SelectKBest(k=1 * 10 ** 3).fit(train_c_ohe, train_raw['clicks'])\n",
    "cols = list(selector.get_feature_names_out())\n",
    "train_c_filtered = train_c_ohe[cols]\n",
    "valid_c_filtered = valid_c_ohe[cols]"
   ],
   "metadata": {
    "collapsed": false
   }
  },
  {
   "cell_type": "markdown",
   "source": [
    "пробовал добавить к категориальным 'campaign_clicks' и 'date_time' но на результат это почти не повлияло. тут без них"
   ],
   "metadata": {
    "collapsed": false
   }
  },
  {
   "cell_type": "code",
   "execution_count": 11,
   "outputs": [
    {
     "name": "stdout",
     "output_type": "stream",
     "text": [
      "(137221, 1000)  (137221,)\n",
      "(20994, 1000)  (20994,)\n"
     ]
    }
   ],
   "source": [
    "x_train = train_c_filtered\n",
    "y_train = train_raw['clicks']\n",
    "\n",
    "x_valid = valid_c_filtered\n",
    "y_valid = valid_raw['clicks']\n",
    "\n",
    "print(f'{x_train.shape}  {y_train.shape}')\n",
    "print(f'{x_valid.shape}  {y_valid.shape}')"
   ],
   "metadata": {
    "collapsed": false
   }
  },
  {
   "cell_type": "markdown",
   "source": [
    "Возьмем логистическую регрессию с солвером liblinear (не SGD)."
   ],
   "metadata": {
    "collapsed": false
   }
  },
  {
   "cell_type": "code",
   "execution_count": 12,
   "outputs": [],
   "source": [
    "def get_model(c):\n",
    "    return LogisticRegression(solver='liblinear', C=c, random_state=0)"
   ],
   "metadata": {
    "collapsed": false
   }
  },
  {
   "cell_type": "markdown",
   "source": [
    "Посчитаем метрики 'neg_log_loss', 'roc_auc', 'accuracy' для разных коэффициентов регуляризации.\n",
    "Для каждого коэффициента делаем кросс валидацию и смотрим на среднее значение метрики."
   ],
   "metadata": {
    "collapsed": false
   }
  },
  {
   "cell_type": "code",
   "execution_count": 14,
   "outputs": [
    {
     "name": "stdout",
     "output_type": "stream",
     "text": [
      "c = 0.01\n",
      "ll = 0.11249175986058639\n",
      "roc = 0.6948644536317352\n",
      "acc = 0.9745155626420524\n",
      "--------------------------------------\n",
      "c = 0.1\n",
      "ll = 0.10873682250213333\n",
      "roc = 0.7311772064193853\n",
      "acc = 0.9745155626420524\n",
      "--------------------------------------\n",
      "c = 1\n",
      "ll = 0.10714499107872215\n",
      "roc = 0.7460277966515938\n",
      "acc = 0.9746030130261156\n",
      "--------------------------------------\n",
      "c = 10\n",
      "ll = 0.10848929232803671\n",
      "roc = 0.7415974510066349\n",
      "acc = 0.9745155634917659\n",
      "--------------------------------------\n",
      "c = 100\n",
      "ll = 0.11132769858205033\n",
      "roc = 0.7338563606524351\n",
      "acc = 0.9744208257527209\n",
      "--------------------------------------\n",
      "the best C = 1\n"
     ]
    }
   ],
   "source": [
    "cs = [10 ** i for i in range(-2, 3)]\n",
    "\n",
    "max_roc = -1\n",
    "best_c = -1\n",
    "for c in cs:\n",
    "    model = get_model(c)\n",
    "    scores = cross_validate(model, x_train, y_train, scoring=['neg_log_loss', 'roc_auc', 'accuracy'], cv=4, n_jobs=6)\n",
    "    if max_roc < np.mean(scores['test_roc_auc']):\n",
    "        max_roc = np.mean(scores['test_roc_auc'])\n",
    "        best_c = c\n",
    "    print(f\"c = {c}\")\n",
    "    print(f\"ll = {-np.mean(scores['test_neg_log_loss'])}\")\n",
    "    print(f\"roc = {np.mean(scores['test_roc_auc'])}\")\n",
    "    print(f\"acc = {np.mean(scores['test_accuracy'])}\")\n",
    "    print(f\"--------------------------------------\")\n",
    "\n",
    "print(f'the best C = {best_c}')"
   ],
   "metadata": {
    "collapsed": false
   }
  },
  {
   "cell_type": "markdown",
   "source": [
    "Проверим модель на valid части"
   ],
   "metadata": {
    "collapsed": false
   }
  },
  {
   "cell_type": "code",
   "execution_count": 15,
   "outputs": [
    {
     "name": "stdout",
     "output_type": "stream",
     "text": [
      "auc = 0.7753422095428824\n",
      "log_loss = 0.1327882488762714\n"
     ]
    }
   ],
   "source": [
    "model = get_model(best_c)\n",
    "model.fit(x_train, y_train)\n",
    "\n",
    "y_pred = model.predict(x_valid)\n",
    "auc_model = roc_auc_score(y_valid, model.predict_proba(x_valid)[:, 1])\n",
    "ll_model = log_loss(y_valid, model.predict_proba(x_valid))\n",
    "print(f'auc = {auc_model}')\n",
    "print(f'log_loss = {ll_model}')"
   ],
   "metadata": {
    "collapsed": false
   }
  },
  {
   "cell_type": "markdown",
   "source": [
    "Посчитаем метрики для бейзлайна (просто среднее)."
   ],
   "metadata": {
    "collapsed": false
   }
  },
  {
   "cell_type": "code",
   "execution_count": 16,
   "outputs": [
    {
     "name": "stdout",
     "output_type": "stream",
     "text": [
      "auc = 0.5\n",
      "log_loss = 0.1533867776563465\n"
     ]
    }
   ],
   "source": [
    "y_pred_base = np.full(y_valid.shape, np.mean(y_train))\n",
    "auc_base = roc_auc_score(y_valid, y_pred_base)\n",
    "ll_base = log_loss(y_valid, y_pred_base)\n",
    "print(f'auc = {auc_base}')\n",
    "print(f'log_loss = {ll_base}')"
   ],
   "metadata": {
    "collapsed": false
   }
  },
  {
   "cell_type": "markdown",
   "source": [
    "Мы победили бейзлайн"
   ],
   "metadata": {
    "collapsed": false
   }
  }
 ],
 "metadata": {
  "kernelspec": {
   "display_name": "Python 3",
   "language": "python",
   "name": "python3"
  },
  "language_info": {
   "codemirror_mode": {
    "name": "ipython",
    "version": 2
   },
   "file_extension": ".py",
   "mimetype": "text/x-python",
   "name": "python",
   "nbconvert_exporter": "python",
   "pygments_lexer": "ipython2",
   "version": "2.7.6"
  }
 },
 "nbformat": 4,
 "nbformat_minor": 0
}
