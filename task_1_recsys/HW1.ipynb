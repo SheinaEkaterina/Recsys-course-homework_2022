{
  "nbformat": 4,
  "nbformat_minor": 0,
  "metadata": {
    "colab": {
      "provenance": []
    },
    "kernelspec": {
      "name": "python3",
      "display_name": "Python 3"
    },
    "language_info": {
      "name": "python"
    }
  },
  "cells": [
    {
      "cell_type": "code",
      "execution_count": 1,
      "metadata": {
        "colab": {
          "base_uri": "https://localhost:8080/"
        },
        "id": "-2MQSXkWg6kE",
        "outputId": "a42ca6ab-80bf-4422-9493-721ee2364e8f"
      },
      "outputs": [
        {
          "output_type": "stream",
          "name": "stdout",
          "text": [
            "Drive already mounted at /content/drive; to attempt to forcibly remount, call drive.mount(\"/content/drive\", force_remount=True).\n"
          ]
        }
      ],
      "source": [
        "from google.colab import drive\n",
        "drive.mount('/content/drive')"
      ]
    },
    {
      "cell_type": "code",
      "source": [
        "path = '/content/drive/My Drive/req_sys/hw_01/data.csv'"
      ],
      "metadata": {
        "id": "B_kfBsfUhBUq"
      },
      "execution_count": 1,
      "outputs": []
    },
    {
      "cell_type": "code",
      "source": [
        "import pandas as pd\n",
        "import numpy as np\n",
        "import matplotlib.pyplot as plt"
      ],
      "metadata": {
        "id": "XYw_y-5vhqYr"
      },
      "execution_count": 2,
      "outputs": []
    },
    {
      "cell_type": "code",
      "source": [
        "data = pd.read_csv(path)\n",
        "# сначала избавимся от всех тех колонок, которые не нужны в 1м дз по условию  \n",
        "data.drop([\"oaid_hash\", \"banner_id0\", \"banner_id1\", \"rate0\", \"rate1\", \"g0\", \"g1\", \"coeff_sum0\", \"coeff_sum1\"], axis=1, inplace=True)\n",
        "data.head()"
      ],
      "metadata": {
        "colab": {
          "base_uri": "https://localhost:8080/",
          "height": 206
        },
        "id": "chn2_FFzhfwI",
        "outputId": "65e6f5d1-9fe6-49c9-ae1e-4f7283f477aa"
      },
      "execution_count": 3,
      "outputs": [
        {
          "output_type": "execute_result",
          "data": {
            "text/plain": [
              "                    date_time  zone_id  banner_id  campaign_clicks  os_id  \\\n",
              "0  2021-09-27 00:01:30.000000        0          0                0      0   \n",
              "1  2021-09-26 22:54:49.000000        1          1                0      0   \n",
              "2  2021-09-26 23:57:20.000000        2          2                3      0   \n",
              "3  2021-09-27 00:04:30.000000        3          3                0      1   \n",
              "4  2021-09-27 00:06:21.000000        4          4                0      1   \n",
              "\n",
              "   country_id  impressions  clicks  \n",
              "0           0            1       1  \n",
              "1           1            1       1  \n",
              "2           0            1       1  \n",
              "3           1            1       1  \n",
              "4           0            1       1  "
            ],
            "text/html": [
              "\n",
              "  <div id=\"df-87326c8f-19f7-423e-bc27-5b5ac9a486e5\">\n",
              "    <div class=\"colab-df-container\">\n",
              "      <div>\n",
              "<style scoped>\n",
              "    .dataframe tbody tr th:only-of-type {\n",
              "        vertical-align: middle;\n",
              "    }\n",
              "\n",
              "    .dataframe tbody tr th {\n",
              "        vertical-align: top;\n",
              "    }\n",
              "\n",
              "    .dataframe thead th {\n",
              "        text-align: right;\n",
              "    }\n",
              "</style>\n",
              "<table border=\"1\" class=\"dataframe\">\n",
              "  <thead>\n",
              "    <tr style=\"text-align: right;\">\n",
              "      <th></th>\n",
              "      <th>date_time</th>\n",
              "      <th>zone_id</th>\n",
              "      <th>banner_id</th>\n",
              "      <th>campaign_clicks</th>\n",
              "      <th>os_id</th>\n",
              "      <th>country_id</th>\n",
              "      <th>impressions</th>\n",
              "      <th>clicks</th>\n",
              "    </tr>\n",
              "  </thead>\n",
              "  <tbody>\n",
              "    <tr>\n",
              "      <th>0</th>\n",
              "      <td>2021-09-27 00:01:30.000000</td>\n",
              "      <td>0</td>\n",
              "      <td>0</td>\n",
              "      <td>0</td>\n",
              "      <td>0</td>\n",
              "      <td>0</td>\n",
              "      <td>1</td>\n",
              "      <td>1</td>\n",
              "    </tr>\n",
              "    <tr>\n",
              "      <th>1</th>\n",
              "      <td>2021-09-26 22:54:49.000000</td>\n",
              "      <td>1</td>\n",
              "      <td>1</td>\n",
              "      <td>0</td>\n",
              "      <td>0</td>\n",
              "      <td>1</td>\n",
              "      <td>1</td>\n",
              "      <td>1</td>\n",
              "    </tr>\n",
              "    <tr>\n",
              "      <th>2</th>\n",
              "      <td>2021-09-26 23:57:20.000000</td>\n",
              "      <td>2</td>\n",
              "      <td>2</td>\n",
              "      <td>3</td>\n",
              "      <td>0</td>\n",
              "      <td>0</td>\n",
              "      <td>1</td>\n",
              "      <td>1</td>\n",
              "    </tr>\n",
              "    <tr>\n",
              "      <th>3</th>\n",
              "      <td>2021-09-27 00:04:30.000000</td>\n",
              "      <td>3</td>\n",
              "      <td>3</td>\n",
              "      <td>0</td>\n",
              "      <td>1</td>\n",
              "      <td>1</td>\n",
              "      <td>1</td>\n",
              "      <td>1</td>\n",
              "    </tr>\n",
              "    <tr>\n",
              "      <th>4</th>\n",
              "      <td>2021-09-27 00:06:21.000000</td>\n",
              "      <td>4</td>\n",
              "      <td>4</td>\n",
              "      <td>0</td>\n",
              "      <td>1</td>\n",
              "      <td>0</td>\n",
              "      <td>1</td>\n",
              "      <td>1</td>\n",
              "    </tr>\n",
              "  </tbody>\n",
              "</table>\n",
              "</div>\n",
              "      <button class=\"colab-df-convert\" onclick=\"convertToInteractive('df-87326c8f-19f7-423e-bc27-5b5ac9a486e5')\"\n",
              "              title=\"Convert this dataframe to an interactive table.\"\n",
              "              style=\"display:none;\">\n",
              "        \n",
              "  <svg xmlns=\"http://www.w3.org/2000/svg\" height=\"24px\"viewBox=\"0 0 24 24\"\n",
              "       width=\"24px\">\n",
              "    <path d=\"M0 0h24v24H0V0z\" fill=\"none\"/>\n",
              "    <path d=\"M18.56 5.44l.94 2.06.94-2.06 2.06-.94-2.06-.94-.94-2.06-.94 2.06-2.06.94zm-11 1L8.5 8.5l.94-2.06 2.06-.94-2.06-.94L8.5 2.5l-.94 2.06-2.06.94zm10 10l.94 2.06.94-2.06 2.06-.94-2.06-.94-.94-2.06-.94 2.06-2.06.94z\"/><path d=\"M17.41 7.96l-1.37-1.37c-.4-.4-.92-.59-1.43-.59-.52 0-1.04.2-1.43.59L10.3 9.45l-7.72 7.72c-.78.78-.78 2.05 0 2.83L4 21.41c.39.39.9.59 1.41.59.51 0 1.02-.2 1.41-.59l7.78-7.78 2.81-2.81c.8-.78.8-2.07 0-2.86zM5.41 20L4 18.59l7.72-7.72 1.47 1.35L5.41 20z\"/>\n",
              "  </svg>\n",
              "      </button>\n",
              "      \n",
              "  <style>\n",
              "    .colab-df-container {\n",
              "      display:flex;\n",
              "      flex-wrap:wrap;\n",
              "      gap: 12px;\n",
              "    }\n",
              "\n",
              "    .colab-df-convert {\n",
              "      background-color: #E8F0FE;\n",
              "      border: none;\n",
              "      border-radius: 50%;\n",
              "      cursor: pointer;\n",
              "      display: none;\n",
              "      fill: #1967D2;\n",
              "      height: 32px;\n",
              "      padding: 0 0 0 0;\n",
              "      width: 32px;\n",
              "    }\n",
              "\n",
              "    .colab-df-convert:hover {\n",
              "      background-color: #E2EBFA;\n",
              "      box-shadow: 0px 1px 2px rgba(60, 64, 67, 0.3), 0px 1px 3px 1px rgba(60, 64, 67, 0.15);\n",
              "      fill: #174EA6;\n",
              "    }\n",
              "\n",
              "    [theme=dark] .colab-df-convert {\n",
              "      background-color: #3B4455;\n",
              "      fill: #D2E3FC;\n",
              "    }\n",
              "\n",
              "    [theme=dark] .colab-df-convert:hover {\n",
              "      background-color: #434B5C;\n",
              "      box-shadow: 0px 1px 3px 1px rgba(0, 0, 0, 0.15);\n",
              "      filter: drop-shadow(0px 1px 2px rgba(0, 0, 0, 0.3));\n",
              "      fill: #FFFFFF;\n",
              "    }\n",
              "  </style>\n",
              "\n",
              "      <script>\n",
              "        const buttonEl =\n",
              "          document.querySelector('#df-87326c8f-19f7-423e-bc27-5b5ac9a486e5 button.colab-df-convert');\n",
              "        buttonEl.style.display =\n",
              "          google.colab.kernel.accessAllowed ? 'block' : 'none';\n",
              "\n",
              "        async function convertToInteractive(key) {\n",
              "          const element = document.querySelector('#df-87326c8f-19f7-423e-bc27-5b5ac9a486e5');\n",
              "          const dataTable =\n",
              "            await google.colab.kernel.invokeFunction('convertToInteractive',\n",
              "                                                     [key], {});\n",
              "          if (!dataTable) return;\n",
              "\n",
              "          const docLinkHtml = 'Like what you see? Visit the ' +\n",
              "            '<a target=\"_blank\" href=https://colab.research.google.com/notebooks/data_table.ipynb>data table notebook</a>'\n",
              "            + ' to learn more about interactive tables.';\n",
              "          element.innerHTML = '';\n",
              "          dataTable['output_type'] = 'display_data';\n",
              "          await google.colab.output.renderOutput(dataTable, element);\n",
              "          const docLink = document.createElement('div');\n",
              "          docLink.innerHTML = docLinkHtml;\n",
              "          element.appendChild(docLink);\n",
              "        }\n",
              "      </script>\n",
              "    </div>\n",
              "  </div>\n",
              "  "
            ]
          },
          "metadata": {},
          "execution_count": 3
        }
      ]
    },
    {
      "cell_type": "code",
      "source": [
        "def analysis(data: pd.DataFrame):\n",
        "    # проверим, есть ли null значения\n",
        "    count_null = data.isnull().sum().sum()\n",
        "    print('Количетво null значений =', count_null)\n",
        "    # посмотрим на уникальные значения для каждой фичи и для изучения распределения построим гистограмму\n",
        "    features = ['os_id', 'country_id', 'banner_id', 'zone_id', 'impressions', 'campaign_clicks']\n",
        "    for feature in features:\n",
        "        uniq_vals = data[feature].nunique()\n",
        "        print(f\"Количество уникальных значений для {feature}:  {uniq_vals}\")\n",
        "        plt.hist(data[feature], bins=min(50,uniq_vals))\n",
        "        plt.show()\n",
        "   # на какие-то характеристик даты посмотрим отдельно\n",
        "    data['date_time'] = pd.to_datetime(data['date_time'])\n",
        "    data_time = data.copy()\n",
        "    data_time['date'] = data['date_time'].dt.date\n",
        "    print(data_time['date'].value_counts())\n"
      ],
      "metadata": {
        "id": "U5OZcLXthm46"
      },
      "execution_count": 4,
      "outputs": []
    },
    {
      "cell_type": "code",
      "source": [
        "analysis(data)"
      ],
      "metadata": {
        "colab": {
          "base_uri": "https://localhost:8080/",
          "height": 1000
        },
        "id": "WY5vPQENqbcV",
        "outputId": "a99c41b7-d18c-4f80-ebeb-ad174fb51add"
      },
      "execution_count": 5,
      "outputs": [
        {
          "output_type": "stream",
          "name": "stdout",
          "text": [
            "Количетво null значений = 0\n",
            "Количество уникальных значений для os_id:  11\n"
          ]
        },
        {
          "output_type": "display_data",
          "data": {
            "text/plain": [
              "<Figure size 432x288 with 1 Axes>"
            ],
            "image/png": "[encoded data removed]"
          },
          "metadata": {
            "needs_background": "light"
          }
        },
        {
          "output_type": "stream",
          "name": "stdout",
          "text": [
            "Количество уникальных значений для country_id:  17\n"
          ]
        },
        {
          "output_type": "display_data",
          "data": {
            "text/plain": [
              "<Figure size 432x288 with 1 Axes>"
            ],
            "image/png": "[encoded data removed]"
          },
          "metadata": {
            "needs_background": "light"
          }
        },
        {
          "output_type": "stream",
          "name": "stdout",
          "text": [
            "Количество уникальных значений для banner_id:  1633\n"
          ]
        },
        {
          "output_type": "display_data",
          "data": {
            "text/plain": [
              "<Figure size 432x288 with 1 Axes>"
            ],
            "image/png": "[encoded data removed]"
          },
          "metadata": {
            "needs_background": "light"
          }
        },
        {
          "output_type": "stream",
          "name": "stdout",
          "text": [
            "Количество уникальных значений для zone_id:  3444\n"
          ]
        },
        {
          "output_type": "display_data",
          "data": {
            "text/plain": [
              "<Figure size 432x288 with 1 Axes>"
            ],
            "image/png": "[encoded data removed]"
          },
          "metadata": {
            "needs_background": "light"
          }
        },
        {
          "output_type": "stream",
          "name": "stdout",
          "text": [
            "Количество уникальных значений для impressions:  1\n"
          ]
        },
        {
          "output_type": "display_data",
          "data": {
            "text/plain": [
              "<Figure size 432x288 with 1 Axes>"
            ],
            "image/png": "[encoded data removed]"
          },
          "metadata": {
            "needs_background": "light"
          }
        },
        {
          "output_type": "stream",
          "name": "stdout",
          "text": [
            "Количество уникальных значений для campaign_clicks:  822\n"
          ]
        },
        {
          "output_type": "display_data",
          "data": {
            "text/plain": [
              "<Figure size 432x288 with 1 Axes>"
            ],
            "image/png": "[encoded data removed]"
          },
          "metadata": {
            "needs_background": "light"
          }
        },
        {
          "output_type": "stream",
          "name": "stdout",
          "text": [
            "2021-09-26    3102610\n",
            "2021-09-29    2420588\n",
            "2021-09-27    2367303\n",
            "2021-09-28    2307355\n",
            "2021-10-02    2128978\n",
            "2021-09-30    1851189\n",
            "2021-10-01    1643448\n",
            "2021-09-01          1\n",
            "Name: date, dtype: int64\n"
          ]
        }
      ]
    },
    {
      "cell_type": "markdown",
      "source": [
        "Можно сделать следующие наблюдения: \\\\\n",
        "1) null значений нет => дополнительно ничего вычищать не надо \\\\\n",
        "2) impressions не несет никакой полезной информации, т.к. все значения в нем равны 1 => удалим \\\\\n",
        "3) Дат не так много и видно, что все кроме одной (2021-09-01) идут последовательно друг за другом, в эту же \"странную\" дату попало всего 1 значение, очень похоже на выброс, поэтому уберем эту дату \\\\\n",
        "4) campaign_clicks однозначно подлежит нормировке \\\\\n",
        "5) Много уникальных зон и банеров, при этом плотность значений прижимается к левому краю распределения => редкие можем объединить в 1 категорию (в итоге я это не стала делать, хотя смысл определенно в этом был, но и без этого итоговый результат хороший) \\\\\n",
        "6) Из даты больше всего информации несут часы (можно было бы еще разделить сутки на части, но я думаю, это не существенно), т.к. временные данные представлены узким временным отрезком (неделя или чуть больше) \\\\\n",
        "7*) Я пробовала создавать интеракции (банер+час, зона + операционка), но это никак почти что не повлияло на итоговые метрики (скорее, из-за того, что веса у этих фич в итоге были небольшие и оптимизатор фичей их просто почти что все выкинул) "
      ],
      "metadata": {
        "id": "HDb_yN0z59eI"
      }
    },
    {
      "cell_type": "code",
      "source": [
        "from sklearn.preprocessing import OneHotEncoder, StandardScaler"
      ],
      "metadata": {
        "id": "3XYLThhTDwc0"
      },
      "execution_count": 6,
      "outputs": []
    },
    {
      "cell_type": "code",
      "source": [
        "print(data.head())"
      ],
      "metadata": {
        "colab": {
          "base_uri": "https://localhost:8080/"
        },
        "id": "VkyDhKIOE-O8",
        "outputId": "f4074f58-5d22-4eba-fbe3-f6fdcf10e7ed"
      },
      "execution_count": 7,
      "outputs": [
        {
          "output_type": "stream",
          "name": "stdout",
          "text": [
            "            date_time  zone_id  banner_id  campaign_clicks  os_id  country_id  \\\n",
            "0 2021-09-27 00:01:30        0          0                0      0           0   \n",
            "1 2021-09-26 22:54:49        1          1                0      0           1   \n",
            "2 2021-09-26 23:57:20        2          2                3      0           0   \n",
            "3 2021-09-27 00:04:30        3          3                0      1           1   \n",
            "4 2021-09-27 00:06:21        4          4                0      1           0   \n",
            "\n",
            "   impressions  clicks  \n",
            "0            1       1  \n",
            "1            1       1  \n",
            "2            1       1  \n",
            "3            1       1  \n",
            "4            1       1  \n"
          ]
        }
      ]
    },
    {
      "cell_type": "code",
      "source": [
        "from scipy import sparse"
      ],
      "metadata": {
        "id": "-drwQvLpHHrg"
      },
      "execution_count": 8,
      "outputs": []
    },
    {
      "cell_type": "code",
      "source": [
        "def feature_engineering(data: pd.DataFrame) -> pd.DataFrame:\n",
        "    # чистим данные в соответствии с выводами выше\n",
        "    data['date_time'] = pd.to_datetime(data['date_time'])\n",
        "    data = data.drop(['impressions'], axis=1)\n",
        "    data = data[data['date_time'] > '2021-09-02']\n",
        "    data['hour'] = data['date_time'].dt.hour\n",
        "    # у нас есть категориальные фичи и условно числовая фича, которую нормируем\n",
        "    numerical = ['campaign_clicks']\n",
        "    # date_time сам по себе не несет какой-то информации,\n",
        "    # поэтому этой колонки и нет в итоговых фичах, вместо нее - часы \n",
        "    categorial = ['os_id', 'country_id', 'banner_id', 'zone_id', 'hour']\n",
        "\n",
        "    data[numerical] = StandardScaler().fit_transform(data[numerical])\n",
        "    # делаем разбиение на трейн и тест: берем в тест последний день\n",
        "    train = data[data['date_time'] < '2021-10-02']\n",
        "    test = data[data['date_time'] >='2021-10-02']\n",
        "    y_train = train['clicks']\n",
        "    y_test = test['clicks']\n",
        "    train = train.drop(['date_time', \"clicks\"], axis=1)\n",
        "    test = test.drop(['date_time', \"clicks\"], axis=1)\n",
        "    # делаем ван хот энкодинг категориальных фичей\n",
        "    enc = OneHotEncoder(handle_unknown='ignore')\n",
        "    X_train = enc.fit_transform(train[categorial])\n",
        "    X_test = enc.transform(test[categorial])\n",
        "\n",
        "    X_train = sparse.hstack([X_train, train[numerical]])\n",
        "    X_test = sparse.hstack([X_test, test[numerical]])\n",
        "    # конвертируем в разреженную матрицу\n",
        "    X_train = X_train.tocsr()\n",
        "    X_test = X_test.tocsr()\n",
        "    return X_train, y_train, X_test, y_test"
      ],
      "metadata": {
        "id": "dT-EtIjZ9I03"
      },
      "execution_count": 9,
      "outputs": []
    },
    {
      "cell_type": "code",
      "source": [
        "X_train, y_train, X_test, y_test = feature_engineering(data)"
      ],
      "metadata": {
        "id": "-06uHVnrDv6k"
      },
      "execution_count": 10,
      "outputs": []
    },
    {
      "cell_type": "code",
      "source": [
        "# получилось достаточно много признаков из-за ван эн хот кодирования"
      ],
      "metadata": {
        "id": "J8EPI3XwiqAE"
      },
      "execution_count": null,
      "outputs": []
    },
    {
      "cell_type": "code",
      "source": [
        "print(X_train.shape)"
      ],
      "metadata": {
        "colab": {
          "base_uri": "https://localhost:8080/"
        },
        "id": "Cp8IiuY5ajbt",
        "outputId": "eef64ed4-d26b-4bc9-800a-16132a87938c"
      },
      "execution_count": 11,
      "outputs": [
        {
          "output_type": "stream",
          "name": "stdout",
          "text": [
            "(13692493, 4969)\n"
          ]
        }
      ]
    },
    {
      "cell_type": "code",
      "source": [],
      "metadata": {
        "id": "5b66yaA0alvH"
      },
      "execution_count": 12,
      "outputs": []
    },
    {
      "cell_type": "code",
      "source": [
        "from sklearn.linear_model import LogisticRegression\n"
      ],
      "metadata": {
        "id": "6DYDe75fD9Xu"
      },
      "execution_count": 12,
      "outputs": []
    },
    {
      "cell_type": "code",
      "source": [],
      "metadata": {
        "id": "6icpsuJ1iwHm"
      },
      "execution_count": null,
      "outputs": []
    },
    {
      "cell_type": "code",
      "source": [
        "# создаем модель, берем логистическую регрессию: оптимизатор liblinear - не SGD like + обсуждалась на лекции, поэтому взяла его\n",
        "# состояние фиксируем для воспроизводимости \n",
        "def create_model(C=0.1):\n",
        "    model = LogisticRegression(solver='liblinear', C=C, penalty='l2', random_state=42)\n",
        "    return model"
      ],
      "metadata": {
        "id": "Mzvq4iAzG4k0"
      },
      "execution_count": 13,
      "outputs": []
    },
    {
      "cell_type": "code",
      "source": [
        "from sklearn.model_selection import cross_validate"
      ],
      "metadata": {
        "id": "PCgFq8ueIN5f"
      },
      "execution_count": 14,
      "outputs": []
    },
    {
      "cell_type": "code",
      "source": [
        "from sklearn.feature_selection import SelectFromModel"
      ],
      "metadata": {
        "id": "QjZjjLkgcbuJ"
      },
      "execution_count": 15,
      "outputs": []
    },
    {
      "cell_type": "code",
      "source": [
        "# слишком много фич, поэтому возьмем только те, чьи веса важны\n",
        "model = create_model()\n",
        "model_cut = SelectFromModel(model)\n",
        "model_cut.fit(X_train, y_train)\n"
      ],
      "metadata": {
        "colab": {
          "base_uri": "https://localhost:8080/"
        },
        "id": "0BtaLcvXcWw_",
        "outputId": "a03e2f94-713a-4876-e0c5-0337e5dc25ce"
      },
      "execution_count": 17,
      "outputs": [
        {
          "output_type": "execute_result",
          "data": {
            "text/plain": [
              "SelectFromModel(estimator=LogisticRegression(C=0.1, random_state=42,\n",
              "                                             solver='liblinear'))"
            ]
          },
          "metadata": {},
          "execution_count": 17
        }
      ]
    },
    {
      "cell_type": "code",
      "source": [
        "X_train = model_cut.transform(X_train)\n",
        "X_test = model_cut.transform(X_test)"
      ],
      "metadata": {
        "id": "o49Ok7kSfCL2"
      },
      "execution_count": 19,
      "outputs": []
    },
    {
      "cell_type": "code",
      "source": [
        "# сделем кросс-валидацию: зададим +- стандартную сетку параметра регуляризации и переберем ее,\n",
        "# перебирать виды регуляризации долго, я остановилась сразу на l2\n",
        "def cv():\n",
        "    C_grid = [0.001, 0.01, 0.1, 1.0, 10.0]\n",
        "\n",
        "    for C in C_grid:\n",
        "      model = create_model(C=C)\n",
        "      res = cross_validate(model, X_train, y_train, scoring=['neg_log_loss', 'roc_auc'], cv=5)\n",
        "      print(\"C= \" , C)\n",
        "      print('Log loss ', -np.mean(res['test_neg_log_loss']))\n",
        "      print('Roc auc ', np.mean(res['test_roc_auc']))\n",
        "    return res"
      ],
      "metadata": {
        "id": "yRknT2GCIWST"
      },
      "execution_count": 24,
      "outputs": []
    },
    {
      "cell_type": "code",
      "source": [
        "res = cv()"
      ],
      "metadata": {
        "colab": {
          "base_uri": "https://localhost:8080/"
        },
        "id": "BDNCBRjWJvtT",
        "outputId": "8ac13a3a-728b-4252-d656-dd2e77721635"
      },
      "execution_count": 25,
      "outputs": [
        {
          "output_type": "stream",
          "name": "stdout",
          "text": [
            "C=  0.001\n",
            "Log loss  0.11088218866473756\n",
            "Roc auc  0.7044281189350821\n",
            "C=  0.01\n",
            "Log loss  0.11016700368551494\n",
            "Roc auc  0.7150845006866104\n",
            "C=  0.1\n",
            "Log loss  0.11018285413721492\n",
            "Roc auc  0.7166397799755533\n",
            "C=  1.0\n",
            "Log loss  0.11022325856755526\n",
            "Roc auc  0.7169563400222765\n",
            "C=  10.0\n",
            "Log loss  0.11024711099902777\n",
            "Roc auc  0.7169926618347953\n"
          ]
        }
      ]
    },
    {
      "cell_type": "code",
      "source": [
        "best_C = 0.01"
      ],
      "metadata": {
        "id": "7xXVo7OGK3ox"
      },
      "execution_count": 31,
      "outputs": []
    },
    {
      "cell_type": "code",
      "source": [
        "from sklearn.metrics import log_loss, roc_auc_score"
      ],
      "metadata": {
        "id": "XddhDEG1LH3O"
      },
      "execution_count": 32,
      "outputs": []
    },
    {
      "cell_type": "code",
      "source": [
        "# обучим модель с лучшим коэффициентом регуляризации\n",
        "model = create_model(best_C)\n",
        "model.fit(X_train, y_train)\n",
        "y_pred = model.predict(X_test)\n",
        "auc = roc_auc_score(y_test, model.predict_proba(X_test)[:, 1])\n",
        "logloss = log_loss(y_test, model.predict_proba(X_test))\n",
        "print('Auc roc = ', auc,'   logloss = ', logloss)\n",
        "\n",
        "# сравним с бейзлайном: предикт среднего по выборке\n",
        "y_pred_baseline = np.full(y_pred.shape, np.mean(y_train))\n",
        "auc_baseline = roc_auc_score(y_test, y_pred_baseline)\n",
        "logloss_baseline = log_loss(y_test, y_pred_baseline)\n",
        "print('Auc roc = ', auc_baseline,'   logloss = ', logloss_baseline)"
      ],
      "metadata": {
        "colab": {
          "base_uri": "https://localhost:8080/"
        },
        "id": "ytZTlgD6J7M0",
        "outputId": "401b2ad3-9e80-4375-a8d4-19c27bd57467"
      },
      "execution_count": 35,
      "outputs": [
        {
          "output_type": "stream",
          "name": "stdout",
          "text": [
            "Auc roc =  0.7788281176914976    logloss =  0.13364395049140051\n",
            "Auc roc =  0.5    logloss =  0.15486197934508547\n"
          ]
        }
      ]
    },
    {
      "cell_type": "markdown",
      "source": [
        "Ура, побили бейзлайн"
      ],
      "metadata": {
        "id": "G9BbXfZ5yJXj"
      }
    },
    {
      "cell_type": "code",
      "source": [],
      "metadata": {
        "id": "xHDT1tie4kiz"
      },
      "execution_count": null,
      "outputs": []
    }
  ]
}