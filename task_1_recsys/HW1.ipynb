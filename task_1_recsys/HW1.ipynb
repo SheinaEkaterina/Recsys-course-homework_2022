{
 "cells": [
  {
   "cell_type": "code",
   "execution_count": 5,
   "metadata": {
    "collapsed": true,
    "pycharm": {
     "name": "#%%\n"
    }
   },
   "outputs": [],
   "source": [
    "import pandas as pd\n",
    "import numpy as np"
   ]
  },
  {
   "cell_type": "markdown",
   "source": [
    "Считываем данные: я считываю 1 процент от всех рандомно ради ускорения подсчётов. И сразу дропаем ненужные по условию колонки."
   ],
   "metadata": {
    "collapsed": false,
    "pycharm": {
     "name": "#%% md\n"
    }
   }
  },
  {
   "cell_type": "code",
   "execution_count": 6,
   "outputs": [
    {
     "data": {
      "text/plain": "                           date_time  zone_id  banner_id  campaign_clicks  \\\n741246    2021-09-29 18:06:03.000000       13        358                0   \n11133560  2021-09-26 02:04:47.000000        0          3                0   \n5348767   2021-09-28 00:26:59.000000       15         16               16   \n4078254   2021-09-26 17:07:20.000000       17         59                0   \n8784861   2021-09-29 15:47:26.000000       17         22                0   \n\n          os_id  country_id  impressions  clicks  \n741246        2           5            1       0  \n11133560      2           1            1       0  \n5348767       0           6            1       0  \n4078254       2           7            1       0  \n8784861       2           7            1       0  ",
      "text/html": "<div>\n<style scoped>\n    .dataframe tbody tr th:only-of-type {\n        vertical-align: middle;\n    }\n\n    .dataframe tbody tr th {\n        vertical-align: top;\n    }\n\n    .dataframe thead th {\n        text-align: right;\n    }\n</style>\n<table border=\"1\" class=\"dataframe\">\n  <thead>\n    <tr style=\"text-align: right;\">\n      <th></th>\n      <th>date_time</th>\n      <th>zone_id</th>\n      <th>banner_id</th>\n      <th>campaign_clicks</th>\n      <th>os_id</th>\n      <th>country_id</th>\n      <th>impressions</th>\n      <th>clicks</th>\n    </tr>\n  </thead>\n  <tbody>\n    <tr>\n      <th>741246</th>\n      <td>2021-09-29 18:06:03.000000</td>\n      <td>13</td>\n      <td>358</td>\n      <td>0</td>\n      <td>2</td>\n      <td>5</td>\n      <td>1</td>\n      <td>0</td>\n    </tr>\n    <tr>\n      <th>11133560</th>\n      <td>2021-09-26 02:04:47.000000</td>\n      <td>0</td>\n      <td>3</td>\n      <td>0</td>\n      <td>2</td>\n      <td>1</td>\n      <td>1</td>\n      <td>0</td>\n    </tr>\n    <tr>\n      <th>5348767</th>\n      <td>2021-09-28 00:26:59.000000</td>\n      <td>15</td>\n      <td>16</td>\n      <td>16</td>\n      <td>0</td>\n      <td>6</td>\n      <td>1</td>\n      <td>0</td>\n    </tr>\n    <tr>\n      <th>4078254</th>\n      <td>2021-09-26 17:07:20.000000</td>\n      <td>17</td>\n      <td>59</td>\n      <td>0</td>\n      <td>2</td>\n      <td>7</td>\n      <td>1</td>\n      <td>0</td>\n    </tr>\n    <tr>\n      <th>8784861</th>\n      <td>2021-09-29 15:47:26.000000</td>\n      <td>17</td>\n      <td>22</td>\n      <td>0</td>\n      <td>2</td>\n      <td>7</td>\n      <td>1</td>\n      <td>0</td>\n    </tr>\n  </tbody>\n</table>\n</div>"
     },
     "execution_count": 6,
     "metadata": {},
     "output_type": "execute_result"
    }
   ],
   "source": [
    "data = pd.read_csv('../data/data.csv').sample(frac=0.01, random_state=1337)\n",
    "data.drop(['oaid_hash', 'banner_id0', 'banner_id1', 'rate0', 'rate1', 'g0', 'g1', 'coeff_sum0', 'coeff_sum1'], axis=1, inplace=True)\n",
    "data.head()"
   ],
   "metadata": {
    "collapsed": false,
    "pycharm": {
     "name": "#%%\n"
    }
   }
  },
  {
   "cell_type": "markdown",
   "source": [
    "Проверяем есть в данных нулы или нет, есть ли данные, которые не были показаны и смотрим достаточно ли хорошо мы рандомно взяли данные по дням: для этого приводим дату к `datetime`."
   ],
   "metadata": {
    "collapsed": false,
    "pycharm": {
     "name": "#%% md\n"
    }
   }
  },
  {
   "cell_type": "code",
   "execution_count": 7,
   "outputs": [
    {
     "name": "stdout",
     "output_type": "stream",
     "text": [
      "Any nulls in data=False\n",
      "Is there not impressed ad=False\n",
      "Number of rows in different days\n",
      "            date_time  zone_id  banner_id  campaign_clicks  os_id  country_id  \\\n",
      "date_time                                                                       \n",
      "2021-09-26      30924    30924      30924            30924  30924       30924   \n",
      "2021-09-27      23708    23708      23708            23708  23708       23708   \n",
      "2021-09-28      22882    22882      22882            22882  22882       22882   \n",
      "2021-09-29      24498    24498      24498            24498  24498       24498   \n",
      "2021-09-30      18502    18502      18502            18502  18502       18502   \n",
      "2021-10-01      16371    16371      16371            16371  16371       16371   \n",
      "2021-10-02      21330    21330      21330            21330  21330       21330   \n",
      "\n",
      "            impressions  clicks  \n",
      "date_time                        \n",
      "2021-09-26        30924   30924  \n",
      "2021-09-27        23708   23708  \n",
      "2021-09-28        22882   22882  \n",
      "2021-09-29        24498   24498  \n",
      "2021-09-30        18502   18502  \n",
      "2021-10-01        16371   16371  \n",
      "2021-10-02        21330   21330  \n"
     ]
    }
   ],
   "source": [
    "def analysis(data: pd.DataFrame):\n",
    "    print(f\"Any nulls in data={data.isnull().values.any()}\")\n",
    "    print(f\"Is there not impressed ad={(data['impressions'] == 0).any()}\")\n",
    "    print(\"Number of rows in different days\")\n",
    "    data['date_time'] = pd.to_datetime(data['date_time'])\n",
    "    print(data.groupby([data['date_time'].dt.date]).count())\n",
    "\n",
    "analysis(data)"
   ],
   "metadata": {
    "collapsed": false,
    "pycharm": {
     "name": "#%%\n"
    }
   }
  },
  {
   "cell_type": "markdown",
   "source": [
    "По результатам анализа удаляем impressions. Также я удалил campaign_clicks, потому что по-моему это ни о чём не говорит, так как пользователь мог и не заметить то, что мы ему что-то показываем, а также для удобства, так как это единственная некатегориальная фича и мы в итоге побили бейзлайн и без неё."
   ],
   "metadata": {
    "collapsed": false,
    "pycharm": {
     "name": "#%% md\n"
    }
   }
  },
  {
   "cell_type": "code",
   "execution_count": 8,
   "outputs": [],
   "source": [
    "from sklearn.preprocessing import OneHotEncoder\n",
    "\n",
    "def feature_engineering(data: pd.DataFrame) -> (pd.DataFrame, pd.DataFrame, pd.DataFrame, pd.DataFrame):\n",
    "    data.drop(['campaign_clicks', 'impressions'], axis=1, inplace=True)\n",
    "    train = data[data['date_time'] < '2021-10-02']\n",
    "    train_clicks = train['clicks']\n",
    "    test = data[data['date_time'] >= '2021-10-02']\n",
    "    test_clicks = test['clicks']\n",
    "    train = train.drop(['date_time', 'clicks'], axis=1)\n",
    "    test = test.drop(['date_time', 'clicks'], axis=1)\n",
    "    ohe = OneHotEncoder(handle_unknown='ignore')\n",
    "    train = ohe.fit_transform(train)\n",
    "    test = ohe.transform(test)\n",
    "    return train, train_clicks, test, test_clicks\n",
    "\n",
    "train_x, train_y, test_x, test_y = feature_engineering(data)"
   ],
   "metadata": {
    "collapsed": false,
    "pycharm": {
     "name": "#%%\n"
    }
   }
  },
  {
   "cell_type": "markdown",
   "source": [
    "Проверяем, что все данные имеют ожидаемый размер."
   ],
   "metadata": {
    "collapsed": false,
    "pycharm": {
     "name": "#%% md\n"
    }
   }
  },
  {
   "cell_type": "code",
   "execution_count": 9,
   "outputs": [
    {
     "name": "stdout",
     "output_type": "stream",
     "text": [
      "                   date_time  zone_id  banner_id  os_id  country_id  clicks\n",
      "741246   2021-09-29 18:06:03       13        358      2           5       0\n",
      "11133560 2021-09-26 02:04:47        0          3      2           1       0\n",
      "5348767  2021-09-28 00:26:59       15         16      0           6       0\n",
      "4078254  2021-09-26 17:07:20       17         59      2           7       0\n",
      "8784861  2021-09-29 15:47:26       17         22      2           7       0\n",
      "(158215, 6)\n",
      "(136885,)\n",
      "(136885, 2184)\n"
     ]
    }
   ],
   "source": [
    "print(data.head())\n",
    "print(data.shape)\n",
    "print(train_y.shape)\n",
    "print(train_x.shape)"
   ],
   "metadata": {
    "collapsed": false,
    "pycharm": {
     "name": "#%%\n"
    }
   }
  },
  {
   "cell_type": "markdown",
   "source": [
    "Используем LogisticRegression, который упоминался в лекции, вместе с liblinear - не SGD-like оптимизатором."
   ],
   "metadata": {
    "collapsed": false,
    "pycharm": {
     "name": "#%% md\n"
    }
   }
  },
  {
   "cell_type": "code",
   "execution_count": 10,
   "outputs": [],
   "source": [
    "from sklearn.linear_model import LogisticRegression\n",
    "\n",
    "def create_model(penalty, C):\n",
    "    return LogisticRegression(C = C, penalty=penalty, solver='liblinear')"
   ],
   "metadata": {
    "collapsed": false,
    "pycharm": {
     "name": "#%%\n"
    }
   }
  },
  {
   "cell_type": "markdown",
   "source": [
    "Были эксперименты с l1, но без каких-либо приростов, поэтому в итоговом прогоне решил его не оставлять. Как видно, C=1 показал лучшие метрики"
   ],
   "metadata": {
    "collapsed": false,
    "pycharm": {
     "name": "#%% md\n"
    }
   }
  },
  {
   "cell_type": "code",
   "execution_count": 11,
   "outputs": [
    {
     "name": "stdout",
     "output_type": "stream",
     "text": [
      "C=0.001, neg_los_loss=-0.11995052836774181, roc_auc=0.6227093187693808, penalty=l2\n",
      "C=0.01, neg_los_loss=-0.10993894859474289, roc_auc=0.7025020493358, penalty=l2\n",
      "C=0.1, neg_los_loss=-0.10641176293498181, roc_auc=0.7363618610540742, penalty=l2\n",
      "C=1, neg_los_loss=-0.10591685029366242, roc_auc=0.7390292097447666, penalty=l2\n",
      "C=10, neg_los_loss=-0.10885617620559566, roc_auc=0.7227832760412876, penalty=l2\n",
      "C=100, neg_los_loss=-0.11366192945983244, roc_auc=0.710983583716881, penalty=l2\n"
     ]
    }
   ],
   "source": [
    "from sklearn.model_selection import cross_validate\n",
    "\n",
    "def cv(x, y):\n",
    "    Cs = [0.001, 0.01, 0.1, 1, 10, 100]\n",
    "    for penalty in ['l2']:\n",
    "        for C in Cs:\n",
    "            model = create_model(penalty, C)\n",
    "            scores = cross_validate(model, x, y, scoring=['neg_log_loss', 'roc_auc'], cv=5)\n",
    "            print(f\"C={C}, neg_los_loss={np.mean(scores['test_neg_log_loss'])}, roc_auc={np.mean(scores['test_roc_auc'])}, penalty={penalty}\")\n",
    "\n",
    "cv(train_x, train_y)"
   ],
   "metadata": {
    "collapsed": false,
    "pycharm": {
     "name": "#%%\n"
    }
   }
  },
  {
   "cell_type": "markdown",
   "source": [
    "Сравниваем нашу лучшую модель с бейзлайном, чтобы удостовериться, что мы лучше."
   ],
   "metadata": {
    "collapsed": false,
    "pycharm": {
     "name": "#%% md\n"
    }
   }
  },
  {
   "cell_type": "code",
   "execution_count": 12,
   "outputs": [
    {
     "name": "stdout",
     "output_type": "stream",
     "text": [
      "roc_auc=0.7523089444288413, log_loss=0.14680601301522303\n",
      "roc_auc_base: 0.5, log_loss base: 0.16643236596578298\n"
     ]
    }
   ],
   "source": [
    "from sklearn.metrics import roc_auc_score, log_loss\n",
    "\n",
    "model = create_model(penalty='l2', C=1).fit(train_x, train_y)\n",
    "y_pred_proba = model.predict_proba(test_x)[:, 1]\n",
    "roc_auc_metric = roc_auc_score(test_y, y_pred_proba)\n",
    "log_loss_metric = log_loss(test_y, y_pred_proba)\n",
    "print(f\"roc_auc={roc_auc_metric}, log_loss={log_loss_metric}\")\n",
    "\n",
    "y_pred_base = np.full(y_pred_proba.shape, np.mean(train_y))\n",
    "roc_auc_metric_base = roc_auc_score(test_y, y_pred_base)\n",
    "log_loss_metric_base = log_loss(test_y, y_pred_base)\n",
    "print(f\"roc_auc_base: {roc_auc_metric_base}, log_loss base: {log_loss_metric_base}\")"
   ],
   "metadata": {
    "collapsed": false,
    "pycharm": {
     "name": "#%%\n"
    }
   }
  },
  {
   "cell_type": "code",
   "execution_count": 12,
   "outputs": [],
   "source": [],
   "metadata": {
    "collapsed": false,
    "pycharm": {
     "name": "#%%\n"
    }
   }
  }
 ],
 "metadata": {
  "kernelspec": {
   "display_name": "Python 3",
   "language": "python",
   "name": "python3"
  },
  "language_info": {
   "codemirror_mode": {
    "name": "ipython",
    "version": 2
   },
   "file_extension": ".py",
   "mimetype": "text/x-python",
   "name": "python",
   "nbconvert_exporter": "python",
   "pygments_lexer": "ipython2",
   "version": "2.7.6"
  }
 },
 "nbformat": 4,
 "nbformat_minor": 0
}