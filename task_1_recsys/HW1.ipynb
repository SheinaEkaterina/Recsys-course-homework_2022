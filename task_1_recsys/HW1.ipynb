{
  "cells": [
    {
      "cell_type": "code",
      "execution_count": 1,
      "metadata": {
        "collapsed": true,
        "id": "llLicYbn7bnF"
      },
      "outputs": [],
      "source": [
        "import pandas as pd\n",
        "import numpy as np\n",
        "import matplotlib.pyplot as plt\n",
        "from sklearn import preprocessing\n",
        "from sklearn.model_selection import cross_validate\n",
        "from sklearn.linear_model import LogisticRegression\n",
        "from sklearn.metrics import roc_auc_score, log_loss\n",
        "\n",
        "from scipy.sparse import hstack\n",
        "\n",
        "from typing import Tuple, Dict"
      ]
    },
    {
      "cell_type": "code",
      "execution_count": 3,
      "metadata": {
        "id": "XHqj_ya77oS-"
      },
      "outputs": [],
      "source": [
        "# global variables\n",
        "PATH_TO_DATA_FILE : str = 'drive/MyDrive/data/data.csv' # путь к файлу с данными"
      ]
    },
    {
      "cell_type": "code",
      "execution_count": 4,
      "metadata": {
        "colab": {
          "base_uri": "https://localhost:8080/",
          "height": 206
        },
        "id": "a8MWe0vD7bnH",
        "outputId": "3b9b1eae-be32-4aea-e552-4c15b15b4d61",
        "pycharm": {
          "name": "#%%\n"
        }
      },
      "outputs": [
        {
          "data": {
            "text/html": [
              "\n",
              "  <div id=\"df-9f299211-2f1e-45b2-886e-b234073f4b0f\">\n",
              "    <div class=\"colab-df-container\">\n",
              "      <div>\n",
              "<style scoped>\n",
              "    .dataframe tbody tr th:only-of-type {\n",
              "        vertical-align: middle;\n",
              "    }\n",
              "\n",
              "    .dataframe tbody tr th {\n",
              "        vertical-align: top;\n",
              "    }\n",
              "\n",
              "    .dataframe thead th {\n",
              "        text-align: right;\n",
              "    }\n",
              "</style>\n",
              "<table border=\"1\" class=\"dataframe\">\n",
              "  <thead>\n",
              "    <tr style=\"text-align: right;\">\n",
              "      <th></th>\n",
              "      <th>date_time</th>\n",
              "      <th>zone_id</th>\n",
              "      <th>banner_id</th>\n",
              "      <th>oaid_hash</th>\n",
              "      <th>campaign_clicks</th>\n",
              "      <th>os_id</th>\n",
              "      <th>country_id</th>\n",
              "      <th>banner_id0</th>\n",
              "      <th>rate0</th>\n",
              "      <th>g0</th>\n",
              "      <th>coeff_sum0</th>\n",
              "      <th>banner_id1</th>\n",
              "      <th>rate1</th>\n",
              "      <th>g1</th>\n",
              "      <th>coeff_sum1</th>\n",
              "      <th>impressions</th>\n",
              "      <th>clicks</th>\n",
              "    </tr>\n",
              "  </thead>\n",
              "  <tbody>\n",
              "    <tr>\n",
              "      <th>0</th>\n",
              "      <td>2021-09-27 00:01:30.000000</td>\n",
              "      <td>0</td>\n",
              "      <td>0</td>\n",
              "      <td>5664530014561852622</td>\n",
              "      <td>0</td>\n",
              "      <td>0</td>\n",
              "      <td>0</td>\n",
              "      <td>1240</td>\n",
              "      <td>0.067</td>\n",
              "      <td>0.035016</td>\n",
              "      <td>-7.268846</td>\n",
              "      <td>0</td>\n",
              "      <td>0.010</td>\n",
              "      <td>0.049516</td>\n",
              "      <td>-5.369901</td>\n",
              "      <td>1</td>\n",
              "      <td>1</td>\n",
              "    </tr>\n",
              "    <tr>\n",
              "      <th>1</th>\n",
              "      <td>2021-09-26 22:54:49.000000</td>\n",
              "      <td>1</td>\n",
              "      <td>1</td>\n",
              "      <td>5186611064559013950</td>\n",
              "      <td>0</td>\n",
              "      <td>0</td>\n",
              "      <td>1</td>\n",
              "      <td>1</td>\n",
              "      <td>0.002</td>\n",
              "      <td>0.054298</td>\n",
              "      <td>-2.657477</td>\n",
              "      <td>269</td>\n",
              "      <td>0.004</td>\n",
              "      <td>0.031942</td>\n",
              "      <td>-4.449220</td>\n",
              "      <td>1</td>\n",
              "      <td>1</td>\n",
              "    </tr>\n",
              "    <tr>\n",
              "      <th>2</th>\n",
              "      <td>2021-09-26 23:57:20.000000</td>\n",
              "      <td>2</td>\n",
              "      <td>2</td>\n",
              "      <td>2215519569292448030</td>\n",
              "      <td>3</td>\n",
              "      <td>0</td>\n",
              "      <td>0</td>\n",
              "      <td>2</td>\n",
              "      <td>0.014</td>\n",
              "      <td>0.014096</td>\n",
              "      <td>-3.824875</td>\n",
              "      <td>21</td>\n",
              "      <td>0.014</td>\n",
              "      <td>0.014906</td>\n",
              "      <td>-3.939309</td>\n",
              "      <td>1</td>\n",
              "      <td>1</td>\n",
              "    </tr>\n",
              "    <tr>\n",
              "      <th>3</th>\n",
              "      <td>2021-09-27 00:04:30.000000</td>\n",
              "      <td>3</td>\n",
              "      <td>3</td>\n",
              "      <td>6262169206735077204</td>\n",
              "      <td>0</td>\n",
              "      <td>1</td>\n",
              "      <td>1</td>\n",
              "      <td>3</td>\n",
              "      <td>0.012</td>\n",
              "      <td>0.015232</td>\n",
              "      <td>-3.461357</td>\n",
              "      <td>99</td>\n",
              "      <td>0.006</td>\n",
              "      <td>0.050671</td>\n",
              "      <td>-3.418403</td>\n",
              "      <td>1</td>\n",
              "      <td>1</td>\n",
              "    </tr>\n",
              "    <tr>\n",
              "      <th>4</th>\n",
              "      <td>2021-09-27 00:06:21.000000</td>\n",
              "      <td>4</td>\n",
              "      <td>4</td>\n",
              "      <td>4778985830203613115</td>\n",
              "      <td>0</td>\n",
              "      <td>1</td>\n",
              "      <td>0</td>\n",
              "      <td>4</td>\n",
              "      <td>0.019</td>\n",
              "      <td>0.051265</td>\n",
              "      <td>-4.009026</td>\n",
              "      <td>11464230</td>\n",
              "      <td>6.790</td>\n",
              "      <td>0.032005</td>\n",
              "      <td>-2.828797</td>\n",
              "      <td>1</td>\n",
              "      <td>1</td>\n",
              "    </tr>\n",
              "  </tbody>\n",
              "</table>\n",
              "</div>\n",
              "      <button class=\"colab-df-convert\" onclick=\"convertToInteractive('df-9f299211-2f1e-45b2-886e-b234073f4b0f')\"\n",
              "              title=\"Convert this dataframe to an interactive table.\"\n",
              "              style=\"display:none;\">\n",
              "        \n",
              "  <svg xmlns=\"http://www.w3.org/2000/svg\" height=\"24px\"viewBox=\"0 0 24 24\"\n",
              "       width=\"24px\">\n",
              "    <path d=\"M0 0h24v24H0V0z\" fill=\"none\"/>\n",
              "    <path d=\"M18.56 5.44l.94 2.06.94-2.06 2.06-.94-2.06-.94-.94-2.06-.94 2.06-2.06.94zm-11 1L8.5 8.5l.94-2.06 2.06-.94-2.06-.94L8.5 2.5l-.94 2.06-2.06.94zm10 10l.94 2.06.94-2.06 2.06-.94-2.06-.94-.94-2.06-.94 2.06-2.06.94z\"/><path d=\"M17.41 7.96l-1.37-1.37c-.4-.4-.92-.59-1.43-.59-.52 0-1.04.2-1.43.59L10.3 9.45l-7.72 7.72c-.78.78-.78 2.05 0 2.83L4 21.41c.39.39.9.59 1.41.59.51 0 1.02-.2 1.41-.59l7.78-7.78 2.81-2.81c.8-.78.8-2.07 0-2.86zM5.41 20L4 18.59l7.72-7.72 1.47 1.35L5.41 20z\"/>\n",
              "  </svg>\n",
              "      </button>\n",
              "      \n",
              "  <style>\n",
              "    .colab-df-container {\n",
              "      display:flex;\n",
              "      flex-wrap:wrap;\n",
              "      gap: 12px;\n",
              "    }\n",
              "\n",
              "    .colab-df-convert {\n",
              "      background-color: #E8F0FE;\n",
              "      border: none;\n",
              "      border-radius: 50%;\n",
              "      cursor: pointer;\n",
              "      display: none;\n",
              "      fill: #1967D2;\n",
              "      height: 32px;\n",
              "      padding: 0 0 0 0;\n",
              "      width: 32px;\n",
              "    }\n",
              "\n",
              "    .colab-df-convert:hover {\n",
              "      background-color: #E2EBFA;\n",
              "      box-shadow: 0px 1px 2px rgba(60, 64, 67, 0.3), 0px 1px 3px 1px rgba(60, 64, 67, 0.15);\n",
              "      fill: #174EA6;\n",
              "    }\n",
              "\n",
              "    [theme=dark] .colab-df-convert {\n",
              "      background-color: #3B4455;\n",
              "      fill: #D2E3FC;\n",
              "    }\n",
              "\n",
              "    [theme=dark] .colab-df-convert:hover {\n",
              "      background-color: #434B5C;\n",
              "      box-shadow: 0px 1px 3px 1px rgba(0, 0, 0, 0.15);\n",
              "      filter: drop-shadow(0px 1px 2px rgba(0, 0, 0, 0.3));\n",
              "      fill: #FFFFFF;\n",
              "    }\n",
              "  </style>\n",
              "\n",
              "      <script>\n",
              "        const buttonEl =\n",
              "          document.querySelector('#df-9f299211-2f1e-45b2-886e-b234073f4b0f button.colab-df-convert');\n",
              "        buttonEl.style.display =\n",
              "          google.colab.kernel.accessAllowed ? 'block' : 'none';\n",
              "\n",
              "        async function convertToInteractive(key) {\n",
              "          const element = document.querySelector('#df-9f299211-2f1e-45b2-886e-b234073f4b0f');\n",
              "          const dataTable =\n",
              "            await google.colab.kernel.invokeFunction('convertToInteractive',\n",
              "                                                     [key], {});\n",
              "          if (!dataTable) return;\n",
              "\n",
              "          const docLinkHtml = 'Like what you see? Visit the ' +\n",
              "            '<a target=\"_blank\" href=https://colab.research.google.com/notebooks/data_table.ipynb>data table notebook</a>'\n",
              "            + ' to learn more about interactive tables.';\n",
              "          element.innerHTML = '';\n",
              "          dataTable['output_type'] = 'display_data';\n",
              "          await google.colab.output.renderOutput(dataTable, element);\n",
              "          const docLink = document.createElement('div');\n",
              "          docLink.innerHTML = docLinkHtml;\n",
              "          element.appendChild(docLink);\n",
              "        }\n",
              "      </script>\n",
              "    </div>\n",
              "  </div>\n",
              "  "
            ],
            "text/plain": [
              "                    date_time  zone_id  banner_id            oaid_hash  \\\n",
              "0  2021-09-27 00:01:30.000000        0          0  5664530014561852622   \n",
              "1  2021-09-26 22:54:49.000000        1          1  5186611064559013950   \n",
              "2  2021-09-26 23:57:20.000000        2          2  2215519569292448030   \n",
              "3  2021-09-27 00:04:30.000000        3          3  6262169206735077204   \n",
              "4  2021-09-27 00:06:21.000000        4          4  4778985830203613115   \n",
              "\n",
              "   campaign_clicks  os_id  country_id  banner_id0  rate0        g0  \\\n",
              "0                0      0           0        1240  0.067  0.035016   \n",
              "1                0      0           1           1  0.002  0.054298   \n",
              "2                3      0           0           2  0.014  0.014096   \n",
              "3                0      1           1           3  0.012  0.015232   \n",
              "4                0      1           0           4  0.019  0.051265   \n",
              "\n",
              "   coeff_sum0  banner_id1  rate1        g1  coeff_sum1  impressions  clicks  \n",
              "0   -7.268846           0  0.010  0.049516   -5.369901            1       1  \n",
              "1   -2.657477         269  0.004  0.031942   -4.449220            1       1  \n",
              "2   -3.824875          21  0.014  0.014906   -3.939309            1       1  \n",
              "3   -3.461357          99  0.006  0.050671   -3.418403            1       1  \n",
              "4   -4.009026    11464230  6.790  0.032005   -2.828797            1       1  "
            ]
          },
          "execution_count": 4,
          "metadata": {},
          "output_type": "execute_result"
        }
      ],
      "source": [
        "data = pd.read_csv(PATH_TO_DATA_FILE)\n",
        "data.head()"
      ]
    },
    {
      "cell_type": "code",
      "execution_count": 5,
      "metadata": {
        "colab": {
          "base_uri": "https://localhost:8080/",
          "height": 206
        },
        "id": "pmDtGrcQ-w05",
        "outputId": "ab61dece-0663-4a5e-8ba0-24d0592f180f"
      },
      "outputs": [
        {
          "data": {
            "text/html": [
              "\n",
              "  <div id=\"df-399b97a7-3c1f-4035-95df-abc7f82ff735\">\n",
              "    <div class=\"colab-df-container\">\n",
              "      <div>\n",
              "<style scoped>\n",
              "    .dataframe tbody tr th:only-of-type {\n",
              "        vertical-align: middle;\n",
              "    }\n",
              "\n",
              "    .dataframe tbody tr th {\n",
              "        vertical-align: top;\n",
              "    }\n",
              "\n",
              "    .dataframe thead th {\n",
              "        text-align: right;\n",
              "    }\n",
              "</style>\n",
              "<table border=\"1\" class=\"dataframe\">\n",
              "  <thead>\n",
              "    <tr style=\"text-align: right;\">\n",
              "      <th></th>\n",
              "      <th>date_time</th>\n",
              "      <th>zone_id</th>\n",
              "      <th>banner_id</th>\n",
              "      <th>campaign_clicks</th>\n",
              "      <th>os_id</th>\n",
              "      <th>country_id</th>\n",
              "      <th>impressions</th>\n",
              "      <th>clicks</th>\n",
              "    </tr>\n",
              "  </thead>\n",
              "  <tbody>\n",
              "    <tr>\n",
              "      <th>0</th>\n",
              "      <td>2021-09-27 00:01:30.000000</td>\n",
              "      <td>0</td>\n",
              "      <td>0</td>\n",
              "      <td>0</td>\n",
              "      <td>0</td>\n",
              "      <td>0</td>\n",
              "      <td>1</td>\n",
              "      <td>1</td>\n",
              "    </tr>\n",
              "    <tr>\n",
              "      <th>1</th>\n",
              "      <td>2021-09-26 22:54:49.000000</td>\n",
              "      <td>1</td>\n",
              "      <td>1</td>\n",
              "      <td>0</td>\n",
              "      <td>0</td>\n",
              "      <td>1</td>\n",
              "      <td>1</td>\n",
              "      <td>1</td>\n",
              "    </tr>\n",
              "    <tr>\n",
              "      <th>2</th>\n",
              "      <td>2021-09-26 23:57:20.000000</td>\n",
              "      <td>2</td>\n",
              "      <td>2</td>\n",
              "      <td>3</td>\n",
              "      <td>0</td>\n",
              "      <td>0</td>\n",
              "      <td>1</td>\n",
              "      <td>1</td>\n",
              "    </tr>\n",
              "    <tr>\n",
              "      <th>3</th>\n",
              "      <td>2021-09-27 00:04:30.000000</td>\n",
              "      <td>3</td>\n",
              "      <td>3</td>\n",
              "      <td>0</td>\n",
              "      <td>1</td>\n",
              "      <td>1</td>\n",
              "      <td>1</td>\n",
              "      <td>1</td>\n",
              "    </tr>\n",
              "    <tr>\n",
              "      <th>4</th>\n",
              "      <td>2021-09-27 00:06:21.000000</td>\n",
              "      <td>4</td>\n",
              "      <td>4</td>\n",
              "      <td>0</td>\n",
              "      <td>1</td>\n",
              "      <td>0</td>\n",
              "      <td>1</td>\n",
              "      <td>1</td>\n",
              "    </tr>\n",
              "  </tbody>\n",
              "</table>\n",
              "</div>\n",
              "      <button class=\"colab-df-convert\" onclick=\"convertToInteractive('df-399b97a7-3c1f-4035-95df-abc7f82ff735')\"\n",
              "              title=\"Convert this dataframe to an interactive table.\"\n",
              "              style=\"display:none;\">\n",
              "        \n",
              "  <svg xmlns=\"http://www.w3.org/2000/svg\" height=\"24px\"viewBox=\"0 0 24 24\"\n",
              "       width=\"24px\">\n",
              "    <path d=\"M0 0h24v24H0V0z\" fill=\"none\"/>\n",
              "    <path d=\"M18.56 5.44l.94 2.06.94-2.06 2.06-.94-2.06-.94-.94-2.06-.94 2.06-2.06.94zm-11 1L8.5 8.5l.94-2.06 2.06-.94-2.06-.94L8.5 2.5l-.94 2.06-2.06.94zm10 10l.94 2.06.94-2.06 2.06-.94-2.06-.94-.94-2.06-.94 2.06-2.06.94z\"/><path d=\"M17.41 7.96l-1.37-1.37c-.4-.4-.92-.59-1.43-.59-.52 0-1.04.2-1.43.59L10.3 9.45l-7.72 7.72c-.78.78-.78 2.05 0 2.83L4 21.41c.39.39.9.59 1.41.59.51 0 1.02-.2 1.41-.59l7.78-7.78 2.81-2.81c.8-.78.8-2.07 0-2.86zM5.41 20L4 18.59l7.72-7.72 1.47 1.35L5.41 20z\"/>\n",
              "  </svg>\n",
              "      </button>\n",
              "      \n",
              "  <style>\n",
              "    .colab-df-container {\n",
              "      display:flex;\n",
              "      flex-wrap:wrap;\n",
              "      gap: 12px;\n",
              "    }\n",
              "\n",
              "    .colab-df-convert {\n",
              "      background-color: #E8F0FE;\n",
              "      border: none;\n",
              "      border-radius: 50%;\n",
              "      cursor: pointer;\n",
              "      display: none;\n",
              "      fill: #1967D2;\n",
              "      height: 32px;\n",
              "      padding: 0 0 0 0;\n",
              "      width: 32px;\n",
              "    }\n",
              "\n",
              "    .colab-df-convert:hover {\n",
              "      background-color: #E2EBFA;\n",
              "      box-shadow: 0px 1px 2px rgba(60, 64, 67, 0.3), 0px 1px 3px 1px rgba(60, 64, 67, 0.15);\n",
              "      fill: #174EA6;\n",
              "    }\n",
              "\n",
              "    [theme=dark] .colab-df-convert {\n",
              "      background-color: #3B4455;\n",
              "      fill: #D2E3FC;\n",
              "    }\n",
              "\n",
              "    [theme=dark] .colab-df-convert:hover {\n",
              "      background-color: #434B5C;\n",
              "      box-shadow: 0px 1px 3px 1px rgba(0, 0, 0, 0.15);\n",
              "      filter: drop-shadow(0px 1px 2px rgba(0, 0, 0, 0.3));\n",
              "      fill: #FFFFFF;\n",
              "    }\n",
              "  </style>\n",
              "\n",
              "      <script>\n",
              "        const buttonEl =\n",
              "          document.querySelector('#df-399b97a7-3c1f-4035-95df-abc7f82ff735 button.colab-df-convert');\n",
              "        buttonEl.style.display =\n",
              "          google.colab.kernel.accessAllowed ? 'block' : 'none';\n",
              "\n",
              "        async function convertToInteractive(key) {\n",
              "          const element = document.querySelector('#df-399b97a7-3c1f-4035-95df-abc7f82ff735');\n",
              "          const dataTable =\n",
              "            await google.colab.kernel.invokeFunction('convertToInteractive',\n",
              "                                                     [key], {});\n",
              "          if (!dataTable) return;\n",
              "\n",
              "          const docLinkHtml = 'Like what you see? Visit the ' +\n",
              "            '<a target=\"_blank\" href=https://colab.research.google.com/notebooks/data_table.ipynb>data table notebook</a>'\n",
              "            + ' to learn more about interactive tables.';\n",
              "          element.innerHTML = '';\n",
              "          dataTable['output_type'] = 'display_data';\n",
              "          await google.colab.output.renderOutput(dataTable, element);\n",
              "          const docLink = document.createElement('div');\n",
              "          docLink.innerHTML = docLinkHtml;\n",
              "          element.appendChild(docLink);\n",
              "        }\n",
              "      </script>\n",
              "    </div>\n",
              "  </div>\n",
              "  "
            ],
            "text/plain": [
              "                    date_time  zone_id  banner_id  campaign_clicks  os_id  \\\n",
              "0  2021-09-27 00:01:30.000000        0          0                0      0   \n",
              "1  2021-09-26 22:54:49.000000        1          1                0      0   \n",
              "2  2021-09-26 23:57:20.000000        2          2                3      0   \n",
              "3  2021-09-27 00:04:30.000000        3          3                0      1   \n",
              "4  2021-09-27 00:06:21.000000        4          4                0      1   \n",
              "\n",
              "   country_id  impressions  clicks  \n",
              "0           0            1       1  \n",
              "1           1            1       1  \n",
              "2           0            1       1  \n",
              "3           1            1       1  \n",
              "4           0            1       1  "
            ]
          },
          "execution_count": 5,
          "metadata": {},
          "output_type": "execute_result"
        }
      ],
      "source": [
        "# удаляю столбцы, не используемые в данном задании\n",
        "data = data.drop(columns = ['oaid_hash', 'banner_id0', 'banner_id1', 'rate0', 'rate1', 'g0', 'g1', 'coeff_sum0', 'coeff_sum1'])\n",
        "data.head()"
      ]
    },
    {
      "cell_type": "code",
      "execution_count": 6,
      "metadata": {
        "id": "eIfnF81G7bnI",
        "pycharm": {
          "name": "#%%\n"
        }
      },
      "outputs": [],
      "source": [
        "def analysis(data: pd.DataFrame):\n",
        "    # проверяем, есть ли в таблице null, если да -- то в каких столбцах и в каком количестве\n",
        "    null_columns=data.columns[data.isnull().any()]\n",
        "    if len(null_columns) == 0:\n",
        "      print(\"Dataframe does not consists null values\")\n",
        "    else:\n",
        "      print(\"Number of null rows in columns\")\n",
        "      print(data[null_columns].isnull().sum())\n",
        "\n",
        "    print(\"\\n\")\n",
        "\n",
        "    # посмотрим на то, сколько уникальных значений в каждом столбце\n",
        "    data_columns = data.columns.delete(0)\n",
        "    for column_name in data_columns:\n",
        "      unique_column_values = data[column_name].unique()\n",
        "      print(f\"count of unique values in column {column_name} = {len(unique_column_values)}\")\n",
        "      print(\"distribution of values:\")\n",
        "      data[column_name].hist()\n",
        "      plt.show()\n",
        "      print(\"\\n\")\n",
        "    \n",
        "    print(\"\\n\")\n",
        "\n",
        "    # проверим разброс значений в столбце campaign_clicks\n",
        "    print(\"in column campaign_clicks \")\n",
        "    print(f\"max value = {data.campaign_clicks.max()}\")\n",
        "    print(f\"min value = {data.campaign_clicks.min()}\")\n",
        "    print(f\"mean = {data.campaign_clicks.mean()}\")\n",
        "    print(f\"median = {data.campaign_clicks.median()}\")\n",
        "\n",
        "    # приведу date_time столбец к нужному типу\n",
        "    data['date_time'] = pd.to_datetime(data['date_time'], format = \"%Y-%m-%d %H:%M:%S.%f\")\n",
        "\n",
        "    # проверим, о каком периоде у нас собраны данные\n",
        "    data['date'] = data['date_time'].dt.date\n",
        "    days = data['date'].unique()\n",
        "    print(f\"we have info about {len(days)} days. The count of rows for each day:\")\n",
        "    print(data['date'].value_counts())\n",
        "    # в данном наборе такой проверки достаточно, т.к. рассматриваем данные взяты из небольшого диапазона\n",
        "    # если бы данных было больше, то я бы проанализировала также, к каким годам и месяцам относятся данные\n",
        "\n",
        "    print(\"\\n\")\n",
        "\n",
        "    # тут проверяю, обо всех ли часах в днях есть данные\n",
        "    data['hour'] = data['date_time'].dt.hour\n",
        "    hours = data['hour'].unique()\n",
        "    if len(hours) < 24:\n",
        "      print(f\"We have info only about {len(hours)} hours in days\")\n",
        "\n",
        "    print(\"\\n\")\n",
        "    \n",
        "    # узнать распределение классов\n",
        "    classes_count = data['clicks'].value_counts()\n",
        "    print(\"Count of rows into each class\")\n",
        "    print(classes_count)\n",
        "    print(f\"ratio of class 0 to class 1 {classes_count[0]/classes_count[1]}\")\n",
        "\n",
        "    del data"
      ]
    },
    {
      "cell_type": "code",
      "execution_count": null,
      "metadata": {
        "colab": {
          "base_uri": "https://localhost:8080/",
          "height": 1000
        },
        "id": "4ZhSmf_mx6kF",
        "outputId": "4eec1c86-c31a-4cfa-c223-e00753b19100"
      },
      "outputs": [
        {
          "name": "stdout",
          "output_type": "stream",
          "text": [
            "Dataframe does not consists null values\n",
            "\n",
            "\n",
            "count of unique values in column zone_id = 3444\n",
            "distribution of values:\n"
          ]
        },
        {
          "data": {
            "image/png": "[encoded data removed]",
            "text/plain": [
              "<Figure size 432x288 with 1 Axes>"
            ]
          },
          "metadata": {
            "needs_background": "light"
          },
          "output_type": "display_data"
        },
        {
          "name": "stdout",
          "output_type": "stream",
          "text": [
            "\n",
            "\n",
            "count of unique values in column banner_id = 1633\n",
            "distribution of values:\n"
          ]
        },
        {
          "data": {
            "image/png": "[encoded data removed]",
            "text/plain": [
              "<Figure size 432x288 with 1 Axes>"
            ]
          },
          "metadata": {
            "needs_background": "light"
          },
          "output_type": "display_data"
        },
        {
          "name": "stdout",
          "output_type": "stream",
          "text": [
            "\n",
            "\n",
            "count of unique values in column campaign_clicks = 822\n",
            "distribution of values:\n"
          ]
        },
        {
          "data": {
            "image/png": "[encoded data removed]",
            "text/plain": [
              "<Figure size 432x288 with 1 Axes>"
            ]
          },
          "metadata": {
            "needs_background": "light"
          },
          "output_type": "display_data"
        },
        {
          "name": "stdout",
          "output_type": "stream",
          "text": [
            "\n",
            "\n",
            "count of unique values in column os_id = 11\n",
            "distribution of values:\n"
          ]
        },
        {
          "data": {
            "image/png": "[encoded data removed]",
            "text/plain": [
              "<Figure size 432x288 with 1 Axes>"
            ]
          },
          "metadata": {
            "needs_background": "light"
          },
          "output_type": "display_data"
        },
        {
          "name": "stdout",
          "output_type": "stream",
          "text": [
            "\n",
            "\n",
            "count of unique values in column country_id = 17\n",
            "distribution of values:\n"
          ]
        },
        {
          "data": {
            "image/png": "[encoded data removed]",
            "text/plain": [
              "<Figure size 432x288 with 1 Axes>"
            ]
          },
          "metadata": {
            "needs_background": "light"
          },
          "output_type": "display_data"
        },
        {
          "name": "stdout",
          "output_type": "stream",
          "text": [
            "\n",
            "\n",
            "count of unique values in column impressions = 1\n",
            "distribution of values:\n"
          ]
        },
        {
          "data": {
            "image/png": "[encoded data removed]",
            "text/plain": [
              "<Figure size 432x288 with 1 Axes>"
            ]
          },
          "metadata": {
            "needs_background": "light"
          },
          "output_type": "display_data"
        },
        {
          "name": "stdout",
          "output_type": "stream",
          "text": [
            "\n",
            "\n",
            "count of unique values in column clicks = 2\n",
            "distribution of values:\n"
          ]
        },
        {
          "data": {
            "image/png": "[encoded data removed]",
            "text/plain": [
              "<Figure size 432x288 with 1 Axes>"
            ]
          },
          "metadata": {
            "needs_background": "light"
          },
          "output_type": "display_data"
        },
        {
          "name": "stdout",
          "output_type": "stream",
          "text": [
            "\n",
            "\n",
            "\n",
            "\n",
            "in column campaign_clicks \n",
            "max value = 829\n",
            "min value = 0\n",
            "mean = 0.6238539625137282\n",
            "median = 0.0\n",
            "we have info about 8 days. The count of rows for each day:\n",
            "2021-09-26    3102610\n",
            "2021-09-29    2420588\n",
            "2021-09-27    2367303\n",
            "2021-09-28    2307355\n",
            "2021-10-02    2128978\n",
            "2021-09-30    1851189\n",
            "2021-10-01    1643448\n",
            "2021-09-01          1\n",
            "Name: date, dtype: int64\n",
            "\n",
            "\n",
            "\n",
            "\n",
            "Count of rows into each class\n",
            "0    15399223\n",
            "1      422249\n",
            "Name: clicks, dtype: int64\n",
            "ratio of class 0 to class 1 36.4695310113227\n"
          ]
        }
      ],
      "source": [
        "analysis(data)"
      ]
    },
    {
      "cell_type": "markdown",
      "metadata": {
        "id": "d0xzNw-uGkdo"
      },
      "source": [
        "Выводы из анализа данных:\n",
        "\n",
        "1. В таблице нет пропущенных значений\n",
        "2. Столбец impressions нужно удалить, т.к. все значения в столбце = 1. Если бы в таблице были строки с impressions = 0, то их бы в любом случае нужно было удалить: если показа не было, то и не было клика. Т.е. и без использования машинного обучения для таких строк можно было бы предсказать значение сlick с 100% уверенностью\n",
        "3. У нас есть информация только о 8 днях из 2ух месяцев 2021 года. Поэтому из data_time столбца нас не интересует информация о годе.\n",
        "\n",
        "На основе анализа и размышлений выполним следующий preprocessing:\n",
        "\n",
        "1.  zone_id, banner_id, os_id,\tcountry_id -- по сути, категориальные признаки(т.к. логично, что id принадлежат некоторому перечню значений). Поэтому выполним encoding для них\n",
        "2. столбец impressions удаляем\n",
        "3. будем использовать нормализованный столбец campaign_clicks (нормализацию выполним, т.к. нет никаких ограничений на величину в данном столбце)\n",
        "4. Из информации о дате и времени оставим часы(т.к. от времени суток явно зависит просматриваемость). По сути, это тоже категориальный признак. Поэтому используем encoding для него\n",
        "5. Информацию о дне/месяце использовать не нужно. Если бы у нас была большая вариативность этих признаков, их следовало бы использовать и кодировать  encoderом. Как мне кажется, сейчас эта информация не даст нам много пользы -- слишком маленький диапазон значений у величин. При этом, если мы заходим закодировать эти признаки, то таблица разрастется при кодировании(12 столбцов-месяцев, 31 столбец-день) \n",
        "\n",
        "Доп:\n",
        "У столбцов zone_id, banner_id достаточно большое количество значений, при использовании one-hot encoding разреженные таблицы не влезают в память. Поэтому закодирую редкие значения этих признаков одним классом(-1, т.к. подобное значение точно не встречается в столбцах)\n",
        "\n",
        "Порог отношения к одному классу выбран исходя из ограничений памяти"
      ]
    },
    {
      "cell_type": "code",
      "execution_count": 6,
      "metadata": {
        "id": "r2QdXG9E7bnJ",
        "pycharm": {
          "name": "#%%\n"
        }
      },
      "outputs": [],
      "source": [
        "def feature_engineering(data: pd.DataFrame, columns_and_quantiles_to_group_rare_values: Dict = {'zone_id' : 0.4, 'banner_id' : 0.2}):\n",
        "\n",
        "    data['date_time'] = pd.to_datetime(data['date_time'], format = \"%Y-%m-%d %H:%M:%S.%f\")\n",
        "    data['date'] = data['date_time'].dt.date.astype('str')\n",
        "    data['hour'] = data['date_time'].dt.hour\n",
        "\n",
        "    data = data.drop(columns = ['date_time'])\n",
        "\n",
        "    for column_name, quant in columns_and_quantiles_to_group_rare_values.items():\n",
        "      values = data[column_name].value_counts()\n",
        "      qua = values.quantile(quant)\n",
        "      indexes = values[values<qua].index\n",
        "      data.loc[data[column_name].isin(indexes), column_name] = -1\n",
        "\n",
        "    # нормализуем campaign_clicks\n",
        "    scaler = preprocessing.MinMaxScaler().fit(data[['campaign_clicks']])\n",
        "    data[['campaign_clicks']] = scaler.fit_transform(data[['campaign_clicks']])\n",
        "\n",
        "    # подготовим encoder для кодировки категориальных столбцов\n",
        "    categorical_features = ['zone_id', 'banner_id', 'os_id', 'country_id', 'hour']\n",
        "    encoder = preprocessing.OneHotEncoder(handle_unknown='ignore').fit(data[categorical_features])\n",
        "    \n",
        "    train_data = data[data['date'] != '2021-10-02'].drop(columns=['date'])\n",
        "    test_data = data[data['date'] == '2021-10-02'].drop(columns=['date'])\n",
        "\n",
        "    # очищаю data чтоб уместиться в памяти\n",
        "    del data\n",
        "\n",
        "    train_cat_encoded = encoder.transform(train_data[categorical_features])\n",
        "    test_cat_encoded = encoder.transform(test_data[categorical_features])\n",
        "\n",
        "    train_X = hstack([train_cat_encoded, train_data[['campaign_clicks']].values])\n",
        "    train_y = train_data.clicks\n",
        "    del train_data \n",
        "\n",
        "    test_X = hstack([test_cat_encoded, test_data[['campaign_clicks']].values])\n",
        "    test_y = test_data.clicks\n",
        "    del test_data\n",
        "\n",
        "    return train_X.asformat('csr'), train_y, test_X.asformat('csr'), test_y\n",
        "    "
      ]
    },
    {
      "cell_type": "code",
      "execution_count": 7,
      "metadata": {
        "id": "qyK302EOIVIV"
      },
      "outputs": [],
      "source": [
        "train_X, train_y, test_X, test_y = feature_engineering(data)"
      ]
    },
    {
      "cell_type": "code",
      "execution_count": 8,
      "metadata": {
        "id": "vEylp1zb9HBu"
      },
      "outputs": [],
      "source": [
        "# понадобится для сравнения с baseline\n",
        "MEAN_OF_CLICKS = data.clicks.mean()"
      ]
    },
    {
      "cell_type": "code",
      "execution_count": 9,
      "metadata": {
        "id": "P1FAa_C4I-k6"
      },
      "outputs": [],
      "source": [
        "del data"
      ]
    },
    {
      "cell_type": "code",
      "execution_count": 10,
      "metadata": {
        "id": "tnhW4JnixLbx"
      },
      "outputs": [],
      "source": [
        "def create_model(regularization: str = 'l2', regul_const : float = 1.0):\n",
        "    return LogisticRegression(penalty = regularization, solver = 'liblinear', C = regul_const, random_state=42)"
      ]
    },
    {
      "cell_type": "code",
      "execution_count": 20,
      "metadata": {
        "id": "yqTAIlieWOEP"
      },
      "outputs": [],
      "source": [
        "def cv(X, y):\n",
        "  c_values = [0.001, 0.05, 0.1, 0.5, 1.0]\n",
        "  regul_type = ['l1', 'l2']\n",
        "  scoring = ['roc_auc', 'neg_log_loss']\n",
        "  best_model = None\n",
        "  best_loss = 1\n",
        "  for regul in regul_type:\n",
        "    for c_value in c_values:\n",
        "      print(f\"Regularization is {regul};\\t\\t C = {c_value}\")\n",
        "      model = create_model(regul, c_value)\n",
        "      cv_results = cross_validate(model, X, y, scoring=scoring, cv = 3)\n",
        "      log_los_for_model = -(cv_results['test_neg_log_loss'].mean())\n",
        "      auc_for_model = cv_results['test_roc_auc'].mean()\n",
        "      print(f\"log loss = {log_los_for_model} \\n roc_auc = {auc_for_model}\")\n",
        "      if log_los_for_model < best_loss:\n",
        "        best_model = model\n",
        "        best_loss = log_los_for_model\n",
        "    break\n",
        "  model_params = best_model.get_params()\n",
        "  print(f\"best model parameters:{model_params['penalty']} regularization, C={model_params['C']}\")\n",
        "  return best_model\n",
        "  \n",
        "    "
      ]
    },
    {
      "cell_type": "code",
      "execution_count": 13,
      "metadata": {
        "id": "q74MedPHgyZu"
      },
      "outputs": [],
      "source": [
        "def calculate_metrics(y_true, y_pred):\n",
        "  print(f\"Roc= {roc_auc_score(y_true, y_pred[:,1])}\")\n",
        "  print(f\"Log loss = {log_loss(y_true, y_pred)}\")"
      ]
    },
    {
      "cell_type": "code",
      "execution_count": null,
      "metadata": {
        "id": "xJlRuTfi5rE8"
      },
      "outputs": [],
      "source": [
        "model = cv(train_X, train_y) "
      ]
    },
    {
      "cell_type": "markdown",
      "metadata": {
        "id": "tNj3xlF9vOhK"
      },
      "source": [
        "К сожалению, colab отключает через определенный промежуток времени (локально не могу запустить, т.к. все очень плохо с памятью). Поэтому пришлось запускать код выше частями(оставляя в cv() regul_type только сначала l1, затем l2)\n",
        "\n",
        "Данные о l1 регуляризации были потеряны из ячейки после одной из перезагрузок. Но лучше значения получила при l2-регуляризации. О ней вывод сохранился:"
      ]
    },
    {
      "cell_type": "markdown",
      "metadata": {
        "id": "nDtLf-fx4M-D"
      },
      "source": [
        "\n",
        "Regularization is l2;\t\t C = 0.001\n",
        "\n",
        "log loss = 0.12092675536696885 \n",
        "\n",
        " roc_auc = 0.5811107367531271\n",
        "\n",
        "Regularization is l2;\t\t C = 0.05\n",
        "\n",
        "log loss = 0.12553348329312086 \n",
        "\n",
        " roc_auc = 0.5924282480250395\n",
        "\n",
        "Regularization is l2;\t\t C = 0.1\n",
        "\n",
        "log loss = 0.1260293742733812 \n",
        "\n",
        " roc_auc = 0.5933625222586086\n",
        "\n",
        "Regularization is l2;\t\t C = 0.5\n",
        "\n",
        "log loss = 0.1266941021475847 \n",
        "\n",
        " roc_auc = 0.5949617305973159\n",
        "\n",
        "Regularization is l2;\t\t C = 1.0\n",
        "\n",
        "log loss = 0.12683780959987673 \n",
        "\n",
        " roc_auc = 0.5953972529487056"
      ]
    },
    {
      "cell_type": "code",
      "execution_count": 11,
      "metadata": {
        "colab": {
          "base_uri": "https://localhost:8080/"
        },
        "id": "sg-G28OH4Yq-",
        "outputId": "2fb76881-93d6-465f-b863-11bbabc58b85"
      },
      "outputs": [
        {
          "data": {
            "text/plain": [
              "LogisticRegression(C=0.001, random_state=42, solver='liblinear')"
            ]
          },
          "execution_count": 11,
          "metadata": {},
          "output_type": "execute_result"
        }
      ],
      "source": [
        "# best model according to the results above\n",
        "model = create_model('l2', 0.001)\n",
        "model.fit(train_X, train_y)"
      ]
    },
    {
      "cell_type": "code",
      "execution_count": 14,
      "metadata": {
        "colab": {
          "base_uri": "https://localhost:8080/"
        },
        "id": "h30xe8jnhHLn",
        "outputId": "5f0e2cf1-3b0a-4352-a318-ebb7ca59d882"
      },
      "outputs": [
        {
          "name": "stdout",
          "output_type": "stream",
          "text": [
            "results for our model:\n",
            "Roc= 0.770317776919286\n",
            "Log loss = 0.1356708129296589\n"
          ]
        }
      ],
      "source": [
        "print(\"results for our model:\")\n",
        "test_y_pred = model.predict_proba(test_X)\n",
        "calculate_metrics(test_y, test_y_pred)"
      ]
    },
    {
      "cell_type": "code",
      "execution_count": 15,
      "metadata": {
        "colab": {
          "base_uri": "https://localhost:8080/"
        },
        "id": "HdX8pAorhRDf",
        "outputId": "d4a5c4a8-4474-4080-99d1-93b212c15baf"
      },
      "outputs": [
        {
          "name": "stdout",
          "output_type": "stream",
          "text": [
            "results for baseline model:\n",
            "Roc= 0.5\n",
            "Log loss = 0.6931471805599466\n"
          ]
        }
      ],
      "source": [
        "print(\"results for baseline model:\")\n",
        "calculate_metrics(test_y, np.full(test_y_pred.shape, MEAN_OF_CLICKS))"
      ]
    }
  ],
  "metadata": {
    "colab": {
      "collapsed_sections": [],
      "provenance": []
    },
    "kernelspec": {
      "display_name": "Python 3",
      "language": "python",
      "name": "python3"
    },
    "language_info": {
      "codemirror_mode": {
        "name": "ipython",
        "version": 2
      },
      "file_extension": ".py",
      "mimetype": "text/x-python",
      "name": "python",
      "nbconvert_exporter": "python",
      "pygments_lexer": "ipython2",
      "version": "2.7.6"
    }
  },
  "nbformat": 4,
  "nbformat_minor": 0
}
