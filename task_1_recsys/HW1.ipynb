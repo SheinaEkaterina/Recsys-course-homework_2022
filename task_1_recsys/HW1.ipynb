{
 "cells": [
  {
   "cell_type": "code",
   "execution_count": 13,
   "metadata": {},
   "outputs": [],
   "source": [
    "import matplotlib.pyplot as plt\n",
    "import numpy as np\n",
    "from scipy import sparse\n",
    "from sklearn.linear_model import LogisticRegression\n",
    "from sklearn.metrics import roc_auc_score, log_loss\n",
    "from sklearn.model_selection import cross_validate\n",
    "from sklearn.preprocessing import OneHotEncoder, StandardScaler\n",
    "import pandas as pd"
   ]
  },
  {
   "cell_type": "code",
   "execution_count": 2,
   "metadata": {
    "pycharm": {
     "name": "#%%\n"
    }
   },
   "outputs": [
    {
     "data": {
      "text/html": [
       "<div>\n",
       "<style scoped>\n",
       "    .dataframe tbody tr th:only-of-type {\n",
       "        vertical-align: middle;\n",
       "    }\n",
       "\n",
       "    .dataframe tbody tr th {\n",
       "        vertical-align: top;\n",
       "    }\n",
       "\n",
       "    .dataframe thead th {\n",
       "        text-align: right;\n",
       "    }\n",
       "</style>\n",
       "<table border=\"1\" class=\"dataframe\">\n",
       "  <thead>\n",
       "    <tr style=\"text-align: right;\">\n",
       "      <th></th>\n",
       "      <th>date_time</th>\n",
       "      <th>zone_id</th>\n",
       "      <th>banner_id</th>\n",
       "      <th>oaid_hash</th>\n",
       "      <th>campaign_clicks</th>\n",
       "      <th>os_id</th>\n",
       "      <th>country_id</th>\n",
       "      <th>banner_id0</th>\n",
       "      <th>rate0</th>\n",
       "      <th>g0</th>\n",
       "      <th>coeff_sum0</th>\n",
       "      <th>banner_id1</th>\n",
       "      <th>rate1</th>\n",
       "      <th>g1</th>\n",
       "      <th>coeff_sum1</th>\n",
       "      <th>impressions</th>\n",
       "      <th>clicks</th>\n",
       "    </tr>\n",
       "  </thead>\n",
       "  <tbody>\n",
       "    <tr>\n",
       "      <th>0</th>\n",
       "      <td>2021-09-27 00:01:30.000000</td>\n",
       "      <td>0</td>\n",
       "      <td>0</td>\n",
       "      <td>5664530014561852622</td>\n",
       "      <td>0</td>\n",
       "      <td>0</td>\n",
       "      <td>0</td>\n",
       "      <td>1240</td>\n",
       "      <td>0.067</td>\n",
       "      <td>0.035016</td>\n",
       "      <td>-7.268846</td>\n",
       "      <td>0</td>\n",
       "      <td>0.010</td>\n",
       "      <td>0.049516</td>\n",
       "      <td>-5.369901</td>\n",
       "      <td>1</td>\n",
       "      <td>1</td>\n",
       "    </tr>\n",
       "    <tr>\n",
       "      <th>1</th>\n",
       "      <td>2021-09-26 22:54:49.000000</td>\n",
       "      <td>1</td>\n",
       "      <td>1</td>\n",
       "      <td>5186611064559013950</td>\n",
       "      <td>0</td>\n",
       "      <td>0</td>\n",
       "      <td>1</td>\n",
       "      <td>1</td>\n",
       "      <td>0.002</td>\n",
       "      <td>0.054298</td>\n",
       "      <td>-2.657477</td>\n",
       "      <td>269</td>\n",
       "      <td>0.004</td>\n",
       "      <td>0.031942</td>\n",
       "      <td>-4.449220</td>\n",
       "      <td>1</td>\n",
       "      <td>1</td>\n",
       "    </tr>\n",
       "    <tr>\n",
       "      <th>2</th>\n",
       "      <td>2021-09-26 23:57:20.000000</td>\n",
       "      <td>2</td>\n",
       "      <td>2</td>\n",
       "      <td>2215519569292448030</td>\n",
       "      <td>3</td>\n",
       "      <td>0</td>\n",
       "      <td>0</td>\n",
       "      <td>2</td>\n",
       "      <td>0.014</td>\n",
       "      <td>0.014096</td>\n",
       "      <td>-3.824875</td>\n",
       "      <td>21</td>\n",
       "      <td>0.014</td>\n",
       "      <td>0.014906</td>\n",
       "      <td>-3.939309</td>\n",
       "      <td>1</td>\n",
       "      <td>1</td>\n",
       "    </tr>\n",
       "    <tr>\n",
       "      <th>3</th>\n",
       "      <td>2021-09-27 00:04:30.000000</td>\n",
       "      <td>3</td>\n",
       "      <td>3</td>\n",
       "      <td>6262169206735077204</td>\n",
       "      <td>0</td>\n",
       "      <td>1</td>\n",
       "      <td>1</td>\n",
       "      <td>3</td>\n",
       "      <td>0.012</td>\n",
       "      <td>0.015232</td>\n",
       "      <td>-3.461357</td>\n",
       "      <td>99</td>\n",
       "      <td>0.006</td>\n",
       "      <td>0.050671</td>\n",
       "      <td>-3.418403</td>\n",
       "      <td>1</td>\n",
       "      <td>1</td>\n",
       "    </tr>\n",
       "    <tr>\n",
       "      <th>4</th>\n",
       "      <td>2021-09-27 00:06:21.000000</td>\n",
       "      <td>4</td>\n",
       "      <td>4</td>\n",
       "      <td>4778985830203613115</td>\n",
       "      <td>0</td>\n",
       "      <td>1</td>\n",
       "      <td>0</td>\n",
       "      <td>4</td>\n",
       "      <td>0.019</td>\n",
       "      <td>0.051265</td>\n",
       "      <td>-4.009026</td>\n",
       "      <td>11464230</td>\n",
       "      <td>6.790</td>\n",
       "      <td>0.032005</td>\n",
       "      <td>-2.828797</td>\n",
       "      <td>1</td>\n",
       "      <td>1</td>\n",
       "    </tr>\n",
       "  </tbody>\n",
       "</table>\n",
       "</div>"
      ],
      "text/plain": [
       "                    date_time  zone_id  banner_id            oaid_hash  \\\n",
       "0  2021-09-27 00:01:30.000000        0          0  5664530014561852622   \n",
       "1  2021-09-26 22:54:49.000000        1          1  5186611064559013950   \n",
       "2  2021-09-26 23:57:20.000000        2          2  2215519569292448030   \n",
       "3  2021-09-27 00:04:30.000000        3          3  6262169206735077204   \n",
       "4  2021-09-27 00:06:21.000000        4          4  4778985830203613115   \n",
       "\n",
       "   campaign_clicks  os_id  country_id  banner_id0  rate0        g0  \\\n",
       "0                0      0           0        1240  0.067  0.035016   \n",
       "1                0      0           1           1  0.002  0.054298   \n",
       "2                3      0           0           2  0.014  0.014096   \n",
       "3                0      1           1           3  0.012  0.015232   \n",
       "4                0      1           0           4  0.019  0.051265   \n",
       "\n",
       "   coeff_sum0  banner_id1  rate1        g1  coeff_sum1  impressions  clicks  \n",
       "0   -7.268846           0  0.010  0.049516   -5.369901            1       1  \n",
       "1   -2.657477         269  0.004  0.031942   -4.449220            1       1  \n",
       "2   -3.824875          21  0.014  0.014906   -3.939309            1       1  \n",
       "3   -3.461357          99  0.006  0.050671   -3.418403            1       1  \n",
       "4   -4.009026    11464230  6.790  0.032005   -2.828797            1       1  "
      ]
     },
     "execution_count": 2,
     "metadata": {},
     "output_type": "execute_result"
    }
   ],
   "source": [
    "data = pd.read_csv('../data/data.csv')\n",
    "data.head()"
   ]
  },
  {
   "cell_type": "code",
   "execution_count": 3,
   "metadata": {
    "pycharm": {
     "name": "#%%\n"
    }
   },
   "outputs": [],
   "source": [
    "def analysis(data: pd.DataFrame):\n",
    "    # Drop excessive columns\n",
    "    excessive_columns = ['oaid_hash', 'banner_id0', 'banner_id1', 'rate0', 'rate1', 'g0', 'g1', 'coeff_sum0', 'coeff_sum1']\n",
    "    data = data.drop(columns=excessive_columns, errors='ignore')\n",
    "    \n",
    "    # Check for nans\n",
    "    print('Are there any None/NaNs?', data.isnull().values.any(), '\\n')\n",
    "    \n",
    "    # Take a look at the data\n",
    "    print(data.describe(), '\\n')\n",
    "    \n",
    "    # Plot histogram for categorial features\n",
    "    for column in ['zone_id', 'banner_id', 'os_id', 'country_id', 'campaign_clicks']:\n",
    "        counts = data[column].value_counts()\n",
    "        print(counts)\n",
    "        print(f'Unique: {len(counts.index)}')\n",
    "        plt.hist(data[column])\n",
    "        plt.title(column)\n",
    "        plt.show()\n",
    "        \n",
    "    # Convert date to proper format\n",
    "    data['date_time'] = pd.to_datetime(data['date_time'])\n",
    "        \n",
    "    # Check the dates (the last day is our test sample)\n",
    "    print(data['date_time'].dt.date.value_counts(), '\\n')\n",
    "    \n",
    "    # Confirm that impressions column is constant\n",
    "    print('Are all impressions == 1?', (data['impressions'] == 1).all())\n",
    "    \n",
    "    return data"
   ]
  },
  {
   "cell_type": "code",
   "execution_count": 4,
   "metadata": {},
   "outputs": [
    {
     "name": "stdout",
     "output_type": "stream",
     "text": [
      "Are there any None/NaNs? False \n",
      "\n",
      "            zone_id     banner_id  campaign_clicks         os_id  \\\n",
      "count  1.582147e+07  1.582147e+07     1.582147e+07  1.582147e+07   \n",
      "mean   8.152679e+01  3.816483e+02     6.238540e-01  1.840605e+00   \n",
      "std    1.632448e+02  3.959386e+02     9.249152e+00  1.530005e+00   \n",
      "min    0.000000e+00  0.000000e+00     0.000000e+00  0.000000e+00   \n",
      "25%    1.400000e+01  5.200000e+01     0.000000e+00  1.000000e+00   \n",
      "50%    1.900000e+01  2.170000e+02     0.000000e+00  2.000000e+00   \n",
      "75%    6.000000e+01  6.110000e+02     0.000000e+00  3.000000e+00   \n",
      "max    3.443000e+03  1.632000e+03     8.290000e+02  1.000000e+01   \n",
      "\n",
      "         country_id  impressions        clicks  \n",
      "count  1.582147e+07   15821472.0  1.582147e+07  \n",
      "mean   4.346986e+00          1.0  2.668835e-02  \n",
      "std    4.317701e+00          0.0  1.611710e-01  \n",
      "min    0.000000e+00          1.0  0.000000e+00  \n",
      "25%    0.000000e+00          1.0  0.000000e+00  \n",
      "50%    4.000000e+00          1.0  0.000000e+00  \n",
      "75%    7.000000e+00          1.0  0.000000e+00  \n",
      "max    1.600000e+01          1.0  1.000000e+00   \n",
      "\n",
      "17      2280422\n",
      "14      1638642\n",
      "12       736352\n",
      "0        708379\n",
      "19       693292\n",
      "         ...   \n",
      "2854          1\n",
      "2856          1\n",
      "2859          1\n",
      "2858          1\n",
      "3442          1\n",
      "Name: zone_id, Length: 3444, dtype: int64\n",
      "Unique: 3444\n"
     ]
    },
    {
     "data": {
      "image/png": "[encoded data removed]",
      "text/plain": [
       "<Figure size 432x288 with 1 Axes>"
      ]
     },
     "metadata": {
      "needs_background": "light"
     },
     "output_type": "display_data"
    },
    {
     "name": "stdout",
     "output_type": "stream",
     "text": [
      "22      613367\n",
      "361     387563\n",
      "3       286999\n",
      "18      262946\n",
      "21      246378\n",
      "         ...  \n",
      "1501         1\n",
      "1503         1\n",
      "1504         1\n",
      "1507         1\n",
      "1632         1\n",
      "Name: banner_id, Length: 1633, dtype: int64\n",
      "Unique: 1633\n"
     ]
    },
    {
     "data": {
      "image/png": "[encoded data removed]",
      "text/plain": [
       "<Figure size 432x288 with 1 Axes>"
      ]
     },
     "metadata": {
      "needs_background": "light"
     },
     "output_type": "display_data"
    },
    {
     "name": "stdout",
     "output_type": "stream",
     "text": [
      "2     4589979\n",
      "0     3856798\n",
      "1     3178693\n",
      "4     3012541\n",
      "3      759767\n",
      "6      310346\n",
      "5      111946\n",
      "8        1273\n",
      "7          99\n",
      "9          25\n",
      "10          5\n",
      "Name: os_id, dtype: int64\n",
      "Unique: 11\n"
     ]
    },
    {
     "data": {
      "image/png": "[encoded data removed]",
      "text/plain": [
       "<Figure size 432x288 with 1 Axes>"
      ]
     },
     "metadata": {
      "needs_background": "light"
     },
     "output_type": "display_data"
    },
    {
     "name": "stdout",
     "output_type": "stream",
     "text": [
      "0     4956393\n",
      "5     1910054\n",
      "6     1582705\n",
      "7     1525569\n",
      "1     1346321\n",
      "3     1337392\n",
      "15     603301\n",
      "12     478038\n",
      "9      439004\n",
      "4      388801\n",
      "10     356490\n",
      "11     212245\n",
      "8      210211\n",
      "13     190855\n",
      "14     138385\n",
      "16      79166\n",
      "2       66542\n",
      "Name: country_id, dtype: int64\n",
      "Unique: 17\n"
     ]
    },
    {
     "data": {
      "image/png": "[encoded data removed]",
      "text/plain": [
       "<Figure size 432x288 with 1 Axes>"
      ]
     },
     "metadata": {
      "needs_background": "light"
     },
     "output_type": "display_data"
    },
    {
     "name": "stdout",
     "output_type": "stream",
     "text": [
      "0      13682452\n",
      "1       1236822\n",
      "2        342937\n",
      "3        173528\n",
      "4        100293\n",
      "         ...   \n",
      "802           1\n",
      "803           1\n",
      "804           1\n",
      "807           1\n",
      "829           1\n",
      "Name: campaign_clicks, Length: 822, dtype: int64\n",
      "Unique: 822\n"
     ]
    },
    {
     "data": {
      "image/png": "[encoded data removed]",
      "text/plain": [
       "<Figure size 432x288 with 1 Axes>"
      ]
     },
     "metadata": {
      "needs_background": "light"
     },
     "output_type": "display_data"
    },
    {
     "name": "stdout",
     "output_type": "stream",
     "text": [
      "2021-09-26    3102610\n",
      "2021-09-29    2420588\n",
      "2021-09-27    2367303\n",
      "2021-09-28    2307355\n",
      "2021-10-02    2128978\n",
      "2021-09-30    1851189\n",
      "2021-10-01    1643448\n",
      "2021-09-01          1\n",
      "Name: date_time, dtype: int64 \n",
      "\n",
      "Are all impressions == 1? True\n"
     ]
    }
   ],
   "source": [
    "data = analysis(data)"
   ]
  },
  {
   "cell_type": "code",
   "execution_count": 5,
   "metadata": {},
   "outputs": [
    {
     "data": {
      "text/html": [
       "<div>\n",
       "<style scoped>\n",
       "    .dataframe tbody tr th:only-of-type {\n",
       "        vertical-align: middle;\n",
       "    }\n",
       "\n",
       "    .dataframe tbody tr th {\n",
       "        vertical-align: top;\n",
       "    }\n",
       "\n",
       "    .dataframe thead th {\n",
       "        text-align: right;\n",
       "    }\n",
       "</style>\n",
       "<table border=\"1\" class=\"dataframe\">\n",
       "  <thead>\n",
       "    <tr style=\"text-align: right;\">\n",
       "      <th></th>\n",
       "      <th>date_time</th>\n",
       "      <th>zone_id</th>\n",
       "      <th>banner_id</th>\n",
       "      <th>campaign_clicks</th>\n",
       "      <th>os_id</th>\n",
       "      <th>country_id</th>\n",
       "      <th>impressions</th>\n",
       "      <th>clicks</th>\n",
       "    </tr>\n",
       "  </thead>\n",
       "  <tbody>\n",
       "    <tr>\n",
       "      <th>0</th>\n",
       "      <td>2021-09-27 00:01:30</td>\n",
       "      <td>0</td>\n",
       "      <td>0</td>\n",
       "      <td>0</td>\n",
       "      <td>0</td>\n",
       "      <td>0</td>\n",
       "      <td>1</td>\n",
       "      <td>1</td>\n",
       "    </tr>\n",
       "    <tr>\n",
       "      <th>1</th>\n",
       "      <td>2021-09-26 22:54:49</td>\n",
       "      <td>1</td>\n",
       "      <td>1</td>\n",
       "      <td>0</td>\n",
       "      <td>0</td>\n",
       "      <td>1</td>\n",
       "      <td>1</td>\n",
       "      <td>1</td>\n",
       "    </tr>\n",
       "    <tr>\n",
       "      <th>2</th>\n",
       "      <td>2021-09-26 23:57:20</td>\n",
       "      <td>2</td>\n",
       "      <td>2</td>\n",
       "      <td>3</td>\n",
       "      <td>0</td>\n",
       "      <td>0</td>\n",
       "      <td>1</td>\n",
       "      <td>1</td>\n",
       "    </tr>\n",
       "    <tr>\n",
       "      <th>3</th>\n",
       "      <td>2021-09-27 00:04:30</td>\n",
       "      <td>3</td>\n",
       "      <td>3</td>\n",
       "      <td>0</td>\n",
       "      <td>1</td>\n",
       "      <td>1</td>\n",
       "      <td>1</td>\n",
       "      <td>1</td>\n",
       "    </tr>\n",
       "    <tr>\n",
       "      <th>4</th>\n",
       "      <td>2021-09-27 00:06:21</td>\n",
       "      <td>4</td>\n",
       "      <td>4</td>\n",
       "      <td>0</td>\n",
       "      <td>1</td>\n",
       "      <td>0</td>\n",
       "      <td>1</td>\n",
       "      <td>1</td>\n",
       "    </tr>\n",
       "  </tbody>\n",
       "</table>\n",
       "</div>"
      ],
      "text/plain": [
       "            date_time  zone_id  banner_id  campaign_clicks  os_id  country_id  \\\n",
       "0 2021-09-27 00:01:30        0          0                0      0           0   \n",
       "1 2021-09-26 22:54:49        1          1                0      0           1   \n",
       "2 2021-09-26 23:57:20        2          2                3      0           0   \n",
       "3 2021-09-27 00:04:30        3          3                0      1           1   \n",
       "4 2021-09-27 00:06:21        4          4                0      1           0   \n",
       "\n",
       "   impressions  clicks  \n",
       "0            1       1  \n",
       "1            1       1  \n",
       "2            1       1  \n",
       "3            1       1  \n",
       "4            1       1  "
      ]
     },
     "execution_count": 5,
     "metadata": {},
     "output_type": "execute_result"
    }
   ],
   "source": [
    "data.head()"
   ]
  },
  {
   "cell_type": "markdown",
   "metadata": {},
   "source": [
    "* Удалили ненужные по условию фичи.\n",
    "* `None`/`NaN` нет.\n",
    "* Категориальные фичи кодируем с `OneHotEncoding`.\n",
    "* Числовую фичу `campaign_clicks` нормируем.\n",
    "* `2021-09-01` выбивается из остальных дат, выкинем как выброс.\n",
    "* Все `impressions` равны 1 (что наверное логично, раз данные = показы рекламы), выкинем эту фичу.\n",
    "* `2021-10-02` последний день. На остальном обучаем, на нём предиктим.\n",
    "* Вообще дни (дни недели) нам ничего не дадут, так как всего один день в тестовой выборке. Но может разбить на часы, это явно может иметь отношение к клику на определенные сайты."
   ]
  },
  {
   "cell_type": "code",
   "execution_count": 6,
   "metadata": {
    "pycharm": {
     "name": "#%%\n"
    }
   },
   "outputs": [],
   "source": [
    "def feature_engineering(data: pd.DataFrame) -> pd.DataFrame:\n",
    "    # Drop constant column\n",
    "    data = data.drop(columns='impressions', errors='ignore')    \n",
    "\n",
    "    # Remove the outlier day\n",
    "    data = data[data['date_time'] != '2021-09-01']\n",
    "    \n",
    "    # Remove the ys and the numerical feature\n",
    "    clicks, campaign_clicks = data['clicks'], data[['campaign_clicks']]\n",
    "    data = data.drop(columns=['clicks', 'campaign_clicks'])\n",
    "    \n",
    "    # Scale campaign_clicks\n",
    "    campaign_clicks = StandardScaler().fit_transform(campaign_clicks)\n",
    "    \n",
    "    # Create the hour feature\n",
    "    data['hour'] = data['date_time'].dt.hour\n",
    "    \n",
    "    # Train-test split\n",
    "    train = data['date_time'] < '2021-10-02'\n",
    "    X_train, X_test = data[train], data[~train]\n",
    "    y_train, y_test = clicks[train], clicks[~train]\n",
    "    \n",
    "    # Remove excessive date_time feature\n",
    "    X_train, X_test = X_train.drop(columns=['date_time']).to_numpy(), X_test.drop(columns=['date_time']).to_numpy()\n",
    "    \n",
    "    # Use One-Hot Encoding for categorial features\n",
    "    encoder = OneHotEncoder(handle_unknown='ignore')\n",
    "    X_train = encoder.fit_transform(X_train)\n",
    "    X_test = encoder.transform(X_test)\n",
    "\n",
    "    # Merge with the numerical campaign_clicks\n",
    "    X_train = sparse.hstack([X_train, campaign_clicks[train]])\n",
    "    X_test = sparse.hstack([X_test, campaign_clicks[~train]])\n",
    "\n",
    "    return X_train.tocsr(), y_train, X_test.tocsr(), y_test"
   ]
  },
  {
   "cell_type": "code",
   "execution_count": 7,
   "metadata": {},
   "outputs": [
    {
     "data": {
      "text/plain": [
       "((13692494, 4969), (13692494,), (2128978, 4969), (2128978,))"
      ]
     },
     "execution_count": 7,
     "metadata": {},
     "output_type": "execute_result"
    }
   ],
   "source": [
    "X_train, y_train, X_test, y_test = feature_engineering(data)\n",
    "X_train.shape, y_train.shape, X_test.shape, y_test.shape"
   ]
  },
  {
   "cell_type": "code",
   "execution_count": 8,
   "metadata": {
    "pycharm": {
     "name": "#%%\n"
    }
   },
   "outputs": [],
   "source": [
    "# Logistic Regression with liblinear (non SGD-like) solver and L2-regularization.\n",
    "def create_model(C):\n",
    "    return LogisticRegression(solver='liblinear', random_state=239, C=C, penalty='l2')"
   ]
  },
  {
   "cell_type": "code",
   "execution_count": 9,
   "metadata": {
    "pycharm": {
     "name": "#%%\n"
    }
   },
   "outputs": [],
   "source": [
    "# Cross-validation with different Cs\n",
    "def cv():\n",
    "    Cs = [0.001, 0.01, 0.1, 1]\n",
    "    for C in Cs:\n",
    "        model = create_model(C)\n",
    "        scores = cross_validate(model, X_train, y_train, scoring=['neg_log_loss', 'roc_auc'])\n",
    "        neg_log_loss = scores['test_neg_log_loss']\n",
    "        roc_auc = scores['test_roc_auc']\n",
    "        print(f'C = {C}')\n",
    "        print(f'neg_log_loss = {np.mean(neg_log_loss)}')\n",
    "        print(f'roc_auc = {np.mean(roc_auc)}')"
   ]
  },
  {
   "cell_type": "code",
   "execution_count": null,
   "metadata": {},
   "outputs": [
    {
     "name": "stdout",
     "output_type": "stream",
     "text": [
      "C = 0.001\n",
      "neg_los_loss = -0.11705228371093716\n",
      "roc_auc = 0.6257158890852914\n"
     ]
    },
    {
     "name": "stdout",
     "output_type": "stream",
     "text": [
      "C = 0.01\n",
      "neg_los_loss = -0.11887762592801836\n",
      "roc_auc = 0.6343324285793297\n"
     ]
    },
    {
     "name": "stdout",
     "output_type": "stream",
     "text": [
      "C = 0.1\n",
      "neg_los_loss = -0.12029670028039849\n",
      "roc_auc = 0.638174963618054\n"
     ]
    },
    {
     "name": "stdout",
     "output_type": "stream",
     "text": [
      "C = 1\n",
      "neg_los_loss = -0.12070354528389982\n",
      "roc_auc = 0.6401710975511747\n"
     ]
    }
   ],
   "source": [
    "cv()"
   ]
  },
  {
   "cell_type": "code",
   "execution_count": 14,
   "metadata": {},
   "outputs": [
    {
     "name": "stdout",
     "output_type": "stream",
     "text": [
      "my roc_auc = 0.7703144780675439\n",
      "my log_loss = 0.13566827866435563\n"
     ]
    }
   ],
   "source": [
    "# According to log loss, best C seems to be 0.001\n",
    "model = create_model(0.001).fit(X_train, y_train)\n",
    "y_pred_proba = model.predict_proba(X_test)[:, 1]\n",
    "my_roc_auc = roc_auc_score(y_test, y_pred_proba)\n",
    "my_log_loss = log_loss(y_test, y_pred_proba)\n",
    "print(f'my roc_auc = {my_roc_auc}')\n",
    "print(f'my log_loss = {my_log_loss}')"
   ]
  },
  {
   "cell_type": "code",
   "execution_count": 17,
   "metadata": {
    "scrolled": true
   },
   "outputs": [
    {
     "name": "stdout",
     "output_type": "stream",
     "text": [
      "baseline roc_auc = 0.5\n",
      "baseline log_loss = 0.15486198009919555\n"
     ]
    }
   ],
   "source": [
    "y_pred_baseline = np.full(y_pred_proba.shape, np.mean(y_train))\n",
    "roc_auc_baseline = roc_auc_score(y_test, y_pred_baseline)\n",
    "log_loss_baseline = log_loss(y_test, y_pred_baseline)\n",
    "print(f'baseline roc_auc = {roc_auc_baseline}')\n",
    "print(f'baseline log_loss = {log_loss_baseline}')"
   ]
  },
  {
   "cell_type": "markdown",
   "metadata": {},
   "source": [
    "Обыграли `baseline`."
   ]
  }
 ],
 "metadata": {
  "kernelspec": {
   "display_name": "Python 3",
   "language": "python",
   "name": "python3"
  },
  "language_info": {
   "codemirror_mode": {
    "name": "ipython",
    "version": 3
   },
   "file_extension": ".py",
   "mimetype": "text/x-python",
   "name": "python",
   "nbconvert_exporter": "python",
   "pygments_lexer": "ipython3",
   "version": "3.8.8"
  }
 },
 "nbformat": 4,
 "nbformat_minor": 1
}
