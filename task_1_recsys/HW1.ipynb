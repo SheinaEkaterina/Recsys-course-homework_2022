{
 "cells": [
  {
   "cell_type": "code",
   "execution_count": 17,
   "id": "d538a65c",
   "metadata": {
    "pycharm": {
     "name": "#%%\n"
    }
   },
   "outputs": [
    {
     "name": "stdout",
     "output_type": "stream",
     "text": [
      "The autoreload extension is already loaded. To reload it, use:\n",
      "  %reload_ext autoreload\n"
     ]
    }
   ],
   "source": [
    "import pandas as pd\n",
    "from functions import analysis, feature_engineering, train_test_split, create_model, cv, baseline, \\\n",
    "    test_model, test_baseline\n",
    "%load_ext autoreload\n",
    "%autoreload 2"
   ]
  },
  {
   "cell_type": "code",
   "execution_count": 41,
   "outputs": [],
   "source": [
    "import warnings\n",
    "warnings.filterwarnings(\"ignore\")"
   ],
   "metadata": {
    "collapsed": false,
    "pycharm": {
     "name": "#%%\n"
    }
   }
  },
  {
   "cell_type": "code",
   "execution_count": 18,
   "id": "26e7c0fc",
   "metadata": {
    "pycharm": {
     "name": "#%%\n"
    }
   },
   "outputs": [
    {
     "data": {
      "text/plain": "                    date_time  zone_id  banner_id  campaign_clicks  os_id  \\\n0  2021-09-27 00:01:30.000000        0          0                0      0   \n1  2021-09-26 22:54:49.000000        1          1                0      0   \n2  2021-09-26 23:57:20.000000        2          2                3      0   \n3  2021-09-27 00:04:30.000000        3          3                0      1   \n4  2021-09-27 00:06:21.000000        4          4                0      1   \n\n   country_id  impressions  clicks  \n0           0            1       1  \n1           1            1       1  \n2           0            1       1  \n3           1            1       1  \n4           0            1       1  ",
      "text/html": "<div>\n<style scoped>\n    .dataframe tbody tr th:only-of-type {\n        vertical-align: middle;\n    }\n\n    .dataframe tbody tr th {\n        vertical-align: top;\n    }\n\n    .dataframe thead th {\n        text-align: right;\n    }\n</style>\n<table border=\"1\" class=\"dataframe\">\n  <thead>\n    <tr style=\"text-align: right;\">\n      <th></th>\n      <th>date_time</th>\n      <th>zone_id</th>\n      <th>banner_id</th>\n      <th>campaign_clicks</th>\n      <th>os_id</th>\n      <th>country_id</th>\n      <th>impressions</th>\n      <th>clicks</th>\n    </tr>\n  </thead>\n  <tbody>\n    <tr>\n      <th>0</th>\n      <td>2021-09-27 00:01:30.000000</td>\n      <td>0</td>\n      <td>0</td>\n      <td>0</td>\n      <td>0</td>\n      <td>0</td>\n      <td>1</td>\n      <td>1</td>\n    </tr>\n    <tr>\n      <th>1</th>\n      <td>2021-09-26 22:54:49.000000</td>\n      <td>1</td>\n      <td>1</td>\n      <td>0</td>\n      <td>0</td>\n      <td>1</td>\n      <td>1</td>\n      <td>1</td>\n    </tr>\n    <tr>\n      <th>2</th>\n      <td>2021-09-26 23:57:20.000000</td>\n      <td>2</td>\n      <td>2</td>\n      <td>3</td>\n      <td>0</td>\n      <td>0</td>\n      <td>1</td>\n      <td>1</td>\n    </tr>\n    <tr>\n      <th>3</th>\n      <td>2021-09-27 00:04:30.000000</td>\n      <td>3</td>\n      <td>3</td>\n      <td>0</td>\n      <td>1</td>\n      <td>1</td>\n      <td>1</td>\n      <td>1</td>\n    </tr>\n    <tr>\n      <th>4</th>\n      <td>2021-09-27 00:06:21.000000</td>\n      <td>4</td>\n      <td>4</td>\n      <td>0</td>\n      <td>1</td>\n      <td>0</td>\n      <td>1</td>\n      <td>1</td>\n    </tr>\n  </tbody>\n</table>\n</div>"
     },
     "execution_count": 18,
     "metadata": {},
     "output_type": "execute_result"
    }
   ],
   "source": [
    "data = pd.read_csv(\"data.csv\")\n",
    "# выкинем колонки, которые не нужы для 1 го задания\n",
    "data = data.drop(columns=['oaid_hash', 'banner_id0', 'banner_id1', 'rate0', 'rate1', \n",
    "                  'g0', 'g1', 'coeff_sum0', 'coeff_sum1'])\n",
    "data.head()"
   ]
  },
  {
   "cell_type": "code",
   "execution_count": 3,
   "outputs": [
    {
     "name": "stdout",
     "output_type": "stream",
     "text": [
      "Количество записей в таблице:  15821472\n",
      "соотношние между классами:\n",
      "1-ый класс: 2.6688351121817235 %, 2-ой класс 97.33116488781828 %\n",
      "\n",
      "Nan в таблице:\n",
      "False\n",
      "\n",
      "Количество уникальных значений для os_id:  11\n",
      "Количество уникальных значений для country_id:  17\n",
      "Количество уникальных значений для impressions:  1\n",
      "Количество уникальных значений для campaign_clicks:  822\n",
      "Количество уникальных значений для banner_id:  1633\n"
     ]
    }
   ],
   "source": [
    "analysis(data)"
   ],
   "metadata": {
    "collapsed": false,
    "pycharm": {
     "name": "#%%\n"
    }
   }
  },
  {
   "cell_type": "code",
   "execution_count": 26,
   "id": "000959cf",
   "metadata": {
    "pycharm": {
     "name": "#%%\n"
    }
   },
   "outputs": [],
   "source": [
    "# Nan нет в таблице,поэтому пропуски заполнять не надо\n",
    "# Так как значение этой колоники одинаково для всех строк, уберем ее\n",
    "data = data.drop(columns=['impressions'])"
   ]
  },
  {
   "cell_type": "markdown",
   "source": [
    "#### Проанализируем чем отличаются случаи, когда были клики, от остальных\n",
    "\n",
    "Посмотрим распределение по странам, операционным системам в случаях, когда был клик, и когда не было (у других фичей слишком много значений)"
   ],
   "metadata": {
    "collapsed": false,
    "pycharm": {
     "name": "#%% md\n"
    }
   }
  },
  {
   "cell_type": "code",
   "execution_count": 5,
   "outputs": [
    {
     "data": {
      "text/plain": "    index  no_click_countries  click_countries\n0       0            0.313052         0.321239\n1       5            0.121233         0.102226\n2       6            0.101050         0.063022\n3       7            0.096413         0.096815\n4       3            0.084440         0.087806\n5       1            0.084344         0.112474\n6      15            0.038368         0.029520\n7      12            0.030311         0.026698\n8       9            0.027631         0.031981\n9       4            0.024601         0.023590\n10     10            0.022721         0.015645\n11     11            0.013371         0.015012\n12      8            0.013047         0.022023\n13     13            0.011757         0.023237\n14     14            0.008747         0.008729\n15     16            0.004738         0.014707\n16      2            0.004177         0.005274",
      "text/html": "<div>\n<style scoped>\n    .dataframe tbody tr th:only-of-type {\n        vertical-align: middle;\n    }\n\n    .dataframe tbody tr th {\n        vertical-align: top;\n    }\n\n    .dataframe thead th {\n        text-align: right;\n    }\n</style>\n<table border=\"1\" class=\"dataframe\">\n  <thead>\n    <tr style=\"text-align: right;\">\n      <th></th>\n      <th>index</th>\n      <th>no_click_countries</th>\n      <th>click_countries</th>\n    </tr>\n  </thead>\n  <tbody>\n    <tr>\n      <th>0</th>\n      <td>0</td>\n      <td>0.313052</td>\n      <td>0.321239</td>\n    </tr>\n    <tr>\n      <th>1</th>\n      <td>5</td>\n      <td>0.121233</td>\n      <td>0.102226</td>\n    </tr>\n    <tr>\n      <th>2</th>\n      <td>6</td>\n      <td>0.101050</td>\n      <td>0.063022</td>\n    </tr>\n    <tr>\n      <th>3</th>\n      <td>7</td>\n      <td>0.096413</td>\n      <td>0.096815</td>\n    </tr>\n    <tr>\n      <th>4</th>\n      <td>3</td>\n      <td>0.084440</td>\n      <td>0.087806</td>\n    </tr>\n    <tr>\n      <th>5</th>\n      <td>1</td>\n      <td>0.084344</td>\n      <td>0.112474</td>\n    </tr>\n    <tr>\n      <th>6</th>\n      <td>15</td>\n      <td>0.038368</td>\n      <td>0.029520</td>\n    </tr>\n    <tr>\n      <th>7</th>\n      <td>12</td>\n      <td>0.030311</td>\n      <td>0.026698</td>\n    </tr>\n    <tr>\n      <th>8</th>\n      <td>9</td>\n      <td>0.027631</td>\n      <td>0.031981</td>\n    </tr>\n    <tr>\n      <th>9</th>\n      <td>4</td>\n      <td>0.024601</td>\n      <td>0.023590</td>\n    </tr>\n    <tr>\n      <th>10</th>\n      <td>10</td>\n      <td>0.022721</td>\n      <td>0.015645</td>\n    </tr>\n    <tr>\n      <th>11</th>\n      <td>11</td>\n      <td>0.013371</td>\n      <td>0.015012</td>\n    </tr>\n    <tr>\n      <th>12</th>\n      <td>8</td>\n      <td>0.013047</td>\n      <td>0.022023</td>\n    </tr>\n    <tr>\n      <th>13</th>\n      <td>13</td>\n      <td>0.011757</td>\n      <td>0.023237</td>\n    </tr>\n    <tr>\n      <th>14</th>\n      <td>14</td>\n      <td>0.008747</td>\n      <td>0.008729</td>\n    </tr>\n    <tr>\n      <th>15</th>\n      <td>16</td>\n      <td>0.004738</td>\n      <td>0.014707</td>\n    </tr>\n    <tr>\n      <th>16</th>\n      <td>2</td>\n      <td>0.004177</td>\n      <td>0.005274</td>\n    </tr>\n  </tbody>\n</table>\n</div>"
     },
     "execution_count": 5,
     "metadata": {},
     "output_type": "execute_result"
    }
   ],
   "source": [
    "# по странам\n",
    "countries_dist_click = pd.DataFrame(data.loc[data['clicks']==1]['country_id'].value_counts(normalize=True)).reset_index()\n",
    "countries_dist_no_click = pd.DataFrame(data.loc[data['clicks']==0]['country_id'].value_counts(normalize=True)).reset_index()\n",
    "countries_dist_no_click.merge(countries_dist_click, 'inner', 'index').rename({'country_id_x':'no_click_countries',\n",
    "                                                                              'country_id_y':'click_countries' }, axis=1)\n",
    "# По результатам не видно корреляцией между старной и обилием кликов за редкими исключениями вроде country_id=16\n",
    "# Тем не менее информация о стране может хоть какой-нибудь скор докинуть: поэтому мы не будет ее выкидывать"
   ],
   "metadata": {
    "collapsed": false,
    "pycharm": {
     "name": "#%%\n"
    }
   }
  },
  {
   "cell_type": "code",
   "execution_count": 6,
   "outputs": [
    {
     "data": {
      "text/plain": "   index  no_click_os  click_os\n0      2     0.292751  0.193838\n1      0     0.242925  0.274584\n2      1     0.203629  0.101767\n3      4     0.187886  0.282404\n4      3     0.046968  0.086447\n5      6     0.018872  0.046747\n6      5     0.006882  0.014131\n7      8     0.000081  0.000073\n8      7     0.000006  0.000007",
      "text/html": "<div>\n<style scoped>\n    .dataframe tbody tr th:only-of-type {\n        vertical-align: middle;\n    }\n\n    .dataframe tbody tr th {\n        vertical-align: top;\n    }\n\n    .dataframe thead th {\n        text-align: right;\n    }\n</style>\n<table border=\"1\" class=\"dataframe\">\n  <thead>\n    <tr style=\"text-align: right;\">\n      <th></th>\n      <th>index</th>\n      <th>no_click_os</th>\n      <th>click_os</th>\n    </tr>\n  </thead>\n  <tbody>\n    <tr>\n      <th>0</th>\n      <td>2</td>\n      <td>0.292751</td>\n      <td>0.193838</td>\n    </tr>\n    <tr>\n      <th>1</th>\n      <td>0</td>\n      <td>0.242925</td>\n      <td>0.274584</td>\n    </tr>\n    <tr>\n      <th>2</th>\n      <td>1</td>\n      <td>0.203629</td>\n      <td>0.101767</td>\n    </tr>\n    <tr>\n      <th>3</th>\n      <td>4</td>\n      <td>0.187886</td>\n      <td>0.282404</td>\n    </tr>\n    <tr>\n      <th>4</th>\n      <td>3</td>\n      <td>0.046968</td>\n      <td>0.086447</td>\n    </tr>\n    <tr>\n      <th>5</th>\n      <td>6</td>\n      <td>0.018872</td>\n      <td>0.046747</td>\n    </tr>\n    <tr>\n      <th>6</th>\n      <td>5</td>\n      <td>0.006882</td>\n      <td>0.014131</td>\n    </tr>\n    <tr>\n      <th>7</th>\n      <td>8</td>\n      <td>0.000081</td>\n      <td>0.000073</td>\n    </tr>\n    <tr>\n      <th>8</th>\n      <td>7</td>\n      <td>0.000006</td>\n      <td>0.000007</td>\n    </tr>\n  </tbody>\n</table>\n</div>"
     },
     "execution_count": 6,
     "metadata": {},
     "output_type": "execute_result"
    }
   ],
   "source": [
    "# по операционным системам\n",
    "os_dist_click = pd.DataFrame(data.loc[data['clicks']==1]['os_id'].value_counts(normalize=True)).reset_index()\n",
    "os_dist_no_click = pd.DataFrame(data.loc[data['clicks']==0]['os_id'].value_counts(normalize=True)).reset_index()\n",
    "os_dist_no_click.merge(os_dist_click, 'inner', 'index').rename({'os_id_x':'no_click_os',\n",
    "                                                                              'os_id_y':'click_os' }, axis=1)\n",
    "# Эта фича куда более говорящая - на некоторых операционных системах люди кликают рекламу реже (os_id=2, 1), на других - чаще (os_id=3, 4, 5, 6)"
   ],
   "metadata": {
    "collapsed": false,
    "pycharm": {
     "name": "#%%\n"
    }
   }
  },
  {
   "cell_type": "code",
   "execution_count": 6,
   "outputs": [],
   "source": [],
   "metadata": {
    "collapsed": false,
    "pycharm": {
     "name": "#%%\n"
    }
   }
  },
  {
   "cell_type": "markdown",
   "source": [
    "# Построение модели"
   ],
   "metadata": {
    "collapsed": false,
    "pycharm": {
     "name": "#%% md\n"
    }
   }
  },
  {
   "cell_type": "code",
   "execution_count": 19,
   "outputs": [
    {
     "name": "stdout",
     "output_type": "stream",
     "text": [
      "Log loss: 0.11234095165091723\n",
      "Auc: 0.7323323967801383\n"
     ]
    }
   ],
   "source": [
    "# Построим бейзлайн с которым будем сравнивать\n",
    "data = baseline(data)\n",
    "test_baseline(data)"
   ],
   "metadata": {
    "collapsed": false,
    "pycharm": {
     "name": "#%%\n"
    }
   }
  },
  {
   "cell_type": "code",
   "execution_count": 20,
   "outputs": [
    {
     "data": {
      "text/plain": "                   date_time  zone_id  banner_id  campaign_clicks  os_id  \\\n15821467 2021-09-29 12:33:43       12       1520              0.0      1   \n15821468 2021-10-01 19:04:18       14        853              0.0      0   \n15821469 2021-09-28 08:34:49       30        649              0.0      4   \n15821470 2021-10-02 05:16:56       14        562              0.0      2   \n15821471 2021-10-01 04:41:34       14       1163              0.0      2   \n\n          country_id  impressions  clicks  average_clicks      time  \\\n15821467           9            1       0             0.0  12:33:43   \n15821468          11            1       0             0.0  19:04:18   \n15821469           0            1       0             0.0  08:34:49   \n15821470           6            1       0             0.0  05:16:56   \n15821471          12            1       0             0.0  04:41:34   \n\n                date  time_of_day  is_weekend  month  av_clicks_os  \\\n15821467  2021-09-29         0.75           0      0           0.0   \n15821468  2021-10-01         0.25           0      1           0.0   \n15821469  2021-09-28         1.00           0      0           0.0   \n15821470  2021-10-02         0.00           1      1           0.0   \n15821471  2021-10-01         0.00           0      1           0.0   \n\n          av_clicks_country  av_clicks_month   date_copy  \n15821467                0.0              0.0  2021-09-29  \n15821468                0.0              0.0  2021-10-01  \n15821469                0.0              0.0  2021-09-28  \n15821470                0.0              0.0  2021-10-02  \n15821471                0.0              0.0  2021-10-01  ",
      "text/html": "<div>\n<style scoped>\n    .dataframe tbody tr th:only-of-type {\n        vertical-align: middle;\n    }\n\n    .dataframe tbody tr th {\n        vertical-align: top;\n    }\n\n    .dataframe thead th {\n        text-align: right;\n    }\n</style>\n<table border=\"1\" class=\"dataframe\">\n  <thead>\n    <tr style=\"text-align: right;\">\n      <th></th>\n      <th>date_time</th>\n      <th>zone_id</th>\n      <th>banner_id</th>\n      <th>campaign_clicks</th>\n      <th>os_id</th>\n      <th>country_id</th>\n      <th>impressions</th>\n      <th>clicks</th>\n      <th>average_clicks</th>\n      <th>time</th>\n      <th>date</th>\n      <th>time_of_day</th>\n      <th>is_weekend</th>\n      <th>month</th>\n      <th>av_clicks_os</th>\n      <th>av_clicks_country</th>\n      <th>av_clicks_month</th>\n      <th>date_copy</th>\n    </tr>\n  </thead>\n  <tbody>\n    <tr>\n      <th>15821467</th>\n      <td>2021-09-29 12:33:43</td>\n      <td>12</td>\n      <td>1520</td>\n      <td>0.0</td>\n      <td>1</td>\n      <td>9</td>\n      <td>1</td>\n      <td>0</td>\n      <td>0.0</td>\n      <td>12:33:43</td>\n      <td>2021-09-29</td>\n      <td>0.75</td>\n      <td>0</td>\n      <td>0</td>\n      <td>0.0</td>\n      <td>0.0</td>\n      <td>0.0</td>\n      <td>2021-09-29</td>\n    </tr>\n    <tr>\n      <th>15821468</th>\n      <td>2021-10-01 19:04:18</td>\n      <td>14</td>\n      <td>853</td>\n      <td>0.0</td>\n      <td>0</td>\n      <td>11</td>\n      <td>1</td>\n      <td>0</td>\n      <td>0.0</td>\n      <td>19:04:18</td>\n      <td>2021-10-01</td>\n      <td>0.25</td>\n      <td>0</td>\n      <td>1</td>\n      <td>0.0</td>\n      <td>0.0</td>\n      <td>0.0</td>\n      <td>2021-10-01</td>\n    </tr>\n    <tr>\n      <th>15821469</th>\n      <td>2021-09-28 08:34:49</td>\n      <td>30</td>\n      <td>649</td>\n      <td>0.0</td>\n      <td>4</td>\n      <td>0</td>\n      <td>1</td>\n      <td>0</td>\n      <td>0.0</td>\n      <td>08:34:49</td>\n      <td>2021-09-28</td>\n      <td>1.00</td>\n      <td>0</td>\n      <td>0</td>\n      <td>0.0</td>\n      <td>0.0</td>\n      <td>0.0</td>\n      <td>2021-09-28</td>\n    </tr>\n    <tr>\n      <th>15821470</th>\n      <td>2021-10-02 05:16:56</td>\n      <td>14</td>\n      <td>562</td>\n      <td>0.0</td>\n      <td>2</td>\n      <td>6</td>\n      <td>1</td>\n      <td>0</td>\n      <td>0.0</td>\n      <td>05:16:56</td>\n      <td>2021-10-02</td>\n      <td>0.00</td>\n      <td>1</td>\n      <td>1</td>\n      <td>0.0</td>\n      <td>0.0</td>\n      <td>0.0</td>\n      <td>2021-10-02</td>\n    </tr>\n    <tr>\n      <th>15821471</th>\n      <td>2021-10-01 04:41:34</td>\n      <td>14</td>\n      <td>1163</td>\n      <td>0.0</td>\n      <td>2</td>\n      <td>12</td>\n      <td>1</td>\n      <td>0</td>\n      <td>0.0</td>\n      <td>04:41:34</td>\n      <td>2021-10-01</td>\n      <td>0.00</td>\n      <td>0</td>\n      <td>1</td>\n      <td>0.0</td>\n      <td>0.0</td>\n      <td>0.0</td>\n      <td>2021-10-01</td>\n    </tr>\n  </tbody>\n</table>\n</div>"
     },
     "execution_count": 20,
     "metadata": {},
     "output_type": "execute_result"
    }
   ],
   "source": [
    "# Добавим признаков\n",
    "data = feature_engineering(data)\n",
    "data.tail()"
   ],
   "metadata": {
    "collapsed": false,
    "pycharm": {
     "name": "#%%\n"
    }
   }
  },
  {
   "cell_type": "code",
   "execution_count": 21,
   "outputs": [],
   "source": [
    "#Сделаем one-hot encoding фич. У фичей banner_id и zone_id слишком много значений: поэтому закодируем только\n",
    "# самые часто встречающиеся значение (всего получится около 20 значений)"
   ],
   "metadata": {
    "collapsed": false,
    "pycharm": {
     "name": "#%%\n"
    }
   }
  },
  {
   "cell_type": "markdown",
   "source": [],
   "metadata": {
    "collapsed": false,
    "pycharm": {
     "name": "#%% md\n"
    }
   }
  },
  {
   "cell_type": "code",
   "execution_count": 22,
   "outputs": [],
   "source": [
    "cats_banner = data['banner_id'].value_counts()[lambda x: x > 200000].index\n",
    "cats_zone = data['zone_id'].value_counts()[lambda x: x > 200000].index\n",
    "cats_country = data['country_id'].value_counts()[lambda x: x > 300000].index\n",
    "other_cat_features =  ['os_id', 'date_copy']\n",
    "\n",
    "zone_col = pd.get_dummies(pd.Categorical(data['zone_id'], categories=cats_zone)).add_prefix('zone_')\n",
    "banner_col = pd.get_dummies(pd.Categorical(data['banner_id'], categories=cats_banner)).add_prefix('banner_')\n",
    "country_col = pd.get_dummies(pd.Categorical(data['country_id'], categories=cats_country)).add_prefix('country_')\n",
    "data = pd.get_dummies(data, columns= other_cat_features, drop_first=True)\n",
    "data = pd.concat([data, zone_col],  axis=1)\n",
    "data = pd.concat([data, banner_col], axis=1)"
   ],
   "metadata": {
    "collapsed": false,
    "pycharm": {
     "name": "#%%\n"
    }
   }
  },
  {
   "cell_type": "code",
   "execution_count": 28,
   "outputs": [
    {
     "name": "stdout",
     "output_type": "stream",
     "text": [
      "59\n"
     ]
    }
   ],
   "source": [
    "# Разобъем на тест и тест: в качестве теста возьмем последний день\n",
    "features = [col for col in data.columns if col not in ['date_time', 'clicks', 'time', 'zone_id',\n",
    "                                                       'banner_id', 'country_id']]\n",
    "print(len(features))\n",
    "X_train, Y_train, X_test, Y_test = train_test_split(data, features=features)\n",
    "X_test = X_test.drop(columns=['date'])\n",
    "X_train = X_train.drop(columns=['date'])\n"
   ],
   "metadata": {
    "collapsed": false,
    "pycharm": {
     "name": "#%%\n"
    }
   }
  },
  {
   "cell_type": "code",
   "execution_count": 34,
   "outputs": [
    {
     "name": "stderr",
     "output_type": "stream",
     "text": [
      "C:\\Users\\msk-lokteva\\AppData\\Local\\Temp\\ipykernel_13292\\2013697066.py:2: FutureWarning: In a future version, `df.iloc[:, i] = newvals` will attempt to set the values inplace instead of always setting a new array. To retain the old behavior, use either `df[df.columns[i]] = newvals` or, if columns are non-unique, `df.isetitem(i, newvals)`\n",
      "  X_train.loc[:, float_col] = X_train.loc[:, float_col].astype('float16')\n"
     ]
    }
   ],
   "source": [
    "# Обрежем типы\n",
    "float_col = ['av_clicks_os', 'av_clicks_country', 'average_clicks', 'campaign_clicks', 'av_clicks_month', 'time_of_day']\n",
    "X_train.loc[:, float_col] = X_train.loc[:, float_col].astype('float16')"
   ],
   "metadata": {
    "collapsed": false,
    "pycharm": {
     "name": "#%%\n"
    }
   }
  },
  {
   "cell_type": "code",
   "execution_count": 36,
   "outputs": [
    {
     "name": "stdout",
     "output_type": "stream",
     "text": [
      "L2: 0.01, score: [0.73562817 0.66590017 0.63570834]\n",
      "L2: 0.1, score: [0.73969069 0.66833498 0.64718062]\n",
      "L2: 1, score: [0.73695573 0.66870336 0.64901972]\n",
      "L2: 10, score: [0.73530512 0.66874707 0.64911974]\n",
      "L2: 100, score: [0.73425253 0.66875518 0.64910036]\n"
     ]
    }
   ],
   "source": [
    "l2 = cv(X_train, Y_train, 'roc_auc')"
   ],
   "metadata": {
    "collapsed": false,
    "pycharm": {
     "name": "#%%\n"
    }
   }
  },
  {
   "cell_type": "code",
   "execution_count": 40,
   "outputs": [],
   "source": [
    "# Возьмем l2=0.1"
   ],
   "metadata": {
    "collapsed": false,
    "pycharm": {
     "name": "#%%\n"
    }
   }
  },
  {
   "cell_type": "code",
   "execution_count": 37,
   "outputs": [
    {
     "data": {
      "text/plain": "LogisticRegression(C=0.1, solver='liblinear')",
      "text/html": "<style>#sk-container-id-1 {color: black;background-color: white;}#sk-container-id-1 pre{padding: 0;}#sk-container-id-1 div.sk-toggleable {background-color: white;}#sk-container-id-1 label.sk-toggleable__label {cursor: pointer;display: block;width: 100%;margin-bottom: 0;padding: 0.3em;box-sizing: border-box;text-align: center;}#sk-container-id-1 label.sk-toggleable__label-arrow:before {content: \"▸\";float: left;margin-right: 0.25em;color: #696969;}#sk-container-id-1 label.sk-toggleable__label-arrow:hover:before {color: black;}#sk-container-id-1 div.sk-estimator:hover label.sk-toggleable__label-arrow:before {color: black;}#sk-container-id-1 div.sk-toggleable__content {max-height: 0;max-width: 0;overflow: hidden;text-align: left;background-color: #f0f8ff;}#sk-container-id-1 div.sk-toggleable__content pre {margin: 0.2em;color: black;border-radius: 0.25em;background-color: #f0f8ff;}#sk-container-id-1 input.sk-toggleable__control:checked~div.sk-toggleable__content {max-height: 200px;max-width: 100%;overflow: auto;}#sk-container-id-1 input.sk-toggleable__control:checked~label.sk-toggleable__label-arrow:before {content: \"▾\";}#sk-container-id-1 div.sk-estimator input.sk-toggleable__control:checked~label.sk-toggleable__label {background-color: #d4ebff;}#sk-container-id-1 div.sk-label input.sk-toggleable__control:checked~label.sk-toggleable__label {background-color: #d4ebff;}#sk-container-id-1 input.sk-hidden--visually {border: 0;clip: rect(1px 1px 1px 1px);clip: rect(1px, 1px, 1px, 1px);height: 1px;margin: -1px;overflow: hidden;padding: 0;position: absolute;width: 1px;}#sk-container-id-1 div.sk-estimator {font-family: monospace;background-color: #f0f8ff;border: 1px dotted black;border-radius: 0.25em;box-sizing: border-box;margin-bottom: 0.5em;}#sk-container-id-1 div.sk-estimator:hover {background-color: #d4ebff;}#sk-container-id-1 div.sk-parallel-item::after {content: \"\";width: 100%;border-bottom: 1px solid gray;flex-grow: 1;}#sk-container-id-1 div.sk-label:hover label.sk-toggleable__label {background-color: #d4ebff;}#sk-container-id-1 div.sk-serial::before {content: \"\";position: absolute;border-left: 1px solid gray;box-sizing: border-box;top: 0;bottom: 0;left: 50%;z-index: 0;}#sk-container-id-1 div.sk-serial {display: flex;flex-direction: column;align-items: center;background-color: white;padding-right: 0.2em;padding-left: 0.2em;position: relative;}#sk-container-id-1 div.sk-item {position: relative;z-index: 1;}#sk-container-id-1 div.sk-parallel {display: flex;align-items: stretch;justify-content: center;background-color: white;position: relative;}#sk-container-id-1 div.sk-item::before, #sk-container-id-1 div.sk-parallel-item::before {content: \"\";position: absolute;border-left: 1px solid gray;box-sizing: border-box;top: 0;bottom: 0;left: 50%;z-index: -1;}#sk-container-id-1 div.sk-parallel-item {display: flex;flex-direction: column;z-index: 1;position: relative;background-color: white;}#sk-container-id-1 div.sk-parallel-item:first-child::after {align-self: flex-end;width: 50%;}#sk-container-id-1 div.sk-parallel-item:last-child::after {align-self: flex-start;width: 50%;}#sk-container-id-1 div.sk-parallel-item:only-child::after {width: 0;}#sk-container-id-1 div.sk-dashed-wrapped {border: 1px dashed gray;margin: 0 0.4em 0.5em 0.4em;box-sizing: border-box;padding-bottom: 0.4em;background-color: white;}#sk-container-id-1 div.sk-label label {font-family: monospace;font-weight: bold;display: inline-block;line-height: 1.2em;}#sk-container-id-1 div.sk-label-container {text-align: center;}#sk-container-id-1 div.sk-container {/* jupyter's `normalize.less` sets `[hidden] { display: none; }` but bootstrap.min.css set `[hidden] { display: none !important; }` so we also need the `!important` here to be able to override the default hidden behavior on the sphinx rendered scikit-learn.org. See: https://github.com/scikit-learn/scikit-learn/issues/21755 */display: inline-block !important;position: relative;}#sk-container-id-1 div.sk-text-repr-fallback {display: none;}</style><div id=\"sk-container-id-1\" class=\"sk-top-container\"><div class=\"sk-text-repr-fallback\"><pre>LogisticRegression(C=0.1, solver=&#x27;liblinear&#x27;)</pre><b>In a Jupyter environment, please rerun this cell to show the HTML representation or trust the notebook. <br />On GitHub, the HTML representation is unable to render, please try loading this page with nbviewer.org.</b></div><div class=\"sk-container\" hidden><div class=\"sk-item\"><div class=\"sk-estimator sk-toggleable\"><input class=\"sk-toggleable__control sk-hidden--visually\" id=\"sk-estimator-id-1\" type=\"checkbox\" checked><label for=\"sk-estimator-id-1\" class=\"sk-toggleable__label sk-toggleable__label-arrow\">LogisticRegression</label><div class=\"sk-toggleable__content\"><pre>LogisticRegression(C=0.1, solver=&#x27;liblinear&#x27;)</pre></div></div></div></div></div>"
     },
     "execution_count": 37,
     "metadata": {},
     "output_type": "execute_result"
    }
   ],
   "source": [
    "tuned_model = create_model(l2)\n",
    "tuned_model.fit(X_train, Y_train)"
   ],
   "metadata": {
    "collapsed": false,
    "pycharm": {
     "name": "#%%\n"
    }
   }
  },
  {
   "cell_type": "code",
   "execution_count": 42,
   "outputs": [
    {
     "name": "stdout",
     "output_type": "stream",
     "text": [
      "Log loss: 0.135430422031244\n",
      "Auc: 0.7668656691087233\n"
     ]
    }
   ],
   "source": [
    "X_test.loc[:, float_col] = X_test.loc[:, float_col].astype('float16')\n",
    "test_model(tuned_model,X_test, Y_test )"
   ],
   "metadata": {
    "collapsed": false,
    "pycharm": {
     "name": "#%%\n"
    }
   }
  },
  {
   "cell_type": "markdown",
   "source": [
    "Полученная модель превосхолит бейзлайн по метрике Auc"
   ],
   "metadata": {
    "collapsed": false,
    "pycharm": {
     "name": "#%% md\n"
    }
   }
  }
 ],
 "metadata": {
  "kernelspec": {
   "display_name": "Python 3 (ipykernel)",
   "language": "python",
   "name": "python3"
  },
  "language_info": {
   "codemirror_mode": {
    "name": "ipython",
    "version": 3
   },
   "file_extension": ".py",
   "mimetype": "text/x-python",
   "name": "python",
   "nbconvert_exporter": "python",
   "pygments_lexer": "ipython3",
   "version": "3.9.7"
  }
 },
 "nbformat": 4,
 "nbformat_minor": 5
}