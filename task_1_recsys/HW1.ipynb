{
 "cells": [
  {
   "cell_type": "code",
   "execution_count": 1,
   "metadata": {
    "collapsed": true,
    "pycharm": {
     "name": "#%%\n"
    }
   },
   "outputs": [],
   "source": [
    "import pandas as pd\n",
    "import matplotlib.pyplot as plt\n",
    "import numpy as np\n",
    "import json\n",
    "from sklearn.linear_model import LogisticRegression\n",
    "from sklearn.preprocessing import OneHotEncoder, StandardScaler\n",
    "from sklearn.model_selection import TimeSeriesSplit\n",
    "from tqdm import tqdm\n",
    "from scipy import sparse\n",
    "from typing import List\n",
    "from sklearn.metrics import log_loss, roc_auc_score\n"
   ]
  },
  {
   "cell_type": "markdown",
   "source": [
    "Прочитаем данные, выделив сразу необходимые нам фичи"
   ],
   "metadata": {
    "collapsed": false,
    "pycharm": {
     "name": "#%% md\n"
    }
   }
  },
  {
   "cell_type": "code",
   "execution_count": 2,
   "outputs": [
    {
     "data": {
      "text/plain": "            date_time  zone_id  banner_id  campaign_clicks  os_id  country_id  \\\n0 2021-09-27 00:01:30        0          0                0      0           0   \n1 2021-09-26 22:54:49        1          1                0      0           1   \n2 2021-09-26 23:57:20        2          2                3      0           0   \n3 2021-09-27 00:04:30        3          3                0      1           1   \n4 2021-09-27 00:06:21        4          4                0      1           0   \n\n   impressions  clicks  \n0            1       1  \n1            1       1  \n2            1       1  \n3            1       1  \n4            1       1  ",
      "text/html": "<div>\n<style scoped>\n    .dataframe tbody tr th:only-of-type {\n        vertical-align: middle;\n    }\n\n    .dataframe tbody tr th {\n        vertical-align: top;\n    }\n\n    .dataframe thead th {\n        text-align: right;\n    }\n</style>\n<table border=\"1\" class=\"dataframe\">\n  <thead>\n    <tr style=\"text-align: right;\">\n      <th></th>\n      <th>date_time</th>\n      <th>zone_id</th>\n      <th>banner_id</th>\n      <th>campaign_clicks</th>\n      <th>os_id</th>\n      <th>country_id</th>\n      <th>impressions</th>\n      <th>clicks</th>\n    </tr>\n  </thead>\n  <tbody>\n    <tr>\n      <th>0</th>\n      <td>2021-09-27 00:01:30</td>\n      <td>0</td>\n      <td>0</td>\n      <td>0</td>\n      <td>0</td>\n      <td>0</td>\n      <td>1</td>\n      <td>1</td>\n    </tr>\n    <tr>\n      <th>1</th>\n      <td>2021-09-26 22:54:49</td>\n      <td>1</td>\n      <td>1</td>\n      <td>0</td>\n      <td>0</td>\n      <td>1</td>\n      <td>1</td>\n      <td>1</td>\n    </tr>\n    <tr>\n      <th>2</th>\n      <td>2021-09-26 23:57:20</td>\n      <td>2</td>\n      <td>2</td>\n      <td>3</td>\n      <td>0</td>\n      <td>0</td>\n      <td>1</td>\n      <td>1</td>\n    </tr>\n    <tr>\n      <th>3</th>\n      <td>2021-09-27 00:04:30</td>\n      <td>3</td>\n      <td>3</td>\n      <td>0</td>\n      <td>1</td>\n      <td>1</td>\n      <td>1</td>\n      <td>1</td>\n    </tr>\n    <tr>\n      <th>4</th>\n      <td>2021-09-27 00:06:21</td>\n      <td>4</td>\n      <td>4</td>\n      <td>0</td>\n      <td>1</td>\n      <td>0</td>\n      <td>1</td>\n      <td>1</td>\n    </tr>\n  </tbody>\n</table>\n</div>"
     },
     "execution_count": 2,
     "metadata": {},
     "output_type": "execute_result"
    }
   ],
   "source": [
    "full_data = pd.read_csv(\n",
    "    'data/data.csv',\n",
    "    usecols=[\n",
    "        'date_time',\n",
    "        'zone_id',\n",
    "        'banner_id',\n",
    "        'campaign_clicks',\n",
    "        'os_id',\n",
    "        'country_id',\n",
    "        'impressions',\n",
    "        'clicks'\n",
    "    ],\n",
    "    parse_dates=['date_time'],\n",
    "    infer_datetime_format=True\n",
    ")\n",
    "full_data.head()"
   ],
   "metadata": {
    "collapsed": false,
    "pycharm": {
     "name": "#%%\n"
    }
   }
  },
  {
   "cell_type": "markdown",
   "source": [
    "# Analysis"
   ],
   "metadata": {
    "collapsed": false,
    "pycharm": {
     "name": "#%% md\n"
    }
   }
  },
  {
   "cell_type": "markdown",
   "source": [
    "В первую очередь проверим данные на пропуски, и увидим, что их там нет)"
   ],
   "metadata": {
    "collapsed": false,
    "pycharm": {
     "name": "#%% md\n"
    }
   }
  },
  {
   "cell_type": "code",
   "execution_count": 3,
   "outputs": [
    {
     "data": {
      "text/plain": "date_time          False\nzone_id            False\nbanner_id          False\ncampaign_clicks    False\nos_id              False\ncountry_id         False\nimpressions        False\nclicks             False\ndtype: bool"
     },
     "execution_count": 3,
     "metadata": {},
     "output_type": "execute_result"
    }
   ],
   "source": [
    "full_data.isna().any()"
   ],
   "metadata": {
    "collapsed": false,
    "pycharm": {
     "name": "#%%\n"
    }
   }
  },
  {
   "cell_type": "markdown",
   "source": [
    "Для удобства разобьём фичу `date_time` на две отдельные фичи"
   ],
   "metadata": {
    "collapsed": false,
    "pycharm": {
     "name": "#%% md\n"
    }
   }
  },
  {
   "cell_type": "code",
   "execution_count": 4,
   "outputs": [],
   "source": [
    "full_data['date'] = full_data['date_time'].dt.date\n",
    "full_data['time'] = full_data['date_time'].dt.time"
   ],
   "metadata": {
    "collapsed": false,
    "pycharm": {
     "name": "#%%\n"
    }
   }
  },
  {
   "cell_type": "markdown",
   "source": [
    "Посмотрим на распределение предоставленных данных во времени\n"
   ],
   "metadata": {
    "collapsed": false,
    "pycharm": {
     "name": "#%% md\n"
    }
   }
  },
  {
   "cell_type": "code",
   "execution_count": 5,
   "outputs": [
    {
     "data": {
      "text/plain": "2021-09-26    3102610\n2021-09-29    2420588\n2021-09-27    2367303\n2021-09-28    2307355\n2021-10-02    2128978\n2021-09-30    1851189\n2021-10-01    1643448\n2021-09-01          1\nName: date, dtype: int64"
     },
     "execution_count": 5,
     "metadata": {},
     "output_type": "execute_result"
    }
   ],
   "source": [
    "full_data.date.value_counts()"
   ],
   "metadata": {
    "collapsed": false,
    "pycharm": {
     "name": "#%%\n"
    }
   }
  },
  {
   "cell_type": "markdown",
   "source": [
    "Заметим, что есть ровно один прецедент от `2021-09-01`. Выглядит как выброс, поэтому избавимся от него.\n",
    "\n",
    "Также сразу разобьём данные на тест (последний день) и трейн (всё остальное)"
   ],
   "metadata": {
    "collapsed": false,
    "pycharm": {
     "name": "#%% md\n"
    }
   }
  },
  {
   "cell_type": "code",
   "execution_count": 6,
   "outputs": [],
   "source": [
    "full_data = full_data[full_data.date != pd.Timestamp('2021-09-01').date()]\n",
    "\n",
    "full_data_test = full_data[full_data.date == pd.Timestamp('2021-10-02').date()]\n",
    "full_data_train = full_data[full_data.date != pd.Timestamp('2021-10-02').date()]"
   ],
   "metadata": {
    "collapsed": false,
    "pycharm": {
     "name": "#%%\n"
    }
   }
  },
  {
   "cell_type": "markdown",
   "source": [
    "Дальше будем анализировать кусок данных для обучения."
   ],
   "metadata": {
    "collapsed": false,
    "pycharm": {
     "name": "#%% md\n"
    }
   }
  },
  {
   "cell_type": "code",
   "execution_count": 7,
   "outputs": [
    {
     "data": {
      "text/plain": "            zone_id     banner_id  campaign_clicks         os_id  \\\ncount  1.369249e+07  1.369249e+07     1.369249e+07  1.369249e+07   \nmean   7.963735e+01  3.742884e+02     6.520606e-01  1.833020e+00   \nstd    1.579126e+02  3.926496e+02     9.629881e+00  1.512653e+00   \nmin    0.000000e+00  0.000000e+00     0.000000e+00  0.000000e+00   \n25%    1.400000e+01  4.900000e+01     0.000000e+00  1.000000e+00   \n50%    1.900000e+01  2.050000e+02     0.000000e+00  2.000000e+00   \n75%    5.900000e+01  6.100000e+02     0.000000e+00  3.000000e+00   \nmax    3.443000e+03  1.632000e+03     8.290000e+02  1.000000e+01   \n\n         country_id  impressions        clicks  \ncount  1.369249e+07   13692493.0  1.369249e+07  \nmean   4.392995e+00          1.0  2.533410e-02  \nstd    4.329281e+00          0.0  1.571378e-01  \nmin    0.000000e+00          1.0  0.000000e+00  \n25%    0.000000e+00          1.0  0.000000e+00  \n50%    4.000000e+00          1.0  0.000000e+00  \n75%    7.000000e+00          1.0  0.000000e+00  \nmax    1.600000e+01          1.0  1.000000e+00  ",
      "text/html": "<div>\n<style scoped>\n    .dataframe tbody tr th:only-of-type {\n        vertical-align: middle;\n    }\n\n    .dataframe tbody tr th {\n        vertical-align: top;\n    }\n\n    .dataframe thead th {\n        text-align: right;\n    }\n</style>\n<table border=\"1\" class=\"dataframe\">\n  <thead>\n    <tr style=\"text-align: right;\">\n      <th></th>\n      <th>zone_id</th>\n      <th>banner_id</th>\n      <th>campaign_clicks</th>\n      <th>os_id</th>\n      <th>country_id</th>\n      <th>impressions</th>\n      <th>clicks</th>\n    </tr>\n  </thead>\n  <tbody>\n    <tr>\n      <th>count</th>\n      <td>1.369249e+07</td>\n      <td>1.369249e+07</td>\n      <td>1.369249e+07</td>\n      <td>1.369249e+07</td>\n      <td>1.369249e+07</td>\n      <td>13692493.0</td>\n      <td>1.369249e+07</td>\n    </tr>\n    <tr>\n      <th>mean</th>\n      <td>7.963735e+01</td>\n      <td>3.742884e+02</td>\n      <td>6.520606e-01</td>\n      <td>1.833020e+00</td>\n      <td>4.392995e+00</td>\n      <td>1.0</td>\n      <td>2.533410e-02</td>\n    </tr>\n    <tr>\n      <th>std</th>\n      <td>1.579126e+02</td>\n      <td>3.926496e+02</td>\n      <td>9.629881e+00</td>\n      <td>1.512653e+00</td>\n      <td>4.329281e+00</td>\n      <td>0.0</td>\n      <td>1.571378e-01</td>\n    </tr>\n    <tr>\n      <th>min</th>\n      <td>0.000000e+00</td>\n      <td>0.000000e+00</td>\n      <td>0.000000e+00</td>\n      <td>0.000000e+00</td>\n      <td>0.000000e+00</td>\n      <td>1.0</td>\n      <td>0.000000e+00</td>\n    </tr>\n    <tr>\n      <th>25%</th>\n      <td>1.400000e+01</td>\n      <td>4.900000e+01</td>\n      <td>0.000000e+00</td>\n      <td>1.000000e+00</td>\n      <td>0.000000e+00</td>\n      <td>1.0</td>\n      <td>0.000000e+00</td>\n    </tr>\n    <tr>\n      <th>50%</th>\n      <td>1.900000e+01</td>\n      <td>2.050000e+02</td>\n      <td>0.000000e+00</td>\n      <td>2.000000e+00</td>\n      <td>4.000000e+00</td>\n      <td>1.0</td>\n      <td>0.000000e+00</td>\n    </tr>\n    <tr>\n      <th>75%</th>\n      <td>5.900000e+01</td>\n      <td>6.100000e+02</td>\n      <td>0.000000e+00</td>\n      <td>3.000000e+00</td>\n      <td>7.000000e+00</td>\n      <td>1.0</td>\n      <td>0.000000e+00</td>\n    </tr>\n    <tr>\n      <th>max</th>\n      <td>3.443000e+03</td>\n      <td>1.632000e+03</td>\n      <td>8.290000e+02</td>\n      <td>1.000000e+01</td>\n      <td>1.600000e+01</td>\n      <td>1.0</td>\n      <td>1.000000e+00</td>\n    </tr>\n  </tbody>\n</table>\n</div>"
     },
     "execution_count": 7,
     "metadata": {},
     "output_type": "execute_result"
    }
   ],
   "source": [
    "full_data_train.describe()"
   ],
   "metadata": {
    "collapsed": false,
    "pycharm": {
     "name": "#%%\n"
    }
   }
  },
  {
   "cell_type": "markdown",
   "source": [
    "Из доступных фичей не категориальной является только `campaign_clicks`.\n",
    "Для оставшихся категориальных фичей интересно посмотреть на количество и распределение их значений."
   ],
   "metadata": {
    "collapsed": false,
    "pycharm": {
     "name": "#%% md\n"
    }
   }
  },
  {
   "cell_type": "code",
   "execution_count": 8,
   "outputs": [],
   "source": [
    "categorical_features = ['country_id', 'os_id', 'zone_id', 'banner_id', 'impressions']\n",
    "numerical_features = ['campaign_clicks']"
   ],
   "metadata": {
    "collapsed": false,
    "pycharm": {
     "name": "#%%\n"
    }
   }
  },
  {
   "cell_type": "markdown",
   "source": [
    "Посмотрим на количество различных значений в каждой категориальной фиче.\n",
    "\n",
    "Сразу увидим, что фича `impressions` -- это просто константа, поэтому позже избавимся от неё."
   ],
   "metadata": {
    "collapsed": false,
    "pycharm": {
     "name": "#%% md\n"
    }
   }
  },
  {
   "cell_type": "code",
   "execution_count": 9,
   "outputs": [
    {
     "data": {
      "text/plain": "country_id       17\nos_id            11\nzone_id        3330\nbanner_id      1586\nimpressions       1\ndtype: int64"
     },
     "execution_count": 9,
     "metadata": {},
     "output_type": "execute_result"
    }
   ],
   "source": [
    "full_data_train[categorical_features].nunique()"
   ],
   "metadata": {
    "collapsed": false,
    "pycharm": {
     "name": "#%%\n"
    }
   }
  },
  {
   "cell_type": "markdown",
   "source": [
    "Для двух немногочисленных категориальных фичей, посмотрим на точное распределение количества их значений.\n",
    "\n",
    "И увидим, что фича `os_id` имеет 11 значений, 4 из которых очень редкие"
   ],
   "metadata": {
    "collapsed": false,
    "pycharm": {
     "name": "#%% md\n"
    }
   }
  },
  {
   "cell_type": "code",
   "execution_count": 10,
   "outputs": [
    {
     "data": {
      "text/plain": "<AxesSubplot: title={'center': 'os_id'}>"
     },
     "execution_count": 10,
     "metadata": {},
     "output_type": "execute_result"
    },
    {
     "data": {
      "text/plain": "<Figure size 1500x700 with 2 Axes>",
      "image/png": "[encoded data removed]"
     },
     "metadata": {},
     "output_type": "display_data"
    }
   ],
   "source": [
    "fig, (ax1, ax2) = plt.subplots(1, 2)\n",
    "fig.set_figheight(7)\n",
    "fig.set_figwidth(15)\n",
    "full_data_train['country_id'].value_counts().plot(kind='barh', ax=ax1, title='country_id')\n",
    "full_data_train['os_id'].value_counts().plot(kind='barh', ax=ax2, title='os_id')"
   ],
   "metadata": {
    "collapsed": false,
    "pycharm": {
     "name": "#%%\n"
    }
   }
  },
  {
   "cell_type": "markdown",
   "source": [
    "Фичи `zone_id` и `banner_id` имеют слишком много значений, посмотрим на гистограмму распределения их значений.\n",
    "\n",
    "Здесь видно, что некоторые значения фичи принимают очень редко."
   ],
   "metadata": {
    "collapsed": false,
    "pycharm": {
     "name": "#%% md\n"
    }
   }
  },
  {
   "cell_type": "code",
   "execution_count": 11,
   "outputs": [
    {
     "data": {
      "text/plain": "<AxesSubplot: title={'center': 'banner_id'}, ylabel='Frequency'>"
     },
     "execution_count": 11,
     "metadata": {},
     "output_type": "execute_result"
    },
    {
     "data": {
      "text/plain": "<Figure size 1500x700 with 2 Axes>",
      "image/png": "[encoded data removed]"
     },
     "metadata": {},
     "output_type": "display_data"
    }
   ],
   "source": [
    "fig, (ax1, ax2) = plt.subplots(1, 2)\n",
    "fig.set_figheight(7)\n",
    "fig.set_figwidth(15)\n",
    "full_data_train['zone_id'].plot(kind='hist', bins=50, ax=ax1, title='zone_id')\n",
    "full_data_train['banner_id'].plot(kind='hist', bins=50, ax=ax2, title='banner_id')"
   ],
   "metadata": {
    "collapsed": false,
    "pycharm": {
     "name": "#%%\n"
    }
   }
  },
  {
   "cell_type": "markdown",
   "source": [
    "Итак, по предыдущим 3 ячейкам мы выяснили про категориальные фичи следующее:\n",
    "\n",
    "* `impressions` -- константа\n",
    "* `country_id`, `os_id` -- не очень многочисленные и последняя из них среди 11 значений имеет 4 очень редких\n",
    "* `zone_id`, `banner_id` -- имеют много значений, некоторые из которых встречаются редко\n",
    "\n",
    "По-хорошему, редкие значения фичей можно было бы объединить в одну группу (отдельное значение), но тогда в случае фичей `zone_id` и `banner_id` дополнительно придётся подбирать константы, по которым стоит объединять редкие значения в одно. Чтобы не вводить это дополнительное усложнение, делать этого не будем. Кроме того, немного поэкспериментировав с этим, я не увидел значительного улучшения качества."
   ],
   "metadata": {
    "collapsed": false,
    "pycharm": {
     "name": "#%% md\n"
    }
   }
  },
  {
   "cell_type": "markdown",
   "source": [
    "Также не будем забывать про временную фичу.\n",
    "\n",
    "Из дней обычно можно вытянуть фичу `день недели`, но у нас всего 6 дней в тренировочных данных, поэтому делать этого не будем.\n",
    "\n",
    "Но можно выделить фичу `час дня` для него данные есть. Данная фича, может быть осмысленной, так как в разное время дня людям может быть интересны разные вещи."
   ],
   "metadata": {
    "collapsed": false,
    "pycharm": {
     "name": "#%% md\n"
    }
   }
  },
  {
   "cell_type": "markdown",
   "source": [
    "# Feature engineering"
   ],
   "metadata": {
    "collapsed": false,
    "pycharm": {
     "name": "#%% md\n"
    }
   }
  },
  {
   "cell_type": "markdown",
   "source": [
    "Избавимся от константной фичи `impressions`"
   ],
   "metadata": {
    "collapsed": false,
    "pycharm": {
     "name": "#%% md\n"
    }
   }
  },
  {
   "cell_type": "code",
   "execution_count": 12,
   "outputs": [],
   "source": [
    "categorical_features.remove('impressions')\n",
    "full_data_train = full_data_train.drop('impressions', axis=1)\n",
    "full_data_test = full_data_test.drop('impressions', axis=1)"
   ],
   "metadata": {
    "collapsed": false,
    "pycharm": {
     "name": "#%%\n"
    }
   }
  },
  {
   "cell_type": "markdown",
   "source": [
    "Добавим фичу час дня и убедимся, что мы имеем прецедентов для каждого часа"
   ],
   "metadata": {
    "collapsed": false,
    "pycharm": {
     "name": "#%% md\n"
    }
   }
  },
  {
   "cell_type": "code",
   "execution_count": 13,
   "outputs": [
    {
     "data": {
      "text/plain": "<AxesSubplot: title={'center': 'day_hour'}>"
     },
     "execution_count": 13,
     "metadata": {},
     "output_type": "execute_result"
    },
    {
     "data": {
      "text/plain": "<Figure size 1500x700 with 1 Axes>",
      "image/png": "[encoded data removed]"
     },
     "metadata": {},
     "output_type": "display_data"
    }
   ],
   "source": [
    "full_data_train['day_hour'] = full_data_train.date_time.dt.hour\n",
    "full_data_test['day_hour'] = full_data_test.date_time.dt.hour\n",
    "categorical_features.append('day_hour')\n",
    "\n",
    "fig, (ax1) = plt.subplots(1, 1)\n",
    "fig.set_figheight(7)\n",
    "fig.set_figwidth(15)\n",
    "full_data_train['day_hour'].value_counts().plot(kind='barh', ax=ax1, title='day_hour')"
   ],
   "metadata": {
    "collapsed": false,
    "pycharm": {
     "name": "#%%\n"
    }
   }
  },
  {
   "cell_type": "markdown",
   "source": [
    "Отделим таргет фичу (`clicks`) от остальных. Перед этим данные для обучения отсортируем по `date_time`. Это нужно будет для дальнейшей кросс валидации"
   ],
   "metadata": {
    "collapsed": false,
    "pycharm": {
     "name": "#%% md\n"
    }
   }
  },
  {
   "cell_type": "code",
   "execution_count": 14,
   "outputs": [
    {
     "name": "stdout",
     "output_type": "stream",
     "text": [
      "Train size: 13692493\n",
      "Test size: 2128978\n"
     ]
    }
   ],
   "source": [
    "full_data_train = full_data_train.sort_values(by=['date_time']) # Необходимо для дальшейшего cv\n",
    "\n",
    "y_train = full_data_train['clicks'].to_numpy()\n",
    "data_train = full_data_train.drop('clicks', axis=1)\n",
    "print(f\"Train size: {len(data_train)}\")\n",
    "\n",
    "y_test = full_data_test['clicks'].to_numpy()\n",
    "data_test = full_data_test.drop('clicks', axis=1)\n",
    "print(f\"Test size: {len(data_test)}\")"
   ],
   "metadata": {
    "collapsed": false,
    "pycharm": {
     "name": "#%%\n"
    }
   }
  },
  {
   "cell_type": "code",
   "execution_count": 15,
   "outputs": [
    {
     "data": {
      "text/plain": "          date_time  zone_id  banner_id  campaign_clicks  os_id  country_id  \\\n14471546 2021-09-26       11         73                9      4          13   \n15802991 2021-09-26      105         21                0      0           0   \n5041415  2021-09-26       41         29                1      3           0   \n9316416  2021-09-26       23       1239                0      2           0   \n3068105  2021-09-26       86         61                0      0           1   \n\n                date      time  day_hour  \n14471546  2021-09-26  00:00:00         0  \n15802991  2021-09-26  00:00:00         0  \n5041415   2021-09-26  00:00:00         0  \n9316416   2021-09-26  00:00:00         0  \n3068105   2021-09-26  00:00:00         0  ",
      "text/html": "<div>\n<style scoped>\n    .dataframe tbody tr th:only-of-type {\n        vertical-align: middle;\n    }\n\n    .dataframe tbody tr th {\n        vertical-align: top;\n    }\n\n    .dataframe thead th {\n        text-align: right;\n    }\n</style>\n<table border=\"1\" class=\"dataframe\">\n  <thead>\n    <tr style=\"text-align: right;\">\n      <th></th>\n      <th>date_time</th>\n      <th>zone_id</th>\n      <th>banner_id</th>\n      <th>campaign_clicks</th>\n      <th>os_id</th>\n      <th>country_id</th>\n      <th>date</th>\n      <th>time</th>\n      <th>day_hour</th>\n    </tr>\n  </thead>\n  <tbody>\n    <tr>\n      <th>14471546</th>\n      <td>2021-09-26</td>\n      <td>11</td>\n      <td>73</td>\n      <td>9</td>\n      <td>4</td>\n      <td>13</td>\n      <td>2021-09-26</td>\n      <td>00:00:00</td>\n      <td>0</td>\n    </tr>\n    <tr>\n      <th>15802991</th>\n      <td>2021-09-26</td>\n      <td>105</td>\n      <td>21</td>\n      <td>0</td>\n      <td>0</td>\n      <td>0</td>\n      <td>2021-09-26</td>\n      <td>00:00:00</td>\n      <td>0</td>\n    </tr>\n    <tr>\n      <th>5041415</th>\n      <td>2021-09-26</td>\n      <td>41</td>\n      <td>29</td>\n      <td>1</td>\n      <td>3</td>\n      <td>0</td>\n      <td>2021-09-26</td>\n      <td>00:00:00</td>\n      <td>0</td>\n    </tr>\n    <tr>\n      <th>9316416</th>\n      <td>2021-09-26</td>\n      <td>23</td>\n      <td>1239</td>\n      <td>0</td>\n      <td>2</td>\n      <td>0</td>\n      <td>2021-09-26</td>\n      <td>00:00:00</td>\n      <td>0</td>\n    </tr>\n    <tr>\n      <th>3068105</th>\n      <td>2021-09-26</td>\n      <td>86</td>\n      <td>61</td>\n      <td>0</td>\n      <td>0</td>\n      <td>1</td>\n      <td>2021-09-26</td>\n      <td>00:00:00</td>\n      <td>0</td>\n    </tr>\n  </tbody>\n</table>\n</div>"
     },
     "execution_count": 15,
     "metadata": {},
     "output_type": "execute_result"
    }
   ],
   "source": [
    "data_train.head()"
   ],
   "metadata": {
    "collapsed": false,
    "pycharm": {
     "name": "#%%\n"
    }
   }
  },
  {
   "cell_type": "markdown",
   "source": [
    "Наконец напишем функцию, которая будет преобразовывать фичи из `pd.DataFrame` в удобный матричный вид для обучения модели.\n",
    "\n",
    "Преобразование фич:\n",
    "\n",
    "* Числовые фичи приводим к нулевому среднему и единичной дисперсии\n",
    "* Категориальные фичи кодируем с помощью `OneHotEncoder`-а\n",
    "\n",
    "При этом параметры для скейлера для числовых фич и енкодера для категориальных фич подбираются только на обучающей выборке.\n",
    "\n",
    "Данные для обучения у нас будут разряженными, так как большинство фичей у нас категориальные и мы используем one-hot кодирование.\n",
    "\n",
    "Поэтому преобразованные данные для обучения -- это разряженная по строкам матрица\n"
   ],
   "metadata": {
    "collapsed": false,
    "pycharm": {
     "name": "#%% md\n"
    }
   }
  },
  {
   "cell_type": "code",
   "execution_count": 16,
   "outputs": [],
   "source": [
    "def transform_data(data_train: pd.DataFrame, data_test: pd.DataFrame, categorical_features: List[str], continuous_features: List[str]):\n",
    "    X_train = []\n",
    "    X_test = []\n",
    "\n",
    "    for feature in continuous_features:\n",
    "        scaler = StandardScaler().fit(data_train[[feature]])\n",
    "        X_train.append(sparse.csr_matrix(scaler.transform(data_train[[feature]])))\n",
    "        X_test.append(sparse.csr_matrix(scaler.transform(data_test[[feature]])))\n",
    "\n",
    "    for feature in categorical_features:\n",
    "        encoder = OneHotEncoder(handle_unknown='ignore').fit(data_train[[feature]])\n",
    "        X_train.append(encoder.transform(data_train[[feature]]))\n",
    "        X_test.append(encoder.transform(data_test[[feature]]))\n",
    "\n",
    "    return sparse.hstack(X_train), sparse.hstack(X_test)"
   ],
   "metadata": {
    "collapsed": false,
    "pycharm": {
     "name": "#%%\n"
    }
   }
  },
  {
   "cell_type": "markdown",
   "source": [
    "# Model training"
   ],
   "metadata": {
    "collapsed": false,
    "pycharm": {
     "name": "#%% md\n"
    }
   }
  },
  {
   "cell_type": "markdown",
   "source": [
    "Для решения логистической регрессии будем использовать не SGD-like `liblinear` solver с `l2` регуляризацией.\n",
    "Метод эффективно находит решение регрессии для sparse данных. А это как раз наш случай)"
   ],
   "metadata": {
    "collapsed": false,
    "pycharm": {
     "name": "#%% md\n"
    }
   }
  },
  {
   "cell_type": "code",
   "execution_count": 17,
   "outputs": [],
   "source": [
    "def create_model(X, y, C):\n",
    "    return LogisticRegression(solver='liblinear', penalty='l2', C=C, random_state=42).fit(X, y)"
   ],
   "metadata": {
    "collapsed": false,
    "pycharm": {
     "name": "#%%\n"
    }
   }
  },
  {
   "cell_type": "markdown",
   "source": [
    "Реализуем подсчёт необходимых метрик из условия задания"
   ],
   "metadata": {
    "collapsed": false,
    "pycharm": {
     "name": "#%% md\n"
    }
   }
  },
  {
   "cell_type": "code",
   "execution_count": 18,
   "outputs": [],
   "source": [
    "def get_score(y_true, y_pred):\n",
    "    # y_pred.shape == [N, 2].\n",
    "    # Первый столбец -- вероятности 0 (отсутствия клика)\n",
    "    # Второй столбец -- вероятность 1 (клика)\n",
    "    return {\n",
    "        'log-loss': log_loss(y_true, y_pred),\n",
    "        'roc-auc': roc_auc_score(y_true, y_pred[:, 1])\n",
    "    }"
   ],
   "metadata": {
    "collapsed": false,
    "pycharm": {
     "name": "#%%\n"
    }
   }
  },
  {
   "cell_type": "markdown",
   "source": [
    "Реализуем кросс валидацию. При этом обычную кросс-валидацию использовать не стоит, так как данные из будущего могут создавать утечку данных. Поэтому используем кросс валидацию, в которой обучающей выборкой для валидационной выборки являются все данные из прошлого.\n",
    "\n",
    "Используем 5 фолдов, так как в обучающей выборке -- 6 дней:\n",
    "* Один фолд -- это примерно предсказание одного дня по данным с предыдущих дней (Схоже с нашей итоговой задачей)"
   ],
   "metadata": {
    "collapsed": false,
    "pycharm": {
     "name": "#%% md\n"
    }
   }
  },
  {
   "cell_type": "code",
   "execution_count": 19,
   "outputs": [],
   "source": [
    "def cv(X, y, C, categorical_features, continuous_features):\n",
    "    tscv = TimeSeriesSplit(n_splits=5)\n",
    "    scores = []\n",
    "    for train, val in tqdm(tscv.split(X), total=5):\n",
    "        y_train = y[train]\n",
    "        data_train = X.iloc[train]\n",
    "\n",
    "        y_val = y[val]\n",
    "        data_val = X.iloc[val]\n",
    "\n",
    "        X_train, X_val = transform_data(\n",
    "            data_train,\n",
    "            data_val,\n",
    "            categorical_features,\n",
    "            continuous_features\n",
    "        )\n",
    "\n",
    "        model = create_model(X_train, y_train, C=C)\n",
    "\n",
    "        y_pred = model.predict_proba(X_val)\n",
    "        score = get_score(y_val, y_pred)\n",
    "        scores.append(score)\n",
    "\n",
    "    return {key: [v[key] for v in scores] for key in scores[0].keys()}"
   ],
   "metadata": {
    "collapsed": false,
    "pycharm": {
     "name": "#%%\n"
    }
   }
  },
  {
   "cell_type": "markdown",
   "source": [
    "Подбирать будем коэффициент `C`, характеризующий вклад регуляризации в итоговой лосс"
   ],
   "metadata": {
    "collapsed": false,
    "pycharm": {
     "name": "#%% md\n"
    }
   }
  },
  {
   "cell_type": "code",
   "execution_count": 24,
   "outputs": [],
   "source": [
    "def search_regularization_coeff(X, y, categorical_features, continuous_features):\n",
    "    result = {}\n",
    "    for C in [0.001, 0.01, 0.1, 1]:\n",
    "        result[C] = cv(X, y, C, categorical_features, continuous_features)\n",
    "    return result\n",
    "\n",
    "def summarize_search_result(search_result):\n",
    "    summary = {}\n",
    "    for C, result in search_result.items():\n",
    "        summary[C] = {metric: np.mean(scores) for metric, scores in result.items()}\n",
    "    return summary"
   ],
   "metadata": {
    "collapsed": false,
    "pycharm": {
     "name": "#%%\n"
    }
   }
  },
  {
   "cell_type": "markdown",
   "source": [
    "Наконец, обучим модель с фичами, которые построили до этого"
   ],
   "metadata": {
    "collapsed": false,
    "pycharm": {
     "name": "#%% md\n"
    }
   }
  },
  {
   "cell_type": "code",
   "execution_count": 25,
   "outputs": [
    {
     "name": "stderr",
     "output_type": "stream",
     "text": [
      "100%|██████████| 5/5 [01:24<00:00, 16.94s/it]\n",
      "100%|██████████| 5/5 [01:39<00:00, 19.85s/it]\n",
      "100%|██████████| 5/5 [02:39<00:00, 31.97s/it]\n",
      "100%|██████████| 5/5 [05:17<00:00, 63.49s/it]\n"
     ]
    }
   ],
   "source": [
    "without_interactions_cv = search_regularization_coeff(data_train, y_train, categorical_features, numerical_features)"
   ],
   "metadata": {
    "collapsed": false,
    "pycharm": {
     "name": "#%%\n"
    }
   }
  },
  {
   "cell_type": "code",
   "execution_count": 26,
   "outputs": [
    {
     "name": "stdout",
     "output_type": "stream",
     "text": [
      "{\n",
      "    \"0.001\": {\n",
      "        \"log-loss\": [\n",
      "            0.08384484921912998,\n",
      "            0.08703211168762222,\n",
      "            0.10441376120319185,\n",
      "            0.1365068628027265,\n",
      "            0.155664643814434\n",
      "        ],\n",
      "        \"roc-auc\": [\n",
      "            0.6836949154990258,\n",
      "            0.692406563792316,\n",
      "            0.6816306624778017,\n",
      "            0.710917551512213,\n",
      "            0.7642140533468552\n",
      "        ]\n",
      "    },\n",
      "    \"0.01\": {\n",
      "        \"log-loss\": [\n",
      "            0.08142609444406644,\n",
      "            0.08512427486307206,\n",
      "            0.10207243889463997,\n",
      "            0.13270555147457996,\n",
      "            0.15196361295480548\n",
      "        ],\n",
      "        \"roc-auc\": [\n",
      "            0.7163212171702228,\n",
      "            0.717067374348014,\n",
      "            0.7128255875518915,\n",
      "            0.73407990771145,\n",
      "            0.7751471613840127\n",
      "        ]\n",
      "    },\n",
      "    \"0.1\": {\n",
      "        \"log-loss\": [\n",
      "            0.08041620437392008,\n",
      "            0.0843220905362249,\n",
      "            0.10132979897517233,\n",
      "            0.13171177408569812,\n",
      "            0.15095806960111968\n",
      "        ],\n",
      "        \"roc-auc\": [\n",
      "            0.7254157852918428,\n",
      "            0.7252286297051714,\n",
      "            0.7204899198870451,\n",
      "            0.7370912227224501,\n",
      "            0.7766565004503341\n",
      "        ]\n",
      "    },\n",
      "    \"1\": {\n",
      "        \"log-loss\": [\n",
      "            0.08027542084386528,\n",
      "            0.0841421922374598,\n",
      "            0.10137579556297294,\n",
      "            0.131640945691005,\n",
      "            0.1508808915426428\n",
      "        ],\n",
      "        \"roc-auc\": [\n",
      "            0.7262753628217298,\n",
      "            0.7270158759330608,\n",
      "            0.7199938458866768,\n",
      "            0.7368932025289002,\n",
      "            0.7756656494282788\n",
      "        ]\n",
      "    }\n",
      "}\n"
     ]
    }
   ],
   "source": [
    "print(json.dumps(without_interactions_cv, sort_keys=True, indent=4))"
   ],
   "metadata": {
    "collapsed": false,
    "pycharm": {
     "name": "#%%\n"
    }
   }
  },
  {
   "cell_type": "markdown",
   "source": [
    "Для получения summary усредним значения по фолдам:"
   ],
   "metadata": {
    "collapsed": false,
    "pycharm": {
     "name": "#%% md\n"
    }
   }
  },
  {
   "cell_type": "code",
   "execution_count": 27,
   "outputs": [
    {
     "name": "stdout",
     "output_type": "stream",
     "text": [
      "{\n",
      "    \"0.001\": {\n",
      "        \"log-loss\": 0.1134924457454209,\n",
      "        \"roc-auc\": 0.7065727493256424\n",
      "    },\n",
      "    \"0.01\": {\n",
      "        \"log-loss\": 0.11065839452623279,\n",
      "        \"roc-auc\": 0.7310882496331182\n",
      "    },\n",
      "    \"0.1\": {\n",
      "        \"log-loss\": 0.10974758751442701,\n",
      "        \"roc-auc\": 0.7369764116113687\n",
      "    },\n",
      "    \"1\": {\n",
      "        \"log-loss\": 0.10966304917558918,\n",
      "        \"roc-auc\": 0.7371687873197292\n",
      "    }\n",
      "}\n"
     ]
    }
   ],
   "source": [
    "print(json.dumps(summarize_search_result(without_interactions_cv), sort_keys=True, indent=4))"
   ],
   "metadata": {
    "collapsed": false,
    "pycharm": {
     "name": "#%%\n"
    }
   }
  },
  {
   "cell_type": "markdown",
   "source": [
    "Лучший результат здесь достигается с `C=1`:\n",
    "* средний `log-loss` = 0.10966304917558918\n",
    "* средний `roc-auc` = 0.7371687873197292"
   ],
   "metadata": {
    "collapsed": false,
    "pycharm": {
     "name": "#%% md\n"
    }
   }
  },
  {
   "cell_type": "markdown",
   "source": [
    "# Feature engineering again"
   ],
   "metadata": {
    "collapsed": false,
    "pycharm": {
     "name": "#%% md\n"
    }
   }
  },
  {
   "cell_type": "markdown",
   "source": [
    "Вспомним про то, что для улучшения качества линейных моделей можно добавлять интеракции фичей\n",
    "\n",
    "Добавление интеракции в датасет реализуем наиболее удобным способом:\n",
    "* Добавим в `pd.DataFrame` новую колонку, значения которой -- это конкатенация строкового представления значений взаимодействующих фич\n",
    "* После применения `OneHotEncoder` получим то же самое, что получили бы при произведении соответствующих колонок матрицы данных, за исключением колонок, где все значения одинаковы."
   ],
   "metadata": {
    "collapsed": false,
    "pycharm": {
     "name": "#%% md\n"
    }
   }
  },
  {
   "cell_type": "code",
   "execution_count": 20,
   "outputs": [],
   "source": [
    "def add_interaction(data: pd.DataFrame, interacting_features: List[str]):\n",
    "    def create_interaction(row):\n",
    "        interaction = []\n",
    "        for feature in interacting_features:\n",
    "            interaction.append(str(row[feature]))\n",
    "        return \":\".join(interaction)\n",
    "    new_column_name = \":\".join(interacting_features)\n",
    "    print(f\"New column name: {new_column_name}\")\n",
    "    data[new_column_name] = data.apply(create_interaction, axis=1)"
   ],
   "metadata": {
    "collapsed": false,
    "pycharm": {
     "name": "#%%\n"
    }
   }
  },
  {
   "cell_type": "markdown",
   "source": [
    "Из имеющихся одиночных фичей осмысленными кажутся следующие:\n",
    "* `banner_id` + `country_id` -- баннер может быть ориентирован на определённую страну\n",
    "* `zone_id` + `os_id` -- разные зоны воспринимаются на разных устройствах по разному\n",
    "* `banner_id` + `os_id` -- баннеры для мобильных устройств могут отличаться от баннеров для компьютеров\n",
    "* `banner_id` + `day_hour` -- в разное время дня могут быть интересны разные рекламы\n",
    "* `banner_id` + `zone_id` -- разные баннеры могут смотреться в разных зонах по-разному\n",
    "\n",
    "Добавим все интеракции кроме последней, так как `banner_id` и `zone_id` -- две самые многочисленные фичи, следовательно, интеракция будет иметь слишком много значений."
   ],
   "metadata": {
    "collapsed": false,
    "pycharm": {
     "name": "#%% md\n"
    }
   }
  },
  {
   "cell_type": "code",
   "execution_count": 21,
   "outputs": [
    {
     "name": "stdout",
     "output_type": "stream",
     "text": [
      "New column name: banner_id:country_id\n",
      "New column name: banner_id:country_id\n",
      "New column name: zone_id:os_id\n",
      "New column name: zone_id:os_id\n",
      "New column name: banner_id:os_id\n",
      "New column name: banner_id:os_id\n",
      "New column name: banner_id:day_hour\n",
      "New column name: banner_id:day_hour\n"
     ]
    }
   ],
   "source": [
    "interactions = [\n",
    "    ['banner_id', 'country_id'],\n",
    "    ['zone_id', 'os_id'],\n",
    "    ['banner_id', 'os_id'],\n",
    "    ['banner_id', 'day_hour']\n",
    "]\n",
    "for interaction in interactions:\n",
    "    add_interaction(data_train, interaction)\n",
    "    add_interaction(data_test, interaction)"
   ],
   "metadata": {
    "collapsed": false,
    "pycharm": {
     "name": "#%%\n"
    }
   }
  },
  {
   "cell_type": "code",
   "execution_count": 22,
   "outputs": [
    {
     "data": {
      "text/plain": "          date_time  zone_id  banner_id  campaign_clicks  os_id  country_id  \\\n14471546 2021-09-26       11         73                9      4          13   \n15802991 2021-09-26      105         21                0      0           0   \n5041415  2021-09-26       41         29                1      3           0   \n9316416  2021-09-26       23       1239                0      2           0   \n3068105  2021-09-26       86         61                0      0           1   \n\n                date      time  day_hour banner_id:country_id zone_id:os_id  \\\n14471546  2021-09-26  00:00:00         0                73:13          11:4   \n15802991  2021-09-26  00:00:00         0                 21:0         105:0   \n5041415   2021-09-26  00:00:00         0                 29:0          41:3   \n9316416   2021-09-26  00:00:00         0               1239:0          23:2   \n3068105   2021-09-26  00:00:00         0                 61:1          86:0   \n\n         banner_id:os_id banner_id:day_hour  \n14471546            73:4               73:0  \n15802991            21:0               21:0  \n5041415             29:3               29:0  \n9316416           1239:2             1239:0  \n3068105             61:0               61:0  ",
      "text/html": "<div>\n<style scoped>\n    .dataframe tbody tr th:only-of-type {\n        vertical-align: middle;\n    }\n\n    .dataframe tbody tr th {\n        vertical-align: top;\n    }\n\n    .dataframe thead th {\n        text-align: right;\n    }\n</style>\n<table border=\"1\" class=\"dataframe\">\n  <thead>\n    <tr style=\"text-align: right;\">\n      <th></th>\n      <th>date_time</th>\n      <th>zone_id</th>\n      <th>banner_id</th>\n      <th>campaign_clicks</th>\n      <th>os_id</th>\n      <th>country_id</th>\n      <th>date</th>\n      <th>time</th>\n      <th>day_hour</th>\n      <th>banner_id:country_id</th>\n      <th>zone_id:os_id</th>\n      <th>banner_id:os_id</th>\n      <th>banner_id:day_hour</th>\n    </tr>\n  </thead>\n  <tbody>\n    <tr>\n      <th>14471546</th>\n      <td>2021-09-26</td>\n      <td>11</td>\n      <td>73</td>\n      <td>9</td>\n      <td>4</td>\n      <td>13</td>\n      <td>2021-09-26</td>\n      <td>00:00:00</td>\n      <td>0</td>\n      <td>73:13</td>\n      <td>11:4</td>\n      <td>73:4</td>\n      <td>73:0</td>\n    </tr>\n    <tr>\n      <th>15802991</th>\n      <td>2021-09-26</td>\n      <td>105</td>\n      <td>21</td>\n      <td>0</td>\n      <td>0</td>\n      <td>0</td>\n      <td>2021-09-26</td>\n      <td>00:00:00</td>\n      <td>0</td>\n      <td>21:0</td>\n      <td>105:0</td>\n      <td>21:0</td>\n      <td>21:0</td>\n    </tr>\n    <tr>\n      <th>5041415</th>\n      <td>2021-09-26</td>\n      <td>41</td>\n      <td>29</td>\n      <td>1</td>\n      <td>3</td>\n      <td>0</td>\n      <td>2021-09-26</td>\n      <td>00:00:00</td>\n      <td>0</td>\n      <td>29:0</td>\n      <td>41:3</td>\n      <td>29:3</td>\n      <td>29:0</td>\n    </tr>\n    <tr>\n      <th>9316416</th>\n      <td>2021-09-26</td>\n      <td>23</td>\n      <td>1239</td>\n      <td>0</td>\n      <td>2</td>\n      <td>0</td>\n      <td>2021-09-26</td>\n      <td>00:00:00</td>\n      <td>0</td>\n      <td>1239:0</td>\n      <td>23:2</td>\n      <td>1239:2</td>\n      <td>1239:0</td>\n    </tr>\n    <tr>\n      <th>3068105</th>\n      <td>2021-09-26</td>\n      <td>86</td>\n      <td>61</td>\n      <td>0</td>\n      <td>0</td>\n      <td>1</td>\n      <td>2021-09-26</td>\n      <td>00:00:00</td>\n      <td>0</td>\n      <td>61:1</td>\n      <td>86:0</td>\n      <td>61:0</td>\n      <td>61:0</td>\n    </tr>\n  </tbody>\n</table>\n</div>"
     },
     "execution_count": 22,
     "metadata": {},
     "output_type": "execute_result"
    }
   ],
   "source": [
    "data_train.head()"
   ],
   "metadata": {
    "collapsed": false,
    "pycharm": {
     "name": "#%%\n"
    }
   }
  },
  {
   "cell_type": "markdown",
   "source": [
    "# Model training again"
   ],
   "metadata": {
    "collapsed": false,
    "pycharm": {
     "name": "#%% md\n"
    }
   }
  },
  {
   "cell_type": "markdown",
   "source": [
    "Обучим модель с добавленными интеракциями"
   ],
   "metadata": {
    "collapsed": false,
    "pycharm": {
     "name": "#%% md\n"
    }
   }
  },
  {
   "cell_type": "code",
   "execution_count": 28,
   "outputs": [
    {
     "name": "stderr",
     "output_type": "stream",
     "text": [
      "100%|██████████| 5/5 [02:29<00:00, 29.96s/it]\n",
      "100%|██████████| 5/5 [03:20<00:00, 40.14s/it]\n",
      "100%|██████████| 5/5 [06:27<00:00, 77.42s/it]\n",
      "100%|██████████| 5/5 [14:44<00:00, 176.98s/it]\n"
     ]
    }
   ],
   "source": [
    "with_interactions = search_regularization_coeff(\n",
    "    data_train,\n",
    "    y_train,\n",
    "    categorical_features + ['banner_id:country_id', 'zone_id:os_id', 'banner_id:os_id', 'banner_id:day_hour'],\n",
    "    numerical_features\n",
    ")"
   ],
   "metadata": {
    "collapsed": false,
    "pycharm": {
     "name": "#%%\n"
    }
   }
  },
  {
   "cell_type": "code",
   "execution_count": 29,
   "outputs": [
    {
     "name": "stdout",
     "output_type": "stream",
     "text": [
      "{\n",
      "    \"0.001\": {\n",
      "        \"log-loss\": [\n",
      "            0.08291959713671528,\n",
      "            0.0861016938806844,\n",
      "            0.10315869143119859,\n",
      "            0.1343377680495446,\n",
      "            0.15313711926957482\n",
      "        ],\n",
      "        \"roc-auc\": [\n",
      "            0.7019028083701491,\n",
      "            0.7073801041262776,\n",
      "            0.7005811771766821,\n",
      "            0.7278336107981803,\n",
      "            0.7735300839720598\n",
      "        ]\n",
      "    },\n",
      "    \"0.01\": {\n",
      "        \"log-loss\": [\n",
      "            0.08043619366344072,\n",
      "            0.0842165349728861,\n",
      "            0.1009626620661574,\n",
      "            0.13105049897312437,\n",
      "            0.15000558231032063\n",
      "        ],\n",
      "        \"roc-auc\": [\n",
      "            0.7309109931565999,\n",
      "            0.7293513048765566,\n",
      "            0.7258354005060914,\n",
      "            0.7443223431063092,\n",
      "            0.7828186998972082\n",
      "        ]\n",
      "    },\n",
      "    \"0.1\": {\n",
      "        \"log-loss\": [\n",
      "            0.07963055758784486,\n",
      "            0.08368385162308933,\n",
      "            0.10046767991310294,\n",
      "            0.13052188624297795,\n",
      "            0.14959308832966844\n",
      "        ],\n",
      "        \"roc-auc\": [\n",
      "            0.7382147921804653,\n",
      "            0.7342631769647175,\n",
      "            0.7299830384893354,\n",
      "            0.7448171106725949,\n",
      "            0.7822632536590921\n",
      "        ]\n",
      "    },\n",
      "    \"1\": {\n",
      "        \"log-loss\": [\n",
      "            0.07999918324228146,\n",
      "            0.08411193381883394,\n",
      "            0.1015204911991742,\n",
      "            0.13201701515098896,\n",
      "            0.1510549107226429\n",
      "        ],\n",
      "        \"roc-auc\": [\n",
      "            0.73249586273921,\n",
      "            0.7290263832913654,\n",
      "            0.7219654433976586,\n",
      "            0.7334846518741451,\n",
      "            0.7735553922878241\n",
      "        ]\n",
      "    }\n",
      "}\n"
     ]
    }
   ],
   "source": [
    "print(json.dumps(with_interactions, sort_keys=True, indent=4))"
   ],
   "metadata": {
    "collapsed": false,
    "pycharm": {
     "name": "#%%\n"
    }
   }
  },
  {
   "cell_type": "code",
   "execution_count": 30,
   "outputs": [
    {
     "name": "stdout",
     "output_type": "stream",
     "text": [
      "{\n",
      "    \"0.001\": {\n",
      "        \"log-loss\": 0.11193097395354354,\n",
      "        \"roc-auc\": 0.7222455568886698\n",
      "    },\n",
      "    \"0.01\": {\n",
      "        \"log-loss\": 0.10933429439718582,\n",
      "        \"roc-auc\": 0.7426477483085531\n",
      "    },\n",
      "    \"0.1\": {\n",
      "        \"log-loss\": 0.10877941273933671,\n",
      "        \"roc-auc\": 0.7459082743932411\n",
      "    },\n",
      "    \"1\": {\n",
      "        \"log-loss\": 0.1097407068267843,\n",
      "        \"roc-auc\": 0.7381055467180406\n",
      "    }\n",
      "}\n"
     ]
    }
   ],
   "source": [
    "print(json.dumps(summarize_search_result(with_interactions), sort_keys=True, indent=4))"
   ],
   "metadata": {
    "collapsed": false,
    "pycharm": {
     "name": "#%%\n"
    }
   }
  },
  {
   "cell_type": "markdown",
   "source": [
    "Здесь лучший результат также здесь достигается с `C=0.1`:\n",
    "* средний `log-loss` = 0.10877941273933671\n",
    "* средний `roc-auc` = 0.7459082743932411"
   ],
   "metadata": {
    "collapsed": false,
    "pycharm": {
     "name": "#%% md\n"
    }
   }
  },
  {
   "cell_type": "markdown",
   "source": [
    "# Final model training"
   ],
   "metadata": {
    "collapsed": false,
    "pycharm": {
     "name": "#%% md\n"
    }
   }
  },
  {
   "cell_type": "markdown",
   "source": [
    "Обучим лучшую модель (модель с интеракциями и `C=0.1`) на всех тренировочных данных:"
   ],
   "metadata": {
    "collapsed": false,
    "pycharm": {
     "name": "#%% md\n"
    }
   }
  },
  {
   "cell_type": "code",
   "execution_count": 23,
   "outputs": [],
   "source": [
    "X_train, X_test = transform_data(\n",
    "    data_train,\n",
    "    data_test,\n",
    "    categorical_features + ['banner_id:country_id', 'zone_id:os_id', 'banner_id:os_id', 'banner_id:day_hour'],\n",
    "    numerical_features\n",
    ")\n",
    "\n",
    "model = create_model(X_train, y_train, C=0.1)"
   ],
   "metadata": {
    "collapsed": false,
    "pycharm": {
     "name": "#%%\n"
    }
   }
  },
  {
   "cell_type": "markdown",
   "source": [
    "Посчитаем метрики на тесте (на последнем дне):"
   ],
   "metadata": {
    "collapsed": false,
    "pycharm": {
     "name": "#%% md\n"
    }
   }
  },
  {
   "cell_type": "code",
   "execution_count": 24,
   "outputs": [
    {
     "name": "stdout",
     "output_type": "stream",
     "text": [
      "{\n",
      "    \"log-loss\": 0.13148437882433509,\n",
      "    \"roc-auc\": 0.7919810325455986\n",
      "}\n"
     ]
    }
   ],
   "source": [
    "y_pred = model.predict_proba(X_test)\n",
    "best_score = get_score(y_test, y_pred)\n",
    "print(json.dumps(best_score, sort_keys=True, indent=4))"
   ],
   "metadata": {
    "collapsed": false,
    "pycharm": {
     "name": "#%%\n"
    }
   }
  },
  {
   "cell_type": "markdown",
   "source": [
    "Сравнимся с baseline-ом -- средним по тестовой выборке:"
   ],
   "metadata": {
    "collapsed": false,
    "pycharm": {
     "name": "#%% md\n"
    }
   }
  },
  {
   "cell_type": "code",
   "execution_count": 26,
   "outputs": [
    {
     "name": "stdout",
     "output_type": "stream",
     "text": [
      "{\n",
      "    \"log-loss\": 0.15303289904918538,\n",
      "    \"roc-auc\": 0.5\n",
      "}\n"
     ]
    }
   ],
   "source": [
    "test_mean = y_test.mean()\n",
    "y_base = np.array([[1 - test_mean, test_mean]]).repeat(len(y_test), axis=0)\n",
    "\n",
    "base_score = get_score(y_test, y_base)\n",
    "print(json.dumps(base_score, sort_keys=True, indent=4))"
   ],
   "metadata": {
    "collapsed": false,
    "pycharm": {
     "name": "#%%\n"
    }
   }
  },
  {
   "cell_type": "markdown",
   "source": [
    "Получили метрики лучше бейзлайна"
   ],
   "metadata": {
    "collapsed": false,
    "pycharm": {
     "name": "#%% md\n"
    }
   }
  },
  {
   "cell_type": "markdown",
   "source": [],
   "metadata": {
    "collapsed": false,
    "pycharm": {
     "name": "#%% md\n"
    }
   }
  }
 ],
 "metadata": {
  "kernelspec": {
   "display_name": "Python 3",
   "language": "python",
   "name": "python3"
  },
  "language_info": {
   "codemirror_mode": {
    "name": "ipython",
    "version": 2
   },
   "file_extension": ".py",
   "mimetype": "text/x-python",
   "name": "python",
   "nbconvert_exporter": "python",
   "pygments_lexer": "ipython2",
   "version": "2.7.6"
  }
 },
 "nbformat": 4,
 "nbformat_minor": 0
}