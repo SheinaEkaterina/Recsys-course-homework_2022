{
 "cells": [
  {
   "cell_type": "code",
   "execution_count": 81,
   "id": "eea1cf8f",
   "metadata": {},
   "outputs": [],
   "source": [
    "!pip install -q xlearn"
   ]
  },
  {
   "cell_type": "code",
   "execution_count": 82,
   "id": "3ed7a078",
   "metadata": {},
   "outputs": [],
   "source": [
    "import numpy as np\n",
    "import scipy as sp\n",
    "from scipy.sparse import csr_matrix, csc_matrix\n",
    "import pandas as pd\n",
    "import datetime as dt\n",
    "import xlearn as xl\n",
    "import matplotlib.pyplot as plt\n",
    "from tqdm.notebook import tqdm\n",
    "from typing import Optional, List\n",
    "\n",
    "# Метрики\n",
    "from sklearn.metrics import log_loss\n",
    "from sklearn.metrics import roc_auc_score\n",
    "\n",
    "# Sklearn\n",
    "from sklearn.preprocessing import OneHotEncoder\n",
    "from sklearn.model_selection import train_test_split\n",
    "\n",
    "from IPython.display import display, HTML"
   ]
  },
  {
   "cell_type": "markdown",
   "id": "3ba2f3e6",
   "metadata": {},
   "source": [
    "### Loading Data"
   ]
  },
  {
   "cell_type": "code",
   "execution_count": 83,
   "id": "5cb85414",
   "metadata": {},
   "outputs": [],
   "source": [
    "def data_preprocess(data):\n",
    "    data['date_time'] = pd.to_datetime(data['date_time'])\n",
    "    # Удаляем колонки, которые по условию не нужны для 2го ДЗ\n",
    "    data = data.drop(['banner_id0', 'banner_id1', 'rate0', 'rate1', 'g0', 'g1', 'coeff_sum0', 'coeff_sum1'], axis=1)\n",
    "    return data"
   ]
  },
  {
   "cell_type": "code",
   "execution_count": 84,
   "id": "afc77421",
   "metadata": {},
   "outputs": [
    {
     "data": {
      "text/html": [
       "<div>\n",
       "<style scoped>\n",
       "    .dataframe tbody tr th:only-of-type {\n",
       "        vertical-align: middle;\n",
       "    }\n",
       "\n",
       "    .dataframe tbody tr th {\n",
       "        vertical-align: top;\n",
       "    }\n",
       "\n",
       "    .dataframe thead th {\n",
       "        text-align: right;\n",
       "    }\n",
       "</style>\n",
       "<table border=\"1\" class=\"dataframe\">\n",
       "  <thead>\n",
       "    <tr style=\"text-align: right;\">\n",
       "      <th></th>\n",
       "      <th>date_time</th>\n",
       "      <th>zone_id</th>\n",
       "      <th>banner_id</th>\n",
       "      <th>oaid_hash</th>\n",
       "      <th>campaign_clicks</th>\n",
       "      <th>os_id</th>\n",
       "      <th>country_id</th>\n",
       "      <th>impressions</th>\n",
       "      <th>clicks</th>\n",
       "    </tr>\n",
       "  </thead>\n",
       "  <tbody>\n",
       "    <tr>\n",
       "      <th>0</th>\n",
       "      <td>2021-09-27 00:01:30</td>\n",
       "      <td>0</td>\n",
       "      <td>0</td>\n",
       "      <td>5664530014561852622</td>\n",
       "      <td>0</td>\n",
       "      <td>0</td>\n",
       "      <td>0</td>\n",
       "      <td>1</td>\n",
       "      <td>1</td>\n",
       "    </tr>\n",
       "    <tr>\n",
       "      <th>1</th>\n",
       "      <td>2021-09-26 22:54:49</td>\n",
       "      <td>1</td>\n",
       "      <td>1</td>\n",
       "      <td>5186611064559013950</td>\n",
       "      <td>0</td>\n",
       "      <td>0</td>\n",
       "      <td>1</td>\n",
       "      <td>1</td>\n",
       "      <td>1</td>\n",
       "    </tr>\n",
       "    <tr>\n",
       "      <th>2</th>\n",
       "      <td>2021-09-26 23:57:20</td>\n",
       "      <td>2</td>\n",
       "      <td>2</td>\n",
       "      <td>2215519569292448030</td>\n",
       "      <td>3</td>\n",
       "      <td>0</td>\n",
       "      <td>0</td>\n",
       "      <td>1</td>\n",
       "      <td>1</td>\n",
       "    </tr>\n",
       "    <tr>\n",
       "      <th>3</th>\n",
       "      <td>2021-09-27 00:04:30</td>\n",
       "      <td>3</td>\n",
       "      <td>3</td>\n",
       "      <td>6262169206735077204</td>\n",
       "      <td>0</td>\n",
       "      <td>1</td>\n",
       "      <td>1</td>\n",
       "      <td>1</td>\n",
       "      <td>1</td>\n",
       "    </tr>\n",
       "    <tr>\n",
       "      <th>4</th>\n",
       "      <td>2021-09-27 00:06:21</td>\n",
       "      <td>4</td>\n",
       "      <td>4</td>\n",
       "      <td>4778985830203613115</td>\n",
       "      <td>0</td>\n",
       "      <td>1</td>\n",
       "      <td>0</td>\n",
       "      <td>1</td>\n",
       "      <td>1</td>\n",
       "    </tr>\n",
       "  </tbody>\n",
       "</table>\n",
       "</div>"
      ],
      "text/plain": [
       "            date_time  zone_id  banner_id            oaid_hash  \\\n",
       "0 2021-09-27 00:01:30        0          0  5664530014561852622   \n",
       "1 2021-09-26 22:54:49        1          1  5186611064559013950   \n",
       "2 2021-09-26 23:57:20        2          2  2215519569292448030   \n",
       "3 2021-09-27 00:04:30        3          3  6262169206735077204   \n",
       "4 2021-09-27 00:06:21        4          4  4778985830203613115   \n",
       "\n",
       "   campaign_clicks  os_id  country_id  impressions  clicks  \n",
       "0                0      0           0            1       1  \n",
       "1                0      0           1            1       1  \n",
       "2                3      0           0            1       1  \n",
       "3                0      1           1            1       1  \n",
       "4                0      1           0            1       1  "
      ]
     },
     "execution_count": 84,
     "metadata": {},
     "output_type": "execute_result"
    }
   ],
   "source": [
    "data = pd.read_csv('../data/data.csv')\n",
    "data = data_preprocess(data)\n",
    "data.head()"
   ]
  },
  {
   "cell_type": "markdown",
   "id": "17a8095a",
   "metadata": {},
   "source": [
    "### EDA"
   ]
  },
  {
   "cell_type": "code",
   "execution_count": 85,
   "id": "69ac1a25",
   "metadata": {},
   "outputs": [
    {
     "data": {
      "image/png": "[encoded data removed]",
      "text/plain": [
       "<Figure size 1152x360 with 2 Axes>"
      ]
     },
     "metadata": {
      "needs_background": "light"
     },
     "output_type": "display_data"
    },
    {
     "name": "stdout",
     "output_type": "stream",
     "text": [
      "* Кол-во уникальных oaid_hash: 6510316 \n",
      "\n",
      "* Топ 5 oaid_hash по кол-ву наблюдений:\n"
     ]
    },
    {
     "data": {
      "text/html": [
       "<table border=\"1\" class=\"dataframe\">\n",
       "  <thead>\n",
       "    <tr style=\"text-align: right;\">\n",
       "      <th></th>\n",
       "      <th>oaid_hash</th>\n",
       "      <th>n_observations</th>\n",
       "    </tr>\n",
       "  </thead>\n",
       "  <tbody>\n",
       "    <tr>\n",
       "      <th>0</th>\n",
       "      <td>308174966294367527</td>\n",
       "      <td>5243</td>\n",
       "    </tr>\n",
       "    <tr>\n",
       "      <th>1</th>\n",
       "      <td>2890718152668627077</td>\n",
       "      <td>2511</td>\n",
       "    </tr>\n",
       "    <tr>\n",
       "      <th>2</th>\n",
       "      <td>2521895603443866206</td>\n",
       "      <td>2289</td>\n",
       "    </tr>\n",
       "    <tr>\n",
       "      <th>3</th>\n",
       "      <td>8212556321845734673</td>\n",
       "      <td>1974</td>\n",
       "    </tr>\n",
       "    <tr>\n",
       "      <th>4</th>\n",
       "      <td>3375698397737628939</td>\n",
       "      <td>1959</td>\n",
       "    </tr>\n",
       "  </tbody>\n",
       "</table>"
      ],
      "text/plain": [
       "<IPython.core.display.HTML object>"
      ]
     },
     "metadata": {},
     "output_type": "display_data"
    },
    {
     "name": "stdout",
     "output_type": "stream",
     "text": [
      "* Топ 5 по кол-ву наблюдений oaid_hash на пользователя\n"
     ]
    },
    {
     "data": {
      "text/html": [
       "<table border=\"1\" class=\"dataframe\">\n",
       "  <thead>\n",
       "    <tr style=\"text-align: right;\">\n",
       "      <th></th>\n",
       "      <th>oaid_hash_vc</th>\n",
       "      <th>n_observations</th>\n",
       "    </tr>\n",
       "  </thead>\n",
       "  <tbody>\n",
       "    <tr>\n",
       "      <th>0</th>\n",
       "      <td>1</td>\n",
       "      <td>4182814</td>\n",
       "    </tr>\n",
       "    <tr>\n",
       "      <th>1</th>\n",
       "      <td>2</td>\n",
       "      <td>1049124</td>\n",
       "    </tr>\n",
       "    <tr>\n",
       "      <th>2</th>\n",
       "      <td>3</td>\n",
       "      <td>432171</td>\n",
       "    </tr>\n",
       "    <tr>\n",
       "      <th>3</th>\n",
       "      <td>4</td>\n",
       "      <td>233187</td>\n",
       "    </tr>\n",
       "    <tr>\n",
       "      <th>4</th>\n",
       "      <td>5</td>\n",
       "      <td>144499</td>\n",
       "    </tr>\n",
       "  </tbody>\n",
       "</table>"
      ],
      "text/plain": [
       "<IPython.core.display.HTML object>"
      ]
     },
     "metadata": {},
     "output_type": "display_data"
    }
   ],
   "source": [
    "oaid_hash_vc = pd.value_counts(data['oaid_hash'])\n",
    "\n",
    "fig, axes = plt.subplots(figsize=(16, 5), nrows=1, ncols=2)\n",
    "\n",
    "oaid_hash_vc.reset_index(drop=True).plot(ax=axes[0])\n",
    "axes[0].set_xlabel('oaid_hash')\n",
    "axes[0].set_ylabel('n_observations')\n",
    "\n",
    "oaid_hash_vc[oaid_hash_vc < 100].plot.hist(bins=100, ax=axes[1])\n",
    "axes[1].set_xlabel('oaid_hash_vc')\n",
    "axes[1].set_ylabel('n_observations')\n",
    "\n",
    "plt.show()\n",
    "\n",
    "print(f'* Кол-во уникальных oaid_hash: {len(pd.unique(data[\"oaid_hash\"]))} \\n')\n",
    "\n",
    "print('* Топ 5 oaid_hash по кол-ву наблюдений:')\n",
    "display(HTML(oaid_hash_vc[:5].reset_index().set_axis(['oaid_hash', 'n_observations'], axis=1).to_html()))\n",
    "\n",
    "print('* Топ 5 по кол-ву наблюдений oaid_hash на пользователя')\n",
    "display(HTML(pd.value_counts(oaid_hash_vc)[:5].reset_index().set_axis(['oaid_hash_vc', 'n_observations'], axis=1).to_html()))"
   ]
  },
  {
   "cell_type": "markdown",
   "id": "bbba18ec",
   "metadata": {},
   "source": [
    "#### Выводы по EDA\n",
    "\n",
    "Единственная новая колонка - oaid_hash имеет большой 'хвост' из редких пользователей. Те пользователи, для которых во всем датасете только одно наблюдение (а таких 4182814 из 6510316 -- почти 2/3) не несут никакой полезной информации. Значит всех их можно объединить в одину категорию, значительно уменьшив число параметров модели. "
   ]
  },
  {
   "cell_type": "markdown",
   "id": "37872e3a",
   "metadata": {},
   "source": [
    "### Feature engineering"
   ]
  },
  {
   "cell_type": "code",
   "execution_count": 86,
   "id": "3cf01bcc",
   "metadata": {},
   "outputs": [],
   "source": [
    "# Фичи, свзязанные с date_time\n",
    "data['hour'] = data['date_time'].dt.hour\n",
    "data['weekday'] = data['date_time'].dt.weekday\n",
    "\n",
    "# Объединяем всех пользователей, для которых во всем датасете только одно наблюдение\n",
    "n = 1\n",
    "oaid_hash_n   = oaid_hash_vc[oaid_hash_vc > n].index\n",
    "data['oaid_hash_n'] = data['oaid_hash'] * data['oaid_hash'].isin(oaid_hash_n)\n",
    "\n",
    "# log campaign_clicks\n",
    "data['campaign_clicks_eq_0'] = (data['campaign_clicks'] == 0).astype(int)\n",
    "data['log_campaign_clicks'] = np.log(\n",
    "    np.array(data['campaign_clicks']).astype(float), where=data['campaign_clicks']>0)"
   ]
  },
  {
   "cell_type": "code",
   "execution_count": 89,
   "id": "2e644a46",
   "metadata": {},
   "outputs": [],
   "source": [
    "# Функция для построения разреженой матрицы категориальной фичей (также возвраящает fields для FFM)\n",
    "def prepare_ffm_dataset(df: pd.DataFrame, \n",
    "                        cat_cols: Optional[List[str]] = None, \n",
    "                        num_cols: Optional[List[str]] = None):\n",
    "    '''\n",
    "    Возвращяет разреженную матрицу из числовых и категориальных фичей данного датасета.\n",
    "    \n",
    "    Args:\n",
    "        df: исходный датасет\n",
    "        cat_cols: список категориальных фичей\n",
    "        num_cols: список числовых фичей\n",
    "        \n",
    "    Returns:\n",
    "        df_: разреженная матрица фичей\n",
    "        fields: поля фичей для ffm\n",
    "    '''\n",
    "    \n",
    "    if num_cols is None:\n",
    "        num_cols = []\n",
    "    if cat_cols is None:\n",
    "        cat_cols = []\n",
    "        \n",
    "    assert isinstance(df, pd.DataFrame)\n",
    "    assert len(set(cat_cols) - set(df.columns)) == 0\n",
    "    assert len(set(num_cols) - set(df.columns)) == 0\n",
    "    \n",
    "    enc = OneHotEncoder()\n",
    " \n",
    "    # prepare numerical columns\n",
    "    ix = len(num_cols)\n",
    "    fields = np.arange(ix)\n",
    "    df_ = csr_matrix(df[num_cols])\n",
    "    \n",
    "    # prepare categorical columns\n",
    "    for cat_col in cat_cols:\n",
    "        enc.fit(df[[cat_col]])\n",
    "        one_hot_col = enc.transform(df[[cat_col]])\n",
    "        fields = np.append(fields, np.repeat(ix, one_hot_col.shape[1]))\n",
    "        df_ = sp.sparse.hstack((df_, one_hot_col))\n",
    "        ix += 1\n",
    "    return df_, fields"
   ]
  },
  {
   "cell_type": "code",
   "execution_count": 90,
   "id": "20b2583a",
   "metadata": {},
   "outputs": [
    {
     "name": "stdout",
     "output_type": "stream",
     "text": [
      "Итоговая размерность (15821472, 2332642)\n"
     ]
    }
   ],
   "source": [
    "# Получаем X, y и fields\n",
    "X, fields = prepare_ffm_dataset(\n",
    "    data, \n",
    "    cat_cols=['hour', 'weekday', 'zone_id', 'banner_id', 'campaign_clicks_eq_0', 'oaid_hash_n', 'os_id', 'country_id'],\n",
    "    num_cols=['log_campaign_clicks'])\n",
    "\n",
    "y = data[['clicks']]\n",
    "\n",
    "assert X.shape[1] == len(fields)\n",
    "print(f'Итоговая размерность {X.shape}')"
   ]
  },
  {
   "cell_type": "code",
   "execution_count": 92,
   "id": "7e02332a",
   "metadata": {},
   "outputs": [
    {
     "name": "stdout",
     "output_type": "stream",
     "text": [
      "Длина обучающего датасета:     10953995\n",
      "Длина валидационного датасета: 2738499\n",
      "Длина тестого датасета:        2128978\n"
     ]
    }
   ],
   "source": [
    "# Считаем индексы train, val и test датасетов\n",
    "data_train_val_ind = data.index[data['date_time'].dt.date != dt.date(2021, 10, 2)]\n",
    "data_test_ind = data.index[data['date_time'].dt.date == dt.date(2021, 10, 2)]\n",
    "# Делим train на train и val\n",
    "data_train_ind, data_val_ind = train_test_split(data_train_val_ind, test_size=0.2, stratify=data.iloc[data_train_val_ind]['clicks'])\n",
    "\n",
    "print(f'Длина обучающего датасета:     {len(data_train_ind)}')\n",
    "print(f'Длина валидационного датасета: {len(data_val_ind)}')\n",
    "print(f'Длина тестого датасета:        {len(data_test_ind)}')"
   ]
  },
  {
   "cell_type": "code",
   "execution_count": 22,
   "id": "ba126738",
   "metadata": {},
   "outputs": [],
   "source": [
    "# Делим sparse матрицу X, и колонку y на train, val и test согласно индексам\n",
    "X_train = X.tocsr()[data_train_ind]\n",
    "y_train = y.iloc[data_train_ind].to_numpy().ravel()\n",
    "\n",
    "X_val = X.tocsr()[data_val_ind]\n",
    "y_val = y.iloc[data_val_ind].to_numpy().ravel()\n",
    "\n",
    "X_test = X.tocsr()[data_test_ind]\n",
    "y_test = y.iloc[data_test_ind].to_numpy().ravel()"
   ]
  },
  {
   "cell_type": "code",
   "execution_count": 80,
   "id": "2ea583b6",
   "metadata": {},
   "outputs": [],
   "source": [
    "# Функция, которая по разреженой матрице фичей X, массиву меток y и массиву fields записывает txt файл в libffm формате\n",
    "def to_libffm(X: csr_matrix, y: np.ndarray, fields: np.ndarray, output: str):\n",
    "    '''\n",
    "    По разреженой матрице фичей X, массиву меток y и массиву fields записывает output.txt файл в libffm формате.\n",
    "    \n",
    "    Args:\n",
    "        X: разреженная матрица фичей\n",
    "        y: массив меток\n",
    "        fields: массив длины кол-во фичей -- поля фичей\n",
    "    \n",
    "    Returns:\n",
    "        В файл output.txt записывает необходимый libffm формат для обучения ffm_model\n",
    "    '''\n",
    "    observations, features = X.nonzero()\n",
    "    values = X.data\n",
    "    \n",
    "    with open(output, \"w\") as file:\n",
    "\n",
    "        cur_obs = observations[0]\n",
    "        file.write(f'{y[cur_obs]}')\n",
    "\n",
    "        for obs, feature, value in zip(observations, features, values):\n",
    "            if obs == cur_obs:\n",
    "                file.write(f' {fields[feature]}:{feature}:{value}')\n",
    "            else:\n",
    "                file.write('\\n')\n",
    "                cur_obs = obs\n",
    "                file.write(f'{y[cur_obs]}')\n",
    "                file.write(f' {fields[feature]}:{feature}:{value}')"
   ]
  },
  {
   "cell_type": "code",
   "execution_count": 122,
   "id": "00d818ae",
   "metadata": {},
   "outputs": [
    {
     "name": "stdout",
     "output_type": "stream",
     "text": [
      "976M\t./train.txt\r\n",
      "193M\t./test.txt\r\n",
      "243M\t./val.txt\r\n",
      " 21M\t./output.txt\r\n"
     ]
    }
   ],
   "source": [
    "# Записываем libffm txt для train, val и test\n",
    "to_libffm(X_train, y_train, fields, 'train.txt') # 976M\n",
    "to_libffm(X_val, y_val, fields, 'val.txt')       # 193M\n",
    "to_libffm(X_test, y_test, fields, 'test.txt')    # 243M\n",
    "\n",
    "!find . -name '*.txt' -exec du -h {} \\;"
   ]
  },
  {
   "cell_type": "markdown",
   "id": "3b0608c7",
   "metadata": {},
   "source": [
    "### Train"
   ]
  },
  {
   "cell_type": "code",
   "execution_count": 25,
   "id": "4a475f8a",
   "metadata": {},
   "outputs": [],
   "source": [
    "ffm_model = xl.create_ffm()\n",
    "ffm_model.setTrain(\"train.txt\")\n",
    "ffm_model.setValidate(\"val.txt\")"
   ]
  },
  {
   "cell_type": "code",
   "execution_count": 27,
   "id": "6c500cc1",
   "metadata": {},
   "outputs": [
    {
     "name": "stdout",
     "output_type": "stream",
     "text": [
      "\u001b[32m\u001b[1m----------------------------------------------------------------------------------------------\n",
      "           _\n",
      "          | |\n",
      "     __  _| |     ___  __ _ _ __ _ __\n",
      "     \\ \\/ / |    / _ \\/ _` | '__| '_ \\ \n",
      "      >  <| |___|  __/ (_| | |  | | | |\n",
      "     /_/\\_\\_____/\\___|\\__,_|_|  |_| |_|\n",
      "\n",
      "        xLearn   -- 0.40 Version --\n",
      "----------------------------------------------------------------------------------------------\n",
      "\n",
      "\u001b[39m\u001b[0m\u001b[32m[------------] \u001b[0mxLearn uses 8 threads for training task.\n",
      "\u001b[32m\u001b[1m[ ACTION     ] Read Problem ...\u001b[0m\n",
      "\u001b[32m[------------] \u001b[0mFirst check if the text file has been already converted to binary format.\n",
      "\u001b[32m[------------] \u001b[0mBinary file (train.txt.bin) NOT found. Convert text file to binary file.\n",
      "\u001b[32m[------------] \u001b[0mFirst check if the text file has been already converted to binary format.\n",
      "\u001b[32m[------------] \u001b[0mBinary file (val.txt.bin) NOT found. Convert text file to binary file.\n",
      "\u001b[32m[------------] \u001b[0mNumber of Feature: 2332642\n",
      "\u001b[32m[------------] \u001b[0mNumber of Field: 9\n",
      "\u001b[32m[------------] \u001b[0mTime cost for reading problem: 23.75 (sec)\n",
      "\u001b[32m\u001b[1m[ ACTION     ] Initialize model ...\u001b[0m\n",
      "\u001b[32m[------------] \u001b[0mModel size: 658.48 MB\n",
      "\u001b[32m[------------] \u001b[0mTime cost for model initial: 0.61 (sec)\n",
      "\u001b[32m\u001b[1m[ ACTION     ] Start to train ...\u001b[0m\n",
      "\u001b[32m[------------]\u001b[0m Epoch      Train log_loss       Test log_loss     Time cost (sec)\n",
      "\u001b[32m[ \u001b[0m   5%\u001b[32m      ]\u001b[0m     1            0.101988            0.098759                4.51\n",
      "\u001b[32m[ \u001b[0m  10%\u001b[32m      ]\u001b[0m     2            0.093448            0.092661                4.50\n",
      "\u001b[32m[ \u001b[0m  15%\u001b[32m      ]\u001b[0m     3            0.082661            0.090229                4.48\n",
      "\u001b[32m[ \u001b[0m  20%\u001b[32m      ]\u001b[0m     4            0.073150            0.090716                4.48\n",
      "\u001b[32m[ \u001b[0m  25%\u001b[32m      ]\u001b[0m     5            0.066460            0.092499                4.48\n",
      "\u001b[32m[ \u001b[0m  30%\u001b[32m      ]\u001b[0m     6            0.061886            0.094484                4.48\n",
      "\u001b[32m\u001b[1m[ ACTION     ] Early-stopping at epoch 3, best loss: 0.090229\u001b[0m\n",
      "\u001b[32m\u001b[1m[ ACTION     ] Start to save model ...\u001b[0m\n",
      "\u001b[32m[------------] \u001b[0mModel file: model_1.out\n",
      "\u001b[32m[------------] \u001b[0mTime cost for saving model: 1.04 (sec)\n",
      "\u001b[32m\u001b[1m[ ACTION     ] Finish training\u001b[0m\n",
      "\u001b[32m\u001b[1m[ ACTION     ] Clear the xLearn environment ...\u001b[0m\n",
      "\u001b[32m\u001b[1m[------------] Total time cost: 52.81 (sec)\u001b[0m\n"
     ]
    }
   ],
   "source": [
    "# lambda = 0.00001\n",
    "param = {'task':'binary', 'lr':0.2, 'lambda':0.00001, 'epoch':20, 'opt':'adagrad'}\n",
    "ffm_model.fit(param, \"model_1.out\")"
   ]
  },
  {
   "cell_type": "code",
   "execution_count": 30,
   "id": "b3a5f5ec",
   "metadata": {},
   "outputs": [
    {
     "name": "stdout",
     "output_type": "stream",
     "text": [
      "\u001b[32m\u001b[1m----------------------------------------------------------------------------------------------\n",
      "           _\n",
      "          | |\n",
      "     __  _| |     ___  __ _ _ __ _ __\n",
      "     \\ \\/ / |    / _ \\/ _` | '__| '_ \\ \n",
      "      >  <| |___|  __/ (_| | |  | | | |\n",
      "     /_/\\_\\_____/\\___|\\__,_|_|  |_| |_|\n",
      "\n",
      "        xLearn   -- 0.40 Version --\n",
      "----------------------------------------------------------------------------------------------\n",
      "\n",
      "\u001b[39m\u001b[0m\u001b[32m[------------] \u001b[0mxLearn uses 8 threads for training task.\n",
      "\u001b[32m\u001b[1m[ ACTION     ] Read Problem ...\u001b[0m\n",
      "\u001b[32m[------------] \u001b[0mFirst check if the text file has been already converted to binary format.\n",
      "\u001b[32m[------------] \u001b[0mBinary file (train.txt.bin) found. Skip converting text to binary.\n",
      "\u001b[32m[------------] \u001b[0mFirst check if the text file has been already converted to binary format.\n",
      "\u001b[32m[------------] \u001b[0mBinary file (val.txt.bin) found. Skip converting text to binary.\n",
      "\u001b[32m[------------] \u001b[0mNumber of Feature: 2332642\n",
      "\u001b[32m[------------] \u001b[0mNumber of Field: 9\n",
      "\u001b[32m[------------] \u001b[0mTime cost for reading problem: 10.22 (sec)\n",
      "\u001b[32m\u001b[1m[ ACTION     ] Initialize model ...\u001b[0m\n",
      "\u001b[32m[------------] \u001b[0mModel size: 658.48 MB\n",
      "\u001b[32m[------------] \u001b[0mTime cost for model initial: 0.62 (sec)\n",
      "\u001b[32m\u001b[1m[ ACTION     ] Start to train ...\u001b[0m\n",
      "\u001b[32m[------------]\u001b[0m Epoch      Train log_loss       Test log_loss     Time cost (sec)\n",
      "\u001b[32m[ \u001b[0m   5%\u001b[32m      ]\u001b[0m     1            0.103052            0.101039                4.62\n",
      "\u001b[32m[ \u001b[0m  10%\u001b[32m      ]\u001b[0m     2            0.098601            0.098011                4.52\n",
      "\u001b[32m[ \u001b[0m  15%\u001b[32m      ]\u001b[0m     3            0.094548            0.095643                4.51\n",
      "\u001b[32m[ \u001b[0m  20%\u001b[32m      ]\u001b[0m     4            0.090396            0.093669                4.50\n",
      "\u001b[32m[ \u001b[0m  25%\u001b[32m      ]\u001b[0m     5            0.086245            0.092208                4.51\n",
      "\u001b[32m[ \u001b[0m  30%\u001b[32m      ]\u001b[0m     6            0.082409            0.091262                4.50\n",
      "\u001b[32m[ \u001b[0m  35%\u001b[32m      ]\u001b[0m     7            0.078994            0.090714                4.50\n",
      "\u001b[32m[ \u001b[0m  40%\u001b[32m      ]\u001b[0m     8            0.076008            0.090412                4.52\n",
      "\u001b[32m[ \u001b[0m  45%\u001b[32m      ]\u001b[0m     9            0.073370            0.090319                4.54\n",
      "\u001b[32m[ \u001b[0m  50%\u001b[32m      ]\u001b[0m    10            0.071037            0.090340                4.54\n",
      "\u001b[32m[ \u001b[0m  55%\u001b[32m      ]\u001b[0m    11            0.068974            0.090463                4.53\n",
      "\u001b[32m[ \u001b[0m  60%\u001b[32m      ]\u001b[0m    12            0.067125            0.090671                4.63\n",
      "\u001b[32m\u001b[1m[ ACTION     ] Early-stopping at epoch 9, best loss: 0.090319\u001b[0m\n",
      "\u001b[32m\u001b[1m[ ACTION     ] Start to save model ...\u001b[0m\n",
      "\u001b[32m[------------] \u001b[0mModel file: model_2.out\n",
      "\u001b[32m[------------] \u001b[0mTime cost for saving model: 1.02 (sec)\n",
      "\u001b[32m\u001b[1m[ ACTION     ] Finish training\u001b[0m\n",
      "\u001b[32m\u001b[1m[ ACTION     ] Clear the xLearn environment ...\u001b[0m\n",
      "\u001b[32m\u001b[1m[------------] Total time cost: 66.91 (sec)\u001b[0m\n"
     ]
    }
   ],
   "source": [
    "# lambda = 0.0001\n",
    "param = {'task':'binary', 'lr':0.2, 'lambda':0.0001, 'epoch':20, 'opt':'adagrad'}\n",
    "ffm_model.fit(param, \"model_2.out\")"
   ]
  },
  {
   "cell_type": "code",
   "execution_count": 31,
   "id": "c2cee3c2",
   "metadata": {},
   "outputs": [
    {
     "name": "stdout",
     "output_type": "stream",
     "text": [
      "\u001b[32m\u001b[1m----------------------------------------------------------------------------------------------\n",
      "           _\n",
      "          | |\n",
      "     __  _| |     ___  __ _ _ __ _ __\n",
      "     \\ \\/ / |    / _ \\/ _` | '__| '_ \\ \n",
      "      >  <| |___|  __/ (_| | |  | | | |\n",
      "     /_/\\_\\_____/\\___|\\__,_|_|  |_| |_|\n",
      "\n",
      "        xLearn   -- 0.40 Version --\n",
      "----------------------------------------------------------------------------------------------\n",
      "\n",
      "\u001b[39m\u001b[0m\u001b[32m[------------] \u001b[0mxLearn uses 8 threads for training task.\n",
      "\u001b[32m\u001b[1m[ ACTION     ] Read Problem ...\u001b[0m\n",
      "\u001b[32m[------------] \u001b[0mFirst check if the text file has been already converted to binary format.\n",
      "\u001b[32m[------------] \u001b[0mBinary file (train.txt.bin) found. Skip converting text to binary.\n",
      "\u001b[32m[------------] \u001b[0mFirst check if the text file has been already converted to binary format.\n",
      "\u001b[32m[------------] \u001b[0mBinary file (val.txt.bin) found. Skip converting text to binary.\n",
      "\u001b[32m[------------] \u001b[0mNumber of Feature: 2332642\n",
      "\u001b[32m[------------] \u001b[0mNumber of Field: 9\n",
      "\u001b[32m[------------] \u001b[0mTime cost for reading problem: 10.85 (sec)\n",
      "\u001b[32m\u001b[1m[ ACTION     ] Initialize model ...\u001b[0m\n",
      "\u001b[32m[------------] \u001b[0mModel size: 658.48 MB\n",
      "\u001b[32m[------------] \u001b[0mTime cost for model initial: 0.65 (sec)\n",
      "\u001b[32m\u001b[1m[ ACTION     ] Start to train ...\u001b[0m\n",
      "\u001b[32m[------------]\u001b[0m Epoch      Train log_loss       Test log_loss     Time cost (sec)\n",
      "\u001b[32m[ \u001b[0m   5%\u001b[32m      ]\u001b[0m     1            0.106219            0.105281                4.87\n",
      "\u001b[32m[ \u001b[0m  10%\u001b[32m      ]\u001b[0m     2            0.104335            0.104312                4.69\n",
      "\u001b[32m[ \u001b[0m  15%\u001b[32m      ]\u001b[0m     3            0.103063            0.103455                4.57\n",
      "\u001b[32m[ \u001b[0m  20%\u001b[32m      ]\u001b[0m     4            0.101897            0.102750                4.56\n",
      "\u001b[32m[ \u001b[0m  25%\u001b[32m      ]\u001b[0m     5            0.100815            0.102061                4.51\n",
      "\u001b[32m[ \u001b[0m  30%\u001b[32m      ]\u001b[0m     6            0.099783            0.101366                4.55\n",
      "\u001b[32m[ \u001b[0m  35%\u001b[32m      ]\u001b[0m     7            0.098758            0.100756                4.51\n",
      "\u001b[32m[ \u001b[0m  40%\u001b[32m      ]\u001b[0m     8            0.097750            0.100199                4.50\n",
      "\u001b[32m[ \u001b[0m  45%\u001b[32m      ]\u001b[0m     9            0.096775            0.099676                4.55\n",
      "\u001b[32m[ \u001b[0m  50%\u001b[32m      ]\u001b[0m    10            0.095808            0.099167                4.58\n",
      "\u001b[32m[ \u001b[0m  55%\u001b[32m      ]\u001b[0m    11            0.094896            0.098720                4.51\n",
      "\u001b[32m[ \u001b[0m  60%\u001b[32m      ]\u001b[0m    12            0.094009            0.098298                4.57\n",
      "\u001b[32m[ \u001b[0m  65%\u001b[32m      ]\u001b[0m    13            0.093162            0.097907                4.53\n",
      "\u001b[32m[ \u001b[0m  70%\u001b[32m      ]\u001b[0m    14            0.092358            0.097599                4.49\n",
      "\u001b[32m[ \u001b[0m  75%\u001b[32m      ]\u001b[0m    15            0.091608            0.097252                4.51\n",
      "\u001b[32m[ \u001b[0m  80%\u001b[32m      ]\u001b[0m    16            0.090865            0.097002                4.50\n",
      "\u001b[32m[ \u001b[0m  85%\u001b[32m      ]\u001b[0m    17            0.090182            0.096737                4.51\n",
      "\u001b[32m[ \u001b[0m  90%\u001b[32m      ]\u001b[0m    18            0.089533            0.096503                4.48\n",
      "\u001b[32m[ \u001b[0m  95%\u001b[32m      ]\u001b[0m    19            0.088901            0.096291                4.48\n",
      "\u001b[32m[ \u001b[0m 100%\u001b[32m      ]\u001b[0m    20            0.088290            0.096094                4.49\n",
      "\u001b[32m\u001b[1m[ ACTION     ] Start to save model ...\u001b[0m\n",
      "\u001b[32m[------------] \u001b[0mModel file: model_3.out\n",
      "\u001b[32m[------------] \u001b[0mTime cost for saving model: 1.11 (sec)\n",
      "\u001b[32m\u001b[1m[ ACTION     ] Finish training\u001b[0m\n",
      "\u001b[32m\u001b[1m[ ACTION     ] Clear the xLearn environment ...\u001b[0m\n",
      "\u001b[32m\u001b[1m[------------] Total time cost: 104.59 (sec)\u001b[0m\n"
     ]
    }
   ],
   "source": [
    "# lambda = 0.001\n",
    "param = {'task':'binary', 'lr':0.2, 'lambda':0.001, 'epoch':20, 'opt':'adagrad'}\n",
    "ffm_model.fit(param, \"model_3.out\")"
   ]
  },
  {
   "cell_type": "markdown",
   "id": "b8ff88e1",
   "metadata": {},
   "source": [
    "### Predict\n",
    "\n",
    "Параметры регуляризации $\\lambda = 0.00001$ и $\\lambda = 0.0001$ дали примерно одинаковый log-loss на валидационной выборке. При $\\lambda = 0.001$ и больше log-loss начинает расти. Таким образом, для предсказания возьмем модель, обученную с $\\lambda = 0.0001$"
   ]
  },
  {
   "cell_type": "code",
   "execution_count": 43,
   "id": "8002d8cd",
   "metadata": {},
   "outputs": [
    {
     "name": "stdout",
     "output_type": "stream",
     "text": [
      "\u001b[32m\u001b[1m----------------------------------------------------------------------------------------------\n",
      "           _\n",
      "          | |\n",
      "     __  _| |     ___  __ _ _ __ _ __\n",
      "     \\ \\/ / |    / _ \\/ _` | '__| '_ \\ \n",
      "      >  <| |___|  __/ (_| | |  | | | |\n",
      "     /_/\\_\\_____/\\___|\\__,_|_|  |_| |_|\n",
      "\n",
      "        xLearn   -- 0.40 Version --\n",
      "----------------------------------------------------------------------------------------------\n",
      "\n",
      "\u001b[39m\u001b[0m\u001b[32m[------------] \u001b[0mxLearn uses 8 threads for prediction task.\n",
      "\u001b[32m\u001b[1m[ ACTION     ] Load model ...\u001b[0m\n",
      "\u001b[32m[------------] \u001b[0mLoad model from model_2.out\n",
      "\u001b[32m[------------] \u001b[0mLoss function: cross-entropy\n",
      "\u001b[32m[------------] \u001b[0mScore function: ffm\n",
      "\u001b[32m[------------] \u001b[0mNumber of Feature: 2332642\n",
      "\u001b[32m[------------] \u001b[0mNumber of K: 4\n",
      "\u001b[32m[------------] \u001b[0mNumber of field: 9\n",
      "\u001b[32m[------------] \u001b[0mTime cost for loading model: 0.30 (sec)\n",
      "\u001b[32m\u001b[1m[ ACTION     ] Read Problem ...\u001b[0m\n",
      "\u001b[32m[------------] \u001b[0mFirst check if the text file has been already converted to binary format.\n",
      "\u001b[32m[------------] \u001b[0mBinary file (test.txt.bin) found. Skip converting text to binary.\n",
      "\u001b[32m[------------] \u001b[0mTime cost for reading problem: 1.16 (sec)\n",
      "\u001b[32m\u001b[1m[ ACTION     ] Start to predict ...\u001b[0m\n",
      "\u001b[32m[------------] \u001b[0mThe test loss is: 0.126571\n",
      "\u001b[32m\u001b[1m[ ACTION     ] Clear the xLearn environment ...\u001b[0m\n",
      "\u001b[32m\u001b[1m[------------] Total time cost: 2.28 (sec)\u001b[0m\n"
     ]
    }
   ],
   "source": [
    "# Predict\n",
    "ffm_model.setSigmoid()\n",
    "ffm_model.setTest(\"test.txt\")\n",
    "ffm_model.predict(\"model_2.out\", \"output.txt\") # модель с lambda=0.0001"
   ]
  },
  {
   "cell_type": "code",
   "execution_count": 49,
   "id": "113b5157",
   "metadata": {},
   "outputs": [
    {
     "name": "stdout",
     "output_type": "stream",
     "text": [
      "log-loss: 0.12658341246846766\n",
      "auc:      0.8170664101088935\n"
     ]
    }
   ],
   "source": [
    "pred = np.genfromtxt('output.txt', dtype=float)\n",
    "print(f'test log-loss: {log_loss(y_test, pred)}')\n",
    "print(f'test auc:      {roc_auc_score(y_test, pred)}')"
   ]
  },
  {
   "cell_type": "markdown",
   "id": "9f63e097",
   "metadata": {},
   "source": [
    "**C** = 0.0001 - параметр регуляризации\n",
    "\n",
    "**log_loss** = **0.1265** < 0.13334 (HW1)  < 0.15486 (baseline)\n",
    "\n",
    "**auc** = **0.817** > 0.788 (HW1) > 0.5 (baseline)"
   ]
  },
  {
   "cell_type": "code",
   "execution_count": null,
   "id": "4a35c520",
   "metadata": {},
   "outputs": [],
   "source": []
  }
 ],
 "metadata": {
  "kernelspec": {
   "display_name": "Python 3 (ipykernel)",
   "language": "python",
   "name": "python3"
  },
  "language_info": {
   "codemirror_mode": {
    "name": "ipython",
    "version": 3
   },
   "file_extension": ".py",
   "mimetype": "text/x-python",
   "name": "python",
   "nbconvert_exporter": "python",
   "pygments_lexer": "ipython3",
   "version": "3.9.12"
  }
 },
 "nbformat": 4,
 "nbformat_minor": 5
}
