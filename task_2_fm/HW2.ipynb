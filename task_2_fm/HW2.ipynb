{
 "cells": [
  {
   "cell_type": "code",
   "execution_count": 1,
   "metadata": {},
   "outputs": [],
   "source": [
    "from pathlib import Path\n",
    "\n",
    "from preprocessing import drop_cols, date_split"
   ]
  },
  {
   "cell_type": "code",
   "execution_count": 2,
   "metadata": {},
   "outputs": [],
   "source": [
    "DATA_DIR = Path(\"../data\")"
   ]
  },
  {
   "cell_type": "code",
   "execution_count": 3,
   "metadata": {},
   "outputs": [
    {
     "name": "stdout",
     "output_type": "stream",
     "text": [
      "date_time,zone_id,banner_id,oaid_hash,campaign_clicks,os_id,country_id,impressions,clicks\n",
      "2021-09-27 00:01:30.000000,0,0,5664530014561852622,0,0,0,1,1\n",
      "2021-09-26 22:54:49.000000,1,1,5186611064559013950,0,0,1,1,1\n",
      "2021-09-26 23:57:20.000000,2,2,2215519569292448030,3,0,0,1,1\n",
      "2021-09-27 00:04:30.000000,3,3,6262169206735077204,0,1,1,1,1\n",
      "2021-09-27 00:06:21.000000,4,4,4778985830203613115,0,1,0,1,1\n",
      "2021-09-27 00:06:50.000000,5,5,2377014068362699676,0,2,2,1,1\n",
      "2021-09-27 00:07:34.000000,6,6,6863358899511896876,0,3,0,1,1\n",
      "2021-09-27 00:08:49.000000,7,7,2876502170484631685,0,4,1,1,1\n",
      "2021-09-27 00:09:08.000000,8,8,5839858970958967275,0,4,3,1,1\n"
     ]
    }
   ],
   "source": [
    "drop_cols(file=DATA_DIR / \"raw/data.csv\",\n",
    "          file_out=DATA_DIR / \"interim/data.csv\",\n",
    "          cols=[\"banner_id0\", \"banner_id1\", \"rate0\", \"rate1\", \"g0\", \"g1\",\n",
    "                \"coeff_sum0\", \"coeff_sum1\"])\n",
    "\n",
    "!head {DATA_DIR / \"interim/data.csv\"}"
   ]
  },
  {
   "cell_type": "code",
   "execution_count": 4,
   "metadata": {},
   "outputs": [
    {
     "name": "stdout",
     "output_type": "stream",
     "text": [
      "date_time,zone_id,banner_id,oaid_hash,campaign_clicks,os_id,country_id,impressions,clicks\n",
      "2021-09-27 00:01:30.000000,0,0,5664530014561852622,0,0,0,1,1\n",
      "2021-09-26 22:54:49.000000,1,1,5186611064559013950,0,0,1,1,1\n",
      "2021-09-26 23:57:20.000000,2,2,2215519569292448030,3,0,0,1,1\n",
      "2021-09-27 00:04:30.000000,3,3,6262169206735077204,0,1,1,1,1\n",
      "2021-09-27 00:06:21.000000,4,4,4778985830203613115,0,1,0,1,1\n",
      "2021-09-27 00:06:50.000000,5,5,2377014068362699676,0,2,2,1,1\n",
      "2021-09-27 00:07:34.000000,6,6,6863358899511896876,0,3,0,1,1\n",
      "2021-09-27 00:08:49.000000,7,7,2876502170484631685,0,4,1,1,1\n",
      "2021-09-27 00:09:08.000000,8,8,5839858970958967275,0,4,3,1,1\n"
     ]
    }
   ],
   "source": [
    "date_split(file=DATA_DIR / \"interim/data.csv\",\n",
    "           output_dir=DATA_DIR / \"interim\",\n",
    "           test_date=\"2021-10-02\")\n",
    "\n",
    "!head {DATA_DIR / \"interim/train.csv\"}"
   ]
  },
  {
   "cell_type": "code",
   "execution_count": null,
   "metadata": {},
   "outputs": [],
   "source": []
  }
 ],
 "metadata": {
  "kernelspec": {
   "display_name": "Python 3.10.6 64-bit",
   "language": "python",
   "name": "python3"
  },
  "language_info": {
   "codemirror_mode": {
    "name": "ipython",
    "version": 3
   },
   "file_extension": ".py",
   "mimetype": "text/x-python",
   "name": "python",
   "nbconvert_exporter": "python",
   "pygments_lexer": "ipython3",
   "version": "3.10.6"
  },
  "orig_nbformat": 4,
  "vscode": {
   "interpreter": {
    "hash": "916dbcbb3f70747c44a77c7bcd40155683ae19c65e1c03b4aa3499c5328201f1"
   }
  }
 },
 "nbformat": 4,
 "nbformat_minor": 2
}
