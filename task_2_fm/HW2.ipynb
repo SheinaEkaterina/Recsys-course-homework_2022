{
 "cells": [
  {
   "cell_type": "code",
   "execution_count": 1,
   "metadata": {
    "collapsed": true
   },
   "outputs": [],
   "source": [
    "import pandas as pd\n",
    "import numpy as np\n",
    "import warnings\n",
    "warnings.filterwarnings(\"ignore\")\n",
    "from functions import analyse_new_columns, feature_engineering, one_hot, prepare_data, cv, \\\n",
    "    test_model\n",
    "%load_ext autoreload\n",
    "%autoreload 2\n",
    "import lightfm\n",
    "from lightfm import LightFM\n",
    "from lightfm.evaluation import auc_score\n"
   ]
  },
  {
   "cell_type": "code",
   "execution_count": 2,
   "outputs": [
    {
     "data": {
      "text/plain": "                    date_time  zone_id  banner_id            oaid_hash  \\\n0  2021-09-27 00:01:30.000000        0          0  5664530014561852622   \n1  2021-09-26 22:54:49.000000        1          1  5186611064559013950   \n2  2021-09-26 23:57:20.000000        2          2  2215519569292448030   \n3  2021-09-27 00:04:30.000000        3          3  6262169206735077204   \n4  2021-09-27 00:06:21.000000        4          4  4778985830203613115   \n\n   campaign_clicks  os_id  country_id  clicks  \n0                0      0           0       1  \n1                0      0           1       1  \n2                3      0           0       1  \n3                0      1           1       1  \n4                0      1           0       1  ",
      "text/html": "<div>\n<style scoped>\n    .dataframe tbody tr th:only-of-type {\n        vertical-align: middle;\n    }\n\n    .dataframe tbody tr th {\n        vertical-align: top;\n    }\n\n    .dataframe thead th {\n        text-align: right;\n    }\n</style>\n<table border=\"1\" class=\"dataframe\">\n  <thead>\n    <tr style=\"text-align: right;\">\n      <th></th>\n      <th>date_time</th>\n      <th>zone_id</th>\n      <th>banner_id</th>\n      <th>oaid_hash</th>\n      <th>campaign_clicks</th>\n      <th>os_id</th>\n      <th>country_id</th>\n      <th>clicks</th>\n    </tr>\n  </thead>\n  <tbody>\n    <tr>\n      <th>0</th>\n      <td>2021-09-27 00:01:30.000000</td>\n      <td>0</td>\n      <td>0</td>\n      <td>5664530014561852622</td>\n      <td>0</td>\n      <td>0</td>\n      <td>0</td>\n      <td>1</td>\n    </tr>\n    <tr>\n      <th>1</th>\n      <td>2021-09-26 22:54:49.000000</td>\n      <td>1</td>\n      <td>1</td>\n      <td>5186611064559013950</td>\n      <td>0</td>\n      <td>0</td>\n      <td>1</td>\n      <td>1</td>\n    </tr>\n    <tr>\n      <th>2</th>\n      <td>2021-09-26 23:57:20.000000</td>\n      <td>2</td>\n      <td>2</td>\n      <td>2215519569292448030</td>\n      <td>3</td>\n      <td>0</td>\n      <td>0</td>\n      <td>1</td>\n    </tr>\n    <tr>\n      <th>3</th>\n      <td>2021-09-27 00:04:30.000000</td>\n      <td>3</td>\n      <td>3</td>\n      <td>6262169206735077204</td>\n      <td>0</td>\n      <td>1</td>\n      <td>1</td>\n      <td>1</td>\n    </tr>\n    <tr>\n      <th>4</th>\n      <td>2021-09-27 00:06:21.000000</td>\n      <td>4</td>\n      <td>4</td>\n      <td>4778985830203613115</td>\n      <td>0</td>\n      <td>1</td>\n      <td>0</td>\n      <td>1</td>\n    </tr>\n  </tbody>\n</table>\n</div>"
     },
     "execution_count": 2,
     "metadata": {},
     "output_type": "execute_result"
    }
   ],
   "source": [
    "data = pd.read_csv(\"/Users/victorialokteva/Downloads/data.csv\")\n",
    "# выкинем колонки, которые не нужы для 2 го задания, а также impressions\n",
    "data = data.drop(columns=['banner_id0', 'banner_id1', 'rate0', 'rate1', 'g0', 'g1', 'coeff_sum0', 'coeff_sum1'])\n",
    "data = data.drop(columns=['impressions'])\n",
    "data.head()"
   ],
   "metadata": {
    "collapsed": false
   }
  },
  {
   "cell_type": "code",
   "execution_count": 3,
   "outputs": [
    {
     "name": "stdout",
     "output_type": "stream",
     "text": [
      "Количество записей в таблице:  15821472\n",
      "\n",
      "Новые колонки\n",
      "Количество уникальных значений для oaid_hash:  6510316\n",
      "Nan в oaid_hash:  False\n",
      "Встречаемость самого частого значения: 5243\n",
      "Встречаемость самого редкого значения: 1\n"
     ]
    }
   ],
   "source": [
    "# Появились новые колонки в таблице по сравнению с первым заданием. Проанализируем их\n",
    "analyse_new_columns(data)"
   ],
   "metadata": {
    "collapsed": false
   }
  },
  {
   "cell_type": "markdown",
   "source": [
    "Построение модели"
   ],
   "metadata": {
    "collapsed": false
   }
  },
  {
   "cell_type": "code",
   "execution_count": 4,
   "outputs": [],
   "source": [
    " # добавим фич и сделаем one-hot encoding\n",
    "data = feature_engineering(data)\n",
    "data = one_hot(data)"
   ],
   "metadata": {
    "collapsed": false
   }
  },
  {
   "cell_type": "code",
   "execution_count": 5,
   "outputs": [
    {
     "data": {
      "text/plain": "Index(['date_time', 'zone_id', 'banner_id', 'oaid_hash', 'campaign_clicks',\n       'country_id', 'clicks', 'time', 'date', 'is_weekend', 'month',\n       'date_copy', 'os_id_1', 'os_id_2', 'os_id_3', 'os_id_4', 'os_id_5',\n       'os_id_6', 'os_id_7', 'os_id_8', 'os_id_9', 'os_id_10',\n       'time_of_day_1.0', 'time_of_day_2.0', 'time_of_day_3.0', 'zone_17',\n       'zone_14', 'zone_12', 'zone_0', 'zone_19', 'zone_1', 'zone_27',\n       'zone_30', 'zone_50', 'zone_2', 'country_0', 'country_5', 'country_6',\n       'country_7', 'country_1', 'country_3', 'country_15', 'country_12',\n       'country_9', 'country_4', 'country_10'],\n      dtype='object')"
     },
     "execution_count": 5,
     "metadata": {},
     "output_type": "execute_result"
    }
   ],
   "source": [
    "data.columns"
   ],
   "metadata": {
    "collapsed": false
   }
  },
  {
   "cell_type": "code",
   "execution_count": 6,
   "outputs": [],
   "source": [
    "# Разобъем на тест и тест: в качестве теста возьмем последний день\n",
    "# Данные по юзеру и айтему проктнем отдельно от трэйна\n",
    "user_item_train, user_item_test, user_feat_train, item_feat_train, user_feat_test, item_feat_test  = prepare_data(data)\n"
   ],
   "metadata": {
    "collapsed": false
   }
  },
  {
   "cell_type": "code",
   "execution_count": 13,
   "outputs": [
    {
     "ename": "AttributeError",
     "evalue": "module 'lightfm' has no attribute 'cross_validation'",
     "output_type": "error",
     "traceback": [
      "\u001B[0;31m---------------------------------------------------------------------------\u001B[0m",
      "\u001B[0;31mAttributeError\u001B[0m                            Traceback (most recent call last)",
      "\u001B[0;32m/var/folders/6y/2tqks33d0ts5323j445kpd9m0000gn/T/ipykernel_8524/693190183.py\u001B[0m in \u001B[0;36m<module>\u001B[0;34m\u001B[0m\n\u001B[1;32m      1\u001B[0m \u001B[0;31m# Подберем параметр, отвечающий за размерность\u001B[0m\u001B[0;34m\u001B[0m\u001B[0;34m\u001B[0m\u001B[0m\n\u001B[0;32m----> 2\u001B[0;31m \u001B[0mn_factors\u001B[0m \u001B[0;34m=\u001B[0m \u001B[0mcv\u001B[0m\u001B[0;34m(\u001B[0m\u001B[0muser_item_train\u001B[0m\u001B[0;34m,\u001B[0m \u001B[0muser_feat_train\u001B[0m\u001B[0;34m,\u001B[0m \u001B[0mitem_feat_train\u001B[0m\u001B[0;34m)\u001B[0m\u001B[0;34m\u001B[0m\u001B[0;34m\u001B[0m\u001B[0m\n\u001B[0m",
      "\u001B[0;32m~/PycharmProjects/Recsys-course-homework_2022/task_2_fm/functions.py\u001B[0m in \u001B[0;36mcv\u001B[0;34m(user_item_train, user_feat_train, item_feat_train)\u001B[0m\n\u001B[1;32m    142\u001B[0m \u001B[0;32mdef\u001B[0m \u001B[0mcv\u001B[0m\u001B[0;34m(\u001B[0m\u001B[0muser_item_train\u001B[0m\u001B[0;34m,\u001B[0m \u001B[0muser_feat_train\u001B[0m\u001B[0;34m,\u001B[0m \u001B[0mitem_feat_train\u001B[0m\u001B[0;34m)\u001B[0m\u001B[0;34m:\u001B[0m\u001B[0;34m\u001B[0m\u001B[0;34m\u001B[0m\u001B[0m\n\u001B[1;32m    143\u001B[0m     \u001B[0mscores\u001B[0m \u001B[0;34m=\u001B[0m \u001B[0mdict\u001B[0m\u001B[0;34m(\u001B[0m\u001B[0;34m)\u001B[0m\u001B[0;34m\u001B[0m\u001B[0;34m\u001B[0m\u001B[0m\n\u001B[0;32m--> 144\u001B[0;31m     train, test = lightfm.cross_validation.random_train_test_split(user_item_train, test_percentage=0.3,\n\u001B[0m\u001B[1;32m    145\u001B[0m                                                                    random_state=22)\n\u001B[1;32m    146\u001B[0m     \u001B[0;32mfor\u001B[0m \u001B[0mn\u001B[0m \u001B[0;32min\u001B[0m \u001B[0mtqdm\u001B[0m\u001B[0;34m(\u001B[0m\u001B[0;34m[\u001B[0m\u001B[0;36m5\u001B[0m\u001B[0;34m,\u001B[0m \u001B[0;36m10\u001B[0m\u001B[0;34m,\u001B[0m \u001B[0;36m20\u001B[0m\u001B[0;34m]\u001B[0m\u001B[0;34m)\u001B[0m\u001B[0;34m:\u001B[0m\u001B[0;34m\u001B[0m\u001B[0;34m\u001B[0m\u001B[0m\n",
      "\u001B[0;31mAttributeError\u001B[0m: module 'lightfm' has no attribute 'cross_validation'"
     ]
    }
   ],
   "source": [
    "# Подберем параметр, отвечающий за размерность\n",
    "n_factors = cv(user_item_train, user_feat_train, item_feat_train)"
   ],
   "metadata": {
    "collapsed": false
   }
  },
  {
   "cell_type": "code",
   "execution_count": null,
   "outputs": [],
   "source": [
    "print(n_factors)"
   ],
   "metadata": {
    "collapsed": false
   }
  },
  {
   "cell_type": "code",
   "execution_count": 11,
   "outputs": [
    {
     "data": {
      "text/plain": "<lightfm.lightfm.LightFM at 0x7ff1c350b340>"
     },
     "execution_count": 11,
     "metadata": {},
     "output_type": "execute_result"
    }
   ],
   "source": [
    "model = LightFM(no_components=10)\n",
    "\n",
    "model.fit(interactions=user_item_train,\n",
    "          user_features=user_feat_train,\n",
    "          item_features=item_feat_train,\n",
    "          epochs=40)"
   ],
   "metadata": {
    "collapsed": false
   }
  },
  {
   "cell_type": "code",
   "execution_count": null,
   "outputs": [],
   "source": [
    "prediction = model.predict(int)"
   ],
   "metadata": {
    "collapsed": false
   }
  },
  {
   "cell_type": "markdown",
   "source": [
    "Посчитаем только auc, так как lightFm не поддерживает log loss"
   ],
   "metadata": {
    "collapsed": false
   }
  },
  {
   "cell_type": "code",
   "execution_count": 12,
   "outputs": [
    {
     "name": "stdout",
     "output_type": "stream",
     "text": [
      "Auc: 0.4673304557800293\n"
     ]
    }
   ],
   "source": [
    "test_model(model, user_item_test, user_feat_test, item_feat_test)"
   ],
   "metadata": {
    "collapsed": false
   }
  },
  {
   "cell_type": "code",
   "execution_count": null,
   "outputs": [],
   "source": [],
   "metadata": {
    "collapsed": false
   }
  }
 ],
 "metadata": {
  "kernelspec": {
   "display_name": "Python 3",
   "language": "python",
   "name": "python3"
  },
  "language_info": {
   "codemirror_mode": {
    "name": "ipython",
    "version": 2
   },
   "file_extension": ".py",
   "mimetype": "text/x-python",
   "name": "python",
   "nbconvert_exporter": "python",
   "pygments_lexer": "ipython2",
   "version": "2.7.6"
  }
 },
 "nbformat": 4,
 "nbformat_minor": 0
}
