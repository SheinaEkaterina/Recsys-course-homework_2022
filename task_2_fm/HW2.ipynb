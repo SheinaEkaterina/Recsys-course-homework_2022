{
 "cells": [
  {
   "cell_type": "code",
   "execution_count": 1,
   "id": "7ad09f05",
   "metadata": {
    "execution": {
     "iopub.execute_input": "2022-11-28T04:55:16.393491Z",
     "iopub.status.busy": "2022-11-28T04:55:16.393090Z",
     "iopub.status.idle": "2022-11-28T04:56:19.844317Z",
     "shell.execute_reply": "2022-11-28T04:56:19.843332Z"
    },
    "papermill": {
     "duration": 63.463291,
     "end_time": "2022-11-28T04:56:19.846639",
     "exception": false,
     "start_time": "2022-11-28T04:55:16.383348",
     "status": "completed"
    },
    "tags": []
   },
   "outputs": [
    {
     "name": "stdout",
     "output_type": "stream",
     "text": [
      "\u001b[33mWARNING: Running pip as the 'root' user can result in broken permissions and conflicting behaviour with the system package manager. It is recommended to use a virtual environment instead: https://pip.pypa.io/warnings/venv\u001b[0m\u001b[33m\r\n",
      "\u001b[0m"
     ]
    }
   ],
   "source": [
    "!pip install xlearn -q"
   ]
  },
  {
   "cell_type": "code",
   "execution_count": 2,
   "id": "70ae2eb4",
   "metadata": {
    "_cell_guid": "b1076dfc-b9ad-4769-8c92-a6c4dae69d19",
    "_uuid": "8f2839f25d086af736a60e9eeb907d3b93b6e0e5",
    "execution": {
     "iopub.execute_input": "2022-11-28T04:56:19.862813Z",
     "iopub.status.busy": "2022-11-28T04:56:19.862427Z",
     "iopub.status.idle": "2022-11-28T04:56:21.127722Z",
     "shell.execute_reply": "2022-11-28T04:56:21.126311Z"
    },
    "papermill": {
     "duration": 1.276349,
     "end_time": "2022-11-28T04:56:21.130285",
     "exception": false,
     "start_time": "2022-11-28T04:56:19.853936",
     "status": "completed"
    },
    "tags": []
   },
   "outputs": [],
   "source": [
    "from tqdm import tqdm\n",
    "from sklearn.preprocessing import OneHotEncoder, StandardScaler\n",
    "import pandas as pd\n",
    "import matplotlib.pyplot as plt \n",
    "from fastprogress.fastprogress import progress_bar\n",
    "import numpy as np\n",
    "from sklearn.model_selection import train_test_split\n",
    "import warnings\n",
    "import seaborn as sns\n",
    "import datetime as dt\n",
    "import os\n",
    "import xlearn as xl\n",
    "\n",
    "%matplotlib inline\n",
    "warnings.filterwarnings('ignore')\n",
    "os.environ['USER'] = 'xlearn'"
   ]
  },
  {
   "cell_type": "code",
   "execution_count": 3,
   "id": "5d0ad0be",
   "metadata": {
    "execution": {
     "iopub.execute_input": "2022-11-28T04:56:21.146529Z",
     "iopub.status.busy": "2022-11-28T04:56:21.145900Z",
     "iopub.status.idle": "2022-11-28T04:56:21.151451Z",
     "shell.execute_reply": "2022-11-28T04:56:21.150312Z"
    },
    "papermill": {
     "duration": 0.016731,
     "end_time": "2022-11-28T04:56:21.154231",
     "exception": false,
     "start_time": "2022-11-28T04:56:21.137500",
     "status": "completed"
    },
    "tags": []
   },
   "outputs": [],
   "source": [
    "path_to_data = '../input/recsys/data.csv'"
   ]
  },
  {
   "cell_type": "code",
   "execution_count": 4,
   "id": "8c39d585",
   "metadata": {
    "execution": {
     "iopub.execute_input": "2022-11-28T04:56:21.170348Z",
     "iopub.status.busy": "2022-11-28T04:56:21.169987Z",
     "iopub.status.idle": "2022-11-28T04:57:19.193728Z",
     "shell.execute_reply": "2022-11-28T04:57:19.192128Z"
    },
    "papermill": {
     "duration": 58.042726,
     "end_time": "2022-11-28T04:57:19.204163",
     "exception": false,
     "start_time": "2022-11-28T04:56:21.161437",
     "status": "completed"
    },
    "tags": []
   },
   "outputs": [
    {
     "data": {
      "text/html": [
       "<div>\n",
       "<style scoped>\n",
       "    .dataframe tbody tr th:only-of-type {\n",
       "        vertical-align: middle;\n",
       "    }\n",
       "\n",
       "    .dataframe tbody tr th {\n",
       "        vertical-align: top;\n",
       "    }\n",
       "\n",
       "    .dataframe thead th {\n",
       "        text-align: right;\n",
       "    }\n",
       "</style>\n",
       "<table border=\"1\" class=\"dataframe\">\n",
       "  <thead>\n",
       "    <tr style=\"text-align: right;\">\n",
       "      <th></th>\n",
       "      <th>date_time</th>\n",
       "      <th>zone_id</th>\n",
       "      <th>banner_id</th>\n",
       "      <th>oaid_hash</th>\n",
       "      <th>campaign_clicks</th>\n",
       "      <th>os_id</th>\n",
       "      <th>country_id</th>\n",
       "      <th>banner_id0</th>\n",
       "      <th>rate0</th>\n",
       "      <th>g0</th>\n",
       "      <th>coeff_sum0</th>\n",
       "      <th>banner_id1</th>\n",
       "      <th>rate1</th>\n",
       "      <th>g1</th>\n",
       "      <th>coeff_sum1</th>\n",
       "      <th>impressions</th>\n",
       "      <th>clicks</th>\n",
       "    </tr>\n",
       "  </thead>\n",
       "  <tbody>\n",
       "    <tr>\n",
       "      <th>0</th>\n",
       "      <td>2021-09-27 00:01:30.000000</td>\n",
       "      <td>0</td>\n",
       "      <td>0</td>\n",
       "      <td>5664530014561852622</td>\n",
       "      <td>0</td>\n",
       "      <td>0</td>\n",
       "      <td>0</td>\n",
       "      <td>1240</td>\n",
       "      <td>0.067</td>\n",
       "      <td>0.035016</td>\n",
       "      <td>-7.268846</td>\n",
       "      <td>0</td>\n",
       "      <td>0.010</td>\n",
       "      <td>0.049516</td>\n",
       "      <td>-5.369901</td>\n",
       "      <td>1</td>\n",
       "      <td>1</td>\n",
       "    </tr>\n",
       "    <tr>\n",
       "      <th>1</th>\n",
       "      <td>2021-09-26 22:54:49.000000</td>\n",
       "      <td>1</td>\n",
       "      <td>1</td>\n",
       "      <td>5186611064559013950</td>\n",
       "      <td>0</td>\n",
       "      <td>0</td>\n",
       "      <td>1</td>\n",
       "      <td>1</td>\n",
       "      <td>0.002</td>\n",
       "      <td>0.054298</td>\n",
       "      <td>-2.657477</td>\n",
       "      <td>269</td>\n",
       "      <td>0.004</td>\n",
       "      <td>0.031942</td>\n",
       "      <td>-4.449220</td>\n",
       "      <td>1</td>\n",
       "      <td>1</td>\n",
       "    </tr>\n",
       "    <tr>\n",
       "      <th>2</th>\n",
       "      <td>2021-09-26 23:57:20.000000</td>\n",
       "      <td>2</td>\n",
       "      <td>2</td>\n",
       "      <td>2215519569292448030</td>\n",
       "      <td>3</td>\n",
       "      <td>0</td>\n",
       "      <td>0</td>\n",
       "      <td>2</td>\n",
       "      <td>0.014</td>\n",
       "      <td>0.014096</td>\n",
       "      <td>-3.824875</td>\n",
       "      <td>21</td>\n",
       "      <td>0.014</td>\n",
       "      <td>0.014906</td>\n",
       "      <td>-3.939309</td>\n",
       "      <td>1</td>\n",
       "      <td>1</td>\n",
       "    </tr>\n",
       "    <tr>\n",
       "      <th>3</th>\n",
       "      <td>2021-09-27 00:04:30.000000</td>\n",
       "      <td>3</td>\n",
       "      <td>3</td>\n",
       "      <td>6262169206735077204</td>\n",
       "      <td>0</td>\n",
       "      <td>1</td>\n",
       "      <td>1</td>\n",
       "      <td>3</td>\n",
       "      <td>0.012</td>\n",
       "      <td>0.015232</td>\n",
       "      <td>-3.461357</td>\n",
       "      <td>99</td>\n",
       "      <td>0.006</td>\n",
       "      <td>0.050671</td>\n",
       "      <td>-3.418403</td>\n",
       "      <td>1</td>\n",
       "      <td>1</td>\n",
       "    </tr>\n",
       "    <tr>\n",
       "      <th>4</th>\n",
       "      <td>2021-09-27 00:06:21.000000</td>\n",
       "      <td>4</td>\n",
       "      <td>4</td>\n",
       "      <td>4778985830203613115</td>\n",
       "      <td>0</td>\n",
       "      <td>1</td>\n",
       "      <td>0</td>\n",
       "      <td>4</td>\n",
       "      <td>0.019</td>\n",
       "      <td>0.051265</td>\n",
       "      <td>-4.009026</td>\n",
       "      <td>11464230</td>\n",
       "      <td>6.790</td>\n",
       "      <td>0.032005</td>\n",
       "      <td>-2.828797</td>\n",
       "      <td>1</td>\n",
       "      <td>1</td>\n",
       "    </tr>\n",
       "  </tbody>\n",
       "</table>\n",
       "</div>"
      ],
      "text/plain": [
       "                    date_time  zone_id  banner_id            oaid_hash  \\\n",
       "0  2021-09-27 00:01:30.000000        0          0  5664530014561852622   \n",
       "1  2021-09-26 22:54:49.000000        1          1  5186611064559013950   \n",
       "2  2021-09-26 23:57:20.000000        2          2  2215519569292448030   \n",
       "3  2021-09-27 00:04:30.000000        3          3  6262169206735077204   \n",
       "4  2021-09-27 00:06:21.000000        4          4  4778985830203613115   \n",
       "\n",
       "   campaign_clicks  os_id  country_id  banner_id0  rate0        g0  \\\n",
       "0                0      0           0        1240  0.067  0.035016   \n",
       "1                0      0           1           1  0.002  0.054298   \n",
       "2                3      0           0           2  0.014  0.014096   \n",
       "3                0      1           1           3  0.012  0.015232   \n",
       "4                0      1           0           4  0.019  0.051265   \n",
       "\n",
       "   coeff_sum0  banner_id1  rate1        g1  coeff_sum1  impressions  clicks  \n",
       "0   -7.268846           0  0.010  0.049516   -5.369901            1       1  \n",
       "1   -2.657477         269  0.004  0.031942   -4.449220            1       1  \n",
       "2   -3.824875          21  0.014  0.014906   -3.939309            1       1  \n",
       "3   -3.461357          99  0.006  0.050671   -3.418403            1       1  \n",
       "4   -4.009026    11464230  6.790  0.032005   -2.828797            1       1  "
      ]
     },
     "execution_count": 4,
     "metadata": {},
     "output_type": "execute_result"
    }
   ],
   "source": [
    "data = pd.read_csv(path_to_data)\n",
    "data.head()"
   ]
  },
  {
   "cell_type": "code",
   "execution_count": 5,
   "id": "be93aa50",
   "metadata": {
    "execution": {
     "iopub.execute_input": "2022-11-28T04:57:19.220926Z",
     "iopub.status.busy": "2022-11-28T04:57:19.220526Z",
     "iopub.status.idle": "2022-11-28T04:57:25.714069Z",
     "shell.execute_reply": "2022-11-28T04:57:25.712189Z"
    },
    "papermill": {
     "duration": 6.504812,
     "end_time": "2022-11-28T04:57:25.716802",
     "exception": false,
     "start_time": "2022-11-28T04:57:19.211990",
     "status": "completed"
    },
    "tags": []
   },
   "outputs": [
    {
     "data": {
      "text/html": [
       "<div>\n",
       "<style scoped>\n",
       "    .dataframe tbody tr th:only-of-type {\n",
       "        vertical-align: middle;\n",
       "    }\n",
       "\n",
       "    .dataframe tbody tr th {\n",
       "        vertical-align: top;\n",
       "    }\n",
       "\n",
       "    .dataframe thead th {\n",
       "        text-align: right;\n",
       "    }\n",
       "</style>\n",
       "<table border=\"1\" class=\"dataframe\">\n",
       "  <thead>\n",
       "    <tr style=\"text-align: right;\">\n",
       "      <th></th>\n",
       "      <th>zone_id</th>\n",
       "      <th>banner_id</th>\n",
       "      <th>oaid_hash</th>\n",
       "      <th>campaign_clicks</th>\n",
       "      <th>os_id</th>\n",
       "      <th>country_id</th>\n",
       "      <th>banner_id0</th>\n",
       "      <th>rate0</th>\n",
       "      <th>g0</th>\n",
       "      <th>coeff_sum0</th>\n",
       "      <th>banner_id1</th>\n",
       "      <th>rate1</th>\n",
       "      <th>g1</th>\n",
       "      <th>coeff_sum1</th>\n",
       "      <th>impressions</th>\n",
       "      <th>clicks</th>\n",
       "    </tr>\n",
       "  </thead>\n",
       "  <tbody>\n",
       "    <tr>\n",
       "      <th>count</th>\n",
       "      <td>1.582147e+07</td>\n",
       "      <td>1.582147e+07</td>\n",
       "      <td>1.582147e+07</td>\n",
       "      <td>1.582147e+07</td>\n",
       "      <td>1.582147e+07</td>\n",
       "      <td>1.582147e+07</td>\n",
       "      <td>1.582147e+07</td>\n",
       "      <td>1.582140e+07</td>\n",
       "      <td>1.582140e+07</td>\n",
       "      <td>1.582140e+07</td>\n",
       "      <td>1.582147e+07</td>\n",
       "      <td>1.580173e+07</td>\n",
       "      <td>1.580173e+07</td>\n",
       "      <td>1.580173e+07</td>\n",
       "      <td>15821472.0</td>\n",
       "      <td>1.582147e+07</td>\n",
       "    </tr>\n",
       "    <tr>\n",
       "      <th>mean</th>\n",
       "      <td>8.152679e+01</td>\n",
       "      <td>3.816483e+02</td>\n",
       "      <td>4.610505e+18</td>\n",
       "      <td>6.238540e-01</td>\n",
       "      <td>1.840605e+00</td>\n",
       "      <td>4.346986e+00</td>\n",
       "      <td>6.571314e+05</td>\n",
       "      <td>1.969248e-01</td>\n",
       "      <td>7.440764e-01</td>\n",
       "      <td>-3.979590e+00</td>\n",
       "      <td>2.605069e+06</td>\n",
       "      <td>1.415899e+00</td>\n",
       "      <td>5.485722e-01</td>\n",
       "      <td>-3.968883e+00</td>\n",
       "      <td>1.0</td>\n",
       "      <td>2.668835e-02</td>\n",
       "    </tr>\n",
       "    <tr>\n",
       "      <th>std</th>\n",
       "      <td>1.632448e+02</td>\n",
       "      <td>3.959386e+02</td>\n",
       "      <td>2.663858e+18</td>\n",
       "      <td>9.249152e+00</td>\n",
       "      <td>1.530005e+00</td>\n",
       "      <td>4.317701e+00</td>\n",
       "      <td>2.606008e+06</td>\n",
       "      <td>2.733440e+00</td>\n",
       "      <td>1.670358e+01</td>\n",
       "      <td>1.143982e+00</td>\n",
       "      <td>5.230253e+06</td>\n",
       "      <td>8.689053e+00</td>\n",
       "      <td>1.419136e+01</td>\n",
       "      <td>1.186403e+00</td>\n",
       "      <td>0.0</td>\n",
       "      <td>1.611710e-01</td>\n",
       "    </tr>\n",
       "    <tr>\n",
       "      <th>min</th>\n",
       "      <td>0.000000e+00</td>\n",
       "      <td>0.000000e+00</td>\n",
       "      <td>1.116911e+12</td>\n",
       "      <td>0.000000e+00</td>\n",
       "      <td>0.000000e+00</td>\n",
       "      <td>0.000000e+00</td>\n",
       "      <td>0.000000e+00</td>\n",
       "      <td>0.000000e+00</td>\n",
       "      <td>-1.763740e-02</td>\n",
       "      <td>-8.588970e+00</td>\n",
       "      <td>0.000000e+00</td>\n",
       "      <td>0.000000e+00</td>\n",
       "      <td>-6.983897e-02</td>\n",
       "      <td>-9.562188e+00</td>\n",
       "      <td>1.0</td>\n",
       "      <td>0.000000e+00</td>\n",
       "    </tr>\n",
       "    <tr>\n",
       "      <th>25%</th>\n",
       "      <td>1.400000e+01</td>\n",
       "      <td>5.200000e+01</td>\n",
       "      <td>2.297977e+18</td>\n",
       "      <td>0.000000e+00</td>\n",
       "      <td>1.000000e+00</td>\n",
       "      <td>0.000000e+00</td>\n",
       "      <td>7.300000e+01</td>\n",
       "      <td>5.000000e-03</td>\n",
       "      <td>1.643856e-02</td>\n",
       "      <td>-4.515871e+00</td>\n",
       "      <td>9.900000e+01</td>\n",
       "      <td>4.000000e-03</td>\n",
       "      <td>1.615219e-02</td>\n",
       "      <td>-4.529519e+00</td>\n",
       "      <td>1.0</td>\n",
       "      <td>0.000000e+00</td>\n",
       "    </tr>\n",
       "    <tr>\n",
       "      <th>50%</th>\n",
       "      <td>1.900000e+01</td>\n",
       "      <td>2.170000e+02</td>\n",
       "      <td>4.614236e+18</td>\n",
       "      <td>0.000000e+00</td>\n",
       "      <td>2.000000e+00</td>\n",
       "      <td>4.000000e+00</td>\n",
       "      <td>3.030000e+02</td>\n",
       "      <td>1.000000e-02</td>\n",
       "      <td>3.539307e-02</td>\n",
       "      <td>-3.921164e+00</td>\n",
       "      <td>4.600000e+02</td>\n",
       "      <td>1.400000e-02</td>\n",
       "      <td>3.556666e-02</td>\n",
       "      <td>-3.928674e+00</td>\n",
       "      <td>1.0</td>\n",
       "      <td>0.000000e+00</td>\n",
       "    </tr>\n",
       "    <tr>\n",
       "      <th>75%</th>\n",
       "      <td>6.000000e+01</td>\n",
       "      <td>6.110000e+02</td>\n",
       "      <td>6.914243e+18</td>\n",
       "      <td>0.000000e+00</td>\n",
       "      <td>3.000000e+00</td>\n",
       "      <td>7.000000e+00</td>\n",
       "      <td>7.200000e+02</td>\n",
       "      <td>3.000000e-02</td>\n",
       "      <td>8.022935e-02</td>\n",
       "      <td>-3.421280e+00</td>\n",
       "      <td>1.236000e+03</td>\n",
       "      <td>5.000000e-02</td>\n",
       "      <td>7.546751e-02</td>\n",
       "      <td>-3.390867e+00</td>\n",
       "      <td>1.0</td>\n",
       "      <td>0.000000e+00</td>\n",
       "    </tr>\n",
       "    <tr>\n",
       "      <th>max</th>\n",
       "      <td>3.443000e+03</td>\n",
       "      <td>1.632000e+03</td>\n",
       "      <td>9.223371e+18</td>\n",
       "      <td>8.290000e+02</td>\n",
       "      <td>1.000000e+01</td>\n",
       "      <td>1.600000e+01</td>\n",
       "      <td>1.146423e+07</td>\n",
       "      <td>1.000000e+02</td>\n",
       "      <td>6.910888e+02</td>\n",
       "      <td>3.149981e-01</td>\n",
       "      <td>1.462360e+07</td>\n",
       "      <td>1.000000e+02</td>\n",
       "      <td>6.910885e+02</td>\n",
       "      <td>4.756181e-01</td>\n",
       "      <td>1.0</td>\n",
       "      <td>1.000000e+00</td>\n",
       "    </tr>\n",
       "  </tbody>\n",
       "</table>\n",
       "</div>"
      ],
      "text/plain": [
       "            zone_id     banner_id     oaid_hash  campaign_clicks  \\\n",
       "count  1.582147e+07  1.582147e+07  1.582147e+07     1.582147e+07   \n",
       "mean   8.152679e+01  3.816483e+02  4.610505e+18     6.238540e-01   \n",
       "std    1.632448e+02  3.959386e+02  2.663858e+18     9.249152e+00   \n",
       "min    0.000000e+00  0.000000e+00  1.116911e+12     0.000000e+00   \n",
       "25%    1.400000e+01  5.200000e+01  2.297977e+18     0.000000e+00   \n",
       "50%    1.900000e+01  2.170000e+02  4.614236e+18     0.000000e+00   \n",
       "75%    6.000000e+01  6.110000e+02  6.914243e+18     0.000000e+00   \n",
       "max    3.443000e+03  1.632000e+03  9.223371e+18     8.290000e+02   \n",
       "\n",
       "              os_id    country_id    banner_id0         rate0            g0  \\\n",
       "count  1.582147e+07  1.582147e+07  1.582147e+07  1.582140e+07  1.582140e+07   \n",
       "mean   1.840605e+00  4.346986e+00  6.571314e+05  1.969248e-01  7.440764e-01   \n",
       "std    1.530005e+00  4.317701e+00  2.606008e+06  2.733440e+00  1.670358e+01   \n",
       "min    0.000000e+00  0.000000e+00  0.000000e+00  0.000000e+00 -1.763740e-02   \n",
       "25%    1.000000e+00  0.000000e+00  7.300000e+01  5.000000e-03  1.643856e-02   \n",
       "50%    2.000000e+00  4.000000e+00  3.030000e+02  1.000000e-02  3.539307e-02   \n",
       "75%    3.000000e+00  7.000000e+00  7.200000e+02  3.000000e-02  8.022935e-02   \n",
       "max    1.000000e+01  1.600000e+01  1.146423e+07  1.000000e+02  6.910888e+02   \n",
       "\n",
       "         coeff_sum0    banner_id1         rate1            g1    coeff_sum1  \\\n",
       "count  1.582140e+07  1.582147e+07  1.580173e+07  1.580173e+07  1.580173e+07   \n",
       "mean  -3.979590e+00  2.605069e+06  1.415899e+00  5.485722e-01 -3.968883e+00   \n",
       "std    1.143982e+00  5.230253e+06  8.689053e+00  1.419136e+01  1.186403e+00   \n",
       "min   -8.588970e+00  0.000000e+00  0.000000e+00 -6.983897e-02 -9.562188e+00   \n",
       "25%   -4.515871e+00  9.900000e+01  4.000000e-03  1.615219e-02 -4.529519e+00   \n",
       "50%   -3.921164e+00  4.600000e+02  1.400000e-02  3.556666e-02 -3.928674e+00   \n",
       "75%   -3.421280e+00  1.236000e+03  5.000000e-02  7.546751e-02 -3.390867e+00   \n",
       "max    3.149981e-01  1.462360e+07  1.000000e+02  6.910885e+02  4.756181e-01   \n",
       "\n",
       "       impressions        clicks  \n",
       "count   15821472.0  1.582147e+07  \n",
       "mean           1.0  2.668835e-02  \n",
       "std            0.0  1.611710e-01  \n",
       "min            1.0  0.000000e+00  \n",
       "25%            1.0  0.000000e+00  \n",
       "50%            1.0  0.000000e+00  \n",
       "75%            1.0  0.000000e+00  \n",
       "max            1.0  1.000000e+00  "
      ]
     },
     "execution_count": 5,
     "metadata": {},
     "output_type": "execute_result"
    }
   ],
   "source": [
    "data.describe()"
   ]
  },
  {
   "cell_type": "markdown",
   "id": "e4f257a2",
   "metadata": {
    "papermill": {
     "duration": 0.007738,
     "end_time": "2022-11-28T04:57:25.732512",
     "exception": false,
     "start_time": "2022-11-28T04:57:25.724774",
     "status": "completed"
    },
    "tags": []
   },
   "source": [
    "### EDA\n",
    "\n",
    "Удалим ненужные признаки, также избавимся от `imressions`, т.к. он не несет в себе никакой информации, далее выполним анализ, аналогично ДЗ 1"
   ]
  },
  {
   "cell_type": "code",
   "execution_count": 6,
   "id": "4c7c54e0",
   "metadata": {
    "execution": {
     "iopub.execute_input": "2022-11-28T04:57:25.749596Z",
     "iopub.status.busy": "2022-11-28T04:57:25.749243Z",
     "iopub.status.idle": "2022-11-28T04:57:25.754890Z",
     "shell.execute_reply": "2022-11-28T04:57:25.753786Z"
    },
    "papermill": {
     "duration": 0.016887,
     "end_time": "2022-11-28T04:57:25.757367",
     "exception": false,
     "start_time": "2022-11-28T04:57:25.740480",
     "status": "completed"
    },
    "tags": []
   },
   "outputs": [],
   "source": [
    "def drop_unnecessary_data(data: pd.DataFrame) -> pd.DataFrame:\n",
    "    return data.drop(['banner_id0', 'banner_id1', \n",
    "                      'rate0', 'rate1', 'g0', 'g1',\n",
    "                      'coeff_sum0', 'coeff_sum1', 'impressions'], axis=1)"
   ]
  },
  {
   "cell_type": "code",
   "execution_count": 7,
   "id": "ad40d111",
   "metadata": {
    "execution": {
     "iopub.execute_input": "2022-11-28T04:57:25.775085Z",
     "iopub.status.busy": "2022-11-28T04:57:25.774424Z",
     "iopub.status.idle": "2022-11-28T04:57:25.779574Z",
     "shell.execute_reply": "2022-11-28T04:57:25.778224Z"
    },
    "papermill": {
     "duration": 0.017079,
     "end_time": "2022-11-28T04:57:25.782337",
     "exception": false,
     "start_time": "2022-11-28T04:57:25.765258",
     "status": "completed"
    },
    "tags": []
   },
   "outputs": [],
   "source": [
    "def clean_data(data: pd.DataFrame) -> pd.DataFrame:\n",
    "    cleaned_data = drop_unnecessary_data(data)\n",
    "    cleaned_data.date_time = pd.to_datetime(cleaned_data.date_time)\n",
    "    return cleaned_data"
   ]
  },
  {
   "cell_type": "code",
   "execution_count": 8,
   "id": "15699bc1",
   "metadata": {
    "execution": {
     "iopub.execute_input": "2022-11-28T04:57:25.799606Z",
     "iopub.status.busy": "2022-11-28T04:57:25.799257Z",
     "iopub.status.idle": "2022-11-28T04:57:25.804050Z",
     "shell.execute_reply": "2022-11-28T04:57:25.803199Z"
    },
    "papermill": {
     "duration": 0.015619,
     "end_time": "2022-11-28T04:57:25.805853",
     "exception": false,
     "start_time": "2022-11-28T04:57:25.790234",
     "status": "completed"
    },
    "tags": []
   },
   "outputs": [],
   "source": [
    "def plot_heat_map(data: pd.DataFrame):\n",
    "    plt.figure(figsize=(10,7))\n",
    "    cor = data.corr()\n",
    "    sns.heatmap(cor, annot=True)\n",
    "    plt.show()"
   ]
  },
  {
   "cell_type": "code",
   "execution_count": 9,
   "id": "d0a6eab4",
   "metadata": {
    "execution": {
     "iopub.execute_input": "2022-11-28T04:57:25.823503Z",
     "iopub.status.busy": "2022-11-28T04:57:25.822192Z",
     "iopub.status.idle": "2022-11-28T04:57:25.828320Z",
     "shell.execute_reply": "2022-11-28T04:57:25.827391Z"
    },
    "papermill": {
     "duration": 0.01712,
     "end_time": "2022-11-28T04:57:25.830766",
     "exception": false,
     "start_time": "2022-11-28T04:57:25.813646",
     "status": "completed"
    },
    "tags": []
   },
   "outputs": [],
   "source": [
    "def analysis(data: pd.DataFrame):\n",
    "    cleaned_data = clean_data(data)\n",
    "    print(f'Размер датасета: {cleaned_data.shape}')\n",
    "    print(f'NaN значений в датасете: {cleaned_data.isna().values.sum()}')\n",
    "    print(f'Уникальных значений в столбцах: \\n{cleaned_data.nunique()}')\n",
    "    plot_features(cleaned_data.iloc[:, 1:])\n",
    "    print(f'Матрица корреляции: ')\n",
    "    plot_heat_map(cleaned_data)"
   ]
  },
  {
   "cell_type": "code",
   "execution_count": 10,
   "id": "44fe5375",
   "metadata": {
    "execution": {
     "iopub.execute_input": "2022-11-28T04:57:25.848394Z",
     "iopub.status.busy": "2022-11-28T04:57:25.847812Z",
     "iopub.status.idle": "2022-11-28T04:57:25.854001Z",
     "shell.execute_reply": "2022-11-28T04:57:25.852902Z"
    },
    "papermill": {
     "duration": 0.017449,
     "end_time": "2022-11-28T04:57:25.856078",
     "exception": false,
     "start_time": "2022-11-28T04:57:25.838629",
     "status": "completed"
    },
    "tags": []
   },
   "outputs": [],
   "source": [
    "def plot_features(features: pd.DataFrame):\n",
    "    fig, axs = plt.subplots(features.shape[1] // 2 + features.shape[1] % 2, 2, figsize=(12,9))\n",
    "    for i in tqdm(range(features.shape[1])):\n",
    "        axs[i // 2, i % 2].hist(features.iloc[:, i])\n",
    "        axs[i // 2, i % 2].set_title(str(features.columns[i]))\n",
    "    plt.tight_layout()\n",
    "    plt.show()"
   ]
  },
  {
   "cell_type": "code",
   "execution_count": 11,
   "id": "9921a5fe",
   "metadata": {
    "execution": {
     "iopub.execute_input": "2022-11-28T04:57:25.873538Z",
     "iopub.status.busy": "2022-11-28T04:57:25.872951Z",
     "iopub.status.idle": "2022-11-28T04:57:28.765558Z",
     "shell.execute_reply": "2022-11-28T04:57:28.764618Z"
    },
    "papermill": {
     "duration": 2.904217,
     "end_time": "2022-11-28T04:57:28.768102",
     "exception": false,
     "start_time": "2022-11-28T04:57:25.863885",
     "status": "completed"
    },
    "tags": []
   },
   "outputs": [],
   "source": [
    "cleaned_data = clean_data(data)"
   ]
  },
  {
   "cell_type": "code",
   "execution_count": 12,
   "id": "34427212",
   "metadata": {
    "execution": {
     "iopub.execute_input": "2022-11-28T04:57:28.785255Z",
     "iopub.status.busy": "2022-11-28T04:57:28.784898Z",
     "iopub.status.idle": "2022-11-28T04:57:39.259208Z",
     "shell.execute_reply": "2022-11-28T04:57:39.257924Z"
    },
    "papermill": {
     "duration": 10.485357,
     "end_time": "2022-11-28T04:57:39.261496",
     "exception": false,
     "start_time": "2022-11-28T04:57:28.776139",
     "status": "completed"
    },
    "tags": []
   },
   "outputs": [
    {
     "name": "stdout",
     "output_type": "stream",
     "text": [
      "Размер датасета: (15821472, 8)\n",
      "NaN значений в датасете: 0\n",
      "Уникальных значений в столбцах: \n",
      "date_time           604712\n",
      "zone_id               3444\n",
      "banner_id             1633\n",
      "oaid_hash          6510316\n",
      "campaign_clicks        822\n",
      "os_id                   11\n",
      "country_id              17\n",
      "clicks                   2\n",
      "dtype: int64\n"
     ]
    },
    {
     "name": "stderr",
     "output_type": "stream",
     "text": [
      "100%|██████████| 7/7 [00:01<00:00,  4.45it/s]\n"
     ]
    },
    {
     "data": {
      "image/png": "[encoded data removed]",
      "text/plain": [
       "<Figure size 864x648 with 8 Axes>"
      ]
     },
     "metadata": {
      "needs_background": "light"
     },
     "output_type": "display_data"
    },
    {
     "name": "stdout",
     "output_type": "stream",
     "text": [
      "Матрица корреляции: \n"
     ]
    },
    {
     "data": {
      "image/png": "[encoded data removed]",
      "text/plain": [
       "<Figure size 720x504 with 2 Axes>"
      ]
     },
     "metadata": {
      "needs_background": "light"
     },
     "output_type": "display_data"
    }
   ],
   "source": [
    "analysis(data)"
   ]
  },
  {
   "cell_type": "markdown",
   "id": "ea708995",
   "metadata": {
    "papermill": {
     "duration": 0.00979,
     "end_time": "2022-11-28T04:57:39.281326",
     "exception": false,
     "start_time": "2022-11-28T04:57:39.271536",
     "status": "completed"
    },
    "tags": []
   },
   "source": [
    "В целом, т.к. у нас добавился лишь один признак - `oaid_hash` (который несет в себе информацию о хэше юзера), то мы можем сделать выводы, аналогичные первой работе\n",
    "\n"
   ]
  },
  {
   "cell_type": "code",
   "execution_count": 13,
   "id": "137024ca",
   "metadata": {
    "execution": {
     "iopub.execute_input": "2022-11-28T04:57:39.302510Z",
     "iopub.status.busy": "2022-11-28T04:57:39.302174Z",
     "iopub.status.idle": "2022-11-28T04:57:39.314597Z",
     "shell.execute_reply": "2022-11-28T04:57:39.313500Z"
    },
    "papermill": {
     "duration": 0.026082,
     "end_time": "2022-11-28T04:57:39.316902",
     "exception": false,
     "start_time": "2022-11-28T04:57:39.290820",
     "status": "completed"
    },
    "tags": []
   },
   "outputs": [
    {
     "data": {
      "text/html": [
       "<div>\n",
       "<style scoped>\n",
       "    .dataframe tbody tr th:only-of-type {\n",
       "        vertical-align: middle;\n",
       "    }\n",
       "\n",
       "    .dataframe tbody tr th {\n",
       "        vertical-align: top;\n",
       "    }\n",
       "\n",
       "    .dataframe thead th {\n",
       "        text-align: right;\n",
       "    }\n",
       "</style>\n",
       "<table border=\"1\" class=\"dataframe\">\n",
       "  <thead>\n",
       "    <tr style=\"text-align: right;\">\n",
       "      <th></th>\n",
       "      <th>date_time</th>\n",
       "      <th>zone_id</th>\n",
       "      <th>banner_id</th>\n",
       "      <th>oaid_hash</th>\n",
       "      <th>campaign_clicks</th>\n",
       "      <th>os_id</th>\n",
       "      <th>country_id</th>\n",
       "      <th>clicks</th>\n",
       "    </tr>\n",
       "  </thead>\n",
       "  <tbody>\n",
       "    <tr>\n",
       "      <th>0</th>\n",
       "      <td>2021-09-27 00:01:30</td>\n",
       "      <td>0</td>\n",
       "      <td>0</td>\n",
       "      <td>5664530014561852622</td>\n",
       "      <td>0</td>\n",
       "      <td>0</td>\n",
       "      <td>0</td>\n",
       "      <td>1</td>\n",
       "    </tr>\n",
       "    <tr>\n",
       "      <th>1</th>\n",
       "      <td>2021-09-26 22:54:49</td>\n",
       "      <td>1</td>\n",
       "      <td>1</td>\n",
       "      <td>5186611064559013950</td>\n",
       "      <td>0</td>\n",
       "      <td>0</td>\n",
       "      <td>1</td>\n",
       "      <td>1</td>\n",
       "    </tr>\n",
       "    <tr>\n",
       "      <th>2</th>\n",
       "      <td>2021-09-26 23:57:20</td>\n",
       "      <td>2</td>\n",
       "      <td>2</td>\n",
       "      <td>2215519569292448030</td>\n",
       "      <td>3</td>\n",
       "      <td>0</td>\n",
       "      <td>0</td>\n",
       "      <td>1</td>\n",
       "    </tr>\n",
       "    <tr>\n",
       "      <th>3</th>\n",
       "      <td>2021-09-27 00:04:30</td>\n",
       "      <td>3</td>\n",
       "      <td>3</td>\n",
       "      <td>6262169206735077204</td>\n",
       "      <td>0</td>\n",
       "      <td>1</td>\n",
       "      <td>1</td>\n",
       "      <td>1</td>\n",
       "    </tr>\n",
       "    <tr>\n",
       "      <th>4</th>\n",
       "      <td>2021-09-27 00:06:21</td>\n",
       "      <td>4</td>\n",
       "      <td>4</td>\n",
       "      <td>4778985830203613115</td>\n",
       "      <td>0</td>\n",
       "      <td>1</td>\n",
       "      <td>0</td>\n",
       "      <td>1</td>\n",
       "    </tr>\n",
       "  </tbody>\n",
       "</table>\n",
       "</div>"
      ],
      "text/plain": [
       "            date_time  zone_id  banner_id            oaid_hash  \\\n",
       "0 2021-09-27 00:01:30        0          0  5664530014561852622   \n",
       "1 2021-09-26 22:54:49        1          1  5186611064559013950   \n",
       "2 2021-09-26 23:57:20        2          2  2215519569292448030   \n",
       "3 2021-09-27 00:04:30        3          3  6262169206735077204   \n",
       "4 2021-09-27 00:06:21        4          4  4778985830203613115   \n",
       "\n",
       "   campaign_clicks  os_id  country_id  clicks  \n",
       "0                0      0           0       1  \n",
       "1                0      0           1       1  \n",
       "2                3      0           0       1  \n",
       "3                0      1           1       1  \n",
       "4                0      1           0       1  "
      ]
     },
     "execution_count": 13,
     "metadata": {},
     "output_type": "execute_result"
    }
   ],
   "source": [
    "cleaned_data.head()"
   ]
  },
  {
   "cell_type": "code",
   "execution_count": 14,
   "id": "30eee41d",
   "metadata": {
    "execution": {
     "iopub.execute_input": "2022-11-28T04:57:39.337147Z",
     "iopub.status.busy": "2022-11-28T04:57:39.336819Z",
     "iopub.status.idle": "2022-11-28T04:57:39.342186Z",
     "shell.execute_reply": "2022-11-28T04:57:39.340630Z"
    },
    "papermill": {
     "duration": 0.018191,
     "end_time": "2022-11-28T04:57:39.344425",
     "exception": false,
     "start_time": "2022-11-28T04:57:39.326234",
     "status": "completed"
    },
    "tags": []
   },
   "outputs": [],
   "source": [
    "val_size = 0.15"
   ]
  },
  {
   "cell_type": "code",
   "execution_count": 15,
   "id": "d28399c0",
   "metadata": {
    "execution": {
     "iopub.execute_input": "2022-11-28T04:57:39.364688Z",
     "iopub.status.busy": "2022-11-28T04:57:39.364358Z",
     "iopub.status.idle": "2022-11-28T04:57:39.371503Z",
     "shell.execute_reply": "2022-11-28T04:57:39.370185Z"
    },
    "papermill": {
     "duration": 0.02026,
     "end_time": "2022-11-28T04:57:39.374080",
     "exception": false,
     "start_time": "2022-11-28T04:57:39.353820",
     "status": "completed"
    },
    "tags": []
   },
   "outputs": [],
   "source": [
    "def train_test_val_split(data):\n",
    "    last_year = data.date_time.max().year\n",
    "    last_month = data.date_time.max().month\n",
    "    last_day = data.date_time.max().day\n",
    "    latest_data = pd.Timestamp(last_year, last_month, last_day)\n",
    "    test_data = data[data.date_time >= latest_data]\n",
    "    train_data = data[data.date_time < latest_data]\n",
    "    train_data = train_data.drop(columns=['date_time'])\n",
    "    test_data = test_data.drop(columns=['date_time'])\n",
    "    val_data = train_data.iloc[int((1 - val_size) * len(train_data)) : ]\n",
    "    train_data = train_data.iloc[ : int((1 - val_size) * len(train_data))]\n",
    "    return train_data, val_data, test_data"
   ]
  },
  {
   "cell_type": "code",
   "execution_count": 16,
   "id": "39802479",
   "metadata": {
    "execution": {
     "iopub.execute_input": "2022-11-28T04:57:39.395255Z",
     "iopub.status.busy": "2022-11-28T04:57:39.394821Z",
     "iopub.status.idle": "2022-11-28T04:57:39.402603Z",
     "shell.execute_reply": "2022-11-28T04:57:39.401070Z"
    },
    "papermill": {
     "duration": 0.021331,
     "end_time": "2022-11-28T04:57:39.405153",
     "exception": false,
     "start_time": "2022-11-28T04:57:39.383822",
     "status": "completed"
    },
    "tags": []
   },
   "outputs": [],
   "source": [
    "def feature_engineering(data):\n",
    "    scaler = StandardScaler()\n",
    "    data.campaign_clicks = scaler.fit_transform(data.campaign_clicks.to_frame())\n",
    "    data['zone_id'] = data['zone_id'].map(str)\n",
    "    data['country_id'] = data['country_id'].map(str)\n",
    "    data['banner_id'] = data['banner_id'].map(str)\n",
    "    data['os_id'] = data['os_id'].map(str)\n",
    "    data['oaid_hash'] = data['oaid_hash'].map(str)\n",
    "    data['clicks'] = data['clicks']\n",
    "    return train_test_val_split(data)"
   ]
  },
  {
   "cell_type": "code",
   "execution_count": 17,
   "id": "f0ef1437",
   "metadata": {
    "execution": {
     "iopub.execute_input": "2022-11-28T04:57:39.426128Z",
     "iopub.status.busy": "2022-11-28T04:57:39.425347Z",
     "iopub.status.idle": "2022-11-28T04:57:58.738754Z",
     "shell.execute_reply": "2022-11-28T04:57:58.737417Z"
    },
    "papermill": {
     "duration": 19.326027,
     "end_time": "2022-11-28T04:57:58.741097",
     "exception": false,
     "start_time": "2022-11-28T04:57:39.415070",
     "status": "completed"
    },
    "tags": []
   },
   "outputs": [
    {
     "name": "stdout",
     "output_type": "stream",
     "text": [
      "Train : (11638619, 7)\n",
      "Validation : (2053875, 7)\n",
      "Test : (2128978, 7)\n"
     ]
    }
   ],
   "source": [
    "all_data = feature_engineering(cleaned_data)\n",
    "train_data = all_data[0]\n",
    "val_data = all_data[1]\n",
    "test_data = all_data[2]\n",
    "print(f'Train : {train_data.shape}')\n",
    "print(f'Validation : {val_data.shape}')\n",
    "print(f'Test : {test_data.shape}')"
   ]
  },
  {
   "cell_type": "code",
   "execution_count": 18,
   "id": "c27aa859",
   "metadata": {
    "execution": {
     "iopub.execute_input": "2022-11-28T04:57:58.762662Z",
     "iopub.status.busy": "2022-11-28T04:57:58.761531Z",
     "iopub.status.idle": "2022-11-28T04:57:58.775093Z",
     "shell.execute_reply": "2022-11-28T04:57:58.773920Z"
    },
    "papermill": {
     "duration": 0.02634,
     "end_time": "2022-11-28T04:57:58.777063",
     "exception": false,
     "start_time": "2022-11-28T04:57:58.750723",
     "status": "completed"
    },
    "tags": []
   },
   "outputs": [
    {
     "data": {
      "text/html": [
       "<div>\n",
       "<style scoped>\n",
       "    .dataframe tbody tr th:only-of-type {\n",
       "        vertical-align: middle;\n",
       "    }\n",
       "\n",
       "    .dataframe tbody tr th {\n",
       "        vertical-align: top;\n",
       "    }\n",
       "\n",
       "    .dataframe thead th {\n",
       "        text-align: right;\n",
       "    }\n",
       "</style>\n",
       "<table border=\"1\" class=\"dataframe\">\n",
       "  <thead>\n",
       "    <tr style=\"text-align: right;\">\n",
       "      <th></th>\n",
       "      <th>zone_id</th>\n",
       "      <th>banner_id</th>\n",
       "      <th>oaid_hash</th>\n",
       "      <th>campaign_clicks</th>\n",
       "      <th>os_id</th>\n",
       "      <th>country_id</th>\n",
       "      <th>clicks</th>\n",
       "    </tr>\n",
       "  </thead>\n",
       "  <tbody>\n",
       "    <tr>\n",
       "      <th>13451042</th>\n",
       "      <td>133</td>\n",
       "      <td>465</td>\n",
       "      <td>1143585244764309153</td>\n",
       "      <td>-0.06745</td>\n",
       "      <td>2</td>\n",
       "      <td>5</td>\n",
       "      <td>0</td>\n",
       "    </tr>\n",
       "    <tr>\n",
       "      <th>13451043</th>\n",
       "      <td>19</td>\n",
       "      <td>946</td>\n",
       "      <td>4934163765402159102</td>\n",
       "      <td>-0.06745</td>\n",
       "      <td>0</td>\n",
       "      <td>3</td>\n",
       "      <td>0</td>\n",
       "    </tr>\n",
       "    <tr>\n",
       "      <th>13451044</th>\n",
       "      <td>1</td>\n",
       "      <td>188</td>\n",
       "      <td>8244126206353199924</td>\n",
       "      <td>-0.06745</td>\n",
       "      <td>2</td>\n",
       "      <td>15</td>\n",
       "      <td>0</td>\n",
       "    </tr>\n",
       "    <tr>\n",
       "      <th>13451045</th>\n",
       "      <td>17</td>\n",
       "      <td>617</td>\n",
       "      <td>850677064720759216</td>\n",
       "      <td>-0.06745</td>\n",
       "      <td>0</td>\n",
       "      <td>9</td>\n",
       "      <td>0</td>\n",
       "    </tr>\n",
       "    <tr>\n",
       "      <th>13451046</th>\n",
       "      <td>43</td>\n",
       "      <td>119</td>\n",
       "      <td>6549356529638895162</td>\n",
       "      <td>-0.06745</td>\n",
       "      <td>4</td>\n",
       "      <td>0</td>\n",
       "      <td>0</td>\n",
       "    </tr>\n",
       "  </tbody>\n",
       "</table>\n",
       "</div>"
      ],
      "text/plain": [
       "         zone_id banner_id            oaid_hash  campaign_clicks os_id  \\\n",
       "13451042     133       465  1143585244764309153         -0.06745     2   \n",
       "13451043      19       946  4934163765402159102         -0.06745     0   \n",
       "13451044       1       188  8244126206353199924         -0.06745     2   \n",
       "13451045      17       617   850677064720759216         -0.06745     0   \n",
       "13451046      43       119  6549356529638895162         -0.06745     4   \n",
       "\n",
       "         country_id  clicks  \n",
       "13451042          5       0  \n",
       "13451043          3       0  \n",
       "13451044         15       0  \n",
       "13451045          9       0  \n",
       "13451046          0       0  "
      ]
     },
     "execution_count": 18,
     "metadata": {},
     "output_type": "execute_result"
    }
   ],
   "source": [
    "val_data.head()"
   ]
  },
  {
   "cell_type": "code",
   "execution_count": 19,
   "id": "62060933",
   "metadata": {
    "execution": {
     "iopub.execute_input": "2022-11-28T04:57:58.799353Z",
     "iopub.status.busy": "2022-11-28T04:57:58.798886Z",
     "iopub.status.idle": "2022-11-28T04:57:58.811904Z",
     "shell.execute_reply": "2022-11-28T04:57:58.810990Z"
    },
    "papermill": {
     "duration": 0.02705,
     "end_time": "2022-11-28T04:57:58.813771",
     "exception": false,
     "start_time": "2022-11-28T04:57:58.786721",
     "status": "completed"
    },
    "tags": []
   },
   "outputs": [
    {
     "data": {
      "text/html": [
       "<div>\n",
       "<style scoped>\n",
       "    .dataframe tbody tr th:only-of-type {\n",
       "        vertical-align: middle;\n",
       "    }\n",
       "\n",
       "    .dataframe tbody tr th {\n",
       "        vertical-align: top;\n",
       "    }\n",
       "\n",
       "    .dataframe thead th {\n",
       "        text-align: right;\n",
       "    }\n",
       "</style>\n",
       "<table border=\"1\" class=\"dataframe\">\n",
       "  <thead>\n",
       "    <tr style=\"text-align: right;\">\n",
       "      <th></th>\n",
       "      <th>zone_id</th>\n",
       "      <th>banner_id</th>\n",
       "      <th>oaid_hash</th>\n",
       "      <th>campaign_clicks</th>\n",
       "      <th>os_id</th>\n",
       "      <th>country_id</th>\n",
       "      <th>clicks</th>\n",
       "    </tr>\n",
       "  </thead>\n",
       "  <tbody>\n",
       "    <tr>\n",
       "      <th>0</th>\n",
       "      <td>0</td>\n",
       "      <td>0</td>\n",
       "      <td>5664530014561852622</td>\n",
       "      <td>-0.067450</td>\n",
       "      <td>0</td>\n",
       "      <td>0</td>\n",
       "      <td>1</td>\n",
       "    </tr>\n",
       "    <tr>\n",
       "      <th>1</th>\n",
       "      <td>1</td>\n",
       "      <td>1</td>\n",
       "      <td>5186611064559013950</td>\n",
       "      <td>-0.067450</td>\n",
       "      <td>0</td>\n",
       "      <td>1</td>\n",
       "      <td>1</td>\n",
       "    </tr>\n",
       "    <tr>\n",
       "      <th>2</th>\n",
       "      <td>2</td>\n",
       "      <td>2</td>\n",
       "      <td>2215519569292448030</td>\n",
       "      <td>0.256904</td>\n",
       "      <td>0</td>\n",
       "      <td>0</td>\n",
       "      <td>1</td>\n",
       "    </tr>\n",
       "    <tr>\n",
       "      <th>3</th>\n",
       "      <td>3</td>\n",
       "      <td>3</td>\n",
       "      <td>6262169206735077204</td>\n",
       "      <td>-0.067450</td>\n",
       "      <td>1</td>\n",
       "      <td>1</td>\n",
       "      <td>1</td>\n",
       "    </tr>\n",
       "    <tr>\n",
       "      <th>4</th>\n",
       "      <td>4</td>\n",
       "      <td>4</td>\n",
       "      <td>4778985830203613115</td>\n",
       "      <td>-0.067450</td>\n",
       "      <td>1</td>\n",
       "      <td>0</td>\n",
       "      <td>1</td>\n",
       "    </tr>\n",
       "  </tbody>\n",
       "</table>\n",
       "</div>"
      ],
      "text/plain": [
       "  zone_id banner_id            oaid_hash  campaign_clicks os_id country_id  \\\n",
       "0       0         0  5664530014561852622        -0.067450     0          0   \n",
       "1       1         1  5186611064559013950        -0.067450     0          1   \n",
       "2       2         2  2215519569292448030         0.256904     0          0   \n",
       "3       3         3  6262169206735077204        -0.067450     1          1   \n",
       "4       4         4  4778985830203613115        -0.067450     1          0   \n",
       "\n",
       "   clicks  \n",
       "0       1  \n",
       "1       1  \n",
       "2       1  \n",
       "3       1  \n",
       "4       1  "
      ]
     },
     "execution_count": 19,
     "metadata": {},
     "output_type": "execute_result"
    }
   ],
   "source": [
    "train_data.head()"
   ]
  },
  {
   "cell_type": "markdown",
   "id": "1c5a4e4c",
   "metadata": {
    "papermill": {
     "duration": 0.009559,
     "end_time": "2022-11-28T04:57:58.833165",
     "exception": false,
     "start_time": "2022-11-28T04:57:58.823606",
     "status": "completed"
    },
    "tags": []
   },
   "source": [
    "### FFM"
   ]
  },
  {
   "cell_type": "markdown",
   "id": "329ff7c4",
   "metadata": {
    "papermill": {
     "duration": 0.009656,
     "end_time": "2022-11-28T04:57:58.852888",
     "exception": false,
     "start_time": "2022-11-28T04:57:58.843232",
     "status": "completed"
    },
    "tags": []
   },
   "source": [
    "Для использования Field-aware Factorization Machine (FFM) - надстройка над FM (в FM добавляется взаимодействие фичей к линейной части) используется особый формат данных, в котором должно быть, кроме значения фичи и таргета, еще и значение поля - \"тип\" (группа), к которой относится конкретная фича (пользователь, рекламодатель и т.д.)"
   ]
  },
  {
   "cell_type": "markdown",
   "id": "563867bc",
   "metadata": {
    "papermill": {
     "duration": 0.009421,
     "end_time": "2022-11-28T04:57:58.872266",
     "exception": false,
     "start_time": "2022-11-28T04:57:58.862845",
     "status": "completed"
    },
    "tags": []
   },
   "source": [
    "Имплементация перевода в формат libffm взята из https://www.kaggle.com/code/mpearmain/pandas-to-libffm, также будем использовать библиотеку `xlearn` для FFM"
   ]
  },
  {
   "cell_type": "code",
   "execution_count": 20,
   "id": "dadffd13",
   "metadata": {
    "execution": {
     "iopub.execute_input": "2022-11-28T04:57:58.893599Z",
     "iopub.status.busy": "2022-11-28T04:57:58.893270Z",
     "iopub.status.idle": "2022-11-28T04:58:27.429442Z",
     "shell.execute_reply": "2022-11-28T04:58:27.427870Z"
    },
    "papermill": {
     "duration": 28.549929,
     "end_time": "2022-11-28T04:58:27.432120",
     "exception": false,
     "start_time": "2022-11-28T04:57:58.882191",
     "status": "completed"
    },
    "tags": []
   },
   "outputs": [],
   "source": [
    "train_data.to_csv('train_data.csv', index=False)"
   ]
  },
  {
   "cell_type": "code",
   "execution_count": 21,
   "id": "3c91f469",
   "metadata": {
    "execution": {
     "iopub.execute_input": "2022-11-28T04:58:27.455238Z",
     "iopub.status.busy": "2022-11-28T04:58:27.454848Z",
     "iopub.status.idle": "2022-11-28T04:58:41.204245Z",
     "shell.execute_reply": "2022-11-28T04:58:41.202797Z"
    },
    "papermill": {
     "duration": 13.763389,
     "end_time": "2022-11-28T04:58:41.206697",
     "exception": false,
     "start_time": "2022-11-28T04:58:27.443308",
     "status": "completed"
    },
    "tags": []
   },
   "outputs": [],
   "source": [
    "val_data.to_csv('val.csv')\n",
    "test_data.to_csv('test.csv')"
   ]
  },
  {
   "cell_type": "code",
   "execution_count": 22,
   "id": "31c11c11",
   "metadata": {
    "execution": {
     "iopub.execute_input": "2022-11-28T04:58:41.228252Z",
     "iopub.status.busy": "2022-11-28T04:58:41.227870Z",
     "iopub.status.idle": "2022-11-28T04:58:41.242526Z",
     "shell.execute_reply": "2022-11-28T04:58:41.241519Z"
    },
    "papermill": {
     "duration": 0.028258,
     "end_time": "2022-11-28T04:58:41.245145",
     "exception": false,
     "start_time": "2022-11-28T04:58:41.216887",
     "status": "completed"
    },
    "tags": []
   },
   "outputs": [],
   "source": [
    "class FFMFormatPandas:\n",
    "    def __init__(self):\n",
    "        self.field_index_ = None\n",
    "        self.feature_index_ = None\n",
    "        self.y = None\n",
    "\n",
    "    def fit(self, df, y=None):\n",
    "        self.y = y\n",
    "        df_ffm = df[df.columns.difference([self.y])]\n",
    "        if self.field_index_ is None:\n",
    "            self.field_index_ = {col: i for i, col in enumerate(df_ffm)}\n",
    "\n",
    "        if self.feature_index_ is not None:\n",
    "            last_idx = max(list(self.feature_index_.values()))\n",
    "\n",
    "        if self.feature_index_ is None:\n",
    "            self.feature_index_ = dict()\n",
    "            last_idx = 0\n",
    "\n",
    "        for col in df.columns:\n",
    "            vals = df[col].unique()\n",
    "            for val in vals:\n",
    "                if pd.isnull(val):\n",
    "                    continue\n",
    "                name = '{}_{}'.format(col, val)\n",
    "                if name not in self.feature_index_:\n",
    "                    self.feature_index_[name] = last_idx\n",
    "                    last_idx += 1\n",
    "            self.feature_index_[col] = last_idx\n",
    "            last_idx += 1\n",
    "        return self\n",
    "\n",
    "    def fit_transform(self, df, y=None):\n",
    "        self.fit(df, y)\n",
    "        return self.transform(df)\n",
    "\n",
    "    def transform_row_(self, row, t):\n",
    "        ffm = []\n",
    "        if self.y != None:\n",
    "            ffm.append(str(row.loc[row.index == self.y][0]))\n",
    "        if self.y is None:\n",
    "            ffm.append(str(0))\n",
    "\n",
    "        for col, val in row.loc[row.index != self.y].to_dict().items():\n",
    "            col_type = t[col]\n",
    "            name = '{}_{}'.format(col, val)\n",
    "            if col_type.kind ==  'O':\n",
    "                ffm.append('{}:{}:1'.format(self.field_index_[col], self.feature_index_[name]))\n",
    "            elif col_type.kind == 'i':\n",
    "                ffm.append('{}:{}:{}'.format(self.field_index_[col], self.feature_index_[col], val))\n",
    "        return ' '.join(ffm)\n",
    "\n",
    "    def transform(self, df):\n",
    "        t = df.dtypes.to_dict()\n",
    "        return pd.Series({idx: self.transform_row_(row, t) for idx, row in df.iterrows()})"
   ]
  },
  {
   "cell_type": "code",
   "execution_count": 23,
   "id": "9b8771fc",
   "metadata": {
    "execution": {
     "iopub.execute_input": "2022-11-28T04:58:41.267098Z",
     "iopub.status.busy": "2022-11-28T04:58:41.266714Z",
     "iopub.status.idle": "2022-11-28T06:02:24.580004Z",
     "shell.execute_reply": "2022-11-28T06:02:24.578063Z"
    },
    "papermill": {
     "duration": 3823.328122,
     "end_time": "2022-11-28T06:02:24.583612",
     "exception": false,
     "start_time": "2022-11-28T04:58:41.255490",
     "status": "completed"
    },
    "tags": []
   },
   "outputs": [],
   "source": [
    "ffm_train = FFMFormatPandas()\n",
    "ffm_train_data = ffm_train.fit_transform(train_data, y='clicks')"
   ]
  },
  {
   "cell_type": "code",
   "execution_count": 24,
   "id": "8c8c7822",
   "metadata": {
    "execution": {
     "iopub.execute_input": "2022-11-28T06:02:24.606320Z",
     "iopub.status.busy": "2022-11-28T06:02:24.605932Z",
     "iopub.status.idle": "2022-11-28T06:02:39.343128Z",
     "shell.execute_reply": "2022-11-28T06:02:39.341865Z"
    },
    "papermill": {
     "duration": 14.751045,
     "end_time": "2022-11-28T06:02:39.345630",
     "exception": false,
     "start_time": "2022-11-28T06:02:24.594585",
     "status": "completed"
    },
    "tags": []
   },
   "outputs": [],
   "source": [
    "ffm_train_data.to_csv('ffm_train.txt', index=False)"
   ]
  },
  {
   "cell_type": "code",
   "execution_count": 25,
   "id": "2e538cd5",
   "metadata": {
    "execution": {
     "iopub.execute_input": "2022-11-28T06:02:39.367608Z",
     "iopub.status.busy": "2022-11-28T06:02:39.367263Z",
     "iopub.status.idle": "2022-11-28T06:25:17.424858Z",
     "shell.execute_reply": "2022-11-28T06:25:17.423719Z"
    },
    "papermill": {
     "duration": 1358.071415,
     "end_time": "2022-11-28T06:25:17.427210",
     "exception": false,
     "start_time": "2022-11-28T06:02:39.355795",
     "status": "completed"
    },
    "tags": []
   },
   "outputs": [],
   "source": [
    "ffm_val_data = ffm_train.fit_transform(val_data, y='clicks')\n",
    "ffm_test_data = ffm_train.fit_transform(test_data, y='clicks')"
   ]
  },
  {
   "cell_type": "code",
   "execution_count": 26,
   "id": "09fb3974",
   "metadata": {
    "execution": {
     "iopub.execute_input": "2022-11-28T06:25:17.449709Z",
     "iopub.status.busy": "2022-11-28T06:25:17.449365Z",
     "iopub.status.idle": "2022-11-28T06:25:22.798444Z",
     "shell.execute_reply": "2022-11-28T06:25:22.797287Z"
    },
    "papermill": {
     "duration": 5.363471,
     "end_time": "2022-11-28T06:25:22.801012",
     "exception": false,
     "start_time": "2022-11-28T06:25:17.437541",
     "status": "completed"
    },
    "tags": []
   },
   "outputs": [],
   "source": [
    "ffm_val_data.to_csv('ffm_val.txt', index=False)\n",
    "ffm_test_data.to_csv('ffm_val.txt', index=False)"
   ]
  },
  {
   "cell_type": "code",
   "execution_count": 27,
   "id": "1a48bd7a",
   "metadata": {
    "execution": {
     "iopub.execute_input": "2022-11-28T06:25:22.823798Z",
     "iopub.status.busy": "2022-11-28T06:25:22.823206Z",
     "iopub.status.idle": "2022-11-28T06:25:28.231222Z",
     "shell.execute_reply": "2022-11-28T06:25:28.229478Z"
    },
    "papermill": {
     "duration": 5.421955,
     "end_time": "2022-11-28T06:25:28.233496",
     "exception": true,
     "start_time": "2022-11-28T06:25:22.811541",
     "status": "failed"
    },
    "tags": []
   },
   "outputs": [
    {
     "ename": "NameError",
     "evalue": "name 'ffm_converter' is not defined",
     "output_type": "error",
     "traceback": [
      "\u001b[0;31m---------------------------------------------------------------------------\u001b[0m",
      "\u001b[0;31mNameError\u001b[0m                                 Traceback (most recent call last)",
      "\u001b[0;32m/tmp/ipykernel_19/4080876212.py\u001b[0m in \u001b[0;36m<module>\u001b[0;34m\u001b[0m\n\u001b[1;32m      1\u001b[0m \u001b[0mtrain_read_data\u001b[0m \u001b[0;34m=\u001b[0m \u001b[0mpd\u001b[0m\u001b[0;34m.\u001b[0m\u001b[0mread_csv\u001b[0m\u001b[0;34m(\u001b[0m\u001b[0;34m'train_data.csv'\u001b[0m\u001b[0;34m)\u001b[0m\u001b[0;34m\u001b[0m\u001b[0;34m\u001b[0m\u001b[0m\n\u001b[0;32m----> 2\u001b[0;31m \u001b[0mffm_train\u001b[0m \u001b[0;34m=\u001b[0m \u001b[0mffm_converter\u001b[0m\u001b[0;34m.\u001b[0m\u001b[0mfit_transform\u001b[0m\u001b[0;34m(\u001b[0m\u001b[0mtrain_read_data\u001b[0m\u001b[0;34m,\u001b[0m \u001b[0my\u001b[0m\u001b[0;34m=\u001b[0m\u001b[0;34m'clicks'\u001b[0m\u001b[0;34m)\u001b[0m\u001b[0;34m\u001b[0m\u001b[0;34m\u001b[0m\u001b[0m\n\u001b[0m",
      "\u001b[0;31mNameError\u001b[0m: name 'ffm_converter' is not defined"
     ]
    }
   ],
   "source": [
    "train_read_data = pd.read_csv('train_data.csv')\n",
    "ffm_train = ffm_converter.fit_transform(train_read_data, y='clicks')"
   ]
  },
  {
   "cell_type": "code",
   "execution_count": null,
   "id": "37d06c56",
   "metadata": {
    "execution": {
     "iopub.status.busy": "2022-11-28T04:01:01.616909Z",
     "iopub.status.idle": "2022-11-28T04:01:01.617257Z",
     "shell.execute_reply": "2022-11-28T04:01:01.617118Z",
     "shell.execute_reply.started": "2022-11-28T04:01:01.617101Z"
    },
    "papermill": {
     "duration": null,
     "end_time": null,
     "exception": null,
     "start_time": null,
     "status": "pending"
    },
    "tags": []
   },
   "outputs": [],
   "source": [
    "ffm_converter = FFMConverter()\n",
    "ffm_val_data = ffm_converter.fit_transform(val_data, y='clicks')"
   ]
  },
  {
   "cell_type": "markdown",
   "id": "87d41720",
   "metadata": {
    "papermill": {
     "duration": null,
     "end_time": null,
     "exception": null,
     "start_time": null,
     "status": "pending"
    },
    "tags": []
   },
   "source": [
    "Будем перебирать различные гиперпараметры для нашей FFM модели"
   ]
  },
  {
   "cell_type": "code",
   "execution_count": null,
   "id": "2dd4c474",
   "metadata": {
    "papermill": {
     "duration": null,
     "end_time": null,
     "exception": null,
     "start_time": null,
     "status": "pending"
    },
    "tags": []
   },
   "outputs": [],
   "source": [
    "for k_i in [2, 4, 8]:\n",
    "    for lambda_i in [0.1, 0.001]:\n",
    "        params = {\n",
    "            'task': 'binary',\n",
    "            'lr': 0.1,\n",
    "            'lambda': lambda_i,\n",
    "            'k': k_i, \n",
    "            'metric': 'auc', \n",
    "            'epoch': 15\n",
    "        }\n",
    "        ffm_model = xl.create_ffm()\n",
    "        ffm_model.setTrain(\"ffm_train.txt\")\n",
    "        ffm_model.setValidate(\"ffm_val.txt\")\n",
    "        ffm_model.fit(params, \"model.out\")"
   ]
  }
 ],
 "metadata": {
  "kernelspec": {
   "display_name": "Python 3 (ipykernel)",
   "language": "python",
   "name": "python3"
  },
  "language_info": {
   "codemirror_mode": {
    "name": "ipython",
    "version": 3
   },
   "file_extension": ".py",
   "mimetype": "text/x-python",
   "name": "python",
   "nbconvert_exporter": "python",
   "pygments_lexer": "ipython3",
   "version": "3.8.10"
  },
  "papermill": {
   "default_parameters": {},
   "duration": 5424.136898,
   "end_time": "2022-11-28T06:25:31.496830",
   "environment_variables": {},
   "exception": true,
   "input_path": "__notebook__.ipynb",
   "output_path": "__notebook__.ipynb",
   "parameters": {},
   "start_time": "2022-11-28T04:55:07.359932",
   "version": "2.3.4"
  }
 },
 "nbformat": 4,
 "nbformat_minor": 5
}
