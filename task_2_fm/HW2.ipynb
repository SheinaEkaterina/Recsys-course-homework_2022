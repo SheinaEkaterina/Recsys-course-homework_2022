{
 "cells": [
  {
   "cell_type": "code",
   "execution_count": 1,
   "metadata": {},
   "outputs": [],
   "source": [
    "%load_ext autoreload\n",
    "%autoreload 2"
   ]
  },
  {
   "cell_type": "code",
   "execution_count": 2,
   "metadata": {},
   "outputs": [],
   "source": [
    "import matplotlib.pyplot as plt\n",
    "from sklearn.metrics import roc_curve, auc\n",
    "from ffm import FFMClicksPredictor\n",
    "import numpy as np"
   ]
  },
  {
   "cell_type": "markdown",
   "metadata": {},
   "source": [
    "Весь код для этой домашки находится в файле ffm.py\n",
    "\n",
    "Конвертация csv в ffm делается скриптами с гитхаба (которые повторяют обработку с того самого соревнования kaggle): github.com/SongDark/libffm_converter\n",
    "\n",
    "Я немного поменял код под задачу, так что заливаю репозиторий вместе с домашкой\n",
    "\n",
    "Перед конвертацией я разделил данные на трейн и валидацию (последний день): `python3 split_csv.py`\n",
    "\n",
    "Комадны для запуска конвертация выглядят так: (да, второй питон :D)\n",
    "```\n",
    "sudo python2 libffm_parallelizer.py libffm_converter.py /opt/downloads/ml/recsys/data_train.csv /opt/downloads/ml/recsys/data_train.ffm -n 8\n",
    "sudo python2 libffm_parallelizer.py libffm_converter.py /opt/downloads/ml/recsys/data_val.csv /opt/downloads/ml/recsys/data_val.ffm -n 8\n",
    "```\n",
    "\n",
    "Есть ещё _convert_to_ffm с другого гитхаба, лежит в utils.py, но он однопоточный и я в итоге отказался от него"
   ]
  },
  {
   "cell_type": "markdown",
   "metadata": {},
   "source": [
    "Запустим перебор разных k (размерностей эмбеддингов). Я хотел запустить grid search, но мой компьютер его не потянул, так что я отказался от этой идеи :("
   ]
  },
  {
   "cell_type": "code",
   "execution_count": 3,
   "metadata": {},
   "outputs": [
    {
     "name": "stdout",
     "output_type": "stream",
     "text": [
      "All 1 baseline: acc 0.035398205148197866 log loss 33.3169369956324, auc 0.5\n",
      "All 0 baseline: acc 0.9646017948518021 log loss 1.2226106923947828, auc 0.5\n",
      "\u001b[32m\u001b[1m----------------------------------------------------------------------------------------------\n",
      "           _\n",
      "          | |\n",
      "     __  _| |     ___  __ _ _ __ _ __\n",
      "     \\ \\/ / |    / _ \\/ _` | '__| '_ \\ \n",
      "      >  <| |___|  __/ (_| | |  | | | |\n",
      "     /_/\\_\\_____/\\___|\\__,_|_|  |_| |_|\n",
      "\n",
      "        xLearn   -- 0.40 Version --\n",
      "----------------------------------------------------------------------------------------------\n",
      "\n",
      "\u001b[39m\u001b[0m\u001b[32m[------------] \u001b[0mxLearn uses 8 threads for training task.\n",
      "\u001b[32m\u001b[1m[ ACTION     ] Read Problem ...\u001b[0m\n",
      "\u001b[32m[------------] \u001b[0mFirst check if the text file has been already converted to binary format.\n",
      "\u001b[32m[------------] \u001b[0mBinary file (/opt/downloads/ml/recsys/data_train.ffm.bin) found. Skip converting text to binary.\n",
      "\u001b[32m[------------] \u001b[0mFirst check if the text file has been already converted to binary format.\n",
      "\u001b[32m[------------] \u001b[0mBinary file (/opt/downloads/ml/recsys/data_val.ffm.bin) found. Skip converting text to binary.\n",
      "\u001b[32m[------------] \u001b[0mNumber of Feature: 9999997\n",
      "\u001b[32m[------------] \u001b[0mNumber of Field: 5\n",
      "\u001b[32m[------------] \u001b[0mTime cost for reading problem: 11.04 (sec)\n",
      "\u001b[32m\u001b[1m[ ACTION     ] Initialize model ...\u001b[0m\n",
      "\u001b[32m[------------] \u001b[0mModel size: 4.54 GB\n",
      "\u001b[32m[------------] \u001b[0mTime cost for model initial: 3.52 (sec)\n",
      "\u001b[32m\u001b[1m[ ACTION     ] Start to train ...\u001b[0m\n",
      "\u001b[32m[------------]\u001b[0m Epoch      Train log_loss       Test log_loss            Test AUC     Time cost (sec)\n",
      "\u001b[32m[ \u001b[0m   5%\u001b[32m      ]\u001b[0m     1            0.103999            0.129829            0.798594                5.92\n",
      "\u001b[32m[ \u001b[0m  10%\u001b[32m      ]\u001b[0m     2            0.100133            0.128304            0.804827                6.12\n",
      "\u001b[32m[ \u001b[0m  15%\u001b[32m      ]\u001b[0m     3            0.096617            0.127055            0.809257                6.31\n",
      "\u001b[32m[ \u001b[0m  20%\u001b[32m      ]\u001b[0m     4            0.092765            0.125770            0.813274                6.39\n",
      "\u001b[32m[ \u001b[0m  25%\u001b[32m      ]\u001b[0m     5            0.088500            0.124727            0.816349                6.26\n",
      "\u001b[32m[ \u001b[0m  30%\u001b[32m      ]\u001b[0m     6            0.084158            0.124290            0.818166                6.38\n",
      "\u001b[32m[ \u001b[0m  35%\u001b[32m      ]\u001b[0m     7            0.080037            0.124319            0.819076                5.45\n",
      "\u001b[32m[ \u001b[0m  40%\u001b[32m      ]\u001b[0m     8            0.076239            0.125036            0.818727                6.33\n",
      "\u001b[32m[ \u001b[0m  45%\u001b[32m      ]\u001b[0m     9            0.072755            0.125827            0.817653                6.28\n",
      "\u001b[32m[ \u001b[0m  50%\u001b[32m      ]\u001b[0m    10            0.069511            0.126834            0.815904                5.84\n",
      "\u001b[32m\u001b[1m[ ACTION     ] Early-stopping at epoch 7, best AUC: 0.819076\u001b[0m\n",
      "\u001b[32m\u001b[1m[ ACTION     ] Start to save model ...\u001b[0m\n",
      "\u001b[32m[------------] \u001b[0mModel file: /opt/downloads/ml/recsys/ffm/model.out\n",
      "\u001b[32m[------------] \u001b[0mTime cost for saving model: 4.90 (sec)\n",
      "\u001b[32m\u001b[1m[ ACTION     ] Finish training\u001b[0m\n",
      "\u001b[32m\u001b[1m[ ACTION     ] Clear the xLearn environment ...\u001b[0m\n",
      "\u001b[32m\u001b[1m[------------] Total time cost: 86.73 (sec)\u001b[0m\n",
      "\u001b[32m\u001b[1m----------------------------------------------------------------------------------------------\n",
      "           _\n",
      "          | |\n",
      "     __  _| |     ___  __ _ _ __ _ __\n",
      "     \\ \\/ / |    / _ \\/ _` | '__| '_ \\ \n",
      "      >  <| |___|  __/ (_| | |  | | | |\n",
      "     /_/\\_\\_____/\\___|\\__,_|_|  |_| |_|\n",
      "\n",
      "        xLearn   -- 0.40 Version --\n",
      "----------------------------------------------------------------------------------------------\n",
      "\n",
      "\u001b[39m\u001b[0m\u001b[32m[------------] \u001b[0mxLearn uses 8 threads for prediction task.\n",
      "\u001b[32m\u001b[1m[ ACTION     ] Load model ...\u001b[0m\n",
      "\u001b[32m[------------] \u001b[0mLoad model from /opt/downloads/ml/recsys/ffm/model.out\n",
      "\u001b[32m[------------] \u001b[0mLoss function: cross-entropy\n",
      "\u001b[32m[------------] \u001b[0mScore function: ffm\n",
      "\u001b[32m[------------] \u001b[0mNumber of Feature: 9999997\n",
      "\u001b[32m[------------] \u001b[0mNumber of K: 10\n",
      "\u001b[32m[------------] \u001b[0mNumber of field: 5\n",
      "\u001b[32m[------------] \u001b[0mTime cost for loading model: 2.34 (sec)\n",
      "\u001b[32m\u001b[1m[ ACTION     ] Read Problem ...\u001b[0m\n",
      "\u001b[32m[------------] \u001b[0mFirst check if the text file has been already converted to binary format.\n",
      "\u001b[32m[------------] \u001b[0mBinary file (/opt/downloads/ml/recsys/data_val.ffm.bin) found. Skip converting text to binary.\n",
      "\u001b[32m[------------] \u001b[0mTime cost for reading problem: 0.56 (sec)\n",
      "\u001b[32m\u001b[1m[ ACTION     ] Start to predict ...\u001b[0m\n",
      "\u001b[32m[------------] \u001b[0mThe test loss is: 0.124318\n",
      "\u001b[32m\u001b[1m[ ACTION     ] Clear the xLearn environment ...\u001b[0m\n",
      "\u001b[32m\u001b[1m[------------] Total time cost: 4.08 (sec)\u001b[0m\n",
      "FFM lr 0.1 l2 0.0002 k 10 model: acc 0.9656036840211595 log loss 0.1243133952515984, auc 0.8190759889591593\n",
      "\u001b[32m\u001b[1m----------------------------------------------------------------------------------------------\n",
      "           _\n",
      "          | |\n",
      "     __  _| |     ___  __ _ _ __ _ __\n",
      "     \\ \\/ / |    / _ \\/ _` | '__| '_ \\ \n",
      "      >  <| |___|  __/ (_| | |  | | | |\n",
      "     /_/\\_\\_____/\\___|\\__,_|_|  |_| |_|\n",
      "\n",
      "        xLearn   -- 0.40 Version --\n",
      "----------------------------------------------------------------------------------------------\n",
      "\n",
      "\u001b[39m\u001b[0m\u001b[32m[------------] \u001b[0mxLearn uses 8 threads for training task.\n",
      "\u001b[32m\u001b[1m[ ACTION     ] Read Problem ...\u001b[0m\n",
      "\u001b[32m[------------] \u001b[0mFirst check if the text file has been already converted to binary format.\n",
      "\u001b[32m[------------] \u001b[0mBinary file (/opt/downloads/ml/recsys/data_train.ffm.bin) found. Skip converting text to binary.\n",
      "\u001b[32m[------------] \u001b[0mFirst check if the text file has been already converted to binary format.\n",
      "\u001b[32m[------------] \u001b[0mBinary file (/opt/downloads/ml/recsys/data_val.ffm.bin) found. Skip converting text to binary.\n",
      "\u001b[32m[------------] \u001b[0mNumber of Feature: 9999997\n",
      "\u001b[32m[------------] \u001b[0mNumber of Field: 5\n",
      "\u001b[32m[------------] \u001b[0mTime cost for reading problem: 11.39 (sec)\n",
      "\u001b[32m\u001b[1m[ ACTION     ] Initialize model ...\u001b[0m\n",
      "\u001b[32m[------------] \u001b[0mModel size: 3.05 GB\n",
      "\u001b[32m[------------] \u001b[0mTime cost for model initial: 2.89 (sec)\n",
      "\u001b[32m\u001b[1m[ ACTION     ] Start to train ...\u001b[0m\n",
      "\u001b[32m[------------]\u001b[0m Epoch      Train log_loss       Test log_loss            Test AUC     Time cost (sec)\n",
      "\u001b[32m[ \u001b[0m   5%\u001b[32m      ]\u001b[0m     1            0.104035            0.129977            0.798230                5.68\n",
      "\u001b[32m[ \u001b[0m  10%\u001b[32m      ]\u001b[0m     2            0.100225            0.128397            0.804699                5.80\n",
      "\u001b[32m[ \u001b[0m  15%\u001b[32m      ]\u001b[0m     3            0.096764            0.127114            0.808956                5.76\n",
      "\u001b[32m[ \u001b[0m  20%\u001b[32m      ]\u001b[0m     4            0.093036            0.125921            0.812915                5.94\n",
      "\u001b[32m[ \u001b[0m  25%\u001b[32m      ]\u001b[0m     5            0.088792            0.124883            0.816083                5.39\n",
      "\u001b[32m[ \u001b[0m  30%\u001b[32m      ]\u001b[0m     6            0.084449            0.124321            0.818210                5.76\n",
      "\u001b[32m[ \u001b[0m  35%\u001b[32m      ]\u001b[0m     7            0.080325            0.124381            0.818687                5.92\n",
      "\u001b[32m[ \u001b[0m  40%\u001b[32m      ]\u001b[0m     8            0.076514            0.124973            0.818590                5.88\n",
      "\u001b[32m[ \u001b[0m  45%\u001b[32m      ]\u001b[0m     9            0.073030            0.125651            0.817592                5.80\n",
      "\u001b[32m[ \u001b[0m  50%\u001b[32m      ]\u001b[0m    10            0.069768            0.126648            0.816075                5.78\n",
      "\u001b[32m\u001b[1m[ ACTION     ] Early-stopping at epoch 7, best AUC: 0.818687\u001b[0m\n",
      "\u001b[32m\u001b[1m[ ACTION     ] Start to save model ...\u001b[0m\n",
      "\u001b[32m[------------] \u001b[0mModel file: /opt/downloads/ml/recsys/ffm/model.out\n",
      "\u001b[32m[------------] \u001b[0mTime cost for saving model: 4.27 (sec)\n",
      "\u001b[32m\u001b[1m[ ACTION     ] Finish training\u001b[0m\n",
      "\u001b[32m\u001b[1m[ ACTION     ] Clear the xLearn environment ...\u001b[0m\n",
      "\u001b[32m\u001b[1m[------------] Total time cost: 80.25 (sec)\u001b[0m\n",
      "\u001b[32m\u001b[1m----------------------------------------------------------------------------------------------\n",
      "           _\n",
      "          | |\n",
      "     __  _| |     ___  __ _ _ __ _ __\n",
      "     \\ \\/ / |    / _ \\/ _` | '__| '_ \\ \n",
      "      >  <| |___|  __/ (_| | |  | | | |\n",
      "     /_/\\_\\_____/\\___|\\__,_|_|  |_| |_|\n",
      "\n",
      "        xLearn   -- 0.40 Version --\n",
      "----------------------------------------------------------------------------------------------\n",
      "\n",
      "\u001b[39m\u001b[0m\u001b[32m[------------] \u001b[0mxLearn uses 8 threads for prediction task.\n",
      "\u001b[32m\u001b[1m[ ACTION     ] Load model ...\u001b[0m\n",
      "\u001b[32m[------------] \u001b[0mLoad model from /opt/downloads/ml/recsys/ffm/model.out\n"
     ]
    },
    {
     "name": "stdout",
     "output_type": "stream",
     "text": [
      "\u001b[32m[------------] \u001b[0mLoss function: cross-entropy\n",
      "\u001b[32m[------------] \u001b[0mScore function: ffm\n",
      "\u001b[32m[------------] \u001b[0mNumber of Feature: 9999997\n",
      "\u001b[32m[------------] \u001b[0mNumber of K: 8\n",
      "\u001b[32m[------------] \u001b[0mNumber of field: 5\n",
      "\u001b[32m[------------] \u001b[0mTime cost for loading model: 1.40 (sec)\n",
      "\u001b[32m\u001b[1m[ ACTION     ] Read Problem ...\u001b[0m\n",
      "\u001b[32m[------------] \u001b[0mFirst check if the text file has been already converted to binary format.\n",
      "\u001b[32m[------------] \u001b[0mBinary file (/opt/downloads/ml/recsys/data_val.ffm.bin) found. Skip converting text to binary.\n",
      "\u001b[32m[------------] \u001b[0mTime cost for reading problem: 0.49 (sec)\n",
      "\u001b[32m\u001b[1m[ ACTION     ] Start to predict ...\u001b[0m\n",
      "\u001b[32m[------------] \u001b[0mThe test loss is: 0.124384\n",
      "\u001b[32m\u001b[1m[ ACTION     ] Clear the xLearn environment ...\u001b[0m\n",
      "\u001b[32m\u001b[1m[------------] Total time cost: 2.94 (sec)\u001b[0m\n",
      "FFM lr 0.1 l2 0.0002 k 8 model: acc 0.965599456640698 log loss 0.12437600808863317, auc 0.8186872867785262\n",
      "\u001b[32m\u001b[1m----------------------------------------------------------------------------------------------\n",
      "           _\n",
      "          | |\n",
      "     __  _| |     ___  __ _ _ __ _ __\n",
      "     \\ \\/ / |    / _ \\/ _` | '__| '_ \\ \n",
      "      >  <| |___|  __/ (_| | |  | | | |\n",
      "     /_/\\_\\_____/\\___|\\__,_|_|  |_| |_|\n",
      "\n",
      "        xLearn   -- 0.40 Version --\n",
      "----------------------------------------------------------------------------------------------\n",
      "\n",
      "\u001b[39m\u001b[0m\u001b[32m[------------] \u001b[0mxLearn uses 8 threads for training task.\n",
      "\u001b[32m\u001b[1m[ ACTION     ] Read Problem ...\u001b[0m\n",
      "\u001b[32m[------------] \u001b[0mFirst check if the text file has been already converted to binary format.\n",
      "\u001b[32m[------------] \u001b[0mBinary file (/opt/downloads/ml/recsys/data_train.ffm.bin) found. Skip converting text to binary.\n",
      "\u001b[32m[------------] \u001b[0mFirst check if the text file has been already converted to binary format.\n",
      "\u001b[32m[------------] \u001b[0mBinary file (/opt/downloads/ml/recsys/data_val.ffm.bin) found. Skip converting text to binary.\n",
      "\u001b[32m[------------] \u001b[0mNumber of Feature: 9999997\n",
      "\u001b[32m[------------] \u001b[0mNumber of Field: 5\n",
      "\u001b[32m[------------] \u001b[0mTime cost for reading problem: 11.43 (sec)\n",
      "\u001b[32m\u001b[1m[ ACTION     ] Initialize model ...\u001b[0m\n",
      "\u001b[32m[------------] \u001b[0mModel size: 1.56 GB\n",
      "\u001b[32m[------------] \u001b[0mTime cost for model initial: 1.33 (sec)\n",
      "\u001b[32m\u001b[1m[ ACTION     ] Start to train ...\u001b[0m\n",
      "\u001b[32m[------------]\u001b[0m Epoch      Train log_loss       Test log_loss            Test AUC     Time cost (sec)\n",
      "\u001b[32m[ \u001b[0m   5%\u001b[32m      ]\u001b[0m     1            0.104161            0.130161            0.797242                5.20\n",
      "\u001b[32m[ \u001b[0m  10%\u001b[32m      ]\u001b[0m     2            0.100538            0.128511            0.803388                5.11\n",
      "\u001b[32m[ \u001b[0m  15%\u001b[32m      ]\u001b[0m     3            0.097267            0.127446            0.807580                5.21\n",
      "\u001b[32m[ \u001b[0m  20%\u001b[32m      ]\u001b[0m     4            0.093840            0.126276            0.811659                5.39\n",
      "\u001b[32m[ \u001b[0m  25%\u001b[32m      ]\u001b[0m     5            0.089966            0.125144            0.814862                5.36\n",
      "\u001b[32m[ \u001b[0m  30%\u001b[32m      ]\u001b[0m     6            0.085924            0.124495            0.817111                5.39\n",
      "\u001b[32m[ \u001b[0m  35%\u001b[32m      ]\u001b[0m     7            0.081966            0.124302            0.818244                5.66\n",
      "\u001b[32m[ \u001b[0m  40%\u001b[32m      ]\u001b[0m     8            0.078230            0.124514            0.818457                5.31\n",
      "\u001b[32m[ \u001b[0m  45%\u001b[32m      ]\u001b[0m     9            0.074730            0.124927            0.818101                4.91\n",
      "\u001b[32m[ \u001b[0m  50%\u001b[32m      ]\u001b[0m    10            0.071456            0.125690            0.817117                5.06\n",
      "\u001b[32m[ \u001b[0m  55%\u001b[32m      ]\u001b[0m    11            0.068384            0.126251            0.815935                5.03\n",
      "\u001b[32m\u001b[1m[ ACTION     ] Early-stopping at epoch 8, best AUC: 0.818457\u001b[0m\n",
      "\u001b[32m\u001b[1m[ ACTION     ] Start to save model ...\u001b[0m\n",
      "\u001b[32m[------------] \u001b[0mModel file: /opt/downloads/ml/recsys/ffm/model.out\n",
      "\u001b[32m[------------] \u001b[0mTime cost for saving model: 1.36 (sec)\n",
      "\u001b[32m\u001b[1m[ ACTION     ] Finish training\u001b[0m\n",
      "\u001b[32m\u001b[1m[ ACTION     ] Clear the xLearn environment ...\u001b[0m\n",
      "\u001b[32m\u001b[1m[------------] Total time cost: 73.90 (sec)\u001b[0m\n",
      "\u001b[32m\u001b[1m----------------------------------------------------------------------------------------------\n",
      "           _\n",
      "          | |\n",
      "     __  _| |     ___  __ _ _ __ _ __\n",
      "     \\ \\/ / |    / _ \\/ _` | '__| '_ \\ \n",
      "      >  <| |___|  __/ (_| | |  | | | |\n",
      "     /_/\\_\\_____/\\___|\\__,_|_|  |_| |_|\n",
      "\n",
      "        xLearn   -- 0.40 Version --\n",
      "----------------------------------------------------------------------------------------------\n",
      "\n",
      "\u001b[39m\u001b[0m\u001b[32m[------------] \u001b[0mxLearn uses 8 threads for prediction task.\n",
      "\u001b[32m\u001b[1m[ ACTION     ] Load model ...\u001b[0m\n",
      "\u001b[32m[------------] \u001b[0mLoad model from /opt/downloads/ml/recsys/ffm/model.out\n",
      "\u001b[32m[------------] \u001b[0mLoss function: cross-entropy\n",
      "\u001b[32m[------------] \u001b[0mScore function: ffm\n",
      "\u001b[32m[------------] \u001b[0mNumber of Feature: 9999997\n",
      "\u001b[32m[------------] \u001b[0mNumber of K: 4\n",
      "\u001b[32m[------------] \u001b[0mNumber of field: 5\n",
      "\u001b[32m[------------] \u001b[0mTime cost for loading model: 0.67 (sec)\n",
      "\u001b[32m\u001b[1m[ ACTION     ] Read Problem ...\u001b[0m\n",
      "\u001b[32m[------------] \u001b[0mFirst check if the text file has been already converted to binary format.\n",
      "\u001b[32m[------------] \u001b[0mBinary file (/opt/downloads/ml/recsys/data_val.ffm.bin) found. Skip converting text to binary.\n",
      "\u001b[32m[------------] \u001b[0mTime cost for reading problem: 0.51 (sec)\n",
      "\u001b[32m\u001b[1m[ ACTION     ] Start to predict ...\u001b[0m\n",
      "\u001b[32m[------------] \u001b[0mThe test loss is: 0.124509\n",
      "\u001b[32m\u001b[1m[ ACTION     ] Clear the xLearn environment ...\u001b[0m\n",
      "\u001b[32m\u001b[1m[------------] Total time cost: 2.23 (sec)\u001b[0m\n",
      "FFM lr 0.1 l2 0.0002 k 4 model: acc 0.9656088508195012 log loss 0.12450785405510574, auc 0.8184566557432239\n",
      "\u001b[32m\u001b[1m----------------------------------------------------------------------------------------------\n",
      "           _\n",
      "          | |\n",
      "     __  _| |     ___  __ _ _ __ _ __\n",
      "     \\ \\/ / |    / _ \\/ _` | '__| '_ \\ \n",
      "      >  <| |___|  __/ (_| | |  | | | |\n",
      "     /_/\\_\\_____/\\___|\\__,_|_|  |_| |_|\n",
      "\n",
      "        xLearn   -- 0.40 Version --\n",
      "----------------------------------------------------------------------------------------------\n",
      "\n",
      "\u001b[39m\u001b[0m\u001b[32m[------------] \u001b[0mxLearn uses 8 threads for training task.\n",
      "\u001b[32m\u001b[1m[ ACTION     ] Read Problem ...\u001b[0m\n",
      "\u001b[32m[------------] \u001b[0mFirst check if the text file has been already converted to binary format.\n",
      "\u001b[32m[------------] \u001b[0mBinary file (/opt/downloads/ml/recsys/data_train.ffm.bin) found. Skip converting text to binary.\n",
      "\u001b[32m[------------] \u001b[0mFirst check if the text file has been already converted to binary format.\n",
      "\u001b[32m[------------] \u001b[0mBinary file (/opt/downloads/ml/recsys/data_val.ffm.bin) found. Skip converting text to binary.\n",
      "\u001b[32m[------------] \u001b[0mNumber of Feature: 9999997\n",
      "\u001b[32m[------------] \u001b[0mNumber of Field: 5\n",
      "\u001b[32m[------------] \u001b[0mTime cost for reading problem: 11.35 (sec)\n",
      "\u001b[32m\u001b[1m[ ACTION     ] Initialize model ...\u001b[0m\n",
      "\u001b[32m[------------] \u001b[0mModel size: 1.56 GB\n",
      "\u001b[32m[------------] \u001b[0mTime cost for model initial: 1.12 (sec)\n",
      "\u001b[32m\u001b[1m[ ACTION     ] Start to train ...\u001b[0m\n",
      "\u001b[32m[------------]\u001b[0m Epoch      Train log_loss       Test log_loss            Test AUC     Time cost (sec)\n",
      "\u001b[32m[ \u001b[0m   5%\u001b[32m      ]\u001b[0m     1            0.104328            0.130258            0.796760                4.91\n",
      "\u001b[32m[ \u001b[0m  10%\u001b[32m      ]\u001b[0m     2            0.100849            0.128829            0.802060                5.34\n",
      "\u001b[32m[ \u001b[0m  15%\u001b[32m      ]\u001b[0m     3            0.097809            0.127662            0.806223                5.23\n",
      "\u001b[32m[ \u001b[0m  20%\u001b[32m      ]\u001b[0m     4            0.094647            0.126541            0.809941                5.30\n",
      "\u001b[32m[ \u001b[0m  25%\u001b[32m      ]\u001b[0m     5            0.091094            0.125516            0.813375                5.07\n",
      "\u001b[32m[ \u001b[0m  30%\u001b[32m      ]\u001b[0m     6            0.087323            0.124709            0.816046                5.26\n",
      "\u001b[32m[ \u001b[0m  35%\u001b[32m      ]\u001b[0m     7            0.083576            0.124352            0.817507                5.10\n",
      "\u001b[32m[ \u001b[0m  40%\u001b[32m      ]\u001b[0m     8            0.080011            0.124274            0.818210                5.21\n",
      "\u001b[32m[ \u001b[0m  45%\u001b[32m      ]\u001b[0m     9            0.076640            0.124528            0.818302                5.22\n"
     ]
    },
    {
     "name": "stdout",
     "output_type": "stream",
     "text": [
      "\u001b[32m[ \u001b[0m  50%\u001b[32m      ]\u001b[0m    10            0.073508            0.124923            0.817707                4.92\n",
      "\u001b[32m[ \u001b[0m  55%\u001b[32m      ]\u001b[0m    11            0.070546            0.125431            0.816825                5.01\n",
      "\u001b[32m[ \u001b[0m  60%\u001b[32m      ]\u001b[0m    12            0.067768            0.126025            0.815651                5.18\n",
      "\u001b[32m\u001b[1m[ ACTION     ] Early-stopping at epoch 9, best AUC: 0.818302\u001b[0m\n",
      "\u001b[32m\u001b[1m[ ACTION     ] Start to save model ...\u001b[0m\n",
      "\u001b[32m[------------] \u001b[0mModel file: /opt/downloads/ml/recsys/ffm/model.out\n",
      "\u001b[32m[------------] \u001b[0mTime cost for saving model: 1.97 (sec)\n",
      "\u001b[32m\u001b[1m[ ACTION     ] Finish training\u001b[0m\n",
      "\u001b[32m\u001b[1m[ ACTION     ] Clear the xLearn environment ...\u001b[0m\n",
      "\u001b[32m\u001b[1m[------------] Total time cost: 78.71 (sec)\u001b[0m\n",
      "\u001b[32m\u001b[1m----------------------------------------------------------------------------------------------\n",
      "           _\n",
      "          | |\n",
      "     __  _| |     ___  __ _ _ __ _ __\n",
      "     \\ \\/ / |    / _ \\/ _` | '__| '_ \\ \n",
      "      >  <| |___|  __/ (_| | |  | | | |\n",
      "     /_/\\_\\_____/\\___|\\__,_|_|  |_| |_|\n",
      "\n",
      "        xLearn   -- 0.40 Version --\n",
      "----------------------------------------------------------------------------------------------\n",
      "\n",
      "\u001b[39m\u001b[0m\u001b[32m[------------] \u001b[0mxLearn uses 8 threads for prediction task.\n",
      "\u001b[32m\u001b[1m[ ACTION     ] Load model ...\u001b[0m\n",
      "\u001b[32m[------------] \u001b[0mLoad model from /opt/downloads/ml/recsys/ffm/model.out\n",
      "\u001b[32m[------------] \u001b[0mLoss function: cross-entropy\n",
      "\u001b[32m[------------] \u001b[0mScore function: ffm\n",
      "\u001b[32m[------------] \u001b[0mNumber of Feature: 9999997\n",
      "\u001b[32m[------------] \u001b[0mNumber of K: 2\n",
      "\u001b[32m[------------] \u001b[0mNumber of field: 5\n",
      "\u001b[32m[------------] \u001b[0mTime cost for loading model: 0.84 (sec)\n",
      "\u001b[32m\u001b[1m[ ACTION     ] Read Problem ...\u001b[0m\n",
      "\u001b[32m[------------] \u001b[0mFirst check if the text file has been already converted to binary format.\n",
      "\u001b[32m[------------] \u001b[0mBinary file (/opt/downloads/ml/recsys/data_val.ffm.bin) found. Skip converting text to binary.\n",
      "\u001b[32m[------------] \u001b[0mTime cost for reading problem: 0.59 (sec)\n",
      "\u001b[32m\u001b[1m[ ACTION     ] Start to predict ...\u001b[0m\n",
      "\u001b[32m[------------] \u001b[0mThe test loss is: 0.124530\n",
      "\u001b[32m\u001b[1m[ ACTION     ] Clear the xLearn environment ...\u001b[0m\n",
      "\u001b[32m\u001b[1m[------------] Total time cost: 2.51 (sec)\u001b[0m\n",
      "FFM lr 0.1 l2 0.0002 k 2 model: acc 0.9655712741042886 log loss 0.12452355037015102, auc 0.8183023845913405\n",
      "\u001b[32m\u001b[1m----------------------------------------------------------------------------------------------\n",
      "           _\n",
      "          | |\n",
      "     __  _| |     ___  __ _ _ __ _ __\n",
      "     \\ \\/ / |    / _ \\/ _` | '__| '_ \\ \n",
      "      >  <| |___|  __/ (_| | |  | | | |\n",
      "     /_/\\_\\_____/\\___|\\__,_|_|  |_| |_|\n",
      "\n",
      "        xLearn   -- 0.40 Version --\n",
      "----------------------------------------------------------------------------------------------\n",
      "\n",
      "\u001b[39m\u001b[0m\u001b[32m[------------] \u001b[0mxLearn uses 8 threads for training task.\n",
      "\u001b[32m\u001b[1m[ ACTION     ] Read Problem ...\u001b[0m\n",
      "\u001b[32m[------------] \u001b[0mFirst check if the text file has been already converted to binary format.\n",
      "\u001b[32m[------------] \u001b[0mBinary file (/opt/downloads/ml/recsys/data_train.ffm.bin) found. Skip converting text to binary.\n",
      "\u001b[32m[------------] \u001b[0mFirst check if the text file has been already converted to binary format.\n",
      "\u001b[32m[------------] \u001b[0mBinary file (/opt/downloads/ml/recsys/data_val.ffm.bin) found. Skip converting text to binary.\n",
      "\u001b[32m[------------] \u001b[0mNumber of Feature: 9999997\n",
      "\u001b[32m[------------] \u001b[0mNumber of Field: 5\n",
      "\u001b[32m[------------] \u001b[0mTime cost for reading problem: 10.43 (sec)\n",
      "\u001b[32m\u001b[1m[ ACTION     ] Initialize model ...\u001b[0m\n",
      "\u001b[32m[------------] \u001b[0mModel size: 4.54 GB\n",
      "\u001b[32m[------------] \u001b[0mTime cost for model initial: 4.62 (sec)\n",
      "\u001b[32m\u001b[1m[ ACTION     ] Start to train ...\u001b[0m\n",
      "\u001b[32m[------------]\u001b[0m Epoch      Train log_loss       Test log_loss            Test AUC     Time cost (sec)\n",
      "\u001b[32m[ \u001b[0m   5%\u001b[32m      ]\u001b[0m     1            0.103991            0.129979            0.798961               13.88\n",
      "\u001b[32m[ \u001b[0m  10%\u001b[32m      ]\u001b[0m     2            0.100137            0.128339            0.804776                6.07\n",
      "\u001b[32m[ \u001b[0m  15%\u001b[32m      ]\u001b[0m     3            0.096601            0.127060            0.809213                5.53\n",
      "\u001b[32m[ \u001b[0m  20%\u001b[32m      ]\u001b[0m     4            0.092779            0.125715            0.813133                5.82\n",
      "\u001b[32m[ \u001b[0m  25%\u001b[32m      ]\u001b[0m     5            0.088556            0.124750            0.816204                5.44\n",
      "\u001b[32m[ \u001b[0m  30%\u001b[32m      ]\u001b[0m     6            0.084223            0.124299            0.818183                6.21\n",
      "\u001b[32m[ \u001b[0m  35%\u001b[32m      ]\u001b[0m     7            0.080130            0.124338            0.818904                6.01\n",
      "\u001b[32m[ \u001b[0m  40%\u001b[32m      ]\u001b[0m     8            0.076338            0.124990            0.818659                5.44\n",
      "\u001b[32m[ \u001b[0m  45%\u001b[32m      ]\u001b[0m     9            0.072848            0.125808            0.817584                5.90\n",
      "\u001b[32m[ \u001b[0m  50%\u001b[32m      ]\u001b[0m    10            0.069600            0.126771            0.816213                5.93\n",
      "\u001b[32m\u001b[1m[ ACTION     ] Early-stopping at epoch 7, best AUC: 0.818904\u001b[0m\n",
      "\u001b[32m\u001b[1m[ ACTION     ] Start to save model ...\u001b[0m\n",
      "\u001b[32m[------------] \u001b[0mModel file: /opt/downloads/ml/recsys/ffm/model.out\n",
      "\u001b[32m[------------] \u001b[0mTime cost for saving model: 9.38 (sec)\n",
      "\u001b[32m\u001b[1m[ ACTION     ] Finish training\u001b[0m\n",
      "\u001b[32m\u001b[1m[ ACTION     ] Clear the xLearn environment ...\u001b[0m\n",
      "\u001b[32m\u001b[1m[------------] Total time cost: 138.82 (sec)\u001b[0m\n",
      "\u001b[32m\u001b[1m----------------------------------------------------------------------------------------------\n",
      "           _\n",
      "          | |\n",
      "     __  _| |     ___  __ _ _ __ _ __\n",
      "     \\ \\/ / |    / _ \\/ _` | '__| '_ \\ \n",
      "      >  <| |___|  __/ (_| | |  | | | |\n",
      "     /_/\\_\\_____/\\___|\\__,_|_|  |_| |_|\n",
      "\n",
      "        xLearn   -- 0.40 Version --\n",
      "----------------------------------------------------------------------------------------------\n",
      "\n",
      "\u001b[39m\u001b[0m\u001b[32m[------------] \u001b[0mxLearn uses 8 threads for prediction task.\n",
      "\u001b[32m\u001b[1m[ ACTION     ] Load model ...\u001b[0m\n",
      "\u001b[32m[------------] \u001b[0mLoad model from /opt/downloads/ml/recsys/ffm/model.out\n",
      "\u001b[32m[------------] \u001b[0mLoss function: cross-entropy\n",
      "\u001b[32m[------------] \u001b[0mScore function: ffm\n",
      "\u001b[32m[------------] \u001b[0mNumber of Feature: 9999997\n",
      "\u001b[32m[------------] \u001b[0mNumber of K: 10\n",
      "\u001b[32m[------------] \u001b[0mNumber of field: 5\n",
      "\u001b[32m[------------] \u001b[0mTime cost for loading model: 2.43 (sec)\n",
      "\u001b[32m\u001b[1m[ ACTION     ] Read Problem ...\u001b[0m\n",
      "\u001b[32m[------------] \u001b[0mFirst check if the text file has been already converted to binary format.\n",
      "\u001b[32m[------------] \u001b[0mBinary file (/opt/downloads/ml/recsys/data_val.ffm.bin) found. Skip converting text to binary.\n",
      "\u001b[32m[------------] \u001b[0mTime cost for reading problem: 0.60 (sec)\n",
      "\u001b[32m\u001b[1m[ ACTION     ] Start to predict ...\u001b[0m\n",
      "\u001b[32m[------------] \u001b[0mThe test loss is: 0.124343\n",
      "\u001b[32m\u001b[1m[ ACTION     ] Clear the xLearn environment ...\u001b[0m\n",
      "\u001b[32m\u001b[1m[------------] Total time cost: 4.35 (sec)\u001b[0m\n",
      "FFM lr 0.1 l2 0.0002 k 10 model: acc 0.9655895927529548 log loss 0.12433502511606008, auc 0.8189041699517442\n"
     ]
    }
   ],
   "source": [
    "!python3 ffm.py"
   ]
  },
  {
   "cell_type": "markdown",
   "metadata": {},
   "source": [
    "Получили log loss лучшей модели 0.124 (против 0.135 у линейной) и auc 0.819 (против 0.771 у линейной)\n",
    "Превзошли как бейзлайны с всему 0 и 1, так и линейную модель\n",
    "\n",
    "Притом на самом деле, при k=10 и при k=2 результаты отличаются незначительно: лучший AUC 0.819 против 0.818, так что можно использовать и меньшую модель, которая к тому же в несколько раз меньше. Кстати, из-за Hogwild! и lock-free обучения результаты недетерменированны и для k=10 не воспроизвелись, так что итоговоая модель имеет качество 0.818, и без разницы, какой k использовать"
   ]
  },
  {
   "cell_type": "code",
   "execution_count": 13,
   "metadata": {
    "pycharm": {
     "is_executing": true
    }
   },
   "outputs": [],
   "source": [
    "with open('/opt/downloads/ml/recsys/ffm/reses_dict', 'r') as f:\n",
    "    reses = eval(f.read())"
   ]
  },
  {
   "cell_type": "code",
   "execution_count": 14,
   "metadata": {},
   "outputs": [
    {
     "data": {
      "text/plain": [
       "{10: (0.9656036840211595, 0.1243133952515984, 0.8190759889591593),\n",
       " 8: (0.965599456640698, 0.12437600808863317, 0.8186872867785262),\n",
       " 4: (0.9656088508195012, 0.12450785405510574, 0.8184566557432239),\n",
       " 2: (0.9655712741042886, 0.12452355037015102, 0.8183023845913405)}"
      ]
     },
     "execution_count": 14,
     "metadata": {},
     "output_type": "execute_result"
    }
   ],
   "source": [
    "reses"
   ]
  },
  {
   "cell_type": "code",
   "execution_count": 15,
   "metadata": {
    "pycharm": {
     "is_executing": true
    }
   },
   "outputs": [],
   "source": [
    "y_test_lin, y_pred_lin = [], []\n",
    "with open('/opt/downloads/ml/recsys/ffm/linear_y_test', 'r') as f1, open('/opt/downloads/ml/recsys/ffm/linear_y_pred', 'r') as f2:\n",
    "    for i in f1:\n",
    "        y_test_lin.append(float(i))\n",
    "    for i in f2:\n",
    "        y_pred_lin.append(float(i))\n",
    "y_test_lin = np.array(y_test_lin)\n",
    "y_pred_lin = np.array(y_pred_lin)"
   ]
  },
  {
   "cell_type": "code",
   "execution_count": 16,
   "metadata": {
    "pycharm": {
     "is_executing": true
    }
   },
   "outputs": [],
   "source": [
    "from sklearn.metrics import roc_curve, auc as aucc\n",
    "\n",
    "fpr_l, tpr_l, _ = roc_curve(y_test_lin, y_pred_lin)\n",
    "roc_auc_l = auc(fpr_l, tpr_l)"
   ]
  },
  {
   "cell_type": "code",
   "execution_count": 17,
   "metadata": {
    "pycharm": {
     "is_executing": true
    }
   },
   "outputs": [],
   "source": [
    "y_last = FFMClicksPredictor().get_y(\"/opt/downloads/ml/recsys/data_val.ffm\", lambda l: int(l[0]))\n",
    "y_pred = FFMClicksPredictor().get_y(\"/opt/downloads/ml/recsys/ffm/output.txt\", lambda l: float(l))"
   ]
  },
  {
   "cell_type": "code",
   "execution_count": 18,
   "metadata": {
    "pycharm": {
     "is_executing": true
    }
   },
   "outputs": [],
   "source": [
    "fpr, tpr, _ = roc_curve(y_last, y_pred)\n",
    "roc_auc = auc(fpr, tpr)"
   ]
  },
  {
   "cell_type": "markdown",
   "metadata": {},
   "source": [
    "Построим ROC кривую и сравним FFM и линейную модели. Очевидно, что FFM лучше линейной"
   ]
  },
  {
   "cell_type": "code",
   "execution_count": 19,
   "metadata": {
    "pycharm": {
     "is_executing": true
    }
   },
   "outputs": [
    {
     "data": {
      "image/png": "[encoded data removed]",
      "text/plain": [
       "<Figure size 432x288 with 1 Axes>"
      ]
     },
     "metadata": {
      "needs_background": "light"
     },
     "output_type": "display_data"
    }
   ],
   "source": [
    "plt.figure()\n",
    "lw = 2\n",
    "plt.plot(\n",
    "    fpr_l,\n",
    "    tpr_l,\n",
    "    color=\"darkorange\",\n",
    "    lw=lw,\n",
    "    label=\"Linear ROC curve (area = %0.2f)\" % roc_auc_l,\n",
    ")\n",
    "plt.plot(\n",
    "    fpr,\n",
    "    tpr,\n",
    "    color=\"darkblue\",\n",
    "    lw=lw,\n",
    "    label=\"FFM ROC curve (area = %0.2f)\" % roc_auc,\n",
    ")\n",
    "plt.plot([0, 1], [0, 1], color=\"navy\", lw=lw, linestyle=\"--\")\n",
    "plt.xlim([0.0, 1.0])\n",
    "plt.ylim([0.0, 1.05])\n",
    "plt.xlabel(\"False Positive Rate\")\n",
    "plt.ylabel(\"True Positive Rate\")\n",
    "plt.title(\"Receiver operating characteristic example\")\n",
    "plt.legend(loc=\"lower right\")\n",
    "plt.show()"
   ]
  },
  {
   "cell_type": "code",
   "execution_count": 20,
   "metadata": {
    "pycharm": {
     "is_executing": true
    }
   },
   "outputs": [
    {
     "data": {
      "text/plain": [
       "dict_values([(0.9656036840211595, 0.1243133952515984, 0.8190759889591593), (0.965599456640698, 0.12437600808863317, 0.8186872867785262), (0.9656088508195012, 0.12450785405510574, 0.8184566557432239), (0.9655712741042886, 0.12452355037015102, 0.8183023845913405)])"
      ]
     },
     "execution_count": 20,
     "metadata": {},
     "output_type": "execute_result"
    }
   ],
   "source": [
    "reses.values()"
   ]
  },
  {
   "cell_type": "code",
   "execution_count": 21,
   "metadata": {
    "pycharm": {
     "is_executing": true
    }
   },
   "outputs": [
    {
     "data": {
      "image/png": "[encoded data removed]",
      "text/plain": [
       "<Figure size 432x288 with 1 Axes>"
      ]
     },
     "metadata": {
      "needs_background": "light"
     },
     "output_type": "display_data"
    },
    {
     "data": {
      "image/png": "[encoded data removed]",
      "text/plain": [
       "<Figure size 432x288 with 1 Axes>"
      ]
     },
     "metadata": {
      "needs_background": "light"
     },
     "output_type": "display_data"
    },
    {
     "data": {
      "image/png": "[encoded data removed]",
      "text/plain": [
       "<Figure size 432x288 with 1 Axes>"
      ]
     },
     "metadata": {
      "needs_background": "light"
     },
     "output_type": "display_data"
    }
   ],
   "source": [
    "for ind,name in [(0, 'accuracy'), (1, 'log loss'), (2, 'auc')]:\n",
    "    plt.title(f'{name} bar plot (x-axis: (lr, l2, k))')\n",
    "    vals = [i[ind] for i in reses.values()]\n",
    "    plt.bar([str(i) for i in reses.keys()], vals)\n",
    "    plt.ylim(min(vals), max(vals))\n",
    "    plt.show()"
   ]
  },
  {
   "cell_type": "markdown",
   "metadata": {
    "pycharm": {
     "is_executing": true
    }
   },
   "source": []
  },
  {
   "cell_type": "code",
   "execution_count": null,
   "metadata": {},
   "outputs": [],
   "source": []
  }
 ],
 "metadata": {
  "kernelspec": {
   "display_name": "Python 3",
   "language": "python",
   "name": "python3"
  },
  "language_info": {
   "codemirror_mode": {
    "name": "ipython",
    "version": 3
   },
   "file_extension": ".py",
   "mimetype": "text/x-python",
   "name": "python",
   "nbconvert_exporter": "python",
   "pygments_lexer": "ipython3",
   "version": "3.9.7"
  }
 },
 "nbformat": 4,
 "nbformat_minor": 1
}
