{
  "cells": [
    {
      "cell_type": "markdown",
      "source": [
        "подключим библиотеки, загрузим датасет"
      ],
      "metadata": {
        "id": "wrM3v7MCMQNP"
      }
    },
    {
      "cell_type": "code",
      "source": [
        "from google.colab import drive\n",
        "drive.mount('/gdrive')"
      ],
      "metadata": {
        "colab": {
          "base_uri": "https://localhost:8080/"
        },
        "id": "aQQbW8bmNsIC",
        "outputId": "309eb022-da3f-4017-d5e1-872b84b27d00"
      },
      "execution_count": 1,
      "outputs": [
        {
          "output_type": "stream",
          "name": "stdout",
          "text": [
            "Drive already mounted at /gdrive; to attempt to forcibly remount, call drive.mount(\"/gdrive\", force_remount=True).\n"
          ]
        }
      ]
    },
    {
      "cell_type": "code",
      "source": [
        "!pip3 install xlearn"
      ],
      "metadata": {
        "colab": {
          "base_uri": "https://localhost:8080/"
        },
        "id": "dfi5_eeaE_u5",
        "outputId": "cbec0ce7-4076-4606-b1db-cecf30ce42dc"
      },
      "execution_count": 2,
      "outputs": [
        {
          "output_type": "stream",
          "name": "stdout",
          "text": [
            "Looking in indexes: https://pypi.org/simple, https://us-python.pkg.dev/colab-wheels/public/simple/\n",
            "Requirement already satisfied: xlearn in /usr/local/lib/python3.7/dist-packages (0.40a1)\n"
          ]
        }
      ]
    },
    {
      "cell_type": "code",
      "execution_count": 3,
      "metadata": {
        "collapsed": true,
        "id": "-5i51q6oE1nL"
      },
      "outputs": [],
      "source": [
        "import sys\n",
        "import os\n",
        "import numpy as np\n",
        "import pandas as pd\n",
        "import xlearn as xl\n",
        "from sklearn.model_selection import ParameterGrid\n",
        "from sklearn.model_selection import train_test_split\n",
        "from tempfile import TemporaryDirectory\n",
        "from sklearn.metrics import roc_auc_score, log_loss\n",
        "os.environ['USER'] = 'xlearn'"
      ]
    },
    {
      "cell_type": "code",
      "source": [
        "tmpdir = TemporaryDirectory()\n",
        "data_path = tmpdir.name\n",
        "train_file = os.path.join(data_path, \"train.txt\")\n",
        "valid_file = os.path.join(data_path, \"valid.txt\")\n",
        "test_file = os.path.join(data_path, \"test.txt\")\n",
        "model_file = os.path.join(data_path, \"model.out\")\n",
        "output_file = os.path.join(data_path, \"output.txt\")\n"
      ],
      "metadata": {
        "id": "LjcTu0gvZcv_"
      },
      "execution_count": 4,
      "outputs": []
    },
    {
      "cell_type": "code",
      "execution_count": 5,
      "outputs": [],
      "source": [
        "data = pd.read_csv('/gdrive/MyDrive/data/data.csv').sample(frac=0.1, random_state=1)"
      ],
      "metadata": {
        "id": "BvptfRasE1nM"
      }
    },
    {
      "cell_type": "markdown",
      "source": [
        "Сразу удалим ненужные по условию фичи. А так же  \"impressions\", \"campaign_clicks\" .\n",
        "Преобразуем дату в удобный тип."
      ],
      "metadata": {
        "collapsed": false,
        "id": "_W9PYHFwE1nN"
      }
    },
    {
      "cell_type": "code",
      "execution_count": 6,
      "outputs": [],
      "source": [
        "data = data.drop(columns=[\"banner_id0\", \"banner_id1\", \"rate0\", \"rate1\", \"g0\", \"g1\", \"coeff_sum0\", \"coeff_sum1\", \"impressions\"])\n",
        "#, \"campaign_clicks\"\n",
        "data['date_time'] = pd.to_datetime(data['date_time'])"
      ],
      "metadata": {
        "id": "2AYk1IDpE1nN"
      }
    },
    {
      "cell_type": "markdown",
      "source": [
        "Выделим в test_raw часть последний день, в train_valid_raw - все кроме последнего. \n",
        "\n",
        "разобьем train_valid_raw на train, valid .\n",
        "\n",
        "Сделаем чтобы 'clicks' был первой колонкой. Удалим \"date_time\""
      ],
      "metadata": {
        "collapsed": false,
        "id": "mdxFDc_RE1nO"
      }
    },
    {
      "cell_type": "code",
      "execution_count": 7,
      "outputs": [],
      "source": [
        "train_valid_raw = data[data['date_time'].dt.date != data['date_time'].dt.date.max()]\n",
        "test_raw = data[data['date_time'].dt.date == data['date_time'].dt.date.max()]\n",
        "\n",
        "train_valid = pd.concat([train_valid_raw['clicks'], train_valid_raw.drop(columns=['date_time', 'clicks'])], axis=1)\n",
        "train, valid = train_test_split(train_valid, test_size=0.25, random_state=42)\n",
        "\n",
        "\n",
        "test = pd.concat([test_raw['clicks'], test_raw.drop(columns=['date_time', 'clicks'])], axis=1)"
      ],
      "metadata": {
        "id": "4z9UR1egE1nO"
      }
    },
    {
      "cell_type": "markdown",
      "source": [
        "Переведем наши dataframe в libffm формат"
      ],
      "metadata": {
        "id": "al_hRq4iNAFC"
      }
    },
    {
      "cell_type": "code",
      "source": [
        "class LibFFMEncoder(object):\n",
        "    def __init__(self):\n",
        "        self.en = {}\n",
        "\n",
        "    def encode(self, row):\n",
        "        new_row = f\"{row[0]}\"\n",
        "        for i, r in enumerate(row[1:]):\n",
        "            if i not in self.en:\n",
        "              self.en[i] = {}\n",
        "            if r not in self.en[i]:\n",
        "              self.en[i][r] = len(self.en[i])\n",
        "            new_row += f' {i+1}:{self.en[i][r]}:1'\n",
        "        return new_row"
      ],
      "metadata": {
        "id": "vnpaWJvh00in"
      },
      "execution_count": 8,
      "outputs": []
    },
    {
      "cell_type": "code",
      "source": [
        "encoder = LibFFMEncoder()\n",
        "train_ffm = train.apply(lambda row: encoder.encode(row), raw=True, axis=1)\n",
        "valid_ffm = valid.apply(lambda row: encoder.encode(row), raw=True, axis=1)\n",
        "test_ffm = test.apply(lambda row: encoder.encode(row), raw=True, axis=1)"
      ],
      "metadata": {
        "id": "uoQvQ7upo-6D"
      },
      "execution_count": 9,
      "outputs": []
    },
    {
      "cell_type": "markdown",
      "source": [
        "сохраним все в файлы. (нужно для xlearn)"
      ],
      "metadata": {
        "id": "wWJ2wjUXNO5k"
      }
    },
    {
      "cell_type": "code",
      "source": [
        "train_ffm.to_csv(train_file, index=False, header=False)\n",
        "valid_ffm.to_csv(valid_file, index=False, header=False)\n",
        "test_ffm.to_csv(test_file, index=False, header=False)"
      ],
      "metadata": {
        "id": "6EzAd6J_cwl8"
      },
      "execution_count": 10,
      "outputs": []
    },
    {
      "cell_type": "markdown",
      "source": [
        "попробуем перебрать параметры. \n",
        "к - длина вектора"
      ],
      "metadata": {
        "id": "PCziEsPiVI0x"
      }
    },
    {
      "cell_type": "code",
      "source": [
        "param_dict = {\n",
        "    \"lr\": [0.1, 0.2],\n",
        "    \"lambda\": [0.0001, 0.001],\n",
        "    \"k\" : [3, 5, 7, 16]\n",
        "}\n",
        "param_grid = list(ParameterGrid(param_dict))\n",
        "#param_grid"
      ],
      "metadata": {
        "id": "DzhkC9CDD2oV"
      },
      "execution_count": 11,
      "outputs": []
    },
    {
      "cell_type": "code",
      "source": [
        "max_auc = -1\n",
        "max_ll = -1\n",
        "max_param = None\n",
        "for param in param_grid:\n",
        "    param.update({'task':'binary', 'metric': 'auc'})\n",
        "    ffm_model = xl.create_ffm()       \n",
        "    ffm_model.setTrain(train_file)     \n",
        "    ffm_model.setValidate(valid_file)\n",
        "    ffm_model.fit(param, model_file)\n",
        "\n",
        "    ffm_model.setTest(valid_file)  \n",
        "    ffm_model.setSigmoid()        \n",
        "    ffm_model.predict(model_file, output_file)\n",
        "\n",
        "    with open(output_file, 'r') as f:\n",
        "      y_pred_proba = np.array([float(prediction) for prediction in f.readlines()])\n",
        "\n",
        "    roc_auc_metric = roc_auc_score(valid['clicks'], y_pred_proba)\n",
        "    log_loss_metric = log_loss(valid['clicks'], y_pred_proba)\n",
        "    print(f\"{param} ### roc_auc={roc_auc_metric}, log_loss={log_loss_metric}\")\n",
        "    if max_auc < roc_auc_metric:\n",
        "      max_auc = roc_auc_metric\n",
        "      max_ll = log_loss_metric\n",
        "      max_param = param"
      ],
      "metadata": {
        "colab": {
          "base_uri": "https://localhost:8080/"
        },
        "id": "UDOm3i4oEJun",
        "outputId": "bd78f5e4-a24d-4fed-b46c-ab0b10f9b5ff"
      },
      "execution_count": 12,
      "outputs": [
        {
          "output_type": "stream",
          "name": "stdout",
          "text": [
            "{'k': 3, 'lambda': 0.0001, 'lr': 0.1, 'task': 'binary', 'metric': 'auc'} ### roc_auc=0.7767756273892892, log_loss=0.10256103334432431\n",
            "{'k': 3, 'lambda': 0.0001, 'lr': 0.2, 'task': 'binary', 'metric': 'auc'} ### roc_auc=0.780439920697833, log_loss=0.10090312457540034\n",
            "{'k': 3, 'lambda': 0.001, 'lr': 0.1, 'task': 'binary', 'metric': 'auc'} ### roc_auc=0.7430963112800254, log_loss=0.10771592133084171\n",
            "{'k': 3, 'lambda': 0.001, 'lr': 0.2, 'task': 'binary', 'metric': 'auc'} ### roc_auc=0.7476108978469318, log_loss=0.10670746055333855\n",
            "{'k': 5, 'lambda': 0.0001, 'lr': 0.1, 'task': 'binary', 'metric': 'auc'} ### roc_auc=0.7790240891264972, log_loss=0.10229413681426787\n",
            "{'k': 5, 'lambda': 0.0001, 'lr': 0.2, 'task': 'binary', 'metric': 'auc'} ### roc_auc=0.7850039159774473, log_loss=0.10057416415564484\n",
            "{'k': 5, 'lambda': 0.001, 'lr': 0.1, 'task': 'binary', 'metric': 'auc'} ### roc_auc=0.7434351373229462, log_loss=0.10768652511814017\n",
            "{'k': 5, 'lambda': 0.001, 'lr': 0.2, 'task': 'binary', 'metric': 'auc'} ### roc_auc=0.7478498911114011, log_loss=0.10666555330884885\n",
            "{'k': 7, 'lambda': 0.0001, 'lr': 0.1, 'task': 'binary', 'metric': 'auc'} ### roc_auc=0.7807831811644546, log_loss=0.10194356604659692\n",
            "{'k': 7, 'lambda': 0.0001, 'lr': 0.2, 'task': 'binary', 'metric': 'auc'} ### roc_auc=0.7862452620894234, log_loss=0.10036788970150316\n",
            "{'k': 7, 'lambda': 0.001, 'lr': 0.1, 'task': 'binary', 'metric': 'auc'} ### roc_auc=0.7432659245680153, log_loss=0.10768208785098698\n",
            "{'k': 7, 'lambda': 0.001, 'lr': 0.2, 'task': 'binary', 'metric': 'auc'} ### roc_auc=0.7477378412091886, log_loss=0.10668475968716432\n",
            "{'k': 16, 'lambda': 0.0001, 'lr': 0.1, 'task': 'binary', 'metric': 'auc'} ### roc_auc=0.7850053656163284, log_loss=0.10101668301423768\n",
            "{'k': 16, 'lambda': 0.0001, 'lr': 0.2, 'task': 'binary', 'metric': 'auc'} ### roc_auc=0.7878045334807533, log_loss=0.10050004081505186\n",
            "{'k': 16, 'lambda': 0.001, 'lr': 0.1, 'task': 'binary', 'metric': 'auc'} ### roc_auc=0.7435305896821549, log_loss=0.10762492249747828\n",
            "{'k': 16, 'lambda': 0.001, 'lr': 0.2, 'task': 'binary', 'metric': 'auc'} ### roc_auc=0.7480015737078907, log_loss=0.1065568817789757\n"
          ]
        }
      ]
    },
    {
      "cell_type": "code",
      "source": [
        "print(f\"{max_param} ### roc_auc={max_auc}, log_loss={max_ll}\")"
      ],
      "metadata": {
        "colab": {
          "base_uri": "https://localhost:8080/"
        },
        "id": "k61MatCHGADi",
        "outputId": "981b2694-11e4-4148-9bad-b6a9cf50fa84"
      },
      "execution_count": 13,
      "outputs": [
        {
          "output_type": "stream",
          "name": "stdout",
          "text": [
            "{'k': 16, 'lambda': 0.0001, 'lr': 0.2, 'task': 'binary', 'metric': 'auc'} ### roc_auc=0.7878045334807533, log_loss=0.10050004081505186\n"
          ]
        }
      ]
    },
    {
      "cell_type": "code",
      "source": [
        "pp = {'k': 5, 'lambda': 0.0001, 'lr': 0.1, 'task': 'binary', 'metric': 'auc'}"
      ],
      "metadata": {
        "id": "jqF-ttaQU3lr"
      },
      "execution_count": null,
      "outputs": []
    },
    {
      "cell_type": "code",
      "source": [
        "ffm_model = xl.create_ffm()       \n",
        "ffm_model.setTrain(train_file)     \n",
        "ffm_model.setValidate(valid_file)\n",
        "ffm_model.fit(max_param, model_file)\n",
        "\n",
        "ffm_model.setTest(test_file)  \n",
        "ffm_model.setSigmoid()        \n",
        "ffm_model.predict(model_file, output_file)\n",
        "\n",
        "with open(output_file, 'r') as f:\n",
        "  y_pred_proba = np.array([float(prediction) for prediction in f.readlines()])\n",
        "\n",
        "roc_auc_metric = roc_auc_score(test['clicks'], y_pred_proba)\n",
        "log_loss_metric = log_loss(test['clicks'], y_pred_proba)\n",
        "print(f\"{param} \\n roc_auc={roc_auc_metric}, log_loss={log_loss_metric}\")"
      ],
      "metadata": {
        "colab": {
          "base_uri": "https://localhost:8080/"
        },
        "id": "czAtqZHXlCAj",
        "outputId": "10a69826-fc23-4022-81d4-cde40154dc26"
      },
      "execution_count": 16,
      "outputs": [
        {
          "output_type": "stream",
          "name": "stdout",
          "text": [
            "{'k': 16, 'lambda': 0.001, 'lr': 0.2, 'task': 'binary', 'metric': 'auc'} \n",
            " roc_auc=0.7789462529724076, log_loss=0.13695412614481403\n"
          ]
        }
      ]
    },
    {
      "cell_type": "markdown",
      "source": [
        "# результат выше оказался лучше, чем бейзлайн и чем первая домашка"
      ],
      "metadata": {
        "id": "EjniZ8RpVTpu"
      }
    },
    {
      "cell_type": "code",
      "source": [
        "y_pred_proba = np.full(y_pred_proba.shape, np.mean(train['clicks']))\n",
        "roc_auc_metric = roc_auc_score(test['clicks'], y_pred_proba)\n",
        "log_loss_metric = log_loss(test['clicks'], y_pred_proba)\n",
        "print(f\"{param} \\n roc_auc={roc_auc_metric}, log_loss={log_loss_metric}\")"
      ],
      "metadata": {
        "colab": {
          "base_uri": "https://localhost:8080/"
        },
        "id": "xeC8BbOVJOBi",
        "outputId": "be7a750e-1f82-4e2f-ab44-a646ea945392"
      },
      "execution_count": 15,
      "outputs": [
        {
          "output_type": "stream",
          "name": "stdout",
          "text": [
            "{'k': 16, 'lambda': 0.001, 'lr': 0.2, 'task': 'binary', 'metric': 'auc'} \n",
            " roc_auc=0.5, log_loss=0.15665385637598783\n"
          ]
        }
      ]
    }
  ],
  "metadata": {
    "kernelspec": {
      "display_name": "Python 3",
      "language": "python",
      "name": "python3"
    },
    "language_info": {
      "codemirror_mode": {
        "name": "ipython",
        "version": 2
      },
      "file_extension": ".py",
      "mimetype": "text/x-python",
      "name": "python",
      "nbconvert_exporter": "python",
      "pygments_lexer": "ipython2",
      "version": "2.7.6"
    },
    "colab": {
      "provenance": []
    }
  },
  "nbformat": 4,
  "nbformat_minor": 0
}