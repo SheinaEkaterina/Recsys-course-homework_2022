{
 "cells": [
  {
   "cell_type": "code",
   "execution_count": 2,
   "metadata": {
    "collapsed": true,
    "pycharm": {
     "name": "#%%\n"
    }
   },
   "outputs": [],
   "source": [
    "import os\n",
    "\n",
    "import tqdm\n",
    "\n",
    "os.chdir(\"/home/anutka/PycharmProjects/Recsys-course-homework_2022\")\n",
    "\n",
    "import xlearn as xl\n",
    "from recommenders.datasets.pandas_df_utils import LibffmConverter\n",
    "\n",
    "import pandas as pd\n",
    "import numpy as np\n",
    "\n",
    "import matplotlib.pyplot as plt\n",
    "import seaborn as sns\n",
    "\n",
    "print_n = lambda x: print(f\"{x:_}\")\n",
    "\n",
    "import warnings\n",
    "\n",
    "warnings.simplefilter(action='ignore', category=FutureWarning)\n",
    "warnings.simplefilter(action='ignore', category=UserWarning)\n",
    "pd.options.mode.chained_assignment = None"
   ]
  },
  {
   "cell_type": "code",
   "execution_count": 2,
   "outputs": [
    {
     "name": "stdout",
     "output_type": "stream",
     "text": [
      "15_821_472\n"
     ]
    }
   ],
   "source": [
    "print_n(15821472)"
   ],
   "metadata": {
    "collapsed": false,
    "pycharm": {
     "name": "#%%\n"
    }
   }
  },
  {
   "cell_type": "markdown",
   "source": [
    "## Read data"
   ],
   "metadata": {
    "collapsed": false,
    "pycharm": {
     "name": "#%% md\n"
    }
   }
  },
  {
   "cell_type": "code",
   "execution_count": 3,
   "outputs": [
    {
     "name": "stdout",
     "output_type": "stream",
     "text": [
      "CPU times: user 32.8 s, sys: 3.81 s, total: 36.6 s\n",
      "Wall time: 37 s\n"
     ]
    },
    {
     "data": {
      "text/plain": "            date_time  zone_id  banner_id            oaid_hash  \\\n0 2021-09-27 00:01:30        0          0  5664530014561852622   \n1 2021-09-26 22:54:49        1          1  5186611064559013950   \n2 2021-09-26 23:57:20        2          2  2215519569292448030   \n3 2021-09-27 00:04:30        3          3  6262169206735077204   \n4 2021-09-27 00:06:21        4          4  4778985830203613115   \n\n   campaign_clicks  os_id  country_id  clicks  \n0                0      0           0       1  \n1                0      0           1       1  \n2                3      0           0       1  \n3                0      1           1       1  \n4                0      1           0       1  ",
      "text/html": "<div>\n<style scoped>\n    .dataframe tbody tr th:only-of-type {\n        vertical-align: middle;\n    }\n\n    .dataframe tbody tr th {\n        vertical-align: top;\n    }\n\n    .dataframe thead th {\n        text-align: right;\n    }\n</style>\n<table border=\"1\" class=\"dataframe\">\n  <thead>\n    <tr style=\"text-align: right;\">\n      <th></th>\n      <th>date_time</th>\n      <th>zone_id</th>\n      <th>banner_id</th>\n      <th>oaid_hash</th>\n      <th>campaign_clicks</th>\n      <th>os_id</th>\n      <th>country_id</th>\n      <th>clicks</th>\n    </tr>\n  </thead>\n  <tbody>\n    <tr>\n      <th>0</th>\n      <td>2021-09-27 00:01:30</td>\n      <td>0</td>\n      <td>0</td>\n      <td>5664530014561852622</td>\n      <td>0</td>\n      <td>0</td>\n      <td>0</td>\n      <td>1</td>\n    </tr>\n    <tr>\n      <th>1</th>\n      <td>2021-09-26 22:54:49</td>\n      <td>1</td>\n      <td>1</td>\n      <td>5186611064559013950</td>\n      <td>0</td>\n      <td>0</td>\n      <td>1</td>\n      <td>1</td>\n    </tr>\n    <tr>\n      <th>2</th>\n      <td>2021-09-26 23:57:20</td>\n      <td>2</td>\n      <td>2</td>\n      <td>2215519569292448030</td>\n      <td>3</td>\n      <td>0</td>\n      <td>0</td>\n      <td>1</td>\n    </tr>\n    <tr>\n      <th>3</th>\n      <td>2021-09-27 00:04:30</td>\n      <td>3</td>\n      <td>3</td>\n      <td>6262169206735077204</td>\n      <td>0</td>\n      <td>1</td>\n      <td>1</td>\n      <td>1</td>\n    </tr>\n    <tr>\n      <th>4</th>\n      <td>2021-09-27 00:06:21</td>\n      <td>4</td>\n      <td>4</td>\n      <td>4778985830203613115</td>\n      <td>0</td>\n      <td>1</td>\n      <td>0</td>\n      <td>1</td>\n    </tr>\n  </tbody>\n</table>\n</div>"
     },
     "execution_count": 3,
     "metadata": {},
     "output_type": "execute_result"
    }
   ],
   "source": [
    "%%time\n",
    "df = pd.read_csv('./data/data.csv', parse_dates=[\"date_time\"], date_parser=pd.to_datetime)\n",
    "not_needed = [\"banner_id0\", \"banner_id1\", \"rate0\",\n",
    "              \"rate1\", \"g0\", \"g1\", \"coeff_sum0\", \"coeff_sum1\", \"impressions\"]\n",
    "df.drop(labels=not_needed, axis=1, inplace=True)\n",
    "df.head()"
   ],
   "metadata": {
    "collapsed": false,
    "pycharm": {
     "name": "#%%\n"
    }
   }
  },
  {
   "cell_type": "markdown",
   "source": [
    "Обработку данных я оставлю такой же кaк в предыдущей домашке, за исключением oaid_hash. Если посмотреть на распределение колва наблюдений по юзерам станет понятно, что у нас в выборке примерно процентов 70 юзеров встречаются только один или два раза, таким юзерам я планирую присвоить одну категорию, так как много информации мы не потеряем, но при этом размерность сократим значительно и ускорим вычисления\n"
   ],
   "metadata": {
    "collapsed": false,
    "pycharm": {
     "name": "#%% md\n"
    }
   }
  },
  {
   "cell_type": "code",
   "execution_count": 4,
   "outputs": [
    {
     "data": {
      "text/plain": "1       4182814\n2       1049124\n3        432171\n4        233187\n5        144499\n         ...   \n480           1\n482           1\n486           1\n493           1\n5243          1\nName: oaid_hash, Length: 576, dtype: int64"
     },
     "execution_count": 4,
     "metadata": {},
     "output_type": "execute_result"
    }
   ],
   "source": [
    "user_counts = df[\"oaid_hash\"].value_counts()\n",
    "user_counts.value_counts()"
   ],
   "metadata": {
    "collapsed": false,
    "pycharm": {
     "name": "#%%\n"
    }
   }
  },
  {
   "cell_type": "code",
   "execution_count": 5,
   "outputs": [
    {
     "data": {
      "text/plain": "array([1917392411660372827, 9079324665557264455, 6791436194155659944, ...,\n       8578082337233412909, 8779980718415233023,  453968700792456599])"
     },
     "execution_count": 5,
     "metadata": {},
     "output_type": "execute_result"
    }
   ],
   "source": [
    "rare_users = user_counts[user_counts <= 2].index.values\n",
    "rare_users"
   ],
   "metadata": {
    "collapsed": false,
    "pycharm": {
     "name": "#%%\n"
    }
   }
  },
  {
   "cell_type": "code",
   "execution_count": 6,
   "outputs": [
    {
     "name": "stdout",
     "output_type": "stream",
     "text": [
      "5_231_938\n",
      "6_510_316\n",
      "1_278_378\n"
     ]
    }
   ],
   "source": [
    "mask = df['oaid_hash'].isin(rare_users)\n",
    "n_rare_users = len(rare_users)\n",
    "n_all_users = len(user_counts)\n",
    "\n",
    "print_n(n_rare_users)\n",
    "print_n(n_all_users)\n",
    "print_n(n_all_users - n_rare_users)"
   ],
   "metadata": {
    "collapsed": false,
    "pycharm": {
     "name": "#%%\n"
    }
   }
  },
  {
   "cell_type": "code",
   "execution_count": 7,
   "outputs": [],
   "source": [
    "df['oaid_hash'] = np.where(mask, 0, df['oaid_hash'])"
   ],
   "metadata": {
    "collapsed": false,
    "pycharm": {
     "name": "#%%\n"
    }
   }
  },
  {
   "cell_type": "code",
   "execution_count": 8,
   "outputs": [
    {
     "data": {
      "text/plain": "            date_time  zone_id  banner_id            oaid_hash  \\\n0 2021-09-27 00:01:30        0          0                    0   \n1 2021-09-26 22:54:49        1          1                    0   \n2 2021-09-26 23:57:20        2          2  2215519569292448030   \n3 2021-09-27 00:04:30        3          3                    0   \n4 2021-09-27 00:06:21        4          4                    0   \n\n   campaign_clicks  os_id  country_id  clicks  \n0                0      0           0       1  \n1                0      0           1       1  \n2                3      0           0       1  \n3                0      1           1       1  \n4                0      1           0       1  ",
      "text/html": "<div>\n<style scoped>\n    .dataframe tbody tr th:only-of-type {\n        vertical-align: middle;\n    }\n\n    .dataframe tbody tr th {\n        vertical-align: top;\n    }\n\n    .dataframe thead th {\n        text-align: right;\n    }\n</style>\n<table border=\"1\" class=\"dataframe\">\n  <thead>\n    <tr style=\"text-align: right;\">\n      <th></th>\n      <th>date_time</th>\n      <th>zone_id</th>\n      <th>banner_id</th>\n      <th>oaid_hash</th>\n      <th>campaign_clicks</th>\n      <th>os_id</th>\n      <th>country_id</th>\n      <th>clicks</th>\n    </tr>\n  </thead>\n  <tbody>\n    <tr>\n      <th>0</th>\n      <td>2021-09-27 00:01:30</td>\n      <td>0</td>\n      <td>0</td>\n      <td>0</td>\n      <td>0</td>\n      <td>0</td>\n      <td>0</td>\n      <td>1</td>\n    </tr>\n    <tr>\n      <th>1</th>\n      <td>2021-09-26 22:54:49</td>\n      <td>1</td>\n      <td>1</td>\n      <td>0</td>\n      <td>0</td>\n      <td>0</td>\n      <td>1</td>\n      <td>1</td>\n    </tr>\n    <tr>\n      <th>2</th>\n      <td>2021-09-26 23:57:20</td>\n      <td>2</td>\n      <td>2</td>\n      <td>2215519569292448030</td>\n      <td>3</td>\n      <td>0</td>\n      <td>0</td>\n      <td>1</td>\n    </tr>\n    <tr>\n      <th>3</th>\n      <td>2021-09-27 00:04:30</td>\n      <td>3</td>\n      <td>3</td>\n      <td>0</td>\n      <td>0</td>\n      <td>1</td>\n      <td>1</td>\n      <td>1</td>\n    </tr>\n    <tr>\n      <th>4</th>\n      <td>2021-09-27 00:06:21</td>\n      <td>4</td>\n      <td>4</td>\n      <td>0</td>\n      <td>0</td>\n      <td>1</td>\n      <td>0</td>\n      <td>1</td>\n    </tr>\n  </tbody>\n</table>\n</div>"
     },
     "execution_count": 8,
     "metadata": {},
     "output_type": "execute_result"
    }
   ],
   "source": [
    "df.head()"
   ],
   "metadata": {
    "collapsed": false,
    "pycharm": {
     "name": "#%%\n"
    }
   }
  },
  {
   "cell_type": "code",
   "execution_count": 9,
   "outputs": [
    {
     "name": "stdout",
     "output_type": "stream",
     "text": [
      "Dataset samples 15_821_471\n"
     ]
    },
    {
     "data": {
      "text/plain": "            date_time  zone_id  banner_id            oaid_hash  \\\n0 2021-09-27 00:01:30        0          0                    0   \n1 2021-09-26 22:54:49        1          1                    0   \n2 2021-09-26 23:57:20        2          2  2215519569292448030   \n3 2021-09-27 00:04:30        3          3                    0   \n4 2021-09-27 00:06:21        4          4                    0   \n\n   campaign_clicks  os_id  country_id  clicks  day  \n0                0      0           0       1    0  \n1                0      0           1       1    6  \n2                3      0           0       1    6  \n3                0      1           1       1    0  \n4                0      1           0       1    0  ",
      "text/html": "<div>\n<style scoped>\n    .dataframe tbody tr th:only-of-type {\n        vertical-align: middle;\n    }\n\n    .dataframe tbody tr th {\n        vertical-align: top;\n    }\n\n    .dataframe thead th {\n        text-align: right;\n    }\n</style>\n<table border=\"1\" class=\"dataframe\">\n  <thead>\n    <tr style=\"text-align: right;\">\n      <th></th>\n      <th>date_time</th>\n      <th>zone_id</th>\n      <th>banner_id</th>\n      <th>oaid_hash</th>\n      <th>campaign_clicks</th>\n      <th>os_id</th>\n      <th>country_id</th>\n      <th>clicks</th>\n      <th>day</th>\n    </tr>\n  </thead>\n  <tbody>\n    <tr>\n      <th>0</th>\n      <td>2021-09-27 00:01:30</td>\n      <td>0</td>\n      <td>0</td>\n      <td>0</td>\n      <td>0</td>\n      <td>0</td>\n      <td>0</td>\n      <td>1</td>\n      <td>0</td>\n    </tr>\n    <tr>\n      <th>1</th>\n      <td>2021-09-26 22:54:49</td>\n      <td>1</td>\n      <td>1</td>\n      <td>0</td>\n      <td>0</td>\n      <td>0</td>\n      <td>1</td>\n      <td>1</td>\n      <td>6</td>\n    </tr>\n    <tr>\n      <th>2</th>\n      <td>2021-09-26 23:57:20</td>\n      <td>2</td>\n      <td>2</td>\n      <td>2215519569292448030</td>\n      <td>3</td>\n      <td>0</td>\n      <td>0</td>\n      <td>1</td>\n      <td>6</td>\n    </tr>\n    <tr>\n      <th>3</th>\n      <td>2021-09-27 00:04:30</td>\n      <td>3</td>\n      <td>3</td>\n      <td>0</td>\n      <td>0</td>\n      <td>1</td>\n      <td>1</td>\n      <td>1</td>\n      <td>0</td>\n    </tr>\n    <tr>\n      <th>4</th>\n      <td>2021-09-27 00:06:21</td>\n      <td>4</td>\n      <td>4</td>\n      <td>0</td>\n      <td>0</td>\n      <td>1</td>\n      <td>0</td>\n      <td>1</td>\n      <td>0</td>\n    </tr>\n  </tbody>\n</table>\n</div>"
     },
     "execution_count": 9,
     "metadata": {},
     "output_type": "execute_result"
    }
   ],
   "source": [
    "# Delete\n",
    "index = df[(df.date_time.dt.day == 1) & (df.date_time.dt.month == 9)].index\n",
    "df.drop(index, inplace=True)\n",
    "print(f\"Dataset samples {len(df):_}\")  # 15 821 472\n",
    "df[\"day\"] = df[\"date_time\"].dt.dayofweek\n",
    "# df['log_clicks'] = np.log(df['campaign_clicks'] + 1e-5)\n",
    "df.head()"
   ],
   "metadata": {
    "collapsed": false,
    "pycharm": {
     "name": "#%%\n"
    }
   }
  },
  {
   "cell_type": "code",
   "execution_count": 10,
   "outputs": [
    {
     "name": "stdout",
     "output_type": "stream",
     "text": [
      "12_049_045\n",
      "1_643_448\n",
      "2_128_978\n"
     ]
    }
   ],
   "source": [
    "train_set = df[df[\"date_time\"].dt.date <= pd.to_datetime('2021-09-30')]\n",
    "val_set = df[df[\"date_time\"].dt.date == pd.to_datetime('2021-10-01')]\n",
    "test_set = df[df[\"date_time\"].dt.date == pd.to_datetime('2021-10-02')]\n",
    "print_n(len(train_set))\n",
    "print_n(len(val_set))\n",
    "print_n(len(test_set))"
   ],
   "metadata": {
    "collapsed": false,
    "pycharm": {
     "name": "#%%\n"
    }
   }
  },
  {
   "cell_type": "code",
   "execution_count": null,
   "outputs": [],
   "source": [
    "train_set.head()"
   ],
   "metadata": {
    "collapsed": false,
    "pycharm": {
     "name": "#%%\n",
     "is_executing": true
    }
   }
  },
  {
   "cell_type": "code",
   "execution_count": null,
   "outputs": [],
   "source": [
    "not_needed = [\"date_time\", \"campaign_clicks\"]\n",
    "train_set.drop(labels=not_needed, axis=1, inplace=True)\n",
    "train_set.head()\n",
    "train_set.to_csv(\"data/prep_train.csv\", index=False)"
   ],
   "metadata": {
    "collapsed": false,
    "pycharm": {
     "name": "#%%\n",
     "is_executing": true
    }
   }
  },
  {
   "cell_type": "code",
   "execution_count": 17,
   "outputs": [],
   "source": [
    "not_needed = [\"date_time\", \"campaign_clicks\"]\n",
    "val_set.drop(labels=not_needed, axis=1, inplace=True)\n",
    "val_set.to_csv(\"data/prep_val.csv\")"
   ],
   "metadata": {
    "collapsed": false,
    "pycharm": {
     "name": "#%%\n"
    }
   }
  },
  {
   "cell_type": "code",
   "execution_count": 18,
   "outputs": [],
   "source": [
    "not_needed = [\"date_time\", \"campaign_clicks\"]\n",
    "test_set.drop(labels=not_needed, axis=1, inplace=True)\n",
    "test_set.to_csv(\"data/prep_test.csv\")"
   ],
   "metadata": {
    "collapsed": false,
    "pycharm": {
     "name": "#%%\n"
    }
   }
  },
  {
   "cell_type": "code",
   "execution_count": 22,
   "outputs": [],
   "source": [
    "del train_set\n",
    "del val_set\n",
    "del test_set"
   ],
   "metadata": {
    "collapsed": false,
    "pycharm": {
     "name": "#%%\n"
    }
   }
  },
  {
   "cell_type": "code",
   "execution_count": 4,
   "outputs": [],
   "source": [
    "train_file = \"task_2_fm/train.txt\"\n",
    "valid_file = \"task_2_fm/valid.txt\"\n",
    "test_file = \"task_2_fm/test.txt\"\n",
    "model_file = \"task_2_fm/model.out\"\n",
    "output_file = \"task_2_fm/output.txt\""
   ],
   "metadata": {
    "collapsed": false,
    "pycharm": {
     "name": "#%%\n"
    }
   }
  },
  {
   "cell_type": "code",
   "execution_count": 2,
   "outputs": [],
   "source": [
    "import numpy as np # linear algebra\n",
    "import pandas as pd # data processing, CSV file I/O (e.g. pd.read_csv)\n",
    "\n",
    "\n",
    "'''\n",
    "Another CTR comp and so i suspect libffm will play its part, after all it is an atomic bomb for this kind of stuff.\n",
    "A sci-kit learn inspired script to convert pandas dataframes into libFFM style data.\n",
    "\n",
    "The script is fairly hacky (hey thats Kaggle) and takes a little while to run a huge dataset.\n",
    "The key to using this class is setting up the features dtypes correctly for output (ammend transform to suit your needs)\n",
    "\n",
    "Example below\n",
    "\n",
    "'''\n",
    "\n",
    "category_column = ['oaid_hash', 'banner_id', 'clicks', 'zone_id', 'os_id', 'country_id']\n",
    "class FFMFormatPandas:\n",
    "#https://github.com/Bobe24/Dataframe2libffm/tree/3e34cb0c195242560d85753b2963ad845691e14e\n",
    "\n",
    "    def __init__(self):\n",
    "        self.field_index_ = None\n",
    "        self.feature_index_ = None\n",
    "        self.y = None\n",
    "\n",
    "    def fit(self, df, y=None):\n",
    "        self.y = y\n",
    "        df_ffm = df[df.columns.difference([self.y])]\n",
    "        if self.field_index_ is None:\n",
    "            self.field_index_ = {col: i for i, col in enumerate(df_ffm)}\n",
    "\n",
    "        if self.feature_index_ is not None:\n",
    "            last_idx = max(list(self.feature_index_.values()))\n",
    "\n",
    "        if self.feature_index_ is None:\n",
    "            self.feature_index_ = dict()\n",
    "            last_idx = 0\n",
    "\n",
    "        for col in df_ffm.columns:\n",
    "            vals = df_ffm[col].unique()\n",
    "            for val in vals:\n",
    "                if pd.isnull(val):\n",
    "                    continue\n",
    "                name = '{}_{}'.format(col, val)\n",
    "                if name not in self.feature_index_:\n",
    "                    self.feature_index_[name] = last_idx\n",
    "                    last_idx += 1\n",
    "            self.feature_index_[col] = last_idx\n",
    "            last_idx += 1\n",
    "        return self\n",
    "\n",
    "    def fit_transform(self, df, y=None):\n",
    "        self.fit(df, y)\n",
    "        return self.transform(df)\n",
    "\n",
    "    def transform_row_(self, row):\n",
    "        ffm = []\n",
    "        if self.y != None:\n",
    "            ffm.append(str(row.loc[row.index == self.y][0]))\n",
    "        if self.y is None:\n",
    "            ffm.append(str(0))\n",
    "\n",
    "        for col, val in row.loc[row.index != self.y].to_dict().items():\n",
    "            name = '{}_{}'.format(col, val)\n",
    "            if col in category_column:\n",
    "                ffm.append('{}:{}:1'.format(self.field_index_[col],\n",
    "                                            self.feature_index_[name]))\n",
    "            else:\n",
    "                ffm.append('{}:{}:{}'.format(self.field_index_[col],\n",
    "                                             self.feature_index_[col], val))\n",
    "        return ' '.join(ffm)\n",
    "\n",
    "    def transform(self, df):\n",
    "        return pd.Series(\n",
    "            {idx: self.transform_row_(row) for (idx, row) in enumerate(df.iterrows())})"
   ],
   "metadata": {
    "collapsed": false,
    "pycharm": {
     "name": "#%%\n"
    }
   }
  },
  {
   "cell_type": "code",
   "execution_count": null,
   "outputs": [],
   "source": [
    "converter = FFMFormatPandas()\n",
    "train_set = pd.read_csv(\"data/prep_train.csv\", index_col=0)\n",
    "transformed_train = converter.fit_transform(train_set, y='clicks')"
   ],
   "metadata": {
    "collapsed": false,
    "pycharm": {
     "name": "#%%\n",
     "is_executing": true
    }
   }
  },
  {
   "cell_type": "code",
   "execution_count": 6,
   "outputs": [],
   "source": [
    "transformed_train.to_csv(train_file, index=False, header=False)"
   ],
   "metadata": {
    "collapsed": false,
    "pycharm": {
     "name": "#%%\n"
    }
   }
  },
  {
   "cell_type": "code",
   "execution_count": null,
   "outputs": [],
   "source": [
    "val_set = pd.read_csv(\"data/prep_val.csv\", index_col=0)\n",
    "transformed_val = converter.fit_transform(val_set, y='clicks')\n",
    "transformed_val.to_csv(valid_file, index=False, header=False)"
   ],
   "metadata": {
    "collapsed": false,
    "pycharm": {
     "name": "#%%\n",
     "is_executing": true
    }
   }
  },
  {
   "cell_type": "code",
   "execution_count": null,
   "outputs": [],
   "source": [
    "test_set = pd.read_csv(\"data/prep_test.csv\", index_col=0)\n",
    "transformed_test = converter.fit_transform(test_set, y='clicks')\n",
    "transformed_test.to_csv(test_file, index=False, header=False)"
   ],
   "metadata": {
    "collapsed": false,
    "pycharm": {
     "name": "#%%\n",
     "is_executing": true
    }
   }
  },
  {
   "cell_type": "code",
   "execution_count": 5,
   "outputs": [
    {
     "name": "stdout",
     "output_type": "stream",
     "text": [
      "\u001B[32m\u001B[1m----------------------------------------------------------------------------------------------\n",
      "           _\n",
      "          | |\n",
      "     __  _| |     ___  __ _ _ __ _ __\n",
      "     \\ \\/ / |    / _ \\/ _` | '__| '_ \\ \n",
      "      >  <| |___|  __/ (_| | |  | | | |\n",
      "     /_/\\_\\_____/\\___|\\__,_|_|  |_| |_|\n",
      "\n",
      "        xLearn   -- 0.40 Version --\n",
      "----------------------------------------------------------------------------------------------\n",
      "\n",
      "\u001B[39m\u001B[0m\u001B[32m[------------] \u001B[0mxLearn uses 12 threads for training task.\n",
      "\u001B[32m\u001B[1m[ ACTION     ] Read Problem ...\u001B[0m\n",
      "\u001B[32m[------------] \u001B[0mFirst check if the text file has been already converted to binary format.\n",
      "\u001B[32m[------------] \u001B[0mBinary file (task_2_fm/train.txt.bin) found. Skip converting text to binary.\n",
      "\u001B[32m[------------] \u001B[0mFirst check if the text file has been already converted to binary format.\n",
      "\u001B[32m[------------] \u001B[0mBinary file (task_2_fm/valid.txt.bin) found. Skip converting text to binary.\n",
      "\u001B[32m[------------] \u001B[0mNumber of Feature: 1175471\n",
      "\u001B[32m[------------] \u001B[0mNumber of Field: 6\n",
      "\u001B[32m[------------] \u001B[0mTime cost for reading problem: 2.89 (sec)\n",
      "\u001B[32m\u001B[1m[ ACTION     ] Initialize model ...\u001B[0m\n",
      "\u001B[32m[------------] \u001B[0mModel size: 224.20 MB\n",
      "\u001B[32m[------------] \u001B[0mTime cost for model initial: 0.12 (sec)\n",
      "\u001B[32m\u001B[1m[ ACTION     ] Start to train ...\u001B[0m\n",
      "\u001B[32m[------------]\u001B[0m Epoch      Train log_loss       Test log_loss            Test AUC     Time cost (sec)\n",
      "\u001B[32m[ \u001B[0m   6%\u001B[32m      ]\u001B[0m     1            0.099150            0.161977            0.783418                2.11\n",
      "\u001B[32m[ \u001B[0m  13%\u001B[32m      ]\u001B[0m     2            0.097084            0.162224            0.789197                2.07\n",
      "\u001B[32m[ \u001B[0m  20%\u001B[32m      ]\u001B[0m     3            0.095367            0.162295            0.794201                2.10\n",
      "\u001B[32m[ \u001B[0m  26%\u001B[32m      ]\u001B[0m     4            0.093132            0.162482            0.799827                2.05\n",
      "\u001B[32m[ \u001B[0m  33%\u001B[32m      ]\u001B[0m     5            0.090601            0.163390            0.802461                2.05\n",
      "\u001B[32m[ \u001B[0m  40%\u001B[32m      ]\u001B[0m     6            0.088146            0.163319            0.805171                2.04\n",
      "\u001B[32m[ \u001B[0m  46%\u001B[32m      ]\u001B[0m     7            0.085946            0.163320            0.807669                2.08\n",
      "\u001B[32m[ \u001B[0m  53%\u001B[32m      ]\u001B[0m     8            0.084031            0.163438            0.809052                2.12\n",
      "\u001B[32m[ \u001B[0m  60%\u001B[32m      ]\u001B[0m     9            0.082372            0.163876            0.810147                2.08\n",
      "\u001B[32m[ \u001B[0m  66%\u001B[32m      ]\u001B[0m    10            0.080881            0.164020            0.811189                2.09\n",
      "\u001B[32m[ \u001B[0m  73%\u001B[32m      ]\u001B[0m    11            0.079543            0.164182            0.811723                2.05\n",
      "\u001B[32m[ \u001B[0m  80%\u001B[32m      ]\u001B[0m    12            0.078475            0.164057            0.812793                2.05\n",
      "\u001B[32m[ \u001B[0m  86%\u001B[32m      ]\u001B[0m    13            0.077554            0.164286            0.813364                2.09\n",
      "\u001B[32m[ \u001B[0m  93%\u001B[32m      ]\u001B[0m    14            0.076729            0.164121            0.813649                2.08\n",
      "\u001B[32m[ \u001B[0m 100%\u001B[32m      ]\u001B[0m    15            0.076026            0.164259            0.814114                2.07\n",
      "\u001B[32m\u001B[1m[ ACTION     ] Start to save model ...\u001B[0m\n",
      "\u001B[32m[------------] \u001B[0mModel file: task_2_fm/model.out\n",
      "\u001B[32m[------------] \u001B[0mTime cost for saving model: 0.17 (sec)\n",
      "\u001B[32m\u001B[1m[ ACTION     ] Finish training\u001B[0m\n",
      "\u001B[32m\u001B[1m[ ACTION     ] Clear the xLearn environment ...\u001B[0m\n",
      "\u001B[32m\u001B[1m[------------] Total time cost: 34.63 (sec)\u001B[0m\n",
      "\u001B[32m\u001B[1m----------------------------------------------------------------------------------------------\n",
      "           _\n",
      "          | |\n",
      "     __  _| |     ___  __ _ _ __ _ __\n",
      "     \\ \\/ / |    / _ \\/ _` | '__| '_ \\ \n",
      "      >  <| |___|  __/ (_| | |  | | | |\n",
      "     /_/\\_\\_____/\\___|\\__,_|_|  |_| |_|\n",
      "\n",
      "        xLearn   -- 0.40 Version --\n",
      "----------------------------------------------------------------------------------------------\n",
      "\n",
      "\u001B[39m\u001B[0m\u001B[32m[------------] \u001B[0mxLearn uses 12 threads for prediction task.\n",
      "\u001B[32m\u001B[1m[ ACTION     ] Load model ...\u001B[0m\n",
      "\u001B[32m[------------] \u001B[0mLoad model from task_2_fm/model.out\n",
      "\u001B[32m[------------] \u001B[0mLoss function: cross-entropy\n",
      "\u001B[32m[------------] \u001B[0mScore function: ffm\n",
      "\u001B[32m[------------] \u001B[0mNumber of Feature: 1175471\n",
      "\u001B[32m[------------] \u001B[0mNumber of K: 4\n",
      "\u001B[32m[------------] \u001B[0mNumber of field: 6\n",
      "\u001B[32m[------------] \u001B[0mTime cost for loading model: 0.05 (sec)\n",
      "\u001B[32m\u001B[1m[ ACTION     ] Read Problem ...\u001B[0m\n",
      "\u001B[32m[------------] \u001B[0mFirst check if the text file has been already converted to binary format.\n",
      "\u001B[32m[------------] \u001B[0mBinary file (task_2_fm/test.txt.bin) found. Skip converting text to binary.\n",
      "\u001B[32m[------------] \u001B[0mTime cost for reading problem: 0.20 (sec)\n",
      "\u001B[32m\u001B[1m[ ACTION     ] Start to predict ...\u001B[0m\n",
      "\u001B[32m[------------] \u001B[0mThe test loss is: 0.146719\n",
      "\u001B[32m\u001B[1m[ ACTION     ] Clear the xLearn environment ...\u001B[0m\n",
      "\u001B[32m\u001B[1m[------------] Total time cost: 0.86 (sec)\u001B[0m\n"
     ]
    }
   ],
   "source": [
    "from recommenders.utils.timer import Timer\n",
    "from recommenders.tuning.parameter_sweep import generate_param_grid\n",
    "from sklearn.metrics import roc_auc_score\n",
    "\n",
    "param = {\n",
    "    'task': 'binary',\n",
    "    'lr': 0.1,\n",
    "    'lambda':0.0001,\n",
    "    'k': 4,\n",
    "    'metric': 'auc',\n",
    "    'epoch': 15\n",
    "}\n",
    "auc_scores = []\n",
    "with Timer() as time_tune:\n",
    "    ffm_model = xl.create_ffm()\n",
    "    ffm_model.setTrain(train_file)\n",
    "    ffm_model.setValidate(valid_file)\n",
    "    ffm_model.fit(param, model_file)\n",
    "\n",
    "    ffm_model.setTest(test_file)\n",
    "    ffm_model.setSigmoid()\n",
    "    ffm_model.predict(model_file, output_file)\n",
    "\n",
    "    with open(output_file) as f:\n",
    "        predictions = f.readlines()\n",
    "\n",
    "    with open(test_file) as f:\n",
    "        truths = f.readlines()\n",
    "\n",
    "    truths = np.array([float(truth.split(' ')[0]) for truth in truths])\n",
    "    predictions = np.array([float(prediction.strip('')) for prediction in predictions])\n",
    "\n",
    "    auc_scores.append(roc_auc_score(truths, predictions))"
   ],
   "metadata": {
    "collapsed": false,
    "pycharm": {
     "name": "#%%\n"
    }
   }
  },
  {
   "cell_type": "markdown",
   "source": [
    "В процессе работы пришлось пожертвовать фичей campagn clicks, но даже в таких условиях результат получился лучше, чем у линейной модели\n"
   ],
   "metadata": {
    "collapsed": false,
    "pycharm": {
     "name": "#%% md\n"
    }
   }
  },
  {
   "cell_type": "code",
   "execution_count": null,
   "outputs": [],
   "source": [],
   "metadata": {
    "collapsed": false,
    "pycharm": {
     "name": "#%%\n"
    }
   }
  }
 ],
 "metadata": {
  "kernelspec": {
   "display_name": "Python 3",
   "language": "python",
   "name": "python3"
  },
  "language_info": {
   "codemirror_mode": {
    "name": "ipython",
    "version": 2
   },
   "file_extension": ".py",
   "mimetype": "text/x-python",
   "name": "python",
   "nbconvert_exporter": "python",
   "pygments_lexer": "ipython2",
   "version": "2.7.6"
  }
 },
 "nbformat": 4,
 "nbformat_minor": 0
}