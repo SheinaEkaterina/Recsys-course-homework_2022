{
 "cells": [
  {
   "cell_type": "code",
   "execution_count": null,
   "outputs": [],
   "source": [],
   "metadata": {
    "collapsed": false,
    "pycharm": {
     "name": "#%%\n"
    }
   }
  },
  {
   "cell_type": "code",
   "execution_count": 1,
   "outputs": [],
   "source": [
    "import numpy as np\n",
    "import pandas as pd\n",
    "import time\n",
    "\n",
    "from functools import partial\n",
    "from scipy.stats import randint, uniform\n",
    "from task_2_multiarmed_bandit.sim_lib import simulation\n",
    "\n",
    "pd.options.mode.chained_assignment = None\n"
   ],
   "metadata": {
    "collapsed": false,
    "pycharm": {
     "name": "#%%\n"
    }
   }
  },
  {
   "cell_type": "code",
   "execution_count": 1,
   "outputs": [],
   "source": [],
   "metadata": {
    "collapsed": false,
    "pycharm": {
     "name": "#%%\n"
    }
   }
  },
  {
   "cell_type": "code",
   "execution_count": 2,
   "outputs": [],
   "source": [
    "def eps_greedy(history: pd.DataFrame, eps: float):\n",
    "    if uniform.rvs() < eps:\n",
    "        n = history.shape[0]\n",
    "        return history.index[randint.rvs(0, n)]\n",
    "\n",
    "    ctr = history['clicks'] / (history['impressions'] + 10)\n",
    "    n = np.argmax(ctr)\n",
    "    return history.index[n]\n",
    "\n",
    "policy = partial(eps_greedy, eps=0.06)"
   ],
   "metadata": {
    "collapsed": false,
    "pycharm": {
     "name": "#%%\n"
    }
   }
  },
  {
   "cell_type": "code",
   "execution_count": 3,
   "outputs": [
    {
     "name": "stdout",
     "output_type": "stream",
     "text": [
      "1 impressions have been simulated\n",
      "10001 impressions have been simulated\n",
      "20001 impressions have been simulated\n",
      "30001 impressions have been simulated\n",
      "40001 impressions have been simulated\n",
      "50001 impressions have been simulated\n",
      "60001 impressions have been simulated\n",
      "70001 impressions have been simulated\n",
      "80001 impressions have been simulated\n",
      "90001 impressions have been simulated\n",
      "100001 impressions have been simulated\n",
      "110001 impressions have been simulated\n",
      "120001 impressions have been simulated\n",
      "130001 impressions have been simulated\n",
      "140001 impressions have been simulated\n",
      "150001 impressions have been simulated\n",
      "160001 impressions have been simulated\n",
      "170001 impressions have been simulated\n",
      "180001 impressions have been simulated\n",
      "190001 impressions have been simulated\n"
     ]
    },
    {
     "data": {
      "text/plain": "228.5260729789734"
     },
     "execution_count": 3,
     "metadata": {},
     "output_type": "execute_result"
    }
   ],
   "source": [
    "# seed for homework\n",
    "seed = 18475\n",
    "np.random.seed(seed=seed)\n",
    "\n",
    "start = time.time()\n",
    "output = simulation(policy, n=200000, seed=seed)\n",
    "end = time.time()\n",
    "end - start\n",
    "\n"
   ],
   "metadata": {
    "collapsed": false,
    "pycharm": {
     "name": "#%%\n"
    }
   }
  },
  {
   "cell_type": "code",
   "execution_count": 4,
   "outputs": [
    {
     "data": {
      "text/plain": "(1540.7609683932544, 0.007703804841966272, 184)"
     },
     "execution_count": 4,
     "metadata": {},
     "output_type": "execute_result"
    }
   ],
   "source": [
    "# baseline regret\n",
    "output['regret'], output['regret']/output['rounds'],  output['total_banners']"
   ],
   "metadata": {
    "collapsed": false,
    "pycharm": {
     "name": "#%%\n"
    }
   }
  },
  {
   "cell_type": "code",
   "execution_count": 5,
   "outputs": [
    {
     "data": {
      "text/plain": "     impressions  clicks      lifetime         p\n153      18970.0  4199.0  18003.025431  0.220134\n162        228.0    26.0   1537.166719  0.113780\n172        163.0    32.0  19648.592394  0.219968\n173        170.0    18.0  12771.474990  0.122694\n180         26.0     3.0   4655.819793  0.020061\n182          6.0     0.0    889.624649  0.004621\n183          1.0     0.0  15187.163761  0.073886",
      "text/html": "<div>\n<style scoped>\n    .dataframe tbody tr th:only-of-type {\n        vertical-align: middle;\n    }\n\n    .dataframe tbody tr th {\n        vertical-align: top;\n    }\n\n    .dataframe thead th {\n        text-align: right;\n    }\n</style>\n<table border=\"1\" class=\"dataframe\">\n  <thead>\n    <tr style=\"text-align: right;\">\n      <th></th>\n      <th>impressions</th>\n      <th>clicks</th>\n      <th>lifetime</th>\n      <th>p</th>\n    </tr>\n  </thead>\n  <tbody>\n    <tr>\n      <th>153</th>\n      <td>18970.0</td>\n      <td>4199.0</td>\n      <td>18003.025431</td>\n      <td>0.220134</td>\n    </tr>\n    <tr>\n      <th>162</th>\n      <td>228.0</td>\n      <td>26.0</td>\n      <td>1537.166719</td>\n      <td>0.113780</td>\n    </tr>\n    <tr>\n      <th>172</th>\n      <td>163.0</td>\n      <td>32.0</td>\n      <td>19648.592394</td>\n      <td>0.219968</td>\n    </tr>\n    <tr>\n      <th>173</th>\n      <td>170.0</td>\n      <td>18.0</td>\n      <td>12771.474990</td>\n      <td>0.122694</td>\n    </tr>\n    <tr>\n      <th>180</th>\n      <td>26.0</td>\n      <td>3.0</td>\n      <td>4655.819793</td>\n      <td>0.020061</td>\n    </tr>\n    <tr>\n      <th>182</th>\n      <td>6.0</td>\n      <td>0.0</td>\n      <td>889.624649</td>\n      <td>0.004621</td>\n    </tr>\n    <tr>\n      <th>183</th>\n      <td>1.0</td>\n      <td>0.0</td>\n      <td>15187.163761</td>\n      <td>0.073886</td>\n    </tr>\n  </tbody>\n</table>\n</div>"
     },
     "execution_count": 5,
     "metadata": {},
     "output_type": "execute_result"
    }
   ],
   "source": [
    "output['history']"
   ],
   "metadata": {
    "collapsed": false,
    "pycharm": {
     "name": "#%%\n"
    }
   }
  },
  {
   "cell_type": "code",
   "execution_count": 5,
   "outputs": [],
   "source": [],
   "metadata": {
    "collapsed": false,
    "pycharm": {
     "name": "#%%\n"
    }
   }
  },
  {
   "cell_type": "code",
   "execution_count": 6,
   "metadata": {
    "collapsed": true
   },
   "outputs": [],
   "source": [
    "class UCB:\n",
    "    def __init__(self, c):\n",
    "        self.c = c\n",
    "        self.t = 0\n",
    "\n",
    "    def __call__(self, history: pd.DataFrame):\n",
    "        self.t += 1\n",
    "        exploit = history['clicks'] / (history['impressions'] + 1)\n",
    "        exploration = self.c *  np.sqrt(np.log(self.t) / (history['impressions'] + 1))\n",
    "        n = np.argmax(exploit + exploration)\n",
    "        return history.index[n]"
   ]
  },
  {
   "cell_type": "code",
   "execution_count": 7,
   "outputs": [
    {
     "name": "stdout",
     "output_type": "stream",
     "text": [
      "1 impressions have been simulated\n",
      "10001 impressions have been simulated\n",
      "20001 impressions have been simulated\n",
      "30001 impressions have been simulated\n",
      "40001 impressions have been simulated\n",
      "50001 impressions have been simulated\n",
      "60001 impressions have been simulated\n",
      "70001 impressions have been simulated\n",
      "80001 impressions have been simulated\n",
      "90001 impressions have been simulated\n",
      "100001 impressions have been simulated\n",
      "110001 impressions have been simulated\n",
      "120001 impressions have been simulated\n",
      "130001 impressions have been simulated\n",
      "140001 impressions have been simulated\n",
      "150001 impressions have been simulated\n",
      "160001 impressions have been simulated\n",
      "170001 impressions have been simulated\n",
      "180001 impressions have been simulated\n",
      "190001 impressions have been simulated\n",
      "0.001 7570.250349143192 0.03785125174571596 184\n",
      "1 impressions have been simulated\n",
      "10001 impressions have been simulated\n",
      "20001 impressions have been simulated\n",
      "30001 impressions have been simulated\n",
      "40001 impressions have been simulated\n",
      "50001 impressions have been simulated\n",
      "60001 impressions have been simulated\n",
      "70001 impressions have been simulated\n",
      "80001 impressions have been simulated\n",
      "90001 impressions have been simulated\n",
      "100001 impressions have been simulated\n",
      "110001 impressions have been simulated\n",
      "120001 impressions have been simulated\n",
      "130001 impressions have been simulated\n",
      "140001 impressions have been simulated\n",
      "150001 impressions have been simulated\n",
      "160001 impressions have been simulated\n",
      "170001 impressions have been simulated\n",
      "180001 impressions have been simulated\n",
      "190001 impressions have been simulated\n",
      "0.01 927.0339858454889 0.004635169929227445 184\n",
      "1 impressions have been simulated\n",
      "10001 impressions have been simulated\n",
      "20001 impressions have been simulated\n",
      "30001 impressions have been simulated\n",
      "40001 impressions have been simulated\n",
      "50001 impressions have been simulated\n",
      "60001 impressions have been simulated\n",
      "70001 impressions have been simulated\n",
      "80001 impressions have been simulated\n",
      "90001 impressions have been simulated\n",
      "100001 impressions have been simulated\n",
      "110001 impressions have been simulated\n",
      "120001 impressions have been simulated\n",
      "130001 impressions have been simulated\n",
      "140001 impressions have been simulated\n",
      "150001 impressions have been simulated\n",
      "160001 impressions have been simulated\n",
      "170001 impressions have been simulated\n",
      "180001 impressions have been simulated\n",
      "190001 impressions have been simulated\n",
      "0.1 158.98744241615984 0.0007949372120807992 184\n",
      "1 impressions have been simulated\n",
      "10001 impressions have been simulated\n",
      "20001 impressions have been simulated\n",
      "30001 impressions have been simulated\n",
      "40001 impressions have been simulated\n",
      "50001 impressions have been simulated\n",
      "60001 impressions have been simulated\n",
      "70001 impressions have been simulated\n",
      "80001 impressions have been simulated\n",
      "90001 impressions have been simulated\n",
      "100001 impressions have been simulated\n",
      "110001 impressions have been simulated\n",
      "120001 impressions have been simulated\n",
      "130001 impressions have been simulated\n",
      "140001 impressions have been simulated\n",
      "150001 impressions have been simulated\n",
      "160001 impressions have been simulated\n",
      "170001 impressions have been simulated\n",
      "180001 impressions have been simulated\n",
      "190001 impressions have been simulated\n",
      "1.0 6982.360678314907 0.034911803391574535 184\n"
     ]
    }
   ],
   "source": [
    "for c in [0.001, 0.01, 0.1, 1.0]:\n",
    "    seed = 18475\n",
    "    np.random.seed(seed=seed)\n",
    "    output = simulation(UCB(c), n=200000, seed=seed)\n",
    "    print(c, output['regret'], output['regret']/output['rounds'],  output['total_banners'])"
   ],
   "metadata": {
    "collapsed": false,
    "pycharm": {
     "name": "#%%\n"
    }
   }
  },
  {
   "cell_type": "code",
   "execution_count": 8,
   "outputs": [
    {
     "name": "stdout",
     "output_type": "stream",
     "text": [
      "1 impressions have been simulated\n",
      "10001 impressions have been simulated\n",
      "20001 impressions have been simulated\n",
      "30001 impressions have been simulated\n",
      "40001 impressions have been simulated\n",
      "50001 impressions have been simulated\n",
      "60001 impressions have been simulated\n",
      "70001 impressions have been simulated\n",
      "80001 impressions have been simulated\n",
      "90001 impressions have been simulated\n",
      "100001 impressions have been simulated\n",
      "110001 impressions have been simulated\n",
      "120001 impressions have been simulated\n",
      "130001 impressions have been simulated\n",
      "140001 impressions have been simulated\n",
      "150001 impressions have been simulated\n",
      "160001 impressions have been simulated\n",
      "170001 impressions have been simulated\n",
      "180001 impressions have been simulated\n",
      "190001 impressions have been simulated\n",
      "0.008 7570.250349143192 0.03785125174571596 184\n",
      "1 impressions have been simulated\n",
      "10001 impressions have been simulated\n",
      "20001 impressions have been simulated\n",
      "30001 impressions have been simulated\n",
      "40001 impressions have been simulated\n",
      "50001 impressions have been simulated\n",
      "60001 impressions have been simulated\n",
      "70001 impressions have been simulated\n",
      "80001 impressions have been simulated\n",
      "90001 impressions have been simulated\n",
      "100001 impressions have been simulated\n",
      "110001 impressions have been simulated\n",
      "120001 impressions have been simulated\n",
      "130001 impressions have been simulated\n",
      "140001 impressions have been simulated\n",
      "150001 impressions have been simulated\n",
      "160001 impressions have been simulated\n",
      "170001 impressions have been simulated\n",
      "180001 impressions have been simulated\n",
      "190001 impressions have been simulated\n",
      "0.02 1389.0110829304479 0.006945055414652239 184\n",
      "1 impressions have been simulated\n",
      "10001 impressions have been simulated\n",
      "20001 impressions have been simulated\n",
      "30001 impressions have been simulated\n",
      "40001 impressions have been simulated\n",
      "50001 impressions have been simulated\n",
      "60001 impressions have been simulated\n",
      "70001 impressions have been simulated\n",
      "80001 impressions have been simulated\n",
      "90001 impressions have been simulated\n",
      "100001 impressions have been simulated\n",
      "110001 impressions have been simulated\n",
      "120001 impressions have been simulated\n",
      "130001 impressions have been simulated\n",
      "140001 impressions have been simulated\n",
      "150001 impressions have been simulated\n",
      "160001 impressions have been simulated\n",
      "170001 impressions have been simulated\n",
      "180001 impressions have been simulated\n",
      "190001 impressions have been simulated\n",
      "0.04 2053.2981690035244 0.010266490845017621 184\n",
      "1 impressions have been simulated\n",
      "10001 impressions have been simulated\n",
      "20001 impressions have been simulated\n",
      "30001 impressions have been simulated\n",
      "40001 impressions have been simulated\n",
      "50001 impressions have been simulated\n",
      "60001 impressions have been simulated\n",
      "70001 impressions have been simulated\n",
      "80001 impressions have been simulated\n",
      "90001 impressions have been simulated\n",
      "100001 impressions have been simulated\n",
      "110001 impressions have been simulated\n",
      "120001 impressions have been simulated\n",
      "130001 impressions have been simulated\n",
      "140001 impressions have been simulated\n",
      "150001 impressions have been simulated\n",
      "160001 impressions have been simulated\n",
      "170001 impressions have been simulated\n",
      "180001 impressions have been simulated\n",
      "190001 impressions have been simulated\n",
      "0.06 2719.2109788440853 0.013596054894220427 184\n",
      "1 impressions have been simulated\n",
      "10001 impressions have been simulated\n",
      "20001 impressions have been simulated\n",
      "30001 impressions have been simulated\n",
      "40001 impressions have been simulated\n",
      "50001 impressions have been simulated\n",
      "60001 impressions have been simulated\n",
      "70001 impressions have been simulated\n",
      "80001 impressions have been simulated\n",
      "90001 impressions have been simulated\n",
      "100001 impressions have been simulated\n",
      "110001 impressions have been simulated\n",
      "120001 impressions have been simulated\n",
      "130001 impressions have been simulated\n",
      "140001 impressions have been simulated\n",
      "150001 impressions have been simulated\n",
      "160001 impressions have been simulated\n",
      "170001 impressions have been simulated\n",
      "180001 impressions have been simulated\n",
      "190001 impressions have been simulated\n",
      "0.08 92.99386113333352 0.0004649693056666676 184\n",
      "1 impressions have been simulated\n",
      "10001 impressions have been simulated\n",
      "20001 impressions have been simulated\n",
      "30001 impressions have been simulated\n",
      "40001 impressions have been simulated\n",
      "50001 impressions have been simulated\n",
      "60001 impressions have been simulated\n",
      "70001 impressions have been simulated\n",
      "80001 impressions have been simulated\n",
      "90001 impressions have been simulated\n",
      "100001 impressions have been simulated\n",
      "110001 impressions have been simulated\n",
      "120001 impressions have been simulated\n",
      "130001 impressions have been simulated\n",
      "140001 impressions have been simulated\n",
      "150001 impressions have been simulated\n",
      "160001 impressions have been simulated\n",
      "170001 impressions have been simulated\n",
      "180001 impressions have been simulated\n",
      "190001 impressions have been simulated\n",
      "0.2 411.5261950370025 0.0020576309751850126 184\n"
     ]
    }
   ],
   "source": [
    "for c in [0.008, 0.02, 0.04, 0.06, 0.08, 0.2]:\n",
    "    seed = 18475\n",
    "    np.random.seed(seed=seed)\n",
    "    output = simulation(UCB(c), n=200000, seed=seed)\n",
    "    print(c, output['regret'], output['regret']/output['rounds'],  output['total_banners'])"
   ],
   "metadata": {
    "collapsed": false,
    "pycharm": {
     "name": "#%%\n"
    }
   }
  },
  {
   "cell_type": "code",
   "execution_count": 10,
   "outputs": [
    {
     "name": "stdout",
     "output_type": "stream",
     "text": [
      "1 impressions have been simulated\n",
      "10001 impressions have been simulated\n",
      "20001 impressions have been simulated\n",
      "30001 impressions have been simulated\n",
      "40001 impressions have been simulated\n",
      "50001 impressions have been simulated\n",
      "60001 impressions have been simulated\n",
      "70001 impressions have been simulated\n",
      "80001 impressions have been simulated\n",
      "90001 impressions have been simulated\n",
      "100001 impressions have been simulated\n",
      "110001 impressions have been simulated\n",
      "120001 impressions have been simulated\n",
      "130001 impressions have been simulated\n",
      "140001 impressions have been simulated\n",
      "150001 impressions have been simulated\n",
      "160001 impressions have been simulated\n",
      "170001 impressions have been simulated\n",
      "180001 impressions have been simulated\n",
      "190001 impressions have been simulated\n",
      "0.07 156.59939628371336 0.0007829969814185669 184\n",
      "1 impressions have been simulated\n",
      "10001 impressions have been simulated\n",
      "20001 impressions have been simulated\n",
      "30001 impressions have been simulated\n",
      "40001 impressions have been simulated\n",
      "50001 impressions have been simulated\n",
      "60001 impressions have been simulated\n",
      "70001 impressions have been simulated\n",
      "80001 impressions have been simulated\n",
      "90001 impressions have been simulated\n",
      "100001 impressions have been simulated\n",
      "110001 impressions have been simulated\n",
      "120001 impressions have been simulated\n",
      "130001 impressions have been simulated\n",
      "140001 impressions have been simulated\n",
      "150001 impressions have been simulated\n",
      "160001 impressions have been simulated\n",
      "170001 impressions have been simulated\n",
      "180001 impressions have been simulated\n",
      "190001 impressions have been simulated\n",
      "0.075 133.3224466487009 0.0006666122332435045 184\n",
      "1 impressions have been simulated\n",
      "10001 impressions have been simulated\n",
      "20001 impressions have been simulated\n",
      "30001 impressions have been simulated\n",
      "40001 impressions have been simulated\n",
      "50001 impressions have been simulated\n",
      "60001 impressions have been simulated\n",
      "70001 impressions have been simulated\n",
      "80001 impressions have been simulated\n",
      "90001 impressions have been simulated\n",
      "100001 impressions have been simulated\n",
      "110001 impressions have been simulated\n",
      "120001 impressions have been simulated\n",
      "130001 impressions have been simulated\n",
      "140001 impressions have been simulated\n",
      "150001 impressions have been simulated\n",
      "160001 impressions have been simulated\n",
      "170001 impressions have been simulated\n",
      "180001 impressions have been simulated\n",
      "190001 impressions have been simulated\n",
      "0.085 106.35784722020784 0.0005317892361010392 184\n"
     ]
    }
   ],
   "source": [
    "for c in [0.07, 0.075, 0.085]:\n",
    "    seed = 18475\n",
    "    np.random.seed(seed=seed)\n",
    "    output = simulation(UCB(c), n=200000, seed=seed)\n",
    "    print(c, output['regret'], output['regret']/output['rounds'],  output['total_banners'])"
   ],
   "metadata": {
    "collapsed": false,
    "pycharm": {
     "name": "#%%\n"
    }
   }
  },
  {
   "cell_type": "markdown",
   "source": [
    "Лучшее соотношение exploration/exploitation = 0.08 при котором регрет = 92.99386113333352, что лучше чем у бейзлайна"
   ],
   "metadata": {
    "collapsed": false,
    "pycharm": {
     "name": "#%% md\n"
    }
   }
  }
 ],
 "metadata": {
  "kernelspec": {
   "display_name": "Python 3",
   "language": "python",
   "name": "python3"
  },
  "language_info": {
   "codemirror_mode": {
    "name": "ipython",
    "version": 2
   },
   "file_extension": ".py",
   "mimetype": "text/x-python",
   "name": "python",
   "nbconvert_exporter": "python",
   "pygments_lexer": "ipython2",
   "version": "2.7.6"
  }
 },
 "nbformat": 4,
 "nbformat_minor": 0
}