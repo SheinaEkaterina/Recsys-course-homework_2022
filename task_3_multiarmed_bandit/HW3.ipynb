{
 "cells": [
  {
   "cell_type": "code",
   "execution_count": 1,
   "metadata": {},
   "outputs": [],
   "source": [
    "import numpy as np\n",
    "import pandas as pd\n",
    "import time\n",
    "from functools import partial\n",
    "\n",
    "from scipy.stats import randint, uniform\n",
    "from sim_lib import simulation\n",
    "\n",
    "pd.options.mode.chained_assignment = None\n"
   ]
  },
  {
   "cell_type": "code",
   "execution_count": 2,
   "metadata": {},
   "outputs": [],
   "source": [
    "def eps_greedy(history: pd.DataFrame, eps: float):\n",
    "    if uniform.rvs() < eps:\n",
    "        n = history.shape[0]\n",
    "        return history.index[randint.rvs(0, n)]\n",
    "\n",
    "    ctr = history['clicks'] / (history['impressions'] + 10)\n",
    "    n = np.argmax(ctr)\n",
    "    return history.index[n]\n",
    "\n",
    "policy = partial(eps_greedy, eps=0.06)"
   ]
  },
  {
   "cell_type": "code",
   "execution_count": 3,
   "metadata": {},
   "outputs": [
    {
     "name": "stdout",
     "output_type": "stream",
     "text": [
      "1 impressions have been simulated\n",
      "10001 impressions have been simulated\n",
      "20001 impressions have been simulated\n",
      "30001 impressions have been simulated\n",
      "40001 impressions have been simulated\n",
      "50001 impressions have been simulated\n",
      "60001 impressions have been simulated\n",
      "70001 impressions have been simulated\n",
      "80001 impressions have been simulated\n",
      "90001 impressions have been simulated\n",
      "100001 impressions have been simulated\n",
      "110001 impressions have been simulated\n",
      "120001 impressions have been simulated\n",
      "130001 impressions have been simulated\n",
      "140001 impressions have been simulated\n",
      "150001 impressions have been simulated\n",
      "160001 impressions have been simulated\n",
      "170001 impressions have been simulated\n",
      "180001 impressions have been simulated\n",
      "190001 impressions have been simulated\n"
     ]
    },
    {
     "data": {
      "text/plain": [
       "212.85634803771973"
      ]
     },
     "execution_count": 3,
     "metadata": {},
     "output_type": "execute_result"
    }
   ],
   "source": [
    "# seed for homework\n",
    "seed = 18475\n",
    "np.random.seed(seed=seed)\n",
    "\n",
    "start = time.time()\n",
    "output = simulation(policy, n=200000, seed=seed)\n",
    "end = time.time()\n",
    "end - start"
   ]
  },
  {
   "cell_type": "code",
   "execution_count": 6,
   "metadata": {},
   "outputs": [
    {
     "data": {
      "text/plain": [
       "(1540.7609683932544, 0.007703804841966272, 184)"
      ]
     },
     "execution_count": 6,
     "metadata": {},
     "output_type": "execute_result"
    }
   ],
   "source": [
    "# baseline regret\n",
    "output['regret'], output['regret']/output['rounds'],  output['total_banners']"
   ]
  },
  {
   "cell_type": "code",
   "execution_count": 7,
   "metadata": {},
   "outputs": [
    {
     "data": {
      "text/html": [
       "<div>\n",
       "<style scoped>\n",
       "    .dataframe tbody tr th:only-of-type {\n",
       "        vertical-align: middle;\n",
       "    }\n",
       "\n",
       "    .dataframe tbody tr th {\n",
       "        vertical-align: top;\n",
       "    }\n",
       "\n",
       "    .dataframe thead th {\n",
       "        text-align: right;\n",
       "    }\n",
       "</style>\n",
       "<table border=\"1\" class=\"dataframe\">\n",
       "  <thead>\n",
       "    <tr style=\"text-align: right;\">\n",
       "      <th></th>\n",
       "      <th>impressions</th>\n",
       "      <th>clicks</th>\n",
       "      <th>lifetime</th>\n",
       "      <th>p</th>\n",
       "    </tr>\n",
       "  </thead>\n",
       "  <tbody>\n",
       "    <tr>\n",
       "      <th>153</th>\n",
       "      <td>18970.0</td>\n",
       "      <td>4199.0</td>\n",
       "      <td>18003.025431</td>\n",
       "      <td>0.220134</td>\n",
       "    </tr>\n",
       "    <tr>\n",
       "      <th>162</th>\n",
       "      <td>228.0</td>\n",
       "      <td>26.0</td>\n",
       "      <td>1537.166719</td>\n",
       "      <td>0.113780</td>\n",
       "    </tr>\n",
       "    <tr>\n",
       "      <th>172</th>\n",
       "      <td>163.0</td>\n",
       "      <td>32.0</td>\n",
       "      <td>19648.592394</td>\n",
       "      <td>0.219968</td>\n",
       "    </tr>\n",
       "    <tr>\n",
       "      <th>173</th>\n",
       "      <td>170.0</td>\n",
       "      <td>18.0</td>\n",
       "      <td>12771.474990</td>\n",
       "      <td>0.122694</td>\n",
       "    </tr>\n",
       "    <tr>\n",
       "      <th>180</th>\n",
       "      <td>26.0</td>\n",
       "      <td>3.0</td>\n",
       "      <td>4655.819793</td>\n",
       "      <td>0.020061</td>\n",
       "    </tr>\n",
       "    <tr>\n",
       "      <th>182</th>\n",
       "      <td>6.0</td>\n",
       "      <td>0.0</td>\n",
       "      <td>889.624649</td>\n",
       "      <td>0.004621</td>\n",
       "    </tr>\n",
       "    <tr>\n",
       "      <th>183</th>\n",
       "      <td>1.0</td>\n",
       "      <td>0.0</td>\n",
       "      <td>15187.163761</td>\n",
       "      <td>0.073886</td>\n",
       "    </tr>\n",
       "  </tbody>\n",
       "</table>\n",
       "</div>"
      ],
      "text/plain": [
       "     impressions  clicks      lifetime         p\n",
       "153      18970.0  4199.0  18003.025431  0.220134\n",
       "162        228.0    26.0   1537.166719  0.113780\n",
       "172        163.0    32.0  19648.592394  0.219968\n",
       "173        170.0    18.0  12771.474990  0.122694\n",
       "180         26.0     3.0   4655.819793  0.020061\n",
       "182          6.0     0.0    889.624649  0.004621\n",
       "183          1.0     0.0  15187.163761  0.073886"
      ]
     },
     "execution_count": 7,
     "metadata": {},
     "output_type": "execute_result"
    }
   ],
   "source": [
    "output['history']"
   ]
  },
  {
   "cell_type": "markdown",
   "metadata": {},
   "source": [
    "### Thompson sampling policy"
   ]
  },
  {
   "cell_type": "code",
   "execution_count": 8,
   "metadata": {},
   "outputs": [],
   "source": [
    "from scipy.stats import beta\n",
    "\n",
    "class TS:\n",
    "    def __init__(self, alpha: int, beta: int):\n",
    "        self.a = alpha\n",
    "        self.b = beta\n",
    "        self.prev_action = None\n",
    "        self.prev_history = None\n",
    "        self.banners_dict = dict()\n",
    "        \n",
    "    def __call__(self, history: pd.DataFrame):\n",
    "        \n",
    "        # Сохраняем начальное случайное состояние (чтобы симуляция была идентичной eps_greedy политике)\n",
    "        state = np.random.get_state()\n",
    "        \n",
    "        # Обновляем список текущих баннеров\n",
    "        self.banners_dict = {k: v for (k, v) in self.banners_dict.items() if k in history.index}\n",
    "        for index in history.index:\n",
    "            if index not in self.banners_dict:\n",
    "                self.banners_dict[index] = [self.a, self.b]\n",
    "        \n",
    "        # Считаем награду\n",
    "        reward = self.calc_reward(history)\n",
    "        \n",
    "        # Если был клик, добавляем 1 к alpha соответствующего баннера, иначе отнимаем 1 от beta\n",
    "        if reward == 1:\n",
    "            self.banners_dict[self.prev_action][0] += 1\n",
    "        if reward == -1:\n",
    "            self.banners_dict[self.prev_action][1] += 1\n",
    "        \n",
    "        # Cемплируем действие\n",
    "        action = self.sample_action()\n",
    "        \n",
    "        # Обновляем prev_action и prev_history\n",
    "        self.prev_action = action\n",
    "        self.prev_history = history\n",
    "        \n",
    "        # Возвращаем начальное случайное состояние и получаем действие при помощи eps_greedy политики\n",
    "        # (чтобы симуляция была идентичной eps_greedy политике)\n",
    "        np.random.set_state(state)\n",
    "        _ = policy(history)\n",
    "        \n",
    "        return action\n",
    "        \n",
    "    def calc_reward(self, history: pd.DataFrame):\n",
    "        if self.prev_history is None:\n",
    "            return 0\n",
    "        if self.prev_action not in history.index:\n",
    "            return 0\n",
    "        return (history.loc[self.prev_action, 'clicks'] - \n",
    "                self.prev_history.loc[self.prev_action, 'clicks']) * 2 - 1\n",
    "    \n",
    "    def sample_action(self):\n",
    "        \n",
    "        best_banner = None\n",
    "        max_theta = 0\n",
    "        \n",
    "        for banner, params in self.banners_dict.items():\n",
    "            theta = beta.rvs(*params)\n",
    "            \n",
    "            if theta > max_theta:\n",
    "                best_banner = banner\n",
    "                max_theta = theta\n",
    "        \n",
    "        return best_banner"
   ]
  },
  {
   "cell_type": "markdown",
   "metadata": {},
   "source": [
    "Возьмем равномерное распределение $\\text{Beta}(1, 1)$ в качестве априорного"
   ]
  },
  {
   "cell_type": "code",
   "execution_count": 9,
   "metadata": {},
   "outputs": [
    {
     "name": "stdout",
     "output_type": "stream",
     "text": [
      "1 impressions have been simulated\n",
      "10001 impressions have been simulated\n",
      "20001 impressions have been simulated\n",
      "30001 impressions have been simulated\n",
      "40001 impressions have been simulated\n",
      "50001 impressions have been simulated\n",
      "60001 impressions have been simulated\n",
      "70001 impressions have been simulated\n",
      "80001 impressions have been simulated\n",
      "90001 impressions have been simulated\n",
      "100001 impressions have been simulated\n",
      "110001 impressions have been simulated\n",
      "120001 impressions have been simulated\n",
      "130001 impressions have been simulated\n",
      "140001 impressions have been simulated\n",
      "150001 impressions have been simulated\n",
      "160001 impressions have been simulated\n",
      "170001 impressions have been simulated\n",
      "180001 impressions have been simulated\n",
      "190001 impressions have been simulated\n"
     ]
    },
    {
     "data": {
      "text/plain": [
       "283.08031487464905"
      ]
     },
     "execution_count": 9,
     "metadata": {},
     "output_type": "execute_result"
    }
   ],
   "source": [
    "# seed for homework\n",
    "seed = 18475\n",
    "np.random.seed(seed=seed)\n",
    "\n",
    "TS_policy = TS(1, 1)\n",
    "\n",
    "start = time.time()\n",
    "output = simulation(TS_policy, n=200000, seed=seed)\n",
    "end = time.time()\n",
    "end - start"
   ]
  },
  {
   "cell_type": "code",
   "execution_count": 12,
   "metadata": {},
   "outputs": [
    {
     "data": {
      "text/plain": [
       "(1142.7725594275578, 0.005713862797137789, 184)"
      ]
     },
     "execution_count": 12,
     "metadata": {},
     "output_type": "execute_result"
    }
   ],
   "source": [
    "# TS - Beta(1, 1) regret\n",
    "output['regret'], output['regret']/output['rounds'],  output['total_banners']"
   ]
  },
  {
   "cell_type": "code",
   "execution_count": 13,
   "metadata": {},
   "outputs": [
    {
     "data": {
      "text/html": [
       "<div>\n",
       "<style scoped>\n",
       "    .dataframe tbody tr th:only-of-type {\n",
       "        vertical-align: middle;\n",
       "    }\n",
       "\n",
       "    .dataframe tbody tr th {\n",
       "        vertical-align: top;\n",
       "    }\n",
       "\n",
       "    .dataframe thead th {\n",
       "        text-align: right;\n",
       "    }\n",
       "</style>\n",
       "<table border=\"1\" class=\"dataframe\">\n",
       "  <thead>\n",
       "    <tr style=\"text-align: right;\">\n",
       "      <th></th>\n",
       "      <th>impressions</th>\n",
       "      <th>clicks</th>\n",
       "      <th>lifetime</th>\n",
       "      <th>p</th>\n",
       "    </tr>\n",
       "  </thead>\n",
       "  <tbody>\n",
       "    <tr>\n",
       "      <th>153</th>\n",
       "      <td>632.0</td>\n",
       "      <td>109.0</td>\n",
       "      <td>18003.025431</td>\n",
       "      <td>0.220134</td>\n",
       "    </tr>\n",
       "    <tr>\n",
       "      <th>162</th>\n",
       "      <td>220.0</td>\n",
       "      <td>29.0</td>\n",
       "      <td>1537.166719</td>\n",
       "      <td>0.113780</td>\n",
       "    </tr>\n",
       "    <tr>\n",
       "      <th>172</th>\n",
       "      <td>20237.0</td>\n",
       "      <td>4506.0</td>\n",
       "      <td>19648.592394</td>\n",
       "      <td>0.219968</td>\n",
       "    </tr>\n",
       "    <tr>\n",
       "      <th>173</th>\n",
       "      <td>303.0</td>\n",
       "      <td>44.0</td>\n",
       "      <td>12771.474990</td>\n",
       "      <td>0.122694</td>\n",
       "    </tr>\n",
       "    <tr>\n",
       "      <th>180</th>\n",
       "      <td>22.0</td>\n",
       "      <td>0.0</td>\n",
       "      <td>4655.819793</td>\n",
       "      <td>0.020061</td>\n",
       "    </tr>\n",
       "    <tr>\n",
       "      <th>182</th>\n",
       "      <td>19.0</td>\n",
       "      <td>0.0</td>\n",
       "      <td>889.624649</td>\n",
       "      <td>0.004621</td>\n",
       "    </tr>\n",
       "    <tr>\n",
       "      <th>183</th>\n",
       "      <td>24.0</td>\n",
       "      <td>1.0</td>\n",
       "      <td>15187.163761</td>\n",
       "      <td>0.073886</td>\n",
       "    </tr>\n",
       "  </tbody>\n",
       "</table>\n",
       "</div>"
      ],
      "text/plain": [
       "     impressions  clicks      lifetime         p\n",
       "153        632.0   109.0  18003.025431  0.220134\n",
       "162        220.0    29.0   1537.166719  0.113780\n",
       "172      20237.0  4506.0  19648.592394  0.219968\n",
       "173        303.0    44.0  12771.474990  0.122694\n",
       "180         22.0     0.0   4655.819793  0.020061\n",
       "182         19.0     0.0    889.624649  0.004621\n",
       "183         24.0     1.0  15187.163761  0.073886"
      ]
     },
     "execution_count": 13,
     "metadata": {},
     "output_type": "execute_result"
    }
   ],
   "source": [
    "output['history']"
   ]
  },
  {
   "cell_type": "markdown",
   "metadata": {},
   "source": [
    "Из файла ```sim_lib.py``` понятно, что параметр p для каждого банера семплируется из распределения $\\text{Beta}(1, 20)$. Исходя из этого, а также из логики, что низкая вероятность клика характерна для большинства баннеров, рассмотрим в качестве априорного распределение $\\text{Beta}(1, 20)$"
   ]
  },
  {
   "cell_type": "code",
   "execution_count": 14,
   "metadata": {},
   "outputs": [
    {
     "name": "stdout",
     "output_type": "stream",
     "text": [
      "1 impressions have been simulated\n",
      "10001 impressions have been simulated\n",
      "20001 impressions have been simulated\n",
      "30001 impressions have been simulated\n",
      "40001 impressions have been simulated\n",
      "50001 impressions have been simulated\n",
      "60001 impressions have been simulated\n",
      "70001 impressions have been simulated\n",
      "80001 impressions have been simulated\n",
      "90001 impressions have been simulated\n",
      "100001 impressions have been simulated\n",
      "110001 impressions have been simulated\n",
      "120001 impressions have been simulated\n",
      "130001 impressions have been simulated\n",
      "140001 impressions have been simulated\n",
      "150001 impressions have been simulated\n",
      "160001 impressions have been simulated\n",
      "170001 impressions have been simulated\n",
      "180001 impressions have been simulated\n",
      "190001 impressions have been simulated\n"
     ]
    },
    {
     "data": {
      "text/plain": [
       "283.13370394706726"
      ]
     },
     "execution_count": 14,
     "metadata": {},
     "output_type": "execute_result"
    }
   ],
   "source": [
    "# seed for homework\n",
    "seed = 18475\n",
    "np.random.seed(seed=seed)\n",
    "\n",
    "TS_policy = TS(1, 20)\n",
    "\n",
    "start = time.time()\n",
    "output = simulation(TS_policy, n=200000, seed=seed)\n",
    "end = time.time()\n",
    "end - start"
   ]
  },
  {
   "cell_type": "code",
   "execution_count": 15,
   "metadata": {},
   "outputs": [
    {
     "data": {
      "text/plain": [
       "(416.21060439113535, 0.0020810530219556767, 184)"
      ]
     },
     "execution_count": 15,
     "metadata": {},
     "output_type": "execute_result"
    }
   ],
   "source": [
    "# TS - Beta(1, 20) regret\n",
    "output['regret'], output['regret']/output['rounds'],  output['total_banners']"
   ]
  },
  {
   "cell_type": "code",
   "execution_count": 16,
   "metadata": {},
   "outputs": [
    {
     "data": {
      "text/html": [
       "<div>\n",
       "<style scoped>\n",
       "    .dataframe tbody tr th:only-of-type {\n",
       "        vertical-align: middle;\n",
       "    }\n",
       "\n",
       "    .dataframe tbody tr th {\n",
       "        vertical-align: top;\n",
       "    }\n",
       "\n",
       "    .dataframe thead th {\n",
       "        text-align: right;\n",
       "    }\n",
       "</style>\n",
       "<table border=\"1\" class=\"dataframe\">\n",
       "  <thead>\n",
       "    <tr style=\"text-align: right;\">\n",
       "      <th></th>\n",
       "      <th>impressions</th>\n",
       "      <th>clicks</th>\n",
       "      <th>lifetime</th>\n",
       "      <th>p</th>\n",
       "    </tr>\n",
       "  </thead>\n",
       "  <tbody>\n",
       "    <tr>\n",
       "      <th>153</th>\n",
       "      <td>29027.0</td>\n",
       "      <td>6468.0</td>\n",
       "      <td>18003.025431</td>\n",
       "      <td>0.220134</td>\n",
       "    </tr>\n",
       "    <tr>\n",
       "      <th>162</th>\n",
       "      <td>26.0</td>\n",
       "      <td>1.0</td>\n",
       "      <td>1537.166719</td>\n",
       "      <td>0.113780</td>\n",
       "    </tr>\n",
       "    <tr>\n",
       "      <th>172</th>\n",
       "      <td>629.0</td>\n",
       "      <td>115.0</td>\n",
       "      <td>19648.592394</td>\n",
       "      <td>0.219968</td>\n",
       "    </tr>\n",
       "    <tr>\n",
       "      <th>173</th>\n",
       "      <td>63.0</td>\n",
       "      <td>6.0</td>\n",
       "      <td>12771.474990</td>\n",
       "      <td>0.122694</td>\n",
       "    </tr>\n",
       "    <tr>\n",
       "      <th>180</th>\n",
       "      <td>4.0</td>\n",
       "      <td>0.0</td>\n",
       "      <td>4655.819793</td>\n",
       "      <td>0.020061</td>\n",
       "    </tr>\n",
       "    <tr>\n",
       "      <th>182</th>\n",
       "      <td>0.0</td>\n",
       "      <td>0.0</td>\n",
       "      <td>889.624649</td>\n",
       "      <td>0.004621</td>\n",
       "    </tr>\n",
       "    <tr>\n",
       "      <th>183</th>\n",
       "      <td>3.0</td>\n",
       "      <td>0.0</td>\n",
       "      <td>15187.163761</td>\n",
       "      <td>0.073886</td>\n",
       "    </tr>\n",
       "  </tbody>\n",
       "</table>\n",
       "</div>"
      ],
      "text/plain": [
       "     impressions  clicks      lifetime         p\n",
       "153      29027.0  6468.0  18003.025431  0.220134\n",
       "162         26.0     1.0   1537.166719  0.113780\n",
       "172        629.0   115.0  19648.592394  0.219968\n",
       "173         63.0     6.0  12771.474990  0.122694\n",
       "180          4.0     0.0   4655.819793  0.020061\n",
       "182          0.0     0.0    889.624649  0.004621\n",
       "183          3.0     0.0  15187.163761  0.073886"
      ]
     },
     "execution_count": 16,
     "metadata": {},
     "output_type": "execute_result"
    }
   ],
   "source": [
    "output['history']"
   ]
  },
  {
   "cell_type": "markdown",
   "metadata": {},
   "source": [
    "Очевидной проблемой TS, выявленной в ходе выполнения, явлеяется то, что клик по новому баннеру сильно меняет апостериорное распределение (н-р от  $\\text{Beta}(1, 20)$ к  $\\text{Beta}(2, 20)$). Из-за этого такой баннер будет выбираться чаще, прежде чем его апостериорное распределение приблизится к истинному. В звязи с этим я попробовал увеличить априорное значение параметра $\\beta$, чтобы снизить влияние кликов по новым баннерам."
   ]
  },
  {
   "cell_type": "code",
   "execution_count": 17,
   "metadata": {},
   "outputs": [
    {
     "name": "stdout",
     "output_type": "stream",
     "text": [
      "1 impressions have been simulated\n",
      "10001 impressions have been simulated\n",
      "20001 impressions have been simulated\n",
      "30001 impressions have been simulated\n",
      "40001 impressions have been simulated\n",
      "50001 impressions have been simulated\n",
      "60001 impressions have been simulated\n",
      "70001 impressions have been simulated\n",
      "80001 impressions have been simulated\n",
      "90001 impressions have been simulated\n",
      "100001 impressions have been simulated\n",
      "110001 impressions have been simulated\n",
      "120001 impressions have been simulated\n",
      "130001 impressions have been simulated\n",
      "140001 impressions have been simulated\n",
      "150001 impressions have been simulated\n",
      "160001 impressions have been simulated\n",
      "170001 impressions have been simulated\n",
      "180001 impressions have been simulated\n",
      "190001 impressions have been simulated\n"
     ]
    },
    {
     "data": {
      "text/plain": [
       "282.6952168941498"
      ]
     },
     "execution_count": 17,
     "metadata": {},
     "output_type": "execute_result"
    }
   ],
   "source": [
    "# seed for homework\n",
    "seed = 18475\n",
    "np.random.seed(seed=seed)\n",
    "\n",
    "TS_policy = TS(1, 50)\n",
    "\n",
    "start = time.time()\n",
    "output = simulation(TS_policy, n=200000, seed=seed)\n",
    "end = time.time()\n",
    "end - start"
   ]
  },
  {
   "cell_type": "code",
   "execution_count": 19,
   "metadata": {},
   "outputs": [
    {
     "data": {
      "text/plain": [
       "(131.7253439665951, 0.0006586267198329755, 184)"
      ]
     },
     "execution_count": 19,
     "metadata": {},
     "output_type": "execute_result"
    }
   ],
   "source": [
    "# TS - Beta(1, 50) regret\n",
    "output['regret'], output['regret']/output['rounds'],  output['total_banners']"
   ]
  },
  {
   "cell_type": "code",
   "execution_count": 20,
   "metadata": {},
   "outputs": [
    {
     "data": {
      "text/html": [
       "<div>\n",
       "<style scoped>\n",
       "    .dataframe tbody tr th:only-of-type {\n",
       "        vertical-align: middle;\n",
       "    }\n",
       "\n",
       "    .dataframe tbody tr th {\n",
       "        vertical-align: top;\n",
       "    }\n",
       "\n",
       "    .dataframe thead th {\n",
       "        text-align: right;\n",
       "    }\n",
       "</style>\n",
       "<table border=\"1\" class=\"dataframe\">\n",
       "  <thead>\n",
       "    <tr style=\"text-align: right;\">\n",
       "      <th></th>\n",
       "      <th>impressions</th>\n",
       "      <th>clicks</th>\n",
       "      <th>lifetime</th>\n",
       "      <th>p</th>\n",
       "    </tr>\n",
       "  </thead>\n",
       "  <tbody>\n",
       "    <tr>\n",
       "      <th>153</th>\n",
       "      <td>21368.0</td>\n",
       "      <td>4736.0</td>\n",
       "      <td>18003.025431</td>\n",
       "      <td>0.220134</td>\n",
       "    </tr>\n",
       "    <tr>\n",
       "      <th>162</th>\n",
       "      <td>16.0</td>\n",
       "      <td>1.0</td>\n",
       "      <td>1537.166719</td>\n",
       "      <td>0.113780</td>\n",
       "    </tr>\n",
       "    <tr>\n",
       "      <th>172</th>\n",
       "      <td>0.0</td>\n",
       "      <td>0.0</td>\n",
       "      <td>19648.592394</td>\n",
       "      <td>0.219968</td>\n",
       "    </tr>\n",
       "    <tr>\n",
       "      <th>173</th>\n",
       "      <td>0.0</td>\n",
       "      <td>0.0</td>\n",
       "      <td>12771.474990</td>\n",
       "      <td>0.122694</td>\n",
       "    </tr>\n",
       "    <tr>\n",
       "      <th>180</th>\n",
       "      <td>0.0</td>\n",
       "      <td>0.0</td>\n",
       "      <td>4655.819793</td>\n",
       "      <td>0.020061</td>\n",
       "    </tr>\n",
       "    <tr>\n",
       "      <th>182</th>\n",
       "      <td>0.0</td>\n",
       "      <td>0.0</td>\n",
       "      <td>889.624649</td>\n",
       "      <td>0.004621</td>\n",
       "    </tr>\n",
       "    <tr>\n",
       "      <th>183</th>\n",
       "      <td>0.0</td>\n",
       "      <td>0.0</td>\n",
       "      <td>15187.163761</td>\n",
       "      <td>0.073886</td>\n",
       "    </tr>\n",
       "  </tbody>\n",
       "</table>\n",
       "</div>"
      ],
      "text/plain": [
       "     impressions  clicks      lifetime         p\n",
       "153      21368.0  4736.0  18003.025431  0.220134\n",
       "162         16.0     1.0   1537.166719  0.113780\n",
       "172          0.0     0.0  19648.592394  0.219968\n",
       "173          0.0     0.0  12771.474990  0.122694\n",
       "180          0.0     0.0   4655.819793  0.020061\n",
       "182          0.0     0.0    889.624649  0.004621\n",
       "183          0.0     0.0  15187.163761  0.073886"
      ]
     },
     "execution_count": 20,
     "metadata": {},
     "output_type": "execute_result"
    }
   ],
   "source": [
    "output['history']"
   ]
  },
  {
   "cell_type": "markdown",
   "metadata": {},
   "source": [
    "Также я попробовал другие параметры априорного бета-распределения:\n",
    "- увеличение exploitation:\n",
    "\n",
    "    - $\\text{Beta}(1.5, 30)$: (335.304692002386, 0.0016765234600119299, 184)\n",
    "    - $\\text{Beta}(2, 40)$: (228.69432126251496, 0.0011434716063125749, 184)\n",
    "    - $\\text{Beta}(3, 60)$: (291.4213570945607, 0.0014571067854728034, 184)\n",
    "    - $\\text{Beta}(10, 200)$: (387.12372923473913, 0.0019356186461736956, 184)\n",
    "    \n",
    "\n",
    "- влияние параметра $\\beta$\n",
    "\n",
    "    - $\\text{Beta}(1, 10)$: (783.5726370426416, 0.003917863185213208, 184)\n",
    "    - $\\text{Beta}(1, 30)$: (227.11568861560673, 0.0011355784430780336, 184)\n",
    "    - $\\text{Beta}(1, 40)$: (169.11391099978036, 0.0008455695549989018, 184)\n",
    "    - $\\text{Beta}(1, 60)$: (277.42508099730816, 0.0013871254049865407, 184)"
   ]
  },
  {
   "cell_type": "markdown",
   "metadata": {},
   "source": [
    "### Результаты\n",
    "\n",
    "Наилучшей TS политикой оказалась политика с априорным распределением $\\text{Beta}(1, 50)$, при которой regret состаил **131.72**, что превосходит regret бейслайна **1540.76**"
   ]
  },
  {
   "cell_type": "code",
   "execution_count": null,
   "metadata": {},
   "outputs": [],
   "source": []
  }
 ],
 "metadata": {
  "kernelspec": {
   "display_name": "Python 3 (ipykernel)",
   "language": "python",
   "name": "python3"
  },
  "language_info": {
   "codemirror_mode": {
    "name": "ipython",
    "version": 3
   },
   "file_extension": ".py",
   "mimetype": "text/x-python",
   "name": "python",
   "nbconvert_exporter": "python",
   "pygments_lexer": "ipython3",
   "version": "3.9.12"
  }
 },
 "nbformat": 4,
 "nbformat_minor": 4
}
