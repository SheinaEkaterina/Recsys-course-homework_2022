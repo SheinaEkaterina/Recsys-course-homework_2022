{
  "cells": [
    {
      "cell_type": "code",
      "execution_count": 1,
      "metadata": {
        "id": "vggFLBzuR4lh"
      },
      "outputs": [],
      "source": [
        "import numpy as np\n",
        "import pandas as pd\n",
        "import time\n",
        "from functools import partial\n",
        "\n",
        "from scipy.stats import randint, uniform\n",
        "from sim_lib import simulation\n",
        "\n",
        "pd.options.mode.chained_assignment = None\n"
      ]
    },
    {
      "cell_type": "markdown",
      "metadata": {
        "id": "71CfZOOPR4l9"
      },
      "source": [
        "#### Eps-greedy (baseline)"
      ]
    },
    {
      "cell_type": "code",
      "execution_count": 3,
      "metadata": {
        "id": "bLqb6XqPR4mB"
      },
      "outputs": [],
      "source": [
        "def eps_greedy(history: pd.DataFrame, eps: float):\n",
        "    if uniform.rvs() < eps:\n",
        "        n = history.shape[0]\n",
        "        return history.index[randint.rvs(0, n)]\n",
        "\n",
        "    ctr = history['clicks'] / (history['impressions'] + 10)\n",
        "    n = np.argmax(ctr)\n",
        "    return history.index[n]\n",
        "\n",
        "policy = partial(eps_greedy, eps=0.06)"
      ]
    },
    {
      "cell_type": "code",
      "execution_count": 4,
      "metadata": {
        "colab": {
          "base_uri": "https://localhost:8080/"
        },
        "id": "3jiQ6LX0R4mG",
        "outputId": "2768c9fb-6304-4c27-d56b-541887add98d"
      },
      "outputs": [
        {
          "output_type": "stream",
          "name": "stdout",
          "text": [
            "1 impressions have been simulated\n",
            "10001 impressions have been simulated\n",
            "20001 impressions have been simulated\n",
            "30001 impressions have been simulated\n",
            "40001 impressions have been simulated\n",
            "50001 impressions have been simulated\n",
            "60001 impressions have been simulated\n",
            "70001 impressions have been simulated\n",
            "80001 impressions have been simulated\n",
            "90001 impressions have been simulated\n",
            "100001 impressions have been simulated\n",
            "110001 impressions have been simulated\n",
            "120001 impressions have been simulated\n",
            "130001 impressions have been simulated\n",
            "140001 impressions have been simulated\n",
            "150001 impressions have been simulated\n",
            "160001 impressions have been simulated\n",
            "170001 impressions have been simulated\n",
            "180001 impressions have been simulated\n",
            "190001 impressions have been simulated\n"
          ]
        },
        {
          "output_type": "execute_result",
          "data": {
            "text/plain": [
              "682.381539106369"
            ]
          },
          "metadata": {},
          "execution_count": 4
        }
      ],
      "source": [
        "# seed for homework\n",
        "seed = 18475\n",
        "np.random.seed(seed=seed)\n",
        "\n",
        "start = time.time()\n",
        "output = simulation(policy, n=200000, seed=seed)\n",
        "end = time.time()\n",
        "end - start"
      ]
    },
    {
      "cell_type": "code",
      "execution_count": 5,
      "metadata": {
        "colab": {
          "base_uri": "https://localhost:8080/"
        },
        "id": "ZYU5lNHLR4mJ",
        "outputId": "d4ea96d2-2647-4871-aa3c-220705148e84"
      },
      "outputs": [
        {
          "output_type": "execute_result",
          "data": {
            "text/plain": [
              "(1540.7609683932544, 0.007703804841966272, 184)"
            ]
          },
          "metadata": {},
          "execution_count": 5
        }
      ],
      "source": [
        "# baseline regret\n",
        "output['regret'], output['regret']/output['rounds'],  output['total_banners']"
      ]
    },
    {
      "cell_type": "code",
      "execution_count": 6,
      "metadata": {
        "colab": {
          "base_uri": "https://localhost:8080/",
          "height": 263
        },
        "id": "uhHYWnpjR4mL",
        "outputId": "961d9d16-40f2-448c-f5e4-573e64ece112"
      },
      "outputs": [
        {
          "output_type": "execute_result",
          "data": {
            "text/plain": [
              "     impressions  clicks      lifetime         p\n",
              "153      18970.0  4199.0  18003.025431  0.220134\n",
              "162        228.0    26.0   1537.166719  0.113780\n",
              "172        163.0    32.0  19648.592394  0.219968\n",
              "173        170.0    18.0  12771.474990  0.122694\n",
              "180         26.0     3.0   4655.819793  0.020061\n",
              "182          6.0     0.0    889.624649  0.004621\n",
              "183          1.0     0.0  15187.163761  0.073886"
            ],
            "text/html": [
              "\n",
              "  <div id=\"df-45e63bd3-c42c-45a7-867b-3420d00fc910\">\n",
              "    <div class=\"colab-df-container\">\n",
              "      <div>\n",
              "<style scoped>\n",
              "    .dataframe tbody tr th:only-of-type {\n",
              "        vertical-align: middle;\n",
              "    }\n",
              "\n",
              "    .dataframe tbody tr th {\n",
              "        vertical-align: top;\n",
              "    }\n",
              "\n",
              "    .dataframe thead th {\n",
              "        text-align: right;\n",
              "    }\n",
              "</style>\n",
              "<table border=\"1\" class=\"dataframe\">\n",
              "  <thead>\n",
              "    <tr style=\"text-align: right;\">\n",
              "      <th></th>\n",
              "      <th>impressions</th>\n",
              "      <th>clicks</th>\n",
              "      <th>lifetime</th>\n",
              "      <th>p</th>\n",
              "    </tr>\n",
              "  </thead>\n",
              "  <tbody>\n",
              "    <tr>\n",
              "      <th>153</th>\n",
              "      <td>18970.0</td>\n",
              "      <td>4199.0</td>\n",
              "      <td>18003.025431</td>\n",
              "      <td>0.220134</td>\n",
              "    </tr>\n",
              "    <tr>\n",
              "      <th>162</th>\n",
              "      <td>228.0</td>\n",
              "      <td>26.0</td>\n",
              "      <td>1537.166719</td>\n",
              "      <td>0.113780</td>\n",
              "    </tr>\n",
              "    <tr>\n",
              "      <th>172</th>\n",
              "      <td>163.0</td>\n",
              "      <td>32.0</td>\n",
              "      <td>19648.592394</td>\n",
              "      <td>0.219968</td>\n",
              "    </tr>\n",
              "    <tr>\n",
              "      <th>173</th>\n",
              "      <td>170.0</td>\n",
              "      <td>18.0</td>\n",
              "      <td>12771.474990</td>\n",
              "      <td>0.122694</td>\n",
              "    </tr>\n",
              "    <tr>\n",
              "      <th>180</th>\n",
              "      <td>26.0</td>\n",
              "      <td>3.0</td>\n",
              "      <td>4655.819793</td>\n",
              "      <td>0.020061</td>\n",
              "    </tr>\n",
              "    <tr>\n",
              "      <th>182</th>\n",
              "      <td>6.0</td>\n",
              "      <td>0.0</td>\n",
              "      <td>889.624649</td>\n",
              "      <td>0.004621</td>\n",
              "    </tr>\n",
              "    <tr>\n",
              "      <th>183</th>\n",
              "      <td>1.0</td>\n",
              "      <td>0.0</td>\n",
              "      <td>15187.163761</td>\n",
              "      <td>0.073886</td>\n",
              "    </tr>\n",
              "  </tbody>\n",
              "</table>\n",
              "</div>\n",
              "      <button class=\"colab-df-convert\" onclick=\"convertToInteractive('df-45e63bd3-c42c-45a7-867b-3420d00fc910')\"\n",
              "              title=\"Convert this dataframe to an interactive table.\"\n",
              "              style=\"display:none;\">\n",
              "        \n",
              "  <svg xmlns=\"http://www.w3.org/2000/svg\" height=\"24px\"viewBox=\"0 0 24 24\"\n",
              "       width=\"24px\">\n",
              "    <path d=\"M0 0h24v24H0V0z\" fill=\"none\"/>\n",
              "    <path d=\"M18.56 5.44l.94 2.06.94-2.06 2.06-.94-2.06-.94-.94-2.06-.94 2.06-2.06.94zm-11 1L8.5 8.5l.94-2.06 2.06-.94-2.06-.94L8.5 2.5l-.94 2.06-2.06.94zm10 10l.94 2.06.94-2.06 2.06-.94-2.06-.94-.94-2.06-.94 2.06-2.06.94z\"/><path d=\"M17.41 7.96l-1.37-1.37c-.4-.4-.92-.59-1.43-.59-.52 0-1.04.2-1.43.59L10.3 9.45l-7.72 7.72c-.78.78-.78 2.05 0 2.83L4 21.41c.39.39.9.59 1.41.59.51 0 1.02-.2 1.41-.59l7.78-7.78 2.81-2.81c.8-.78.8-2.07 0-2.86zM5.41 20L4 18.59l7.72-7.72 1.47 1.35L5.41 20z\"/>\n",
              "  </svg>\n",
              "      </button>\n",
              "      \n",
              "  <style>\n",
              "    .colab-df-container {\n",
              "      display:flex;\n",
              "      flex-wrap:wrap;\n",
              "      gap: 12px;\n",
              "    }\n",
              "\n",
              "    .colab-df-convert {\n",
              "      background-color: #E8F0FE;\n",
              "      border: none;\n",
              "      border-radius: 50%;\n",
              "      cursor: pointer;\n",
              "      display: none;\n",
              "      fill: #1967D2;\n",
              "      height: 32px;\n",
              "      padding: 0 0 0 0;\n",
              "      width: 32px;\n",
              "    }\n",
              "\n",
              "    .colab-df-convert:hover {\n",
              "      background-color: #E2EBFA;\n",
              "      box-shadow: 0px 1px 2px rgba(60, 64, 67, 0.3), 0px 1px 3px 1px rgba(60, 64, 67, 0.15);\n",
              "      fill: #174EA6;\n",
              "    }\n",
              "\n",
              "    [theme=dark] .colab-df-convert {\n",
              "      background-color: #3B4455;\n",
              "      fill: #D2E3FC;\n",
              "    }\n",
              "\n",
              "    [theme=dark] .colab-df-convert:hover {\n",
              "      background-color: #434B5C;\n",
              "      box-shadow: 0px 1px 3px 1px rgba(0, 0, 0, 0.15);\n",
              "      filter: drop-shadow(0px 1px 2px rgba(0, 0, 0, 0.3));\n",
              "      fill: #FFFFFF;\n",
              "    }\n",
              "  </style>\n",
              "\n",
              "      <script>\n",
              "        const buttonEl =\n",
              "          document.querySelector('#df-45e63bd3-c42c-45a7-867b-3420d00fc910 button.colab-df-convert');\n",
              "        buttonEl.style.display =\n",
              "          google.colab.kernel.accessAllowed ? 'block' : 'none';\n",
              "\n",
              "        async function convertToInteractive(key) {\n",
              "          const element = document.querySelector('#df-45e63bd3-c42c-45a7-867b-3420d00fc910');\n",
              "          const dataTable =\n",
              "            await google.colab.kernel.invokeFunction('convertToInteractive',\n",
              "                                                     [key], {});\n",
              "          if (!dataTable) return;\n",
              "\n",
              "          const docLinkHtml = 'Like what you see? Visit the ' +\n",
              "            '<a target=\"_blank\" href=https://colab.research.google.com/notebooks/data_table.ipynb>data table notebook</a>'\n",
              "            + ' to learn more about interactive tables.';\n",
              "          element.innerHTML = '';\n",
              "          dataTable['output_type'] = 'display_data';\n",
              "          await google.colab.output.renderOutput(dataTable, element);\n",
              "          const docLink = document.createElement('div');\n",
              "          docLink.innerHTML = docLinkHtml;\n",
              "          element.appendChild(docLink);\n",
              "        }\n",
              "      </script>\n",
              "    </div>\n",
              "  </div>\n",
              "  "
            ]
          },
          "metadata": {},
          "execution_count": 6
        }
      ],
      "source": [
        "output['history']"
      ]
    },
    {
      "cell_type": "markdown",
      "metadata": {
        "id": "h4P8lDrvR4mM"
      },
      "source": [
        "#### UCB"
      ]
    },
    {
      "cell_type": "code",
      "execution_count": 7,
      "metadata": {
        "id": "uO1cf7r3R4mN"
      },
      "outputs": [],
      "source": [
        "class ucb:\n",
        "    def __init__(self, c: float = 0.1):\n",
        "        self.c = c\n",
        "    \n",
        "    def __call__(self, history: pd.DataFrame):\n",
        "        # номер шага - сколько всего было показов\n",
        "        t = history['impressions'].sum() + 1\n",
        "        # оценка на матожидание награды\n",
        "        theta = history['clicks'] / (history['impressions'] + 1)\n",
        "        # добавка в UCB для exploration\n",
        "        correction = np.sqrt(np.log(t) / (history['impressions'] + 1))\n",
        "        # выбираем действие - какую ручку дергать\n",
        "        action = np.argmax(theta + self.c * correction)\n",
        "        return history.index[action]"
      ]
    },
    {
      "cell_type": "markdown",
      "metadata": {
        "id": "tBWDlvimR4mO"
      },
      "source": [
        "Подберем параметры"
      ]
    },
    {
      "cell_type": "code",
      "execution_count": 8,
      "metadata": {
        "colab": {
          "base_uri": "https://localhost:8080/"
        },
        "id": "ZLZ72K_BR4mP",
        "outputId": "71cc21ba-c3ba-4bab-cf85-5ec5dd6d6a3a"
      },
      "outputs": [
        {
          "output_type": "stream",
          "name": "stdout",
          "text": [
            "--- c = 0.0001 ---\n",
            "1 impressions have been simulated\n",
            "10001 impressions have been simulated\n",
            "20001 impressions have been simulated\n",
            "30001 impressions have been simulated\n",
            "40001 impressions have been simulated\n",
            "50001 impressions have been simulated\n",
            "60001 impressions have been simulated\n",
            "70001 impressions have been simulated\n",
            "80001 impressions have been simulated\n",
            "90001 impressions have been simulated\n",
            "100001 impressions have been simulated\n",
            "110001 impressions have been simulated\n",
            "120001 impressions have been simulated\n",
            "130001 impressions have been simulated\n",
            "140001 impressions have been simulated\n",
            "150001 impressions have been simulated\n",
            "160001 impressions have been simulated\n",
            "170001 impressions have been simulated\n",
            "180001 impressions have been simulated\n",
            "190001 impressions have been simulated\n",
            "regret = 7570.250, mean_regret: 0.0379\n",
            "time: 669.4210300445557 s \n",
            "\n",
            "--- c = 0.001 ---\n",
            "1 impressions have been simulated\n",
            "10001 impressions have been simulated\n",
            "20001 impressions have been simulated\n",
            "30001 impressions have been simulated\n",
            "40001 impressions have been simulated\n",
            "50001 impressions have been simulated\n",
            "60001 impressions have been simulated\n",
            "70001 impressions have been simulated\n",
            "80001 impressions have been simulated\n",
            "90001 impressions have been simulated\n",
            "100001 impressions have been simulated\n",
            "110001 impressions have been simulated\n",
            "120001 impressions have been simulated\n",
            "130001 impressions have been simulated\n",
            "140001 impressions have been simulated\n",
            "150001 impressions have been simulated\n",
            "160001 impressions have been simulated\n",
            "170001 impressions have been simulated\n",
            "180001 impressions have been simulated\n",
            "190001 impressions have been simulated\n",
            "regret = 7570.250, mean_regret: 0.0379\n",
            "time: 634.3817536830902 s \n",
            "\n",
            "--- c = 0.01 ---\n",
            "1 impressions have been simulated\n",
            "10001 impressions have been simulated\n",
            "20001 impressions have been simulated\n",
            "30001 impressions have been simulated\n",
            "40001 impressions have been simulated\n",
            "50001 impressions have been simulated\n",
            "60001 impressions have been simulated\n",
            "70001 impressions have been simulated\n",
            "80001 impressions have been simulated\n",
            "90001 impressions have been simulated\n",
            "100001 impressions have been simulated\n",
            "110001 impressions have been simulated\n",
            "120001 impressions have been simulated\n",
            "130001 impressions have been simulated\n",
            "140001 impressions have been simulated\n",
            "150001 impressions have been simulated\n",
            "160001 impressions have been simulated\n",
            "170001 impressions have been simulated\n",
            "180001 impressions have been simulated\n",
            "190001 impressions have been simulated\n",
            "regret = 7791.756, mean_regret: 0.0390\n",
            "time: 651.6191232204437 s \n",
            "\n",
            "--- c = 0.1 ---\n",
            "1 impressions have been simulated\n",
            "10001 impressions have been simulated\n",
            "20001 impressions have been simulated\n",
            "30001 impressions have been simulated\n",
            "40001 impressions have been simulated\n",
            "50001 impressions have been simulated\n",
            "60001 impressions have been simulated\n",
            "70001 impressions have been simulated\n",
            "80001 impressions have been simulated\n",
            "90001 impressions have been simulated\n",
            "100001 impressions have been simulated\n",
            "110001 impressions have been simulated\n",
            "120001 impressions have been simulated\n",
            "130001 impressions have been simulated\n",
            "140001 impressions have been simulated\n",
            "150001 impressions have been simulated\n",
            "160001 impressions have been simulated\n",
            "170001 impressions have been simulated\n",
            "180001 impressions have been simulated\n",
            "190001 impressions have been simulated\n",
            "regret = 189.571, mean_regret: 0.0009\n",
            "time: 649.340048789978 s \n",
            "\n",
            "--- c = 1 ---\n",
            "1 impressions have been simulated\n",
            "10001 impressions have been simulated\n",
            "20001 impressions have been simulated\n",
            "30001 impressions have been simulated\n",
            "40001 impressions have been simulated\n",
            "50001 impressions have been simulated\n",
            "60001 impressions have been simulated\n",
            "70001 impressions have been simulated\n",
            "80001 impressions have been simulated\n",
            "90001 impressions have been simulated\n",
            "100001 impressions have been simulated\n",
            "110001 impressions have been simulated\n",
            "120001 impressions have been simulated\n",
            "130001 impressions have been simulated\n",
            "140001 impressions have been simulated\n",
            "150001 impressions have been simulated\n",
            "160001 impressions have been simulated\n",
            "170001 impressions have been simulated\n",
            "180001 impressions have been simulated\n",
            "190001 impressions have been simulated\n",
            "regret = 6428.429, mean_regret: 0.0321\n",
            "time: 636.9761686325073 s \n",
            "\n"
          ]
        }
      ],
      "source": [
        "seed = 18475\n",
        "cs = [0.0001, 0.001, 0.01, 0.1, 1]\n",
        "regrets = []\n",
        "\n",
        "for c in cs:\n",
        "    print(f'--- c = {c} ---')\n",
        "    np.random.seed(seed=seed)\n",
        "    policy = ucb(c=c)\n",
        "    start = time.time()\n",
        "    output = simulation(policy, n=200000, seed=seed)\n",
        "    end = time.time()\n",
        "    regrets.append([c, output['regret']])\n",
        "    print(f\"regret = {output['regret']:.3f}, mean_regret: {output['regret']/output['rounds']:.4f}\")\n",
        "    print(f'time: {end - start} s', '\\n')"
      ]
    },
    {
      "cell_type": "code",
      "execution_count": 9,
      "metadata": {
        "colab": {
          "base_uri": "https://localhost:8080/",
          "height": 202
        },
        "id": "9bhtfQ2bR4mQ",
        "outputId": "c524c128-c9cb-40ef-8a0e-f28b464964c3"
      },
      "outputs": [
        {
          "output_type": "execute_result",
          "data": {
            "text/plain": [
              "        c       regret\n",
              "0  0.0001  7570.250349\n",
              "1  0.0010  7570.250349\n",
              "2  0.0100  7791.756275\n",
              "3  0.1000   189.570644\n",
              "4  1.0000  6428.429018"
            ],
            "text/html": [
              "\n",
              "  <div id=\"df-981997fb-7346-47f9-892a-917ba9b33068\">\n",
              "    <div class=\"colab-df-container\">\n",
              "      <div>\n",
              "<style scoped>\n",
              "    .dataframe tbody tr th:only-of-type {\n",
              "        vertical-align: middle;\n",
              "    }\n",
              "\n",
              "    .dataframe tbody tr th {\n",
              "        vertical-align: top;\n",
              "    }\n",
              "\n",
              "    .dataframe thead th {\n",
              "        text-align: right;\n",
              "    }\n",
              "</style>\n",
              "<table border=\"1\" class=\"dataframe\">\n",
              "  <thead>\n",
              "    <tr style=\"text-align: right;\">\n",
              "      <th></th>\n",
              "      <th>c</th>\n",
              "      <th>regret</th>\n",
              "    </tr>\n",
              "  </thead>\n",
              "  <tbody>\n",
              "    <tr>\n",
              "      <th>0</th>\n",
              "      <td>0.0001</td>\n",
              "      <td>7570.250349</td>\n",
              "    </tr>\n",
              "    <tr>\n",
              "      <th>1</th>\n",
              "      <td>0.0010</td>\n",
              "      <td>7570.250349</td>\n",
              "    </tr>\n",
              "    <tr>\n",
              "      <th>2</th>\n",
              "      <td>0.0100</td>\n",
              "      <td>7791.756275</td>\n",
              "    </tr>\n",
              "    <tr>\n",
              "      <th>3</th>\n",
              "      <td>0.1000</td>\n",
              "      <td>189.570644</td>\n",
              "    </tr>\n",
              "    <tr>\n",
              "      <th>4</th>\n",
              "      <td>1.0000</td>\n",
              "      <td>6428.429018</td>\n",
              "    </tr>\n",
              "  </tbody>\n",
              "</table>\n",
              "</div>\n",
              "      <button class=\"colab-df-convert\" onclick=\"convertToInteractive('df-981997fb-7346-47f9-892a-917ba9b33068')\"\n",
              "              title=\"Convert this dataframe to an interactive table.\"\n",
              "              style=\"display:none;\">\n",
              "        \n",
              "  <svg xmlns=\"http://www.w3.org/2000/svg\" height=\"24px\"viewBox=\"0 0 24 24\"\n",
              "       width=\"24px\">\n",
              "    <path d=\"M0 0h24v24H0V0z\" fill=\"none\"/>\n",
              "    <path d=\"M18.56 5.44l.94 2.06.94-2.06 2.06-.94-2.06-.94-.94-2.06-.94 2.06-2.06.94zm-11 1L8.5 8.5l.94-2.06 2.06-.94-2.06-.94L8.5 2.5l-.94 2.06-2.06.94zm10 10l.94 2.06.94-2.06 2.06-.94-2.06-.94-.94-2.06-.94 2.06-2.06.94z\"/><path d=\"M17.41 7.96l-1.37-1.37c-.4-.4-.92-.59-1.43-.59-.52 0-1.04.2-1.43.59L10.3 9.45l-7.72 7.72c-.78.78-.78 2.05 0 2.83L4 21.41c.39.39.9.59 1.41.59.51 0 1.02-.2 1.41-.59l7.78-7.78 2.81-2.81c.8-.78.8-2.07 0-2.86zM5.41 20L4 18.59l7.72-7.72 1.47 1.35L5.41 20z\"/>\n",
              "  </svg>\n",
              "      </button>\n",
              "      \n",
              "  <style>\n",
              "    .colab-df-container {\n",
              "      display:flex;\n",
              "      flex-wrap:wrap;\n",
              "      gap: 12px;\n",
              "    }\n",
              "\n",
              "    .colab-df-convert {\n",
              "      background-color: #E8F0FE;\n",
              "      border: none;\n",
              "      border-radius: 50%;\n",
              "      cursor: pointer;\n",
              "      display: none;\n",
              "      fill: #1967D2;\n",
              "      height: 32px;\n",
              "      padding: 0 0 0 0;\n",
              "      width: 32px;\n",
              "    }\n",
              "\n",
              "    .colab-df-convert:hover {\n",
              "      background-color: #E2EBFA;\n",
              "      box-shadow: 0px 1px 2px rgba(60, 64, 67, 0.3), 0px 1px 3px 1px rgba(60, 64, 67, 0.15);\n",
              "      fill: #174EA6;\n",
              "    }\n",
              "\n",
              "    [theme=dark] .colab-df-convert {\n",
              "      background-color: #3B4455;\n",
              "      fill: #D2E3FC;\n",
              "    }\n",
              "\n",
              "    [theme=dark] .colab-df-convert:hover {\n",
              "      background-color: #434B5C;\n",
              "      box-shadow: 0px 1px 3px 1px rgba(0, 0, 0, 0.15);\n",
              "      filter: drop-shadow(0px 1px 2px rgba(0, 0, 0, 0.3));\n",
              "      fill: #FFFFFF;\n",
              "    }\n",
              "  </style>\n",
              "\n",
              "      <script>\n",
              "        const buttonEl =\n",
              "          document.querySelector('#df-981997fb-7346-47f9-892a-917ba9b33068 button.colab-df-convert');\n",
              "        buttonEl.style.display =\n",
              "          google.colab.kernel.accessAllowed ? 'block' : 'none';\n",
              "\n",
              "        async function convertToInteractive(key) {\n",
              "          const element = document.querySelector('#df-981997fb-7346-47f9-892a-917ba9b33068');\n",
              "          const dataTable =\n",
              "            await google.colab.kernel.invokeFunction('convertToInteractive',\n",
              "                                                     [key], {});\n",
              "          if (!dataTable) return;\n",
              "\n",
              "          const docLinkHtml = 'Like what you see? Visit the ' +\n",
              "            '<a target=\"_blank\" href=https://colab.research.google.com/notebooks/data_table.ipynb>data table notebook</a>'\n",
              "            + ' to learn more about interactive tables.';\n",
              "          element.innerHTML = '';\n",
              "          dataTable['output_type'] = 'display_data';\n",
              "          await google.colab.output.renderOutput(dataTable, element);\n",
              "          const docLink = document.createElement('div');\n",
              "          docLink.innerHTML = docLinkHtml;\n",
              "          element.appendChild(docLink);\n",
              "        }\n",
              "      </script>\n",
              "    </div>\n",
              "  </div>\n",
              "  "
            ]
          },
          "metadata": {},
          "execution_count": 9
        }
      ],
      "source": [
        "regrets = np.array(regrets)\n",
        "pd.DataFrame(regrets, columns=['c', 'regret'])"
      ]
    },
    {
      "cell_type": "markdown",
      "source": [
        "Видно, что при `c=0.1` получается наименьший `regret=189.6`, что сильно лучше, чем у бейзлайна: `regret=1540`"
      ],
      "metadata": {
        "id": "2oAQBC1HhWop"
      }
    },
    {
      "cell_type": "code",
      "execution_count": 9,
      "metadata": {
        "id": "gWLY4E5UR4mQ"
      },
      "outputs": [],
      "source": []
    }
  ],
  "metadata": {
    "kernelspec": {
      "display_name": "Python 3.9.7 ('Engineering_practice')",
      "language": "python",
      "name": "python3"
    },
    "language_info": {
      "codemirror_mode": {
        "name": "ipython",
        "version": 3
      },
      "file_extension": ".py",
      "mimetype": "text/x-python",
      "name": "python",
      "nbconvert_exporter": "python",
      "pygments_lexer": "ipython3",
      "version": "3.9.7"
    },
    "vscode": {
      "interpreter": {
        "hash": "f30334793bf463a698dc307285c30603bb7e37acc4a8536bdf040047bc32a92f"
      }
    },
    "colab": {
      "provenance": []
    }
  },
  "nbformat": 4,
  "nbformat_minor": 0
}