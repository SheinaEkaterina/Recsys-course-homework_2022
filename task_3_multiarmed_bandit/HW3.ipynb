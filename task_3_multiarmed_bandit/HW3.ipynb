{
 "cells": [
  {
   "cell_type": "code",
   "execution_count": 1,
   "metadata": {},
   "outputs": [],
   "source": [
    "import numpy as np\n",
    "import pandas as pd\n",
    "import time\n",
    "from functools import partial\n",
    "\n",
    "from scipy.stats import randint, uniform\n",
    "from sim_lib import simulation\n",
    "\n",
    "pd.options.mode.chained_assignment = None\n"
   ]
  },
  {
   "cell_type": "code",
   "execution_count": 2,
   "metadata": {},
   "outputs": [],
   "source": [
    "def eps_greedy(history: pd.DataFrame, eps: float):\n",
    "    if uniform.rvs() < eps:\n",
    "        n = history.shape[0]\n",
    "        return history.index[randint.rvs(0, n)]\n",
    "\n",
    "    ctr = history['clicks'] / (history['impressions'] + 10)\n",
    "    n = np.argmax(ctr)\n",
    "    return history.index[n]\n",
    "\n",
    "policy = partial(eps_greedy, eps=0.06)"
   ]
  },
  {
   "cell_type": "code",
   "execution_count": 3,
   "metadata": {},
   "outputs": [
    {
     "name": "stdout",
     "output_type": "stream",
     "text": [
      "1 impressions have been simulated\n",
      "10001 impressions have been simulated\n",
      "20001 impressions have been simulated\n",
      "30001 impressions have been simulated\n",
      "40001 impressions have been simulated\n",
      "50001 impressions have been simulated\n",
      "60001 impressions have been simulated\n",
      "70001 impressions have been simulated\n",
      "80001 impressions have been simulated\n",
      "90001 impressions have been simulated\n",
      "100001 impressions have been simulated\n",
      "110001 impressions have been simulated\n",
      "120001 impressions have been simulated\n",
      "130001 impressions have been simulated\n",
      "140001 impressions have been simulated\n",
      "150001 impressions have been simulated\n",
      "160001 impressions have been simulated\n",
      "170001 impressions have been simulated\n",
      "180001 impressions have been simulated\n",
      "190001 impressions have been simulated\n"
     ]
    },
    {
     "data": {
      "text/plain": [
       "251.7458233833313"
      ]
     },
     "execution_count": 3,
     "metadata": {},
     "output_type": "execute_result"
    }
   ],
   "source": [
    "# seed for homework\n",
    "seed = 18475\n",
    "np.random.seed(seed=seed)\n",
    "\n",
    "start = time.time()\n",
    "output = simulation(policy, n=200000, seed=seed)\n",
    "end = time.time()\n",
    "end - start"
   ]
  },
  {
   "cell_type": "code",
   "execution_count": 4,
   "metadata": {},
   "outputs": [
    {
     "data": {
      "text/plain": [
       "(1540.7609683932544, 0.007703804841966272, 184)"
      ]
     },
     "execution_count": 4,
     "metadata": {},
     "output_type": "execute_result"
    }
   ],
   "source": [
    "# baseline regret\n",
    "output['regret'], output['regret']/output['rounds'],  output['total_banners']"
   ]
  },
  {
   "cell_type": "code",
   "execution_count": 5,
   "metadata": {},
   "outputs": [
    {
     "data": {
      "text/html": [
       "<div>\n",
       "<style scoped>\n",
       "    .dataframe tbody tr th:only-of-type {\n",
       "        vertical-align: middle;\n",
       "    }\n",
       "\n",
       "    .dataframe tbody tr th {\n",
       "        vertical-align: top;\n",
       "    }\n",
       "\n",
       "    .dataframe thead th {\n",
       "        text-align: right;\n",
       "    }\n",
       "</style>\n",
       "<table border=\"1\" class=\"dataframe\">\n",
       "  <thead>\n",
       "    <tr style=\"text-align: right;\">\n",
       "      <th></th>\n",
       "      <th>impressions</th>\n",
       "      <th>clicks</th>\n",
       "      <th>lifetime</th>\n",
       "      <th>p</th>\n",
       "    </tr>\n",
       "  </thead>\n",
       "  <tbody>\n",
       "    <tr>\n",
       "      <th>153</th>\n",
       "      <td>18970.0</td>\n",
       "      <td>4199.0</td>\n",
       "      <td>18003.025431</td>\n",
       "      <td>0.220134</td>\n",
       "    </tr>\n",
       "    <tr>\n",
       "      <th>162</th>\n",
       "      <td>228.0</td>\n",
       "      <td>26.0</td>\n",
       "      <td>1537.166719</td>\n",
       "      <td>0.113780</td>\n",
       "    </tr>\n",
       "    <tr>\n",
       "      <th>172</th>\n",
       "      <td>163.0</td>\n",
       "      <td>32.0</td>\n",
       "      <td>19648.592394</td>\n",
       "      <td>0.219968</td>\n",
       "    </tr>\n",
       "    <tr>\n",
       "      <th>173</th>\n",
       "      <td>170.0</td>\n",
       "      <td>18.0</td>\n",
       "      <td>12771.474990</td>\n",
       "      <td>0.122694</td>\n",
       "    </tr>\n",
       "    <tr>\n",
       "      <th>180</th>\n",
       "      <td>26.0</td>\n",
       "      <td>3.0</td>\n",
       "      <td>4655.819793</td>\n",
       "      <td>0.020061</td>\n",
       "    </tr>\n",
       "    <tr>\n",
       "      <th>182</th>\n",
       "      <td>6.0</td>\n",
       "      <td>0.0</td>\n",
       "      <td>889.624649</td>\n",
       "      <td>0.004621</td>\n",
       "    </tr>\n",
       "    <tr>\n",
       "      <th>183</th>\n",
       "      <td>1.0</td>\n",
       "      <td>0.0</td>\n",
       "      <td>15187.163761</td>\n",
       "      <td>0.073886</td>\n",
       "    </tr>\n",
       "  </tbody>\n",
       "</table>\n",
       "</div>"
      ],
      "text/plain": [
       "     impressions  clicks      lifetime         p\n",
       "153      18970.0  4199.0  18003.025431  0.220134\n",
       "162        228.0    26.0   1537.166719  0.113780\n",
       "172        163.0    32.0  19648.592394  0.219968\n",
       "173        170.0    18.0  12771.474990  0.122694\n",
       "180         26.0     3.0   4655.819793  0.020061\n",
       "182          6.0     0.0    889.624649  0.004621\n",
       "183          1.0     0.0  15187.163761  0.073886"
      ]
     },
     "execution_count": 5,
     "metadata": {},
     "output_type": "execute_result"
    }
   ],
   "source": [
    "output['history']"
   ]
  },
  {
   "cell_type": "markdown",
   "metadata": {},
   "source": [
    "# Upper confidence bound"
   ]
  },
  {
   "cell_type": "code",
   "execution_count": 8,
   "metadata": {},
   "outputs": [],
   "source": [
    "class UpperConfidenceBound:\n",
    "    def __init__(self, ee_tradeoff=0.1):\n",
    "        self.t = 0\n",
    "        self.ee_tradeoff = ee_tradeoff\n",
    "\n",
    "    def __call__(self, history: pd.DataFrame):\n",
    "        Q = history['clicks'] / (history['impressions'] + 1)\n",
    "        self.t += 1\n",
    "        U = Q + self.ee_tradeoff * np.sqrt(2*np.log(self.t) / (history['impressions'] + 1))\n",
    "        idx = np.argmax(U)\n",
    "        return history.index[idx]"
   ]
  },
  {
   "cell_type": "markdown",
   "metadata": {},
   "source": [
    " \\+ Добавил в **simulation** параметр **verbose** для удобства и чистого вывода"
   ]
  },
  {
   "cell_type": "code",
   "execution_count": 9,
   "metadata": {},
   "outputs": [
    {
     "name": "stdout",
     "output_type": "stream",
     "text": [
      "217.60194678688532 0.0010880097339344267 184\n",
      "CPU times: total: 4min 54s\n",
      "Wall time: 4min 54s\n"
     ]
    }
   ],
   "source": [
    "%%time\n",
    "\n",
    "output_ucb = simulation(UpperConfidenceBound(), n=200000, seed=seed, verbose=False)\n",
    "print(output_ucb['regret'], output_ucb['regret']/output_ucb['rounds'],  output_ucb['total_banners'])"
   ]
  },
  {
   "cell_type": "markdown",
   "metadata": {},
   "source": [
    "Regret меньше, чем 1540 у e-greedy.\n",
    "\n",
    "Теперь оптимизируем Exploration exploitation trade-off.\n",
    "\n",
    "Используем Grid Search, постепенно уменьшая сетку:"
   ]
  },
  {
   "cell_type": "markdown",
   "metadata": {},
   "source": [
    "## Big grid"
   ]
  },
  {
   "cell_type": "code",
   "execution_count": 11,
   "metadata": {},
   "outputs": [
    {
     "name": "stdout",
     "output_type": "stream",
     "text": [
      "EE_tradeoff = 0.01 done. Regret = 941.0714982541851\n",
      "EE_tradeoff = 0.05 done. Regret = 35.716164414616635\n",
      "EE_tradeoff = 0.25 done. Regret = 333.889095409225\n",
      "EE_tradeoff = 0.5 done. Regret = 917.8386885157926\n",
      "EE_tradeoff = 0.75 done. Regret = 1617.3568859684008\n",
      "EE_tradeoff = 1.0 done. Regret = 2393.717146557163\n",
      "CPU times: total: 7min 22s\n",
      "Wall time: 7min 23s\n"
     ]
    }
   ],
   "source": [
    "%%time\n",
    "\n",
    "result = []\n",
    "\n",
    "for p in [0.01, 0.05, 0.25, 0.5, 0.75, 1.0]:\n",
    "    np.random.seed(seed=seed)\n",
    "    output = simulation(UpperConfidenceBound(ee_tradeoff=p), n=50000, seed=seed, verbose=False)\n",
    "    result.append((\n",
    "        p,\n",
    "        output['regret'],\n",
    "        output['regret'] / output['rounds'],\n",
    "        output['total_banners']\n",
    "    ))\n",
    "    print(f\"EE_tradeoff = {p} done. Regret = {output['regret']}\")"
   ]
  },
  {
   "cell_type": "markdown",
   "metadata": {},
   "source": [
    "## Grid поменбше"
   ]
  },
  {
   "cell_type": "code",
   "execution_count": 12,
   "metadata": {},
   "outputs": [
    {
     "name": "stdout",
     "output_type": "stream",
     "text": [
      "EE_tradeoff = 0.03 done. Regret = 429.1319619278395\n",
      "EE_tradeoff = 0.07 done. Regret = 76.69553168349854\n",
      "EE_tradeoff = 0.11 done. Regret = 80.02693105532725\n",
      "EE_tradeoff = 0.16 done. Regret = 159.79794532913036\n",
      "EE_tradeoff = 0.2 done. Regret = 225.69549883550025\n",
      "CPU times: total: 6min 23s\n",
      "Wall time: 6min 26s\n"
     ]
    }
   ],
   "source": [
    "%%time\n",
    "\n",
    "for p in [0.03, 0.07, 0.11, 0.16, 0.2]:\n",
    "    np.random.seed(seed=seed)\n",
    "    output = simulation(UpperConfidenceBound(ee_tradeoff=p), n=50000, seed=seed, verbose=False)\n",
    "    result.append((\n",
    "        p,\n",
    "        output['regret'],\n",
    "        output['regret'] / output['rounds'],\n",
    "        output['total_banners']\n",
    "    ))\n",
    "    print(f\"EE_tradeoff = {p} done. Regret = {output['regret']}\")"
   ]
  },
  {
   "cell_type": "markdown",
   "metadata": {},
   "source": [
    "## Grid совсем маленбкий жестб"
   ]
  },
  {
   "cell_type": "code",
   "execution_count": 13,
   "metadata": {},
   "outputs": [
    {
     "name": "stdout",
     "output_type": "stream",
     "text": [
      "EE_tradeoff = 0.045 done. Regret = 69.87816523407503\n",
      "EE_tradeoff = 0.055 done. Regret = 173.8650584237794\n",
      "EE_tradeoff = 0.06 done. Regret = 165.4904655668379\n",
      "EE_tradeoff = 0.065 done. Regret = 48.115513622587045\n",
      "EE_tradeoff = 0.075 done. Regret = 82.21118781700768\n",
      "EE_tradeoff = 0.08 done. Regret = 89.829143452295\n",
      "CPU times: total: 7min 26s\n",
      "Wall time: 7min 26s\n"
     ]
    }
   ],
   "source": [
    "%%time\n",
    "\n",
    "for p in [0.045, 0.055, 0.060, 0.065, 0.075, 0.08]:\n",
    "    np.random.seed(seed=seed)\n",
    "    output = simulation(UpperConfidenceBound(ee_tradeoff=p), n=50000, seed=seed, verbose=False)\n",
    "    result.append((\n",
    "        p,\n",
    "        output['regret'],\n",
    "        output['regret'] / output['rounds'],\n",
    "        output['total_banners']\n",
    "    ))\n",
    "    print(f\"EE_tradeoff = {p} done. Regret = {output['regret']}\")"
   ]
  },
  {
   "cell_type": "markdown",
   "metadata": {},
   "source": [
    "# Результаты"
   ]
  },
  {
   "cell_type": "code",
   "execution_count": 16,
   "metadata": {},
   "outputs": [
    {
     "data": {
      "text/html": [
       "<div>\n",
       "<style scoped>\n",
       "    .dataframe tbody tr th:only-of-type {\n",
       "        vertical-align: middle;\n",
       "    }\n",
       "\n",
       "    .dataframe tbody tr th {\n",
       "        vertical-align: top;\n",
       "    }\n",
       "\n",
       "    .dataframe thead th {\n",
       "        text-align: right;\n",
       "    }\n",
       "</style>\n",
       "<table border=\"1\" class=\"dataframe\">\n",
       "  <thead>\n",
       "    <tr style=\"text-align: right;\">\n",
       "      <th></th>\n",
       "      <th>p</th>\n",
       "      <th>regret</th>\n",
       "      <th>regret_m</th>\n",
       "      <th>tb</th>\n",
       "    </tr>\n",
       "  </thead>\n",
       "  <tbody>\n",
       "    <tr>\n",
       "      <th>1</th>\n",
       "      <td>0.050</td>\n",
       "      <td>35.716164</td>\n",
       "      <td>0.000714</td>\n",
       "      <td>52</td>\n",
       "    </tr>\n",
       "    <tr>\n",
       "      <th>14</th>\n",
       "      <td>0.065</td>\n",
       "      <td>48.115514</td>\n",
       "      <td>0.000962</td>\n",
       "      <td>52</td>\n",
       "    </tr>\n",
       "    <tr>\n",
       "      <th>11</th>\n",
       "      <td>0.045</td>\n",
       "      <td>69.878165</td>\n",
       "      <td>0.001398</td>\n",
       "      <td>52</td>\n",
       "    </tr>\n",
       "    <tr>\n",
       "      <th>7</th>\n",
       "      <td>0.070</td>\n",
       "      <td>76.695532</td>\n",
       "      <td>0.001534</td>\n",
       "      <td>52</td>\n",
       "    </tr>\n",
       "    <tr>\n",
       "      <th>8</th>\n",
       "      <td>0.110</td>\n",
       "      <td>80.026931</td>\n",
       "      <td>0.001601</td>\n",
       "      <td>52</td>\n",
       "    </tr>\n",
       "    <tr>\n",
       "      <th>15</th>\n",
       "      <td>0.075</td>\n",
       "      <td>82.211188</td>\n",
       "      <td>0.001644</td>\n",
       "      <td>52</td>\n",
       "    </tr>\n",
       "    <tr>\n",
       "      <th>16</th>\n",
       "      <td>0.080</td>\n",
       "      <td>89.829143</td>\n",
       "      <td>0.001797</td>\n",
       "      <td>52</td>\n",
       "    </tr>\n",
       "  </tbody>\n",
       "</table>\n",
       "</div>"
      ],
      "text/plain": [
       "        p     regret  regret_m  tb\n",
       "1   0.050  35.716164  0.000714  52\n",
       "14  0.065  48.115514  0.000962  52\n",
       "11  0.045  69.878165  0.001398  52\n",
       "7   0.070  76.695532  0.001534  52\n",
       "8   0.110  80.026931  0.001601  52\n",
       "15  0.075  82.211188  0.001644  52\n",
       "16  0.080  89.829143  0.001797  52"
      ]
     },
     "execution_count": 16,
     "metadata": {},
     "output_type": "execute_result"
    }
   ],
   "source": [
    "result_df = pd.DataFrame(data=result, columns=[\"p\", \"regret\", \"regret_m\", \"tb\"]).sort_values(\"regret\")\n",
    "result_df.to_csv(\"gs_results.csv\")\n",
    "result_df.head(7)"
   ]
  },
  {
   "cell_type": "code",
   "execution_count": 17,
   "metadata": {},
   "outputs": [
    {
     "name": "stdout",
     "output_type": "stream",
     "text": [
      "265.116843147788 0.00132558421573894 184\n"
     ]
    }
   ],
   "source": [
    "best_p = 0.05\n",
    "\n",
    "output_best = simulation(UpperConfidenceBound(ee_tradeoff=best_p), n=200000, seed=seed, verbose=False)\n",
    "print(output_best['regret'], output_best['regret']/output_best['rounds'],  output_best['total_banners'])"
   ]
  },
  {
   "cell_type": "markdown",
   "metadata": {},
   "source": [
    "Итого у UpperConfidenceBound при параметре ee_tradeoff = 0.05   \n",
    "regret = 265"
   ]
  },
  {
   "cell_type": "code",
   "execution_count": null,
   "metadata": {},
   "outputs": [],
   "source": []
  }
 ],
 "metadata": {
  "kernelspec": {
   "display_name": "Python 3 (ipykernel)",
   "language": "python",
   "name": "python3"
  },
  "language_info": {
   "codemirror_mode": {
    "name": "ipython",
    "version": 3
   },
   "file_extension": ".py",
   "mimetype": "text/x-python",
   "name": "python",
   "nbconvert_exporter": "python",
   "pygments_lexer": "ipython3",
   "version": "3.9.13"
  }
 },
 "nbformat": 4,
 "nbformat_minor": 4
}
