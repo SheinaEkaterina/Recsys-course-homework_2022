{
 "cells": [
  {
   "cell_type": "markdown",
   "source": [
    "# Multi-armed bandit\n"
   ],
   "metadata": {
    "collapsed": false
   }
  },
  {
   "cell_type": "code",
   "execution_count": 1,
   "outputs": [],
   "source": [
    "import numpy as np\n",
    "import pandas as pd\n",
    "import time\n",
    "from functools import partial\n",
    "\n",
    "from scipy.stats import randint, uniform\n",
    "from sim_lib import simulation\n",
    "\n",
    "pd.options.mode.chained_assignment = None"
   ],
   "metadata": {
    "collapsed": false
   }
  },
  {
   "cell_type": "markdown",
   "source": [
    "## Baseline: e-greedy\n",
    "\n",
    "сначала прогоним код бейзлайна, который нам был дан, чтобы было с чем сравнивать"
   ],
   "metadata": {
    "collapsed": false
   }
  },
  {
   "cell_type": "code",
   "execution_count": 2,
   "metadata": {},
   "outputs": [],
   "source": [
    "def eps_greedy(history: pd.DataFrame, eps: float):\n",
    "    if uniform.rvs() < eps:\n",
    "        n = history.shape[0]\n",
    "        return history.index[randint.rvs(0, n)]\n",
    "\n",
    "    ctr = history['clicks'] / (history['impressions'] + 10)\n",
    "    n = np.argmax(ctr)\n",
    "    return history.index[n]\n",
    "\n",
    "policy = partial(eps_greedy, eps=0.06)"
   ]
  },
  {
   "cell_type": "code",
   "execution_count": 3,
   "metadata": {},
   "outputs": [
    {
     "name": "stdout",
     "output_type": "stream",
     "text": [
      "1 impressions have been simulated\n",
      "10001 impressions have been simulated\n",
      "20001 impressions have been simulated\n",
      "30001 impressions have been simulated\n",
      "40001 impressions have been simulated\n",
      "50001 impressions have been simulated\n",
      "60001 impressions have been simulated\n",
      "70001 impressions have been simulated\n",
      "80001 impressions have been simulated\n",
      "90001 impressions have been simulated\n",
      "100001 impressions have been simulated\n",
      "110001 impressions have been simulated\n",
      "120001 impressions have been simulated\n",
      "130001 impressions have been simulated\n",
      "140001 impressions have been simulated\n",
      "150001 impressions have been simulated\n",
      "160001 impressions have been simulated\n",
      "170001 impressions have been simulated\n",
      "180001 impressions have been simulated\n",
      "190001 impressions have been simulated\n",
      "218.08477687835693\n"
     ]
    }
   ],
   "source": [
    "# seed for homework\n",
    "seed = 18475\n",
    "np.random.seed(seed=seed)\n",
    "\n",
    "start = time.time()\n",
    "output = simulation(policy, n=200000, seed=seed)\n",
    "end = time.time()\n",
    "print(end - start)"
   ]
  },
  {
   "cell_type": "code",
   "execution_count": 4,
   "metadata": {},
   "outputs": [
    {
     "data": {
      "text/plain": "(1540.7609683932544, 0.007703804841966272, 184)"
     },
     "execution_count": 4,
     "metadata": {},
     "output_type": "execute_result"
    }
   ],
   "source": [
    "# baseline regret\n",
    "output['regret'], output['regret']/output['rounds'],  output['total_banners']"
   ]
  },
  {
   "cell_type": "code",
   "execution_count": 5,
   "metadata": {},
   "outputs": [
    {
     "data": {
      "text/plain": "     impressions  clicks      lifetime         p\n153      18970.0  4199.0  18003.025431  0.220134\n162        228.0    26.0   1537.166719  0.113780\n172        163.0    32.0  19648.592394  0.219968\n173        170.0    18.0  12771.474990  0.122694\n180         26.0     3.0   4655.819793  0.020061\n182          6.0     0.0    889.624649  0.004621\n183          1.0     0.0  15187.163761  0.073886",
      "text/html": "<div>\n<style scoped>\n    .dataframe tbody tr th:only-of-type {\n        vertical-align: middle;\n    }\n\n    .dataframe tbody tr th {\n        vertical-align: top;\n    }\n\n    .dataframe thead th {\n        text-align: right;\n    }\n</style>\n<table border=\"1\" class=\"dataframe\">\n  <thead>\n    <tr style=\"text-align: right;\">\n      <th></th>\n      <th>impressions</th>\n      <th>clicks</th>\n      <th>lifetime</th>\n      <th>p</th>\n    </tr>\n  </thead>\n  <tbody>\n    <tr>\n      <th>153</th>\n      <td>18970.0</td>\n      <td>4199.0</td>\n      <td>18003.025431</td>\n      <td>0.220134</td>\n    </tr>\n    <tr>\n      <th>162</th>\n      <td>228.0</td>\n      <td>26.0</td>\n      <td>1537.166719</td>\n      <td>0.113780</td>\n    </tr>\n    <tr>\n      <th>172</th>\n      <td>163.0</td>\n      <td>32.0</td>\n      <td>19648.592394</td>\n      <td>0.219968</td>\n    </tr>\n    <tr>\n      <th>173</th>\n      <td>170.0</td>\n      <td>18.0</td>\n      <td>12771.474990</td>\n      <td>0.122694</td>\n    </tr>\n    <tr>\n      <th>180</th>\n      <td>26.0</td>\n      <td>3.0</td>\n      <td>4655.819793</td>\n      <td>0.020061</td>\n    </tr>\n    <tr>\n      <th>182</th>\n      <td>6.0</td>\n      <td>0.0</td>\n      <td>889.624649</td>\n      <td>0.004621</td>\n    </tr>\n    <tr>\n      <th>183</th>\n      <td>1.0</td>\n      <td>0.0</td>\n      <td>15187.163761</td>\n      <td>0.073886</td>\n    </tr>\n  </tbody>\n</table>\n</div>"
     },
     "execution_count": 5,
     "metadata": {},
     "output_type": "execute_result"
    }
   ],
   "source": [
    "output['history']"
   ]
  },
  {
   "cell_type": "markdown",
   "source": [
    "## Upper-confidence bound (UCB)\n",
    "\n",
    "теперь напишем алгоритм UCB, по дефолту множитель перед exploration частью будет равен 1, попробуем его потюнить"
   ],
   "metadata": {
    "collapsed": false
   }
  },
  {
   "cell_type": "code",
   "execution_count": 6,
   "outputs": [],
   "source": [
    "from math import log\n",
    "\n",
    "def UCB(history: pd.DataFrame, explor_coef: float = 1.0):\n",
    "    # t - сколько всего раз дергали за все ручки (показывали какой-либо баннер)\n",
    "    t = history['impressions'].sum()\n",
    "    # Берем верхнюю квантиль у каждой ручки\n",
    "    ub = history['clicks'] / (history['impressions'] + 1) + explor_coef * np.sqrt(2 * log(t + 1) / (history['impressions'] + 1))\n",
    "    # Выбираем ручку с максимальной квантилью\n",
    "    n = np.argmax(ub)\n",
    "    return history.index[n]"
   ],
   "metadata": {
    "collapsed": false
   }
  },
  {
   "cell_type": "markdown",
   "source": [
    "попробуем разные значения множителя перед exploration частью, затем выберем лучший результат на данной симуляции"
   ],
   "metadata": {
    "collapsed": false
   }
  },
  {
   "cell_type": "code",
   "execution_count": 7,
   "outputs": [
    {
     "name": "stdout",
     "output_type": "stream",
     "text": [
      "1 impressions have been simulated\n",
      "10001 impressions have been simulated\n",
      "20001 impressions have been simulated\n",
      "30001 impressions have been simulated\n",
      "40001 impressions have been simulated\n",
      "50001 impressions have been simulated\n",
      "60001 impressions have been simulated\n",
      "70001 impressions have been simulated\n",
      "80001 impressions have been simulated\n",
      "90001 impressions have been simulated\n",
      "100001 impressions have been simulated\n",
      "110001 impressions have been simulated\n",
      "120001 impressions have been simulated\n",
      "130001 impressions have been simulated\n",
      "140001 impressions have been simulated\n",
      "150001 impressions have been simulated\n",
      "160001 impressions have been simulated\n",
      "170001 impressions have been simulated\n",
      "180001 impressions have been simulated\n",
      "190001 impressions have been simulated\n",
      "1 impressions have been simulated\n",
      "10001 impressions have been simulated\n",
      "20001 impressions have been simulated\n",
      "30001 impressions have been simulated\n",
      "40001 impressions have been simulated\n",
      "50001 impressions have been simulated\n",
      "60001 impressions have been simulated\n",
      "70001 impressions have been simulated\n",
      "80001 impressions have been simulated\n",
      "90001 impressions have been simulated\n",
      "100001 impressions have been simulated\n",
      "110001 impressions have been simulated\n",
      "120001 impressions have been simulated\n",
      "130001 impressions have been simulated\n",
      "140001 impressions have been simulated\n",
      "150001 impressions have been simulated\n",
      "160001 impressions have been simulated\n",
      "170001 impressions have been simulated\n",
      "180001 impressions have been simulated\n",
      "190001 impressions have been simulated\n",
      "1 impressions have been simulated\n",
      "10001 impressions have been simulated\n",
      "20001 impressions have been simulated\n",
      "30001 impressions have been simulated\n",
      "40001 impressions have been simulated\n",
      "50001 impressions have been simulated\n",
      "60001 impressions have been simulated\n",
      "70001 impressions have been simulated\n",
      "80001 impressions have been simulated\n",
      "90001 impressions have been simulated\n",
      "100001 impressions have been simulated\n",
      "110001 impressions have been simulated\n",
      "120001 impressions have been simulated\n",
      "130001 impressions have been simulated\n",
      "140001 impressions have been simulated\n",
      "150001 impressions have been simulated\n",
      "160001 impressions have been simulated\n",
      "170001 impressions have been simulated\n",
      "180001 impressions have been simulated\n",
      "190001 impressions have been simulated\n",
      "1 impressions have been simulated\n",
      "10001 impressions have been simulated\n",
      "20001 impressions have been simulated\n",
      "30001 impressions have been simulated\n",
      "40001 impressions have been simulated\n",
      "50001 impressions have been simulated\n",
      "60001 impressions have been simulated\n",
      "70001 impressions have been simulated\n",
      "80001 impressions have been simulated\n",
      "90001 impressions have been simulated\n",
      "100001 impressions have been simulated\n",
      "110001 impressions have been simulated\n",
      "120001 impressions have been simulated\n",
      "130001 impressions have been simulated\n",
      "140001 impressions have been simulated\n",
      "150001 impressions have been simulated\n",
      "160001 impressions have been simulated\n",
      "170001 impressions have been simulated\n",
      "180001 impressions have been simulated\n",
      "190001 impressions have been simulated\n",
      "1 impressions have been simulated\n",
      "10001 impressions have been simulated\n",
      "20001 impressions have been simulated\n",
      "30001 impressions have been simulated\n",
      "40001 impressions have been simulated\n",
      "50001 impressions have been simulated\n",
      "60001 impressions have been simulated\n",
      "70001 impressions have been simulated\n",
      "80001 impressions have been simulated\n",
      "90001 impressions have been simulated\n",
      "100001 impressions have been simulated\n",
      "110001 impressions have been simulated\n",
      "120001 impressions have been simulated\n",
      "130001 impressions have been simulated\n",
      "140001 impressions have been simulated\n",
      "150001 impressions have been simulated\n",
      "160001 impressions have been simulated\n",
      "170001 impressions have been simulated\n",
      "180001 impressions have been simulated\n",
      "190001 impressions have been simulated\n",
      "1 impressions have been simulated\n",
      "10001 impressions have been simulated\n",
      "20001 impressions have been simulated\n",
      "30001 impressions have been simulated\n",
      "40001 impressions have been simulated\n",
      "50001 impressions have been simulated\n",
      "60001 impressions have been simulated\n",
      "70001 impressions have been simulated\n",
      "80001 impressions have been simulated\n",
      "90001 impressions have been simulated\n",
      "100001 impressions have been simulated\n",
      "110001 impressions have been simulated\n",
      "120001 impressions have been simulated\n",
      "130001 impressions have been simulated\n",
      "140001 impressions have been simulated\n",
      "150001 impressions have been simulated\n",
      "160001 impressions have been simulated\n",
      "170001 impressions have been simulated\n",
      "180001 impressions have been simulated\n",
      "190001 impressions have been simulated\n"
     ]
    }
   ],
   "source": [
    "explore_coeffs = [0.001, 0.01, 0.1, 1, 10, 100]\n",
    "results = []\n",
    "\n",
    "for coef in explore_coeffs:\n",
    "    policy = partial(UCB, explor_coef = coef)\n",
    "    seed = 18475\n",
    "    np.random.seed(seed=seed)\n",
    "    output = simulation(policy, n=200000, seed=seed)\n",
    "    r, h = output['regret'], output['history']\n",
    "    results.append([coef, r, h])"
   ],
   "metadata": {
    "collapsed": false
   }
  },
  {
   "cell_type": "code",
   "execution_count": 8,
   "outputs": [
    {
     "data": {
      "text/plain": "      coef        regret\n0    0.001   7570.250349\n1    0.010   8430.422548\n2    0.100    211.362165\n3    1.000  10457.518552\n4   10.000  27948.355557\n5  100.000  29215.148043",
      "text/html": "<div>\n<style scoped>\n    .dataframe tbody tr th:only-of-type {\n        vertical-align: middle;\n    }\n\n    .dataframe tbody tr th {\n        vertical-align: top;\n    }\n\n    .dataframe thead th {\n        text-align: right;\n    }\n</style>\n<table border=\"1\" class=\"dataframe\">\n  <thead>\n    <tr style=\"text-align: right;\">\n      <th></th>\n      <th>coef</th>\n      <th>regret</th>\n    </tr>\n  </thead>\n  <tbody>\n    <tr>\n      <th>0</th>\n      <td>0.001</td>\n      <td>7570.250349</td>\n    </tr>\n    <tr>\n      <th>1</th>\n      <td>0.010</td>\n      <td>8430.422548</td>\n    </tr>\n    <tr>\n      <th>2</th>\n      <td>0.100</td>\n      <td>211.362165</td>\n    </tr>\n    <tr>\n      <th>3</th>\n      <td>1.000</td>\n      <td>10457.518552</td>\n    </tr>\n    <tr>\n      <th>4</th>\n      <td>10.000</td>\n      <td>27948.355557</td>\n    </tr>\n    <tr>\n      <th>5</th>\n      <td>100.000</td>\n      <td>29215.148043</td>\n    </tr>\n  </tbody>\n</table>\n</div>"
     },
     "execution_count": 8,
     "metadata": {},
     "output_type": "execute_result"
    }
   ],
   "source": [
    "res_df = pd.DataFrame([x[:2] for x in results], columns=['coef', 'regret'])\n",
    "res_df"
   ],
   "metadata": {
    "collapsed": false
   }
  },
  {
   "cell_type": "code",
   "execution_count": 9,
   "outputs": [
    {
     "data": {
      "text/plain": "     impressions  clicks      lifetime         p\n153          4.0     0.0  18003.025431  0.220134\n162          4.0     0.0   1537.166719  0.113780\n172      21177.0  4621.0  19648.592394  0.219968\n173          4.0     0.0  12771.474990  0.122694\n180          4.0     0.0   4655.819793  0.020061\n182          4.0     0.0    889.624649  0.004621\n183          4.0     0.0  15187.163761  0.073886",
      "text/html": "<div>\n<style scoped>\n    .dataframe tbody tr th:only-of-type {\n        vertical-align: middle;\n    }\n\n    .dataframe tbody tr th {\n        vertical-align: top;\n    }\n\n    .dataframe thead th {\n        text-align: right;\n    }\n</style>\n<table border=\"1\" class=\"dataframe\">\n  <thead>\n    <tr style=\"text-align: right;\">\n      <th></th>\n      <th>impressions</th>\n      <th>clicks</th>\n      <th>lifetime</th>\n      <th>p</th>\n    </tr>\n  </thead>\n  <tbody>\n    <tr>\n      <th>153</th>\n      <td>4.0</td>\n      <td>0.0</td>\n      <td>18003.025431</td>\n      <td>0.220134</td>\n    </tr>\n    <tr>\n      <th>162</th>\n      <td>4.0</td>\n      <td>0.0</td>\n      <td>1537.166719</td>\n      <td>0.113780</td>\n    </tr>\n    <tr>\n      <th>172</th>\n      <td>21177.0</td>\n      <td>4621.0</td>\n      <td>19648.592394</td>\n      <td>0.219968</td>\n    </tr>\n    <tr>\n      <th>173</th>\n      <td>4.0</td>\n      <td>0.0</td>\n      <td>12771.474990</td>\n      <td>0.122694</td>\n    </tr>\n    <tr>\n      <th>180</th>\n      <td>4.0</td>\n      <td>0.0</td>\n      <td>4655.819793</td>\n      <td>0.020061</td>\n    </tr>\n    <tr>\n      <th>182</th>\n      <td>4.0</td>\n      <td>0.0</td>\n      <td>889.624649</td>\n      <td>0.004621</td>\n    </tr>\n    <tr>\n      <th>183</th>\n      <td>4.0</td>\n      <td>0.0</td>\n      <td>15187.163761</td>\n      <td>0.073886</td>\n    </tr>\n  </tbody>\n</table>\n</div>"
     },
     "execution_count": 9,
     "metadata": {},
     "output_type": "execute_result"
    }
   ],
   "source": [
    "# output['history'] для лучшего результата\n",
    "results[np.argmin(res_df['regret'])][2]"
   ],
   "metadata": {
    "collapsed": false
   }
  },
  {
   "cell_type": "markdown",
   "source": [
    "Из всех коэффициентов при множителе exploration лучшим оказался 0.1 с результатом regret=211."
   ],
   "metadata": {
    "collapsed": false
   }
  },
  {
   "cell_type": "markdown",
   "source": [
    "## Thompson sampling Бернулли бандит\n",
    "\n",
    "теперь попробуем третий вариант алгоритма, рассмотренного на лекции."
   ],
   "metadata": {
    "collapsed": false
   }
  },
  {
   "cell_type": "code",
   "execution_count": 10,
   "outputs": [],
   "source": [
    "def TS(history: pd.DataFrame):\n",
    "    # считаем альфы для каждой ручки - кол-во успехов + 1 (у нас - клики + 1)\n",
    "    alphas = history['clicks'] + 1\n",
    "    # считаем беты для каждой ручки - кол-во неуспехов (у нас - показы-клики+1)\n",
    "    betas = history['impressions'] - history['clicks'] + 1\n",
    "    # для каждой ручки сэмплируем вероятность успеха из бета-распределения\n",
    "    probs = np.random.beta(alphas, betas, size=len(history))\n",
    "    # берем ручку с максимальной сэмплированной вероятностью\n",
    "    n = np.argmax(probs)\n",
    "    return history.index[n]"
   ],
   "metadata": {
    "collapsed": false
   }
  },
  {
   "cell_type": "markdown",
   "source": [
    "запустим его на нашей симуляции"
   ],
   "metadata": {
    "collapsed": false
   }
  },
  {
   "cell_type": "code",
   "execution_count": 11,
   "outputs": [
    {
     "name": "stdout",
     "output_type": "stream",
     "text": [
      "1 impressions have been simulated\n",
      "10001 impressions have been simulated\n",
      "20001 impressions have been simulated\n",
      "30001 impressions have been simulated\n",
      "40001 impressions have been simulated\n",
      "50001 impressions have been simulated\n",
      "60001 impressions have been simulated\n",
      "70001 impressions have been simulated\n",
      "80001 impressions have been simulated\n",
      "90001 impressions have been simulated\n",
      "100001 impressions have been simulated\n",
      "110001 impressions have been simulated\n",
      "120001 impressions have been simulated\n",
      "130001 impressions have been simulated\n",
      "140001 impressions have been simulated\n",
      "150001 impressions have been simulated\n",
      "160001 impressions have been simulated\n",
      "170001 impressions have been simulated\n",
      "180001 impressions have been simulated\n",
      "190001 impressions have been simulated\n"
     ]
    }
   ],
   "source": [
    "# seed for homework\n",
    "seed = 18475\n",
    "np.random.seed(seed=seed)\n",
    "\n",
    "output = simulation(TS, n=200000, seed=seed)"
   ],
   "metadata": {
    "collapsed": false
   }
  },
  {
   "cell_type": "code",
   "execution_count": 12,
   "outputs": [
    {
     "data": {
      "text/plain": "(1223.6103636831504, 0.006118051818415752, 184)"
     },
     "execution_count": 12,
     "metadata": {},
     "output_type": "execute_result"
    }
   ],
   "source": [
    "# TS regret\n",
    "output['regret'], output['regret']/output['rounds'],  output['total_banners']"
   ],
   "metadata": {
    "collapsed": false
   }
  },
  {
   "cell_type": "code",
   "execution_count": 13,
   "outputs": [
    {
     "data": {
      "text/plain": "     impressions  clicks      lifetime         p\n153      24135.0  5317.0  18003.025431  0.220134\n162        113.0    12.0   1537.166719  0.113780\n172       3521.0   734.0  19648.592394  0.219968\n173        150.0    17.0  12771.474990  0.122694\n180         31.0     1.0   4655.819793  0.020061\n182         19.0     0.0    889.624649  0.004621\n183         26.0     1.0  15187.163761  0.073886",
      "text/html": "<div>\n<style scoped>\n    .dataframe tbody tr th:only-of-type {\n        vertical-align: middle;\n    }\n\n    .dataframe tbody tr th {\n        vertical-align: top;\n    }\n\n    .dataframe thead th {\n        text-align: right;\n    }\n</style>\n<table border=\"1\" class=\"dataframe\">\n  <thead>\n    <tr style=\"text-align: right;\">\n      <th></th>\n      <th>impressions</th>\n      <th>clicks</th>\n      <th>lifetime</th>\n      <th>p</th>\n    </tr>\n  </thead>\n  <tbody>\n    <tr>\n      <th>153</th>\n      <td>24135.0</td>\n      <td>5317.0</td>\n      <td>18003.025431</td>\n      <td>0.220134</td>\n    </tr>\n    <tr>\n      <th>162</th>\n      <td>113.0</td>\n      <td>12.0</td>\n      <td>1537.166719</td>\n      <td>0.113780</td>\n    </tr>\n    <tr>\n      <th>172</th>\n      <td>3521.0</td>\n      <td>734.0</td>\n      <td>19648.592394</td>\n      <td>0.219968</td>\n    </tr>\n    <tr>\n      <th>173</th>\n      <td>150.0</td>\n      <td>17.0</td>\n      <td>12771.474990</td>\n      <td>0.122694</td>\n    </tr>\n    <tr>\n      <th>180</th>\n      <td>31.0</td>\n      <td>1.0</td>\n      <td>4655.819793</td>\n      <td>0.020061</td>\n    </tr>\n    <tr>\n      <th>182</th>\n      <td>19.0</td>\n      <td>0.0</td>\n      <td>889.624649</td>\n      <td>0.004621</td>\n    </tr>\n    <tr>\n      <th>183</th>\n      <td>26.0</td>\n      <td>1.0</td>\n      <td>15187.163761</td>\n      <td>0.073886</td>\n    </tr>\n  </tbody>\n</table>\n</div>"
     },
     "execution_count": 13,
     "metadata": {},
     "output_type": "execute_result"
    }
   ],
   "source": [
    "output['history']"
   ],
   "metadata": {
    "collapsed": false
   }
  },
  {
   "cell_type": "markdown",
   "source": [
    "## Выводы\n",
    "\n",
    "Полученные значения regret для всех алгоритмов:\n",
    "\n",
    "+ Baseline (epsilon-greedy): 1541\n",
    "+ UCB (множитель exploration=0.1): 211\n",
    "+ TS: 1224\n",
    "\n",
    "Видно, что UCB с тюнингом множителя у exploration части и TS оказались лучше, чем бейзлайноый epsilon-greedy."
   ],
   "metadata": {
    "collapsed": false
   }
  }
 ],
 "metadata": {
  "kernelspec": {
   "display_name": "Python 3",
   "language": "python",
   "name": "python3"
  },
  "language_info": {
   "codemirror_mode": {
    "name": "ipython",
    "version": 3
   },
   "file_extension": ".py",
   "mimetype": "text/x-python",
   "name": "python",
   "nbconvert_exporter": "python",
   "pygments_lexer": "ipython3",
   "version": "3.7.4"
  }
 },
 "nbformat": 4,
 "nbformat_minor": 4
}
