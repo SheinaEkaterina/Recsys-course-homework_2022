{
  "cells": [
    {
      "cell_type": "code",
      "execution_count": null,
      "metadata": {
        "collapsed": true,
        "id": "tX6_Eyt-vJ8B"
      },
      "outputs": [],
      "source": [
        "import pandas as pd\n",
        "import numpy as np"
      ]
    },
    {
      "cell_type": "code",
      "source": [
        "from google.colab import drive\n",
        "drive.mount('/content/drive')"
      ],
      "metadata": {
        "colab": {
          "base_uri": "https://localhost:8080/"
        },
        "id": "KXVcBPn0vL9a",
        "outputId": "f2684f0c-f9b6-4e17-874f-2c102f4c14b5"
      },
      "execution_count": null,
      "outputs": [
        {
          "output_type": "stream",
          "name": "stdout",
          "text": [
            "Drive already mounted at /content/drive; to attempt to forcibly remount, call drive.mount(\"/content/drive\", force_remount=True).\n"
          ]
        }
      ]
    },
    {
      "cell_type": "code",
      "execution_count": null,
      "outputs": [],
      "source": [
        "data = pd.read_csv('/content/drive/MyDrive/RecSys/data.csv')"
      ],
      "metadata": {
        "id": "CSPgajZ6vJ8J"
      }
    },
    {
      "cell_type": "markdown",
      "source": [
        "### Анализ"
      ],
      "metadata": {
        "collapsed": false,
        "id": "H5WYUkxSvJ8K"
      }
    },
    {
      "cell_type": "markdown",
      "source": [
        "Анализ будет по большей части повторять то, что было сделано в первом ДЗ. \n",
        "\n",
        "Удалим ненужные колонки и сравним banner_id и banner_id0, как от нас просят в задании."
      ],
      "metadata": {
        "collapsed": false,
        "id": "9TgZkCtOvJ8N"
      }
    },
    {
      "cell_type": "code",
      "execution_count": null,
      "outputs": [
        {
          "output_type": "execute_result",
          "data": {
            "text/plain": [
              "                    date_time  zone_id  banner_id  os_id  country_id  \\\n",
              "1  2021-09-26 22:54:49.000000        1          1      0           1   \n",
              "2  2021-09-26 23:57:20.000000        2          2      0           0   \n",
              "3  2021-09-27 00:04:30.000000        3          3      1           1   \n",
              "4  2021-09-27 00:06:21.000000        4          4      1           0   \n",
              "5  2021-09-27 00:06:50.000000        5          5      2           2   \n",
              "\n",
              "   banner_id0        g0  coeff_sum0  banner_id1        g1  coeff_sum1  \\\n",
              "1           1  0.054298   -2.657477         269  0.031942   -4.449220   \n",
              "2           2  0.014096   -3.824875          21  0.014906   -3.939309   \n",
              "3           3  0.015232   -3.461357          99  0.050671   -3.418403   \n",
              "4           4  0.051265   -4.009026    11464230  0.032005   -2.828797   \n",
              "5           5  0.337634   -3.222757          37  0.338195   -3.221755   \n",
              "\n",
              "   impressions  clicks  \n",
              "1            1       1  \n",
              "2            1       1  \n",
              "3            1       1  \n",
              "4            1       1  \n",
              "5            1       1  "
            ],
            "text/html": [
              "\n",
              "  <div id=\"df-b677224f-d726-4e05-bbcb-ad1c3336391e\">\n",
              "    <div class=\"colab-df-container\">\n",
              "      <div>\n",
              "<style scoped>\n",
              "    .dataframe tbody tr th:only-of-type {\n",
              "        vertical-align: middle;\n",
              "    }\n",
              "\n",
              "    .dataframe tbody tr th {\n",
              "        vertical-align: top;\n",
              "    }\n",
              "\n",
              "    .dataframe thead th {\n",
              "        text-align: right;\n",
              "    }\n",
              "</style>\n",
              "<table border=\"1\" class=\"dataframe\">\n",
              "  <thead>\n",
              "    <tr style=\"text-align: right;\">\n",
              "      <th></th>\n",
              "      <th>date_time</th>\n",
              "      <th>zone_id</th>\n",
              "      <th>banner_id</th>\n",
              "      <th>os_id</th>\n",
              "      <th>country_id</th>\n",
              "      <th>banner_id0</th>\n",
              "      <th>g0</th>\n",
              "      <th>coeff_sum0</th>\n",
              "      <th>banner_id1</th>\n",
              "      <th>g1</th>\n",
              "      <th>coeff_sum1</th>\n",
              "      <th>impressions</th>\n",
              "      <th>clicks</th>\n",
              "    </tr>\n",
              "  </thead>\n",
              "  <tbody>\n",
              "    <tr>\n",
              "      <th>1</th>\n",
              "      <td>2021-09-26 22:54:49.000000</td>\n",
              "      <td>1</td>\n",
              "      <td>1</td>\n",
              "      <td>0</td>\n",
              "      <td>1</td>\n",
              "      <td>1</td>\n",
              "      <td>0.054298</td>\n",
              "      <td>-2.657477</td>\n",
              "      <td>269</td>\n",
              "      <td>0.031942</td>\n",
              "      <td>-4.449220</td>\n",
              "      <td>1</td>\n",
              "      <td>1</td>\n",
              "    </tr>\n",
              "    <tr>\n",
              "      <th>2</th>\n",
              "      <td>2021-09-26 23:57:20.000000</td>\n",
              "      <td>2</td>\n",
              "      <td>2</td>\n",
              "      <td>0</td>\n",
              "      <td>0</td>\n",
              "      <td>2</td>\n",
              "      <td>0.014096</td>\n",
              "      <td>-3.824875</td>\n",
              "      <td>21</td>\n",
              "      <td>0.014906</td>\n",
              "      <td>-3.939309</td>\n",
              "      <td>1</td>\n",
              "      <td>1</td>\n",
              "    </tr>\n",
              "    <tr>\n",
              "      <th>3</th>\n",
              "      <td>2021-09-27 00:04:30.000000</td>\n",
              "      <td>3</td>\n",
              "      <td>3</td>\n",
              "      <td>1</td>\n",
              "      <td>1</td>\n",
              "      <td>3</td>\n",
              "      <td>0.015232</td>\n",
              "      <td>-3.461357</td>\n",
              "      <td>99</td>\n",
              "      <td>0.050671</td>\n",
              "      <td>-3.418403</td>\n",
              "      <td>1</td>\n",
              "      <td>1</td>\n",
              "    </tr>\n",
              "    <tr>\n",
              "      <th>4</th>\n",
              "      <td>2021-09-27 00:06:21.000000</td>\n",
              "      <td>4</td>\n",
              "      <td>4</td>\n",
              "      <td>1</td>\n",
              "      <td>0</td>\n",
              "      <td>4</td>\n",
              "      <td>0.051265</td>\n",
              "      <td>-4.009026</td>\n",
              "      <td>11464230</td>\n",
              "      <td>0.032005</td>\n",
              "      <td>-2.828797</td>\n",
              "      <td>1</td>\n",
              "      <td>1</td>\n",
              "    </tr>\n",
              "    <tr>\n",
              "      <th>5</th>\n",
              "      <td>2021-09-27 00:06:50.000000</td>\n",
              "      <td>5</td>\n",
              "      <td>5</td>\n",
              "      <td>2</td>\n",
              "      <td>2</td>\n",
              "      <td>5</td>\n",
              "      <td>0.337634</td>\n",
              "      <td>-3.222757</td>\n",
              "      <td>37</td>\n",
              "      <td>0.338195</td>\n",
              "      <td>-3.221755</td>\n",
              "      <td>1</td>\n",
              "      <td>1</td>\n",
              "    </tr>\n",
              "  </tbody>\n",
              "</table>\n",
              "</div>\n",
              "      <button class=\"colab-df-convert\" onclick=\"convertToInteractive('df-b677224f-d726-4e05-bbcb-ad1c3336391e')\"\n",
              "              title=\"Convert this dataframe to an interactive table.\"\n",
              "              style=\"display:none;\">\n",
              "        \n",
              "  <svg xmlns=\"http://www.w3.org/2000/svg\" height=\"24px\"viewBox=\"0 0 24 24\"\n",
              "       width=\"24px\">\n",
              "    <path d=\"M0 0h24v24H0V0z\" fill=\"none\"/>\n",
              "    <path d=\"M18.56 5.44l.94 2.06.94-2.06 2.06-.94-2.06-.94-.94-2.06-.94 2.06-2.06.94zm-11 1L8.5 8.5l.94-2.06 2.06-.94-2.06-.94L8.5 2.5l-.94 2.06-2.06.94zm10 10l.94 2.06.94-2.06 2.06-.94-2.06-.94-.94-2.06-.94 2.06-2.06.94z\"/><path d=\"M17.41 7.96l-1.37-1.37c-.4-.4-.92-.59-1.43-.59-.52 0-1.04.2-1.43.59L10.3 9.45l-7.72 7.72c-.78.78-.78 2.05 0 2.83L4 21.41c.39.39.9.59 1.41.59.51 0 1.02-.2 1.41-.59l7.78-7.78 2.81-2.81c.8-.78.8-2.07 0-2.86zM5.41 20L4 18.59l7.72-7.72 1.47 1.35L5.41 20z\"/>\n",
              "  </svg>\n",
              "      </button>\n",
              "      \n",
              "  <style>\n",
              "    .colab-df-container {\n",
              "      display:flex;\n",
              "      flex-wrap:wrap;\n",
              "      gap: 12px;\n",
              "    }\n",
              "\n",
              "    .colab-df-convert {\n",
              "      background-color: #E8F0FE;\n",
              "      border: none;\n",
              "      border-radius: 50%;\n",
              "      cursor: pointer;\n",
              "      display: none;\n",
              "      fill: #1967D2;\n",
              "      height: 32px;\n",
              "      padding: 0 0 0 0;\n",
              "      width: 32px;\n",
              "    }\n",
              "\n",
              "    .colab-df-convert:hover {\n",
              "      background-color: #E2EBFA;\n",
              "      box-shadow: 0px 1px 2px rgba(60, 64, 67, 0.3), 0px 1px 3px 1px rgba(60, 64, 67, 0.15);\n",
              "      fill: #174EA6;\n",
              "    }\n",
              "\n",
              "    [theme=dark] .colab-df-convert {\n",
              "      background-color: #3B4455;\n",
              "      fill: #D2E3FC;\n",
              "    }\n",
              "\n",
              "    [theme=dark] .colab-df-convert:hover {\n",
              "      background-color: #434B5C;\n",
              "      box-shadow: 0px 1px 3px 1px rgba(0, 0, 0, 0.15);\n",
              "      filter: drop-shadow(0px 1px 2px rgba(0, 0, 0, 0.3));\n",
              "      fill: #FFFFFF;\n",
              "    }\n",
              "  </style>\n",
              "\n",
              "      <script>\n",
              "        const buttonEl =\n",
              "          document.querySelector('#df-b677224f-d726-4e05-bbcb-ad1c3336391e button.colab-df-convert');\n",
              "        buttonEl.style.display =\n",
              "          google.colab.kernel.accessAllowed ? 'block' : 'none';\n",
              "\n",
              "        async function convertToInteractive(key) {\n",
              "          const element = document.querySelector('#df-b677224f-d726-4e05-bbcb-ad1c3336391e');\n",
              "          const dataTable =\n",
              "            await google.colab.kernel.invokeFunction('convertToInteractive',\n",
              "                                                     [key], {});\n",
              "          if (!dataTable) return;\n",
              "\n",
              "          const docLinkHtml = 'Like what you see? Visit the ' +\n",
              "            '<a target=\"_blank\" href=https://colab.research.google.com/notebooks/data_table.ipynb>data table notebook</a>'\n",
              "            + ' to learn more about interactive tables.';\n",
              "          element.innerHTML = '';\n",
              "          dataTable['output_type'] = 'display_data';\n",
              "          await google.colab.output.renderOutput(dataTable, element);\n",
              "          const docLink = document.createElement('div');\n",
              "          docLink.innerHTML = docLinkHtml;\n",
              "          element.appendChild(docLink);\n",
              "        }\n",
              "      </script>\n",
              "    </div>\n",
              "  </div>\n",
              "  "
            ]
          },
          "metadata": {},
          "execution_count": 4
        }
      ],
      "source": [
        "to_drop = [\"campaign_clicks\", \"oaid_hash\", \"rate0\", \"rate1\"]\n",
        "data = data.drop(to_drop, axis=1)\n",
        "data = data[data['banner_id0'] == data['banner_id']]\n",
        "data.head()"
      ],
      "metadata": {
        "colab": {
          "base_uri": "https://localhost:8080/",
          "height": 206
        },
        "id": "qgNgptn0vJ8O",
        "outputId": "e14e20a9-0a3f-4c31-ac0a-a10957a28d61"
      }
    },
    {
      "cell_type": "markdown",
      "source": [
        "Посмотрим на столбец impressions, пока кажется, что он не несет информации."
      ],
      "metadata": {
        "collapsed": false,
        "id": "S96E6rFxvJ8R"
      }
    },
    {
      "cell_type": "code",
      "execution_count": null,
      "outputs": [
        {
          "output_type": "execute_result",
          "data": {
            "text/plain": [
              "             date_time   zone_id  banner_id     os_id  country_id  banner_id0  \\\n",
              "impressions                                                                     \n",
              "1             13947160  13947160   13947160  13947160    13947160    13947160   \n",
              "\n",
              "                   g0  coeff_sum0  banner_id1        g1  coeff_sum1    clicks  \n",
              "impressions                                                                    \n",
              "1            13947160    13947160    13947160  13927485    13927485  13947160  "
            ],
            "text/html": [
              "\n",
              "  <div id=\"df-b3ab67e3-9fae-4a06-a030-17240be3e0ff\">\n",
              "    <div class=\"colab-df-container\">\n",
              "      <div>\n",
              "<style scoped>\n",
              "    .dataframe tbody tr th:only-of-type {\n",
              "        vertical-align: middle;\n",
              "    }\n",
              "\n",
              "    .dataframe tbody tr th {\n",
              "        vertical-align: top;\n",
              "    }\n",
              "\n",
              "    .dataframe thead th {\n",
              "        text-align: right;\n",
              "    }\n",
              "</style>\n",
              "<table border=\"1\" class=\"dataframe\">\n",
              "  <thead>\n",
              "    <tr style=\"text-align: right;\">\n",
              "      <th></th>\n",
              "      <th>date_time</th>\n",
              "      <th>zone_id</th>\n",
              "      <th>banner_id</th>\n",
              "      <th>os_id</th>\n",
              "      <th>country_id</th>\n",
              "      <th>banner_id0</th>\n",
              "      <th>g0</th>\n",
              "      <th>coeff_sum0</th>\n",
              "      <th>banner_id1</th>\n",
              "      <th>g1</th>\n",
              "      <th>coeff_sum1</th>\n",
              "      <th>clicks</th>\n",
              "    </tr>\n",
              "    <tr>\n",
              "      <th>impressions</th>\n",
              "      <th></th>\n",
              "      <th></th>\n",
              "      <th></th>\n",
              "      <th></th>\n",
              "      <th></th>\n",
              "      <th></th>\n",
              "      <th></th>\n",
              "      <th></th>\n",
              "      <th></th>\n",
              "      <th></th>\n",
              "      <th></th>\n",
              "      <th></th>\n",
              "    </tr>\n",
              "  </thead>\n",
              "  <tbody>\n",
              "    <tr>\n",
              "      <th>1</th>\n",
              "      <td>13947160</td>\n",
              "      <td>13947160</td>\n",
              "      <td>13947160</td>\n",
              "      <td>13947160</td>\n",
              "      <td>13947160</td>\n",
              "      <td>13947160</td>\n",
              "      <td>13947160</td>\n",
              "      <td>13947160</td>\n",
              "      <td>13947160</td>\n",
              "      <td>13927485</td>\n",
              "      <td>13927485</td>\n",
              "      <td>13947160</td>\n",
              "    </tr>\n",
              "  </tbody>\n",
              "</table>\n",
              "</div>\n",
              "      <button class=\"colab-df-convert\" onclick=\"convertToInteractive('df-b3ab67e3-9fae-4a06-a030-17240be3e0ff')\"\n",
              "              title=\"Convert this dataframe to an interactive table.\"\n",
              "              style=\"display:none;\">\n",
              "        \n",
              "  <svg xmlns=\"http://www.w3.org/2000/svg\" height=\"24px\"viewBox=\"0 0 24 24\"\n",
              "       width=\"24px\">\n",
              "    <path d=\"M0 0h24v24H0V0z\" fill=\"none\"/>\n",
              "    <path d=\"M18.56 5.44l.94 2.06.94-2.06 2.06-.94-2.06-.94-.94-2.06-.94 2.06-2.06.94zm-11 1L8.5 8.5l.94-2.06 2.06-.94-2.06-.94L8.5 2.5l-.94 2.06-2.06.94zm10 10l.94 2.06.94-2.06 2.06-.94-2.06-.94-.94-2.06-.94 2.06-2.06.94z\"/><path d=\"M17.41 7.96l-1.37-1.37c-.4-.4-.92-.59-1.43-.59-.52 0-1.04.2-1.43.59L10.3 9.45l-7.72 7.72c-.78.78-.78 2.05 0 2.83L4 21.41c.39.39.9.59 1.41.59.51 0 1.02-.2 1.41-.59l7.78-7.78 2.81-2.81c.8-.78.8-2.07 0-2.86zM5.41 20L4 18.59l7.72-7.72 1.47 1.35L5.41 20z\"/>\n",
              "  </svg>\n",
              "      </button>\n",
              "      \n",
              "  <style>\n",
              "    .colab-df-container {\n",
              "      display:flex;\n",
              "      flex-wrap:wrap;\n",
              "      gap: 12px;\n",
              "    }\n",
              "\n",
              "    .colab-df-convert {\n",
              "      background-color: #E8F0FE;\n",
              "      border: none;\n",
              "      border-radius: 50%;\n",
              "      cursor: pointer;\n",
              "      display: none;\n",
              "      fill: #1967D2;\n",
              "      height: 32px;\n",
              "      padding: 0 0 0 0;\n",
              "      width: 32px;\n",
              "    }\n",
              "\n",
              "    .colab-df-convert:hover {\n",
              "      background-color: #E2EBFA;\n",
              "      box-shadow: 0px 1px 2px rgba(60, 64, 67, 0.3), 0px 1px 3px 1px rgba(60, 64, 67, 0.15);\n",
              "      fill: #174EA6;\n",
              "    }\n",
              "\n",
              "    [theme=dark] .colab-df-convert {\n",
              "      background-color: #3B4455;\n",
              "      fill: #D2E3FC;\n",
              "    }\n",
              "\n",
              "    [theme=dark] .colab-df-convert:hover {\n",
              "      background-color: #434B5C;\n",
              "      box-shadow: 0px 1px 3px 1px rgba(0, 0, 0, 0.15);\n",
              "      filter: drop-shadow(0px 1px 2px rgba(0, 0, 0, 0.3));\n",
              "      fill: #FFFFFF;\n",
              "    }\n",
              "  </style>\n",
              "\n",
              "      <script>\n",
              "        const buttonEl =\n",
              "          document.querySelector('#df-b3ab67e3-9fae-4a06-a030-17240be3e0ff button.colab-df-convert');\n",
              "        buttonEl.style.display =\n",
              "          google.colab.kernel.accessAllowed ? 'block' : 'none';\n",
              "\n",
              "        async function convertToInteractive(key) {\n",
              "          const element = document.querySelector('#df-b3ab67e3-9fae-4a06-a030-17240be3e0ff');\n",
              "          const dataTable =\n",
              "            await google.colab.kernel.invokeFunction('convertToInteractive',\n",
              "                                                     [key], {});\n",
              "          if (!dataTable) return;\n",
              "\n",
              "          const docLinkHtml = 'Like what you see? Visit the ' +\n",
              "            '<a target=\"_blank\" href=https://colab.research.google.com/notebooks/data_table.ipynb>data table notebook</a>'\n",
              "            + ' to learn more about interactive tables.';\n",
              "          element.innerHTML = '';\n",
              "          dataTable['output_type'] = 'display_data';\n",
              "          await google.colab.output.renderOutput(dataTable, element);\n",
              "          const docLink = document.createElement('div');\n",
              "          docLink.innerHTML = docLinkHtml;\n",
              "          element.appendChild(docLink);\n",
              "        }\n",
              "      </script>\n",
              "    </div>\n",
              "  </div>\n",
              "  "
            ]
          },
          "metadata": {},
          "execution_count": 5
        }
      ],
      "source": [
        "data.groupby(\"impressions\").count()"
      ],
      "metadata": {
        "colab": {
          "base_uri": "https://localhost:8080/",
          "height": 112
        },
        "id": "K4QQDqkDvJ8S",
        "outputId": "aaff8594-f09c-42f4-ba50-903d71ce20b7"
      }
    },
    {
      "cell_type": "code",
      "execution_count": null,
      "outputs": [],
      "source": [
        "data = data.drop(\"impressions\", axis=1)"
      ],
      "metadata": {
        "id": "3KotQ3KFvJ8V"
      }
    },
    {
      "cell_type": "markdown",
      "source": [
        "Проверим, есть ли None:"
      ],
      "metadata": {
        "collapsed": false,
        "id": "R8aE_RxGvJ8W"
      }
    },
    {
      "cell_type": "code",
      "execution_count": null,
      "outputs": [
        {
          "output_type": "execute_result",
          "data": {
            "text/plain": [
              "date_time  zone_id  banner_id  os_id  country_id  banner_id0  g0     coeff_sum0  banner_id1  g1     coeff_sum1  clicks\n",
              "False      False    False      False  False       False       False  False       False       False  False       False     13927485\n",
              "                                                                                             True   True        False        19675\n",
              "dtype: int64"
            ]
          },
          "metadata": {},
          "execution_count": 7
        }
      ],
      "source": [
        "data.isnull().value_counts()"
      ],
      "metadata": {
        "colab": {
          "base_uri": "https://localhost:8080/"
        },
        "id": "ded0r6bKvJ8Y",
        "outputId": "1032de88-4319-40a9-e004-4fd439e78a30"
      }
    },
    {
      "cell_type": "markdown",
      "source": [
        "Как видим, в новых колонках есть None, удалим их."
      ],
      "metadata": {
        "collapsed": false,
        "id": "tsNADWCKvJ8a"
      }
    },
    {
      "cell_type": "code",
      "source": [
        "data = data.dropna()\n",
        "data.isnull().value_counts()"
      ],
      "metadata": {
        "colab": {
          "base_uri": "https://localhost:8080/"
        },
        "id": "xur8DytX8k5n",
        "outputId": "6460a796-7d87-4afa-c6d4-505c57cf9d06"
      },
      "execution_count": null,
      "outputs": [
        {
          "output_type": "execute_result",
          "data": {
            "text/plain": [
              "date_time  zone_id  banner_id  os_id  country_id  banner_id0  g0     coeff_sum0  banner_id1  g1     coeff_sum1  clicks\n",
              "False      False    False      False  False       False       False  False       False       False  False       False     13927485\n",
              "dtype: int64"
            ]
          },
          "metadata": {},
          "execution_count": 8
        }
      ]
    },
    {
      "cell_type": "markdown",
      "source": [
        "Посмотрим, соответствует ли g1 и g0 свойствам дисперсии, удалим ненужное."
      ],
      "metadata": {
        "id": "MwUPcEoL9fRR"
      }
    },
    {
      "cell_type": "code",
      "source": [
        "print(f\"g0 < 0: {len(data[data['g0'] < 0])} items, g1 < 0: {len(data[data['g1'] < 0])} items\")\n",
        "data = data[(data['g1'] > 0) & (data['g0'] > 0)]"
      ],
      "metadata": {
        "colab": {
          "base_uri": "https://localhost:8080/"
        },
        "id": "IlSLJw5385wz",
        "outputId": "5f4ee459-33ae-4612-f5fc-86b3dd49d396"
      },
      "execution_count": null,
      "outputs": [
        {
          "output_type": "stream",
          "name": "stdout",
          "text": [
            "g0 < 0: 5 items, g1 < 0: 5 items\n"
          ]
        }
      ]
    },
    {
      "cell_type": "code",
      "execution_count": null,
      "outputs": [
        {
          "output_type": "execute_result",
          "data": {
            "text/plain": [
              "2021-09-26    2638356\n",
              "2021-09-29    2103643\n",
              "2021-09-27    2019851\n",
              "2021-09-28    1947157\n",
              "2021-10-02    1853252\n",
              "2021-09-30    1594244\n",
              "2021-10-01    1413503\n",
              "2021-09-01          1\n",
              "Name: date, dtype: int64"
            ]
          },
          "metadata": {},
          "execution_count": 10
        }
      ],
      "source": [
        "data[\"date_time\"] = pd.to_datetime(data[\"date_time\"])\n",
        "data['date'] = data.date_time.dt.date\n",
        "data.date.value_counts()"
      ],
      "metadata": {
        "colab": {
          "base_uri": "https://localhost:8080/"
        },
        "id": "0iEIgXu6vJ8b",
        "outputId": "16bf4790-4b72-47ed-8e53-752cf8ac5c37"
      }
    },
    {
      "cell_type": "markdown",
      "source": [
        "По одному из дней только одна запись, выбросим его."
      ],
      "metadata": {
        "collapsed": false,
        "id": "0Eotx_r2vJ8c"
      }
    },
    {
      "cell_type": "code",
      "execution_count": null,
      "outputs": [
        {
          "output_type": "stream",
          "name": "stderr",
          "text": [
            "<ipython-input-11-17fc0e0f6986>:2: FutureWarning: Index.asi8 is deprecated and will be removed in a future version\n",
            "  data = data.drop(data[data[\"date\"] == datetime.date(2021, 9, 1)].index.asi8)\n"
          ]
        },
        {
          "output_type": "execute_result",
          "data": {
            "text/plain": [
              "2021-09-26    2638356\n",
              "2021-09-29    2103643\n",
              "2021-09-27    2019851\n",
              "2021-09-28    1947157\n",
              "2021-10-02    1853252\n",
              "2021-09-30    1594244\n",
              "2021-10-01    1413503\n",
              "Name: date, dtype: int64"
            ]
          },
          "metadata": {},
          "execution_count": 11
        }
      ],
      "source": [
        "import datetime\n",
        "data = data.drop(data[data[\"date\"] == datetime.date(2021, 9, 1)].index.asi8)\n",
        "data = data.sort_values(by='date')\n",
        "data.date.value_counts()"
      ],
      "metadata": {
        "colab": {
          "base_uri": "https://localhost:8080/"
        },
        "id": "bqMEV6DUvJ8d",
        "outputId": "53a01a31-bf26-4f42-e679-1ad9f9a36a8e"
      }
    },
    {
      "cell_type": "code",
      "source": [
        "data.columns"
      ],
      "metadata": {
        "colab": {
          "base_uri": "https://localhost:8080/"
        },
        "id": "56tCW5KzE89d",
        "outputId": "a97b6ecc-682d-4167-c746-340250b4dffd"
      },
      "execution_count": null,
      "outputs": [
        {
          "output_type": "execute_result",
          "data": {
            "text/plain": [
              "Index(['date_time', 'zone_id', 'banner_id', 'os_id', 'country_id',\n",
              "       'banner_id0', 'g0', 'coeff_sum0', 'banner_id1', 'g1', 'coeff_sum1',\n",
              "       'clicks', 'date'],\n",
              "      dtype='object')"
            ]
          },
          "metadata": {},
          "execution_count": 12
        }
      ]
    },
    {
      "cell_type": "markdown",
      "source": [
        "### Feature engineering"
      ],
      "metadata": {
        "collapsed": false,
        "id": "Ke78rH4RvJ8f"
      }
    },
    {
      "cell_type": "markdown",
      "source": [
        "Применим One hot encoding:"
      ],
      "metadata": {
        "collapsed": false,
        "id": "gbtZqYEgvJ8g"
      }
    },
    {
      "cell_type": "code",
      "execution_count": null,
      "outputs": [],
      "source": [
        "from sklearn.preprocessing import OneHotEncoder\n",
        "from scipy.sparse import hstack\n",
        "\n",
        "def feature_engineering(data: pd.DataFrame):\n",
        "\n",
        "    data = data.drop(['banner_id0'], axis=1)\n",
        "\n",
        "    #делим на train/test для логистической регрессии\n",
        "    train = data[data[\"date\"] < datetime.date(2021, 10, 2)]\n",
        "    test = data[data[\"date\"] == datetime.date(2021, 10, 2)]\n",
        "\n",
        "    x_train = train.drop([\"clicks\", \"date\", \"date_time\", \"banner_id1\", \"g0\", \"g1\", \"coeff_sum0\",  \"coeff_sum1\"], axis=1)\n",
        "    y_train = np.array(train[\"clicks\"])\n",
        "    x_test = test.drop([\"clicks\", \"date\", \"date_time\", \"banner_id1\", \"g0\", \"g1\", \"coeff_sum0\",  \"coeff_sum1\"], axis=1)\n",
        "    y_test = np.array(test[\"clicks\"])\n",
        "\n",
        "    #преобразуем данные\n",
        "    #используем разреженные матрицы, поскольку OHE преимущественно нули\n",
        "    ohe = OneHotEncoder(handle_unknown='ignore', sparse=True)\n",
        "    print(\"X test:\", x_test.columns)\n",
        "    x_train = ohe.fit_transform(x_train)\n",
        "    print(\"OHE train transformed\")\n",
        "    x_test = ohe.transform(x_test)\n",
        "\n",
        "    #для дальнейших вычислений найдем характеристики распределений за последний день\n",
        "    distr_char = test[[\"g0\", \"g1\", \"coeff_sum0\", \"coeff_sum1\"]]\n",
        "\n",
        "    #сформируем тестовые выборки для обучения \n",
        "    test = test.drop([\"clicks\", \"date\", \"date_time\", \"g0\", \"g1\", \"coeff_sum0\",  \"coeff_sum1\"], axis=1)\n",
        "    x_test_pi0 = test.drop([\"banner_id1\"], axis=1)\n",
        "    test[\"banner_id\"] = test[\"banner_id1\"]\n",
        "    x_test_pi1 = test.drop([\"banner_id1\"], axis=1)\n",
        "    print(\"X test pi0:\", x_test_pi0.columns)\n",
        "    print(\"X test pi1:\", x_test_pi1.columns)\n",
        "    x_test_pi0 = ohe.transform(x_test_pi0)\n",
        "    x_test_pi1 = ohe.transform(x_test_pi1) \n",
        "  \n",
        "    return x_train, x_test, y_train, y_test, x_test_pi0, x_test_pi1, distr_char"
      ],
      "metadata": {
        "id": "ASPgsAsOvJ8g"
      }
    },
    {
      "cell_type": "code",
      "execution_count": null,
      "outputs": [
        {
          "output_type": "stream",
          "name": "stdout",
          "text": [
            "X test: Index(['zone_id', 'banner_id', 'os_id', 'country_id'], dtype='object')\n",
            "OHE train transformed\n",
            "X test pi0: Index(['zone_id', 'banner_id', 'os_id', 'country_id'], dtype='object')\n",
            "X test pi1: Index(['zone_id', 'banner_id', 'os_id', 'country_id'], dtype='object')\n"
          ]
        }
      ],
      "source": [
        "x_train, x_test, y_train, y_test, x_test_pi0, x_test_pi1, distr_char = feature_engineering(data)"
      ],
      "metadata": {
        "colab": {
          "base_uri": "https://localhost:8080/"
        },
        "id": "kRhWE3L9vJ8i",
        "outputId": "e461748f-44e8-4772-a644-56728f0fb8ff"
      }
    },
    {
      "cell_type": "code",
      "execution_count": null,
      "outputs": [],
      "source": [
        "from sklearn.linear_model import LogisticRegression"
      ],
      "metadata": {
        "id": "R_9v_PMAvJ8j"
      }
    },
    {
      "cell_type": "markdown",
      "source": [
        "### Модель"
      ],
      "metadata": {
        "id": "Hfh2-U1hL2NE"
      }
    },
    {
      "cell_type": "markdown",
      "source": [
        "Будем использовать линейную регрессию из первого ДЗ."
      ],
      "metadata": {
        "id": "KP1bjNVXYoMS"
      }
    },
    {
      "cell_type": "code",
      "source": [
        "def create_model(penalty='l1', C=1.0):\n",
        "    model = LogisticRegression(penalty=penalty, C=C, solver='liblinear')\n",
        "    return model"
      ],
      "metadata": {
        "id": "Tn9u87yrOevV"
      },
      "execution_count": null,
      "outputs": []
    },
    {
      "cell_type": "code",
      "source": [
        "model = create_model(C=0.01, penalty='l2')\n",
        "model.fit(x_train, y_train)"
      ],
      "metadata": {
        "colab": {
          "base_uri": "https://localhost:8080/"
        },
        "id": "HGcLI10CT369",
        "outputId": "85776b8e-75af-45d9-f6b2-cf766a706226"
      },
      "execution_count": null,
      "outputs": [
        {
          "output_type": "execute_result",
          "data": {
            "text/plain": [
              "LogisticRegression(C=0.01, solver='liblinear')"
            ]
          },
          "metadata": {},
          "execution_count": 27
        }
      ]
    },
    {
      "cell_type": "code",
      "execution_count": null,
      "outputs": [
        {
          "output_type": "stream",
          "name": "stdout",
          "text": [
            "My model: NNL = 0.13428184350706243, ROC AUC = 0.7911949175263264\n",
            "Baseline: NNL = 0.15574130602526282, ROC AUC = 0.5\n"
          ]
        }
      ],
      "source": [
        "from sklearn.metrics import log_loss, roc_auc_score\n",
        "y_model = model.predict_proba(x_test)[:, 1]\n",
        "y_base = np.mean(y_test)*np.ones(y_test.shape)\n",
        "print(f\"My model: NNL = {log_loss(y_test, y_model)}, ROC AUC = {roc_auc_score(y_test, y_model)}\")\n",
        "print(f\"Baseline: NNL = {log_loss(y_test, y_base)}, ROC AUC = {roc_auc_score(y_test, y_base)}\")"
      ],
      "metadata": {
        "id": "fOxTGMHtvJ8o",
        "colab": {
          "base_uri": "https://localhost:8080/"
        },
        "outputId": "d1b138fa-e8b0-4c92-b830-47738bd71abb"
      }
    },
    {
      "cell_type": "markdown",
      "source": [
        "Посчитаем суммы коэффициентов coeff_sum0_new и coeff_sum1_new из предиктов нашей модели."
      ],
      "metadata": {
        "id": "cMw5Bw3bTp5C"
      }
    },
    {
      "cell_type": "code",
      "source": [
        "def logit(x):\n",
        "    return np.log(x) - np.log(1 - x)\n",
        "\n",
        "coeff_sum0_new = logit(model.predict_proba(x_test_pi0)[:, 1])\n",
        "coeff_sum1_new = logit(model.predict_proba(x_test_pi1)[:, 1])\n"
      ],
      "metadata": {
        "id": "RMMvjhu1ZRIS"
      },
      "execution_count": null,
      "outputs": []
    },
    {
      "cell_type": "markdown",
      "source": [
        "Как найти вероятность того, что одна случайная величина больше другой? \n",
        "\n",
        "Пусть $x \\sim N(a_1, σ_1)$, $y \\sim N(a_2, σ_2)$. Тогда\n",
        "$$P(x < y) = P(x -y < 0) = F_\\xi(0), \\ \\xi = x -y $$\n",
        "$$ \\xi \\sim N(a_2-a_1, \\sqrt{σ_1^2 + σ_2^2})$$\n",
        "\n",
        "Используем функцию нормального распределениия:"
      ],
      "metadata": {
        "id": "mlwhffv6dmi_"
      }
    },
    {
      "cell_type": "code",
      "source": [
        "import scipy.stats as st\n",
        "pi_0 = st.norm.cdf((distr_char['coeff_sum1'] - distr_char['coeff_sum0']) / np.sqrt(distr_char['g0'] ** 2 + distr_char['g1'] ** 2 +1e-7))\n",
        "pi_1 = st.norm.cdf((coeff_sum1_new - coeff_sum0_new) / np.sqrt(distr_char['g0'] ** 2 + distr_char['g1'] ** 2 + 1e-7))\n",
        "print(pi_0, pi_1)"
      ],
      "metadata": {
        "colab": {
          "base_uri": "https://localhost:8080/"
        },
        "id": "VrEF1v1gV618",
        "outputId": "35524f82-5287-4277-caf2-1645b3d84a0f"
      },
      "execution_count": null,
      "outputs": [
        {
          "output_type": "stream",
          "name": "stdout",
          "text": [
            "[5.50491921e-01 1.02562859e-01 5.00753936e-01 ... 1.90195822e-09\n",
            " 3.19659705e-01 3.26668334e-01] [4.71296456e-01 3.18811936e-03 5.29390135e-01 ... 2.41008416e-06\n",
            " 3.20334741e-01 6.69870412e-05]\n"
          ]
        }
      ]
    },
    {
      "cell_type": "markdown",
      "source": [
        "Посчитаем CIPS:"
      ],
      "metadata": {
        "id": "I-fIUwr8gZpT"
      }
    },
    {
      "cell_type": "code",
      "source": [
        "cips = np.sum(y_test * np.clip(pi_1/(pi_0+1e-8), 0, 10)) / len(y_test)"
      ],
      "metadata": {
        "id": "UeJVEnJ6YCx4"
      },
      "execution_count": null,
      "outputs": []
    },
    {
      "cell_type": "code",
      "source": [
        "cips"
      ],
      "metadata": {
        "colab": {
          "base_uri": "https://localhost:8080/"
        },
        "id": "Jhl0zMr0YWJ1",
        "outputId": "a6871f19-70a4-4eb5-a109-f7f49f0dac60"
      },
      "execution_count": null,
      "outputs": [
        {
          "output_type": "execute_result",
          "data": {
            "text/plain": [
              "0.09713394822680353"
            ]
          },
          "metadata": {},
          "execution_count": 44
        }
      ]
    },
    {
      "cell_type": "code",
      "source": [],
      "metadata": {
        "id": "b7K-htEzYc4u"
      },
      "execution_count": null,
      "outputs": []
    }
  ],
  "metadata": {
    "kernelspec": {
      "display_name": "Python 3",
      "language": "python",
      "name": "python3"
    },
    "language_info": {
      "codemirror_mode": {
        "name": "ipython",
        "version": 2
      },
      "file_extension": ".py",
      "mimetype": "text/x-python",
      "name": "python",
      "nbconvert_exporter": "python",
      "pygments_lexer": "ipython2",
      "version": "2.7.6"
    },
    "colab": {
      "provenance": []
    },
    "gpuClass": "standard"
  },
  "nbformat": 4,
  "nbformat_minor": 0
}