{
 "cells": [
  {
   "cell_type": "code",
   "execution_count": 2,
   "metadata": {
    "collapsed": true
   },
   "outputs": [],
   "source": [
    "import pandas as pd\n",
    "import numpy as np\n",
    "import matplotlib.pyplot as plt\n",
    "from sklearn.preprocessing import OneHotEncoder\n",
    "from scipy.sparse import hstack"
   ]
  },
  {
   "cell_type": "code",
   "execution_count": 3,
   "outputs": [
    {
     "data": {
      "text/plain": "                    date_time  zone_id  banner_id            oaid_hash  \\\n0  2021-09-27 00:01:30.000000        0          0  5664530014561852622   \n1  2021-09-26 22:54:49.000000        1          1  5186611064559013950   \n2  2021-09-26 23:57:20.000000        2          2  2215519569292448030   \n3  2021-09-27 00:04:30.000000        3          3  6262169206735077204   \n4  2021-09-27 00:06:21.000000        4          4  4778985830203613115   \n\n   campaign_clicks  os_id  country_id  banner_id0  rate0        g0  \\\n0                0      0           0        1240  0.067  0.035016   \n1                0      0           1           1  0.002  0.054298   \n2                3      0           0           2  0.014  0.014096   \n3                0      1           1           3  0.012  0.015232   \n4                0      1           0           4  0.019  0.051265   \n\n   coeff_sum0  banner_id1  rate1        g1  coeff_sum1  impressions  clicks  \n0   -7.268846           0  0.010  0.049516   -5.369901            1       1  \n1   -2.657477         269  0.004  0.031942   -4.449220            1       1  \n2   -3.824875          21  0.014  0.014906   -3.939309            1       1  \n3   -3.461357          99  0.006  0.050671   -3.418403            1       1  \n4   -4.009026    11464230  6.790  0.032005   -2.828797            1       1  ",
      "text/html": "<div>\n<style scoped>\n    .dataframe tbody tr th:only-of-type {\n        vertical-align: middle;\n    }\n\n    .dataframe tbody tr th {\n        vertical-align: top;\n    }\n\n    .dataframe thead th {\n        text-align: right;\n    }\n</style>\n<table border=\"1\" class=\"dataframe\">\n  <thead>\n    <tr style=\"text-align: right;\">\n      <th></th>\n      <th>date_time</th>\n      <th>zone_id</th>\n      <th>banner_id</th>\n      <th>oaid_hash</th>\n      <th>campaign_clicks</th>\n      <th>os_id</th>\n      <th>country_id</th>\n      <th>banner_id0</th>\n      <th>rate0</th>\n      <th>g0</th>\n      <th>coeff_sum0</th>\n      <th>banner_id1</th>\n      <th>rate1</th>\n      <th>g1</th>\n      <th>coeff_sum1</th>\n      <th>impressions</th>\n      <th>clicks</th>\n    </tr>\n  </thead>\n  <tbody>\n    <tr>\n      <th>0</th>\n      <td>2021-09-27 00:01:30.000000</td>\n      <td>0</td>\n      <td>0</td>\n      <td>5664530014561852622</td>\n      <td>0</td>\n      <td>0</td>\n      <td>0</td>\n      <td>1240</td>\n      <td>0.067</td>\n      <td>0.035016</td>\n      <td>-7.268846</td>\n      <td>0</td>\n      <td>0.010</td>\n      <td>0.049516</td>\n      <td>-5.369901</td>\n      <td>1</td>\n      <td>1</td>\n    </tr>\n    <tr>\n      <th>1</th>\n      <td>2021-09-26 22:54:49.000000</td>\n      <td>1</td>\n      <td>1</td>\n      <td>5186611064559013950</td>\n      <td>0</td>\n      <td>0</td>\n      <td>1</td>\n      <td>1</td>\n      <td>0.002</td>\n      <td>0.054298</td>\n      <td>-2.657477</td>\n      <td>269</td>\n      <td>0.004</td>\n      <td>0.031942</td>\n      <td>-4.449220</td>\n      <td>1</td>\n      <td>1</td>\n    </tr>\n    <tr>\n      <th>2</th>\n      <td>2021-09-26 23:57:20.000000</td>\n      <td>2</td>\n      <td>2</td>\n      <td>2215519569292448030</td>\n      <td>3</td>\n      <td>0</td>\n      <td>0</td>\n      <td>2</td>\n      <td>0.014</td>\n      <td>0.014096</td>\n      <td>-3.824875</td>\n      <td>21</td>\n      <td>0.014</td>\n      <td>0.014906</td>\n      <td>-3.939309</td>\n      <td>1</td>\n      <td>1</td>\n    </tr>\n    <tr>\n      <th>3</th>\n      <td>2021-09-27 00:04:30.000000</td>\n      <td>3</td>\n      <td>3</td>\n      <td>6262169206735077204</td>\n      <td>0</td>\n      <td>1</td>\n      <td>1</td>\n      <td>3</td>\n      <td>0.012</td>\n      <td>0.015232</td>\n      <td>-3.461357</td>\n      <td>99</td>\n      <td>0.006</td>\n      <td>0.050671</td>\n      <td>-3.418403</td>\n      <td>1</td>\n      <td>1</td>\n    </tr>\n    <tr>\n      <th>4</th>\n      <td>2021-09-27 00:06:21.000000</td>\n      <td>4</td>\n      <td>4</td>\n      <td>4778985830203613115</td>\n      <td>0</td>\n      <td>1</td>\n      <td>0</td>\n      <td>4</td>\n      <td>0.019</td>\n      <td>0.051265</td>\n      <td>-4.009026</td>\n      <td>11464230</td>\n      <td>6.790</td>\n      <td>0.032005</td>\n      <td>-2.828797</td>\n      <td>1</td>\n      <td>1</td>\n    </tr>\n  </tbody>\n</table>\n</div>"
     },
     "execution_count": 3,
     "metadata": {},
     "output_type": "execute_result"
    }
   ],
   "source": [
    "data = pd.read_csv('data.csv')\n",
    "data.head()"
   ],
   "metadata": {
    "collapsed": false
   }
  },
  {
   "cell_type": "code",
   "execution_count": 4,
   "outputs": [
    {
     "name": "stdout",
     "output_type": "stream",
     "text": [
      "values coeff_sum0: \n",
      "  0.000000    313087\n",
      "-3.862115      3476\n",
      "-3.947828      3468\n",
      "-4.191956      3313\n",
      "-4.191673      3089\n",
      "              ...  \n",
      "-5.324318         1\n",
      "-3.504508         1\n",
      "-3.400683         1\n",
      "-3.170966         1\n",
      "-3.025758         1\n",
      "Name: coeff_sum0, Length: 5262825, dtype: int64\n",
      "min, max:  -8.58897042950208 0.314998119166813\n",
      "values coeff_sum1: \n",
      "  0.000000    357723\n",
      "-4.518763      3356\n",
      "-3.886009      2931\n",
      "-3.778777      2804\n",
      "-3.390108      2768\n",
      "              ...  \n",
      "-4.799067         1\n",
      "-5.950338         1\n",
      "-4.111814         1\n",
      "-4.028938         1\n",
      "-3.063858         1\n",
      "Name: coeff_sum1, Length: 5660517, dtype: int64\n",
      "min, max:  -9.56218775991817 0.475618061292297\n"
     ]
    }
   ],
   "source": [
    "print('values coeff_sum0: \\n', data['coeff_sum0'].value_counts())\n",
    "print('min, max: ', data['coeff_sum0'].min(), data['coeff_sum0'].max())\n",
    "\n",
    "print('values coeff_sum1: \\n', data['coeff_sum1'].value_counts())\n",
    "print('min, max: ', data['coeff_sum1'].min(), data['coeff_sum1'].max())"
   ],
   "metadata": {
    "collapsed": false
   }
  },
  {
   "cell_type": "code",
   "execution_count": 5,
   "outputs": [
    {
     "name": "stdout",
     "output_type": "stream",
     "text": [
      "values g0: \n",
      " 0.000000    313087\n",
      "0.013990        25\n",
      "0.020647        18\n",
      "0.022180        18\n",
      "0.454084        18\n",
      "             ...  \n",
      "0.025541         1\n",
      "0.041918         1\n",
      "0.024818         1\n",
      "0.027239         1\n",
      "0.058530         1\n",
      "Name: g0, Length: 15147522, dtype: int64\n",
      "min, max:  -0.0176373981227117 691.088787242959\n",
      "rate non-zero values:  0.9802065825480714\n",
      "values g1: \n",
      " 0.000000    357723\n",
      "0.052409        25\n",
      "0.014947        18\n",
      "3.313204        18\n",
      "0.047231        18\n",
      "             ...  \n",
      "0.044497         1\n",
      "0.028938         1\n",
      "0.516622         1\n",
      "0.016753         1\n",
      "0.078144         1\n",
      "Name: g1, Length: 15169168, dtype: int64\n",
      "min, max:  -0.0176373981227117 691.088787242959\n",
      "rate non-zero values:  0.9802065825480714\n"
     ]
    }
   ],
   "source": [
    "print('values g0: \\n', data['g0'].value_counts())\n",
    "print('min, max: ', data['g0'].min(), data['g0'].max())\n",
    "print('rate non-zero values: ', (data['g0'] > 0).sum() / len(data['g0']))\n",
    "\n",
    "print('values g1: \\n', data['g1'].value_counts())\n",
    "print('min, max: ', data['g0'].min(), data['g0'].max())\n",
    "print('rate non-zero values: ', (data['g0'] > 0).sum() / len(data['g0']))"
   ],
   "metadata": {
    "collapsed": false
   }
  },
  {
   "cell_type": "code",
   "execution_count": 3,
   "outputs": [
    {
     "name": "stdout",
     "output_type": "stream",
     "text": [
      "Is nan in data:  True\n"
     ]
    }
   ],
   "source": [
    "print('Is nan in data: ', data.isnull().values.any())"
   ],
   "metadata": {
    "collapsed": false
   }
  },
  {
   "cell_type": "markdown",
   "source": [
    "* impressions традиционно выкидываем\n",
    "* в g0, g1 большая часть данных что-то полезное (не ноль), но есть отрицательные значения. Оставим признаки, но отбросим строчки с отрицательным значением (как будто их быть не должно)\n",
    "* date_time тоже брать не будем: по опыту предыдущих домашек этот признак не сильно помогает, но размер датасета увеличивает\n",
    "* удалим строчки с nan"
   ],
   "metadata": {
    "collapsed": false
   }
  },
  {
   "cell_type": "code",
   "execution_count": 4,
   "outputs": [
    {
     "name": "stderr",
     "output_type": "stream",
     "text": [
      "D:\\anaconda3\\lib\\site-packages\\pandas\\core\\ops\\array_ops.py:73: FutureWarning: Comparison of Timestamp with datetime.date is deprecated in order to match the standard library behavior. In a future version these will be considered non-comparable. Use 'ts == pd.Timestamp(date)' or 'ts.date() == date' instead.\n",
      "  result = libops.scalar_compare(x.ravel(), y, op)\n"
     ]
    }
   ],
   "source": [
    "def feature_engineering(data_: pd.DataFrame):\n",
    "    data = data_.copy()\n",
    "\n",
    "    # drop features\n",
    "    data = data.drop([\"impressions\", \"campaign_clicks\"], axis=1)\n",
    "    data = data.dropna()\n",
    "\n",
    "    data['date_time'] = pd.to_datetime(data['date_time'])\n",
    "    data = data[data['banner_id'] == data['banner_id0']]\n",
    "    data = data[data['g0'] >= 0]\n",
    "    data = data[data['g1'] >= 0]\n",
    "\n",
    "    train = data[data['date_time'].dt.date <= pd.to_datetime('2021-10-01')]\n",
    "    test = data[data['date_time'].dt.date == pd.to_datetime('2021-10-02')]\n",
    "\n",
    "    features = [\"g0\", \"g1\", \"rate0\", \"rate1\", \"banner_id0\", \"banner_id1\", \"coeff_sum0\", \"coeff_sum1\", \"os_id\", \"zone_id\", \"banner_id\", \"country_id\", \"oaid_hash\"]\n",
    "\n",
    "    X_train = train[features].drop([\"banner_id0\", \"banner_id1\"], axis=1)\n",
    "\n",
    "    X_test = test[features]\n",
    "    X_test_banner1 = X_test.copy()\n",
    "    X_test_banner1['banner_id'] = X_test_banner1['banner_id1']\n",
    "    X_test_banner1 = X_test_banner1.drop([\"banner_id0\", \"banner_id1\"], axis=1)\n",
    "\n",
    "    X_test_banner0 = X_test.drop([\"banner_id0\", \"banner_id1\"], axis=1)\n",
    "\n",
    "    y_train, y_test = train['clicks'], test['clicks']\n",
    "\n",
    "    enc = OneHotEncoder(handle_unknown='ignore')\n",
    "    cat = [\"os_id\", \"zone_id\", \"banner_id\", \"country_id\", \"oaid_hash\"]\n",
    "    num = [\"g0\", \"g1\", \"rate0\", \"rate1\", \"coeff_sum0\", \"coeff_sum1\"]\n",
    "    enc = enc.fit(data[cat])\n",
    "    X_train = enc.transform(X_train[cat])\n",
    "    X_test_banner1 = enc.transform(X_test_banner1[cat])\n",
    "    X_test_banner0 = enc.transform(X_test_banner0[cat])\n",
    "\n",
    "    return X_train, X_test_banner0, X_test_banner1, X_test[num], y_train, y_test\n",
    "\n",
    "X_train, X_test_banner0, X_test_banner1, X_test_numeric, y_train, y_test = feature_engineering(data)"
   ],
   "metadata": {
    "collapsed": false
   }
  },
  {
   "cell_type": "code",
   "execution_count": 7,
   "outputs": [
    {
     "data": {
      "text/plain": "LogisticRegression(C=1, random_state=42, solver='liblinear')"
     },
     "execution_count": 7,
     "metadata": {},
     "output_type": "execute_result"
    }
   ],
   "source": [
    "from sklearn.linear_model import LogisticRegression\n",
    "\n",
    "model = LogisticRegression(solver='liblinear', random_state=42, C=1)\n",
    "model.fit(X_train, y_train)"
   ],
   "metadata": {
    "collapsed": false
   }
  },
  {
   "cell_type": "code",
   "execution_count": 8,
   "outputs": [
    {
     "name": "stdout",
     "output_type": "stream",
     "text": [
      "Linear model: roc 0.816, loss 0.126\n"
     ]
    }
   ],
   "source": [
    "from sklearn.metrics import log_loss, roc_auc_score\n",
    "\n",
    "baseline = np.full(y_test.shape, np.mean(y_test))\n",
    "results_roc = round(roc_auc_score(y_test, model.predict_proba(X_test_banner0)[:, 1]), 3)\n",
    "results_loss = round(log_loss(y_test, model.predict_proba(X_test_banner0)), 3)\n",
    "print(f'Linear model: roc {results_roc}, loss {results_loss}')"
   ],
   "metadata": {
    "collapsed": false
   }
  },
  {
   "cell_type": "code",
   "execution_count": 9,
   "outputs": [],
   "source": [
    "from scipy.special import logit\n",
    "\n",
    "X_test_numeric['pred_coeff_sum0'] = logit(model.predict_proba(X_test_banner0)[:, 1])\n",
    "X_test_numeric['pred_coeff_sum1'] = logit(model.predict_proba(X_test_banner1)[:, 1])"
   ],
   "metadata": {
    "collapsed": false
   }
  },
  {
   "cell_type": "markdown",
   "source": [
    "Вероятность того, что одна нормальная величина больше другой: $P(X > Y) = P(Y - X < 0) = Ф(\\frac{-\\mu_{Y-X}}{\\sigma_{Y-X}})$\n",
    "\n",
    "Разность двух нормальных величин будет распределена как: $N(\\mu_Y - \\mu_X, \\sigma_X^2 + \\sigma_Y^2)$\n",
    "\n",
    "Поэтому подставляем: $\\mu_{Y-X} = \\mu_Y - \\mu_X$, $\\sigma_{Y-X} = \\sqrt{\\sigma_X^2 + \\sigma_Y^2}$"
   ],
   "metadata": {
    "collapsed": false
   }
  },
  {
   "cell_type": "code",
   "execution_count": 10,
   "outputs": [],
   "source": [
    "from scipy.stats import norm\n",
    "\n",
    "def calc_pi(coeff_sum0, coeff_sum1, g0, g1):\n",
    "    return norm.cdf( (coeff_sum0 - coeff_sum1) / (np.sqrt(g0 ** 2 + g1 ** 2) + 1e-6) )\n",
    "\n",
    "X_test_numeric['pi_0'] = X_test_numeric.apply(lambda x: calc_pi(x.coeff_sum0, x.coeff_sum1, x.g0, x.g1), axis=1)\n",
    "X_test_numeric['pi_1'] = X_test_numeric.apply(lambda x: calc_pi(x.pred_coeff_sum0, x.pred_coeff_sum1, x.g0, x.g1), axis=1)"
   ],
   "metadata": {
    "collapsed": false
   }
  },
  {
   "cell_type": "code",
   "execution_count": 11,
   "outputs": [
    {
     "name": "stdout",
     "output_type": "stream",
     "text": [
      "cips:  0.07543042300848891\n"
     ]
    }
   ],
   "source": [
    "print('cips: ', np.sum(y_test * np.clip(X_test_numeric['pi_1'] / X_test_numeric['pi_0'], a_min=None, a_max=10)) / len(y_test))"
   ],
   "metadata": {
    "collapsed": false
   }
  }
 ],
 "metadata": {
  "kernelspec": {
   "display_name": "Python 3",
   "language": "python",
   "name": "python3"
  },
  "language_info": {
   "codemirror_mode": {
    "name": "ipython",
    "version": 2
   },
   "file_extension": ".py",
   "mimetype": "text/x-python",
   "name": "python",
   "nbconvert_exporter": "python",
   "pygments_lexer": "ipython2",
   "version": "2.7.6"
  }
 },
 "nbformat": 4,
 "nbformat_minor": 0
}
