{
  "cells": [
    {
      "cell_type": "code",
      "execution_count": 1,
      "metadata": {
        "collapsed": true,
        "id": "YoDizH4PhVl5"
      },
      "outputs": [],
      "source": [
        "import numpy as np\n",
        "import pandas as pd\n",
        "from scipy import sparse\n",
        "\n",
        "from sklearn.preprocessing import OneHotEncoder\n",
        "from sklearn.linear_model import LogisticRegression\n",
        "from sklearn.model_selection import cross_validate\n",
        "from sklearn.metrics import log_loss, roc_auc_score\n",
        "\n",
        "import matplotlib.pyplot as plt\n",
        "import os"
      ]
    },
    {
      "cell_type": "code",
      "execution_count": 2,
      "metadata": {
        "colab": {
          "base_uri": "https://localhost:8080/"
        },
        "id": "nuUIAjjXhZs6",
        "outputId": "21dd4a21-5970-470d-8850-3db9d9551cd0"
      },
      "outputs": [
        {
          "output_type": "stream",
          "name": "stdout",
          "text": [
            "Drive already mounted at /content/drive; to attempt to forcibly remount, call drive.mount(\"/content/drive\", force_remount=True).\n"
          ]
        }
      ],
      "source": [
        "from google.colab import drive\n",
        "drive.mount('/content/drive')"
      ]
    },
    {
      "cell_type": "code",
      "execution_count": 3,
      "metadata": {
        "id": "q9U381AuhdeM"
      },
      "outputs": [],
      "source": [
        "PATH = '/content/drive/MyDrive/HSE/RecSys'"
      ]
    },
    {
      "cell_type": "code",
      "execution_count": 4,
      "metadata": {
        "colab": {
          "base_uri": "https://localhost:8080/",
          "height": 364
        },
        "id": "_WyhJh7ehVl-",
        "outputId": "429e215b-78d4-435e-b5f2-4c024c77cbe2",
        "pycharm": {
          "name": "#%%\n"
        }
      },
      "outputs": [
        {
          "output_type": "stream",
          "name": "stdout",
          "text": [
            "CPU times: user 51.9 s, sys: 15.8 s, total: 1min 7s\n",
            "Wall time: 1min 20s\n"
          ]
        },
        {
          "output_type": "execute_result",
          "data": {
            "text/plain": [
              "                    date_time  zone_id  banner_id  campaign_clicks  os_id  \\\n",
              "1  2021-09-26 22:54:49.000000        1          1                0      0   \n",
              "2  2021-09-26 23:57:20.000000        2          2                3      0   \n",
              "3  2021-09-27 00:04:30.000000        3          3                0      1   \n",
              "4  2021-09-27 00:06:21.000000        4          4                0      1   \n",
              "5  2021-09-27 00:06:50.000000        5          5                0      2   \n",
              "\n",
              "   country_id  banner_id0        g0  coeff_sum0  banner_id1        g1  \\\n",
              "1           1           1  0.054298   -2.657477         269  0.031942   \n",
              "2           0           2  0.014096   -3.824875          21  0.014906   \n",
              "3           1           3  0.015232   -3.461357          99  0.050671   \n",
              "4           0           4  0.051265   -4.009026    11464230  0.032005   \n",
              "5           2           5  0.337634   -3.222757          37  0.338195   \n",
              "\n",
              "   coeff_sum1  impressions  clicks  \n",
              "1   -4.449220            1       1  \n",
              "2   -3.939309            1       1  \n",
              "3   -3.418403            1       1  \n",
              "4   -2.828797            1       1  \n",
              "5   -3.221755            1       1  "
            ],
            "text/html": [
              "\n",
              "  <div id=\"df-eb3d13c6-17d8-499f-bd60-b3d433bc8f62\">\n",
              "    <div class=\"colab-df-container\">\n",
              "      <div>\n",
              "<style scoped>\n",
              "    .dataframe tbody tr th:only-of-type {\n",
              "        vertical-align: middle;\n",
              "    }\n",
              "\n",
              "    .dataframe tbody tr th {\n",
              "        vertical-align: top;\n",
              "    }\n",
              "\n",
              "    .dataframe thead th {\n",
              "        text-align: right;\n",
              "    }\n",
              "</style>\n",
              "<table border=\"1\" class=\"dataframe\">\n",
              "  <thead>\n",
              "    <tr style=\"text-align: right;\">\n",
              "      <th></th>\n",
              "      <th>date_time</th>\n",
              "      <th>zone_id</th>\n",
              "      <th>banner_id</th>\n",
              "      <th>campaign_clicks</th>\n",
              "      <th>os_id</th>\n",
              "      <th>country_id</th>\n",
              "      <th>banner_id0</th>\n",
              "      <th>g0</th>\n",
              "      <th>coeff_sum0</th>\n",
              "      <th>banner_id1</th>\n",
              "      <th>g1</th>\n",
              "      <th>coeff_sum1</th>\n",
              "      <th>impressions</th>\n",
              "      <th>clicks</th>\n",
              "    </tr>\n",
              "  </thead>\n",
              "  <tbody>\n",
              "    <tr>\n",
              "      <th>1</th>\n",
              "      <td>2021-09-26 22:54:49.000000</td>\n",
              "      <td>1</td>\n",
              "      <td>1</td>\n",
              "      <td>0</td>\n",
              "      <td>0</td>\n",
              "      <td>1</td>\n",
              "      <td>1</td>\n",
              "      <td>0.054298</td>\n",
              "      <td>-2.657477</td>\n",
              "      <td>269</td>\n",
              "      <td>0.031942</td>\n",
              "      <td>-4.449220</td>\n",
              "      <td>1</td>\n",
              "      <td>1</td>\n",
              "    </tr>\n",
              "    <tr>\n",
              "      <th>2</th>\n",
              "      <td>2021-09-26 23:57:20.000000</td>\n",
              "      <td>2</td>\n",
              "      <td>2</td>\n",
              "      <td>3</td>\n",
              "      <td>0</td>\n",
              "      <td>0</td>\n",
              "      <td>2</td>\n",
              "      <td>0.014096</td>\n",
              "      <td>-3.824875</td>\n",
              "      <td>21</td>\n",
              "      <td>0.014906</td>\n",
              "      <td>-3.939309</td>\n",
              "      <td>1</td>\n",
              "      <td>1</td>\n",
              "    </tr>\n",
              "    <tr>\n",
              "      <th>3</th>\n",
              "      <td>2021-09-27 00:04:30.000000</td>\n",
              "      <td>3</td>\n",
              "      <td>3</td>\n",
              "      <td>0</td>\n",
              "      <td>1</td>\n",
              "      <td>1</td>\n",
              "      <td>3</td>\n",
              "      <td>0.015232</td>\n",
              "      <td>-3.461357</td>\n",
              "      <td>99</td>\n",
              "      <td>0.050671</td>\n",
              "      <td>-3.418403</td>\n",
              "      <td>1</td>\n",
              "      <td>1</td>\n",
              "    </tr>\n",
              "    <tr>\n",
              "      <th>4</th>\n",
              "      <td>2021-09-27 00:06:21.000000</td>\n",
              "      <td>4</td>\n",
              "      <td>4</td>\n",
              "      <td>0</td>\n",
              "      <td>1</td>\n",
              "      <td>0</td>\n",
              "      <td>4</td>\n",
              "      <td>0.051265</td>\n",
              "      <td>-4.009026</td>\n",
              "      <td>11464230</td>\n",
              "      <td>0.032005</td>\n",
              "      <td>-2.828797</td>\n",
              "      <td>1</td>\n",
              "      <td>1</td>\n",
              "    </tr>\n",
              "    <tr>\n",
              "      <th>5</th>\n",
              "      <td>2021-09-27 00:06:50.000000</td>\n",
              "      <td>5</td>\n",
              "      <td>5</td>\n",
              "      <td>0</td>\n",
              "      <td>2</td>\n",
              "      <td>2</td>\n",
              "      <td>5</td>\n",
              "      <td>0.337634</td>\n",
              "      <td>-3.222757</td>\n",
              "      <td>37</td>\n",
              "      <td>0.338195</td>\n",
              "      <td>-3.221755</td>\n",
              "      <td>1</td>\n",
              "      <td>1</td>\n",
              "    </tr>\n",
              "  </tbody>\n",
              "</table>\n",
              "</div>\n",
              "      <button class=\"colab-df-convert\" onclick=\"convertToInteractive('df-eb3d13c6-17d8-499f-bd60-b3d433bc8f62')\"\n",
              "              title=\"Convert this dataframe to an interactive table.\"\n",
              "              style=\"display:none;\">\n",
              "        \n",
              "  <svg xmlns=\"http://www.w3.org/2000/svg\" height=\"24px\"viewBox=\"0 0 24 24\"\n",
              "       width=\"24px\">\n",
              "    <path d=\"M0 0h24v24H0V0z\" fill=\"none\"/>\n",
              "    <path d=\"M18.56 5.44l.94 2.06.94-2.06 2.06-.94-2.06-.94-.94-2.06-.94 2.06-2.06.94zm-11 1L8.5 8.5l.94-2.06 2.06-.94-2.06-.94L8.5 2.5l-.94 2.06-2.06.94zm10 10l.94 2.06.94-2.06 2.06-.94-2.06-.94-.94-2.06-.94 2.06-2.06.94z\"/><path d=\"M17.41 7.96l-1.37-1.37c-.4-.4-.92-.59-1.43-.59-.52 0-1.04.2-1.43.59L10.3 9.45l-7.72 7.72c-.78.78-.78 2.05 0 2.83L4 21.41c.39.39.9.59 1.41.59.51 0 1.02-.2 1.41-.59l7.78-7.78 2.81-2.81c.8-.78.8-2.07 0-2.86zM5.41 20L4 18.59l7.72-7.72 1.47 1.35L5.41 20z\"/>\n",
              "  </svg>\n",
              "      </button>\n",
              "      \n",
              "  <style>\n",
              "    .colab-df-container {\n",
              "      display:flex;\n",
              "      flex-wrap:wrap;\n",
              "      gap: 12px;\n",
              "    }\n",
              "\n",
              "    .colab-df-convert {\n",
              "      background-color: #E8F0FE;\n",
              "      border: none;\n",
              "      border-radius: 50%;\n",
              "      cursor: pointer;\n",
              "      display: none;\n",
              "      fill: #1967D2;\n",
              "      height: 32px;\n",
              "      padding: 0 0 0 0;\n",
              "      width: 32px;\n",
              "    }\n",
              "\n",
              "    .colab-df-convert:hover {\n",
              "      background-color: #E2EBFA;\n",
              "      box-shadow: 0px 1px 2px rgba(60, 64, 67, 0.3), 0px 1px 3px 1px rgba(60, 64, 67, 0.15);\n",
              "      fill: #174EA6;\n",
              "    }\n",
              "\n",
              "    [theme=dark] .colab-df-convert {\n",
              "      background-color: #3B4455;\n",
              "      fill: #D2E3FC;\n",
              "    }\n",
              "\n",
              "    [theme=dark] .colab-df-convert:hover {\n",
              "      background-color: #434B5C;\n",
              "      box-shadow: 0px 1px 3px 1px rgba(0, 0, 0, 0.15);\n",
              "      filter: drop-shadow(0px 1px 2px rgba(0, 0, 0, 0.3));\n",
              "      fill: #FFFFFF;\n",
              "    }\n",
              "  </style>\n",
              "\n",
              "      <script>\n",
              "        const buttonEl =\n",
              "          document.querySelector('#df-eb3d13c6-17d8-499f-bd60-b3d433bc8f62 button.colab-df-convert');\n",
              "        buttonEl.style.display =\n",
              "          google.colab.kernel.accessAllowed ? 'block' : 'none';\n",
              "\n",
              "        async function convertToInteractive(key) {\n",
              "          const element = document.querySelector('#df-eb3d13c6-17d8-499f-bd60-b3d433bc8f62');\n",
              "          const dataTable =\n",
              "            await google.colab.kernel.invokeFunction('convertToInteractive',\n",
              "                                                     [key], {});\n",
              "          if (!dataTable) return;\n",
              "\n",
              "          const docLinkHtml = 'Like what you see? Visit the ' +\n",
              "            '<a target=\"_blank\" href=https://colab.research.google.com/notebooks/data_table.ipynb>data table notebook</a>'\n",
              "            + ' to learn more about interactive tables.';\n",
              "          element.innerHTML = '';\n",
              "          dataTable['output_type'] = 'display_data';\n",
              "          await google.colab.output.renderOutput(dataTable, element);\n",
              "          const docLink = document.createElement('div');\n",
              "          docLink.innerHTML = docLinkHtml;\n",
              "          element.appendChild(docLink);\n",
              "        }\n",
              "      </script>\n",
              "    </div>\n",
              "  </div>\n",
              "  "
            ]
          },
          "metadata": {},
          "execution_count": 4
        }
      ],
      "source": [
        "%%time\n",
        "df = pd.read_csv(os.path.join(PATH,'data.csv'))\n",
        "df.drop(['oaid_hash',  'rate0', 'rate1'], axis=1, inplace=True)\n",
        "df = df[df['banner_id0'] == df['banner_id']]\n",
        "df.head()"
      ]
    },
    {
      "cell_type": "code",
      "execution_count": 5,
      "metadata": {
        "id": "j2adB2gnhVl_",
        "pycharm": {
          "name": "#%%\n"
        }
      },
      "outputs": [],
      "source": [
        "def analysis(df: pd.DataFrame):\n",
        "    # посчитаем количество NaN в стобцах\n",
        "    print(f'Чисто NaN в данных: {df.isna().sum().sum()}', '\\n')\n",
        "\n",
        "    print('Посчитаем количество уникальных признаков в каждом столбце:')\n",
        "    for name in df.columns.values[1:-1]:\n",
        "      print(name.ljust(20), df[name].nunique())\n",
        "    print()\n",
        "\n",
        "    print('Посмотрим на распределение дней:')\n",
        "    days = df.date_time.apply(lambda x: x[:10])\n",
        "    days_counts = days.value_counts()\n",
        "    print(days_counts.sort_index(), '\\n')"
      ]
    },
    {
      "cell_type": "code",
      "execution_count": 6,
      "metadata": {
        "colab": {
          "base_uri": "https://localhost:8080/"
        },
        "id": "xeKIyUtg1u-8",
        "outputId": "322bdd1d-55ab-4fac-fc58-efbb4f7f523b"
      },
      "outputs": [
        {
          "output_type": "stream",
          "name": "stdout",
          "text": [
            "Чисто NaN в данных: 39350 \n",
            "\n",
            "Посчитаем количество уникальных признаков в каждом столбце:\n",
            "zone_id              3302\n",
            "banner_id            1606\n",
            "campaign_clicks      822\n",
            "os_id                11\n",
            "country_id           17\n",
            "banner_id0           1606\n",
            "g0                   13637451\n",
            "coeff_sum0           4809216\n",
            "banner_id1           3140906\n",
            "g1                   13394604\n",
            "coeff_sum1           5244097\n",
            "impressions          1\n",
            "\n",
            "Посмотрим на распределение дней:\n",
            "2021-09-01          1\n",
            "2021-09-26    2707350\n",
            "2021-09-27    2083239\n",
            "2021-09-28    2028991\n",
            "2021-09-29    2153388\n",
            "2021-09-30    1640889\n",
            "2021-10-01    1442740\n",
            "2021-10-02    1890562\n",
            "Name: date_time, dtype: int64 \n",
            "\n",
            "CPU times: user 22 s, sys: 1.21 s, total: 23.2 s\n",
            "Wall time: 23.2 s\n"
          ]
        }
      ],
      "source": [
        "%%time\n",
        "analysis(df)"
      ]
    },
    {
      "cell_type": "markdown",
      "metadata": {
        "id": "wXg-fnCQsw3o"
      },
      "source": [
        "Выводы по данным:\n",
        "* В данных есть NaN-ы, они в параметрах g0, g1 и тп.\n",
        "* В данных есть колонка `impressions`, у которой одно значение, она не вносит никакого вклада, ее уберем\n",
        "* Среди `date_time` есть день с одной записью, по самим данным он не выглядит как что-то из ряда вон выходящее, поэтому его можно оставить, хотя его существование овеяно тайной и загадкой :)\n",
        "* Дни по сути представлены одной неделей, в ответе нам надо предоставить результаты для `2021-10-02`.\n",
        "* Я думаю, что вводить признак дня недели тоже имеет смысл, но я не буду этого делать, потому что в test день недели, который не попадает в train, и этот признак не сможем проверить. При прочих равных этот признак я бы добавил.\n",
        "* Добавим в качестве признака час просмотра рекламы. Эта фича может быть полезной - в зависимости от времени посещаются те или иные сайты, соответственно, появляется разная реклама. \n",
        "* Признак `campaign_clicks` больше не нужен, потому что у нас есть информация для banner_id (теперь тоже самое, что и banner_id1), а для banner_id1 - нет, поэтому дропнем и `campaign_clicks` \n",
        "* Остальные признаки закодируем с помощью OneHotEncoding\n",
        "\n",
        "\n"
      ]
    },
    {
      "cell_type": "code",
      "execution_count": 7,
      "metadata": {
        "id": "NKTembJ4hVmA",
        "pycharm": {
          "name": "#%%\n"
        }
      },
      "outputs": [],
      "source": [
        "def feature_engineering(df: pd.DataFrame) -> pd.DataFrame:\n",
        "\n",
        "    # уберем строки с пропусками\n",
        "    df = df[~df['g1'].isna()]\n",
        "    \n",
        "    # таблица с параметрами\n",
        "    df_param = df[['banner_id0', 'banner_id1', 'g0', 'g1', 'coeff_sum0', 'coeff_sum1']].copy()\n",
        "    df.drop(['banner_id0', 'banner_id1', 'g0', 'g1', 'coeff_sum0', 'coeff_sum1'], axis=1, inplace=True)\n",
        "\n",
        "    # добавим признак времени\n",
        "    df['date_time'] = pd.to_datetime(df['date_time'])\n",
        "    df['hour'] = df['date_time'].dt.hour\n",
        "    \n",
        "    # вытащим нужные признаки и дропнем их таблицы\n",
        "    clicks = df['clicks'].to_numpy()\n",
        "    idx_train = df['date_time'] < pd.to_datetime('2021-10-02')\n",
        "\n",
        "    # campaign_clicks здесь больше не нужна\n",
        "    df.drop(['date_time', 'impressions', 'clicks', 'campaign_clicks'], axis=1, inplace=True)\n",
        "\n",
        "    # разделим на train и test\n",
        "    X_train, y_train = df[idx_train].to_numpy(), clicks[idx_train]\n",
        "    X_test, y_test = df[~idx_train].to_numpy(), clicks[~idx_train]\n",
        "\n",
        "    # колдуем и кодируем\n",
        "    enc = OneHotEncoder(drop='first', handle_unknown='ignore', sparse=True)    \n",
        "    X_train = enc.fit_transform(X_train)\n",
        "    X_test = enc.transform(X_test)\n",
        "\n",
        "    # данные, чтобы посчитать coeff_sum1_new - меняем banner_id на banner_id1\n",
        "    df['banner_id'] = df_param['banner_id1']\n",
        "    X_test_1 = df[~idx_train].to_numpy()\n",
        "    X_test_1 = enc.transform(X_test_1)\n",
        "\n",
        "    return X_train, y_train, X_test, X_test_1, y_test, df_param[~idx_train]"
      ]
    },
    {
      "cell_type": "code",
      "execution_count": 8,
      "metadata": {
        "colab": {
          "base_uri": "https://localhost:8080/"
        },
        "id": "N4W9LXPTQ26n",
        "outputId": "398ea7dd-cfe9-4433-ecac-c02a012503b3"
      },
      "outputs": [
        {
          "output_type": "stream",
          "name": "stderr",
          "text": [
            "/usr/local/lib/python3.8/dist-packages/pandas/core/frame.py:4906: SettingWithCopyWarning: \n",
            "A value is trying to be set on a copy of a slice from a DataFrame\n",
            "\n",
            "See the caveats in the documentation: https://pandas.pydata.org/pandas-docs/stable/user_guide/indexing.html#returning-a-view-versus-a-copy\n",
            "  return super().drop(\n",
            "<ipython-input-7-894cde8e8509>:11: SettingWithCopyWarning: \n",
            "A value is trying to be set on a copy of a slice from a DataFrame.\n",
            "Try using .loc[row_indexer,col_indexer] = value instead\n",
            "\n",
            "See the caveats in the documentation: https://pandas.pydata.org/pandas-docs/stable/user_guide/indexing.html#returning-a-view-versus-a-copy\n",
            "  df['date_time'] = pd.to_datetime(df['date_time'])\n",
            "<ipython-input-7-894cde8e8509>:12: SettingWithCopyWarning: \n",
            "A value is trying to be set on a copy of a slice from a DataFrame.\n",
            "Try using .loc[row_indexer,col_indexer] = value instead\n",
            "\n",
            "See the caveats in the documentation: https://pandas.pydata.org/pandas-docs/stable/user_guide/indexing.html#returning-a-view-versus-a-copy\n",
            "  df['hour'] = df['date_time'].dt.hour\n",
            "/usr/local/lib/python3.8/dist-packages/sklearn/preprocessing/_encoders.py:170: UserWarning: Found unknown categories in columns [0, 1] during transform. These unknown categories will be encoded as all zeros\n",
            "  warnings.warn(\n",
            "<ipython-input-7-894cde8e8509>:31: SettingWithCopyWarning: \n",
            "A value is trying to be set on a copy of a slice from a DataFrame.\n",
            "Try using .loc[row_indexer,col_indexer] = value instead\n",
            "\n",
            "See the caveats in the documentation: https://pandas.pydata.org/pandas-docs/stable/user_guide/indexing.html#returning-a-view-versus-a-copy\n",
            "  df['banner_id'] = df_param['banner_id1']\n",
            "/usr/local/lib/python3.8/dist-packages/sklearn/preprocessing/_encoders.py:170: UserWarning: Found unknown categories in columns [0, 1] during transform. These unknown categories will be encoded as all zeros\n",
            "  warnings.warn(\n"
          ]
        },
        {
          "output_type": "stream",
          "name": "stdout",
          "text": [
            "Число записей в train: 12041815\n",
            "Число записей в test : 1885670\n",
            "Число признаков: 4785\n",
            "CPU times: user 30.7 s, sys: 1.35 s, total: 32.1 s\n",
            "Wall time: 33.9 s\n"
          ]
        }
      ],
      "source": [
        "%%time\n",
        "X_train, y_train, X_test, X_test_1, y_test, df_param = feature_engineering(df)\n",
        "\n",
        "print(f'Число записей в train: {X_train.shape[0]}')\n",
        "print(f'Число записей в test : {X_test.shape[0]}')\n",
        "print(f'Число признаков: {X_train.shape[1]}')"
      ]
    },
    {
      "cell_type": "code",
      "source": [
        "df_param"
      ],
      "metadata": {
        "colab": {
          "base_uri": "https://localhost:8080/",
          "height": 414
        },
        "id": "vHGMy0CwR5lL",
        "outputId": "630fcb2d-9650-4c8b-f38a-a369e7f5b108"
      },
      "execution_count": 9,
      "outputs": [
        {
          "output_type": "execute_result",
          "data": {
            "text/plain": [
              "          banner_id0  banner_id1        g0        g1  coeff_sum0  coeff_sum1\n",
              "164               76         401  0.055551  0.030272   -2.926980   -3.390642\n",
              "166               46    11464251  0.017521  0.085038   -1.377320   -3.329596\n",
              "168               76    11464252  0.171074  0.079034   -3.112081   -1.907685\n",
              "169               46           0  0.017439  0.017624   -2.493974   -3.889516\n",
              "359                2          49  0.020414  0.068041   -2.154111   -3.088063\n",
              "...              ...         ...       ...       ...         ...         ...\n",
              "15821452          89           7  0.043305  0.014551   -2.983741   -3.074290\n",
              "15821455         132    14623598  0.031065  0.099036   -3.745272   -2.287568\n",
              "15821461          52    14623601  0.008300  0.028516   -3.538011   -2.011854\n",
              "15821467         530         481  0.040037  0.039634   -3.495224   -3.493091\n",
              "15821469        1236        1234  0.021433  0.021363   -5.986478   -5.986109\n",
              "\n",
              "[1885670 rows x 6 columns]"
            ],
            "text/html": [
              "\n",
              "  <div id=\"df-0492dd6f-2c04-487b-a727-cbd34ef64a44\">\n",
              "    <div class=\"colab-df-container\">\n",
              "      <div>\n",
              "<style scoped>\n",
              "    .dataframe tbody tr th:only-of-type {\n",
              "        vertical-align: middle;\n",
              "    }\n",
              "\n",
              "    .dataframe tbody tr th {\n",
              "        vertical-align: top;\n",
              "    }\n",
              "\n",
              "    .dataframe thead th {\n",
              "        text-align: right;\n",
              "    }\n",
              "</style>\n",
              "<table border=\"1\" class=\"dataframe\">\n",
              "  <thead>\n",
              "    <tr style=\"text-align: right;\">\n",
              "      <th></th>\n",
              "      <th>banner_id0</th>\n",
              "      <th>banner_id1</th>\n",
              "      <th>g0</th>\n",
              "      <th>g1</th>\n",
              "      <th>coeff_sum0</th>\n",
              "      <th>coeff_sum1</th>\n",
              "    </tr>\n",
              "  </thead>\n",
              "  <tbody>\n",
              "    <tr>\n",
              "      <th>164</th>\n",
              "      <td>76</td>\n",
              "      <td>401</td>\n",
              "      <td>0.055551</td>\n",
              "      <td>0.030272</td>\n",
              "      <td>-2.926980</td>\n",
              "      <td>-3.390642</td>\n",
              "    </tr>\n",
              "    <tr>\n",
              "      <th>166</th>\n",
              "      <td>46</td>\n",
              "      <td>11464251</td>\n",
              "      <td>0.017521</td>\n",
              "      <td>0.085038</td>\n",
              "      <td>-1.377320</td>\n",
              "      <td>-3.329596</td>\n",
              "    </tr>\n",
              "    <tr>\n",
              "      <th>168</th>\n",
              "      <td>76</td>\n",
              "      <td>11464252</td>\n",
              "      <td>0.171074</td>\n",
              "      <td>0.079034</td>\n",
              "      <td>-3.112081</td>\n",
              "      <td>-1.907685</td>\n",
              "    </tr>\n",
              "    <tr>\n",
              "      <th>169</th>\n",
              "      <td>46</td>\n",
              "      <td>0</td>\n",
              "      <td>0.017439</td>\n",
              "      <td>0.017624</td>\n",
              "      <td>-2.493974</td>\n",
              "      <td>-3.889516</td>\n",
              "    </tr>\n",
              "    <tr>\n",
              "      <th>359</th>\n",
              "      <td>2</td>\n",
              "      <td>49</td>\n",
              "      <td>0.020414</td>\n",
              "      <td>0.068041</td>\n",
              "      <td>-2.154111</td>\n",
              "      <td>-3.088063</td>\n",
              "    </tr>\n",
              "    <tr>\n",
              "      <th>...</th>\n",
              "      <td>...</td>\n",
              "      <td>...</td>\n",
              "      <td>...</td>\n",
              "      <td>...</td>\n",
              "      <td>...</td>\n",
              "      <td>...</td>\n",
              "    </tr>\n",
              "    <tr>\n",
              "      <th>15821452</th>\n",
              "      <td>89</td>\n",
              "      <td>7</td>\n",
              "      <td>0.043305</td>\n",
              "      <td>0.014551</td>\n",
              "      <td>-2.983741</td>\n",
              "      <td>-3.074290</td>\n",
              "    </tr>\n",
              "    <tr>\n",
              "      <th>15821455</th>\n",
              "      <td>132</td>\n",
              "      <td>14623598</td>\n",
              "      <td>0.031065</td>\n",
              "      <td>0.099036</td>\n",
              "      <td>-3.745272</td>\n",
              "      <td>-2.287568</td>\n",
              "    </tr>\n",
              "    <tr>\n",
              "      <th>15821461</th>\n",
              "      <td>52</td>\n",
              "      <td>14623601</td>\n",
              "      <td>0.008300</td>\n",
              "      <td>0.028516</td>\n",
              "      <td>-3.538011</td>\n",
              "      <td>-2.011854</td>\n",
              "    </tr>\n",
              "    <tr>\n",
              "      <th>15821467</th>\n",
              "      <td>530</td>\n",
              "      <td>481</td>\n",
              "      <td>0.040037</td>\n",
              "      <td>0.039634</td>\n",
              "      <td>-3.495224</td>\n",
              "      <td>-3.493091</td>\n",
              "    </tr>\n",
              "    <tr>\n",
              "      <th>15821469</th>\n",
              "      <td>1236</td>\n",
              "      <td>1234</td>\n",
              "      <td>0.021433</td>\n",
              "      <td>0.021363</td>\n",
              "      <td>-5.986478</td>\n",
              "      <td>-5.986109</td>\n",
              "    </tr>\n",
              "  </tbody>\n",
              "</table>\n",
              "<p>1885670 rows × 6 columns</p>\n",
              "</div>\n",
              "      <button class=\"colab-df-convert\" onclick=\"convertToInteractive('df-0492dd6f-2c04-487b-a727-cbd34ef64a44')\"\n",
              "              title=\"Convert this dataframe to an interactive table.\"\n",
              "              style=\"display:none;\">\n",
              "        \n",
              "  <svg xmlns=\"http://www.w3.org/2000/svg\" height=\"24px\"viewBox=\"0 0 24 24\"\n",
              "       width=\"24px\">\n",
              "    <path d=\"M0 0h24v24H0V0z\" fill=\"none\"/>\n",
              "    <path d=\"M18.56 5.44l.94 2.06.94-2.06 2.06-.94-2.06-.94-.94-2.06-.94 2.06-2.06.94zm-11 1L8.5 8.5l.94-2.06 2.06-.94-2.06-.94L8.5 2.5l-.94 2.06-2.06.94zm10 10l.94 2.06.94-2.06 2.06-.94-2.06-.94-.94-2.06-.94 2.06-2.06.94z\"/><path d=\"M17.41 7.96l-1.37-1.37c-.4-.4-.92-.59-1.43-.59-.52 0-1.04.2-1.43.59L10.3 9.45l-7.72 7.72c-.78.78-.78 2.05 0 2.83L4 21.41c.39.39.9.59 1.41.59.51 0 1.02-.2 1.41-.59l7.78-7.78 2.81-2.81c.8-.78.8-2.07 0-2.86zM5.41 20L4 18.59l7.72-7.72 1.47 1.35L5.41 20z\"/>\n",
              "  </svg>\n",
              "      </button>\n",
              "      \n",
              "  <style>\n",
              "    .colab-df-container {\n",
              "      display:flex;\n",
              "      flex-wrap:wrap;\n",
              "      gap: 12px;\n",
              "    }\n",
              "\n",
              "    .colab-df-convert {\n",
              "      background-color: #E8F0FE;\n",
              "      border: none;\n",
              "      border-radius: 50%;\n",
              "      cursor: pointer;\n",
              "      display: none;\n",
              "      fill: #1967D2;\n",
              "      height: 32px;\n",
              "      padding: 0 0 0 0;\n",
              "      width: 32px;\n",
              "    }\n",
              "\n",
              "    .colab-df-convert:hover {\n",
              "      background-color: #E2EBFA;\n",
              "      box-shadow: 0px 1px 2px rgba(60, 64, 67, 0.3), 0px 1px 3px 1px rgba(60, 64, 67, 0.15);\n",
              "      fill: #174EA6;\n",
              "    }\n",
              "\n",
              "    [theme=dark] .colab-df-convert {\n",
              "      background-color: #3B4455;\n",
              "      fill: #D2E3FC;\n",
              "    }\n",
              "\n",
              "    [theme=dark] .colab-df-convert:hover {\n",
              "      background-color: #434B5C;\n",
              "      box-shadow: 0px 1px 3px 1px rgba(0, 0, 0, 0.15);\n",
              "      filter: drop-shadow(0px 1px 2px rgba(0, 0, 0, 0.3));\n",
              "      fill: #FFFFFF;\n",
              "    }\n",
              "  </style>\n",
              "\n",
              "      <script>\n",
              "        const buttonEl =\n",
              "          document.querySelector('#df-0492dd6f-2c04-487b-a727-cbd34ef64a44 button.colab-df-convert');\n",
              "        buttonEl.style.display =\n",
              "          google.colab.kernel.accessAllowed ? 'block' : 'none';\n",
              "\n",
              "        async function convertToInteractive(key) {\n",
              "          const element = document.querySelector('#df-0492dd6f-2c04-487b-a727-cbd34ef64a44');\n",
              "          const dataTable =\n",
              "            await google.colab.kernel.invokeFunction('convertToInteractive',\n",
              "                                                     [key], {});\n",
              "          if (!dataTable) return;\n",
              "\n",
              "          const docLinkHtml = 'Like what you see? Visit the ' +\n",
              "            '<a target=\"_blank\" href=https://colab.research.google.com/notebooks/data_table.ipynb>data table notebook</a>'\n",
              "            + ' to learn more about interactive tables.';\n",
              "          element.innerHTML = '';\n",
              "          dataTable['output_type'] = 'display_data';\n",
              "          await google.colab.output.renderOutput(dataTable, element);\n",
              "          const docLink = document.createElement('div');\n",
              "          docLink.innerHTML = docLinkHtml;\n",
              "          element.appendChild(docLink);\n",
              "        }\n",
              "      </script>\n",
              "    </div>\n",
              "  </div>\n",
              "  "
            ]
          },
          "metadata": {},
          "execution_count": 9
        }
      ]
    },
    {
      "cell_type": "code",
      "execution_count": 10,
      "metadata": {
        "id": "cNIQ7_W_hVmB",
        "pycharm": {
          "name": "#%%\n"
        }
      },
      "outputs": [],
      "source": [
        "def create_model(penalty='l2', solver='liblinear', C=1):\n",
        "    model = LogisticRegression(penalty=penalty, solver=solver, C=C)\n",
        "    return model"
      ]
    },
    {
      "cell_type": "code",
      "source": [
        "%%time\n",
        "np.random.seed(42)\n",
        "model = create_model(C=0.01)\n",
        "model.fit(X_train, y_train)\n",
        "\n",
        "y_pred = model.predict_proba(X_test)[:, 1]\n",
        "\n",
        "loss = log_loss(y_test, y_pred)\n",
        "roc_score = roc_auc_score(y_test, y_pred)\n",
        "print(f\"Log loss: {loss}, roc-auc: {roc_score}\")"
      ],
      "metadata": {
        "colab": {
          "base_uri": "https://localhost:8080/"
        },
        "id": "VayO9zT07b0o",
        "outputId": "fc1b1132-ddca-4fad-fa9d-cefe876cf89d"
      },
      "execution_count": 11,
      "outputs": [
        {
          "output_type": "stream",
          "name": "stdout",
          "text": [
            "Log loss: 0.13431090491111758, roc-auc: 0.7875953324218785\n",
            "CPU times: user 1min 12s, sys: 1.02 s, total: 1min 13s\n",
            "Wall time: 1min 14s\n"
          ]
        }
      ]
    },
    {
      "cell_type": "markdown",
      "source": [
        "Выбор баннера определяется с помощью вероятностей $\\pi_0$ и $\\pi_1$, которые получаются одинаковым образом через сравнение двух нормальных случайных величин (на примере $\\pi_0$):\n",
        "\n",
        "$$x\\sim N(\\text{coeff_sum0}, g0^2),\\ y\\sim N(\\text{coeff_sum1}, g1^2)$$\n",
        "тогда\n",
        "$$\\xi = y-x\\sim N(\\mu, \\sigma^2),$$\n",
        "где\n",
        "$$\\mu = \\text{coeff_sum1} - \\text{coeff_sum0}$$\n",
        "$$\\sigma^2 = g0^2 + g1^2.$$\n",
        "\n",
        "Следовательно,\n",
        "$$ \\pi_0 = P(x>y) = P(y-x<0) = P(\\xi<0) = \\Phi\\left(\\frac{0-\\mu}{\\sigma}\\right)$$\n",
        "\n",
        "Аналогично для $\\pi_1$\n"
      ],
      "metadata": {
        "id": "81H9CKPtKfmO"
      }
    },
    {
      "cell_type": "code",
      "source": [
        "from scipy.special import logit\n",
        "from scipy.stats import norm"
      ],
      "metadata": {
        "id": "Dd3LAGuJF_3f"
      },
      "execution_count": 12,
      "outputs": []
    },
    {
      "cell_type": "code",
      "source": [
        "def count_pi(mu0, mu1, sigma0, sigma1):\n",
        "    mu = -mu1 + mu0\n",
        "    sigma = np.sqrt(sigma0 ** 2 + sigma1 ** 2)\n",
        "    return norm.cdf(mu / sigma)"
      ],
      "metadata": {
        "id": "X5EwDO5QSDmD"
      },
      "execution_count": 13,
      "outputs": []
    },
    {
      "cell_type": "code",
      "source": [
        "df_param['coeff_sum0_new'] = logit(model.predict_proba(X_test)[:, 1])\n",
        "df_param['coeff_sum1_new'] = logit(model.predict_proba(X_test_1)[:, 1])"
      ],
      "metadata": {
        "id": "zlrd6Jx7STRh"
      },
      "execution_count": 14,
      "outputs": []
    },
    {
      "cell_type": "code",
      "source": [
        "df_param['pi_0'] = count_pi(df_param['coeff_sum0'],\n",
        "                            df_param['coeff_sum1'],\n",
        "                            df_param['g0'],\n",
        "                            df_param['g1'])\n",
        "\n",
        "df_param['pi_1'] = count_pi(df_param['coeff_sum0_new'],\n",
        "                            df_param['coeff_sum1_new'],\n",
        "                            df_param['g0'],\n",
        "                            df_param['g1'])"
      ],
      "metadata": {
        "id": "ouTiUjElPnCA"
      },
      "execution_count": 15,
      "outputs": []
    },
    {
      "cell_type": "code",
      "execution_count": 16,
      "metadata": {
        "id": "S1UKx9AFzj50",
        "colab": {
          "base_uri": "https://localhost:8080/"
        },
        "outputId": "b2489852-024e-4cb0-d952-930716f133cb"
      },
      "outputs": [
        {
          "output_type": "stream",
          "name": "stdout",
          "text": [
            "CIPS_score: 0.07759982286077578\n"
          ]
        }
      ],
      "source": [
        "lambda_ = 10\n",
        "cips = np.mean(y_test * np.clip(df_param['pi_1'] / df_param['pi_0'], a_min=None, a_max=lambda_))\n",
        "print(f'CIPS_score: {cips}')"
      ]
    },
    {
      "cell_type": "code",
      "source": [],
      "metadata": {
        "id": "7tDMiHD8UTQ6"
      },
      "execution_count": 16,
      "outputs": []
    }
  ],
  "metadata": {
    "colab": {
      "provenance": []
    },
    "gpuClass": "standard",
    "kernelspec": {
      "display_name": "Python 3",
      "language": "python",
      "name": "python3"
    },
    "language_info": {
      "codemirror_mode": {
        "name": "ipython",
        "version": 3
      },
      "file_extension": ".py",
      "mimetype": "text/x-python",
      "name": "python",
      "nbconvert_exporter": "python",
      "pygments_lexer": "ipython3",
      "version": "3.8.8"
    },
    "vscode": {
      "interpreter": {
        "hash": "f30334793bf463a698dc307285c30603bb7e37acc4a8536bdf040047bc32a92f"
      }
    }
  },
  "nbformat": 4,
  "nbformat_minor": 0
}