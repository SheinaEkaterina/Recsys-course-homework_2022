{
 "cells": [
  {
   "cell_type": "code",
   "execution_count": 1,
   "metadata": {
    "collapsed": true,
    "pycharm": {
     "name": "#%%\n"
    }
   },
   "outputs": [],
   "source": [
    "import matplotlib.pyplot as plt\n",
    "import pandas as pd"
   ]
  },
  {
   "cell_type": "markdown",
   "source": [
    "### Данные\n",
    "Данные - это реальный лог реальных рекламных событий ad network Propeller Ads, тот же, что и в первой домашней работе.\n",
    "\n",
    "Датасет состоит из показов рекламы.\n",
    "\n",
    "- date_time - время показа рекламы\n",
    "- zone_id - id зоны, где зона - место на сайте для размещения рекламы\n",
    "- banner_id - id баннера\n",
    "- os_id - id операционной системы\n",
    "- country_id - id страны\n",
    "\n",
    "\n",
    "- oaid_hash - хэш юзера\n",
    "- banner_id0 - нулевой баннер в “стакане” баннеров\n",
    "- banner_id1 - перый баннер в “стакане” баннеров\n",
    "- rate0 - стоимость 1 клика установленная рекламодателем для banner_id0\n",
    "- rate1 - стоимость 1 клика установленная рекламодателем для banner_id1\n",
    "- g0 - стандартное отклонение суммы коэффициентов с banner_id0\n",
    "- g1 - стандартное отклонение суммы коэффициентов с banner_id1\n",
    "- coeff_sum0 - сумма коэффициентов для banner_id0\n",
    "- coeff_sum1 - сумма коэффициентов для banner_id1\n",
    "\n",
    "- clicks - был ли клик\n",
    "\n",
    "Для Домашней работы 4, колонка campaign_clicks не нужна.\n"
   ],
   "metadata": {
    "collapsed": false,
    "pycharm": {
     "name": "#%% md\n"
    }
   }
  },
  {
   "cell_type": "code",
   "execution_count": 38,
   "outputs": [
    {
     "data": {
      "text/plain": "            date_time  zone_id  banner_id            oaid_hash  os_id  \\\n0 2021-09-27 00:01:30        0          0  5664530014561852622      0   \n1 2021-09-26 22:54:49        1          1  5186611064559013950      0   \n2 2021-09-26 23:57:20        2          2  2215519569292448030      0   \n3 2021-09-27 00:04:30        3          3  6262169206735077204      1   \n4 2021-09-27 00:06:21        4          4  4778985830203613115      1   \n\n   country_id  banner_id0  rate0        g0  coeff_sum0  banner_id1  rate1  \\\n0           0        1240  0.067  0.035016   -7.268846           0  0.010   \n1           1           1  0.002  0.054298   -2.657477         269  0.004   \n2           0           2  0.014  0.014096   -3.824875          21  0.014   \n3           1           3  0.012  0.015232   -3.461357          99  0.006   \n4           0           4  0.019  0.051265   -4.009026    11464230  6.790   \n\n         g1  coeff_sum1  clicks  \n0  0.049516   -5.369901       1  \n1  0.031942   -4.449220       1  \n2  0.014906   -3.939309       1  \n3  0.050671   -3.418403       1  \n4  0.032005   -2.828797       1  ",
      "text/html": "<div>\n<style scoped>\n    .dataframe tbody tr th:only-of-type {\n        vertical-align: middle;\n    }\n\n    .dataframe tbody tr th {\n        vertical-align: top;\n    }\n\n    .dataframe thead th {\n        text-align: right;\n    }\n</style>\n<table border=\"1\" class=\"dataframe\">\n  <thead>\n    <tr style=\"text-align: right;\">\n      <th></th>\n      <th>date_time</th>\n      <th>zone_id</th>\n      <th>banner_id</th>\n      <th>oaid_hash</th>\n      <th>os_id</th>\n      <th>country_id</th>\n      <th>banner_id0</th>\n      <th>rate0</th>\n      <th>g0</th>\n      <th>coeff_sum0</th>\n      <th>banner_id1</th>\n      <th>rate1</th>\n      <th>g1</th>\n      <th>coeff_sum1</th>\n      <th>clicks</th>\n    </tr>\n  </thead>\n  <tbody>\n    <tr>\n      <th>0</th>\n      <td>2021-09-27 00:01:30</td>\n      <td>0</td>\n      <td>0</td>\n      <td>5664530014561852622</td>\n      <td>0</td>\n      <td>0</td>\n      <td>1240</td>\n      <td>0.067</td>\n      <td>0.035016</td>\n      <td>-7.268846</td>\n      <td>0</td>\n      <td>0.010</td>\n      <td>0.049516</td>\n      <td>-5.369901</td>\n      <td>1</td>\n    </tr>\n    <tr>\n      <th>1</th>\n      <td>2021-09-26 22:54:49</td>\n      <td>1</td>\n      <td>1</td>\n      <td>5186611064559013950</td>\n      <td>0</td>\n      <td>1</td>\n      <td>1</td>\n      <td>0.002</td>\n      <td>0.054298</td>\n      <td>-2.657477</td>\n      <td>269</td>\n      <td>0.004</td>\n      <td>0.031942</td>\n      <td>-4.449220</td>\n      <td>1</td>\n    </tr>\n    <tr>\n      <th>2</th>\n      <td>2021-09-26 23:57:20</td>\n      <td>2</td>\n      <td>2</td>\n      <td>2215519569292448030</td>\n      <td>0</td>\n      <td>0</td>\n      <td>2</td>\n      <td>0.014</td>\n      <td>0.014096</td>\n      <td>-3.824875</td>\n      <td>21</td>\n      <td>0.014</td>\n      <td>0.014906</td>\n      <td>-3.939309</td>\n      <td>1</td>\n    </tr>\n    <tr>\n      <th>3</th>\n      <td>2021-09-27 00:04:30</td>\n      <td>3</td>\n      <td>3</td>\n      <td>6262169206735077204</td>\n      <td>1</td>\n      <td>1</td>\n      <td>3</td>\n      <td>0.012</td>\n      <td>0.015232</td>\n      <td>-3.461357</td>\n      <td>99</td>\n      <td>0.006</td>\n      <td>0.050671</td>\n      <td>-3.418403</td>\n      <td>1</td>\n    </tr>\n    <tr>\n      <th>4</th>\n      <td>2021-09-27 00:06:21</td>\n      <td>4</td>\n      <td>4</td>\n      <td>4778985830203613115</td>\n      <td>1</td>\n      <td>0</td>\n      <td>4</td>\n      <td>0.019</td>\n      <td>0.051265</td>\n      <td>-4.009026</td>\n      <td>11464230</td>\n      <td>6.790</td>\n      <td>0.032005</td>\n      <td>-2.828797</td>\n      <td>1</td>\n    </tr>\n  </tbody>\n</table>\n</div>"
     },
     "execution_count": 38,
     "metadata": {},
     "output_type": "execute_result"
    }
   ],
   "source": [
    "df = pd.read_csv('./data/data.csv', parse_dates=[\"date_time\"], date_parser=pd.to_datetime)\n",
    "not_needed = [\"campaign_clicks\", \"impressions\"]\n",
    "df.drop(labels=not_needed, axis=1, inplace=True)\n",
    "df.head()"
   ],
   "metadata": {
    "collapsed": false,
    "pycharm": {
     "name": "#%%\n"
    }
   }
  },
  {
   "cell_type": "markdown",
   "source": [
    "# Подготовим трейн и тест"
   ],
   "metadata": {
    "collapsed": false,
    "pycharm": {
     "name": "#%% md\n"
    }
   }
  },
  {
   "cell_type": "code",
   "execution_count": 39,
   "outputs": [],
   "source": [
    "import numpy as np\n",
    "import warnings\n",
    "\n",
    "warnings.simplefilter(action='ignore', category=FutureWarning)\n",
    "warnings.simplefilter(action='ignore', category=UserWarning)\n",
    "\n",
    "\n",
    "def feature_engineering(df: pd.DataFrame) -> tuple[np.array, np.array, np.array, np.array, np.array, np.array, np.array]:\n",
    "    # Delete\n",
    "    index = df[(df.date_time.dt.day == 1) & (df.date_time.dt.month == 9)].index\n",
    "    df.drop(index, inplace=True)\n",
    "\n",
    "    # Negative std\n",
    "    index = df[(df.g0 < 0) | (df.g1 < 0)].index\n",
    "    df.drop(index, inplace=True)\n",
    "\n",
    "    # Delete raws with banner_id != banner_id_0\n",
    "    index = df[df.banner_id != df.banner_id0].index\n",
    "    df.drop(index, inplace=True)\n",
    "    df.drop(['banner_id0'], axis=1, inplace=True)\n",
    "\n",
    "    # Date Time - leave only \"day of the week\" variable\n",
    "    df[\"day\"] = df[\"date_time\"].dt.dayofweek\n",
    "\n",
    "    # Drop NA\n",
    "    df.dropna(inplace=True)\n",
    "\n",
    "    # Train test split for logistic regression\n",
    "    train_set = df[df[\"date_time\"].dt.date < pd.to_datetime('2021-10-02')]\n",
    "    test_set = df[df[\"date_time\"].dt.date == pd.to_datetime('2021-10-02')]\n",
    "\n",
    "\n",
    "    # Prepare features\n",
    "    not_needed = [\"clicks\", \"date_time\", \"banner_id1\", \"g0\", \"g1\", \"coeff_sum0\",  \"coeff_sum1\"]\n",
    "    x_train = train_set.drop(not_needed, axis=1, inplace=False)\n",
    "    x_test = test_set.drop(not_needed, axis=1, inplace=False)\n",
    "\n",
    "    # ONE HOT encoding\n",
    "    from sklearn.preprocessing import OneHotEncoder\n",
    "    enc = OneHotEncoder(handle_unknown='ignore', sparse=True, drop='first')\n",
    "    x_train = enc.fit_transform(x_train)\n",
    "    x_test = enc.transform(x_test)\n",
    "\n",
    "    # Prepare labels\n",
    "    y_train = train_set['clicks']\n",
    "    y_test = test_set['clicks']\n",
    "\n",
    "\n",
    "    # distribution\n",
    "    dist = test_set[[\"g0\", \"g1\", \"coeff_sum0\", \"coeff_sum1\"]]\n",
    "\n",
    "    # Prepare test\n",
    "    not_needed = [\"clicks\", \"date_time\", \"g0\", \"g1\", \"coeff_sum0\",  \"coeff_sum1\"]\n",
    "    test_set.drop(not_needed, axis=1, inplace=True)\n",
    "\n",
    "    # For p0\n",
    "    x_test_0 = test_set.drop([\"banner_id1\"], axis=1, inplace=False)\n",
    "    x_test_0 = enc.transform(x_test_0)\n",
    "\n",
    "    # For p1\n",
    "    test_set[\"banner_id\"] = test_set[\"banner_id1\"]\n",
    "    x_test_1 = test_set.drop([\"banner_id1\"], axis=1)\n",
    "    x_test_1 = enc.transform(x_test_1)\n",
    "\n",
    "    return x_train, y_train, x_test, y_test, x_test_0, x_test_1, dist"
   ],
   "metadata": {
    "collapsed": false,
    "pycharm": {
     "name": "#%%\n"
    }
   }
  },
  {
   "cell_type": "code",
   "execution_count": 40,
   "outputs": [],
   "source": [
    "x_train, y_train, x_test, y_test, x_test_0, x_test_1, dist = feature_engineering(df)"
   ],
   "metadata": {
    "collapsed": false,
    "pycharm": {
     "name": "#%%\n"
    }
   }
  },
  {
   "cell_type": "code",
   "execution_count": 41,
   "outputs": [
    {
     "data": {
      "text/plain": "((12041809, 5029322),\n (12041809,),\n (1885668, 5029322),\n (1885668,),\n (1885668, 5029322),\n (1885668, 5029322),\n (1885668, 4))"
     },
     "execution_count": 41,
     "metadata": {},
     "output_type": "execute_result"
    }
   ],
   "source": [
    "x_train.shape, y_train.shape, x_test.shape, y_test.shape,  x_test_0.shape, x_test_1.shape, dist.shape"
   ],
   "metadata": {
    "collapsed": false,
    "pycharm": {
     "name": "#%%\n"
    }
   }
  },
  {
   "cell_type": "markdown",
   "source": [
    "# Модель и крос валидация"
   ],
   "metadata": {
    "collapsed": false,
    "pycharm": {
     "name": "#%% md\n"
    }
   }
  },
  {
   "cell_type": "code",
   "execution_count": 46,
   "outputs": [],
   "source": [
    "from sklearn.linear_model import LogisticRegression\n",
    "\n",
    "def create_model():\n",
    "    log_reg = LogisticRegression(solver='liblinear', random_state=42, C=0.001)\n",
    "    return log_reg"
   ],
   "metadata": {
    "collapsed": false,
    "pycharm": {
     "name": "#%%\n"
    }
   }
  },
  {
   "cell_type": "code",
   "execution_count": 48,
   "outputs": [
    {
     "data": {
      "text/plain": "LogisticRegression(C=0.001, random_state=42, solver='liblinear')",
      "text/html": "<style>#sk-container-id-1 {color: black;background-color: white;}#sk-container-id-1 pre{padding: 0;}#sk-container-id-1 div.sk-toggleable {background-color: white;}#sk-container-id-1 label.sk-toggleable__label {cursor: pointer;display: block;width: 100%;margin-bottom: 0;padding: 0.3em;box-sizing: border-box;text-align: center;}#sk-container-id-1 label.sk-toggleable__label-arrow:before {content: \"▸\";float: left;margin-right: 0.25em;color: #696969;}#sk-container-id-1 label.sk-toggleable__label-arrow:hover:before {color: black;}#sk-container-id-1 div.sk-estimator:hover label.sk-toggleable__label-arrow:before {color: black;}#sk-container-id-1 div.sk-toggleable__content {max-height: 0;max-width: 0;overflow: hidden;text-align: left;background-color: #f0f8ff;}#sk-container-id-1 div.sk-toggleable__content pre {margin: 0.2em;color: black;border-radius: 0.25em;background-color: #f0f8ff;}#sk-container-id-1 input.sk-toggleable__control:checked~div.sk-toggleable__content {max-height: 200px;max-width: 100%;overflow: auto;}#sk-container-id-1 input.sk-toggleable__control:checked~label.sk-toggleable__label-arrow:before {content: \"▾\";}#sk-container-id-1 div.sk-estimator input.sk-toggleable__control:checked~label.sk-toggleable__label {background-color: #d4ebff;}#sk-container-id-1 div.sk-label input.sk-toggleable__control:checked~label.sk-toggleable__label {background-color: #d4ebff;}#sk-container-id-1 input.sk-hidden--visually {border: 0;clip: rect(1px 1px 1px 1px);clip: rect(1px, 1px, 1px, 1px);height: 1px;margin: -1px;overflow: hidden;padding: 0;position: absolute;width: 1px;}#sk-container-id-1 div.sk-estimator {font-family: monospace;background-color: #f0f8ff;border: 1px dotted black;border-radius: 0.25em;box-sizing: border-box;margin-bottom: 0.5em;}#sk-container-id-1 div.sk-estimator:hover {background-color: #d4ebff;}#sk-container-id-1 div.sk-parallel-item::after {content: \"\";width: 100%;border-bottom: 1px solid gray;flex-grow: 1;}#sk-container-id-1 div.sk-label:hover label.sk-toggleable__label {background-color: #d4ebff;}#sk-container-id-1 div.sk-serial::before {content: \"\";position: absolute;border-left: 1px solid gray;box-sizing: border-box;top: 0;bottom: 0;left: 50%;z-index: 0;}#sk-container-id-1 div.sk-serial {display: flex;flex-direction: column;align-items: center;background-color: white;padding-right: 0.2em;padding-left: 0.2em;position: relative;}#sk-container-id-1 div.sk-item {position: relative;z-index: 1;}#sk-container-id-1 div.sk-parallel {display: flex;align-items: stretch;justify-content: center;background-color: white;position: relative;}#sk-container-id-1 div.sk-item::before, #sk-container-id-1 div.sk-parallel-item::before {content: \"\";position: absolute;border-left: 1px solid gray;box-sizing: border-box;top: 0;bottom: 0;left: 50%;z-index: -1;}#sk-container-id-1 div.sk-parallel-item {display: flex;flex-direction: column;z-index: 1;position: relative;background-color: white;}#sk-container-id-1 div.sk-parallel-item:first-child::after {align-self: flex-end;width: 50%;}#sk-container-id-1 div.sk-parallel-item:last-child::after {align-self: flex-start;width: 50%;}#sk-container-id-1 div.sk-parallel-item:only-child::after {width: 0;}#sk-container-id-1 div.sk-dashed-wrapped {border: 1px dashed gray;margin: 0 0.4em 0.5em 0.4em;box-sizing: border-box;padding-bottom: 0.4em;background-color: white;}#sk-container-id-1 div.sk-label label {font-family: monospace;font-weight: bold;display: inline-block;line-height: 1.2em;}#sk-container-id-1 div.sk-label-container {text-align: center;}#sk-container-id-1 div.sk-container {/* jupyter's `normalize.less` sets `[hidden] { display: none; }` but bootstrap.min.css set `[hidden] { display: none !important; }` so we also need the `!important` here to be able to override the default hidden behavior on the sphinx rendered scikit-learn.org. See: https://github.com/scikit-learn/scikit-learn/issues/21755 */display: inline-block !important;position: relative;}#sk-container-id-1 div.sk-text-repr-fallback {display: none;}</style><div id=\"sk-container-id-1\" class=\"sk-top-container\"><div class=\"sk-text-repr-fallback\"><pre>LogisticRegression(C=0.001, random_state=42, solver=&#x27;liblinear&#x27;)</pre><b>In a Jupyter environment, please rerun this cell to show the HTML representation or trust the notebook. <br />On GitHub, the HTML representation is unable to render, please try loading this page with nbviewer.org.</b></div><div class=\"sk-container\" hidden><div class=\"sk-item\"><div class=\"sk-estimator sk-toggleable\"><input class=\"sk-toggleable__control sk-hidden--visually\" id=\"sk-estimator-id-1\" type=\"checkbox\" checked><label for=\"sk-estimator-id-1\" class=\"sk-toggleable__label sk-toggleable__label-arrow\">LogisticRegression</label><div class=\"sk-toggleable__content\"><pre>LogisticRegression(C=0.001, random_state=42, solver=&#x27;liblinear&#x27;)</pre></div></div></div></div></div>"
     },
     "execution_count": 47,
     "metadata": {},
     "output_type": "execute_result"
    },
    {
     "name": "stdout",
     "output_type": "stream",
     "text": [
      "CPU times: user 1min 23s, sys: 1min 20s, total: 2min 43s\n",
      "Wall time: 54.9 s\n"
     ]
    },
    {
     "data": {
      "text/plain": "LogisticRegression(C=0.001, random_state=42, solver='liblinear')",
      "text/html": "<style>#sk-container-id-2 {color: black;background-color: white;}#sk-container-id-2 pre{padding: 0;}#sk-container-id-2 div.sk-toggleable {background-color: white;}#sk-container-id-2 label.sk-toggleable__label {cursor: pointer;display: block;width: 100%;margin-bottom: 0;padding: 0.3em;box-sizing: border-box;text-align: center;}#sk-container-id-2 label.sk-toggleable__label-arrow:before {content: \"▸\";float: left;margin-right: 0.25em;color: #696969;}#sk-container-id-2 label.sk-toggleable__label-arrow:hover:before {color: black;}#sk-container-id-2 div.sk-estimator:hover label.sk-toggleable__label-arrow:before {color: black;}#sk-container-id-2 div.sk-toggleable__content {max-height: 0;max-width: 0;overflow: hidden;text-align: left;background-color: #f0f8ff;}#sk-container-id-2 div.sk-toggleable__content pre {margin: 0.2em;color: black;border-radius: 0.25em;background-color: #f0f8ff;}#sk-container-id-2 input.sk-toggleable__control:checked~div.sk-toggleable__content {max-height: 200px;max-width: 100%;overflow: auto;}#sk-container-id-2 input.sk-toggleable__control:checked~label.sk-toggleable__label-arrow:before {content: \"▾\";}#sk-container-id-2 div.sk-estimator input.sk-toggleable__control:checked~label.sk-toggleable__label {background-color: #d4ebff;}#sk-container-id-2 div.sk-label input.sk-toggleable__control:checked~label.sk-toggleable__label {background-color: #d4ebff;}#sk-container-id-2 input.sk-hidden--visually {border: 0;clip: rect(1px 1px 1px 1px);clip: rect(1px, 1px, 1px, 1px);height: 1px;margin: -1px;overflow: hidden;padding: 0;position: absolute;width: 1px;}#sk-container-id-2 div.sk-estimator {font-family: monospace;background-color: #f0f8ff;border: 1px dotted black;border-radius: 0.25em;box-sizing: border-box;margin-bottom: 0.5em;}#sk-container-id-2 div.sk-estimator:hover {background-color: #d4ebff;}#sk-container-id-2 div.sk-parallel-item::after {content: \"\";width: 100%;border-bottom: 1px solid gray;flex-grow: 1;}#sk-container-id-2 div.sk-label:hover label.sk-toggleable__label {background-color: #d4ebff;}#sk-container-id-2 div.sk-serial::before {content: \"\";position: absolute;border-left: 1px solid gray;box-sizing: border-box;top: 0;bottom: 0;left: 50%;z-index: 0;}#sk-container-id-2 div.sk-serial {display: flex;flex-direction: column;align-items: center;background-color: white;padding-right: 0.2em;padding-left: 0.2em;position: relative;}#sk-container-id-2 div.sk-item {position: relative;z-index: 1;}#sk-container-id-2 div.sk-parallel {display: flex;align-items: stretch;justify-content: center;background-color: white;position: relative;}#sk-container-id-2 div.sk-item::before, #sk-container-id-2 div.sk-parallel-item::before {content: \"\";position: absolute;border-left: 1px solid gray;box-sizing: border-box;top: 0;bottom: 0;left: 50%;z-index: -1;}#sk-container-id-2 div.sk-parallel-item {display: flex;flex-direction: column;z-index: 1;position: relative;background-color: white;}#sk-container-id-2 div.sk-parallel-item:first-child::after {align-self: flex-end;width: 50%;}#sk-container-id-2 div.sk-parallel-item:last-child::after {align-self: flex-start;width: 50%;}#sk-container-id-2 div.sk-parallel-item:only-child::after {width: 0;}#sk-container-id-2 div.sk-dashed-wrapped {border: 1px dashed gray;margin: 0 0.4em 0.5em 0.4em;box-sizing: border-box;padding-bottom: 0.4em;background-color: white;}#sk-container-id-2 div.sk-label label {font-family: monospace;font-weight: bold;display: inline-block;line-height: 1.2em;}#sk-container-id-2 div.sk-label-container {text-align: center;}#sk-container-id-2 div.sk-container {/* jupyter's `normalize.less` sets `[hidden] { display: none; }` but bootstrap.min.css set `[hidden] { display: none !important; }` so we also need the `!important` here to be able to override the default hidden behavior on the sphinx rendered scikit-learn.org. See: https://github.com/scikit-learn/scikit-learn/issues/21755 */display: inline-block !important;position: relative;}#sk-container-id-2 div.sk-text-repr-fallback {display: none;}</style><div id=\"sk-container-id-2\" class=\"sk-top-container\"><div class=\"sk-text-repr-fallback\"><pre>LogisticRegression(C=0.001, random_state=42, solver=&#x27;liblinear&#x27;)</pre><b>In a Jupyter environment, please rerun this cell to show the HTML representation or trust the notebook. <br />On GitHub, the HTML representation is unable to render, please try loading this page with nbviewer.org.</b></div><div class=\"sk-container\" hidden><div class=\"sk-item\"><div class=\"sk-estimator sk-toggleable\"><input class=\"sk-toggleable__control sk-hidden--visually\" id=\"sk-estimator-id-2\" type=\"checkbox\" checked><label for=\"sk-estimator-id-2\" class=\"sk-toggleable__label sk-toggleable__label-arrow\">LogisticRegression</label><div class=\"sk-toggleable__content\"><pre>LogisticRegression(C=0.001, random_state=42, solver=&#x27;liblinear&#x27;)</pre></div></div></div></div></div>"
     },
     "execution_count": 48,
     "metadata": {},
     "output_type": "execute_result"
    }
   ],
   "source": [
    "%%time\n",
    "model = create_model()\n",
    "model.fit(x_train, y_train)"
   ],
   "metadata": {
    "collapsed": false,
    "pycharm": {
     "name": "#%%\n"
    }
   }
  },
  {
   "cell_type": "code",
   "execution_count": 49,
   "outputs": [
    {
     "name": "stdout",
     "output_type": "stream",
     "text": [
      "Best model : 0.784, 0.136\n",
      "Baseline: 0.5, 0.155\n"
     ]
    }
   ],
   "source": [
    "from sklearn.metrics import log_loss, roc_auc_score\n",
    "import numpy as np\n",
    "\n",
    "\n",
    "baseline = np.full(y_test.shape, np.mean(y_test))\n",
    "results_roc = round(roc_auc_score(y_test, model.predict_proba(x_test)[:, 1]), 3)\n",
    "results_loss = round(log_loss(y_test, model.predict_proba(x_test)), 3)\n",
    "print(f'Best model : {results_roc}, {results_loss}')\n",
    "print(f'Baseline: {round(roc_auc_score(y_test, baseline), 3)}, {round(log_loss(y_test, baseline), 3)}')"
   ],
   "metadata": {
    "collapsed": false,
    "pycharm": {
     "name": "#%%\n"
    }
   }
  },
  {
   "cell_type": "code",
   "execution_count": 51,
   "outputs": [],
   "source": [
    "from scipy.special import logit\n",
    "from scipy.stats import norm\n",
    "\n",
    "\n",
    "coeff_sum0_new = logit(model.predict_proba(x_test_0)[:, 1])\n",
    "coeff_sum1_new = logit(model.predict_proba(x_test_1)[:, 1])\n"
   ],
   "metadata": {
    "collapsed": false,
    "pycharm": {
     "name": "#%%\n"
    }
   }
  },
  {
   "cell_type": "code",
   "execution_count": 52,
   "outputs": [],
   "source": [
    "pi_0 = norm.cdf((dist['coeff_sum1'] - dist['coeff_sum0'])\n",
    "                / np.sqrt(dist['g0'] ** 2 + dist['g1'] ** 2))\n",
    "\n",
    "pi_1 = norm.cdf((coeff_sum1_new - coeff_sum0_new)\n",
    "                / np.sqrt(dist['g0'] ** 2 + dist['g1'] ** 2))"
   ],
   "metadata": {
    "collapsed": false,
    "pycharm": {
     "name": "#%%\n"
    }
   }
  },
  {
   "cell_type": "code",
   "execution_count": 74,
   "outputs": [
    {
     "data": {
      "text/plain": "0.13302891600917813"
     },
     "execution_count": 74,
     "metadata": {},
     "output_type": "execute_result"
    }
   ],
   "source": [
    "cips = np.mean(y_test * np.clip(pi_1/(pi_0 + 1e-10), None, 10))\n",
    "cips"
   ],
   "metadata": {
    "collapsed": false,
    "pycharm": {
     "name": "#%%\n"
    }
   }
  },
  {
   "cell_type": "code",
   "execution_count": null,
   "outputs": [],
   "source": [],
   "metadata": {
    "collapsed": false,
    "pycharm": {
     "name": "#%%\n"
    }
   }
  }
 ],
 "metadata": {
  "kernelspec": {
   "display_name": "Python 3",
   "language": "python",
   "name": "python3"
  },
  "language_info": {
   "codemirror_mode": {
    "name": "ipython",
    "version": 2
   },
   "file_extension": ".py",
   "mimetype": "text/x-python",
   "name": "python",
   "nbconvert_exporter": "python",
   "pygments_lexer": "ipython2",
   "version": "2.7.6"
  }
 },
 "nbformat": 4,
 "nbformat_minor": 0
}