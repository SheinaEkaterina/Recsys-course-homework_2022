{
 "cells": [
  {
   "cell_type": "code",
   "execution_count": 1,
   "metadata": {},
   "outputs": [],
   "source": [
    "from pathlib import Path\n",
    "import pickle\n",
    "import numpy as np\n",
    "from sklearn.linear_model import LogisticRegression\n",
    "from sklearn.metrics import log_loss\n",
    "from scipy import sparse\n",
    "from scipy.stats import norm"
   ]
  },
  {
   "attachments": {},
   "cell_type": "markdown",
   "metadata": {},
   "source": [
    "# Чтение данных"
   ]
  },
  {
   "attachments": {},
   "cell_type": "markdown",
   "metadata": {},
   "source": [
    "Я не стал добавлять код для обработки данных в этот ноутбук, он представлен в `data_processing.py`. В нем выполняются практически такие же операции, как и в первых 2 заданиях, в результате генерируются и сохранаются на диск 2 словаря. Их ключи -- названия признаков или групп признаков в случае one-hot кодирования, значения -- 2-мерные массивы значений. Прочитаем обработанные данные с помощью `pickle`."
   ]
  },
  {
   "cell_type": "code",
   "execution_count": 2,
   "metadata": {},
   "outputs": [
    {
     "data": {
      "text/plain": [
       "{'clicks': (12056598, 1),\n",
       " 'zone_id': (12056598, 773),\n",
       " 'banner_id': (12056598, 1054),\n",
       " 'hour': (12056598, 1),\n",
       " 'os_id': (12056598, 8),\n",
       " 'coeff_sum0': (12056598, 1),\n",
       " 'banner_id1': (12056598, 1054),\n",
       " 'coeff_sum1': (12056598, 1),\n",
       " 'g1': (12056598, 1),\n",
       " 'weekday': (12056598, 1),\n",
       " 'country_id': (12056598, 17),\n",
       " 'g0': (12056598, 1)}"
      ]
     },
     "execution_count": 2,
     "metadata": {},
     "output_type": "execute_result"
    }
   ],
   "source": [
    "DATA_DIR = Path(\"../data/processed\")\n",
    "\n",
    "with open(DATA_DIR / \"train.pkl\", \"rb\") as fin:\n",
    "    train_data = pickle.load(fin)\n",
    "with open(DATA_DIR / \"test.pkl\", \"rb\") as fin:\n",
    "    test_data = pickle.load(fin)\n",
    "\n",
    "feature_names = set(train_data.keys())\n",
    "assert all(feature in feature_names for feature in test_data.keys())\n",
    "{name: train_data[name].shape for name in feature_names}"
   ]
  },
  {
   "attachments": {},
   "cell_type": "markdown",
   "metadata": {},
   "source": [
    "# Линейная модель"
   ]
  },
  {
   "cell_type": "code",
   "execution_count": 3,
   "metadata": {},
   "outputs": [],
   "source": [
    "def construct_arrays(data: dict, use_banner_id1: bool = False\n",
    "                     ) -> tuple[sparse.csr_array, sparse.csr_array]:\n",
    "    features = [\"weekday\", \"hour\", \"zone_id\", \"country_id\", \"os_id\"]\n",
    "    features.append(\"banner_id1\" if use_banner_id1 else \"banner_id\")\n",
    "    x = sparse.hstack([data[feature] for feature in features], format=\"csr\")\n",
    "    y = data[\"clicks\"].ravel()\n",
    "    return x, y"
   ]
  },
  {
   "cell_type": "code",
   "execution_count": 4,
   "metadata": {},
   "outputs": [
    {
     "name": "stdout",
     "output_type": "stream",
     "text": [
      "train loss: 0.10232203793425765\n",
      "test loss: 0.1338872469277786\n"
     ]
    }
   ],
   "source": [
    "x_train, y_train = construct_arrays(train_data, False)\n",
    "model = LogisticRegression(C=5.0, solver=\"liblinear\")\n",
    "model.fit(x_train, y_train)\n",
    "train_loss = log_loss(y_train, model.predict_proba(x_train)[:, 1])\n",
    "print(f\"train loss: {train_loss}\")\n",
    "\n",
    "x_test, y_test = construct_arrays(test_data, False)\n",
    "test_loss = log_loss(y_test, model.predict_proba(x_test)[:, 1])\n",
    "print(f\"test loss: {test_loss}\")\n"
   ]
  },
  {
   "attachments": {},
   "cell_type": "markdown",
   "metadata": {},
   "source": [
    "Значения log loss получились примерно такими же, как и первом задании."
   ]
  },
  {
   "cell_type": "code",
   "execution_count": null,
   "metadata": {},
   "outputs": [],
   "source": []
  }
 ],
 "metadata": {
  "kernelspec": {
   "display_name": "code",
   "language": "python",
   "name": "python3"
  },
  "language_info": {
   "codemirror_mode": {
    "name": "ipython",
    "version": 3
   },
   "file_extension": ".py",
   "mimetype": "text/x-python",
   "name": "python",
   "nbconvert_exporter": "python",
   "pygments_lexer": "ipython3",
   "version": "3.10.6"
  },
  "orig_nbformat": 4,
  "vscode": {
   "interpreter": {
    "hash": "49448eeb8252ad14269e9870f41be38726e4e73e71663eea00cd1e0ba3be12df"
   }
  }
 },
 "nbformat": 4,
 "nbformat_minor": 2
}
