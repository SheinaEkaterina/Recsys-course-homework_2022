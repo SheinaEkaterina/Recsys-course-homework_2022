{
 "cells": [
  {
   "cell_type": "code",
   "execution_count": null,
   "id": "d41c17e9",
   "metadata": {},
   "outputs": [],
   "source": [
    "!pip install -q formulaic"
   ]
  },
  {
   "cell_type": "code",
   "execution_count": 160,
   "id": "f0c5a013",
   "metadata": {},
   "outputs": [],
   "source": [
    "import numpy as np\n",
    "import pandas as pd\n",
    "import datetime as dt\n",
    "import matplotlib.pyplot as plt\n",
    "from tqdm.notebook import tqdm\n",
    "\n",
    "# Statistic\n",
    "from scipy.stats import norm\n",
    "from scipy.special import logit\n",
    "\n",
    "# Feature engineering\n",
    "from sklearn.compose import ColumnTransformer\n",
    "from sklearn.preprocessing import OneHotEncoder\n",
    "\n",
    "# Metrics\n",
    "from sklearn.metrics import log_loss\n",
    "from sklearn.metrics import roc_auc_score\n",
    "\n",
    "# Model\n",
    "from sklearn.linear_model import LogisticRegression\n",
    "\n",
    "# Параметр регуляризации V_cips\n",
    "LAMBDA = 10"
   ]
  },
  {
   "cell_type": "code",
   "execution_count": 2,
   "id": "c4bd12a6",
   "metadata": {},
   "outputs": [],
   "source": [
    "def data_preprocess(data):\n",
    "    \n",
    "    # Переводим date_time из str в datetime\n",
    "    data['date_time'] = pd.to_datetime(data['date_time'])\n",
    "    \n",
    "    # Добавляем колонки hour и weekday\n",
    "    data['hour'] = data['date_time'].dt.hour\n",
    "    data['weekday'] = data['date_time'].dt.weekday\n",
    "    \n",
    "    # Удаляем колонки, которые по условию не нужны для 4го ДЗ\n",
    "    data = data.drop(['campaign_clicks'], axis=1)\n",
    "    \n",
    "    return data"
   ]
  },
  {
   "cell_type": "code",
   "execution_count": 3,
   "id": "bebb3207",
   "metadata": {},
   "outputs": [
    {
     "data": {
      "text/html": [
       "<div>\n",
       "<style scoped>\n",
       "    .dataframe tbody tr th:only-of-type {\n",
       "        vertical-align: middle;\n",
       "    }\n",
       "\n",
       "    .dataframe tbody tr th {\n",
       "        vertical-align: top;\n",
       "    }\n",
       "\n",
       "    .dataframe thead th {\n",
       "        text-align: right;\n",
       "    }\n",
       "</style>\n",
       "<table border=\"1\" class=\"dataframe\">\n",
       "  <thead>\n",
       "    <tr style=\"text-align: right;\">\n",
       "      <th></th>\n",
       "      <th>date_time</th>\n",
       "      <th>zone_id</th>\n",
       "      <th>banner_id</th>\n",
       "      <th>oaid_hash</th>\n",
       "      <th>os_id</th>\n",
       "      <th>country_id</th>\n",
       "      <th>banner_id0</th>\n",
       "      <th>rate0</th>\n",
       "      <th>g0</th>\n",
       "      <th>coeff_sum0</th>\n",
       "      <th>banner_id1</th>\n",
       "      <th>rate1</th>\n",
       "      <th>g1</th>\n",
       "      <th>coeff_sum1</th>\n",
       "      <th>impressions</th>\n",
       "      <th>clicks</th>\n",
       "      <th>hour</th>\n",
       "      <th>weekday</th>\n",
       "    </tr>\n",
       "  </thead>\n",
       "  <tbody>\n",
       "    <tr>\n",
       "      <th>0</th>\n",
       "      <td>2021-09-27 00:01:30</td>\n",
       "      <td>0</td>\n",
       "      <td>0</td>\n",
       "      <td>5664530014561852622</td>\n",
       "      <td>0</td>\n",
       "      <td>0</td>\n",
       "      <td>1240</td>\n",
       "      <td>0.067</td>\n",
       "      <td>0.035016</td>\n",
       "      <td>-7.268846</td>\n",
       "      <td>0</td>\n",
       "      <td>0.010</td>\n",
       "      <td>0.049516</td>\n",
       "      <td>-5.369901</td>\n",
       "      <td>1</td>\n",
       "      <td>1</td>\n",
       "      <td>0</td>\n",
       "      <td>0</td>\n",
       "    </tr>\n",
       "    <tr>\n",
       "      <th>1</th>\n",
       "      <td>2021-09-26 22:54:49</td>\n",
       "      <td>1</td>\n",
       "      <td>1</td>\n",
       "      <td>5186611064559013950</td>\n",
       "      <td>0</td>\n",
       "      <td>1</td>\n",
       "      <td>1</td>\n",
       "      <td>0.002</td>\n",
       "      <td>0.054298</td>\n",
       "      <td>-2.657477</td>\n",
       "      <td>269</td>\n",
       "      <td>0.004</td>\n",
       "      <td>0.031942</td>\n",
       "      <td>-4.449220</td>\n",
       "      <td>1</td>\n",
       "      <td>1</td>\n",
       "      <td>22</td>\n",
       "      <td>6</td>\n",
       "    </tr>\n",
       "    <tr>\n",
       "      <th>2</th>\n",
       "      <td>2021-09-26 23:57:20</td>\n",
       "      <td>2</td>\n",
       "      <td>2</td>\n",
       "      <td>2215519569292448030</td>\n",
       "      <td>0</td>\n",
       "      <td>0</td>\n",
       "      <td>2</td>\n",
       "      <td>0.014</td>\n",
       "      <td>0.014096</td>\n",
       "      <td>-3.824875</td>\n",
       "      <td>21</td>\n",
       "      <td>0.014</td>\n",
       "      <td>0.014906</td>\n",
       "      <td>-3.939309</td>\n",
       "      <td>1</td>\n",
       "      <td>1</td>\n",
       "      <td>23</td>\n",
       "      <td>6</td>\n",
       "    </tr>\n",
       "    <tr>\n",
       "      <th>3</th>\n",
       "      <td>2021-09-27 00:04:30</td>\n",
       "      <td>3</td>\n",
       "      <td>3</td>\n",
       "      <td>6262169206735077204</td>\n",
       "      <td>1</td>\n",
       "      <td>1</td>\n",
       "      <td>3</td>\n",
       "      <td>0.012</td>\n",
       "      <td>0.015232</td>\n",
       "      <td>-3.461357</td>\n",
       "      <td>99</td>\n",
       "      <td>0.006</td>\n",
       "      <td>0.050671</td>\n",
       "      <td>-3.418403</td>\n",
       "      <td>1</td>\n",
       "      <td>1</td>\n",
       "      <td>0</td>\n",
       "      <td>0</td>\n",
       "    </tr>\n",
       "    <tr>\n",
       "      <th>4</th>\n",
       "      <td>2021-09-27 00:06:21</td>\n",
       "      <td>4</td>\n",
       "      <td>4</td>\n",
       "      <td>4778985830203613115</td>\n",
       "      <td>1</td>\n",
       "      <td>0</td>\n",
       "      <td>4</td>\n",
       "      <td>0.019</td>\n",
       "      <td>0.051265</td>\n",
       "      <td>-4.009026</td>\n",
       "      <td>11464230</td>\n",
       "      <td>6.790</td>\n",
       "      <td>0.032005</td>\n",
       "      <td>-2.828797</td>\n",
       "      <td>1</td>\n",
       "      <td>1</td>\n",
       "      <td>0</td>\n",
       "      <td>0</td>\n",
       "    </tr>\n",
       "  </tbody>\n",
       "</table>\n",
       "</div>"
      ],
      "text/plain": [
       "            date_time  zone_id  banner_id            oaid_hash  os_id  \\\n",
       "0 2021-09-27 00:01:30        0          0  5664530014561852622      0   \n",
       "1 2021-09-26 22:54:49        1          1  5186611064559013950      0   \n",
       "2 2021-09-26 23:57:20        2          2  2215519569292448030      0   \n",
       "3 2021-09-27 00:04:30        3          3  6262169206735077204      1   \n",
       "4 2021-09-27 00:06:21        4          4  4778985830203613115      1   \n",
       "\n",
       "   country_id  banner_id0  rate0        g0  coeff_sum0  banner_id1  rate1  \\\n",
       "0           0        1240  0.067  0.035016   -7.268846           0  0.010   \n",
       "1           1           1  0.002  0.054298   -2.657477         269  0.004   \n",
       "2           0           2  0.014  0.014096   -3.824875          21  0.014   \n",
       "3           1           3  0.012  0.015232   -3.461357          99  0.006   \n",
       "4           0           4  0.019  0.051265   -4.009026    11464230  6.790   \n",
       "\n",
       "         g1  coeff_sum1  impressions  clicks  hour  weekday  \n",
       "0  0.049516   -5.369901            1       1     0        0  \n",
       "1  0.031942   -4.449220            1       1    22        6  \n",
       "2  0.014906   -3.939309            1       1    23        6  \n",
       "3  0.050671   -3.418403            1       1     0        0  \n",
       "4  0.032005   -2.828797            1       1     0        0  "
      ]
     },
     "execution_count": 3,
     "metadata": {},
     "output_type": "execute_result"
    }
   ],
   "source": [
    "data = pd.read_csv('../data/data.csv')\n",
    "data = data_preprocess(data)\n",
    "data.head()"
   ]
  },
  {
   "cell_type": "code",
   "execution_count": 5,
   "id": "111594d2",
   "metadata": {},
   "outputs": [
    {
     "name": "stdout",
     "output_type": "stream",
     "text": [
      "CPU times: user 7.83 s, sys: 1.32 s, total: 9.14 s\n",
      "Wall time: 9.18 s\n"
     ]
    }
   ],
   "source": [
    "%%time\n",
    "# Отделяем последний день и фильруем banner_id == banner_id0\n",
    "first_days = data[data['date_time'].dt.date != dt.date(2021, 10, 2)]\n",
    "first_days = first_days[first_days['banner_id'] == first_days['banner_id0']]\n",
    "\n",
    "# Удаляем nan из колонок 'coeff_sum0', 'coeff_sum0', 'g0', 'g1' для последнего дня\n",
    "last_day = data[data['date_time'].dt.date == dt.date(2021, 10, 2)]\n",
    "last_day = last_day[last_day['banner_id'] == last_day['banner_id0']]\n",
    "last_day = last_day.dropna(subset=['coeff_sum0', 'coeff_sum0', 'g0', 'g1'])"
   ]
  },
  {
   "cell_type": "markdown",
   "id": "48412e14",
   "metadata": {},
   "source": [
    "В 1м ДЗ в модели я использовал интеракции zone_id и banner_id, а также weekday и hour. Но так как здесь необходимо отдельно рассматривать banner_id0 и banner_id1, я не нашел способа сделать это при помощи трансформаций из sklearn, поэтому упростил модель из 1го ДЗ, убрав все интерацкии категориальных переменных."
   ]
  },
  {
   "cell_type": "code",
   "execution_count": 6,
   "id": "76525d56",
   "metadata": {},
   "outputs": [
    {
     "name": "stdout",
     "output_type": "stream",
     "text": [
      "CPU times: user 6.7 s, sys: 1.91 s, total: 8.61 s\n",
      "Wall time: 8.88 s\n"
     ]
    },
    {
     "data": {
      "text/plain": [
       "ColumnTransformer(transformers=[('banner_one_hot',\n",
       "                                 OneHotEncoder(handle_unknown='ignore'), [0]),\n",
       "                                ('others_one_hot',\n",
       "                                 OneHotEncoder(handle_unknown='ignore'),\n",
       "                                 [1, 2, 3, 4, 5])])"
      ]
     },
     "execution_count": 6,
     "metadata": {},
     "output_type": "execute_result"
    }
   ],
   "source": [
    "%%time\n",
    "# на вход препроцессору первой подается колонка 'banner_id', и потом следующие фичи:\n",
    "non_banner_features = ['hour', 'weekday', 'zone_id', 'os_id', 'country_id']\n",
    "\n",
    "transforms = ColumnTransformer([\n",
    "    ('banner_one_hot', OneHotEncoder(sparse=True, handle_unknown= 'ignore'), [0]),\n",
    "    ('others_one_hot', OneHotEncoder(sparse=True, handle_unknown= 'ignore'), [1, 2, 3, 4, 5]),\n",
    "])\n",
    "\n",
    "transforms.fit(first_days[['banner_id'] + non_banner_features].to_numpy())"
   ]
  },
  {
   "cell_type": "code",
   "execution_count": 7,
   "id": "0278d7dd",
   "metadata": {},
   "outputs": [
    {
     "name": "stdout",
     "output_type": "stream",
     "text": [
      "CPU times: user 6.84 s, sys: 1.65 s, total: 8.49 s\n",
      "Wall time: 8.58 s\n"
     ]
    }
   ],
   "source": [
    "%%time\n",
    "# Получаем обработанный обучающий датасет, и 2 тестовых для 'banner_id0' и 'banner_id1'\n",
    "X_train = transforms.transform(first_days[['banner_id'] + non_banner_features].to_numpy())\n",
    "X_test0 = transforms.transform(last_day[['banner_id0'] + non_banner_features].to_numpy())\n",
    "X_test1 = transforms.transform(last_day[['banner_id1'] + non_banner_features].to_numpy())"
   ]
  },
  {
   "cell_type": "code",
   "execution_count": 8,
   "id": "80f7d09d",
   "metadata": {},
   "outputs": [
    {
     "name": "stdout",
     "output_type": "stream",
     "text": [
      "CPU times: user 1min 42s, sys: 5.99 s, total: 1min 48s\n",
      "Wall time: 39.6 s\n"
     ]
    },
    {
     "data": {
      "text/plain": [
       "LogisticRegression(C=0.1, solver='liblinear')"
      ]
     },
     "execution_count": 8,
     "metadata": {},
     "output_type": "execute_result"
    }
   ],
   "source": [
    "%%time\n",
    "# Логостическая регрессия с регуляризацией как в 1м ДЗ\n",
    "clf = LogisticRegression(solver='liblinear', C=0.1)\n",
    "clf.fit(X_train, first_days['clicks'])"
   ]
  },
  {
   "cell_type": "code",
   "execution_count": 9,
   "id": "8e1cc9a8",
   "metadata": {},
   "outputs": [],
   "source": [
    "# Предсказываем вероятности клика по баннерам\n",
    "p_0 = clf.predict_proba(X_test0)[:, 1] # banner_id0\n",
    "p_1 = clf.predict_proba(X_test1)[:, 1] # banner_id1"
   ]
  },
  {
   "cell_type": "code",
   "execution_count": 15,
   "id": "f3aa612c",
   "metadata": {},
   "outputs": [
    {
     "name": "stdout",
     "output_type": "stream",
     "text": [
      "log_loss: 0.13472047142122448\n",
      "auc:      0.7905233278299567\n"
     ]
    }
   ],
   "source": [
    "# Можем посчитать метрики, используя p_0, так как banner_id == banner_id0\n",
    "print(f'log_loss: {log_loss(last_day[\"clicks\"], p_0)}')\n",
    "print(f'auc:      {roc_auc_score(last_day[\"clicks\"], p_0)}')"
   ]
  },
  {
   "cell_type": "markdown",
   "id": "bc2e0cc1",
   "metadata": {},
   "source": [
    "### Вероятность что одна нормально распределенная с. в. больше другой:\n",
    "\n",
    "$X_0 \\sim \\mathcal{N}(\\texttt{coeff_sum0}, \\texttt{g0}^2) \\quad ; \\quad X_1 \\sim \\mathcal{N}(\\texttt{coeff_sum1}, \\texttt{g1}^2)\\quad $\n",
    "\n",
    "пусть $D = X_1 - X_0$, тогда\n",
    "\n",
    "$D \\sim \\mathcal{N}(\\texttt{coeff_sum1} - \\texttt{coeff_sum0}, \\texttt{g0}^2 + \\texttt{g1}^2)$\n",
    "\n",
    "$P(X_0 > X_1) = P((X_1 - X_0) < 0) = P(D < 0) = F\\left(\\dfrac{0 - (\\texttt{coeff_sum1} - \\texttt{coeff_sum0})}{\\sqrt{\\texttt{g0}^2 + \\texttt{g1}^2)}}\\right) = F\\left(\\dfrac{\\texttt{coeff_sum0} - \\texttt{coeff_sum1})}{\\sqrt{\\texttt{g0}^2 + \\texttt{g1}^2)}}\\right)$"
   ]
  },
  {
   "cell_type": "code",
   "execution_count": 137,
   "id": "643aec3f",
   "metadata": {},
   "outputs": [
    {
     "name": "stdout",
     "output_type": "stream",
     "text": [
      "Осталось 0.91% данных\n",
      "min(pi_0) = 2.24e-308\n"
     ]
    }
   ],
   "source": [
    "# Считаем pi_0 по формуле выше\n",
    "pi_0 = norm.cdf(\n",
    "    (last_day['coeff_sum0'] - last_day['coeff_sum1']) / \n",
    "    np.sqrt(last_day['g0'] ** 2 + last_day['g1'] ** 2))\n",
    "\n",
    "# Считаем pi_1 заменяя coeff_sum0 и coeff_sum1 на логиты от предсказанных вероятностей\n",
    "pi_1 = norm.cdf(\n",
    "    (logit(p_0) - logit(p_1)) / \n",
    "    np.sqrt(last_day['g0'] ** 2 + last_day['g1'] ** 2))\n",
    "\n",
    "# В процессе вычисления появились nan, inf и близкие к 0 значения pi_0, на которых возникает ошибка деления\n",
    "# Отфильтруем такие значения\n",
    "mask = np.isfinite(pi_0) * np.isfinite(pi_1) * (abs(pi_0) > np.finfo(np.float64).tiny)\n",
    "print(f'Осталось {mask.sum() / len(pi_0):.2f}% данных')\n",
    "print(f'min(pi_0) = {pi_0[mask].min():.2e}')"
   ]
  },
  {
   "cell_type": "code",
   "execution_count": 145,
   "id": "2e1b3de7",
   "metadata": {},
   "outputs": [
    {
     "name": "stdout",
     "output_type": "stream",
     "text": [
      "V_cips = 0.066 при lambda = 10\n"
     ]
    }
   ],
   "source": [
    "V_cips = np.mean(last_day['clicks'][mask] * np.minimum(pi_1[mask] / pi_0[mask], LAMBDA))\n",
    "print(f'V_cips = {V_cips:.3f} при lambda = {LAMBDA}')"
   ]
  },
  {
   "cell_type": "markdown",
   "id": "8b37e6e1",
   "metadata": {},
   "source": [
    "### Выбор параметра регуляризации логистической регресии на основе метрики $\\hat{V}_{CIPS}(\\pi, D_0)$"
   ]
  },
  {
   "cell_type": "code",
   "execution_count": 213,
   "id": "63933eac",
   "metadata": {},
   "outputs": [
    {
     "data": {
      "application/vnd.jupyter.widget-view+json": {
       "model_id": "52d8579010244d1eae869d1ea87fb783",
       "version_major": 2,
       "version_minor": 0
      },
      "text/plain": [
       "  0%|          | 0/5 [00:00<?, ?it/s]"
      ]
     },
     "metadata": {},
     "output_type": "display_data"
    },
    {
     "data": {
      "image/png": "[encoded data removed]",
      "text/plain": [
       "<Figure size 1080x288 with 3 Axes>"
      ]
     },
     "metadata": {
      "needs_background": "light"
     },
     "output_type": "display_data"
    },
    {
     "name": "stdout",
     "output_type": "stream",
     "text": [
      "максимальный V_cips = 0.070 при регуляризации С = 0.001\n"
     ]
    }
   ],
   "source": [
    "C = [.0001, .001, .01, .1, 1]\n",
    "\n",
    "def calc_V_cips(c):\n",
    "    # Логостическая регрессия с заданым параметром регуляризации\n",
    "    clf = LogisticRegression(solver='liblinear', C=c)\n",
    "    clf.fit(X_train, first_days['clicks'])\n",
    "    \n",
    "    # Предсказываем вероятности клика по баннерам\n",
    "    p_0 = clf.predict_proba(X_test0)[:, 1] # banner_id0\n",
    "    p_1 = clf.predict_proba(X_test1)[:, 1] # banner_id1\n",
    "    \n",
    "    # Считаем log_loss и auc (для графиков)\n",
    "    loss = log_loss(last_day[\"clicks\"], p_0)\n",
    "    auc = roc_auc_score(last_day[\"clicks\"], p_0)\n",
    "    \n",
    "    # Считаем pi_0\n",
    "    pi_0 = norm.cdf(\n",
    "        (last_day['coeff_sum0'] - last_day['coeff_sum1']) / \n",
    "        np.sqrt(last_day['g0'] ** 2 + last_day['g1'] ** 2))\n",
    "\n",
    "    # Считаем pi_1\n",
    "    pi_1 = norm.cdf(\n",
    "        (logit(p_0) - logit(p_1)) / \n",
    "        np.sqrt(last_day['g0'] ** 2 + last_day['g1'] ** 2))\n",
    "    \n",
    "    # Фильтруем значения\n",
    "    mask = np.isfinite(pi_0) * np.isfinite(pi_1) * (abs(pi_0) > np.finfo(np.float64).tiny)\n",
    "    \n",
    "    # Считаем V_cips\n",
    "    V_cips = np.mean(last_day['clicks'][mask] * np.minimum(pi_1[mask] / pi_0[mask], LAMBDA))\n",
    "    \n",
    "    return loss, auc, V_cips\n",
    "\n",
    "\n",
    "def show_result():\n",
    "\n",
    "    losses = [None] * len(C)\n",
    "    aucs = [None] * len(C)\n",
    "    Vs_cips = [None] * len(C)\n",
    "\n",
    "    for i, c in (enumerate(pbar := tqdm(C))):\n",
    "        pbar.set_description(f\"processing C = {c}\")\n",
    "\n",
    "        loss, auc, V_cips = calc_V_cips(c)\n",
    "\n",
    "        losses[i] = loss\n",
    "        aucs[i] = auc\n",
    "        Vs_cips[i] = V_cips\n",
    "        \n",
    "    # График\n",
    "    fig, ax = plt.subplots(1, 3, figsize=(15, 4))\n",
    "    ax[0].plot(x, losses)\n",
    "    ax[0].set_ylabel('log_loss')\n",
    "\n",
    "    ax[1].plot(x, aucs)\n",
    "    ax[1].set_ylabel('auc')\n",
    "\n",
    "    ax[2].plot(x, Vs_cips)\n",
    "    ax[2].set_ylabel('V_cips')\n",
    "\n",
    "    [a.set_xlabel('C') for a in ax]\n",
    "    [a.set_xticks(x) for a in ax]\n",
    "    [a.set_xticklabels(C) for a in ax]\n",
    "\n",
    "    plt.show()\n",
    "\n",
    "    print(f'максимальный V_cips = {np.max(Vs_cips):.3f} при регуляризации С = {C[np.argmax(Vs_cips)]}')\n",
    "        \n",
    "show_result()"
   ]
  },
  {
   "cell_type": "markdown",
   "id": "5ccdd7b6",
   "metadata": {},
   "source": [
    "### Выводы\n",
    "\n",
    "По графикам видно, что метрика ${V}_{CIPS}$ действительно не коррелирует с log-loss и auc. В то время как минимум log-loss и максимум auc достигается при регуляризации $C = 0.1$, максимум ${V}_{CIPS}$ достигается при $C = 0.001$, а при больших значениях регуляризации начинает стремительно падать."
   ]
  },
  {
   "cell_type": "code",
   "execution_count": null,
   "id": "9d10968d",
   "metadata": {},
   "outputs": [],
   "source": []
  }
 ],
 "metadata": {
  "kernelspec": {
   "display_name": "Python 3 (ipykernel)",
   "language": "python",
   "name": "python3"
  },
  "language_info": {
   "codemirror_mode": {
    "name": "ipython",
    "version": 3
   },
   "file_extension": ".py",
   "mimetype": "text/x-python",
   "name": "python",
   "nbconvert_exporter": "python",
   "pygments_lexer": "ipython3",
   "version": "3.9.12"
  }
 },
 "nbformat": 4,
 "nbformat_minor": 5
}
