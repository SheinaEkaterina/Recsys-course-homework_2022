{
 "cells": [
  {
   "cell_type": "code",
   "execution_count": 51,
   "metadata": {
    "collapsed": true
   },
   "outputs": [],
   "source": [
    "import numpy as np\n",
    "import pandas as pd\n",
    "from sklearn.linear_model import LogisticRegression\n",
    "from sklearn.metrics import roc_auc_score, log_loss\n",
    "from sklearn.preprocessing import OneHotEncoder\n",
    "from scipy.stats import norm\n",
    "from scipy.special import logit"
   ]
  },
  {
   "cell_type": "code",
   "execution_count": 52,
   "outputs": [],
   "source": [
    "data = pd.read_csv('../data/data.csv').sample(frac=0.01, random_state=1)"
   ],
   "metadata": {
    "collapsed": false
   }
  },
  {
   "cell_type": "code",
   "execution_count": 53,
   "outputs": [],
   "source": [
    "columns = []\n",
    "columns += [\"date_time\", \"zone_id\", \"banner_id\", \"os_id\", \"country_id\", \"clicks\" ]\n",
    "columns += [\"banner_id0\", \"banner_id1\", \"g0\", \"g1\", \"coeff_sum0\", \"coeff_sum1\" ]\n",
    "data = data[columns]"
   ],
   "metadata": {
    "collapsed": false
   }
  },
  {
   "cell_type": "code",
   "execution_count": 54,
   "outputs": [],
   "source": [
    "data['date_time'] = pd.to_datetime(data['date_time'])"
   ],
   "metadata": {
    "collapsed": false
   }
  },
  {
   "cell_type": "code",
   "execution_count": 55,
   "outputs": [],
   "source": [
    "data = data[data['banner_id'] == data['banner_id0']] # по условию\n",
    "data = data[(data['g0'] > 1e-6) & (data['g1'] > 1e-6)] # оставляем только адекватые значения"
   ],
   "metadata": {
    "collapsed": false
   }
  },
  {
   "cell_type": "markdown",
   "source": [
    "Выделим в valid_raw часть последний день, в train_raw - все кроме последнего.\n",
    "train_c - категориальные признаки из train_raw,  valid_c - категориальные признаки из valid_raw"
   ],
   "metadata": {
    "collapsed": false
   }
  },
  {
   "cell_type": "code",
   "execution_count": 56,
   "outputs": [],
   "source": [
    "train_raw = data[data['date_time'].dt.date != data['date_time'].dt.date.max()]\n",
    "valid_raw = data[data['date_time'].dt.date == data['date_time'].dt.date.max()]\n",
    "\n",
    "train_categ = train_raw[[\"zone_id\", \"banner_id\", \"os_id\", \"country_id\"]]\n",
    "valid_categ = valid_raw[[\"zone_id\", \"banner_id\", \"os_id\", \"country_id\"]]"
   ],
   "metadata": {
    "collapsed": false
   }
  },
  {
   "cell_type": "code",
   "execution_count": 57,
   "outputs": [],
   "source": [
    "valid_2_categ = valid_categ.copy()\n",
    "valid_2_categ['banner_id'] = valid_raw['banner_id1']"
   ],
   "metadata": {
    "collapsed": false
   }
  },
  {
   "cell_type": "markdown",
   "source": [
    "Закодируем категории с помощью One-Hot-Encoding"
   ],
   "metadata": {
    "collapsed": false
   }
  },
  {
   "cell_type": "code",
   "execution_count": 58,
   "outputs": [],
   "source": [
    "ohe = OneHotEncoder(handle_unknown='ignore', max_categories=10**3).fit(train_categ)"
   ],
   "metadata": {
    "collapsed": false
   }
  },
  {
   "cell_type": "code",
   "execution_count": 59,
   "outputs": [],
   "source": [
    "train_categ_ohe_matrix = ohe.transform(train_categ)\n",
    "valid_categ_ohe_matrix = ohe.transform(valid_categ)\n",
    "valid_2_categ_ohe_matrix = ohe.transform(valid_2_categ)"
   ],
   "metadata": {
    "collapsed": false
   }
  },
  {
   "cell_type": "code",
   "execution_count": 60,
   "outputs": [],
   "source": [
    "col_names = [f'f_{i}' for i in range(train_categ_ohe_matrix.shape[1])]\n",
    "train_c_ohe = pd.DataFrame.sparse.from_spmatrix(train_categ_ohe_matrix, columns=col_names)\n",
    "valid_c_ohe = pd.DataFrame.sparse.from_spmatrix(valid_categ_ohe_matrix, columns=col_names)\n",
    "valid_2_c_ohe = pd.DataFrame.sparse.from_spmatrix(valid_2_categ_ohe_matrix, columns=col_names)"
   ],
   "metadata": {
    "collapsed": false
   }
  },
  {
   "cell_type": "code",
   "execution_count": 61,
   "outputs": [],
   "source": [
    "x_train = train_c_ohe\n",
    "y_train = train_raw['clicks']\n",
    "\n",
    "x_valid = valid_c_ohe\n",
    "y_valid = valid_raw['clicks']\n",
    "\n",
    "x_valid_2 = valid_2_c_ohe\n",
    "y_valid_2 = valid_raw['clicks']"
   ],
   "metadata": {
    "collapsed": false
   }
  },
  {
   "cell_type": "markdown",
   "source": [
    "Возьмем логистическую регрессию с солвером liblinear (не SGD)."
   ],
   "metadata": {
    "collapsed": false
   }
  },
  {
   "cell_type": "code",
   "execution_count": 62,
   "outputs": [],
   "source": [
    "def get_model(c):\n",
    "    return LogisticRegression(solver='liblinear', C=c, random_state=0)"
   ],
   "metadata": {
    "collapsed": false
   }
  },
  {
   "cell_type": "markdown",
   "source": [
    "Проверим модель на valid части"
   ],
   "metadata": {
    "collapsed": false
   }
  },
  {
   "cell_type": "code",
   "execution_count": 63,
   "outputs": [
    {
     "name": "stdout",
     "output_type": "stream",
     "text": [
      "auc = 0.7938738169726371\n",
      "log_loss = 0.13456146021263932\n"
     ]
    }
   ],
   "source": [
    "model = get_model(1)\n",
    "model.fit(x_train, y_train)\n",
    "\n",
    "y_pred = model.predict(x_valid)\n",
    "auc_model = roc_auc_score(y_valid, model.predict_proba(x_valid)[:, 1])\n",
    "ll_model = log_loss(y_valid, model.predict_proba(x_valid))\n",
    "print(f'auc = {auc_model}')\n",
    "print(f'log_loss = {ll_model}')"
   ],
   "metadata": {
    "collapsed": false
   }
  },
  {
   "cell_type": "code",
   "execution_count": 64,
   "outputs": [],
   "source": [
    "def get_pi(m0, g0, m1, g1):\n",
    "    ans = norm.sf(0, loc=(m0 - m1), scale=(g0 ** 2 + g1 ** 2)**0.5)\n",
    "    print(f'ans = {ans}')\n",
    "    return ans"
   ],
   "metadata": {
    "collapsed": false
   }
  },
  {
   "cell_type": "code",
   "execution_count": 65,
   "outputs": [
    {
     "name": "stdout",
     "output_type": "stream",
     "text": [
      "ans = [0.99531359 0.99995273 0.50358735 ... 0.34792342 0.21687514 0.31317917]\n"
     ]
    }
   ],
   "source": [
    "pi_0 = get_pi(valid_raw['coeff_sum0'], valid_raw['g0'], valid_raw['coeff_sum1'], valid_raw['g1'])"
   ],
   "metadata": {
    "collapsed": false
   }
  },
  {
   "cell_type": "code",
   "execution_count": 66,
   "outputs": [
    {
     "name": "stdout",
     "output_type": "stream",
     "text": [
      "ans = [4.25125685e-01 1.00000000e+00 1.00000000e+00 ... 6.18218558e-40\n",
      " 3.60026346e-14 8.63698523e-03]\n"
     ]
    }
   ],
   "source": [
    "coeff_sum0_new = logit(model.predict_proba(x_valid)[:, 1])\n",
    "coeff_sum1_new = logit(model.predict_proba(x_valid_2)[:, 1])\n",
    "pi_1 = get_pi(coeff_sum0_new, valid_raw['g0'], coeff_sum1_new, valid_raw['g1'])"
   ],
   "metadata": {
    "collapsed": false
   }
  },
  {
   "cell_type": "code",
   "execution_count": 67,
   "outputs": [
    {
     "name": "stdout",
     "output_type": "stream",
     "text": [
      "0.056865539852275174\n"
     ]
    }
   ],
   "source": [
    "cips = np.mean(y_valid * np.minimum(pi_1 / np.maximum(pi_0, + 1e-10), 10))\n",
    "print(cips)"
   ],
   "metadata": {
    "collapsed": false
   }
  }
 ],
 "metadata": {
  "kernelspec": {
   "display_name": "Python 3",
   "language": "python",
   "name": "python3"
  },
  "language_info": {
   "codemirror_mode": {
    "name": "ipython",
    "version": 2
   },
   "file_extension": ".py",
   "mimetype": "text/x-python",
   "name": "python",
   "nbconvert_exporter": "python",
   "pygments_lexer": "ipython2",
   "version": "2.7.6"
  }
 },
 "nbformat": 4,
 "nbformat_minor": 0
}
