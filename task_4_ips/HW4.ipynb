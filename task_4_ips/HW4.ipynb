{
 "cells": [
  {
   "cell_type": "code",
   "execution_count": 1,
   "metadata": {},
   "outputs": [],
   "source": [
    "from pathlib import Path\n",
    "import pickle"
   ]
  },
  {
   "cell_type": "code",
   "execution_count": 2,
   "metadata": {},
   "outputs": [
    {
     "data": {
      "text/plain": [
       "{'weekday': array([6, 6, 0, ..., 4, 2, 1]),\n",
       " 'hour': array([22, 23,  0, ..., 20,  0,  7]),\n",
       " 'zone_id': <12056598x773 sparse matrix of type '<class 'numpy.float64'>'\n",
       " \twith 12056598 stored elements in Compressed Sparse Row format>,\n",
       " 'banner_id': <12056598x1203 sparse matrix of type '<class 'numpy.float64'>'\n",
       " \twith 12056598 stored elements in Compressed Sparse Row format>,\n",
       " 'banner_id1': <12056598x1203 sparse matrix of type '<class 'numpy.float64'>'\n",
       " \twith 12056598 stored elements in Compressed Sparse Row format>,\n",
       " 'os_id': <12056598x8 sparse matrix of type '<class 'numpy.float64'>'\n",
       " \twith 12056598 stored elements in Compressed Sparse Row format>,\n",
       " 'country_id': <12056598x17 sparse matrix of type '<class 'numpy.float64'>'\n",
       " \twith 12056598 stored elements in Compressed Sparse Row format>,\n",
       " 'coeff_sum0': array([[-2.65747711],\n",
       "        [-3.82487474],\n",
       "        [-3.46135677],\n",
       "        ...,\n",
       "        [-4.06603465],\n",
       "        [-3.02575782],\n",
       "        [-4.89895659]]),\n",
       " 'coeff_sum1': array([[-4.44922015],\n",
       "        [-3.93930943],\n",
       "        [-3.41840292],\n",
       "        ...,\n",
       "        [-4.05219812],\n",
       "        [-3.06385826],\n",
       "        [-4.95150487]]),\n",
       " 'g0': array([[0.0542981 ],\n",
       "        [0.01409616],\n",
       "        [0.0152322 ],\n",
       "        ...,\n",
       "        [0.0496596 ],\n",
       "        [0.08390118],\n",
       "        [0.05852998]]),\n",
       " 'g1': array([[0.03194176],\n",
       "        [0.01490643],\n",
       "        [0.05067058],\n",
       "        ...,\n",
       "        [0.05172834],\n",
       "        [0.08386497],\n",
       "        [0.07814366]])}"
      ]
     },
     "execution_count": 2,
     "metadata": {},
     "output_type": "execute_result"
    }
   ],
   "source": [
    "DATA_DIR = Path(\"../data/processed\")\n",
    "\n",
    "with open(DATA_DIR / \"train.pkl\", \"rb\") as fin:\n",
    "    train_data = pickle.load(fin)\n",
    "with open(DATA_DIR / \"test.pkl\", \"rb\") as fin:\n",
    "    test_data = pickle.load(fin)\n",
    "\n",
    "train_data"
   ]
  },
  {
   "cell_type": "code",
   "execution_count": null,
   "metadata": {},
   "outputs": [],
   "source": []
  }
 ],
 "metadata": {
  "kernelspec": {
   "display_name": "code",
   "language": "python",
   "name": "python3"
  },
  "language_info": {
   "codemirror_mode": {
    "name": "ipython",
    "version": 3
   },
   "file_extension": ".py",
   "mimetype": "text/x-python",
   "name": "python",
   "nbconvert_exporter": "python",
   "pygments_lexer": "ipython3",
   "version": "3.10.6"
  },
  "orig_nbformat": 4,
  "vscode": {
   "interpreter": {
    "hash": "49448eeb8252ad14269e9870f41be38726e4e73e71663eea00cd1e0ba3be12df"
   }
  }
 },
 "nbformat": 4,
 "nbformat_minor": 2
}
