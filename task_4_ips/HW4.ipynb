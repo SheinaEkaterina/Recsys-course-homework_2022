{
 "cells": [
  {
   "cell_type": "markdown",
   "metadata": {},
   "source": [
    "# Imports"
   ]
  },
  {
   "cell_type": "code",
   "execution_count": 1,
   "metadata": {
    "tags": []
   },
   "outputs": [],
   "source": [
    "from pathlib import Path\n",
    "from tqdm.notebook import tqdm \n",
    "\n",
    "from sklearn.metrics import log_loss, roc_auc_score\n",
    "from sklearn.linear_model import LogisticRegression\n",
    "from sklearn.model_selection import TimeSeriesSplit\n",
    "from sklearn.preprocessing import OneHotEncoder\n",
    "\n",
    "from category_encoders import TargetEncoder\n",
    "from scipy.sparse import hstack\n",
    "from scipy.special import logit\n",
    "\n",
    "import scipy.stats as ss\n",
    "import pandas as pd\n",
    "import numpy as np\n",
    "import seaborn as sns\n",
    "import datetime\n",
    "import matplotlib.pyplot as plt\n",
    "%matplotlib inline"
   ]
  },
  {
   "cell_type": "code",
   "execution_count": 2,
   "metadata": {},
   "outputs": [],
   "source": [
    "SEED = 0"
   ]
  },
  {
   "cell_type": "markdown",
   "metadata": {},
   "source": [
    "# Data\n",
    "\n",
    "Считываем данные, дропаем запрещенные столбцы. "
   ]
  },
  {
   "cell_type": "code",
   "execution_count": 3,
   "metadata": {
    "collapsed": false,
    "jupyter": {
     "outputs_hidden": false
    },
    "pycharm": {
     "name": "#%%\n"
    }
   },
   "outputs": [
    {
     "name": "stdout",
     "output_type": "stream",
     "text": [
      "CPU times: total: 57.7 s\n",
      "Wall time: 57.8 s\n"
     ]
    },
    {
     "data": {
      "text/html": [
       "<div>\n",
       "<style scoped>\n",
       "    .dataframe tbody tr th:only-of-type {\n",
       "        vertical-align: middle;\n",
       "    }\n",
       "\n",
       "    .dataframe tbody tr th {\n",
       "        vertical-align: top;\n",
       "    }\n",
       "\n",
       "    .dataframe thead th {\n",
       "        text-align: right;\n",
       "    }\n",
       "</style>\n",
       "<table border=\"1\" class=\"dataframe\">\n",
       "  <thead>\n",
       "    <tr style=\"text-align: right;\">\n",
       "      <th></th>\n",
       "      <th>date_time</th>\n",
       "      <th>zone_id</th>\n",
       "      <th>banner_id</th>\n",
       "      <th>os_id</th>\n",
       "      <th>country_id</th>\n",
       "      <th>banner_id0</th>\n",
       "      <th>rate0</th>\n",
       "      <th>g0</th>\n",
       "      <th>coeff_sum0</th>\n",
       "      <th>banner_id1</th>\n",
       "      <th>rate1</th>\n",
       "      <th>g1</th>\n",
       "      <th>coeff_sum1</th>\n",
       "      <th>impressions</th>\n",
       "      <th>clicks</th>\n",
       "    </tr>\n",
       "  </thead>\n",
       "  <tbody>\n",
       "    <tr>\n",
       "      <th>0</th>\n",
       "      <td>2021-09-01 00:02:49.000000</td>\n",
       "      <td>30</td>\n",
       "      <td>596</td>\n",
       "      <td>0</td>\n",
       "      <td>7</td>\n",
       "      <td>596</td>\n",
       "      <td>0.050</td>\n",
       "      <td>0.064560</td>\n",
       "      <td>-4.312062</td>\n",
       "      <td>603</td>\n",
       "      <td>0.050</td>\n",
       "      <td>0.056510</td>\n",
       "      <td>-4.370191</td>\n",
       "      <td>1</td>\n",
       "      <td>0</td>\n",
       "    </tr>\n",
       "    <tr>\n",
       "      <th>1</th>\n",
       "      <td>2021-09-26 00:00:00.000000</td>\n",
       "      <td>243</td>\n",
       "      <td>21</td>\n",
       "      <td>0</td>\n",
       "      <td>0</td>\n",
       "      <td>21</td>\n",
       "      <td>0.014</td>\n",
       "      <td>0.040261</td>\n",
       "      <td>-3.638218</td>\n",
       "      <td>2</td>\n",
       "      <td>0.014</td>\n",
       "      <td>0.044512</td>\n",
       "      <td>-3.663210</td>\n",
       "      <td>1</td>\n",
       "      <td>0</td>\n",
       "    </tr>\n",
       "    <tr>\n",
       "      <th>2</th>\n",
       "      <td>2021-09-26 00:00:00.000000</td>\n",
       "      <td>0</td>\n",
       "      <td>7</td>\n",
       "      <td>4</td>\n",
       "      <td>1</td>\n",
       "      <td>7</td>\n",
       "      <td>0.010</td>\n",
       "      <td>0.016867</td>\n",
       "      <td>-4.164291</td>\n",
       "      <td>89</td>\n",
       "      <td>0.010</td>\n",
       "      <td>0.063781</td>\n",
       "      <td>-4.252917</td>\n",
       "      <td>1</td>\n",
       "      <td>0</td>\n",
       "    </tr>\n",
       "    <tr>\n",
       "      <th>3</th>\n",
       "      <td>2021-09-26 00:00:00.000000</td>\n",
       "      <td>47</td>\n",
       "      <td>73</td>\n",
       "      <td>4</td>\n",
       "      <td>13</td>\n",
       "      <td>73</td>\n",
       "      <td>0.008</td>\n",
       "      <td>0.120974</td>\n",
       "      <td>-2.382508</td>\n",
       "      <td>1040</td>\n",
       "      <td>0.008</td>\n",
       "      <td>0.157515</td>\n",
       "      <td>-3.037939</td>\n",
       "      <td>1</td>\n",
       "      <td>0</td>\n",
       "    </tr>\n",
       "    <tr>\n",
       "      <th>4</th>\n",
       "      <td>2021-09-26 00:00:00.000000</td>\n",
       "      <td>11</td>\n",
       "      <td>28</td>\n",
       "      <td>3</td>\n",
       "      <td>5</td>\n",
       "      <td>28</td>\n",
       "      <td>0.003</td>\n",
       "      <td>0.011322</td>\n",
       "      <td>-2.605170</td>\n",
       "      <td>18</td>\n",
       "      <td>0.004</td>\n",
       "      <td>0.050958</td>\n",
       "      <td>-2.946735</td>\n",
       "      <td>1</td>\n",
       "      <td>0</td>\n",
       "    </tr>\n",
       "  </tbody>\n",
       "</table>\n",
       "</div>"
      ],
      "text/plain": [
       "                    date_time  zone_id  banner_id  os_id  country_id  \\\n",
       "0  2021-09-01 00:02:49.000000       30        596      0           7   \n",
       "1  2021-09-26 00:00:00.000000      243         21      0           0   \n",
       "2  2021-09-26 00:00:00.000000        0          7      4           1   \n",
       "3  2021-09-26 00:00:00.000000       47         73      4          13   \n",
       "4  2021-09-26 00:00:00.000000       11         28      3           5   \n",
       "\n",
       "   banner_id0  rate0        g0  coeff_sum0  banner_id1  rate1        g1  \\\n",
       "0         596  0.050  0.064560   -4.312062         603  0.050  0.056510   \n",
       "1          21  0.014  0.040261   -3.638218           2  0.014  0.044512   \n",
       "2           7  0.010  0.016867   -4.164291          89  0.010  0.063781   \n",
       "3          73  0.008  0.120974   -2.382508        1040  0.008  0.157515   \n",
       "4          28  0.003  0.011322   -2.605170          18  0.004  0.050958   \n",
       "\n",
       "   coeff_sum1  impressions  clicks  \n",
       "0   -4.370191            1       0  \n",
       "1   -3.663210            1       0  \n",
       "2   -4.252917            1       0  \n",
       "3   -3.037939            1       0  \n",
       "4   -2.946735            1       0  "
      ]
     },
     "execution_count": 3,
     "metadata": {},
     "output_type": "execute_result"
    }
   ],
   "source": [
    "%%time\n",
    "\n",
    "data_raw = pd.read_csv('../data.csv').drop([\n",
    "    \"oaid_hash\",\n",
    "    \"campaign_clicks\"\n",
    "], axis=1)\n",
    "data_raw = data_raw.dropna() \n",
    "data_raw = data_raw.sort_values(\"date_time\").reset_index().drop(\"index\", axis=1)\n",
    "\n",
    "data = data_raw.copy()\n",
    "data.head()"
   ]
  },
  {
   "cell_type": "markdown",
   "metadata": {},
   "source": [
    "# Preprocessing"
   ]
  },
  {
   "cell_type": "markdown",
   "metadata": {},
   "source": [
    "Использую тот же препроцессинг, что и в первой домашке"
   ]
  },
  {
   "cell_type": "code",
   "execution_count": 5,
   "metadata": {
    "collapsed": false,
    "jupyter": {
     "outputs_hidden": false
    },
    "pycharm": {
     "name": "#%%\n"
    }
   },
   "outputs": [],
   "source": [
    "def preprocessing(data: pd.DataFrame):\n",
    "    # Неинформативная и забаненная фичи\n",
    "    data = data.drop([\"impressions\"], axis=1)\n",
    "     \n",
    "    # приводим к нормальному типу\n",
    "    data[\"date_time\"] = pd.to_datetime(data['date_time'])\n",
    "    \n",
    "    # Временные фичи\n",
    "    data['month'] = data['date_time'].dt.month\n",
    "    data['day_of_week'] = data['date_time'].dt.dayofweek\n",
    "    data['day_of_week_t'] = data['date_time'].dt.dayofweek\n",
    "    data['is_weekend'] = data['day_of_week'] >= 5\n",
    "    data['hour'] = data['date_time'].dt.hour\n",
    "    data['hour_t'] = data['date_time'].dt.hour\n",
    "    \n",
    "    last_day = datetime.date(2021, 10, 2)\n",
    "    is_last_day_mask = (data['date_time'].dt.date == last_day)\n",
    "    \n",
    "    ##### Все считаем по трейну чтобы не было ликов\n",
    "    # Флаги на топовые зоны \\ баннеры\n",
    "    top_zones = set(data[\"zone_id\"][~is_last_day_mask].value_counts().head(3).index)\n",
    "    data[\"is_top3_zone\"] = data[\"zone_id\"].apply(lambda x: x in top_zones)\n",
    "\n",
    "    top_zones = set(data[\"zone_id\"][~is_last_day_mask].value_counts().head(5).index)\n",
    "    data[\"is_top5_zone\"] = data[\"zone_id\"].apply(lambda x: x in top_zones)\n",
    "\n",
    "    top_zones = set(data[\"zone_id\"][~is_last_day_mask].value_counts().head(20).index)\n",
    "    data[\"is_top20_zone\"] = data[\"zone_id\"].apply(lambda x: x in top_zones)\n",
    "    \n",
    "    top_banners = set(data[\"banner_id\"][~is_last_day_mask].value_counts().head(3).index)\n",
    "    data[\"is_top3_banner\"] = data[\"banner_id\"].apply(lambda x: x in top_banners)\n",
    "\n",
    "    top_banners = set(data[\"banner_id\"][~is_last_day_mask].value_counts().head(5).index)\n",
    "    data[\"is_top5_banner\"] = data[\"banner_id\"].apply(lambda x: x in top_banners)\n",
    "\n",
    "    top_banners = set(data[\"banner_id\"][~is_last_day_mask].value_counts().head(20).index)\n",
    "    data[\"is_top20_banner\"] = data[\"banner_id\"].apply(lambda x: x in top_banners)\n",
    "    \n",
    "    \n",
    "    # формируем трейн и тест\n",
    "    data_train = data[~is_last_day_mask & (data['banner_id'] == data['banner_id0'])]\n",
    "    data_test = data[is_last_day_mask & (data['banner_id'] == data['banner_id0'])].dropna(subset=['g0', 'g1', 'coeff_sum0', 'coeff_sum0'])\n",
    "    \n",
    "    # OHE категориальных фичей\n",
    "    cat_features = [\"zone_id\", 'month', 'os_id', 'country_id', 'hour', 'day_of_week', \"banner_id\"]\n",
    "    ohe_encoder = OneHotEncoder(handle_unknown='ignore', sparse=True, drop='first')\n",
    "    X_train_cat = ohe_encoder.fit_transform(data_train[cat_features])\n",
    "    \n",
    "    X_test_cat_id0 = ohe_encoder.transform(\n",
    "        data_test.drop(\"banner_id\", axis=1).rename({\"banner_id0\": \"banner_id\"}, axis=1)[cat_features]\n",
    "    )\n",
    "    X_test_cat_id1 = ohe_encoder.transform(\n",
    "        data_test.drop(\"banner_id\", axis=1).rename({\"banner_id1\": \"banner_id\"}, axis=1)[cat_features]\n",
    "    )\n",
    "    \n",
    "    # Target Encoding\n",
    "    target_encoder = TargetEncoder(cols=[\"hour_t\", 'day_of_week_t', 'month', 'os_id', 'country_id'])\n",
    "    target_encoder.fit(data_train, data_train['clicks'])\n",
    "    data_train = target_encoder.transform(data_train)\n",
    "    data_test = target_encoder.transform(data_test)\n",
    "    \n",
    "    \n",
    "    y_train, y_test = data_train[\"clicks\"], data_test[\"clicks\"]\n",
    "    X_train = data_train.drop([\"clicks\", \"date_time\", \"zone_id\", \"banner_id\"], axis=1)\n",
    "    X_test = data_test.drop([\"clicks\", \"date_time\", \"zone_id\", \"banner_id\"], axis=1)\n",
    "    \n",
    "    X_train = hstack((X_train_cat.astype(float), np.array(X_train).astype(float)))\n",
    "    X_test_id0 = hstack((X_test_cat_id0.astype(float), np.array(X_test).astype(float)))\n",
    "    X_test_id1 = hstack((X_test_cat_id1.astype(float), np.array(X_test).astype(float)))\n",
    "    \n",
    "    weights = dict(y_train.value_counts())\n",
    "    return X_train, X_test_id0, X_test_id1, y_train.values, y_test.values, weights, data_test"
   ]
  },
  {
   "cell_type": "markdown",
   "metadata": {},
   "source": [
    "# Create model"
   ]
  },
  {
   "cell_type": "code",
   "execution_count": 6,
   "metadata": {},
   "outputs": [],
   "source": [
    "def create_model(**kwargs):\n",
    "    return LogisticRegression(solver='liblinear', random_state=SEED, **kwargs)"
   ]
  },
  {
   "cell_type": "markdown",
   "metadata": {},
   "source": [
    "# Train"
   ]
  },
  {
   "cell_type": "code",
   "execution_count": 7,
   "metadata": {},
   "outputs": [
    {
     "name": "stderr",
     "output_type": "stream",
     "text": [
      "C:\\Users\\serge\\miniconda3\\envs\\hse_recsys39\\lib\\site-packages\\sklearn\\preprocessing\\_encoders.py:188: UserWarning: Found unknown categories in columns [0, 5, 6] during transform. These unknown categories will be encoded as all zeros\n",
      "  warnings.warn(\n",
      "C:\\Users\\serge\\miniconda3\\envs\\hse_recsys39\\lib\\site-packages\\sklearn\\preprocessing\\_encoders.py:188: UserWarning: Found unknown categories in columns [0, 5, 6] during transform. These unknown categories will be encoded as all zeros\n",
      "  warnings.warn(\n",
      "C:\\Users\\serge\\miniconda3\\envs\\hse_recsys39\\lib\\site-packages\\category_encoders\\target_encoder.py:122: FutureWarning: Default parameter min_samples_leaf will change in version 2.6.See https://github.com/scikit-learn-contrib/category_encoders/issues/327\n",
      "  warnings.warn(\"Default parameter min_samples_leaf will change in version 2.6.\"\n",
      "C:\\Users\\serge\\miniconda3\\envs\\hse_recsys39\\lib\\site-packages\\category_encoders\\target_encoder.py:127: FutureWarning: Default parameter smoothing will change in version 2.6.See https://github.com/scikit-learn-contrib/category_encoders/issues/327\n",
      "  warnings.warn(\"Default parameter smoothing will change in version 2.6.\"\n"
     ]
    },
    {
     "name": "stdout",
     "output_type": "stream",
     "text": [
      "(12041815, 4813)\n",
      "(1885670, 4813)\n",
      "(1885670, 4813)\n",
      "(12041815,)\n",
      "(1885670,)\n",
      "CPU times: total: 2min 19s\n",
      "Wall time: 2min 20s\n"
     ]
    }
   ],
   "source": [
    "%%time\n",
    "\n",
    "data = data_raw.copy()# .head(1000).copy()\n",
    "\n",
    "X_train, X_test_id0, X_test_id1, y_train, y_test, weights, data_test = preprocessing(data)\n",
    "\n",
    "print(X_train.shape)\n",
    "print(X_test_id0.shape)\n",
    "print(X_test_id1.shape)\n",
    "print(y_train.shape)\n",
    "print(y_test.shape)"
   ]
  },
  {
   "cell_type": "code",
   "execution_count": 8,
   "metadata": {},
   "outputs": [
    {
     "name": "stdout",
     "output_type": "stream",
     "text": [
      "CPU times: total: 1min 55s\n",
      "Wall time: 1min 19s\n"
     ]
    },
    {
     "data": {
      "text/html": [
       "<style>#sk-container-id-1 {color: black;background-color: white;}#sk-container-id-1 pre{padding: 0;}#sk-container-id-1 div.sk-toggleable {background-color: white;}#sk-container-id-1 label.sk-toggleable__label {cursor: pointer;display: block;width: 100%;margin-bottom: 0;padding: 0.3em;box-sizing: border-box;text-align: center;}#sk-container-id-1 label.sk-toggleable__label-arrow:before {content: \"▸\";float: left;margin-right: 0.25em;color: #696969;}#sk-container-id-1 label.sk-toggleable__label-arrow:hover:before {color: black;}#sk-container-id-1 div.sk-estimator:hover label.sk-toggleable__label-arrow:before {color: black;}#sk-container-id-1 div.sk-toggleable__content {max-height: 0;max-width: 0;overflow: hidden;text-align: left;background-color: #f0f8ff;}#sk-container-id-1 div.sk-toggleable__content pre {margin: 0.2em;color: black;border-radius: 0.25em;background-color: #f0f8ff;}#sk-container-id-1 input.sk-toggleable__control:checked~div.sk-toggleable__content {max-height: 200px;max-width: 100%;overflow: auto;}#sk-container-id-1 input.sk-toggleable__control:checked~label.sk-toggleable__label-arrow:before {content: \"▾\";}#sk-container-id-1 div.sk-estimator input.sk-toggleable__control:checked~label.sk-toggleable__label {background-color: #d4ebff;}#sk-container-id-1 div.sk-label input.sk-toggleable__control:checked~label.sk-toggleable__label {background-color: #d4ebff;}#sk-container-id-1 input.sk-hidden--visually {border: 0;clip: rect(1px 1px 1px 1px);clip: rect(1px, 1px, 1px, 1px);height: 1px;margin: -1px;overflow: hidden;padding: 0;position: absolute;width: 1px;}#sk-container-id-1 div.sk-estimator {font-family: monospace;background-color: #f0f8ff;border: 1px dotted black;border-radius: 0.25em;box-sizing: border-box;margin-bottom: 0.5em;}#sk-container-id-1 div.sk-estimator:hover {background-color: #d4ebff;}#sk-container-id-1 div.sk-parallel-item::after {content: \"\";width: 100%;border-bottom: 1px solid gray;flex-grow: 1;}#sk-container-id-1 div.sk-label:hover label.sk-toggleable__label {background-color: #d4ebff;}#sk-container-id-1 div.sk-serial::before {content: \"\";position: absolute;border-left: 1px solid gray;box-sizing: border-box;top: 0;bottom: 0;left: 50%;z-index: 0;}#sk-container-id-1 div.sk-serial {display: flex;flex-direction: column;align-items: center;background-color: white;padding-right: 0.2em;padding-left: 0.2em;position: relative;}#sk-container-id-1 div.sk-item {position: relative;z-index: 1;}#sk-container-id-1 div.sk-parallel {display: flex;align-items: stretch;justify-content: center;background-color: white;position: relative;}#sk-container-id-1 div.sk-item::before, #sk-container-id-1 div.sk-parallel-item::before {content: \"\";position: absolute;border-left: 1px solid gray;box-sizing: border-box;top: 0;bottom: 0;left: 50%;z-index: -1;}#sk-container-id-1 div.sk-parallel-item {display: flex;flex-direction: column;z-index: 1;position: relative;background-color: white;}#sk-container-id-1 div.sk-parallel-item:first-child::after {align-self: flex-end;width: 50%;}#sk-container-id-1 div.sk-parallel-item:last-child::after {align-self: flex-start;width: 50%;}#sk-container-id-1 div.sk-parallel-item:only-child::after {width: 0;}#sk-container-id-1 div.sk-dashed-wrapped {border: 1px dashed gray;margin: 0 0.4em 0.5em 0.4em;box-sizing: border-box;padding-bottom: 0.4em;background-color: white;}#sk-container-id-1 div.sk-label label {font-family: monospace;font-weight: bold;display: inline-block;line-height: 1.2em;}#sk-container-id-1 div.sk-label-container {text-align: center;}#sk-container-id-1 div.sk-container {/* jupyter's `normalize.less` sets `[hidden] { display: none; }` but bootstrap.min.css set `[hidden] { display: none !important; }` so we also need the `!important` here to be able to override the default hidden behavior on the sphinx rendered scikit-learn.org. See: https://github.com/scikit-learn/scikit-learn/issues/21755 */display: inline-block !important;position: relative;}#sk-container-id-1 div.sk-text-repr-fallback {display: none;}</style><div id=\"sk-container-id-1\" class=\"sk-top-container\"><div class=\"sk-text-repr-fallback\"><pre>LogisticRegression(C=0.01, class_weight={0: 11744485, 1: 297330},\n",
       "                   random_state=0, solver=&#x27;liblinear&#x27;)</pre><b>In a Jupyter environment, please rerun this cell to show the HTML representation or trust the notebook. <br />On GitHub, the HTML representation is unable to render, please try loading this page with nbviewer.org.</b></div><div class=\"sk-container\" hidden><div class=\"sk-item\"><div class=\"sk-estimator sk-toggleable\"><input class=\"sk-toggleable__control sk-hidden--visually\" id=\"sk-estimator-id-1\" type=\"checkbox\" checked><label for=\"sk-estimator-id-1\" class=\"sk-toggleable__label sk-toggleable__label-arrow\">LogisticRegression</label><div class=\"sk-toggleable__content\"><pre>LogisticRegression(C=0.01, class_weight={0: 11744485, 1: 297330},\n",
       "                   random_state=0, solver=&#x27;liblinear&#x27;)</pre></div></div></div></div></div>"
      ],
      "text/plain": [
       "LogisticRegression(C=0.01, class_weight={0: 11744485, 1: 297330},\n",
       "                   random_state=0, solver='liblinear')"
      ]
     },
     "execution_count": 8,
     "metadata": {},
     "output_type": "execute_result"
    }
   ],
   "source": [
    "%%time\n",
    "\n",
    "logreg = create_model(class_weight=weights, C=0.01, penalty=\"l2\")\n",
    "logreg.fit(X_train, y_train)"
   ]
  },
  {
   "cell_type": "code",
   "execution_count": 9,
   "metadata": {},
   "outputs": [],
   "source": [
    "p0 = logreg.predict_proba(X_test_id0)[:, 1]\n",
    "p1 = logreg.predict_proba(X_test_id1)[:, 1]"
   ]
  },
  {
   "cell_type": "code",
   "execution_count": 10,
   "metadata": {},
   "outputs": [
    {
     "name": "stdout",
     "output_type": "stream",
     "text": [
      "rocauc: 0.6462675354627002\n"
     ]
    }
   ],
   "source": [
    "print(f'rocauc: {roc_auc_score(y_test, p0)}')"
   ]
  },
  {
   "cell_type": "markdown",
   "metadata": {},
   "source": [
    "# CIPS"
   ]
  },
  {
   "cell_type": "markdown",
   "metadata": {},
   "source": [
    "находим вероятность, что одна с.в. больше другой.  \n",
    "пользуемся свойствами нормального распределения."
   ]
  },
  {
   "cell_type": "code",
   "execution_count": 12,
   "metadata": {},
   "outputs": [],
   "source": [
    "pi0 = ss.norm.cdf(\n",
    "    (data_test['coeff_sum0'] - data_test['coeff_sum1'] ) \n",
    "        / np.sqrt(data_test['g0'] ** 2 + data_test['g1'] ** 2)\n",
    ")\n",
    "\n",
    "\n",
    "pi1 = ss.norm.cdf(\n",
    "    (logit(p0) - logit(p1)) \n",
    "        / np.sqrt(data_test['g0'] ** 2 + data_test['g1'] ** 2)\n",
    ")"
   ]
  },
  {
   "cell_type": "markdown",
   "metadata": {},
   "source": [
    "наконец находим cips"
   ]
  },
  {
   "cell_type": "code",
   "execution_count": 13,
   "metadata": {},
   "outputs": [
    {
     "data": {
      "text/plain": [
       "0.0432459992614343"
      ]
     },
     "execution_count": 13,
     "metadata": {},
     "output_type": "execute_result"
    }
   ],
   "source": [
    "# чистим результат от мусора, который мешает посчитать cips (бесконечности и нуль в знаменателе)\n",
    "only_goods_mask = (~np.isclose(pi0, 0.0, atol=1e-4)) & np.isfinite(pi0) & np.isfinite(pi1)\n",
    "pi0 = pi0[only_goods_mask]\n",
    "pi1 = pi1[only_goods_mask]\n",
    "\n",
    "# возьмем лямбду равную 10 по условию задачи\n",
    "lmbd = 10\n",
    "cips = np.mean(np.clip(pi1 / pi0, a_min=None, a_max=lmbd) * y_test[only_goods_mask])\n",
    "cips"
   ]
  },
  {
   "cell_type": "code",
   "execution_count": null,
   "metadata": {},
   "outputs": [],
   "source": []
  }
 ],
 "metadata": {
  "kernelspec": {
   "display_name": "Python 3 (ipykernel)",
   "language": "python",
   "name": "python3"
  },
  "language_info": {
   "codemirror_mode": {
    "name": "ipython",
    "version": 3
   },
   "file_extension": ".py",
   "mimetype": "text/x-python",
   "name": "python",
   "nbconvert_exporter": "python",
   "pygments_lexer": "ipython3",
   "version": "3.9.13"
  }
 },
 "nbformat": 4,
 "nbformat_minor": 4
}
