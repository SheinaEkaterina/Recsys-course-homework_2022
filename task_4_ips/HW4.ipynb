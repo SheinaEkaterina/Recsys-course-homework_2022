{
  "cells": [
    {
      "cell_type": "code",
      "execution_count": 14,
      "metadata": {
        "collapsed": true,
        "id": "llLicYbn7bnF"
      },
      "outputs": [],
      "source": [
        "import pandas as pd\n",
        "import numpy as np\n",
        "from sklearn import preprocessing\n",
        "from sklearn.linear_model import LogisticRegression\n",
        "from sklearn.metrics import roc_auc_score, log_loss\n",
        "from scipy.stats import norm\n",
        "\n",
        "from typing import Tuple, Dict, List"
      ]
    },
    {
      "cell_type": "code",
      "execution_count": 3,
      "metadata": {
        "id": "XHqj_ya77oS-"
      },
      "outputs": [],
      "source": [
        "# global variables\n",
        "PATH_TO_DATA_FILE : str = 'drive/MyDrive/data/data.csv' # путь к файлу с данными"
      ]
    },
    {
      "cell_type": "code",
      "execution_count": 4,
      "metadata": {
        "colab": {
          "base_uri": "https://localhost:8080/",
          "height": 206
        },
        "id": "a8MWe0vD7bnH",
        "outputId": "a51ee1e5-0a8d-4b8c-e3cc-086f284e9a88"
      },
      "outputs": [
        {
          "data": {
            "text/html": [
              "\n",
              "  <div id=\"df-b9b63325-2cf3-4aa7-a085-5551b2ec0ca5\">\n",
              "    <div class=\"colab-df-container\">\n",
              "      <div>\n",
              "<style scoped>\n",
              "    .dataframe tbody tr th:only-of-type {\n",
              "        vertical-align: middle;\n",
              "    }\n",
              "\n",
              "    .dataframe tbody tr th {\n",
              "        vertical-align: top;\n",
              "    }\n",
              "\n",
              "    .dataframe thead th {\n",
              "        text-align: right;\n",
              "    }\n",
              "</style>\n",
              "<table border=\"1\" class=\"dataframe\">\n",
              "  <thead>\n",
              "    <tr style=\"text-align: right;\">\n",
              "      <th></th>\n",
              "      <th>date_time</th>\n",
              "      <th>zone_id</th>\n",
              "      <th>banner_id</th>\n",
              "      <th>oaid_hash</th>\n",
              "      <th>campaign_clicks</th>\n",
              "      <th>os_id</th>\n",
              "      <th>country_id</th>\n",
              "      <th>banner_id0</th>\n",
              "      <th>rate0</th>\n",
              "      <th>g0</th>\n",
              "      <th>coeff_sum0</th>\n",
              "      <th>banner_id1</th>\n",
              "      <th>rate1</th>\n",
              "      <th>g1</th>\n",
              "      <th>coeff_sum1</th>\n",
              "      <th>impressions</th>\n",
              "      <th>clicks</th>\n",
              "    </tr>\n",
              "  </thead>\n",
              "  <tbody>\n",
              "    <tr>\n",
              "      <th>0</th>\n",
              "      <td>2021-09-27 00:01:30.000000</td>\n",
              "      <td>0</td>\n",
              "      <td>0</td>\n",
              "      <td>5664530014561852622</td>\n",
              "      <td>0</td>\n",
              "      <td>0</td>\n",
              "      <td>0</td>\n",
              "      <td>1240</td>\n",
              "      <td>0.067</td>\n",
              "      <td>0.035016</td>\n",
              "      <td>-7.268846</td>\n",
              "      <td>0</td>\n",
              "      <td>0.010</td>\n",
              "      <td>0.049516</td>\n",
              "      <td>-5.369901</td>\n",
              "      <td>1</td>\n",
              "      <td>1</td>\n",
              "    </tr>\n",
              "    <tr>\n",
              "      <th>1</th>\n",
              "      <td>2021-09-26 22:54:49.000000</td>\n",
              "      <td>1</td>\n",
              "      <td>1</td>\n",
              "      <td>5186611064559013950</td>\n",
              "      <td>0</td>\n",
              "      <td>0</td>\n",
              "      <td>1</td>\n",
              "      <td>1</td>\n",
              "      <td>0.002</td>\n",
              "      <td>0.054298</td>\n",
              "      <td>-2.657477</td>\n",
              "      <td>269</td>\n",
              "      <td>0.004</td>\n",
              "      <td>0.031942</td>\n",
              "      <td>-4.449220</td>\n",
              "      <td>1</td>\n",
              "      <td>1</td>\n",
              "    </tr>\n",
              "    <tr>\n",
              "      <th>2</th>\n",
              "      <td>2021-09-26 23:57:20.000000</td>\n",
              "      <td>2</td>\n",
              "      <td>2</td>\n",
              "      <td>2215519569292448030</td>\n",
              "      <td>3</td>\n",
              "      <td>0</td>\n",
              "      <td>0</td>\n",
              "      <td>2</td>\n",
              "      <td>0.014</td>\n",
              "      <td>0.014096</td>\n",
              "      <td>-3.824875</td>\n",
              "      <td>21</td>\n",
              "      <td>0.014</td>\n",
              "      <td>0.014906</td>\n",
              "      <td>-3.939309</td>\n",
              "      <td>1</td>\n",
              "      <td>1</td>\n",
              "    </tr>\n",
              "    <tr>\n",
              "      <th>3</th>\n",
              "      <td>2021-09-27 00:04:30.000000</td>\n",
              "      <td>3</td>\n",
              "      <td>3</td>\n",
              "      <td>6262169206735077204</td>\n",
              "      <td>0</td>\n",
              "      <td>1</td>\n",
              "      <td>1</td>\n",
              "      <td>3</td>\n",
              "      <td>0.012</td>\n",
              "      <td>0.015232</td>\n",
              "      <td>-3.461357</td>\n",
              "      <td>99</td>\n",
              "      <td>0.006</td>\n",
              "      <td>0.050671</td>\n",
              "      <td>-3.418403</td>\n",
              "      <td>1</td>\n",
              "      <td>1</td>\n",
              "    </tr>\n",
              "    <tr>\n",
              "      <th>4</th>\n",
              "      <td>2021-09-27 00:06:21.000000</td>\n",
              "      <td>4</td>\n",
              "      <td>4</td>\n",
              "      <td>4778985830203613115</td>\n",
              "      <td>0</td>\n",
              "      <td>1</td>\n",
              "      <td>0</td>\n",
              "      <td>4</td>\n",
              "      <td>0.019</td>\n",
              "      <td>0.051265</td>\n",
              "      <td>-4.009026</td>\n",
              "      <td>11464230</td>\n",
              "      <td>6.790</td>\n",
              "      <td>0.032005</td>\n",
              "      <td>-2.828797</td>\n",
              "      <td>1</td>\n",
              "      <td>1</td>\n",
              "    </tr>\n",
              "  </tbody>\n",
              "</table>\n",
              "</div>\n",
              "      <button class=\"colab-df-convert\" onclick=\"convertToInteractive('df-b9b63325-2cf3-4aa7-a085-5551b2ec0ca5')\"\n",
              "              title=\"Convert this dataframe to an interactive table.\"\n",
              "              style=\"display:none;\">\n",
              "        \n",
              "  <svg xmlns=\"http://www.w3.org/2000/svg\" height=\"24px\"viewBox=\"0 0 24 24\"\n",
              "       width=\"24px\">\n",
              "    <path d=\"M0 0h24v24H0V0z\" fill=\"none\"/>\n",
              "    <path d=\"M18.56 5.44l.94 2.06.94-2.06 2.06-.94-2.06-.94-.94-2.06-.94 2.06-2.06.94zm-11 1L8.5 8.5l.94-2.06 2.06-.94-2.06-.94L8.5 2.5l-.94 2.06-2.06.94zm10 10l.94 2.06.94-2.06 2.06-.94-2.06-.94-.94-2.06-.94 2.06-2.06.94z\"/><path d=\"M17.41 7.96l-1.37-1.37c-.4-.4-.92-.59-1.43-.59-.52 0-1.04.2-1.43.59L10.3 9.45l-7.72 7.72c-.78.78-.78 2.05 0 2.83L4 21.41c.39.39.9.59 1.41.59.51 0 1.02-.2 1.41-.59l7.78-7.78 2.81-2.81c.8-.78.8-2.07 0-2.86zM5.41 20L4 18.59l7.72-7.72 1.47 1.35L5.41 20z\"/>\n",
              "  </svg>\n",
              "      </button>\n",
              "      \n",
              "  <style>\n",
              "    .colab-df-container {\n",
              "      display:flex;\n",
              "      flex-wrap:wrap;\n",
              "      gap: 12px;\n",
              "    }\n",
              "\n",
              "    .colab-df-convert {\n",
              "      background-color: #E8F0FE;\n",
              "      border: none;\n",
              "      border-radius: 50%;\n",
              "      cursor: pointer;\n",
              "      display: none;\n",
              "      fill: #1967D2;\n",
              "      height: 32px;\n",
              "      padding: 0 0 0 0;\n",
              "      width: 32px;\n",
              "    }\n",
              "\n",
              "    .colab-df-convert:hover {\n",
              "      background-color: #E2EBFA;\n",
              "      box-shadow: 0px 1px 2px rgba(60, 64, 67, 0.3), 0px 1px 3px 1px rgba(60, 64, 67, 0.15);\n",
              "      fill: #174EA6;\n",
              "    }\n",
              "\n",
              "    [theme=dark] .colab-df-convert {\n",
              "      background-color: #3B4455;\n",
              "      fill: #D2E3FC;\n",
              "    }\n",
              "\n",
              "    [theme=dark] .colab-df-convert:hover {\n",
              "      background-color: #434B5C;\n",
              "      box-shadow: 0px 1px 3px 1px rgba(0, 0, 0, 0.15);\n",
              "      filter: drop-shadow(0px 1px 2px rgba(0, 0, 0, 0.3));\n",
              "      fill: #FFFFFF;\n",
              "    }\n",
              "  </style>\n",
              "\n",
              "      <script>\n",
              "        const buttonEl =\n",
              "          document.querySelector('#df-b9b63325-2cf3-4aa7-a085-5551b2ec0ca5 button.colab-df-convert');\n",
              "        buttonEl.style.display =\n",
              "          google.colab.kernel.accessAllowed ? 'block' : 'none';\n",
              "\n",
              "        async function convertToInteractive(key) {\n",
              "          const element = document.querySelector('#df-b9b63325-2cf3-4aa7-a085-5551b2ec0ca5');\n",
              "          const dataTable =\n",
              "            await google.colab.kernel.invokeFunction('convertToInteractive',\n",
              "                                                     [key], {});\n",
              "          if (!dataTable) return;\n",
              "\n",
              "          const docLinkHtml = 'Like what you see? Visit the ' +\n",
              "            '<a target=\"_blank\" href=https://colab.research.google.com/notebooks/data_table.ipynb>data table notebook</a>'\n",
              "            + ' to learn more about interactive tables.';\n",
              "          element.innerHTML = '';\n",
              "          dataTable['output_type'] = 'display_data';\n",
              "          await google.colab.output.renderOutput(dataTable, element);\n",
              "          const docLink = document.createElement('div');\n",
              "          docLink.innerHTML = docLinkHtml;\n",
              "          element.appendChild(docLink);\n",
              "        }\n",
              "      </script>\n",
              "    </div>\n",
              "  </div>\n",
              "  "
            ],
            "text/plain": [
              "                    date_time  zone_id  banner_id            oaid_hash  \\\n",
              "0  2021-09-27 00:01:30.000000        0          0  5664530014561852622   \n",
              "1  2021-09-26 22:54:49.000000        1          1  5186611064559013950   \n",
              "2  2021-09-26 23:57:20.000000        2          2  2215519569292448030   \n",
              "3  2021-09-27 00:04:30.000000        3          3  6262169206735077204   \n",
              "4  2021-09-27 00:06:21.000000        4          4  4778985830203613115   \n",
              "\n",
              "   campaign_clicks  os_id  country_id  banner_id0  rate0        g0  \\\n",
              "0                0      0           0        1240  0.067  0.035016   \n",
              "1                0      0           1           1  0.002  0.054298   \n",
              "2                3      0           0           2  0.014  0.014096   \n",
              "3                0      1           1           3  0.012  0.015232   \n",
              "4                0      1           0           4  0.019  0.051265   \n",
              "\n",
              "   coeff_sum0  banner_id1  rate1        g1  coeff_sum1  impressions  clicks  \n",
              "0   -7.268846           0  0.010  0.049516   -5.369901            1       1  \n",
              "1   -2.657477         269  0.004  0.031942   -4.449220            1       1  \n",
              "2   -3.824875          21  0.014  0.014906   -3.939309            1       1  \n",
              "3   -3.461357          99  0.006  0.050671   -3.418403            1       1  \n",
              "4   -4.009026    11464230  6.790  0.032005   -2.828797            1       1  "
            ]
          },
          "execution_count": 4,
          "metadata": {},
          "output_type": "execute_result"
        }
      ],
      "source": [
        "data = pd.read_csv(PATH_TO_DATA_FILE)\n",
        "data.head()"
      ]
    },
    {
      "cell_type": "markdown",
      "metadata": {
        "id": "LkRRdb4oyt1l"
      },
      "source": [
        "# Предобработка\n",
        "удаляю столбцы, не используемые в данном задании\n",
        "- campaign_clicks -- т.к. не нужен по условию\n",
        "- impressions -- т.к. в первой дз было выявлено, что этот столбец не несет информации\n",
        "- oaid_hash, rate0, rate1 -- удаляю, т.к. они не используются ни при подаче в модель, ни при вычислении OPE (oaid_hash можно было бы оставить, но тогда нужно будет заново подбирать гиперпараметры модели)"
      ]
    },
    {
      "cell_type": "code",
      "execution_count": 5,
      "metadata": {
        "colab": {
          "base_uri": "https://localhost:8080/",
          "height": 206
        },
        "id": "6ngiDKbyvtDo",
        "outputId": "f7fec4f5-3345-4cbe-dd2a-3d22dd5b6f91"
      },
      "outputs": [
        {
          "data": {
            "text/html": [
              "\n",
              "  <div id=\"df-7eac8886-8309-4fa2-8373-e4e078fd9b05\">\n",
              "    <div class=\"colab-df-container\">\n",
              "      <div>\n",
              "<style scoped>\n",
              "    .dataframe tbody tr th:only-of-type {\n",
              "        vertical-align: middle;\n",
              "    }\n",
              "\n",
              "    .dataframe tbody tr th {\n",
              "        vertical-align: top;\n",
              "    }\n",
              "\n",
              "    .dataframe thead th {\n",
              "        text-align: right;\n",
              "    }\n",
              "</style>\n",
              "<table border=\"1\" class=\"dataframe\">\n",
              "  <thead>\n",
              "    <tr style=\"text-align: right;\">\n",
              "      <th></th>\n",
              "      <th>date_time</th>\n",
              "      <th>zone_id</th>\n",
              "      <th>banner_id</th>\n",
              "      <th>os_id</th>\n",
              "      <th>country_id</th>\n",
              "      <th>banner_id0</th>\n",
              "      <th>g0</th>\n",
              "      <th>coeff_sum0</th>\n",
              "      <th>banner_id1</th>\n",
              "      <th>g1</th>\n",
              "      <th>coeff_sum1</th>\n",
              "      <th>clicks</th>\n",
              "    </tr>\n",
              "  </thead>\n",
              "  <tbody>\n",
              "    <tr>\n",
              "      <th>0</th>\n",
              "      <td>2021-09-27 00:01:30.000000</td>\n",
              "      <td>0</td>\n",
              "      <td>0</td>\n",
              "      <td>0</td>\n",
              "      <td>0</td>\n",
              "      <td>1240</td>\n",
              "      <td>0.035016</td>\n",
              "      <td>-7.268846</td>\n",
              "      <td>0</td>\n",
              "      <td>0.049516</td>\n",
              "      <td>-5.369901</td>\n",
              "      <td>1</td>\n",
              "    </tr>\n",
              "    <tr>\n",
              "      <th>1</th>\n",
              "      <td>2021-09-26 22:54:49.000000</td>\n",
              "      <td>1</td>\n",
              "      <td>1</td>\n",
              "      <td>0</td>\n",
              "      <td>1</td>\n",
              "      <td>1</td>\n",
              "      <td>0.054298</td>\n",
              "      <td>-2.657477</td>\n",
              "      <td>269</td>\n",
              "      <td>0.031942</td>\n",
              "      <td>-4.449220</td>\n",
              "      <td>1</td>\n",
              "    </tr>\n",
              "    <tr>\n",
              "      <th>2</th>\n",
              "      <td>2021-09-26 23:57:20.000000</td>\n",
              "      <td>2</td>\n",
              "      <td>2</td>\n",
              "      <td>0</td>\n",
              "      <td>0</td>\n",
              "      <td>2</td>\n",
              "      <td>0.014096</td>\n",
              "      <td>-3.824875</td>\n",
              "      <td>21</td>\n",
              "      <td>0.014906</td>\n",
              "      <td>-3.939309</td>\n",
              "      <td>1</td>\n",
              "    </tr>\n",
              "    <tr>\n",
              "      <th>3</th>\n",
              "      <td>2021-09-27 00:04:30.000000</td>\n",
              "      <td>3</td>\n",
              "      <td>3</td>\n",
              "      <td>1</td>\n",
              "      <td>1</td>\n",
              "      <td>3</td>\n",
              "      <td>0.015232</td>\n",
              "      <td>-3.461357</td>\n",
              "      <td>99</td>\n",
              "      <td>0.050671</td>\n",
              "      <td>-3.418403</td>\n",
              "      <td>1</td>\n",
              "    </tr>\n",
              "    <tr>\n",
              "      <th>4</th>\n",
              "      <td>2021-09-27 00:06:21.000000</td>\n",
              "      <td>4</td>\n",
              "      <td>4</td>\n",
              "      <td>1</td>\n",
              "      <td>0</td>\n",
              "      <td>4</td>\n",
              "      <td>0.051265</td>\n",
              "      <td>-4.009026</td>\n",
              "      <td>11464230</td>\n",
              "      <td>0.032005</td>\n",
              "      <td>-2.828797</td>\n",
              "      <td>1</td>\n",
              "    </tr>\n",
              "  </tbody>\n",
              "</table>\n",
              "</div>\n",
              "      <button class=\"colab-df-convert\" onclick=\"convertToInteractive('df-7eac8886-8309-4fa2-8373-e4e078fd9b05')\"\n",
              "              title=\"Convert this dataframe to an interactive table.\"\n",
              "              style=\"display:none;\">\n",
              "        \n",
              "  <svg xmlns=\"http://www.w3.org/2000/svg\" height=\"24px\"viewBox=\"0 0 24 24\"\n",
              "       width=\"24px\">\n",
              "    <path d=\"M0 0h24v24H0V0z\" fill=\"none\"/>\n",
              "    <path d=\"M18.56 5.44l.94 2.06.94-2.06 2.06-.94-2.06-.94-.94-2.06-.94 2.06-2.06.94zm-11 1L8.5 8.5l.94-2.06 2.06-.94-2.06-.94L8.5 2.5l-.94 2.06-2.06.94zm10 10l.94 2.06.94-2.06 2.06-.94-2.06-.94-.94-2.06-.94 2.06-2.06.94z\"/><path d=\"M17.41 7.96l-1.37-1.37c-.4-.4-.92-.59-1.43-.59-.52 0-1.04.2-1.43.59L10.3 9.45l-7.72 7.72c-.78.78-.78 2.05 0 2.83L4 21.41c.39.39.9.59 1.41.59.51 0 1.02-.2 1.41-.59l7.78-7.78 2.81-2.81c.8-.78.8-2.07 0-2.86zM5.41 20L4 18.59l7.72-7.72 1.47 1.35L5.41 20z\"/>\n",
              "  </svg>\n",
              "      </button>\n",
              "      \n",
              "  <style>\n",
              "    .colab-df-container {\n",
              "      display:flex;\n",
              "      flex-wrap:wrap;\n",
              "      gap: 12px;\n",
              "    }\n",
              "\n",
              "    .colab-df-convert {\n",
              "      background-color: #E8F0FE;\n",
              "      border: none;\n",
              "      border-radius: 50%;\n",
              "      cursor: pointer;\n",
              "      display: none;\n",
              "      fill: #1967D2;\n",
              "      height: 32px;\n",
              "      padding: 0 0 0 0;\n",
              "      width: 32px;\n",
              "    }\n",
              "\n",
              "    .colab-df-convert:hover {\n",
              "      background-color: #E2EBFA;\n",
              "      box-shadow: 0px 1px 2px rgba(60, 64, 67, 0.3), 0px 1px 3px 1px rgba(60, 64, 67, 0.15);\n",
              "      fill: #174EA6;\n",
              "    }\n",
              "\n",
              "    [theme=dark] .colab-df-convert {\n",
              "      background-color: #3B4455;\n",
              "      fill: #D2E3FC;\n",
              "    }\n",
              "\n",
              "    [theme=dark] .colab-df-convert:hover {\n",
              "      background-color: #434B5C;\n",
              "      box-shadow: 0px 1px 3px 1px rgba(0, 0, 0, 0.15);\n",
              "      filter: drop-shadow(0px 1px 2px rgba(0, 0, 0, 0.3));\n",
              "      fill: #FFFFFF;\n",
              "    }\n",
              "  </style>\n",
              "\n",
              "      <script>\n",
              "        const buttonEl =\n",
              "          document.querySelector('#df-7eac8886-8309-4fa2-8373-e4e078fd9b05 button.colab-df-convert');\n",
              "        buttonEl.style.display =\n",
              "          google.colab.kernel.accessAllowed ? 'block' : 'none';\n",
              "\n",
              "        async function convertToInteractive(key) {\n",
              "          const element = document.querySelector('#df-7eac8886-8309-4fa2-8373-e4e078fd9b05');\n",
              "          const dataTable =\n",
              "            await google.colab.kernel.invokeFunction('convertToInteractive',\n",
              "                                                     [key], {});\n",
              "          if (!dataTable) return;\n",
              "\n",
              "          const docLinkHtml = 'Like what you see? Visit the ' +\n",
              "            '<a target=\"_blank\" href=https://colab.research.google.com/notebooks/data_table.ipynb>data table notebook</a>'\n",
              "            + ' to learn more about interactive tables.';\n",
              "          element.innerHTML = '';\n",
              "          dataTable['output_type'] = 'display_data';\n",
              "          await google.colab.output.renderOutput(dataTable, element);\n",
              "          const docLink = document.createElement('div');\n",
              "          docLink.innerHTML = docLinkHtml;\n",
              "          element.appendChild(docLink);\n",
              "        }\n",
              "      </script>\n",
              "    </div>\n",
              "  </div>\n",
              "  "
            ],
            "text/plain": [
              "                    date_time  zone_id  banner_id  os_id  country_id  \\\n",
              "0  2021-09-27 00:01:30.000000        0          0      0           0   \n",
              "1  2021-09-26 22:54:49.000000        1          1      0           1   \n",
              "2  2021-09-26 23:57:20.000000        2          2      0           0   \n",
              "3  2021-09-27 00:04:30.000000        3          3      1           1   \n",
              "4  2021-09-27 00:06:21.000000        4          4      1           0   \n",
              "\n",
              "   banner_id0        g0  coeff_sum0  banner_id1        g1  coeff_sum1  clicks  \n",
              "0        1240  0.035016   -7.268846           0  0.049516   -5.369901       1  \n",
              "1           1  0.054298   -2.657477         269  0.031942   -4.449220       1  \n",
              "2           2  0.014096   -3.824875          21  0.014906   -3.939309       1  \n",
              "3           3  0.015232   -3.461357          99  0.050671   -3.418403       1  \n",
              "4           4  0.051265   -4.009026    11464230  0.032005   -2.828797       1  "
            ]
          },
          "execution_count": 5,
          "metadata": {},
          "output_type": "execute_result"
        }
      ],
      "source": [
        "data = data.drop(columns = ['campaign_clicks', 'impressions', 'oaid_hash', 'rate0', 'rate1'])\n",
        "data.head()"
      ]
    },
    {
      "cell_type": "markdown",
      "metadata": {
        "id": "EIwKuFJI-iDd"
      },
      "source": [
        "Проведем небольшой анализ столбцов, которые будем использовать для вычислений"
      ]
    },
    {
      "cell_type": "code",
      "execution_count": 6,
      "metadata": {
        "colab": {
          "base_uri": "https://localhost:8080/"
        },
        "id": "CUa4lQq68cfV",
        "outputId": "055a40dc-7adf-433d-fd93-7287557aaa36"
      },
      "outputs": [
        {
          "name": "stdout",
          "output_type": "stream",
          "text": [
            "Number of null rows in columns\n",
            "g0               69\n",
            "coeff_sum0       69\n",
            "g1            19744\n",
            "coeff_sum1    19744\n",
            "dtype: int64\n"
          ]
        }
      ],
      "source": [
        "# проверяем, есть ли в таблице null, если да -- то в каких столбцах и в каком количестве\n",
        "null_columns=data.columns[data.isnull().any()]\n",
        "if len(null_columns) == 0:\n",
        "  print(\"Dataframe does not consists null values\")\n",
        "else:\n",
        "  print(\"Number of null rows in columns\")\n",
        "  print(data[null_columns].isnull().sum())\n",
        "\n",
        "del null_columns"
      ]
    },
    {
      "cell_type": "markdown",
      "metadata": {
        "id": "d0xzNw-uGkdo"
      },
      "source": [
        "Как будем предобрабатывать данные:\n",
        "Для подачи в модель будут использоваться столбцы: zone_id, banner_id, os_id,\tcountry_id, hour(вытащим из даты). И целевой столбец clicks.\n",
        "\n",
        "Остальные столбцы будем использовать для вычисления OPE: banner_id0,\tg0,\tcoeff_sum0,\tbanner_id1,\tg1,\tcoeff_sum1.\t\n",
        "\n",
        "Для подачи в модель подготовим данные аналогично первому дз:\n",
        "1.  zone_id, banner_id, os_id,\tcountry_id --  категориальные признаки, выполним encoding для них\n",
        "2. Из информации о дате и времени оставим столбец часы, используем encoding и для него\n",
        "\n",
        "Доп:\n",
        "3. У столбцов zone_id, banner_id достаточно большое количество значений, при использовании one-hot encoding разреженные таблицы не влезают в память. Поэтому закодирую редкие значения этих признаков одним классом(-1, т.к. подобное значение точно не встречается в столбцах). Порог отношения к одному классу выбран исходя из ограничений памяти\n",
        "\n",
        "Также отфильтруем test данные, и только после выполним их подготовку для подачи в модель:\n",
        "1. Удалим те строки, где banner_id != banner_id0\n",
        "2. Удалим те строки, где g0, coeff_sum0, g1, coeff_sum1 равны null -- их мы не сможем использовать в вычислениях\n",
        "\n",
        "Train данные фильтровать не будем\n"
      ]
    },
    {
      "cell_type": "code",
      "execution_count": 7,
      "metadata": {
        "colab": {
          "base_uri": "https://localhost:8080/"
        },
        "id": "r2QdXG9E7bnJ",
        "outputId": "f729c91f-6dc6-4e4b-99ab-58769afc1268"
      },
      "outputs": [
        {
          "name": "stdout",
          "output_type": "stream",
          "text": [
            "filter test data. shape before = (2128978, 12); shape after = (1885557, 12)\n"
          ]
        }
      ],
      "source": [
        "# эта часть должна была быть функцией, но из-за локальных переменных вычисления не влезали в память\n",
        "columns_and_quantiles_to_group_rare_values = {'zone_id' : 0.4, 'banner_id' : 0.2}\n",
        "columns_to_ope = ['banner_id0', 'g0', 'coeff_sum0', 'banner_id1', 'g1', 'coeff_sum1']\n",
        "\n",
        "data['date_time'] = pd.to_datetime(data['date_time'], format = \"%Y-%m-%d %H:%M:%S.%f\")\n",
        "data['date'] = data['date_time'].dt.date.astype('str')\n",
        "data['hour'] = data['date_time'].dt.hour\n",
        "\n",
        "data = data.drop(columns = ['date_time'])\n",
        "\n",
        "for column_name, quant in columns_and_quantiles_to_group_rare_values.items():\n",
        "  values = data[column_name].value_counts()\n",
        "  qua = values.quantile(quant)\n",
        "  indexes = values[values<qua].index\n",
        "  data.loc[data[column_name].isin(indexes), column_name] = -1\n",
        "\n",
        "# подготовим encoder для кодировки категориальных столбцов\n",
        "categorical_features = ['zone_id', 'banner_id', 'os_id', 'country_id', 'hour']\n",
        "encoder = preprocessing.OneHotEncoder(handle_unknown='ignore').fit(data[categorical_features])\n",
        "\n",
        "train_data = data[data['date'] != '2021-10-02'].drop(columns=['date'])\n",
        "test_data = data[data['date'] == '2021-10-02'].drop(columns=['date'])\n",
        "\n",
        "# очищаю data чтоб уместиться в памяти\n",
        "del data\n",
        "\n",
        "# подготавливаем данные для подачи в модель\n",
        "train_X = encoder.transform(train_data[categorical_features])\n",
        "train_X = train_X.asformat('csr') \n",
        "train_y = train_data.clicks\n",
        "del train_data \n",
        "\n",
        "# отфильтруем test данные\n",
        "test_size_before_filter = test_data.shape\n",
        "test_data = test_data[test_data['banner_id'] == test_data['banner_id0']]\n",
        "test_data = test_data.dropna()\n",
        "print(f\"filter test data. shape before = {test_size_before_filter}; shape after = {test_data.shape}\")\n",
        "\n",
        "# таблица с данными, которые будем использовать для вычислений\n",
        "test_ope_data = test_data[columns_to_ope]\n",
        "# подготавливаем данные, где banner_id = banner_id0\n",
        "test_X0 = encoder.transform(test_data[categorical_features])\n",
        "test_X0 = test_X0.asformat('csr')\n",
        "# оставим y для проверки качества модели с помощью метрик, использованных в дз 1\n",
        "test_y0 = test_data.clicks\n",
        "# подготавливаем данные, где banner_id = banner_id1\n",
        "test_data = test_data.drop(columns = 'banner_id')\n",
        "test_data.rename(columns={'banner_id1': 'banner_id'}, inplace=True)\n",
        "test_X1 = encoder.transform(test_data[categorical_features])\n",
        "test_X1 = test_X1.asformat('csr')\n",
        "\n",
        "del test_data\n"
      ]
    },
    {
      "cell_type": "markdown",
      "metadata": {
        "id": "RP33f_EmNn-t"
      },
      "source": [
        "# Подготовка модели\n",
        "Данные подготовлены, обучим модель на train с теми гиперпараметрами, которые подобрали в первой дз."
      ]
    },
    {
      "cell_type": "code",
      "execution_count": 8,
      "metadata": {
        "id": "tnhW4JnixLbx"
      },
      "outputs": [],
      "source": [
        "def create_model(regularization: str = 'l2', regul_const : float = 1.0):\n",
        "    return LogisticRegression(penalty = regularization, solver = 'liblinear', C = regul_const, random_state=42)"
      ]
    },
    {
      "cell_type": "code",
      "execution_count": 9,
      "metadata": {
        "id": "q74MedPHgyZu"
      },
      "outputs": [],
      "source": [
        "def calculate_metrics(y_true, y_pred):\n",
        "  print(f\"Roc= {roc_auc_score(y_true, y_pred[:,1])}\")\n",
        "  print(f\"Log loss = {log_loss(y_true, y_pred)}\")"
      ]
    },
    {
      "cell_type": "code",
      "execution_count": 10,
      "metadata": {
        "colab": {
          "base_uri": "https://localhost:8080/"
        },
        "id": "sg-G28OH4Yq-",
        "outputId": "0ca5d8de-83e2-42cf-8f28-423581249a2a"
      },
      "outputs": [
        {
          "data": {
            "text/plain": [
              "LogisticRegression(C=0.001, random_state=42, solver='liblinear')"
            ]
          },
          "execution_count": 10,
          "metadata": {},
          "output_type": "execute_result"
        }
      ],
      "source": [
        "# best model according hw1\n",
        "model = create_model('l2', 0.001)\n",
        "model.fit(train_X, train_y)"
      ]
    },
    {
      "cell_type": "code",
      "execution_count": 12,
      "metadata": {
        "colab": {
          "base_uri": "https://localhost:8080/"
        },
        "id": "h30xe8jnhHLn",
        "outputId": "aea85f17-1adb-4d1a-9534-4e2d1ebb8cec"
      },
      "outputs": [
        {
          "name": "stdout",
          "output_type": "stream",
          "text": [
            "results for our model:\n",
            "Roc= 0.7786851269731156\n",
            "Log loss = 0.13660911128897985\n"
          ]
        }
      ],
      "source": [
        "print(\"results for our model:\")\n",
        "test_y0_pred = model.predict_proba(test_X0)\n",
        "calculate_metrics(test_y0, test_y0_pred)"
      ]
    },
    {
      "cell_type": "code",
      "execution_count": 13,
      "metadata": {
        "id": "yckt_5QLStDT"
      },
      "outputs": [],
      "source": [
        "del train_X\n",
        "del train_y"
      ]
    },
    {
      "cell_type": "markdown",
      "metadata": {
        "id": "KZczLMpbN0Gd"
      },
      "source": [
        "# Вычисление clipped ips"
      ]
    },
    {
      "cell_type": "markdown",
      "metadata": {
        "id": "SfEXYWSybUGK"
      },
      "source": [
        "Составим формулу для вычисления $\\pi_0$, $\\pi_1$:\n",
        "\n",
        "Рассмотрим случайные величины \n",
        "$\\xi_0 \\sim N(c_0, g_0^2);~~~~~~~\\xi_1 \\sim N(c_1, g_1^2)$\n",
        "\n",
        "$$\\pi(\\xi_0|c_0, g_0, c_1, g_1) = Pr(\\xi_0 \\ge \\xi_1) \\\\ \n",
        "\\pi(\\xi_1|c_0, g_0, c_1, g_1) = 1- Pr(\\xi_0 \\ge \\xi_1)$$\n",
        "\n",
        "$$Pr(\\xi_0\\ge\\xi_1) = Pr(\\xi_0-\\xi_1\\ge 0) = Pr(\\xi_1-\\xi_0 \\le 0) = F_{\\xi_1-\\xi_0}(0)$$\n",
        "\n",
        "$$\\xi_1-\\xi_0 \\sim N(c_1-c_0, g_1^2+g_0^2)$$\n",
        "\n",
        "$$\\rightarrow Pr(\\xi_0\\ge\\xi_1) = F_{\\xi_1-\\xi_0}(0)$$\n"
      ]
    },
    {
      "cell_type": "code",
      "execution_count": 17,
      "metadata": {
        "id": "6fNz2d-SNXJq"
      },
      "outputs": [],
      "source": [
        "def calculate_pr(c0, g0, c1, g1):\n",
        "  diff_loc = c1 - c0\n",
        "  diff_scale = np.sqrt(g0**2+g1**2)\n",
        "  return norm.cdf(0, diff_loc, diff_scale)"
      ]
    },
    {
      "cell_type": "code",
      "execution_count": 22,
      "metadata": {
        "id": "RgKN3c9Egs5D"
      },
      "outputs": [],
      "source": [
        "def logit(p, eps = 1e-15):\n",
        "  return np.log(p+eps)-np.log(1-p+eps)"
      ]
    },
    {
      "cell_type": "code",
      "execution_count": 24,
      "metadata": {
        "id": "_VOFe2u5g-yE"
      },
      "outputs": [],
      "source": [
        "# вычислим \\pi_0\n",
        "pi_0 = calculate_pr(test_ope_data['coeff_sum0'], test_ope_data['g0'], test_ope_data['coeff_sum1'], test_ope_data['g1'])\n",
        "# вычислим новые coeff_sum для \\pi_1\n",
        "coeff_sum0_new = logit(test_y0_pred[:,1])\n",
        "test_y1_pred = model.predict_proba(test_X1)\n",
        "coeff_sum1_new = logit(test_y1_pred[:, 1])\n",
        "# вычислим \\pi_1\n",
        "pi_1 =  calculate_pr(coeff_sum0_new, test_ope_data['g0'], coeff_sum1_new, test_ope_data['g1'])"
      ]
    },
    {
      "cell_type": "code",
      "execution_count": 25,
      "metadata": {
        "id": "Ji8YJJmNpC9N"
      },
      "outputs": [],
      "source": [
        "def clipped_ips(r, pi_0, pi_1, lambd = 10, eps = 1e-15):\n",
        "  return np.mean(r*np.minimum(pi_1/(pi_0+eps), lambd))"
      ]
    },
    {
      "cell_type": "markdown",
      "metadata": {
        "id": "6bg02_rXujBb"
      },
      "source": [
        "Вычислим clipped IPS:"
      ]
    },
    {
      "cell_type": "code",
      "execution_count": 26,
      "metadata": {
        "colab": {
          "base_uri": "https://localhost:8080/"
        },
        "id": "FqC_wFdCpHN-",
        "outputId": "9d6ba96e-19dd-45e8-d244-9355e94a7511"
      },
      "outputs": [
        {
          "data": {
            "text/plain": [
              "0.0754135201045623"
            ]
          },
          "execution_count": 26,
          "metadata": {},
          "output_type": "execute_result"
        }
      ],
      "source": [
        "reward = test_y0\n",
        "clipped_ips(reward, pi_0, pi_1)"
      ]
    }
  ],
  "metadata": {
    "colab": {
      "provenance": []
    },
    "kernelspec": {
      "display_name": "Python 3",
      "language": "python",
      "name": "python3"
    },
    "language_info": {
      "codemirror_mode": {
        "name": "ipython",
        "version": 2
      },
      "file_extension": ".py",
      "mimetype": "text/x-python",
      "name": "python",
      "nbconvert_exporter": "python",
      "pygments_lexer": "ipython2",
      "version": "2.7.6"
    }
  },
  "nbformat": 4,
  "nbformat_minor": 0
}
