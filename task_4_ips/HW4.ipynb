{
 "cells": [
  {
   "cell_type": "markdown",
   "id": "c1993548",
   "metadata": {},
   "source": [
    "# Offline policy evaluation"
   ]
  },
  {
   "cell_type": "markdown",
   "id": "709db282",
   "metadata": {},
   "source": [
    "## Setup"
   ]
  },
  {
   "cell_type": "code",
   "execution_count": 1,
   "id": "c8c54b84",
   "metadata": {},
   "outputs": [],
   "source": [
    "import numpy as np\n",
    "import pandas as pd\n",
    "\n",
    "import sklearn\n",
    "from sklearn.preprocessing import OneHotEncoder\n",
    "from sklearn.linear_model import LogisticRegression\n",
    "from sklearn.metrics import log_loss, roc_auc_score\n",
    "\n",
    "import scipy\n",
    "import scipy.stats as st\n",
    "\n",
    "import matplotlib.pyplot as plt"
   ]
  },
  {
   "cell_type": "markdown",
   "id": "6d3f752b",
   "metadata": {},
   "source": [
    "## Data"
   ]
  },
  {
   "cell_type": "code",
   "execution_count": 2,
   "id": "a6afc455",
   "metadata": {},
   "outputs": [
    {
     "data": {
      "text/html": [
       "<div>\n",
       "<style scoped>\n",
       "    .dataframe tbody tr th:only-of-type {\n",
       "        vertical-align: middle;\n",
       "    }\n",
       "\n",
       "    .dataframe tbody tr th {\n",
       "        vertical-align: top;\n",
       "    }\n",
       "\n",
       "    .dataframe thead th {\n",
       "        text-align: right;\n",
       "    }\n",
       "</style>\n",
       "<table border=\"1\" class=\"dataframe\">\n",
       "  <thead>\n",
       "    <tr style=\"text-align: right;\">\n",
       "      <th></th>\n",
       "      <th>date_time</th>\n",
       "      <th>zone_id</th>\n",
       "      <th>banner_id</th>\n",
       "      <th>oaid_hash</th>\n",
       "      <th>os_id</th>\n",
       "      <th>country_id</th>\n",
       "      <th>banner_id0</th>\n",
       "      <th>rate0</th>\n",
       "      <th>g0</th>\n",
       "      <th>coeff_sum0</th>\n",
       "      <th>banner_id1</th>\n",
       "      <th>rate1</th>\n",
       "      <th>g1</th>\n",
       "      <th>coeff_sum1</th>\n",
       "      <th>clicks</th>\n",
       "    </tr>\n",
       "  </thead>\n",
       "  <tbody>\n",
       "    <tr>\n",
       "      <th>0</th>\n",
       "      <td>2021-09-27 00:01:30.000000</td>\n",
       "      <td>0</td>\n",
       "      <td>0</td>\n",
       "      <td>5664530014561852622</td>\n",
       "      <td>0</td>\n",
       "      <td>0</td>\n",
       "      <td>1240</td>\n",
       "      <td>0.067</td>\n",
       "      <td>0.035016</td>\n",
       "      <td>-7.268846</td>\n",
       "      <td>0</td>\n",
       "      <td>0.010</td>\n",
       "      <td>0.049516</td>\n",
       "      <td>-5.369901</td>\n",
       "      <td>1</td>\n",
       "    </tr>\n",
       "    <tr>\n",
       "      <th>1</th>\n",
       "      <td>2021-09-26 22:54:49.000000</td>\n",
       "      <td>1</td>\n",
       "      <td>1</td>\n",
       "      <td>5186611064559013950</td>\n",
       "      <td>0</td>\n",
       "      <td>1</td>\n",
       "      <td>1</td>\n",
       "      <td>0.002</td>\n",
       "      <td>0.054298</td>\n",
       "      <td>-2.657477</td>\n",
       "      <td>269</td>\n",
       "      <td>0.004</td>\n",
       "      <td>0.031942</td>\n",
       "      <td>-4.449220</td>\n",
       "      <td>1</td>\n",
       "    </tr>\n",
       "    <tr>\n",
       "      <th>2</th>\n",
       "      <td>2021-09-26 23:57:20.000000</td>\n",
       "      <td>2</td>\n",
       "      <td>2</td>\n",
       "      <td>2215519569292448030</td>\n",
       "      <td>0</td>\n",
       "      <td>0</td>\n",
       "      <td>2</td>\n",
       "      <td>0.014</td>\n",
       "      <td>0.014096</td>\n",
       "      <td>-3.824875</td>\n",
       "      <td>21</td>\n",
       "      <td>0.014</td>\n",
       "      <td>0.014906</td>\n",
       "      <td>-3.939309</td>\n",
       "      <td>1</td>\n",
       "    </tr>\n",
       "    <tr>\n",
       "      <th>3</th>\n",
       "      <td>2021-09-27 00:04:30.000000</td>\n",
       "      <td>3</td>\n",
       "      <td>3</td>\n",
       "      <td>6262169206735077204</td>\n",
       "      <td>1</td>\n",
       "      <td>1</td>\n",
       "      <td>3</td>\n",
       "      <td>0.012</td>\n",
       "      <td>0.015232</td>\n",
       "      <td>-3.461357</td>\n",
       "      <td>99</td>\n",
       "      <td>0.006</td>\n",
       "      <td>0.050671</td>\n",
       "      <td>-3.418403</td>\n",
       "      <td>1</td>\n",
       "    </tr>\n",
       "    <tr>\n",
       "      <th>4</th>\n",
       "      <td>2021-09-27 00:06:21.000000</td>\n",
       "      <td>4</td>\n",
       "      <td>4</td>\n",
       "      <td>4778985830203613115</td>\n",
       "      <td>1</td>\n",
       "      <td>0</td>\n",
       "      <td>4</td>\n",
       "      <td>0.019</td>\n",
       "      <td>0.051265</td>\n",
       "      <td>-4.009026</td>\n",
       "      <td>11464230</td>\n",
       "      <td>6.790</td>\n",
       "      <td>0.032005</td>\n",
       "      <td>-2.828797</td>\n",
       "      <td>1</td>\n",
       "    </tr>\n",
       "  </tbody>\n",
       "</table>\n",
       "</div>"
      ],
      "text/plain": [
       "                    date_time  zone_id  banner_id            oaid_hash  os_id  \\\n",
       "0  2021-09-27 00:01:30.000000        0          0  5664530014561852622      0   \n",
       "1  2021-09-26 22:54:49.000000        1          1  5186611064559013950      0   \n",
       "2  2021-09-26 23:57:20.000000        2          2  2215519569292448030      0   \n",
       "3  2021-09-27 00:04:30.000000        3          3  6262169206735077204      1   \n",
       "4  2021-09-27 00:06:21.000000        4          4  4778985830203613115      1   \n",
       "\n",
       "   country_id  banner_id0  rate0        g0  coeff_sum0  banner_id1  rate1  \\\n",
       "0           0        1240  0.067  0.035016   -7.268846           0  0.010   \n",
       "1           1           1  0.002  0.054298   -2.657477         269  0.004   \n",
       "2           0           2  0.014  0.014096   -3.824875          21  0.014   \n",
       "3           1           3  0.012  0.015232   -3.461357          99  0.006   \n",
       "4           0           4  0.019  0.051265   -4.009026    11464230  6.790   \n",
       "\n",
       "         g1  coeff_sum1  clicks  \n",
       "0  0.049516   -5.369901       1  \n",
       "1  0.031942   -4.449220       1  \n",
       "2  0.014906   -3.939309       1  \n",
       "3  0.050671   -3.418403       1  \n",
       "4  0.032005   -2.828797       1  "
      ]
     },
     "execution_count": 2,
     "metadata": {},
     "output_type": "execute_result"
    }
   ],
   "source": [
    "# Read data with excess columns dropping\n",
    "excess_data = [\"campaign_clicks\", \"impressions\"]\n",
    "data = pd.read_csv(\"../task_1_recsys/data/data.csv\").drop(excess_data, axis=1)\n",
    "data.head()"
   ]
  },
  {
   "cell_type": "code",
   "execution_count": 8,
   "id": "e884f6b6",
   "metadata": {},
   "outputs": [],
   "source": [
    "# Support function\n",
    "def prepare_data(data: pd.DataFrame):\n",
    "    \n",
    "    # Drop nulls\n",
    "    data.dropna(inplace=True)\n",
    "    \n",
    "    # Drop negative stds\n",
    "    dindex = data[(data.g0 < 0) | (data.g1 < 0)].index\n",
    "    data.drop(dindex, inplace=True)\n",
    "\n",
    "    # Delete raws with banner_id != banner_id_0\n",
    "    dindex = data[data.banner_id != data.banner_id0].index\n",
    "    data.drop(dindex, inplace=True)\n",
    "    data.drop([\"banner_id0\"], axis=1, inplace=True)\n",
    "\n",
    "    # Datetime features\n",
    "    data[\"date_time\"] = pd.to_datetime(data[\"date_time\"])\n",
    "    data[\"hour\"] = data[\"date_time\"].dt.hour\n",
    "\n",
    "    # Train test split\n",
    "    last_day = data[\"date_time\"].max()\n",
    "    train = data[data[\"date_time\"].dt.date < last_day.date()]\n",
    "    test = data[data[\"date_time\"].dt.date == last_day.date()]\n",
    "\n",
    "    # Prepare features\n",
    "    cols_to_del = [\"clicks\", \"date_time\", \"banner_id1\", \"g0\", \"g1\", \"coeff_sum0\",  \"coeff_sum1\"]\n",
    "    X_train = train.drop(cols_to_del, axis=1, inplace=False)\n",
    "    X_test = test.drop(cols_to_del, axis=1, inplace=False)\n",
    "\n",
    "    # OHE\n",
    "    ohe = OneHotEncoder(handle_unknown=\"ignore\", sparse=True)\n",
    "    X_train = ohe.fit_transform(X_train)\n",
    "    X_test = ohe.transform(X_test)\n",
    "\n",
    "    # Prepare labels\n",
    "    y_train = train[\"clicks\"]\n",
    "    y_test = test[\"clicks\"]\n",
    "\n",
    "    # Distribution\n",
    "    dstrb = test[[\"g0\", \"g1\", \"coeff_sum0\", \"coeff_sum1\"]]\n",
    "\n",
    "    # Prepare test\n",
    "    cols_to_del = [\"clicks\", \"date_time\", \"g0\", \"g1\", \"coeff_sum0\",  \"coeff_sum1\"]\n",
    "    test.drop(cols_to_del, axis=1, inplace=True)\n",
    "\n",
    "    # pi_0\n",
    "    X_test_pi0 = test.drop([\"banner_id1\"], axis=1, inplace=False)\n",
    "    X_test_pi0 = ohe.transform(X_test_pi0)\n",
    "\n",
    "    # pi_1\n",
    "    test[\"banner_id\"] = test[\"banner_id1\"]\n",
    "    X_test_pi1 = test.drop([\"banner_id1\"], axis=1)\n",
    "    X_test_pi1 = ohe.transform(X_test_pi1)\n",
    "\n",
    "    return X_train, y_train, X_test, y_test, X_test_pi0, X_test_pi1, dstrb"
   ]
  },
  {
   "cell_type": "code",
   "execution_count": 9,
   "id": "c08dc0e1",
   "metadata": {},
   "outputs": [
    {
     "name": "stderr",
     "output_type": "stream",
     "text": [
      "C:\\Users\\user\\AppData\\Local\\Temp\\ipykernel_7088\\3936093563.py:44: SettingWithCopyWarning: \n",
      "A value is trying to be set on a copy of a slice from a DataFrame\n",
      "\n",
      "See the caveats in the documentation: https://pandas.pydata.org/pandas-docs/stable/user_guide/indexing.html#returning-a-view-versus-a-copy\n",
      "  test.drop(cols_to_del, axis=1, inplace=True)\n",
      "C:\\Users\\user\\AppData\\Local\\Temp\\ipykernel_7088\\3936093563.py:51: SettingWithCopyWarning: \n",
      "A value is trying to be set on a copy of a slice from a DataFrame.\n",
      "Try using .loc[row_indexer,col_indexer] = value instead\n",
      "\n",
      "See the caveats in the documentation: https://pandas.pydata.org/pandas-docs/stable/user_guide/indexing.html#returning-a-view-versus-a-copy\n",
      "  test[\"banner_id\"] = test[\"banner_id1\"]\n"
     ]
    }
   ],
   "source": [
    "X_train, y_train, X_test, y_test, X_test_pi0, X_test_pi1, dstrb = prepare_data(data.copy())"
   ]
  },
  {
   "cell_type": "markdown",
   "id": "f008ee5f",
   "metadata": {},
   "source": [
    "## Model"
   ]
  },
  {
   "cell_type": "markdown",
   "id": "ebd321eb",
   "metadata": {},
   "source": [
    "Модель – линейная регрессия *(см. HW_1)*"
   ]
  },
  {
   "cell_type": "code",
   "execution_count": 10,
   "id": "c2c02b26",
   "metadata": {},
   "outputs": [],
   "source": [
    "def create_model(solver, C, penalty, random_state):\n",
    "    model = LogisticRegression(solver=solver, C=C, penalty=penalty, random_state=random_state)\n",
    "    return model"
   ]
  },
  {
   "cell_type": "code",
   "execution_count": 11,
   "id": "d11a3d6a",
   "metadata": {},
   "outputs": [
    {
     "data": {
      "text/html": [
       "<style>#sk-container-id-1 {color: black;background-color: white;}#sk-container-id-1 pre{padding: 0;}#sk-container-id-1 div.sk-toggleable {background-color: white;}#sk-container-id-1 label.sk-toggleable__label {cursor: pointer;display: block;width: 100%;margin-bottom: 0;padding: 0.3em;box-sizing: border-box;text-align: center;}#sk-container-id-1 label.sk-toggleable__label-arrow:before {content: \"▸\";float: left;margin-right: 0.25em;color: #696969;}#sk-container-id-1 label.sk-toggleable__label-arrow:hover:before {color: black;}#sk-container-id-1 div.sk-estimator:hover label.sk-toggleable__label-arrow:before {color: black;}#sk-container-id-1 div.sk-toggleable__content {max-height: 0;max-width: 0;overflow: hidden;text-align: left;background-color: #f0f8ff;}#sk-container-id-1 div.sk-toggleable__content pre {margin: 0.2em;color: black;border-radius: 0.25em;background-color: #f0f8ff;}#sk-container-id-1 input.sk-toggleable__control:checked~div.sk-toggleable__content {max-height: 200px;max-width: 100%;overflow: auto;}#sk-container-id-1 input.sk-toggleable__control:checked~label.sk-toggleable__label-arrow:before {content: \"▾\";}#sk-container-id-1 div.sk-estimator input.sk-toggleable__control:checked~label.sk-toggleable__label {background-color: #d4ebff;}#sk-container-id-1 div.sk-label input.sk-toggleable__control:checked~label.sk-toggleable__label {background-color: #d4ebff;}#sk-container-id-1 input.sk-hidden--visually {border: 0;clip: rect(1px 1px 1px 1px);clip: rect(1px, 1px, 1px, 1px);height: 1px;margin: -1px;overflow: hidden;padding: 0;position: absolute;width: 1px;}#sk-container-id-1 div.sk-estimator {font-family: monospace;background-color: #f0f8ff;border: 1px dotted black;border-radius: 0.25em;box-sizing: border-box;margin-bottom: 0.5em;}#sk-container-id-1 div.sk-estimator:hover {background-color: #d4ebff;}#sk-container-id-1 div.sk-parallel-item::after {content: \"\";width: 100%;border-bottom: 1px solid gray;flex-grow: 1;}#sk-container-id-1 div.sk-label:hover label.sk-toggleable__label {background-color: #d4ebff;}#sk-container-id-1 div.sk-serial::before {content: \"\";position: absolute;border-left: 1px solid gray;box-sizing: border-box;top: 0;bottom: 0;left: 50%;z-index: 0;}#sk-container-id-1 div.sk-serial {display: flex;flex-direction: column;align-items: center;background-color: white;padding-right: 0.2em;padding-left: 0.2em;position: relative;}#sk-container-id-1 div.sk-item {position: relative;z-index: 1;}#sk-container-id-1 div.sk-parallel {display: flex;align-items: stretch;justify-content: center;background-color: white;position: relative;}#sk-container-id-1 div.sk-item::before, #sk-container-id-1 div.sk-parallel-item::before {content: \"\";position: absolute;border-left: 1px solid gray;box-sizing: border-box;top: 0;bottom: 0;left: 50%;z-index: -1;}#sk-container-id-1 div.sk-parallel-item {display: flex;flex-direction: column;z-index: 1;position: relative;background-color: white;}#sk-container-id-1 div.sk-parallel-item:first-child::after {align-self: flex-end;width: 50%;}#sk-container-id-1 div.sk-parallel-item:last-child::after {align-self: flex-start;width: 50%;}#sk-container-id-1 div.sk-parallel-item:only-child::after {width: 0;}#sk-container-id-1 div.sk-dashed-wrapped {border: 1px dashed gray;margin: 0 0.4em 0.5em 0.4em;box-sizing: border-box;padding-bottom: 0.4em;background-color: white;}#sk-container-id-1 div.sk-label label {font-family: monospace;font-weight: bold;display: inline-block;line-height: 1.2em;}#sk-container-id-1 div.sk-label-container {text-align: center;}#sk-container-id-1 div.sk-container {/* jupyter's `normalize.less` sets `[hidden] { display: none; }` but bootstrap.min.css set `[hidden] { display: none !important; }` so we also need the `!important` here to be able to override the default hidden behavior on the sphinx rendered scikit-learn.org. See: https://github.com/scikit-learn/scikit-learn/issues/21755 */display: inline-block !important;position: relative;}#sk-container-id-1 div.sk-text-repr-fallback {display: none;}</style><div id=\"sk-container-id-1\" class=\"sk-top-container\"><div class=\"sk-text-repr-fallback\"><pre>LogisticRegression(C=0.01, random_state=42, solver=&#x27;liblinear&#x27;)</pre><b>In a Jupyter environment, please rerun this cell to show the HTML representation or trust the notebook. <br />On GitHub, the HTML representation is unable to render, please try loading this page with nbviewer.org.</b></div><div class=\"sk-container\" hidden><div class=\"sk-item\"><div class=\"sk-estimator sk-toggleable\"><input class=\"sk-toggleable__control sk-hidden--visually\" id=\"sk-estimator-id-1\" type=\"checkbox\" checked><label for=\"sk-estimator-id-1\" class=\"sk-toggleable__label sk-toggleable__label-arrow\">LogisticRegression</label><div class=\"sk-toggleable__content\"><pre>LogisticRegression(C=0.01, random_state=42, solver=&#x27;liblinear&#x27;)</pre></div></div></div></div></div>"
      ],
      "text/plain": [
       "LogisticRegression(C=0.01, random_state=42, solver='liblinear')"
      ]
     },
     "execution_count": 11,
     "metadata": {},
     "output_type": "execute_result"
    }
   ],
   "source": [
    "model = create_model(solver='liblinear', C=0.01, penalty=\"l2\", random_state=42)\n",
    "model.fit(X_train, y_train)"
   ]
  },
  {
   "cell_type": "code",
   "execution_count": 13,
   "id": "e0f07251",
   "metadata": {},
   "outputs": [
    {
     "name": "stdout",
     "output_type": "stream",
     "text": [
      "Model: Log-loss = 0.13339720171424882, ROC-AUC = 0.7919427093037561\n",
      "Baseline: Log-loss = 0.155164669729177, ROC-AUC = 0.5\n"
     ]
    }
   ],
   "source": [
    "y_baseline = np.mean(y_test)*np.ones(y_test.shape)\n",
    "y_model = model.predict_proba(X_test)[:, 1]\n",
    "\n",
    "print(f\"Model: Log-loss = {log_loss(y_test, y_model)}, ROC-AUC = {roc_auc_score(y_test, y_model)}\")\n",
    "print(f\"Baseline: Log-loss = {log_loss(y_test, y_baseline)}, ROC-AUC = {roc_auc_score(y_test, y_baseline)}\")"
   ]
  },
  {
   "cell_type": "code",
   "execution_count": 14,
   "id": "962d7f30",
   "metadata": {},
   "outputs": [],
   "source": [
    "def logit(x):\n",
    "    return np.log(x) - np.log(1 - x)"
   ]
  },
  {
   "cell_type": "code",
   "execution_count": 16,
   "id": "fd798fde",
   "metadata": {},
   "outputs": [],
   "source": [
    "coeff_sum_pi0 = logit(model.predict_proba(X_test_pi0)[:, 1])\n",
    "coeff_sum_pi1 = logit(model.predict_proba(X_test_pi1)[:, 1])"
   ]
  },
  {
   "cell_type": "markdown",
   "id": "cc444bc5",
   "metadata": {},
   "source": [
    "## Clipped Inverse Propensity Score"
   ]
  },
  {
   "cell_type": "markdown",
   "id": "883f0b31",
   "metadata": {},
   "source": [
    "/*Вставить пояснение с формулой расчёта*/"
   ]
  },
  {
   "cell_type": "code",
   "execution_count": 17,
   "id": "4584d572",
   "metadata": {},
   "outputs": [],
   "source": [
    "pi_0 = st.norm.cdf((dstrb.coeff_sum1 - dstrb.coeff_sum0) / np.sqrt(dstrb.g0 ** 2 + dstrb.g1 ** 2 + 1e-7))\n",
    "pi_1 = st.norm.cdf((coeff_sum_pi1 - coeff_sum_pi0) / np.sqrt(dstrb.g0 ** 2 + dstrb.g1 ** 2 + 1e-7))"
   ]
  },
  {
   "cell_type": "code",
   "execution_count": 19,
   "id": "5c2ec633",
   "metadata": {},
   "outputs": [
    {
     "name": "stdout",
     "output_type": "stream",
     "text": [
      "Clipped Inverse Propensity Score: 0.08496\n"
     ]
    }
   ],
   "source": [
    "cips = np.mean(y_test * np.clip(pi_1/(pi_0 + 1e-7), 0, 10))\n",
    "print(f\"Clipped Inverse Propensity Score: {cips:.5f}\")"
   ]
  }
 ],
 "metadata": {
  "kernelspec": {
   "display_name": "Python 3 (ipykernel)",
   "language": "python",
   "name": "python3"
  },
  "language_info": {
   "codemirror_mode": {
    "name": "ipython",
    "version": 3
   },
   "file_extension": ".py",
   "mimetype": "text/x-python",
   "name": "python",
   "nbconvert_exporter": "python",
   "pygments_lexer": "ipython3",
   "version": "3.8.0"
  }
 },
 "nbformat": 4,
 "nbformat_minor": 5
}
