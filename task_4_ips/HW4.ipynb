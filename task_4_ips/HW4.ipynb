{
 "cells": [
  {
   "cell_type": "code",
   "execution_count": 1,
   "metadata": {
    "colab": {
     "base_uri": "https://localhost:8080/"
    },
    "id": "-2MQSXkWg6kE",
    "outputId": "a42ca6ab-80bf-4422-9493-721ee2364e8f"
   },
   "outputs": [
    {
     "name": "stdout",
     "output_type": "stream",
     "text": [
      "Drive already mounted at /content/drive; to attempt to forcibly remount, call drive.mount(\"/content/drive\", force_remount=True).\n"
     ]
    }
   ],
   "source": [
    "from google.colab import drive\n",
    "drive.mount('/content/drive')"
   ]
  },
  {
   "cell_type": "code",
   "execution_count": 1,
   "metadata": {
    "id": "B_kfBsfUhBUq"
   },
   "outputs": [],
   "source": [
    "path = 'data.csv'"
   ]
  },
  {
   "cell_type": "code",
   "execution_count": 2,
   "metadata": {
    "id": "XYw_y-5vhqYr"
   },
   "outputs": [],
   "source": [
    "import pandas as pd\n",
    "import numpy as np\n",
    "import matplotlib.pyplot as plt"
   ]
  },
  {
   "cell_type": "code",
   "execution_count": 3,
   "metadata": {
    "colab": {
     "base_uri": "https://localhost:8080/",
     "height": 206
    },
    "id": "chn2_FFzhfwI",
    "outputId": "65e6f5d1-9fe6-49c9-ae1e-4f7283f477aa"
   },
   "outputs": [
    {
     "data": {
      "text/html": [
       "<div>\n",
       "<style scoped>\n",
       "    .dataframe tbody tr th:only-of-type {\n",
       "        vertical-align: middle;\n",
       "    }\n",
       "\n",
       "    .dataframe tbody tr th {\n",
       "        vertical-align: top;\n",
       "    }\n",
       "\n",
       "    .dataframe thead th {\n",
       "        text-align: right;\n",
       "    }\n",
       "</style>\n",
       "<table border=\"1\" class=\"dataframe\">\n",
       "  <thead>\n",
       "    <tr style=\"text-align: right;\">\n",
       "      <th></th>\n",
       "      <th>date_time</th>\n",
       "      <th>zone_id</th>\n",
       "      <th>banner_id</th>\n",
       "      <th>oaid_hash</th>\n",
       "      <th>os_id</th>\n",
       "      <th>country_id</th>\n",
       "      <th>banner_id0</th>\n",
       "      <th>rate0</th>\n",
       "      <th>g0</th>\n",
       "      <th>coeff_sum0</th>\n",
       "      <th>banner_id1</th>\n",
       "      <th>rate1</th>\n",
       "      <th>g1</th>\n",
       "      <th>coeff_sum1</th>\n",
       "      <th>impressions</th>\n",
       "      <th>clicks</th>\n",
       "    </tr>\n",
       "  </thead>\n",
       "  <tbody>\n",
       "    <tr>\n",
       "      <th>0</th>\n",
       "      <td>2021-09-27 00:01:30.000000</td>\n",
       "      <td>0</td>\n",
       "      <td>0</td>\n",
       "      <td>5664530014561852622</td>\n",
       "      <td>0</td>\n",
       "      <td>0</td>\n",
       "      <td>1240</td>\n",
       "      <td>0.067</td>\n",
       "      <td>0.035016</td>\n",
       "      <td>-7.268846</td>\n",
       "      <td>0</td>\n",
       "      <td>0.010</td>\n",
       "      <td>0.049516</td>\n",
       "      <td>-5.369901</td>\n",
       "      <td>1</td>\n",
       "      <td>1</td>\n",
       "    </tr>\n",
       "    <tr>\n",
       "      <th>1</th>\n",
       "      <td>2021-09-26 22:54:49.000000</td>\n",
       "      <td>1</td>\n",
       "      <td>1</td>\n",
       "      <td>5186611064559013950</td>\n",
       "      <td>0</td>\n",
       "      <td>1</td>\n",
       "      <td>1</td>\n",
       "      <td>0.002</td>\n",
       "      <td>0.054298</td>\n",
       "      <td>-2.657477</td>\n",
       "      <td>269</td>\n",
       "      <td>0.004</td>\n",
       "      <td>0.031942</td>\n",
       "      <td>-4.449220</td>\n",
       "      <td>1</td>\n",
       "      <td>1</td>\n",
       "    </tr>\n",
       "    <tr>\n",
       "      <th>2</th>\n",
       "      <td>2021-09-26 23:57:20.000000</td>\n",
       "      <td>2</td>\n",
       "      <td>2</td>\n",
       "      <td>2215519569292448030</td>\n",
       "      <td>0</td>\n",
       "      <td>0</td>\n",
       "      <td>2</td>\n",
       "      <td>0.014</td>\n",
       "      <td>0.014096</td>\n",
       "      <td>-3.824875</td>\n",
       "      <td>21</td>\n",
       "      <td>0.014</td>\n",
       "      <td>0.014906</td>\n",
       "      <td>-3.939309</td>\n",
       "      <td>1</td>\n",
       "      <td>1</td>\n",
       "    </tr>\n",
       "    <tr>\n",
       "      <th>3</th>\n",
       "      <td>2021-09-27 00:04:30.000000</td>\n",
       "      <td>3</td>\n",
       "      <td>3</td>\n",
       "      <td>6262169206735077204</td>\n",
       "      <td>1</td>\n",
       "      <td>1</td>\n",
       "      <td>3</td>\n",
       "      <td>0.012</td>\n",
       "      <td>0.015232</td>\n",
       "      <td>-3.461357</td>\n",
       "      <td>99</td>\n",
       "      <td>0.006</td>\n",
       "      <td>0.050671</td>\n",
       "      <td>-3.418403</td>\n",
       "      <td>1</td>\n",
       "      <td>1</td>\n",
       "    </tr>\n",
       "    <tr>\n",
       "      <th>4</th>\n",
       "      <td>2021-09-27 00:06:21.000000</td>\n",
       "      <td>4</td>\n",
       "      <td>4</td>\n",
       "      <td>4778985830203613115</td>\n",
       "      <td>1</td>\n",
       "      <td>0</td>\n",
       "      <td>4</td>\n",
       "      <td>0.019</td>\n",
       "      <td>0.051265</td>\n",
       "      <td>-4.009026</td>\n",
       "      <td>11464230</td>\n",
       "      <td>6.790</td>\n",
       "      <td>0.032005</td>\n",
       "      <td>-2.828797</td>\n",
       "      <td>1</td>\n",
       "      <td>1</td>\n",
       "    </tr>\n",
       "  </tbody>\n",
       "</table>\n",
       "</div>"
      ],
      "text/plain": [
       "                    date_time  zone_id  banner_id            oaid_hash  os_id  \\\n",
       "0  2021-09-27 00:01:30.000000        0          0  5664530014561852622      0   \n",
       "1  2021-09-26 22:54:49.000000        1          1  5186611064559013950      0   \n",
       "2  2021-09-26 23:57:20.000000        2          2  2215519569292448030      0   \n",
       "3  2021-09-27 00:04:30.000000        3          3  6262169206735077204      1   \n",
       "4  2021-09-27 00:06:21.000000        4          4  4778985830203613115      1   \n",
       "\n",
       "   country_id  banner_id0  rate0        g0  coeff_sum0  banner_id1  rate1  \\\n",
       "0           0        1240  0.067  0.035016   -7.268846           0  0.010   \n",
       "1           1           1  0.002  0.054298   -2.657477         269  0.004   \n",
       "2           0           2  0.014  0.014096   -3.824875          21  0.014   \n",
       "3           1           3  0.012  0.015232   -3.461357          99  0.006   \n",
       "4           0           4  0.019  0.051265   -4.009026    11464230  6.790   \n",
       "\n",
       "         g1  coeff_sum1  impressions  clicks  \n",
       "0  0.049516   -5.369901            1       1  \n",
       "1  0.031942   -4.449220            1       1  \n",
       "2  0.014906   -3.939309            1       1  \n",
       "3  0.050671   -3.418403            1       1  \n",
       "4  0.032005   -2.828797            1       1  "
      ]
     },
     "execution_count": 3,
     "metadata": {},
     "output_type": "execute_result"
    }
   ],
   "source": [
    "data = pd.read_csv(path)\n",
    "# в 4м дз нам не нужна колонка campaign_clicks\n",
    "data.drop([\"campaign_clicks\"], axis=1, inplace=True)\n",
    "data.head()"
   ]
  },
  {
   "cell_type": "code",
   "execution_count": 4,
   "metadata": {
    "id": "U5OZcLXthm46"
   },
   "outputs": [],
   "source": [
    "def analysis(data: pd.DataFrame):\n",
    "    # проверим, есть ли null значения\n",
    "    count_null = data.isnull().sum().sum()\n",
    "    print('Количетво null значений =', count_null)\n",
    "    # посмотрим на уникальные значения для каждой фичи и для изучения распределения построим гистограмму\n",
    "    features = ['os_id', 'country_id', 'banner_id', 'zone_id', 'impressions']\n",
    "    for feature in features:\n",
    "        uniq_vals = data[feature].nunique()\n",
    "        print(f\"Количество уникальных значений для {feature}:  {uniq_vals}\")\n",
    "        plt.hist(data[feature], bins=min(50,uniq_vals))\n",
    "        plt.show()\n",
    "   # на какие-то характеристик даты посмотрим отдельно\n",
    "    data['date_time'] = pd.to_datetime(data['date_time'])\n",
    "    data_time = data.copy()\n",
    "    data_time['date'] = data['date_time'].dt.date\n",
    "    print(data_time['date'].value_counts())\n",
    "    # также посмотрим как устроены g_0 и g_1\n",
    "    count_g0_neg = len(data[data['g0'] < 0])\n",
    "    count_g1_neg = len(data[data['g1'] < 0])\n",
    "    print(\"Negative g0\", count_g0_neg)\n",
    "    print(\"Negative g1\", count_g1_neg)\n"
   ]
  },
  {
   "cell_type": "code",
   "execution_count": 5,
   "metadata": {
    "colab": {
     "base_uri": "https://localhost:8080/",
     "height": 1000
    },
    "id": "WY5vPQENqbcV",
    "outputId": "a99c41b7-d18c-4f80-ebeb-ad174fb51add"
   },
   "outputs": [
    {
     "name": "stdout",
     "output_type": "stream",
     "text": [
      "Количетво null значений = 59439\n",
      "Количество уникальных значений для os_id:  11\n"
     ]
    },
    {
     "data": {
      "image/png": "[encoded data removed]",
      "text/plain": [
       "<Figure size 432x288 with 1 Axes>"
      ]
     },
     "metadata": {
      "needs_background": "light"
     },
     "output_type": "display_data"
    },
    {
     "name": "stdout",
     "output_type": "stream",
     "text": [
      "Количество уникальных значений для country_id:  17\n"
     ]
    },
    {
     "data": {
      "image/png": "[encoded data removed]",
      "text/plain": [
       "<Figure size 432x288 with 1 Axes>"
      ]
     },
     "metadata": {
      "needs_background": "light"
     },
     "output_type": "display_data"
    },
    {
     "name": "stdout",
     "output_type": "stream",
     "text": [
      "Количество уникальных значений для banner_id:  1633\n"
     ]
    },
    {
     "data": {
      "image/png": "[encoded data removed]",
      "text/plain": [
       "<Figure size 432x288 with 1 Axes>"
      ]
     },
     "metadata": {
      "needs_background": "light"
     },
     "output_type": "display_data"
    },
    {
     "name": "stdout",
     "output_type": "stream",
     "text": [
      "Количество уникальных значений для zone_id:  3444\n"
     ]
    },
    {
     "data": {
      "image/png": "[encoded data removed]",
      "text/plain": [
       "<Figure size 432x288 with 1 Axes>"
      ]
     },
     "metadata": {
      "needs_background": "light"
     },
     "output_type": "display_data"
    },
    {
     "name": "stdout",
     "output_type": "stream",
     "text": [
      "Количество уникальных значений для impressions:  1\n"
     ]
    },
    {
     "data": {
      "image/png": "[encoded data removed]",
      "text/plain": [
       "<Figure size 432x288 with 1 Axes>"
      ]
     },
     "metadata": {
      "needs_background": "light"
     },
     "output_type": "display_data"
    },
    {
     "name": "stdout",
     "output_type": "stream",
     "text": [
      "2021-09-26    3102610\n",
      "2021-09-29    2420588\n",
      "2021-09-27    2367303\n",
      "2021-09-28    2307355\n",
      "2021-10-02    2128978\n",
      "2021-09-30    1851189\n",
      "2021-10-01    1643448\n",
      "2021-09-01          1\n",
      "Name: date, dtype: int64\n",
      "Negative g0 5\n",
      "Negative g1 5\n"
     ]
    }
   ],
   "source": [
    "analysis(data)"
   ]
  },
  {
   "cell_type": "markdown",
   "metadata": {
    "id": "HDb_yN0z59eI"
   },
   "source": [
    "Можно сделать следующие наблюдения: \n",
    "1) null значения есть => вычистим их \\\n",
    "2) impressions не несет никакой полезной информации, т.к. все значения в нем равны 1 => удалим \\\n",
    "3) Дат не так много и видно, что все кроме одной (2021-09-01) идут последовательно друг за другом, в эту же \"странную\" дату попало всего 1 значение, очень похоже на выброс, поэтому уберем эту дату \\\n",
    "4) Из даты больше всего информации несут часы (можно было бы еще разделить сутки на части, но я думаю, это не существенно), т.к. временные данные представлены узким временным отрезком (неделя или чуть больше) \\\n",
    "5) Отрицательные g_0 и g_1 удалим"
   ]
  },
  {
   "cell_type": "code",
   "execution_count": 6,
   "metadata": {
    "id": "3XYLThhTDwc0"
   },
   "outputs": [],
   "source": [
    "from sklearn.preprocessing import OneHotEncoder, StandardScaler"
   ]
  },
  {
   "cell_type": "code",
   "execution_count": 7,
   "metadata": {
    "colab": {
     "base_uri": "https://localhost:8080/"
    },
    "id": "VkyDhKIOE-O8",
    "outputId": "f4074f58-5d22-4eba-fbe3-f6fdcf10e7ed"
   },
   "outputs": [
    {
     "name": "stdout",
     "output_type": "stream",
     "text": [
      "            date_time  zone_id  banner_id            oaid_hash  os_id  \\\n",
      "0 2021-09-27 00:01:30        0          0  5664530014561852622      0   \n",
      "1 2021-09-26 22:54:49        1          1  5186611064559013950      0   \n",
      "2 2021-09-26 23:57:20        2          2  2215519569292448030      0   \n",
      "3 2021-09-27 00:04:30        3          3  6262169206735077204      1   \n",
      "4 2021-09-27 00:06:21        4          4  4778985830203613115      1   \n",
      "\n",
      "   country_id  banner_id0  rate0        g0  coeff_sum0  banner_id1  rate1  \\\n",
      "0           0        1240  0.067  0.035016   -7.268846           0  0.010   \n",
      "1           1           1  0.002  0.054298   -2.657477         269  0.004   \n",
      "2           0           2  0.014  0.014096   -3.824875          21  0.014   \n",
      "3           1           3  0.012  0.015232   -3.461357          99  0.006   \n",
      "4           0           4  0.019  0.051265   -4.009026    11464230  6.790   \n",
      "\n",
      "         g1  coeff_sum1  impressions  clicks  \n",
      "0  0.049516   -5.369901            1       1  \n",
      "1  0.031942   -4.449220            1       1  \n",
      "2  0.014906   -3.939309            1       1  \n",
      "3  0.050671   -3.418403            1       1  \n",
      "4  0.032005   -2.828797            1       1  \n"
     ]
    }
   ],
   "source": [
    "print(data.head())"
   ]
  },
  {
   "cell_type": "code",
   "execution_count": 8,
   "metadata": {
    "id": "-drwQvLpHHrg"
   },
   "outputs": [],
   "source": [
    "from scipy import sparse"
   ]
  },
  {
   "cell_type": "code",
   "execution_count": 9,
   "metadata": {
    "id": "dT-EtIjZ9I03"
   },
   "outputs": [],
   "source": [
    "def feature_engineering(data: pd.DataFrame) -> pd.DataFrame:\n",
    "    # чистим данные в соответствии с выводами выше\n",
    "    data['date_time'] = pd.to_datetime(data['date_time'])\n",
    "    data = data.drop(['impressions', 'oaid_hash', 'rate0', 'rate1'], axis=1)\n",
    "    data = data[data['date_time'] > '2021-09-02']\n",
    "    data['hour'] = data['date_time'].dt.hour\n",
    "    data = data[(data['g1'] > 0) & (data['g0'] > 0)]\n",
    "    # фильтруем случаи когда banner_id0 не совпадает с banner_id\n",
    "    data = data[data['banner_id0'] == data['banner_id']]\n",
    "    data = data.drop(['banner_id0'], axis=1)\n",
    "    data = data.dropna()\n",
    "    \n",
    "    # у нас есть категориальные фичи\n",
    "    # date_time сам по себе не несет какой-то информации,\n",
    "    # поэтому этой колонки и нет в итоговых фичах, вместо нее - часы \n",
    "    not_use = ['g0', 'g1', 'coeff_sum0','coeff_sum1', 'clicks','date_time', 'banner_id1']\n",
    "\n",
    "    # делаем разбиение на трейн и тест: берем в тест последний день\n",
    "    train = data[data['date_time'] < '2021-10-02']\n",
    "    test = data[data['date_time'] >='2021-10-02']\n",
    "    y_train = train['clicks']\n",
    "    y_test = test['clicks']\n",
    "    X_train = train.drop(not_use, axis=1, inplace=False)\n",
    "    X_test = test.drop(not_use, axis=1, inplace=False)\n",
    "    # делаем ван хот энкодинг категориальных фичей\n",
    "    enc = OneHotEncoder(handle_unknown='ignore')\n",
    "    X_train = enc.fit_transform(X_train)\n",
    "    X_test = enc.transform(X_test)\n",
    "    \n",
    "    dists = test[['g0', 'g1', 'coeff_sum0', 'coeff_sum1']]\n",
    "    not_use_test = ['g0', 'g1', 'coeff_sum0','coeff_sum1', 'clicks','date_time']\n",
    "    test = test.drop(not_use_test, axis=1)\n",
    "    \n",
    "    # p_0\n",
    "    X_test_p0 = test.drop(['banner_id1'], axis=1, inplace=False)\n",
    "    X_test_p0 = enc.transform(X_test_p0)\n",
    "    \n",
    "    # p_1\n",
    "    test['banner_id'] = test['banner_id1']\n",
    "    X_test_p1 = test.drop(['banner_id1'], axis=1)\n",
    "    X_test_p1 = enc.transform(X_test_p1)\n",
    "\n",
    "    return X_train, y_train, X_test_p0, X_test_p1, y_test, dists"
   ]
  },
  {
   "cell_type": "code",
   "execution_count": 10,
   "metadata": {
    "id": "-06uHVnrDv6k"
   },
   "outputs": [],
   "source": [
    "X_train, y_train, X_test_p0, X_test_p1, y_test, dist = feature_engineering(data)"
   ]
  },
  {
   "cell_type": "code",
   "execution_count": 11,
   "metadata": {
    "id": "6DYDe75fD9Xu"
   },
   "outputs": [],
   "source": [
    "from sklearn.linear_model import LogisticRegression\n"
   ]
  },
  {
   "cell_type": "code",
   "execution_count": 12,
   "metadata": {
    "id": "Mzvq4iAzG4k0"
   },
   "outputs": [],
   "source": [
    "# создаем модель, берем логистическую регрессию: оптимизатор liblinear - не SGD like + обсуждалась на лекции, поэтому взяла его\n",
    "# состояние фиксируем для воспроизводимости \n",
    "def create_model(C=0.1):\n",
    "    model = LogisticRegression(solver='liblinear', C=C, penalty='l2', random_state=42)\n",
    "    return model"
   ]
  },
  {
   "cell_type": "code",
   "execution_count": 13,
   "metadata": {
    "id": "7xXVo7OGK3ox"
   },
   "outputs": [],
   "source": [
    "best_C = 0.01"
   ]
  },
  {
   "cell_type": "code",
   "execution_count": 14,
   "metadata": {
    "id": "XddhDEG1LH3O"
   },
   "outputs": [],
   "source": [
    "from sklearn.metrics import log_loss, roc_auc_score"
   ]
  },
  {
   "cell_type": "code",
   "execution_count": 15,
   "metadata": {
    "colab": {
     "base_uri": "https://localhost:8080/"
    },
    "id": "ytZTlgD6J7M0",
    "outputId": "401b2ad3-9e80-4375-a8d4-19c27bd57467"
   },
   "outputs": [
    {
     "name": "stdout",
     "output_type": "stream",
     "text": [
      "Auc roc =  0.7908809263721724    logloss =  0.13438044371298458\n",
      "Auc roc =  0.5    logloss =  0.15807389941939862\n"
     ]
    }
   ],
   "source": [
    "# обучим модель с лучшим коэффициентом регуляризации\n",
    "model = create_model(best_C)\n",
    "model.fit(X_train, y_train)\n",
    "y_pred = model.predict(X_test_p0)\n",
    "auc = roc_auc_score(y_test, model.predict_proba(X_test_p0)[:, 1])\n",
    "logloss = log_loss(y_test, model.predict_proba(X_test_p0))\n",
    "print('Auc roc = ', auc,'   logloss = ', logloss)\n",
    "\n",
    "# сравним с бейзлайном: предикт среднего по выборке\n",
    "y_pred_baseline = np.full(y_pred.shape, np.mean(y_train))\n",
    "auc_baseline = roc_auc_score(y_test, y_pred_baseline)\n",
    "logloss_baseline = log_loss(y_test, y_pred_baseline)\n",
    "print('Auc roc = ', auc_baseline,'   logloss = ', logloss_baseline)"
   ]
  },
  {
   "cell_type": "code",
   "execution_count": 16,
   "metadata": {
    "id": "xHDT1tie4kiz"
   },
   "outputs": [],
   "source": [
    "from scipy.special import logit\n",
    "from scipy.stats import norm"
   ]
  },
  {
   "cell_type": "code",
   "execution_count": 17,
   "metadata": {},
   "outputs": [],
   "source": [
    "# Предсказания\n",
    "p_0 = model.predict_proba(X_test_p0)[:, 1]\n",
    "p_1 = model.predict_proba(X_test_p1)[:, 1]"
   ]
  },
  {
   "cell_type": "code",
   "execution_count": 18,
   "metadata": {},
   "outputs": [],
   "source": [
    "def calc_pi(coeff_sum0, coeff_sum1, g0, g1):\n",
    "    return 1. - norm.cdf(0., loc=coeff_sum0 - coeff_sum1, scale=np.sqrt(g0 ** 2 + g1 ** 2) + 1e-6)"
   ]
  },
  {
   "cell_type": "code",
   "execution_count": 19,
   "metadata": {},
   "outputs": [],
   "source": [
    "pi_0 = calc_pi(dist['coeff_sum0'], dist['coeff_sum1'],dist['g0'], dist['g1'])\n",
    "pi_1 = calc_pi(logit(p_0), logit(p_1),dist['g0'], dist['g1'])"
   ]
  },
  {
   "cell_type": "code",
   "execution_count": 20,
   "metadata": {},
   "outputs": [
    {
     "name": "stdout",
     "output_type": "stream",
     "text": [
      "[1.00000000e+00 1.00000000e+00 8.23530133e-11 ... 0.00000000e+00\n",
      " 4.84896323e-01 4.95142993e-01]\n"
     ]
    }
   ],
   "source": [
    "print(pi_0)"
   ]
  },
  {
   "cell_type": "code",
   "execution_count": 25,
   "metadata": {},
   "outputs": [],
   "source": [
    "lam = 10"
   ]
  },
  {
   "cell_type": "code",
   "execution_count": 27,
   "metadata": {},
   "outputs": [
    {
     "name": "stdout",
     "output_type": "stream",
     "text": [
      "0.06660482430264841\n"
     ]
    }
   ],
   "source": [
    "cips = np.mean(y_test * np.clip(pi_1 / (pi_0 + 1e-10), None, lam))\n",
    "print(cips)"
   ]
  },
  {
   "cell_type": "markdown",
   "metadata": {},
   "source": [
    "Выкладки:\n",
    "$$ X \\sim N(coef_0, g0^2)$$\n",
    "$$ Y \\sim N(coef_1, g1^2)$$\n",
    "$$P(X > Y) = 1 - P(X - Y < 0) = 1 - F_{X-Y}(0)$$\n",
    "\n"
   ]
  },
  {
   "cell_type": "code",
   "execution_count": null,
   "metadata": {},
   "outputs": [],
   "source": []
  }
 ],
 "metadata": {
  "colab": {
   "provenance": []
  },
  "kernelspec": {
   "display_name": "Python 3",
   "language": "python",
   "name": "python3"
  },
  "language_info": {
   "codemirror_mode": {
    "name": "ipython",
    "version": 3
   },
   "file_extension": ".py",
   "mimetype": "text/x-python",
   "name": "python",
   "nbconvert_exporter": "python",
   "pygments_lexer": "ipython3",
   "version": "3.8.8"
  }
 },
 "nbformat": 4,
 "nbformat_minor": 1
}
