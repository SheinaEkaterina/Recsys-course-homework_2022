{
 "cells": [
  {
   "cell_type": "code",
   "execution_count": 1,
   "metadata": {},
   "outputs": [],
   "source": [
    "import pandas as pd\n",
    "import numpy as np\n",
    "# import plotly.express as px\n",
    "import matplotlib.pyplot as plt\n",
    "import scipy\n",
    "from sklearn.preprocessing import OneHotEncoder\n",
    "from sklearn.linear_model import LogisticRegression\n",
    "from sklearn.model_selection import cross_validate\n",
    "from sklearn.metrics import roc_auc_score, log_loss\n",
    "from sklearn.utils import shuffle"
   ]
  },
  {
   "cell_type": "code",
   "execution_count": 2,
   "metadata": {
    "pycharm": {
     "name": "#%%\n"
    }
   },
   "outputs": [
    {
     "data": {
      "text/html": [
       "<div>\n",
       "<style scoped>\n",
       "    .dataframe tbody tr th:only-of-type {\n",
       "        vertical-align: middle;\n",
       "    }\n",
       "\n",
       "    .dataframe tbody tr th {\n",
       "        vertical-align: top;\n",
       "    }\n",
       "\n",
       "    .dataframe thead th {\n",
       "        text-align: right;\n",
       "    }\n",
       "</style>\n",
       "<table border=\"1\" class=\"dataframe\">\n",
       "  <thead>\n",
       "    <tr style=\"text-align: right;\">\n",
       "      <th></th>\n",
       "      <th>date_time</th>\n",
       "      <th>zone_id</th>\n",
       "      <th>banner_id</th>\n",
       "      <th>oaid_hash</th>\n",
       "      <th>campaign_clicks</th>\n",
       "      <th>os_id</th>\n",
       "      <th>country_id</th>\n",
       "      <th>banner_id0</th>\n",
       "      <th>rate0</th>\n",
       "      <th>g0</th>\n",
       "      <th>coeff_sum0</th>\n",
       "      <th>banner_id1</th>\n",
       "      <th>rate1</th>\n",
       "      <th>g1</th>\n",
       "      <th>coeff_sum1</th>\n",
       "      <th>impressions</th>\n",
       "      <th>clicks</th>\n",
       "    </tr>\n",
       "  </thead>\n",
       "  <tbody>\n",
       "    <tr>\n",
       "      <th>2742285</th>\n",
       "      <td>2021-09-30 21:13:43.000000</td>\n",
       "      <td>14</td>\n",
       "      <td>145</td>\n",
       "      <td>26046526705677232</td>\n",
       "      <td>0</td>\n",
       "      <td>2</td>\n",
       "      <td>7</td>\n",
       "      <td>145</td>\n",
       "      <td>0.003</td>\n",
       "      <td>0.119393</td>\n",
       "      <td>-2.813851</td>\n",
       "      <td>389</td>\n",
       "      <td>0.003</td>\n",
       "      <td>0.106859</td>\n",
       "      <td>-3.067688</td>\n",
       "      <td>1</td>\n",
       "      <td>0</td>\n",
       "    </tr>\n",
       "    <tr>\n",
       "      <th>5938069</th>\n",
       "      <td>2021-10-01 20:22:30.000000</td>\n",
       "      <td>45</td>\n",
       "      <td>84</td>\n",
       "      <td>2337401976056301079</td>\n",
       "      <td>0</td>\n",
       "      <td>3</td>\n",
       "      <td>7</td>\n",
       "      <td>84</td>\n",
       "      <td>0.001</td>\n",
       "      <td>0.194752</td>\n",
       "      <td>-3.223216</td>\n",
       "      <td>78</td>\n",
       "      <td>0.001</td>\n",
       "      <td>0.205095</td>\n",
       "      <td>-3.357224</td>\n",
       "      <td>1</td>\n",
       "      <td>0</td>\n",
       "    </tr>\n",
       "    <tr>\n",
       "      <th>4984640</th>\n",
       "      <td>2021-09-27 18:06:13.000000</td>\n",
       "      <td>276</td>\n",
       "      <td>660</td>\n",
       "      <td>7260007107358513570</td>\n",
       "      <td>0</td>\n",
       "      <td>0</td>\n",
       "      <td>9</td>\n",
       "      <td>660</td>\n",
       "      <td>0.050</td>\n",
       "      <td>0.095239</td>\n",
       "      <td>-3.983387</td>\n",
       "      <td>768</td>\n",
       "      <td>0.050</td>\n",
       "      <td>0.082167</td>\n",
       "      <td>-4.072194</td>\n",
       "      <td>1</td>\n",
       "      <td>0</td>\n",
       "    </tr>\n",
       "    <tr>\n",
       "      <th>11446352</th>\n",
       "      <td>2021-09-29 16:29:31.000000</td>\n",
       "      <td>1</td>\n",
       "      <td>981</td>\n",
       "      <td>5163493493748815305</td>\n",
       "      <td>0</td>\n",
       "      <td>1</td>\n",
       "      <td>3</td>\n",
       "      <td>981</td>\n",
       "      <td>0.021</td>\n",
       "      <td>0.278653</td>\n",
       "      <td>-3.629209</td>\n",
       "      <td>946</td>\n",
       "      <td>0.004</td>\n",
       "      <td>0.114355</td>\n",
       "      <td>-3.120265</td>\n",
       "      <td>1</td>\n",
       "      <td>0</td>\n",
       "    </tr>\n",
       "    <tr>\n",
       "      <th>4790655</th>\n",
       "      <td>2021-09-28 18:23:48.000000</td>\n",
       "      <td>8</td>\n",
       "      <td>361</td>\n",
       "      <td>5143959845351659368</td>\n",
       "      <td>0</td>\n",
       "      <td>4</td>\n",
       "      <td>0</td>\n",
       "      <td>361</td>\n",
       "      <td>0.008</td>\n",
       "      <td>0.017722</td>\n",
       "      <td>-2.391956</td>\n",
       "      <td>12423579</td>\n",
       "      <td>100.000</td>\n",
       "      <td>0.007353</td>\n",
       "      <td>-2.095399</td>\n",
       "      <td>1</td>\n",
       "      <td>0</td>\n",
       "    </tr>\n",
       "  </tbody>\n",
       "</table>\n",
       "</div>"
      ],
      "text/plain": [
       "                           date_time  zone_id  banner_id            oaid_hash  \\\n",
       "2742285   2021-09-30 21:13:43.000000       14        145    26046526705677232   \n",
       "5938069   2021-10-01 20:22:30.000000       45         84  2337401976056301079   \n",
       "4984640   2021-09-27 18:06:13.000000      276        660  7260007107358513570   \n",
       "11446352  2021-09-29 16:29:31.000000        1        981  5163493493748815305   \n",
       "4790655   2021-09-28 18:23:48.000000        8        361  5143959845351659368   \n",
       "\n",
       "          campaign_clicks  os_id  country_id  banner_id0  rate0        g0  \\\n",
       "2742285                 0      2           7         145  0.003  0.119393   \n",
       "5938069                 0      3           7          84  0.001  0.194752   \n",
       "4984640                 0      0           9         660  0.050  0.095239   \n",
       "11446352                0      1           3         981  0.021  0.278653   \n",
       "4790655                 0      4           0         361  0.008  0.017722   \n",
       "\n",
       "          coeff_sum0  banner_id1    rate1        g1  coeff_sum1  impressions  \\\n",
       "2742285    -2.813851         389    0.003  0.106859   -3.067688            1   \n",
       "5938069    -3.223216          78    0.001  0.205095   -3.357224            1   \n",
       "4984640    -3.983387         768    0.050  0.082167   -4.072194            1   \n",
       "11446352   -3.629209         946    0.004  0.114355   -3.120265            1   \n",
       "4790655    -2.391956    12423579  100.000  0.007353   -2.095399            1   \n",
       "\n",
       "          clicks  \n",
       "2742285        0  \n",
       "5938069        0  \n",
       "4984640        0  \n",
       "11446352       0  \n",
       "4790655        0  "
      ]
     },
     "execution_count": 2,
     "metadata": {},
     "output_type": "execute_result"
    }
   ],
   "source": [
    "data = pd.read_csv('../data/data.csv').sample(frac=0.01, random_state=37)\n",
    "data.head()"
   ]
  },
  {
   "cell_type": "markdown",
   "metadata": {},
   "source": [
    "## Анализ"
   ]
  },
  {
   "cell_type": "code",
   "execution_count": 4,
   "metadata": {},
   "outputs": [
    {
     "ename": "KeyError",
     "evalue": "\"['campaign_clicks', 'impressions'] not found in axis\"",
     "output_type": "error",
     "traceback": [
      "\u001b[0;31m---------------------------------------------------------------------------\u001b[0m",
      "\u001b[0;31mKeyError\u001b[0m                                  Traceback (most recent call last)",
      "Input \u001b[0;32mIn [4]\u001b[0m, in \u001b[0;36m<cell line: 1>\u001b[0;34m()\u001b[0m\n\u001b[0;32m----> 1\u001b[0m \u001b[43mdata\u001b[49m\u001b[38;5;241;43m.\u001b[39;49m\u001b[43mdrop\u001b[49m\u001b[43m(\u001b[49m\u001b[43m[\u001b[49m\u001b[38;5;124;43m'\u001b[39;49m\u001b[38;5;124;43mcampaign_clicks\u001b[39;49m\u001b[38;5;124;43m'\u001b[39;49m\u001b[43m,\u001b[49m\u001b[43m \u001b[49m\u001b[38;5;124;43m'\u001b[39;49m\u001b[38;5;124;43mimpressions\u001b[39;49m\u001b[38;5;124;43m'\u001b[39;49m\u001b[43m]\u001b[49m\u001b[43m,\u001b[49m\u001b[43m \u001b[49m\u001b[43maxis\u001b[49m\u001b[38;5;241;43m=\u001b[39;49m\u001b[38;5;241;43m1\u001b[39;49m\u001b[43m,\u001b[49m\u001b[43m \u001b[49m\u001b[43minplace\u001b[49m\u001b[38;5;241;43m=\u001b[39;49m\u001b[38;5;28;43;01mTrue\u001b[39;49;00m\u001b[43m)\u001b[49m\n\u001b[1;32m      2\u001b[0m data\u001b[38;5;241m.\u001b[39mhead()\n",
      "File \u001b[0;32m~/miniconda3/envs/hse-made-big-data/lib/python3.9/site-packages/pandas/util/_decorators.py:311\u001b[0m, in \u001b[0;36mdeprecate_nonkeyword_arguments.<locals>.decorate.<locals>.wrapper\u001b[0;34m(*args, **kwargs)\u001b[0m\n\u001b[1;32m    305\u001b[0m \u001b[38;5;28;01mif\u001b[39;00m \u001b[38;5;28mlen\u001b[39m(args) \u001b[38;5;241m>\u001b[39m num_allow_args:\n\u001b[1;32m    306\u001b[0m     warnings\u001b[38;5;241m.\u001b[39mwarn(\n\u001b[1;32m    307\u001b[0m         msg\u001b[38;5;241m.\u001b[39mformat(arguments\u001b[38;5;241m=\u001b[39marguments),\n\u001b[1;32m    308\u001b[0m         \u001b[38;5;167;01mFutureWarning\u001b[39;00m,\n\u001b[1;32m    309\u001b[0m         stacklevel\u001b[38;5;241m=\u001b[39mstacklevel,\n\u001b[1;32m    310\u001b[0m     )\n\u001b[0;32m--> 311\u001b[0m \u001b[38;5;28;01mreturn\u001b[39;00m \u001b[43mfunc\u001b[49m\u001b[43m(\u001b[49m\u001b[38;5;241;43m*\u001b[39;49m\u001b[43margs\u001b[49m\u001b[43m,\u001b[49m\u001b[43m \u001b[49m\u001b[38;5;241;43m*\u001b[39;49m\u001b[38;5;241;43m*\u001b[39;49m\u001b[43mkwargs\u001b[49m\u001b[43m)\u001b[49m\n",
      "File \u001b[0;32m~/miniconda3/envs/hse-made-big-data/lib/python3.9/site-packages/pandas/core/frame.py:4957\u001b[0m, in \u001b[0;36mDataFrame.drop\u001b[0;34m(self, labels, axis, index, columns, level, inplace, errors)\u001b[0m\n\u001b[1;32m   4809\u001b[0m \u001b[38;5;129m@deprecate_nonkeyword_arguments\u001b[39m(version\u001b[38;5;241m=\u001b[39m\u001b[38;5;28;01mNone\u001b[39;00m, allowed_args\u001b[38;5;241m=\u001b[39m[\u001b[38;5;124m\"\u001b[39m\u001b[38;5;124mself\u001b[39m\u001b[38;5;124m\"\u001b[39m, \u001b[38;5;124m\"\u001b[39m\u001b[38;5;124mlabels\u001b[39m\u001b[38;5;124m\"\u001b[39m])\n\u001b[1;32m   4810\u001b[0m \u001b[38;5;28;01mdef\u001b[39;00m \u001b[38;5;21mdrop\u001b[39m(\n\u001b[1;32m   4811\u001b[0m     \u001b[38;5;28mself\u001b[39m,\n\u001b[0;32m   (...)\u001b[0m\n\u001b[1;32m   4818\u001b[0m     errors: \u001b[38;5;28mstr\u001b[39m \u001b[38;5;241m=\u001b[39m \u001b[38;5;124m\"\u001b[39m\u001b[38;5;124mraise\u001b[39m\u001b[38;5;124m\"\u001b[39m,\n\u001b[1;32m   4819\u001b[0m ):\n\u001b[1;32m   4820\u001b[0m     \u001b[38;5;124;03m\"\"\"\u001b[39;00m\n\u001b[1;32m   4821\u001b[0m \u001b[38;5;124;03m    Drop specified labels from rows or columns.\u001b[39;00m\n\u001b[1;32m   4822\u001b[0m \n\u001b[0;32m   (...)\u001b[0m\n\u001b[1;32m   4955\u001b[0m \u001b[38;5;124;03m            weight  1.0     0.8\u001b[39;00m\n\u001b[1;32m   4956\u001b[0m \u001b[38;5;124;03m    \"\"\"\u001b[39;00m\n\u001b[0;32m-> 4957\u001b[0m     \u001b[38;5;28;01mreturn\u001b[39;00m \u001b[38;5;28;43msuper\u001b[39;49m\u001b[43m(\u001b[49m\u001b[43m)\u001b[49m\u001b[38;5;241;43m.\u001b[39;49m\u001b[43mdrop\u001b[49m\u001b[43m(\u001b[49m\n\u001b[1;32m   4958\u001b[0m \u001b[43m        \u001b[49m\u001b[43mlabels\u001b[49m\u001b[38;5;241;43m=\u001b[39;49m\u001b[43mlabels\u001b[49m\u001b[43m,\u001b[49m\n\u001b[1;32m   4959\u001b[0m \u001b[43m        \u001b[49m\u001b[43maxis\u001b[49m\u001b[38;5;241;43m=\u001b[39;49m\u001b[43maxis\u001b[49m\u001b[43m,\u001b[49m\n\u001b[1;32m   4960\u001b[0m \u001b[43m        \u001b[49m\u001b[43mindex\u001b[49m\u001b[38;5;241;43m=\u001b[39;49m\u001b[43mindex\u001b[49m\u001b[43m,\u001b[49m\n\u001b[1;32m   4961\u001b[0m \u001b[43m        \u001b[49m\u001b[43mcolumns\u001b[49m\u001b[38;5;241;43m=\u001b[39;49m\u001b[43mcolumns\u001b[49m\u001b[43m,\u001b[49m\n\u001b[1;32m   4962\u001b[0m \u001b[43m        \u001b[49m\u001b[43mlevel\u001b[49m\u001b[38;5;241;43m=\u001b[39;49m\u001b[43mlevel\u001b[49m\u001b[43m,\u001b[49m\n\u001b[1;32m   4963\u001b[0m \u001b[43m        \u001b[49m\u001b[43minplace\u001b[49m\u001b[38;5;241;43m=\u001b[39;49m\u001b[43minplace\u001b[49m\u001b[43m,\u001b[49m\n\u001b[1;32m   4964\u001b[0m \u001b[43m        \u001b[49m\u001b[43merrors\u001b[49m\u001b[38;5;241;43m=\u001b[39;49m\u001b[43merrors\u001b[49m\u001b[43m,\u001b[49m\n\u001b[1;32m   4965\u001b[0m \u001b[43m    \u001b[49m\u001b[43m)\u001b[49m\n",
      "File \u001b[0;32m~/miniconda3/envs/hse-made-big-data/lib/python3.9/site-packages/pandas/core/generic.py:4267\u001b[0m, in \u001b[0;36mNDFrame.drop\u001b[0;34m(self, labels, axis, index, columns, level, inplace, errors)\u001b[0m\n\u001b[1;32m   4265\u001b[0m \u001b[38;5;28;01mfor\u001b[39;00m axis, labels \u001b[38;5;129;01min\u001b[39;00m axes\u001b[38;5;241m.\u001b[39mitems():\n\u001b[1;32m   4266\u001b[0m     \u001b[38;5;28;01mif\u001b[39;00m labels \u001b[38;5;129;01mis\u001b[39;00m \u001b[38;5;129;01mnot\u001b[39;00m \u001b[38;5;28;01mNone\u001b[39;00m:\n\u001b[0;32m-> 4267\u001b[0m         obj \u001b[38;5;241m=\u001b[39m \u001b[43mobj\u001b[49m\u001b[38;5;241;43m.\u001b[39;49m\u001b[43m_drop_axis\u001b[49m\u001b[43m(\u001b[49m\u001b[43mlabels\u001b[49m\u001b[43m,\u001b[49m\u001b[43m \u001b[49m\u001b[43maxis\u001b[49m\u001b[43m,\u001b[49m\u001b[43m \u001b[49m\u001b[43mlevel\u001b[49m\u001b[38;5;241;43m=\u001b[39;49m\u001b[43mlevel\u001b[49m\u001b[43m,\u001b[49m\u001b[43m \u001b[49m\u001b[43merrors\u001b[49m\u001b[38;5;241;43m=\u001b[39;49m\u001b[43merrors\u001b[49m\u001b[43m)\u001b[49m\n\u001b[1;32m   4269\u001b[0m \u001b[38;5;28;01mif\u001b[39;00m inplace:\n\u001b[1;32m   4270\u001b[0m     \u001b[38;5;28mself\u001b[39m\u001b[38;5;241m.\u001b[39m_update_inplace(obj)\n",
      "File \u001b[0;32m~/miniconda3/envs/hse-made-big-data/lib/python3.9/site-packages/pandas/core/generic.py:4311\u001b[0m, in \u001b[0;36mNDFrame._drop_axis\u001b[0;34m(self, labels, axis, level, errors, consolidate, only_slice)\u001b[0m\n\u001b[1;32m   4309\u001b[0m         new_axis \u001b[38;5;241m=\u001b[39m axis\u001b[38;5;241m.\u001b[39mdrop(labels, level\u001b[38;5;241m=\u001b[39mlevel, errors\u001b[38;5;241m=\u001b[39merrors)\n\u001b[1;32m   4310\u001b[0m     \u001b[38;5;28;01melse\u001b[39;00m:\n\u001b[0;32m-> 4311\u001b[0m         new_axis \u001b[38;5;241m=\u001b[39m \u001b[43maxis\u001b[49m\u001b[38;5;241;43m.\u001b[39;49m\u001b[43mdrop\u001b[49m\u001b[43m(\u001b[49m\u001b[43mlabels\u001b[49m\u001b[43m,\u001b[49m\u001b[43m \u001b[49m\u001b[43merrors\u001b[49m\u001b[38;5;241;43m=\u001b[39;49m\u001b[43merrors\u001b[49m\u001b[43m)\u001b[49m\n\u001b[1;32m   4312\u001b[0m     indexer \u001b[38;5;241m=\u001b[39m axis\u001b[38;5;241m.\u001b[39mget_indexer(new_axis)\n\u001b[1;32m   4314\u001b[0m \u001b[38;5;66;03m# Case for non-unique axis\u001b[39;00m\n\u001b[1;32m   4315\u001b[0m \u001b[38;5;28;01melse\u001b[39;00m:\n",
      "File \u001b[0;32m~/miniconda3/envs/hse-made-big-data/lib/python3.9/site-packages/pandas/core/indexes/base.py:6661\u001b[0m, in \u001b[0;36mIndex.drop\u001b[0;34m(self, labels, errors)\u001b[0m\n\u001b[1;32m   6659\u001b[0m \u001b[38;5;28;01mif\u001b[39;00m mask\u001b[38;5;241m.\u001b[39many():\n\u001b[1;32m   6660\u001b[0m     \u001b[38;5;28;01mif\u001b[39;00m errors \u001b[38;5;241m!=\u001b[39m \u001b[38;5;124m\"\u001b[39m\u001b[38;5;124mignore\u001b[39m\u001b[38;5;124m\"\u001b[39m:\n\u001b[0;32m-> 6661\u001b[0m         \u001b[38;5;28;01mraise\u001b[39;00m \u001b[38;5;167;01mKeyError\u001b[39;00m(\u001b[38;5;124mf\u001b[39m\u001b[38;5;124m\"\u001b[39m\u001b[38;5;132;01m{\u001b[39;00m\u001b[38;5;28mlist\u001b[39m(labels[mask])\u001b[38;5;132;01m}\u001b[39;00m\u001b[38;5;124m not found in axis\u001b[39m\u001b[38;5;124m\"\u001b[39m)\n\u001b[1;32m   6662\u001b[0m     indexer \u001b[38;5;241m=\u001b[39m indexer[\u001b[38;5;241m~\u001b[39mmask]\n\u001b[1;32m   6663\u001b[0m \u001b[38;5;28;01mreturn\u001b[39;00m \u001b[38;5;28mself\u001b[39m\u001b[38;5;241m.\u001b[39mdelete(indexer)\n",
      "\u001b[0;31mKeyError\u001b[0m: \"['campaign_clicks', 'impressions'] not found in axis\""
     ]
    }
   ],
   "source": [
    "data.drop(['campaign_clicks', 'impressions'], axis=1, inplace=True)\n",
    "data.head()"
   ]
  },
  {
   "cell_type": "code",
   "execution_count": 5,
   "metadata": {},
   "outputs": [
    {
     "data": {
      "text/plain": [
       "(158215, 15)"
      ]
     },
     "execution_count": 5,
     "metadata": {},
     "output_type": "execute_result"
    }
   ],
   "source": [
    "data.shape"
   ]
  },
  {
   "cell_type": "code",
   "execution_count": 6,
   "metadata": {},
   "outputs": [
    {
     "data": {
      "text/plain": [
       "date_time     136137\n",
       "zone_id         1075\n",
       "banner_id       1148\n",
       "oaid_hash     148462\n",
       "os_id              9\n",
       "country_id        17\n",
       "banner_id0     10666\n",
       "rate0            212\n",
       "g0            154976\n",
       "coeff_sum0    135258\n",
       "banner_id1     32723\n",
       "rate1            422\n",
       "g1            154424\n",
       "coeff_sum1    136571\n",
       "clicks             2\n",
       "dtype: int64"
      ]
     },
     "execution_count": 6,
     "metadata": {},
     "output_type": "execute_result"
    }
   ],
   "source": [
    "data.nunique()"
   ]
  },
  {
   "cell_type": "code",
   "execution_count": 7,
   "metadata": {},
   "outputs": [
    {
     "data": {
      "text/plain": [
       "array([[<AxesSubplot: title={'center': 'g0'}>,\n",
       "        <AxesSubplot: title={'center': 'g1'}>],\n",
       "       [<AxesSubplot: title={'center': 'coeff_sum0'}>,\n",
       "        <AxesSubplot: title={'center': 'coeff_sum1'}>],\n",
       "       [<AxesSubplot: title={'center': 'rate0'}>,\n",
       "        <AxesSubplot: title={'center': 'rate1'}>]], dtype=object)"
      ]
     },
     "execution_count": 7,
     "metadata": {},
     "output_type": "execute_result"
    },
    {
     "data": {
      "image/png": "[encoded data removed]",
      "text/plain": [
       "<Figure size 640x480 with 6 Axes>"
      ]
     },
     "metadata": {},
     "output_type": "display_data"
    }
   ],
   "source": [
    "data[['g0', 'g1', 'coeff_sum0', 'coeff_sum1', 'rate0', 'rate1']].hist()"
   ]
  },
  {
   "cell_type": "code",
   "execution_count": 8,
   "metadata": {},
   "outputs": [],
   "source": [
    "def show_info(col: str):\n",
    "    print(f'info of {col}')\n",
    "    print(f' MIN: {data[col].min()}')\n",
    "    print(f' MAX: {data[col].max()}')\n",
    "    print(f' MEAN: {data[col].mean()}')\n",
    "    print(f' MEDIAN: {data[col].median()}')"
   ]
  },
  {
   "cell_type": "code",
   "execution_count": 9,
   "metadata": {},
   "outputs": [
    {
     "name": "stdout",
     "output_type": "stream",
     "text": [
      "info of g0\n",
      " MIN: 0.0\n",
      " MAX: 691.088272234726\n",
      " MEAN: 0.7950423329676161\n",
      " MEDIAN: 0.0352205198908191\n",
      "info of g1\n",
      " MIN: 0.0\n",
      " MAX: 691.08827222489\n",
      " MEAN: 0.5630889815694168\n",
      " MEDIAN: 0.0354339218903576\n",
      "info of coeff_sum0\n",
      " MIN: -8.01286186185302\n",
      " MAX: 0.0\n",
      " MEAN: -3.97748112333946\n",
      " MEDIAN: -3.92105090985278\n",
      "info of coeff_sum1\n",
      " MIN: -8.60041623487431\n",
      " MAX: 0.112311235456297\n",
      " MEAN: -3.9676780448848623\n",
      " MEDIAN: -3.93090483651505\n",
      "info of rate0\n",
      " MIN: 0.0001\n",
      " MAX: 100.0\n",
      " MEAN: 0.19629075443856744\n",
      " MEDIAN: 0.01\n",
      "info of rate1\n",
      " MIN: 0.00097\n",
      " MAX: 100.0\n",
      " MEAN: 1.445497033702961\n",
      " MEDIAN: 0.014\n"
     ]
    }
   ],
   "source": [
    "new_f = ['g0', 'g1', 'coeff_sum0', 'coeff_sum1', 'rate0', 'rate1']\n",
    "for f in new_f:\n",
    "    show_info(f)"
   ]
  },
  {
   "cell_type": "code",
   "execution_count": 10,
   "metadata": {},
   "outputs": [],
   "source": [
    "data = data.dropna()\n",
    "data = data[data['banner_id'] == data['banner_id0']]"
   ]
  },
  {
   "cell_type": "code",
   "execution_count": 11,
   "metadata": {},
   "outputs": [
    {
     "data": {
      "text/plain": [
       "(139212, 15)"
      ]
     },
     "execution_count": 11,
     "metadata": {},
     "output_type": "execute_result"
    }
   ],
   "source": [
    "data.shape"
   ]
  },
  {
   "cell_type": "code",
   "execution_count": 12,
   "metadata": {},
   "outputs": [
    {
     "data": {
      "text/plain": [
       "date_time     122032\n",
       "zone_id         1035\n",
       "banner_id       1134\n",
       "oaid_hash     131123\n",
       "os_id              9\n",
       "country_id        17\n",
       "banner_id0      1134\n",
       "rate0             48\n",
       "g0            139169\n",
       "coeff_sum0    121704\n",
       "banner_id1     32337\n",
       "rate1            391\n",
       "g1            135641\n",
       "coeff_sum1    122496\n",
       "clicks             2\n",
       "dtype: int64"
      ]
     },
     "execution_count": 12,
     "metadata": {},
     "output_type": "execute_result"
    }
   ],
   "source": [
    "data.nunique()"
   ]
  },
  {
   "cell_type": "code",
   "execution_count": 13,
   "metadata": {},
   "outputs": [],
   "source": [
    "# data = data.drop(['banner_id'], axis=1)"
   ]
  },
  {
   "cell_type": "code",
   "execution_count": 14,
   "metadata": {},
   "outputs": [],
   "source": [
    "data['date'] = data['date_time'].apply(lambda s: s.split()[0])"
   ]
  },
  {
   "cell_type": "code",
   "execution_count": 15,
   "metadata": {},
   "outputs": [],
   "source": [
    "data['time'] = data['date_time'].apply(lambda s: s.split()[1])"
   ]
  },
  {
   "cell_type": "code",
   "execution_count": 16,
   "metadata": {},
   "outputs": [
    {
     "data": {
      "text/html": [
       "<div>\n",
       "<style scoped>\n",
       "    .dataframe tbody tr th:only-of-type {\n",
       "        vertical-align: middle;\n",
       "    }\n",
       "\n",
       "    .dataframe tbody tr th {\n",
       "        vertical-align: top;\n",
       "    }\n",
       "\n",
       "    .dataframe thead th {\n",
       "        text-align: right;\n",
       "    }\n",
       "</style>\n",
       "<table border=\"1\" class=\"dataframe\">\n",
       "  <thead>\n",
       "    <tr style=\"text-align: right;\">\n",
       "      <th></th>\n",
       "      <th>zone_id</th>\n",
       "      <th>banner_id</th>\n",
       "      <th>oaid_hash</th>\n",
       "      <th>os_id</th>\n",
       "      <th>country_id</th>\n",
       "      <th>banner_id0</th>\n",
       "      <th>rate0</th>\n",
       "      <th>g0</th>\n",
       "      <th>coeff_sum0</th>\n",
       "      <th>banner_id1</th>\n",
       "      <th>rate1</th>\n",
       "      <th>g1</th>\n",
       "      <th>coeff_sum1</th>\n",
       "      <th>clicks</th>\n",
       "      <th>date</th>\n",
       "      <th>time</th>\n",
       "    </tr>\n",
       "  </thead>\n",
       "  <tbody>\n",
       "    <tr>\n",
       "      <th>2742285</th>\n",
       "      <td>14</td>\n",
       "      <td>145</td>\n",
       "      <td>26046526705677232</td>\n",
       "      <td>2</td>\n",
       "      <td>7</td>\n",
       "      <td>145</td>\n",
       "      <td>0.003</td>\n",
       "      <td>0.119393</td>\n",
       "      <td>-2.813851</td>\n",
       "      <td>389</td>\n",
       "      <td>0.003</td>\n",
       "      <td>0.106859</td>\n",
       "      <td>-3.067688</td>\n",
       "      <td>0</td>\n",
       "      <td>2021-09-30</td>\n",
       "      <td>21:13:43.000000</td>\n",
       "    </tr>\n",
       "    <tr>\n",
       "      <th>5938069</th>\n",
       "      <td>45</td>\n",
       "      <td>84</td>\n",
       "      <td>2337401976056301079</td>\n",
       "      <td>3</td>\n",
       "      <td>7</td>\n",
       "      <td>84</td>\n",
       "      <td>0.001</td>\n",
       "      <td>0.194752</td>\n",
       "      <td>-3.223216</td>\n",
       "      <td>78</td>\n",
       "      <td>0.001</td>\n",
       "      <td>0.205095</td>\n",
       "      <td>-3.357224</td>\n",
       "      <td>0</td>\n",
       "      <td>2021-10-01</td>\n",
       "      <td>20:22:30.000000</td>\n",
       "    </tr>\n",
       "  </tbody>\n",
       "</table>\n",
       "</div>"
      ],
      "text/plain": [
       "         zone_id  banner_id            oaid_hash  os_id  country_id  \\\n",
       "2742285       14        145    26046526705677232      2           7   \n",
       "5938069       45         84  2337401976056301079      3           7   \n",
       "\n",
       "         banner_id0  rate0        g0  coeff_sum0  banner_id1  rate1        g1  \\\n",
       "2742285         145  0.003  0.119393   -2.813851         389  0.003  0.106859   \n",
       "5938069          84  0.001  0.194752   -3.223216          78  0.001  0.205095   \n",
       "\n",
       "         coeff_sum1  clicks        date             time  \n",
       "2742285   -3.067688       0  2021-09-30  21:13:43.000000  \n",
       "5938069   -3.357224       0  2021-10-01  20:22:30.000000  "
      ]
     },
     "execution_count": 16,
     "metadata": {},
     "output_type": "execute_result"
    }
   ],
   "source": [
    "data.drop('date_time', axis=1, inplace=True)\n",
    "data.head(2)"
   ]
  },
  {
   "cell_type": "code",
   "execution_count": 17,
   "metadata": {},
   "outputs": [
    {
     "data": {
      "text/plain": [
       "array(['2021-09-30', '2021-10-01', '2021-09-27', '2021-09-29',\n",
       "       '2021-09-28', '2021-10-02', '2021-09-26'], dtype=object)"
      ]
     },
     "execution_count": 17,
     "metadata": {},
     "output_type": "execute_result"
    }
   ],
   "source": [
    "data.date.unique()"
   ]
  },
  {
   "cell_type": "code",
   "execution_count": 18,
   "metadata": {},
   "outputs": [
    {
     "data": {
      "text/html": [
       "<div>\n",
       "<style scoped>\n",
       "    .dataframe tbody tr th:only-of-type {\n",
       "        vertical-align: middle;\n",
       "    }\n",
       "\n",
       "    .dataframe tbody tr th {\n",
       "        vertical-align: top;\n",
       "    }\n",
       "\n",
       "    .dataframe thead th {\n",
       "        text-align: right;\n",
       "    }\n",
       "</style>\n",
       "<table border=\"1\" class=\"dataframe\">\n",
       "  <thead>\n",
       "    <tr style=\"text-align: right;\">\n",
       "      <th></th>\n",
       "      <th>zone_id</th>\n",
       "      <th>banner_id</th>\n",
       "      <th>oaid_hash</th>\n",
       "      <th>os_id</th>\n",
       "      <th>country_id</th>\n",
       "      <th>banner_id0</th>\n",
       "      <th>rate0</th>\n",
       "      <th>g0</th>\n",
       "      <th>coeff_sum0</th>\n",
       "      <th>banner_id1</th>\n",
       "      <th>rate1</th>\n",
       "      <th>g1</th>\n",
       "      <th>coeff_sum1</th>\n",
       "      <th>clicks</th>\n",
       "      <th>date</th>\n",
       "      <th>time</th>\n",
       "    </tr>\n",
       "  </thead>\n",
       "  <tbody>\n",
       "  </tbody>\n",
       "</table>\n",
       "</div>"
      ],
      "text/plain": [
       "Empty DataFrame\n",
       "Columns: [zone_id, banner_id, oaid_hash, os_id, country_id, banner_id0, rate0, g0, coeff_sum0, banner_id1, rate1, g1, coeff_sum1, clicks, date, time]\n",
       "Index: []"
      ]
     },
     "execution_count": 18,
     "metadata": {},
     "output_type": "execute_result"
    }
   ],
   "source": [
    "data[ data.date == '2021-09-01' ]"
   ]
  },
  {
   "cell_type": "markdown",
   "metadata": {},
   "source": [
    "## feature_engineering"
   ]
  },
  {
   "cell_type": "code",
   "execution_count": 20,
   "metadata": {},
   "outputs": [],
   "source": [
    "data['hour'] = data['time'].apply(lambda s: int(float(s.split(':')[0])))\n",
    "data['minute'] = data['time'].apply(lambda s: int(float(s.split(':')[1])))"
   ]
  },
  {
   "cell_type": "code",
   "execution_count": 21,
   "metadata": {},
   "outputs": [
    {
     "data": {
      "text/plain": [
       "18969"
      ]
     },
     "execution_count": 21,
     "metadata": {},
     "output_type": "execute_result"
    }
   ],
   "source": [
    "indx_test = data.date == '2021-10-02'\n",
    "indx_test.sum()"
   ]
  },
  {
   "cell_type": "code",
   "execution_count": 22,
   "metadata": {},
   "outputs": [
    {
     "data": {
      "text/html": [
       "<div>\n",
       "<style scoped>\n",
       "    .dataframe tbody tr th:only-of-type {\n",
       "        vertical-align: middle;\n",
       "    }\n",
       "\n",
       "    .dataframe tbody tr th {\n",
       "        vertical-align: top;\n",
       "    }\n",
       "\n",
       "    .dataframe thead th {\n",
       "        text-align: right;\n",
       "    }\n",
       "</style>\n",
       "<table border=\"1\" class=\"dataframe\">\n",
       "  <thead>\n",
       "    <tr style=\"text-align: right;\">\n",
       "      <th></th>\n",
       "      <th>zone_id</th>\n",
       "      <th>banner_id</th>\n",
       "      <th>oaid_hash</th>\n",
       "      <th>os_id</th>\n",
       "      <th>country_id</th>\n",
       "      <th>banner_id0</th>\n",
       "      <th>rate0</th>\n",
       "      <th>g0</th>\n",
       "      <th>coeff_sum0</th>\n",
       "      <th>banner_id1</th>\n",
       "      <th>rate1</th>\n",
       "      <th>g1</th>\n",
       "      <th>coeff_sum1</th>\n",
       "      <th>clicks</th>\n",
       "      <th>hour</th>\n",
       "      <th>minute</th>\n",
       "    </tr>\n",
       "  </thead>\n",
       "  <tbody>\n",
       "    <tr>\n",
       "      <th>2742285</th>\n",
       "      <td>14</td>\n",
       "      <td>145</td>\n",
       "      <td>26046526705677232</td>\n",
       "      <td>2</td>\n",
       "      <td>7</td>\n",
       "      <td>145</td>\n",
       "      <td>0.003</td>\n",
       "      <td>0.119393</td>\n",
       "      <td>-2.813851</td>\n",
       "      <td>389</td>\n",
       "      <td>0.003</td>\n",
       "      <td>0.106859</td>\n",
       "      <td>-3.067688</td>\n",
       "      <td>0</td>\n",
       "      <td>21</td>\n",
       "      <td>13</td>\n",
       "    </tr>\n",
       "    <tr>\n",
       "      <th>5938069</th>\n",
       "      <td>45</td>\n",
       "      <td>84</td>\n",
       "      <td>2337401976056301079</td>\n",
       "      <td>3</td>\n",
       "      <td>7</td>\n",
       "      <td>84</td>\n",
       "      <td>0.001</td>\n",
       "      <td>0.194752</td>\n",
       "      <td>-3.223216</td>\n",
       "      <td>78</td>\n",
       "      <td>0.001</td>\n",
       "      <td>0.205095</td>\n",
       "      <td>-3.357224</td>\n",
       "      <td>0</td>\n",
       "      <td>20</td>\n",
       "      <td>22</td>\n",
       "    </tr>\n",
       "    <tr>\n",
       "      <th>4984640</th>\n",
       "      <td>276</td>\n",
       "      <td>660</td>\n",
       "      <td>7260007107358513570</td>\n",
       "      <td>0</td>\n",
       "      <td>9</td>\n",
       "      <td>660</td>\n",
       "      <td>0.050</td>\n",
       "      <td>0.095239</td>\n",
       "      <td>-3.983387</td>\n",
       "      <td>768</td>\n",
       "      <td>0.050</td>\n",
       "      <td>0.082167</td>\n",
       "      <td>-4.072194</td>\n",
       "      <td>0</td>\n",
       "      <td>18</td>\n",
       "      <td>6</td>\n",
       "    </tr>\n",
       "    <tr>\n",
       "      <th>11446352</th>\n",
       "      <td>1</td>\n",
       "      <td>981</td>\n",
       "      <td>5163493493748815305</td>\n",
       "      <td>1</td>\n",
       "      <td>3</td>\n",
       "      <td>981</td>\n",
       "      <td>0.021</td>\n",
       "      <td>0.278653</td>\n",
       "      <td>-3.629209</td>\n",
       "      <td>946</td>\n",
       "      <td>0.004</td>\n",
       "      <td>0.114355</td>\n",
       "      <td>-3.120265</td>\n",
       "      <td>0</td>\n",
       "      <td>16</td>\n",
       "      <td>29</td>\n",
       "    </tr>\n",
       "    <tr>\n",
       "      <th>4790655</th>\n",
       "      <td>8</td>\n",
       "      <td>361</td>\n",
       "      <td>5143959845351659368</td>\n",
       "      <td>4</td>\n",
       "      <td>0</td>\n",
       "      <td>361</td>\n",
       "      <td>0.008</td>\n",
       "      <td>0.017722</td>\n",
       "      <td>-2.391956</td>\n",
       "      <td>12423579</td>\n",
       "      <td>100.000</td>\n",
       "      <td>0.007353</td>\n",
       "      <td>-2.095399</td>\n",
       "      <td>0</td>\n",
       "      <td>18</td>\n",
       "      <td>23</td>\n",
       "    </tr>\n",
       "  </tbody>\n",
       "</table>\n",
       "</div>"
      ],
      "text/plain": [
       "          zone_id  banner_id            oaid_hash  os_id  country_id  \\\n",
       "2742285        14        145    26046526705677232      2           7   \n",
       "5938069        45         84  2337401976056301079      3           7   \n",
       "4984640       276        660  7260007107358513570      0           9   \n",
       "11446352        1        981  5163493493748815305      1           3   \n",
       "4790655         8        361  5143959845351659368      4           0   \n",
       "\n",
       "          banner_id0  rate0        g0  coeff_sum0  banner_id1    rate1  \\\n",
       "2742285          145  0.003  0.119393   -2.813851         389    0.003   \n",
       "5938069           84  0.001  0.194752   -3.223216          78    0.001   \n",
       "4984640          660  0.050  0.095239   -3.983387         768    0.050   \n",
       "11446352         981  0.021  0.278653   -3.629209         946    0.004   \n",
       "4790655          361  0.008  0.017722   -2.391956    12423579  100.000   \n",
       "\n",
       "                g1  coeff_sum1  clicks  hour  minute  \n",
       "2742285   0.106859   -3.067688       0    21      13  \n",
       "5938069   0.205095   -3.357224       0    20      22  \n",
       "4984640   0.082167   -4.072194       0    18       6  \n",
       "11446352  0.114355   -3.120265       0    16      29  \n",
       "4790655   0.007353   -2.095399       0    18      23  "
      ]
     },
     "execution_count": 22,
     "metadata": {},
     "output_type": "execute_result"
    }
   ],
   "source": [
    "data.drop(['date', 'time'], axis=1, inplace=True)\n",
    "data.head()"
   ]
  },
  {
   "cell_type": "code",
   "execution_count": 23,
   "metadata": {},
   "outputs": [],
   "source": [
    "data['hour_sin'] = np.sin(data.hour*(2.*np.pi/24))\n",
    "data['hour_cos'] = np.cos(data.hour*(2.*np.pi/24))\n",
    "\n",
    "data['minute_sin'] = np.sin((data.minute-1)*(2.*np.pi/60))\n",
    "data['minute_cos'] = np.cos((data.minute-1)*(2.*np.pi/60))"
   ]
  },
  {
   "cell_type": "code",
   "execution_count": 24,
   "metadata": {},
   "outputs": [
    {
     "data": {
      "text/html": [
       "<div>\n",
       "<style scoped>\n",
       "    .dataframe tbody tr th:only-of-type {\n",
       "        vertical-align: middle;\n",
       "    }\n",
       "\n",
       "    .dataframe tbody tr th {\n",
       "        vertical-align: top;\n",
       "    }\n",
       "\n",
       "    .dataframe thead th {\n",
       "        text-align: right;\n",
       "    }\n",
       "</style>\n",
       "<table border=\"1\" class=\"dataframe\">\n",
       "  <thead>\n",
       "    <tr style=\"text-align: right;\">\n",
       "      <th></th>\n",
       "      <th>zone_id</th>\n",
       "      <th>banner_id</th>\n",
       "      <th>oaid_hash</th>\n",
       "      <th>os_id</th>\n",
       "      <th>country_id</th>\n",
       "      <th>banner_id0</th>\n",
       "      <th>rate0</th>\n",
       "      <th>g0</th>\n",
       "      <th>coeff_sum0</th>\n",
       "      <th>banner_id1</th>\n",
       "      <th>rate1</th>\n",
       "      <th>g1</th>\n",
       "      <th>coeff_sum1</th>\n",
       "      <th>clicks</th>\n",
       "      <th>hour_sin</th>\n",
       "      <th>hour_cos</th>\n",
       "      <th>minute_sin</th>\n",
       "      <th>minute_cos</th>\n",
       "    </tr>\n",
       "  </thead>\n",
       "  <tbody>\n",
       "    <tr>\n",
       "      <th>2742285</th>\n",
       "      <td>14</td>\n",
       "      <td>145</td>\n",
       "      <td>26046526705677232</td>\n",
       "      <td>2</td>\n",
       "      <td>7</td>\n",
       "      <td>145</td>\n",
       "      <td>0.003</td>\n",
       "      <td>0.119393</td>\n",
       "      <td>-2.813851</td>\n",
       "      <td>389</td>\n",
       "      <td>0.003</td>\n",
       "      <td>0.106859</td>\n",
       "      <td>-3.067688</td>\n",
       "      <td>0</td>\n",
       "      <td>-0.707107</td>\n",
       "      <td>7.071068e-01</td>\n",
       "      <td>0.951057</td>\n",
       "      <td>0.309017</td>\n",
       "    </tr>\n",
       "    <tr>\n",
       "      <th>5938069</th>\n",
       "      <td>45</td>\n",
       "      <td>84</td>\n",
       "      <td>2337401976056301079</td>\n",
       "      <td>3</td>\n",
       "      <td>7</td>\n",
       "      <td>84</td>\n",
       "      <td>0.001</td>\n",
       "      <td>0.194752</td>\n",
       "      <td>-3.223216</td>\n",
       "      <td>78</td>\n",
       "      <td>0.001</td>\n",
       "      <td>0.205095</td>\n",
       "      <td>-3.357224</td>\n",
       "      <td>0</td>\n",
       "      <td>-0.866025</td>\n",
       "      <td>5.000000e-01</td>\n",
       "      <td>0.809017</td>\n",
       "      <td>-0.587785</td>\n",
       "    </tr>\n",
       "    <tr>\n",
       "      <th>4984640</th>\n",
       "      <td>276</td>\n",
       "      <td>660</td>\n",
       "      <td>7260007107358513570</td>\n",
       "      <td>0</td>\n",
       "      <td>9</td>\n",
       "      <td>660</td>\n",
       "      <td>0.050</td>\n",
       "      <td>0.095239</td>\n",
       "      <td>-3.983387</td>\n",
       "      <td>768</td>\n",
       "      <td>0.050</td>\n",
       "      <td>0.082167</td>\n",
       "      <td>-4.072194</td>\n",
       "      <td>0</td>\n",
       "      <td>-1.000000</td>\n",
       "      <td>-1.836970e-16</td>\n",
       "      <td>0.500000</td>\n",
       "      <td>0.866025</td>\n",
       "    </tr>\n",
       "    <tr>\n",
       "      <th>11446352</th>\n",
       "      <td>1</td>\n",
       "      <td>981</td>\n",
       "      <td>5163493493748815305</td>\n",
       "      <td>1</td>\n",
       "      <td>3</td>\n",
       "      <td>981</td>\n",
       "      <td>0.021</td>\n",
       "      <td>0.278653</td>\n",
       "      <td>-3.629209</td>\n",
       "      <td>946</td>\n",
       "      <td>0.004</td>\n",
       "      <td>0.114355</td>\n",
       "      <td>-3.120265</td>\n",
       "      <td>0</td>\n",
       "      <td>-0.866025</td>\n",
       "      <td>-5.000000e-01</td>\n",
       "      <td>0.207912</td>\n",
       "      <td>-0.978148</td>\n",
       "    </tr>\n",
       "    <tr>\n",
       "      <th>4790655</th>\n",
       "      <td>8</td>\n",
       "      <td>361</td>\n",
       "      <td>5143959845351659368</td>\n",
       "      <td>4</td>\n",
       "      <td>0</td>\n",
       "      <td>361</td>\n",
       "      <td>0.008</td>\n",
       "      <td>0.017722</td>\n",
       "      <td>-2.391956</td>\n",
       "      <td>12423579</td>\n",
       "      <td>100.000</td>\n",
       "      <td>0.007353</td>\n",
       "      <td>-2.095399</td>\n",
       "      <td>0</td>\n",
       "      <td>-1.000000</td>\n",
       "      <td>-1.836970e-16</td>\n",
       "      <td>0.743145</td>\n",
       "      <td>-0.669131</td>\n",
       "    </tr>\n",
       "  </tbody>\n",
       "</table>\n",
       "</div>"
      ],
      "text/plain": [
       "          zone_id  banner_id            oaid_hash  os_id  country_id  \\\n",
       "2742285        14        145    26046526705677232      2           7   \n",
       "5938069        45         84  2337401976056301079      3           7   \n",
       "4984640       276        660  7260007107358513570      0           9   \n",
       "11446352        1        981  5163493493748815305      1           3   \n",
       "4790655         8        361  5143959845351659368      4           0   \n",
       "\n",
       "          banner_id0  rate0        g0  coeff_sum0  banner_id1    rate1  \\\n",
       "2742285          145  0.003  0.119393   -2.813851         389    0.003   \n",
       "5938069           84  0.001  0.194752   -3.223216          78    0.001   \n",
       "4984640          660  0.050  0.095239   -3.983387         768    0.050   \n",
       "11446352         981  0.021  0.278653   -3.629209         946    0.004   \n",
       "4790655          361  0.008  0.017722   -2.391956    12423579  100.000   \n",
       "\n",
       "                g1  coeff_sum1  clicks  hour_sin      hour_cos  minute_sin  \\\n",
       "2742285   0.106859   -3.067688       0 -0.707107  7.071068e-01    0.951057   \n",
       "5938069   0.205095   -3.357224       0 -0.866025  5.000000e-01    0.809017   \n",
       "4984640   0.082167   -4.072194       0 -1.000000 -1.836970e-16    0.500000   \n",
       "11446352  0.114355   -3.120265       0 -0.866025 -5.000000e-01    0.207912   \n",
       "4790655   0.007353   -2.095399       0 -1.000000 -1.836970e-16    0.743145   \n",
       "\n",
       "          minute_cos  \n",
       "2742285     0.309017  \n",
       "5938069    -0.587785  \n",
       "4984640     0.866025  \n",
       "11446352   -0.978148  \n",
       "4790655    -0.669131  "
      ]
     },
     "execution_count": 24,
     "metadata": {},
     "output_type": "execute_result"
    }
   ],
   "source": [
    "data.drop('hour', axis=1, inplace=True)\n",
    "data.drop('minute', axis=1, inplace=True)\n",
    "data.head()"
   ]
  },
  {
   "cell_type": "code",
   "execution_count": 25,
   "metadata": {},
   "outputs": [
    {
     "data": {
      "text/plain": [
       "zone_id         1035\n",
       "banner_id       1134\n",
       "oaid_hash     131123\n",
       "os_id              9\n",
       "country_id        17\n",
       "banner_id0      1134\n",
       "rate0             48\n",
       "g0            139169\n",
       "coeff_sum0    121704\n",
       "banner_id1     32337\n",
       "rate1            391\n",
       "g1            135641\n",
       "coeff_sum1    122496\n",
       "clicks             2\n",
       "hour_sin          24\n",
       "hour_cos          24\n",
       "minute_sin        60\n",
       "minute_cos        58\n",
       "dtype: int64"
      ]
     },
     "execution_count": 25,
     "metadata": {},
     "output_type": "execute_result"
    }
   ],
   "source": [
    "data.nunique()"
   ]
  },
  {
   "cell_type": "code",
   "execution_count": 26,
   "metadata": {},
   "outputs": [],
   "source": [
    "categories = ['os_id', 'country_id']\n",
    "f_to_drop = ['oaid_hash', 'zone_id']"
   ]
  },
  {
   "cell_type": "code",
   "execution_count": 27,
   "metadata": {},
   "outputs": [],
   "source": [
    "data.drop(f_to_drop, axis=1, inplace=True)"
   ]
  },
  {
   "cell_type": "code",
   "execution_count": 28,
   "metadata": {},
   "outputs": [],
   "source": [
    "data_categories = data[categories]"
   ]
  },
  {
   "cell_type": "code",
   "execution_count": 30,
   "metadata": {},
   "outputs": [],
   "source": [
    "encoder = OneHotEncoder(sparse=False)"
   ]
  },
  {
   "cell_type": "code",
   "execution_count": 31,
   "metadata": {},
   "outputs": [
    {
     "data": {
      "text/html": [
       "<style>#sk-container-id-1 {color: black;background-color: white;}#sk-container-id-1 pre{padding: 0;}#sk-container-id-1 div.sk-toggleable {background-color: white;}#sk-container-id-1 label.sk-toggleable__label {cursor: pointer;display: block;width: 100%;margin-bottom: 0;padding: 0.3em;box-sizing: border-box;text-align: center;}#sk-container-id-1 label.sk-toggleable__label-arrow:before {content: \"▸\";float: left;margin-right: 0.25em;color: #696969;}#sk-container-id-1 label.sk-toggleable__label-arrow:hover:before {color: black;}#sk-container-id-1 div.sk-estimator:hover label.sk-toggleable__label-arrow:before {color: black;}#sk-container-id-1 div.sk-toggleable__content {max-height: 0;max-width: 0;overflow: hidden;text-align: left;background-color: #f0f8ff;}#sk-container-id-1 div.sk-toggleable__content pre {margin: 0.2em;color: black;border-radius: 0.25em;background-color: #f0f8ff;}#sk-container-id-1 input.sk-toggleable__control:checked~div.sk-toggleable__content {max-height: 200px;max-width: 100%;overflow: auto;}#sk-container-id-1 input.sk-toggleable__control:checked~label.sk-toggleable__label-arrow:before {content: \"▾\";}#sk-container-id-1 div.sk-estimator input.sk-toggleable__control:checked~label.sk-toggleable__label {background-color: #d4ebff;}#sk-container-id-1 div.sk-label input.sk-toggleable__control:checked~label.sk-toggleable__label {background-color: #d4ebff;}#sk-container-id-1 input.sk-hidden--visually {border: 0;clip: rect(1px 1px 1px 1px);clip: rect(1px, 1px, 1px, 1px);height: 1px;margin: -1px;overflow: hidden;padding: 0;position: absolute;width: 1px;}#sk-container-id-1 div.sk-estimator {font-family: monospace;background-color: #f0f8ff;border: 1px dotted black;border-radius: 0.25em;box-sizing: border-box;margin-bottom: 0.5em;}#sk-container-id-1 div.sk-estimator:hover {background-color: #d4ebff;}#sk-container-id-1 div.sk-parallel-item::after {content: \"\";width: 100%;border-bottom: 1px solid gray;flex-grow: 1;}#sk-container-id-1 div.sk-label:hover label.sk-toggleable__label {background-color: #d4ebff;}#sk-container-id-1 div.sk-serial::before {content: \"\";position: absolute;border-left: 1px solid gray;box-sizing: border-box;top: 0;bottom: 0;left: 50%;z-index: 0;}#sk-container-id-1 div.sk-serial {display: flex;flex-direction: column;align-items: center;background-color: white;padding-right: 0.2em;padding-left: 0.2em;position: relative;}#sk-container-id-1 div.sk-item {position: relative;z-index: 1;}#sk-container-id-1 div.sk-parallel {display: flex;align-items: stretch;justify-content: center;background-color: white;position: relative;}#sk-container-id-1 div.sk-item::before, #sk-container-id-1 div.sk-parallel-item::before {content: \"\";position: absolute;border-left: 1px solid gray;box-sizing: border-box;top: 0;bottom: 0;left: 50%;z-index: -1;}#sk-container-id-1 div.sk-parallel-item {display: flex;flex-direction: column;z-index: 1;position: relative;background-color: white;}#sk-container-id-1 div.sk-parallel-item:first-child::after {align-self: flex-end;width: 50%;}#sk-container-id-1 div.sk-parallel-item:last-child::after {align-self: flex-start;width: 50%;}#sk-container-id-1 div.sk-parallel-item:only-child::after {width: 0;}#sk-container-id-1 div.sk-dashed-wrapped {border: 1px dashed gray;margin: 0 0.4em 0.5em 0.4em;box-sizing: border-box;padding-bottom: 0.4em;background-color: white;}#sk-container-id-1 div.sk-label label {font-family: monospace;font-weight: bold;display: inline-block;line-height: 1.2em;}#sk-container-id-1 div.sk-label-container {text-align: center;}#sk-container-id-1 div.sk-container {/* jupyter's `normalize.less` sets `[hidden] { display: none; }` but bootstrap.min.css set `[hidden] { display: none !important; }` so we also need the `!important` here to be able to override the default hidden behavior on the sphinx rendered scikit-learn.org. See: https://github.com/scikit-learn/scikit-learn/issues/21755 */display: inline-block !important;position: relative;}#sk-container-id-1 div.sk-text-repr-fallback {display: none;}</style><div id=\"sk-container-id-1\" class=\"sk-top-container\"><div class=\"sk-text-repr-fallback\"><pre>OneHotEncoder(sparse=False)</pre><b>In a Jupyter environment, please rerun this cell to show the HTML representation or trust the notebook. <br />On GitHub, the HTML representation is unable to render, please try loading this page with nbviewer.org.</b></div><div class=\"sk-container\" hidden><div class=\"sk-item\"><div class=\"sk-estimator sk-toggleable\"><input class=\"sk-toggleable__control sk-hidden--visually\" id=\"sk-estimator-id-1\" type=\"checkbox\" checked><label for=\"sk-estimator-id-1\" class=\"sk-toggleable__label sk-toggleable__label-arrow\">OneHotEncoder</label><div class=\"sk-toggleable__content\"><pre>OneHotEncoder(sparse=False)</pre></div></div></div></div></div>"
      ],
      "text/plain": [
       "OneHotEncoder(sparse=False)"
      ]
     },
     "execution_count": 31,
     "metadata": {},
     "output_type": "execute_result"
    }
   ],
   "source": [
    "encoder.fit(data_categories)"
   ]
  },
  {
   "cell_type": "code",
   "execution_count": 32,
   "metadata": {},
   "outputs": [],
   "source": [
    "data_categories_encodeed = encoder.transform(data_categories)"
   ]
  },
  {
   "cell_type": "code",
   "execution_count": 33,
   "metadata": {},
   "outputs": [
    {
     "data": {
      "text/plain": [
       "(139212, 26)"
      ]
     },
     "execution_count": 33,
     "metadata": {},
     "output_type": "execute_result"
    }
   ],
   "source": [
    "data_categories_encodeed.shape"
   ]
  },
  {
   "cell_type": "code",
   "execution_count": 34,
   "metadata": {},
   "outputs": [
    {
     "data": {
      "text/html": [
       "<div>\n",
       "<style scoped>\n",
       "    .dataframe tbody tr th:only-of-type {\n",
       "        vertical-align: middle;\n",
       "    }\n",
       "\n",
       "    .dataframe tbody tr th {\n",
       "        vertical-align: top;\n",
       "    }\n",
       "\n",
       "    .dataframe thead th {\n",
       "        text-align: right;\n",
       "    }\n",
       "</style>\n",
       "<table border=\"1\" class=\"dataframe\">\n",
       "  <thead>\n",
       "    <tr style=\"text-align: right;\">\n",
       "      <th></th>\n",
       "      <th>banner_id</th>\n",
       "      <th>banner_id0</th>\n",
       "      <th>rate0</th>\n",
       "      <th>g0</th>\n",
       "      <th>coeff_sum0</th>\n",
       "      <th>banner_id1</th>\n",
       "      <th>rate1</th>\n",
       "      <th>g1</th>\n",
       "      <th>coeff_sum1</th>\n",
       "      <th>clicks</th>\n",
       "      <th>hour_sin</th>\n",
       "      <th>hour_cos</th>\n",
       "      <th>minute_sin</th>\n",
       "      <th>minute_cos</th>\n",
       "    </tr>\n",
       "  </thead>\n",
       "  <tbody>\n",
       "    <tr>\n",
       "      <th>2742285</th>\n",
       "      <td>145</td>\n",
       "      <td>145</td>\n",
       "      <td>0.003</td>\n",
       "      <td>0.119393</td>\n",
       "      <td>-2.813851</td>\n",
       "      <td>389</td>\n",
       "      <td>0.003</td>\n",
       "      <td>0.106859</td>\n",
       "      <td>-3.067688</td>\n",
       "      <td>0</td>\n",
       "      <td>-0.707107</td>\n",
       "      <td>7.071068e-01</td>\n",
       "      <td>0.951057</td>\n",
       "      <td>0.309017</td>\n",
       "    </tr>\n",
       "    <tr>\n",
       "      <th>5938069</th>\n",
       "      <td>84</td>\n",
       "      <td>84</td>\n",
       "      <td>0.001</td>\n",
       "      <td>0.194752</td>\n",
       "      <td>-3.223216</td>\n",
       "      <td>78</td>\n",
       "      <td>0.001</td>\n",
       "      <td>0.205095</td>\n",
       "      <td>-3.357224</td>\n",
       "      <td>0</td>\n",
       "      <td>-0.866025</td>\n",
       "      <td>5.000000e-01</td>\n",
       "      <td>0.809017</td>\n",
       "      <td>-0.587785</td>\n",
       "    </tr>\n",
       "    <tr>\n",
       "      <th>4984640</th>\n",
       "      <td>660</td>\n",
       "      <td>660</td>\n",
       "      <td>0.050</td>\n",
       "      <td>0.095239</td>\n",
       "      <td>-3.983387</td>\n",
       "      <td>768</td>\n",
       "      <td>0.050</td>\n",
       "      <td>0.082167</td>\n",
       "      <td>-4.072194</td>\n",
       "      <td>0</td>\n",
       "      <td>-1.000000</td>\n",
       "      <td>-1.836970e-16</td>\n",
       "      <td>0.500000</td>\n",
       "      <td>0.866025</td>\n",
       "    </tr>\n",
       "    <tr>\n",
       "      <th>11446352</th>\n",
       "      <td>981</td>\n",
       "      <td>981</td>\n",
       "      <td>0.021</td>\n",
       "      <td>0.278653</td>\n",
       "      <td>-3.629209</td>\n",
       "      <td>946</td>\n",
       "      <td>0.004</td>\n",
       "      <td>0.114355</td>\n",
       "      <td>-3.120265</td>\n",
       "      <td>0</td>\n",
       "      <td>-0.866025</td>\n",
       "      <td>-5.000000e-01</td>\n",
       "      <td>0.207912</td>\n",
       "      <td>-0.978148</td>\n",
       "    </tr>\n",
       "    <tr>\n",
       "      <th>4790655</th>\n",
       "      <td>361</td>\n",
       "      <td>361</td>\n",
       "      <td>0.008</td>\n",
       "      <td>0.017722</td>\n",
       "      <td>-2.391956</td>\n",
       "      <td>12423579</td>\n",
       "      <td>100.000</td>\n",
       "      <td>0.007353</td>\n",
       "      <td>-2.095399</td>\n",
       "      <td>0</td>\n",
       "      <td>-1.000000</td>\n",
       "      <td>-1.836970e-16</td>\n",
       "      <td>0.743145</td>\n",
       "      <td>-0.669131</td>\n",
       "    </tr>\n",
       "  </tbody>\n",
       "</table>\n",
       "</div>"
      ],
      "text/plain": [
       "          banner_id  banner_id0  rate0        g0  coeff_sum0  banner_id1  \\\n",
       "2742285         145         145  0.003  0.119393   -2.813851         389   \n",
       "5938069          84          84  0.001  0.194752   -3.223216          78   \n",
       "4984640         660         660  0.050  0.095239   -3.983387         768   \n",
       "11446352        981         981  0.021  0.278653   -3.629209         946   \n",
       "4790655         361         361  0.008  0.017722   -2.391956    12423579   \n",
       "\n",
       "            rate1        g1  coeff_sum1  clicks  hour_sin      hour_cos  \\\n",
       "2742285     0.003  0.106859   -3.067688       0 -0.707107  7.071068e-01   \n",
       "5938069     0.001  0.205095   -3.357224       0 -0.866025  5.000000e-01   \n",
       "4984640     0.050  0.082167   -4.072194       0 -1.000000 -1.836970e-16   \n",
       "11446352    0.004  0.114355   -3.120265       0 -0.866025 -5.000000e-01   \n",
       "4790655   100.000  0.007353   -2.095399       0 -1.000000 -1.836970e-16   \n",
       "\n",
       "          minute_sin  minute_cos  \n",
       "2742285     0.951057    0.309017  \n",
       "5938069     0.809017   -0.587785  \n",
       "4984640     0.500000    0.866025  \n",
       "11446352    0.207912   -0.978148  \n",
       "4790655     0.743145   -0.669131  "
      ]
     },
     "execution_count": 34,
     "metadata": {},
     "output_type": "execute_result"
    }
   ],
   "source": [
    "data.drop(data_categories, axis=1, inplace=True)\n",
    "data.head()"
   ]
  },
  {
   "cell_type": "code",
   "execution_count": 35,
   "metadata": {},
   "outputs": [
    {
     "data": {
      "text/plain": [
       "(139212, 14)"
      ]
     },
     "execution_count": 35,
     "metadata": {},
     "output_type": "execute_result"
    }
   ],
   "source": [
    "data.shape"
   ]
  },
  {
   "cell_type": "code",
   "execution_count": 40,
   "metadata": {},
   "outputs": [],
   "source": [
    "name_enc_f = list(range(26))"
   ]
  },
  {
   "cell_type": "code",
   "execution_count": 49,
   "metadata": {},
   "outputs": [
    {
     "data": {
      "text/html": [
       "<div>\n",
       "<style scoped>\n",
       "    .dataframe tbody tr th:only-of-type {\n",
       "        vertical-align: middle;\n",
       "    }\n",
       "\n",
       "    .dataframe tbody tr th {\n",
       "        vertical-align: top;\n",
       "    }\n",
       "\n",
       "    .dataframe thead th {\n",
       "        text-align: right;\n",
       "    }\n",
       "</style>\n",
       "<table border=\"1\" class=\"dataframe\">\n",
       "  <thead>\n",
       "    <tr style=\"text-align: right;\">\n",
       "      <th></th>\n",
       "      <th>0</th>\n",
       "      <th>1</th>\n",
       "      <th>2</th>\n",
       "      <th>3</th>\n",
       "      <th>4</th>\n",
       "      <th>5</th>\n",
       "      <th>6</th>\n",
       "      <th>7</th>\n",
       "      <th>8</th>\n",
       "      <th>9</th>\n",
       "      <th>...</th>\n",
       "      <th>16</th>\n",
       "      <th>17</th>\n",
       "      <th>18</th>\n",
       "      <th>19</th>\n",
       "      <th>20</th>\n",
       "      <th>21</th>\n",
       "      <th>22</th>\n",
       "      <th>23</th>\n",
       "      <th>24</th>\n",
       "      <th>25</th>\n",
       "    </tr>\n",
       "  </thead>\n",
       "  <tbody>\n",
       "    <tr>\n",
       "      <th>2742285</th>\n",
       "      <td>0.0</td>\n",
       "      <td>0.0</td>\n",
       "      <td>1.0</td>\n",
       "      <td>0.0</td>\n",
       "      <td>0.0</td>\n",
       "      <td>0.0</td>\n",
       "      <td>0.0</td>\n",
       "      <td>0.0</td>\n",
       "      <td>0.0</td>\n",
       "      <td>0.0</td>\n",
       "      <td>...</td>\n",
       "      <td>1.0</td>\n",
       "      <td>0.0</td>\n",
       "      <td>0.0</td>\n",
       "      <td>0.0</td>\n",
       "      <td>0.0</td>\n",
       "      <td>0.0</td>\n",
       "      <td>0.0</td>\n",
       "      <td>0.0</td>\n",
       "      <td>0.0</td>\n",
       "      <td>0.0</td>\n",
       "    </tr>\n",
       "    <tr>\n",
       "      <th>5938069</th>\n",
       "      <td>0.0</td>\n",
       "      <td>0.0</td>\n",
       "      <td>0.0</td>\n",
       "      <td>1.0</td>\n",
       "      <td>0.0</td>\n",
       "      <td>0.0</td>\n",
       "      <td>0.0</td>\n",
       "      <td>0.0</td>\n",
       "      <td>0.0</td>\n",
       "      <td>0.0</td>\n",
       "      <td>...</td>\n",
       "      <td>1.0</td>\n",
       "      <td>0.0</td>\n",
       "      <td>0.0</td>\n",
       "      <td>0.0</td>\n",
       "      <td>0.0</td>\n",
       "      <td>0.0</td>\n",
       "      <td>0.0</td>\n",
       "      <td>0.0</td>\n",
       "      <td>0.0</td>\n",
       "      <td>0.0</td>\n",
       "    </tr>\n",
       "  </tbody>\n",
       "</table>\n",
       "<p>2 rows × 26 columns</p>\n",
       "</div>"
      ],
      "text/plain": [
       "          0    1    2    3    4    5    6    7    8    9   ...   16   17   18  \\\n",
       "2742285  0.0  0.0  1.0  0.0  0.0  0.0  0.0  0.0  0.0  0.0  ...  1.0  0.0  0.0   \n",
       "5938069  0.0  0.0  0.0  1.0  0.0  0.0  0.0  0.0  0.0  0.0  ...  1.0  0.0  0.0   \n",
       "\n",
       "          19   20   21   22   23   24   25  \n",
       "2742285  0.0  0.0  0.0  0.0  0.0  0.0  0.0  \n",
       "5938069  0.0  0.0  0.0  0.0  0.0  0.0  0.0  \n",
       "\n",
       "[2 rows x 26 columns]"
      ]
     },
     "execution_count": 49,
     "metadata": {},
     "output_type": "execute_result"
    }
   ],
   "source": [
    "df_data_categories_encodeed = pd.DataFrame(data_categories_encodeed, columns = name_enc_f, index = data.index)\n",
    "df_data_categories_encodeed.head(2)"
   ]
  },
  {
   "cell_type": "code",
   "execution_count": 58,
   "metadata": {},
   "outputs": [
    {
     "data": {
      "text/html": [
       "<div>\n",
       "<style scoped>\n",
       "    .dataframe tbody tr th:only-of-type {\n",
       "        vertical-align: middle;\n",
       "    }\n",
       "\n",
       "    .dataframe tbody tr th {\n",
       "        vertical-align: top;\n",
       "    }\n",
       "\n",
       "    .dataframe thead th {\n",
       "        text-align: right;\n",
       "    }\n",
       "</style>\n",
       "<table border=\"1\" class=\"dataframe\">\n",
       "  <thead>\n",
       "    <tr style=\"text-align: right;\">\n",
       "      <th></th>\n",
       "      <th>0</th>\n",
       "      <th>1</th>\n",
       "      <th>2</th>\n",
       "      <th>3</th>\n",
       "      <th>4</th>\n",
       "      <th>5</th>\n",
       "      <th>6</th>\n",
       "      <th>7</th>\n",
       "      <th>8</th>\n",
       "      <th>9</th>\n",
       "      <th>...</th>\n",
       "      <th>g0</th>\n",
       "      <th>coeff_sum0</th>\n",
       "      <th>banner_id1</th>\n",
       "      <th>rate1</th>\n",
       "      <th>g1</th>\n",
       "      <th>coeff_sum1</th>\n",
       "      <th>hour_sin</th>\n",
       "      <th>hour_cos</th>\n",
       "      <th>minute_sin</th>\n",
       "      <th>minute_cos</th>\n",
       "    </tr>\n",
       "  </thead>\n",
       "  <tbody>\n",
       "    <tr>\n",
       "      <th>2742285</th>\n",
       "      <td>0.0</td>\n",
       "      <td>0.0</td>\n",
       "      <td>1.0</td>\n",
       "      <td>0.0</td>\n",
       "      <td>0.0</td>\n",
       "      <td>0.0</td>\n",
       "      <td>0.0</td>\n",
       "      <td>0.0</td>\n",
       "      <td>0.0</td>\n",
       "      <td>0.0</td>\n",
       "      <td>...</td>\n",
       "      <td>0.119393</td>\n",
       "      <td>-2.813851</td>\n",
       "      <td>389</td>\n",
       "      <td>0.003</td>\n",
       "      <td>0.106859</td>\n",
       "      <td>-3.067688</td>\n",
       "      <td>-0.707107</td>\n",
       "      <td>0.707107</td>\n",
       "      <td>0.951057</td>\n",
       "      <td>0.309017</td>\n",
       "    </tr>\n",
       "    <tr>\n",
       "      <th>5938069</th>\n",
       "      <td>0.0</td>\n",
       "      <td>0.0</td>\n",
       "      <td>0.0</td>\n",
       "      <td>1.0</td>\n",
       "      <td>0.0</td>\n",
       "      <td>0.0</td>\n",
       "      <td>0.0</td>\n",
       "      <td>0.0</td>\n",
       "      <td>0.0</td>\n",
       "      <td>0.0</td>\n",
       "      <td>...</td>\n",
       "      <td>0.194752</td>\n",
       "      <td>-3.223216</td>\n",
       "      <td>78</td>\n",
       "      <td>0.001</td>\n",
       "      <td>0.205095</td>\n",
       "      <td>-3.357224</td>\n",
       "      <td>-0.866025</td>\n",
       "      <td>0.500000</td>\n",
       "      <td>0.809017</td>\n",
       "      <td>-0.587785</td>\n",
       "    </tr>\n",
       "  </tbody>\n",
       "</table>\n",
       "<p>2 rows × 39 columns</p>\n",
       "</div>"
      ],
      "text/plain": [
       "           0    1    2    3    4    5    6    7    8    9  ...        g0  \\\n",
       "2742285  0.0  0.0  1.0  0.0  0.0  0.0  0.0  0.0  0.0  0.0  ...  0.119393   \n",
       "5938069  0.0  0.0  0.0  1.0  0.0  0.0  0.0  0.0  0.0  0.0  ...  0.194752   \n",
       "\n",
       "         coeff_sum0  banner_id1  rate1        g1  coeff_sum1  hour_sin  \\\n",
       "2742285   -2.813851         389  0.003  0.106859   -3.067688 -0.707107   \n",
       "5938069   -3.223216          78  0.001  0.205095   -3.357224 -0.866025   \n",
       "\n",
       "         hour_cos  minute_sin  minute_cos  \n",
       "2742285  0.707107    0.951057    0.309017  \n",
       "5938069  0.500000    0.809017   -0.587785  \n",
       "\n",
       "[2 rows x 39 columns]"
      ]
     },
     "execution_count": 58,
     "metadata": {},
     "output_type": "execute_result"
    }
   ],
   "source": [
    "dataset = pd.concat([df_data_categories_encodeed, data.drop(['clicks'], axis=1)],ignore_index=False, axis=1, join=\"inner\")\n",
    "dataset.head(2)"
   ]
  },
  {
   "cell_type": "code",
   "execution_count": 59,
   "metadata": {},
   "outputs": [
    {
     "data": {
      "text/plain": [
       "(139212, 39)"
      ]
     },
     "execution_count": 59,
     "metadata": {},
     "output_type": "execute_result"
    }
   ],
   "source": [
    "dataset.shape"
   ]
  },
  {
   "cell_type": "code",
   "execution_count": 60,
   "metadata": {},
   "outputs": [],
   "source": [
    "indx_train = ~indx_test\n",
    "\n",
    "dataset_train = dataset[indx_train]\n",
    "dataset_test = dataset[indx_test]"
   ]
  },
  {
   "cell_type": "code",
   "execution_count": 61,
   "metadata": {},
   "outputs": [],
   "source": [
    "y_train = data[indx_train].clicks\n",
    "y_test = data[indx_test].clicks"
   ]
  },
  {
   "cell_type": "code",
   "execution_count": 62,
   "metadata": {},
   "outputs": [
    {
     "data": {
      "text/plain": [
       "(120243, 39)"
      ]
     },
     "execution_count": 62,
     "metadata": {},
     "output_type": "execute_result"
    }
   ],
   "source": [
    "dataset_train.shape"
   ]
  },
  {
   "cell_type": "code",
   "execution_count": 63,
   "metadata": {},
   "outputs": [],
   "source": [
    "X_train, y_train = shuffle(dataset_train, y_train)"
   ]
  },
  {
   "cell_type": "code",
   "execution_count": 64,
   "metadata": {},
   "outputs": [],
   "source": [
    "X_test_banner0 = dataset_test.copy()\n",
    "X_test_banner1 = dataset_test.copy()\n",
    "X_test_banner1['banner_id'] = X_test_banner1['banner_id1']"
   ]
  },
  {
   "cell_type": "code",
   "execution_count": 66,
   "metadata": {},
   "outputs": [
    {
     "data": {
      "text/plain": [
       "0                 2\n",
       "1                 2\n",
       "2                 2\n",
       "3                 2\n",
       "4                 2\n",
       "5                 2\n",
       "6                 2\n",
       "7                 1\n",
       "8                 2\n",
       "9                 2\n",
       "10                2\n",
       "11                2\n",
       "12                2\n",
       "13                2\n",
       "14                2\n",
       "15                2\n",
       "16                2\n",
       "17                2\n",
       "18                2\n",
       "19                2\n",
       "20                2\n",
       "21                2\n",
       "22                2\n",
       "23                2\n",
       "24                2\n",
       "25                2\n",
       "banner_id      5131\n",
       "banner_id0      559\n",
       "rate0            37\n",
       "g0            18964\n",
       "coeff_sum0    16415\n",
       "banner_id1     5131\n",
       "rate1           159\n",
       "g1            18636\n",
       "coeff_sum1    16413\n",
       "hour_sin         24\n",
       "hour_cos         24\n",
       "minute_sin       60\n",
       "minute_cos       58\n",
       "dtype: int64"
      ]
     },
     "execution_count": 66,
     "metadata": {},
     "output_type": "execute_result"
    }
   ],
   "source": [
    "X_test_banner1.nunique()"
   ]
  },
  {
   "cell_type": "code",
   "execution_count": 67,
   "metadata": {},
   "outputs": [],
   "source": [
    "col_to_drop = ['banner_id0', 'banner_id1']\n",
    "X_train.drop(col_to_drop, axis=1, inplace=True)\n",
    "X_test_banner0.drop(col_to_drop, axis=1, inplace=True)\n",
    "X_test_banner1.drop(col_to_drop, axis=1, inplace=True)"
   ]
  },
  {
   "cell_type": "markdown",
   "metadata": {},
   "source": [
    "## Train\n",
    "Основаная модель - Логистическая регрессия.\n",
    "В качестве оптимайзера взял с лекции ```liblinear```."
   ]
  },
  {
   "cell_type": "code",
   "execution_count": 68,
   "metadata": {},
   "outputs": [
    {
     "name": "stderr",
     "output_type": "stream",
     "text": [
      "/Users/thebest/miniconda3/envs/hse-made-big-data/lib/python3.9/site-packages/sklearn/utils/validation.py:1858: FutureWarning: Feature names only support names that are all strings. Got feature names with dtypes: ['int', 'str']. An error will be raised in 1.2.\n",
      "  warnings.warn(\n",
      "/Users/thebest/miniconda3/envs/hse-made-big-data/lib/python3.9/site-packages/sklearn/linear_model/_logistic.py:444: ConvergenceWarning: lbfgs failed to converge (status=1):\n",
      "STOP: TOTAL NO. of ITERATIONS REACHED LIMIT.\n",
      "\n",
      "Increase the number of iterations (max_iter) or scale the data as shown in:\n",
      "    https://scikit-learn.org/stable/modules/preprocessing.html\n",
      "Please also refer to the documentation for alternative solver options:\n",
      "    https://scikit-learn.org/stable/modules/linear_model.html#logistic-regression\n",
      "  n_iter_i = _check_optimize_result(\n"
     ]
    },
    {
     "data": {
      "text/html": [
       "<style>#sk-container-id-2 {color: black;background-color: white;}#sk-container-id-2 pre{padding: 0;}#sk-container-id-2 div.sk-toggleable {background-color: white;}#sk-container-id-2 label.sk-toggleable__label {cursor: pointer;display: block;width: 100%;margin-bottom: 0;padding: 0.3em;box-sizing: border-box;text-align: center;}#sk-container-id-2 label.sk-toggleable__label-arrow:before {content: \"▸\";float: left;margin-right: 0.25em;color: #696969;}#sk-container-id-2 label.sk-toggleable__label-arrow:hover:before {color: black;}#sk-container-id-2 div.sk-estimator:hover label.sk-toggleable__label-arrow:before {color: black;}#sk-container-id-2 div.sk-toggleable__content {max-height: 0;max-width: 0;overflow: hidden;text-align: left;background-color: #f0f8ff;}#sk-container-id-2 div.sk-toggleable__content pre {margin: 0.2em;color: black;border-radius: 0.25em;background-color: #f0f8ff;}#sk-container-id-2 input.sk-toggleable__control:checked~div.sk-toggleable__content {max-height: 200px;max-width: 100%;overflow: auto;}#sk-container-id-2 input.sk-toggleable__control:checked~label.sk-toggleable__label-arrow:before {content: \"▾\";}#sk-container-id-2 div.sk-estimator input.sk-toggleable__control:checked~label.sk-toggleable__label {background-color: #d4ebff;}#sk-container-id-2 div.sk-label input.sk-toggleable__control:checked~label.sk-toggleable__label {background-color: #d4ebff;}#sk-container-id-2 input.sk-hidden--visually {border: 0;clip: rect(1px 1px 1px 1px);clip: rect(1px, 1px, 1px, 1px);height: 1px;margin: -1px;overflow: hidden;padding: 0;position: absolute;width: 1px;}#sk-container-id-2 div.sk-estimator {font-family: monospace;background-color: #f0f8ff;border: 1px dotted black;border-radius: 0.25em;box-sizing: border-box;margin-bottom: 0.5em;}#sk-container-id-2 div.sk-estimator:hover {background-color: #d4ebff;}#sk-container-id-2 div.sk-parallel-item::after {content: \"\";width: 100%;border-bottom: 1px solid gray;flex-grow: 1;}#sk-container-id-2 div.sk-label:hover label.sk-toggleable__label {background-color: #d4ebff;}#sk-container-id-2 div.sk-serial::before {content: \"\";position: absolute;border-left: 1px solid gray;box-sizing: border-box;top: 0;bottom: 0;left: 50%;z-index: 0;}#sk-container-id-2 div.sk-serial {display: flex;flex-direction: column;align-items: center;background-color: white;padding-right: 0.2em;padding-left: 0.2em;position: relative;}#sk-container-id-2 div.sk-item {position: relative;z-index: 1;}#sk-container-id-2 div.sk-parallel {display: flex;align-items: stretch;justify-content: center;background-color: white;position: relative;}#sk-container-id-2 div.sk-item::before, #sk-container-id-2 div.sk-parallel-item::before {content: \"\";position: absolute;border-left: 1px solid gray;box-sizing: border-box;top: 0;bottom: 0;left: 50%;z-index: -1;}#sk-container-id-2 div.sk-parallel-item {display: flex;flex-direction: column;z-index: 1;position: relative;background-color: white;}#sk-container-id-2 div.sk-parallel-item:first-child::after {align-self: flex-end;width: 50%;}#sk-container-id-2 div.sk-parallel-item:last-child::after {align-self: flex-start;width: 50%;}#sk-container-id-2 div.sk-parallel-item:only-child::after {width: 0;}#sk-container-id-2 div.sk-dashed-wrapped {border: 1px dashed gray;margin: 0 0.4em 0.5em 0.4em;box-sizing: border-box;padding-bottom: 0.4em;background-color: white;}#sk-container-id-2 div.sk-label label {font-family: monospace;font-weight: bold;display: inline-block;line-height: 1.2em;}#sk-container-id-2 div.sk-label-container {text-align: center;}#sk-container-id-2 div.sk-container {/* jupyter's `normalize.less` sets `[hidden] { display: none; }` but bootstrap.min.css set `[hidden] { display: none !important; }` so we also need the `!important` here to be able to override the default hidden behavior on the sphinx rendered scikit-learn.org. See: https://github.com/scikit-learn/scikit-learn/issues/21755 */display: inline-block !important;position: relative;}#sk-container-id-2 div.sk-text-repr-fallback {display: none;}</style><div id=\"sk-container-id-2\" class=\"sk-top-container\"><div class=\"sk-text-repr-fallback\"><pre>LogisticRegression(C=0.07)</pre><b>In a Jupyter environment, please rerun this cell to show the HTML representation or trust the notebook. <br />On GitHub, the HTML representation is unable to render, please try loading this page with nbviewer.org.</b></div><div class=\"sk-container\" hidden><div class=\"sk-item\"><div class=\"sk-estimator sk-toggleable\"><input class=\"sk-toggleable__control sk-hidden--visually\" id=\"sk-estimator-id-2\" type=\"checkbox\" checked><label for=\"sk-estimator-id-2\" class=\"sk-toggleable__label sk-toggleable__label-arrow\">LogisticRegression</label><div class=\"sk-toggleable__content\"><pre>LogisticRegression(C=0.07)</pre></div></div></div></div></div>"
      ],
      "text/plain": [
       "LogisticRegression(C=0.07)"
      ]
     },
     "execution_count": 68,
     "metadata": {},
     "output_type": "execute_result"
    }
   ],
   "source": [
    "model = LogisticRegression(C=0.07)\n",
    "model.fit(X_train, y_train)"
   ]
  },
  {
   "cell_type": "code",
   "execution_count": 71,
   "metadata": {},
   "outputs": [
    {
     "name": "stdout",
     "output_type": "stream",
     "text": [
      "======= Test Metrics =======\n",
      "======= My Model =======\n",
      "log_loss: 0.1361113341711755\n",
      "auc: 0.7789113388572535\n"
     ]
    },
    {
     "name": "stderr",
     "output_type": "stream",
     "text": [
      "/Users/thebest/miniconda3/envs/hse-made-big-data/lib/python3.9/site-packages/sklearn/utils/validation.py:1858: FutureWarning: Feature names only support names that are all strings. Got feature names with dtypes: ['int', 'str']. An error will be raised in 1.2.\n",
      "  warnings.warn(\n"
     ]
    }
   ],
   "source": [
    "y_pred = model.predict_proba(X_test_banner0)[:, 1]\n",
    "my_log_loss = log_loss(y_test, y_pred)\n",
    "my_auc = roc_auc_score(y_test, y_pred)\n",
    "print(f'======= Test Metrics =======')\n",
    "print(f'======= My Model =======')\n",
    "print(f'log_loss: {my_log_loss}')\n",
    "print(f'auc: {my_auc}')"
   ]
  },
  {
   "cell_type": "markdown",
   "metadata": {},
   "source": [
    "Это была метрика нашей моделей"
   ]
  },
  {
   "cell_type": "code",
   "execution_count": 107,
   "metadata": {},
   "outputs": [
    {
     "name": "stdout",
     "output_type": "stream",
     "text": [
      "======= Test Metrics =======\n",
      "======= My Model =======\n",
      "log_loss: 0.1334549924173812\n",
      "auc: 0.7801157566633397\n"
     ]
    }
   ],
   "source": [
    "y_pred = model.predict_proba(dataset_test)[:, 1]\n",
    "my_log_loss = log_loss(y_test, y_pred)\n",
    "my_auc = roc_auc_score(y_test, y_pred)\n",
    "print(f'======= Test Metrics =======')\n",
    "print(f'======= My Model =======')\n",
    "print(f'log_loss: {my_log_loss}')\n",
    "print(f'auc: {my_auc}')"
   ]
  },
  {
   "cell_type": "markdown",
   "metadata": {},
   "source": [
    "Это была метрика прошлой моделей из hw01"
   ]
  },
  {
   "cell_type": "code",
   "execution_count": null,
   "metadata": {},
   "outputs": [],
   "source": []
  },
  {
   "cell_type": "code",
   "execution_count": 72,
   "metadata": {},
   "outputs": [
    {
     "data": {
      "text/html": [
       "<div>\n",
       "<style scoped>\n",
       "    .dataframe tbody tr th:only-of-type {\n",
       "        vertical-align: middle;\n",
       "    }\n",
       "\n",
       "    .dataframe tbody tr th {\n",
       "        vertical-align: top;\n",
       "    }\n",
       "\n",
       "    .dataframe thead th {\n",
       "        text-align: right;\n",
       "    }\n",
       "</style>\n",
       "<table border=\"1\" class=\"dataframe\">\n",
       "  <thead>\n",
       "    <tr style=\"text-align: right;\">\n",
       "      <th></th>\n",
       "      <th>0</th>\n",
       "      <th>1</th>\n",
       "      <th>2</th>\n",
       "      <th>3</th>\n",
       "      <th>4</th>\n",
       "      <th>5</th>\n",
       "      <th>6</th>\n",
       "      <th>7</th>\n",
       "      <th>8</th>\n",
       "      <th>9</th>\n",
       "      <th>...</th>\n",
       "      <th>rate0</th>\n",
       "      <th>g0</th>\n",
       "      <th>coeff_sum0</th>\n",
       "      <th>rate1</th>\n",
       "      <th>g1</th>\n",
       "      <th>coeff_sum1</th>\n",
       "      <th>hour_sin</th>\n",
       "      <th>hour_cos</th>\n",
       "      <th>minute_sin</th>\n",
       "      <th>minute_cos</th>\n",
       "    </tr>\n",
       "  </thead>\n",
       "  <tbody>\n",
       "    <tr>\n",
       "      <th>6735270</th>\n",
       "      <td>0.0</td>\n",
       "      <td>0.0</td>\n",
       "      <td>0.0</td>\n",
       "      <td>0.0</td>\n",
       "      <td>1.0</td>\n",
       "      <td>0.0</td>\n",
       "      <td>0.0</td>\n",
       "      <td>0.0</td>\n",
       "      <td>0.0</td>\n",
       "      <td>0.0</td>\n",
       "      <td>...</td>\n",
       "      <td>0.006</td>\n",
       "      <td>0.037927</td>\n",
       "      <td>-3.565956</td>\n",
       "      <td>0.006</td>\n",
       "      <td>0.032634</td>\n",
       "      <td>-3.742006</td>\n",
       "      <td>-0.258819</td>\n",
       "      <td>-0.965926</td>\n",
       "      <td>0.104528</td>\n",
       "      <td>0.994522</td>\n",
       "    </tr>\n",
       "    <tr>\n",
       "      <th>893050</th>\n",
       "      <td>0.0</td>\n",
       "      <td>0.0</td>\n",
       "      <td>0.0</td>\n",
       "      <td>0.0</td>\n",
       "      <td>0.0</td>\n",
       "      <td>0.0</td>\n",
       "      <td>1.0</td>\n",
       "      <td>0.0</td>\n",
       "      <td>0.0</td>\n",
       "      <td>0.0</td>\n",
       "      <td>...</td>\n",
       "      <td>0.006</td>\n",
       "      <td>0.036902</td>\n",
       "      <td>-1.062262</td>\n",
       "      <td>0.010</td>\n",
       "      <td>0.162925</td>\n",
       "      <td>-2.342286</td>\n",
       "      <td>0.965926</td>\n",
       "      <td>0.258819</td>\n",
       "      <td>-0.994522</td>\n",
       "      <td>0.104528</td>\n",
       "    </tr>\n",
       "  </tbody>\n",
       "</table>\n",
       "<p>2 rows × 37 columns</p>\n",
       "</div>"
      ],
      "text/plain": [
       "           0    1    2    3    4    5    6    7    8    9  ...  rate0  \\\n",
       "6735270  0.0  0.0  0.0  0.0  1.0  0.0  0.0  0.0  0.0  0.0  ...  0.006   \n",
       "893050   0.0  0.0  0.0  0.0  0.0  0.0  1.0  0.0  0.0  0.0  ...  0.006   \n",
       "\n",
       "               g0  coeff_sum0  rate1        g1  coeff_sum1  hour_sin  \\\n",
       "6735270  0.037927   -3.565956  0.006  0.032634   -3.742006 -0.258819   \n",
       "893050   0.036902   -1.062262  0.010  0.162925   -2.342286  0.965926   \n",
       "\n",
       "         hour_cos  minute_sin  minute_cos  \n",
       "6735270 -0.965926    0.104528    0.994522  \n",
       "893050   0.258819   -0.994522    0.104528  \n",
       "\n",
       "[2 rows x 37 columns]"
      ]
     },
     "execution_count": 72,
     "metadata": {},
     "output_type": "execute_result"
    }
   ],
   "source": [
    "X_test_banner0.head(2)"
   ]
  },
  {
   "cell_type": "code",
   "execution_count": 73,
   "metadata": {},
   "outputs": [],
   "source": [
    "test_ips = X_test_banner0[['g0', 'coeff_sum0', 'g1', 'coeff_sum1']]"
   ]
  },
  {
   "cell_type": "code",
   "execution_count": 74,
   "metadata": {},
   "outputs": [
    {
     "name": "stderr",
     "output_type": "stream",
     "text": [
      "/Users/thebest/miniconda3/envs/hse-made-big-data/lib/python3.9/site-packages/sklearn/utils/validation.py:1858: FutureWarning: Feature names only support names that are all strings. Got feature names with dtypes: ['int', 'str']. An error will be raised in 1.2.\n",
      "  warnings.warn(\n",
      "/var/folders/j0/1l0qrqy50rb8ph6trtn7qkyr0000gn/T/ipykernel_14313/335306189.py:1: SettingWithCopyWarning: \n",
      "A value is trying to be set on a copy of a slice from a DataFrame.\n",
      "Try using .loc[row_indexer,col_indexer] = value instead\n",
      "\n",
      "See the caveats in the documentation: https://pandas.pydata.org/pandas-docs/stable/user_guide/indexing.html#returning-a-view-versus-a-copy\n",
      "  test_ips['coeff_sum0_current'] = scipy.special.logit(model.predict_proba(X_test_banner0)[:, 1])\n",
      "/Users/thebest/miniconda3/envs/hse-made-big-data/lib/python3.9/site-packages/sklearn/utils/validation.py:1858: FutureWarning: Feature names only support names that are all strings. Got feature names with dtypes: ['int', 'str']. An error will be raised in 1.2.\n",
      "  warnings.warn(\n",
      "/var/folders/j0/1l0qrqy50rb8ph6trtn7qkyr0000gn/T/ipykernel_14313/335306189.py:2: SettingWithCopyWarning: \n",
      "A value is trying to be set on a copy of a slice from a DataFrame.\n",
      "Try using .loc[row_indexer,col_indexer] = value instead\n",
      "\n",
      "See the caveats in the documentation: https://pandas.pydata.org/pandas-docs/stable/user_guide/indexing.html#returning-a-view-versus-a-copy\n",
      "  test_ips['coeff_sum1_current'] = scipy.special.logit(model.predict_proba(X_test_banner1)[:, 1])\n"
     ]
    }
   ],
   "source": [
    "test_ips['coeff_sum0_current'] = scipy.special.logit(model.predict_proba(X_test_banner0)[:, 1])\n",
    "test_ips['coeff_sum1_current'] = scipy.special.logit(model.predict_proba(X_test_banner1)[:, 1])"
   ]
  },
  {
   "cell_type": "code",
   "execution_count": 77,
   "metadata": {},
   "outputs": [
    {
     "name": "stderr",
     "output_type": "stream",
     "text": [
      "/var/folders/j0/1l0qrqy50rb8ph6trtn7qkyr0000gn/T/ipykernel_14313/3471643419.py:1: SettingWithCopyWarning: \n",
      "A value is trying to be set on a copy of a slice from a DataFrame.\n",
      "Try using .loc[row_indexer,col_indexer] = value instead\n",
      "\n",
      "See the caveats in the documentation: https://pandas.pydata.org/pandas-docs/stable/user_guide/indexing.html#returning-a-view-versus-a-copy\n",
      "  test_ips['pi0'] = 1 - scipy.stats.norm.cdf((test_ips['coeff_sum1'] - test_ips['coeff_sum0']) / np.sqrt(test_ips['g0'] ** 2 + test_ips['g1'] ** 2))\n",
      "/var/folders/j0/1l0qrqy50rb8ph6trtn7qkyr0000gn/T/ipykernel_14313/3471643419.py:2: SettingWithCopyWarning: \n",
      "A value is trying to be set on a copy of a slice from a DataFrame.\n",
      "Try using .loc[row_indexer,col_indexer] = value instead\n",
      "\n",
      "See the caveats in the documentation: https://pandas.pydata.org/pandas-docs/stable/user_guide/indexing.html#returning-a-view-versus-a-copy\n",
      "  test_ips['pi1'] = 1 - scipy.stats.norm.cdf((test_ips['coeff_sum1_current'] - test_ips['coeff_sum0_current']) / np.sqrt(test_ips['g0'] ** 2 + test_ips['g1'] ** 2))\n"
     ]
    }
   ],
   "source": [
    "test_ips['pi0'] = 1 - scipy.stats.norm.cdf((test_ips['coeff_sum1'] - test_ips['coeff_sum0']) / np.sqrt(test_ips['g0'] ** 2 + test_ips['g1'] ** 2))\n",
    "test_ips['pi1'] = 1 - scipy.stats.norm.cdf((test_ips['coeff_sum1_current'] - test_ips['coeff_sum0_current']) / np.sqrt(test_ips['g0'] ** 2 + test_ips['g1'] ** 2))"
   ]
  },
  {
   "cell_type": "code",
   "execution_count": 84,
   "metadata": {},
   "outputs": [
    {
     "data": {
      "text/plain": [
       "0.08089754643417983"
      ]
     },
     "execution_count": 84,
     "metadata": {},
     "output_type": "execute_result"
    }
   ],
   "source": [
    "cips = np.mean(y_test * np.minimum(test_ips['pi1'] / test_ips['pi0'], 10))\n",
    "cips"
   ]
  },
  {
   "cell_type": "code",
   "execution_count": null,
   "metadata": {},
   "outputs": [],
   "source": []
  }
 ],
 "metadata": {
  "kernelspec": {
   "display_name": "Python 3 (ipykernel)",
   "language": "python",
   "name": "python3"
  },
  "language_info": {
   "codemirror_mode": {
    "name": "ipython",
    "version": 3
   },
   "file_extension": ".py",
   "mimetype": "text/x-python",
   "name": "python",
   "nbconvert_exporter": "python",
   "pygments_lexer": "ipython3",
   "version": "3.9.13"
  }
 },
 "nbformat": 4,
 "nbformat_minor": 1
}
