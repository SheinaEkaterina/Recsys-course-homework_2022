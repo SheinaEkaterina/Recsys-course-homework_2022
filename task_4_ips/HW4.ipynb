{
 "cells": [
  {
   "cell_type": "code",
   "execution_count": 1,
   "metadata": {
    "collapsed": true
   },
   "outputs": [],
   "source": [
    "import pandas as pd\n",
    "import numpy as np\n",
    "from sklearn.linear_model import LogisticRegression\n",
    "from scipy.special import logit\n",
    "from scipy.stats import norm\n",
    "from functions import  feature_engineering, train_test_split, one_hot\n",
    "import warnings\n",
    "warnings.filterwarnings(\"ignore\")\n",
    "%load_ext autoreload\n",
    "%autoreload 2"
   ]
  },
  {
   "cell_type": "code",
   "execution_count": 2,
   "outputs": [],
   "source": [
    "data = pd.read_csv(\"/Users/victorialokteva/Downloads/data.csv\")\n",
    "data = data.drop(columns=[\"oaid_hash\", 'impressions', 'campaign_clicks'])\n"
   ],
   "metadata": {
    "collapsed": false
   }
  },
  {
   "cell_type": "code",
   "execution_count": 3,
   "outputs": [
    {
     "data": {
      "text/plain": "                    date_time  zone_id  banner_id  os_id  country_id  \\\n0  2021-09-27 00:01:30.000000        0          0      0           0   \n1  2021-09-26 22:54:49.000000        1          1      0           1   \n2  2021-09-26 23:57:20.000000        2          2      0           0   \n3  2021-09-27 00:04:30.000000        3          3      1           1   \n4  2021-09-27 00:06:21.000000        4          4      1           0   \n\n   banner_id0  rate0        g0  coeff_sum0  banner_id1  rate1        g1  \\\n0        1240  0.067  0.035016   -7.268846           0  0.010  0.049516   \n1           1  0.002  0.054298   -2.657477         269  0.004  0.031942   \n2           2  0.014  0.014096   -3.824875          21  0.014  0.014906   \n3           3  0.012  0.015232   -3.461357          99  0.006  0.050671   \n4           4  0.019  0.051265   -4.009026    11464230  6.790  0.032005   \n\n   coeff_sum1  clicks  \n0   -5.369901       1  \n1   -4.449220       1  \n2   -3.939309       1  \n3   -3.418403       1  \n4   -2.828797       1  ",
      "text/html": "<div>\n<style scoped>\n    .dataframe tbody tr th:only-of-type {\n        vertical-align: middle;\n    }\n\n    .dataframe tbody tr th {\n        vertical-align: top;\n    }\n\n    .dataframe thead th {\n        text-align: right;\n    }\n</style>\n<table border=\"1\" class=\"dataframe\">\n  <thead>\n    <tr style=\"text-align: right;\">\n      <th></th>\n      <th>date_time</th>\n      <th>zone_id</th>\n      <th>banner_id</th>\n      <th>os_id</th>\n      <th>country_id</th>\n      <th>banner_id0</th>\n      <th>rate0</th>\n      <th>g0</th>\n      <th>coeff_sum0</th>\n      <th>banner_id1</th>\n      <th>rate1</th>\n      <th>g1</th>\n      <th>coeff_sum1</th>\n      <th>clicks</th>\n    </tr>\n  </thead>\n  <tbody>\n    <tr>\n      <th>0</th>\n      <td>2021-09-27 00:01:30.000000</td>\n      <td>0</td>\n      <td>0</td>\n      <td>0</td>\n      <td>0</td>\n      <td>1240</td>\n      <td>0.067</td>\n      <td>0.035016</td>\n      <td>-7.268846</td>\n      <td>0</td>\n      <td>0.010</td>\n      <td>0.049516</td>\n      <td>-5.369901</td>\n      <td>1</td>\n    </tr>\n    <tr>\n      <th>1</th>\n      <td>2021-09-26 22:54:49.000000</td>\n      <td>1</td>\n      <td>1</td>\n      <td>0</td>\n      <td>1</td>\n      <td>1</td>\n      <td>0.002</td>\n      <td>0.054298</td>\n      <td>-2.657477</td>\n      <td>269</td>\n      <td>0.004</td>\n      <td>0.031942</td>\n      <td>-4.449220</td>\n      <td>1</td>\n    </tr>\n    <tr>\n      <th>2</th>\n      <td>2021-09-26 23:57:20.000000</td>\n      <td>2</td>\n      <td>2</td>\n      <td>0</td>\n      <td>0</td>\n      <td>2</td>\n      <td>0.014</td>\n      <td>0.014096</td>\n      <td>-3.824875</td>\n      <td>21</td>\n      <td>0.014</td>\n      <td>0.014906</td>\n      <td>-3.939309</td>\n      <td>1</td>\n    </tr>\n    <tr>\n      <th>3</th>\n      <td>2021-09-27 00:04:30.000000</td>\n      <td>3</td>\n      <td>3</td>\n      <td>1</td>\n      <td>1</td>\n      <td>3</td>\n      <td>0.012</td>\n      <td>0.015232</td>\n      <td>-3.461357</td>\n      <td>99</td>\n      <td>0.006</td>\n      <td>0.050671</td>\n      <td>-3.418403</td>\n      <td>1</td>\n    </tr>\n    <tr>\n      <th>4</th>\n      <td>2021-09-27 00:06:21.000000</td>\n      <td>4</td>\n      <td>4</td>\n      <td>1</td>\n      <td>0</td>\n      <td>4</td>\n      <td>0.019</td>\n      <td>0.051265</td>\n      <td>-4.009026</td>\n      <td>11464230</td>\n      <td>6.790</td>\n      <td>0.032005</td>\n      <td>-2.828797</td>\n      <td>1</td>\n    </tr>\n  </tbody>\n</table>\n</div>"
     },
     "execution_count": 3,
     "metadata": {},
     "output_type": "execute_result"
    }
   ],
   "source": [
    "data.head()"
   ],
   "metadata": {
    "collapsed": false
   }
  },
  {
   "cell_type": "code",
   "execution_count": 3,
   "outputs": [],
   "source": [
    "data = feature_engineering(data)\n"
   ],
   "metadata": {
    "collapsed": false
   }
  },
  {
   "cell_type": "code",
   "execution_count": 5,
   "outputs": [
    {
     "data": {
      "text/plain": "            date_time  zone_id  banner_id  os_id  country_id  banner_id0  \\\n0 2021-09-27 00:01:30        0          0      0           0        1240   \n1 2021-09-26 22:54:49        1          1      0           1           1   \n2 2021-09-26 23:57:20        2          2      0           0           2   \n3 2021-09-27 00:04:30        3          3      1           1           3   \n4 2021-09-27 00:06:21        4          4      1           0           4   \n\n   rate0        g0  coeff_sum0  banner_id1  rate1        g1  coeff_sum1  \\\n0  0.067  0.035016   -7.268846           0  0.010  0.049516   -5.369901   \n1  0.002  0.054298   -2.657477         269  0.004  0.031942   -4.449220   \n2  0.014  0.014096   -3.824875          21  0.014  0.014906   -3.939309   \n3  0.012  0.015232   -3.461357          99  0.006  0.050671   -3.418403   \n4  0.019  0.051265   -4.009026    11464230  6.790  0.032005   -2.828797   \n\n   clicks      time        date  time_of_day  is_weekend  month   date_copy  \n0       1  00:01:30  2021-09-27         0.00           0      0  2021-09-27  \n1       1  22:54:49  2021-09-26         0.25           1      0  2021-09-26  \n2       1  23:57:20  2021-09-26         0.25           1      0  2021-09-26  \n3       1  00:04:30  2021-09-27         0.00           0      0  2021-09-27  \n4       1  00:06:21  2021-09-27         0.00           0      0  2021-09-27  ",
      "text/html": "<div>\n<style scoped>\n    .dataframe tbody tr th:only-of-type {\n        vertical-align: middle;\n    }\n\n    .dataframe tbody tr th {\n        vertical-align: top;\n    }\n\n    .dataframe thead th {\n        text-align: right;\n    }\n</style>\n<table border=\"1\" class=\"dataframe\">\n  <thead>\n    <tr style=\"text-align: right;\">\n      <th></th>\n      <th>date_time</th>\n      <th>zone_id</th>\n      <th>banner_id</th>\n      <th>os_id</th>\n      <th>country_id</th>\n      <th>banner_id0</th>\n      <th>rate0</th>\n      <th>g0</th>\n      <th>coeff_sum0</th>\n      <th>banner_id1</th>\n      <th>rate1</th>\n      <th>g1</th>\n      <th>coeff_sum1</th>\n      <th>clicks</th>\n      <th>time</th>\n      <th>date</th>\n      <th>time_of_day</th>\n      <th>is_weekend</th>\n      <th>month</th>\n      <th>date_copy</th>\n    </tr>\n  </thead>\n  <tbody>\n    <tr>\n      <th>0</th>\n      <td>2021-09-27 00:01:30</td>\n      <td>0</td>\n      <td>0</td>\n      <td>0</td>\n      <td>0</td>\n      <td>1240</td>\n      <td>0.067</td>\n      <td>0.035016</td>\n      <td>-7.268846</td>\n      <td>0</td>\n      <td>0.010</td>\n      <td>0.049516</td>\n      <td>-5.369901</td>\n      <td>1</td>\n      <td>00:01:30</td>\n      <td>2021-09-27</td>\n      <td>0.00</td>\n      <td>0</td>\n      <td>0</td>\n      <td>2021-09-27</td>\n    </tr>\n    <tr>\n      <th>1</th>\n      <td>2021-09-26 22:54:49</td>\n      <td>1</td>\n      <td>1</td>\n      <td>0</td>\n      <td>1</td>\n      <td>1</td>\n      <td>0.002</td>\n      <td>0.054298</td>\n      <td>-2.657477</td>\n      <td>269</td>\n      <td>0.004</td>\n      <td>0.031942</td>\n      <td>-4.449220</td>\n      <td>1</td>\n      <td>22:54:49</td>\n      <td>2021-09-26</td>\n      <td>0.25</td>\n      <td>1</td>\n      <td>0</td>\n      <td>2021-09-26</td>\n    </tr>\n    <tr>\n      <th>2</th>\n      <td>2021-09-26 23:57:20</td>\n      <td>2</td>\n      <td>2</td>\n      <td>0</td>\n      <td>0</td>\n      <td>2</td>\n      <td>0.014</td>\n      <td>0.014096</td>\n      <td>-3.824875</td>\n      <td>21</td>\n      <td>0.014</td>\n      <td>0.014906</td>\n      <td>-3.939309</td>\n      <td>1</td>\n      <td>23:57:20</td>\n      <td>2021-09-26</td>\n      <td>0.25</td>\n      <td>1</td>\n      <td>0</td>\n      <td>2021-09-26</td>\n    </tr>\n    <tr>\n      <th>3</th>\n      <td>2021-09-27 00:04:30</td>\n      <td>3</td>\n      <td>3</td>\n      <td>1</td>\n      <td>1</td>\n      <td>3</td>\n      <td>0.012</td>\n      <td>0.015232</td>\n      <td>-3.461357</td>\n      <td>99</td>\n      <td>0.006</td>\n      <td>0.050671</td>\n      <td>-3.418403</td>\n      <td>1</td>\n      <td>00:04:30</td>\n      <td>2021-09-27</td>\n      <td>0.00</td>\n      <td>0</td>\n      <td>0</td>\n      <td>2021-09-27</td>\n    </tr>\n    <tr>\n      <th>4</th>\n      <td>2021-09-27 00:06:21</td>\n      <td>4</td>\n      <td>4</td>\n      <td>1</td>\n      <td>0</td>\n      <td>4</td>\n      <td>0.019</td>\n      <td>0.051265</td>\n      <td>-4.009026</td>\n      <td>11464230</td>\n      <td>6.790</td>\n      <td>0.032005</td>\n      <td>-2.828797</td>\n      <td>1</td>\n      <td>00:06:21</td>\n      <td>2021-09-27</td>\n      <td>0.00</td>\n      <td>0</td>\n      <td>0</td>\n      <td>2021-09-27</td>\n    </tr>\n  </tbody>\n</table>\n</div>"
     },
     "execution_count": 5,
     "metadata": {},
     "output_type": "execute_result"
    }
   ],
   "source": [
    "data.head()"
   ],
   "metadata": {
    "collapsed": false
   }
  },
  {
   "cell_type": "code",
   "execution_count": 4,
   "outputs": [],
   "source": [
    "X_train, Y_train, X_test0, X_test1, Y_test, coefs = train_test_split(data)\n",
    "X_train.to_csv(\"X_train.csv\")\n",
    "Y_train.to_csv(\"Y_train.csv\")\n",
    "X_test0.to_csv(\"X_test0.csv\")\n",
    "X_test1.to_csv(\"X_test1.csv\")\n",
    "Y_test.to_csv(\"Y_test.csv\")\n",
    "coefs.to_csv(\"coefs.csv\")"
   ],
   "metadata": {
    "collapsed": false
   }
  },
  {
   "cell_type": "code",
   "execution_count": 2,
   "outputs": [],
   "source": [
    "X_train, Y_train = pd.read_csv(\"X_train.csv\"), pd.read_csv(\"Y_train.csv\")\n",
    "X_test0, X_test1 = pd.read_csv(\"X_test0.csv\"), pd.read_csv(\"X_test1.csv\")\n",
    "Y_test, coefs = pd.read_csv(\"Y_test.csv\"), pd.read_csv(\"coefs.csv\")"
   ],
   "metadata": {
    "collapsed": false
   }
  },
  {
   "cell_type": "code",
   "execution_count": null,
   "outputs": [],
   "source": [],
   "metadata": {
    "collapsed": false
   }
  },
  {
   "cell_type": "code",
   "execution_count": null,
   "outputs": [],
   "source": [
    "X_train = one_hot(X_train)\n",
    "X_train.to_csv(\"X_trainOH.csv\")"
   ],
   "metadata": {
    "collapsed": false,
    "pycharm": {
     "is_executing": true
    }
   }
  },
  {
   "cell_type": "code",
   "execution_count": null,
   "outputs": [],
   "source": [
    "X_test0 = one_hot(X_test0)\n",
    "X_test0.to_csv(\"X_test0OH.csv\")"
   ],
   "metadata": {
    "collapsed": false
   }
  },
  {
   "cell_type": "code",
   "execution_count": 1,
   "outputs": [
    {
     "ename": "NameError",
     "evalue": "name 'one_hot' is not defined",
     "output_type": "error",
     "traceback": [
      "\u001B[0;31m---------------------------------------------------------------------------\u001B[0m",
      "\u001B[0;31mNameError\u001B[0m                                 Traceback (most recent call last)",
      "\u001B[0;32m/var/folders/6y/2tqks33d0ts5323j445kpd9m0000gn/T/ipykernel_14571/1796070867.py\u001B[0m in \u001B[0;36m<module>\u001B[0;34m\u001B[0m\n\u001B[0;32m----> 1\u001B[0;31m \u001B[0mX_test1\u001B[0m \u001B[0;34m=\u001B[0m \u001B[0mone_hot\u001B[0m\u001B[0;34m(\u001B[0m\u001B[0mX_test1\u001B[0m\u001B[0;34m)\u001B[0m\u001B[0;34m\u001B[0m\u001B[0;34m\u001B[0m\u001B[0m\n\u001B[0m\u001B[1;32m      2\u001B[0m \u001B[0mX_test1\u001B[0m\u001B[0;34m.\u001B[0m\u001B[0mto_csv\u001B[0m\u001B[0;34m(\u001B[0m\u001B[0;34m\"X_test1.csv\"\u001B[0m\u001B[0;34m)\u001B[0m\u001B[0;34m\u001B[0m\u001B[0;34m\u001B[0m\u001B[0m\n",
      "\u001B[0;31mNameError\u001B[0m: name 'one_hot' is not defined"
     ]
    }
   ],
   "source": [
    "X_test1 = one_hot(X_test1)\n",
    "X_test1.to_csv(\"X_test1OH.csv\")"
   ],
   "metadata": {
    "collapsed": false
   }
  },
  {
   "cell_type": "code",
   "execution_count": null,
   "outputs": [],
   "source": [
    "X_train, X_test0, X_test1 = one_hot(X_train), one_hot(X_test0), one_hot(X_test1 )"
   ],
   "metadata": {
    "collapsed": false
   }
  },
  {
   "cell_type": "code",
   "execution_count": null,
   "outputs": [],
   "source": [
    "X_train.to_csv(\"X_train.csv\")\n",
    "Y_train.to_csv(\"Y_train.csv\")\n",
    "X_test0.to_csv(\"X_test0.csv\")\n",
    "X_test1.to_csv(\"X_test1.csv\")\n",
    "Y_test.to_csv(\"Y_test.csv\")\n",
    "coefs.to_csv(\"coefs.csv\")"
   ],
   "metadata": {
    "collapsed": false
   }
  },
  {
   "cell_type": "code",
   "execution_count": 1,
   "outputs": [
    {
     "ename": "NameError",
     "evalue": "name 'pd' is not defined",
     "output_type": "error",
     "traceback": [
      "\u001B[0;31m---------------------------------------------------------------------------\u001B[0m",
      "\u001B[0;31mNameError\u001B[0m                                 Traceback (most recent call last)",
      "\u001B[0;32m/var/folders/6y/2tqks33d0ts5323j445kpd9m0000gn/T/ipykernel_14477/1135102584.py\u001B[0m in \u001B[0;36m<module>\u001B[0;34m\u001B[0m\n\u001B[1;32m      1\u001B[0m \u001B[0;31m# Модель из 1 дз\u001B[0m\u001B[0;34m\u001B[0m\u001B[0;34m\u001B[0m\u001B[0m\n\u001B[0;32m----> 2\u001B[0;31m \u001B[0mtrain\u001B[0m \u001B[0;34m=\u001B[0m \u001B[0mpd\u001B[0m\u001B[0;34m.\u001B[0m\u001B[0mconcat\u001B[0m\u001B[0;34m(\u001B[0m\u001B[0;34m[\u001B[0m\u001B[0mX_train\u001B[0m\u001B[0;34m,\u001B[0m \u001B[0mY_train\u001B[0m\u001B[0;34m]\u001B[0m\u001B[0;34m)\u001B[0m\u001B[0;34m\u001B[0m\u001B[0;34m\u001B[0m\u001B[0m\n\u001B[0m\u001B[1;32m      3\u001B[0m \u001B[0mmodel\u001B[0m \u001B[0;34m=\u001B[0m \u001B[0mLogisticRegression\u001B[0m\u001B[0;34m(\u001B[0m\u001B[0mpenalty\u001B[0m\u001B[0;34m=\u001B[0m\u001B[0;34m'l2'\u001B[0m\u001B[0;34m,\u001B[0m \u001B[0msolver\u001B[0m\u001B[0;34m=\u001B[0m\u001B[0;34m'liblinear'\u001B[0m\u001B[0;34m,\u001B[0m \u001B[0mC\u001B[0m\u001B[0;34m=\u001B[0m\u001B[0;36m0.1\u001B[0m\u001B[0;34m)\u001B[0m\u001B[0;34m\u001B[0m\u001B[0;34m\u001B[0m\u001B[0m\n\u001B[1;32m      4\u001B[0m \u001B[0mmodel\u001B[0m\u001B[0;34m.\u001B[0m\u001B[0mfit\u001B[0m\u001B[0;34m(\u001B[0m\u001B[0mX_train\u001B[0m\u001B[0;34m,\u001B[0m \u001B[0mY_train\u001B[0m\u001B[0;34m)\u001B[0m\u001B[0;34m\u001B[0m\u001B[0;34m\u001B[0m\u001B[0m\n",
      "\u001B[0;31mNameError\u001B[0m: name 'pd' is not defined"
     ]
    }
   ],
   "source": [
    "# Модель из 1 дз\n",
    "train = pd.concat([X_train, Y_train])\n",
    "model = LogisticRegression(penalty='l2', solver='liblinear', C=0.1)\n",
    "model.fit(X_train, Y_train)"
   ],
   "metadata": {
    "collapsed": false
   }
  },
  {
   "cell_type": "code",
   "execution_count": 1,
   "outputs": [
    {
     "ename": "NameError",
     "evalue": "name 'model' is not defined",
     "output_type": "error",
     "traceback": [
      "\u001B[0;31m---------------------------------------------------------------------------\u001B[0m",
      "\u001B[0;31mNameError\u001B[0m                                 Traceback (most recent call last)",
      "\u001B[0;32m/var/folders/6y/2tqks33d0ts5323j445kpd9m0000gn/T/ipykernel_14027/4164988703.py\u001B[0m in \u001B[0;36m<module>\u001B[0;34m\u001B[0m\n\u001B[0;32m----> 1\u001B[0;31m \u001B[0my_pred0\u001B[0m \u001B[0;34m=\u001B[0m \u001B[0mmodel\u001B[0m\u001B[0;34m.\u001B[0m\u001B[0mpredict\u001B[0m\u001B[0;34m(\u001B[0m\u001B[0mX_test0\u001B[0m\u001B[0;34m)\u001B[0m\u001B[0;34m\u001B[0m\u001B[0;34m\u001B[0m\u001B[0m\n\u001B[0m\u001B[1;32m      2\u001B[0m \u001B[0my_pred1\u001B[0m \u001B[0;34m=\u001B[0m \u001B[0mmodel\u001B[0m\u001B[0;34m.\u001B[0m\u001B[0mpredict\u001B[0m\u001B[0;34m(\u001B[0m\u001B[0mX_test1\u001B[0m\u001B[0;34m)\u001B[0m\u001B[0;34m\u001B[0m\u001B[0;34m\u001B[0m\u001B[0m\n\u001B[1;32m      3\u001B[0m \u001B[0mcoefs\u001B[0m\u001B[0;34m[\u001B[0m\u001B[0;34m'coeff_sum0_new'\u001B[0m\u001B[0;34m]\u001B[0m \u001B[0;34m=\u001B[0m \u001B[0mlogit\u001B[0m\u001B[0;34m(\u001B[0m\u001B[0mmodel\u001B[0m\u001B[0;34m.\u001B[0m\u001B[0mpredict_proba\u001B[0m\u001B[0;34m(\u001B[0m\u001B[0mX_test0\u001B[0m\u001B[0;34m)\u001B[0m\u001B[0;34m[\u001B[0m\u001B[0;34m:\u001B[0m\u001B[0;34m,\u001B[0m \u001B[0;36m1\u001B[0m\u001B[0;34m]\u001B[0m\u001B[0;34m)\u001B[0m\u001B[0;34m\u001B[0m\u001B[0;34m\u001B[0m\u001B[0m\n\u001B[1;32m      4\u001B[0m \u001B[0mcoefs\u001B[0m\u001B[0;34m[\u001B[0m\u001B[0;34m'coeff_sum1_new'\u001B[0m\u001B[0;34m]\u001B[0m \u001B[0;34m=\u001B[0m \u001B[0mlogit\u001B[0m\u001B[0;34m(\u001B[0m\u001B[0mmodel\u001B[0m\u001B[0;34m.\u001B[0m\u001B[0mpredict_proba\u001B[0m\u001B[0;34m(\u001B[0m\u001B[0mX_test1\u001B[0m\u001B[0;34m)\u001B[0m\u001B[0;34m[\u001B[0m\u001B[0;34m:\u001B[0m\u001B[0;34m,\u001B[0m \u001B[0;36m1\u001B[0m\u001B[0;34m]\u001B[0m\u001B[0;34m)\u001B[0m\u001B[0;34m\u001B[0m\u001B[0;34m\u001B[0m\u001B[0m\n",
      "\u001B[0;31mNameError\u001B[0m: name 'model' is not defined"
     ]
    }
   ],
   "source": [
    "y_pred0 = model.predict(X_test0)\n",
    "y_pred1 = model.predict(X_test1)\n",
    "coefs['coeff_sum0_new'] = logit(model.predict_proba(X_test0)[:, 1])\n",
    "coefs['coeff_sum1_new'] = logit(model.predict_proba(X_test1)[:, 1])"
   ],
   "metadata": {
    "collapsed": false
   }
  },
  {
   "cell_type": "code",
   "execution_count": null,
   "outputs": [],
   "source": [
    "coefs['pi_0'] = norm.sf((coefs['coeff_sum1'] -\n",
    "                          coefs['coeff_sum0']) / np.sqrt(coefs['g0'] ** 2 + coefs['g1'] ** 2))\n",
    "coefs['pi_1'] = norm.sf((coefs['coeff_sum1_new'] -\n",
    "                          coefs['coeff_sum0_new']) / np.sqrt(coefs['g0'] ** 2 + coefs['g1'] ** 2))"
   ],
   "metadata": {
    "collapsed": false
   }
  },
  {
   "cell_type": "code",
   "execution_count": null,
   "outputs": [],
   "source": [
    "lam = 10\n",
    "cips = np.sum(Y_test * np.clip(coefs['pi_1'] / coefs['pi_0'], a_min=None, a_max=lam)) / len(Y_test)\n",
    "print(\"Cips: \", cips)"
   ],
   "metadata": {
    "collapsed": false
   }
  },
  {
   "cell_type": "code",
   "execution_count": null,
   "outputs": [],
   "source": [],
   "metadata": {
    "collapsed": false
   }
  },
  {
   "cell_type": "code",
   "execution_count": null,
   "outputs": [],
   "source": [],
   "metadata": {
    "collapsed": false
   }
  },
  {
   "cell_type": "code",
   "execution_count": null,
   "outputs": [],
   "source": [],
   "metadata": {
    "collapsed": false
   }
  }
 ],
 "metadata": {
  "kernelspec": {
   "display_name": "Python 3",
   "language": "python",
   "name": "python3"
  },
  "language_info": {
   "codemirror_mode": {
    "name": "ipython",
    "version": 2
   },
   "file_extension": ".py",
   "mimetype": "text/x-python",
   "name": "python",
   "nbconvert_exporter": "python",
   "pygments_lexer": "ipython2",
   "version": "2.7.6"
  }
 },
 "nbformat": 4,
 "nbformat_minor": 0
}
