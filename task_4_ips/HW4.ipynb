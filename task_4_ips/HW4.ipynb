{
 "cells": [
  {
   "cell_type": "markdown",
   "source": [
    "Я снова сделал всё дз в отдельном python-файлике, потому что его гораздо удобнее много раз запускать и дебажить\n",
    "\n",
    "Перенесу в ноутбук самые интересные функции, остальные были в предыдущих дз"
   ],
   "metadata": {
    "collapsed": false
   }
  },
  {
   "cell_type": "code",
   "execution_count": 1,
   "outputs": [],
   "source": [
    "import dill\n",
    "import numpy as np\n",
    "import scipy\n",
    "import scipy.stats as st\n",
    "from sklearn.metrics import log_loss\n",
    "from sklearn.metrics import roc_auc_score\n",
    "\n",
    "from cips import CIPS\n",
    "\n",
    "\n",
    "def prob_x_ge_y(m1, d1, m2, d2):\n",
    "    return 1 - st.norm.cdf(0, m1 - m2, (d1 ** 2 + d2 ** 2) ** 0.5 + 1e-6)\n",
    "\n",
    "\n",
    "def run(lambda_=10, saved=True):\n",
    "    # датасет, датасет на последнем дне, датасет с измененнм banner_id, датасет с измененнм banner_id на последнем дне, информация о баннерах, информация о баннерах на последнем дне, столбец с кликами, столбец с кликами на последнем дне\n",
    "    X, X_last, X_1, X_1_last, X_mod, X_mod_last, y, y_last = CIPS().get_data(nrows=None)  # None = все строчки\n",
    "\n",
    "    # модель долго учится, сохраним в файл чтобы внизу удобно было дебажить CIPS\n",
    "    if not saved:\n",
    "        model = CIPS().get_model()\n",
    "        model.fit(X, y)\n",
    "        with open('model.ckpt', 'wb') as f:\n",
    "            dill.dump(model, f)\n",
    "    else:\n",
    "        with open('model.ckpt', 'rb') as f:\n",
    "            model = dill.load(f)\n",
    "\n",
    "    # считаем pi_0\n",
    "    pi0_probs = prob_x_ge_y(X_mod_last['coeff_sum0'],\n",
    "                            X_mod_last['g0'],\n",
    "                            X_mod_last['coeff_sum1'],\n",
    "                            X_mod_last['g1'])\n",
    "\n",
    "    # средние для pi_1\n",
    "    pi1_coeff_sum_new_0 = scipy.special.logit(model.predict_proba(X_last)[:, 1])\n",
    "    pi1_coeff_sum_new_1 = scipy.special.logit(model.predict_proba(X_1_last)[:, 1])\n",
    "\n",
    "    # считаем pi_1\n",
    "    pi1_probs = prob_x_ge_y(pi1_coeff_sum_new_0,\n",
    "                            X_mod_last['g0'],\n",
    "                            pi1_coeff_sum_new_1,\n",
    "                            X_mod_last['g1'])\n",
    "\n",
    "    # оставляем конечные значения, не слишком маленькие\n",
    "    mask = np.isfinite(pi1_probs) * np.isfinite(pi0_probs) * (np.abs(pi0_probs) > 1e-18)\n",
    "\n",
    "    # посчитали cips\n",
    "    cips = np.mean(y_last[mask] * np.minimum(lambda_, (pi1_probs[mask] / pi0_probs[mask])))\n",
    "\n",
    "    # посчитаем ещё настоящее среднее (которое хотим оценивать cips-ом)\n",
    "    true_value = np.mean(y_last)\n",
    "\n",
    "    # вдогонку, посчитаем auc и log loss\n",
    "    auc = roc_auc_score(y_last, model.predict_proba(X_last)[:, 1])\n",
    "    ll = log_loss(y_last, model.predict_proba(X_last)[:, 1])\n",
    "    print(f'Auc: {auc}, ll: {ll}')\n",
    "\n",
    "    return cips, true_value"
   ],
   "metadata": {
    "collapsed": false
   }
  },
  {
   "cell_type": "code",
   "execution_count": 2,
   "outputs": [
    {
     "name": "stdout",
     "output_type": "stream",
     "text": [
      "Auc: 0.781078976974208, ll: 0.13737523960121442\n",
      "CIPS = 0.05716803453417325\n",
      "True mean reward = 0.03624213329158208\n"
     ]
    }
   ],
   "source": [
    "ans = run()\n",
    "print(f'CIPS = {ans[0]}')\n",
    "print(f'True mean reward = {ans[1]}')"
   ],
   "metadata": {
    "collapsed": false
   }
  },
  {
   "cell_type": "markdown",
   "source": [
    "Выкладки о сравнении двух нормальных величин:\n",
    "\n",
    "$$X \\sim N(m_1, d_1^2)$$\n",
    "\n",
    "$$Y \\sim N(m_2, d_2^2)$$\n",
    "\n",
    "\n",
    "$$P(X > Y) = P(X - Y > 0) = 1 - P(X - Y < 0) = 1 - F_{X-Y}(0)$$\n",
    "\n",
    "$X-Y$ - разность двух нормальных случайных величин, значит и сама величина нормальная. Матожидание - разность матожиданий, дисперсия - сумма дисперсий\n",
    "\n",
    "$$X-Y \\sim N(m_1 - m_2, d_1^2 + d_2^2)$$\n",
    "\n",
    "Так как дисперсия может быть очень маленькой, стоит добавлять к ней 1e-6 или что-то похожее"
   ],
   "metadata": {
    "collapsed": false
   }
  },
  {
   "cell_type": "code",
   "execution_count": null,
   "outputs": [],
   "source": [],
   "metadata": {
    "collapsed": false
   }
  }
 ],
 "metadata": {
  "kernelspec": {
   "display_name": "Python 3",
   "language": "python",
   "name": "python3"
  },
  "language_info": {
   "codemirror_mode": {
    "name": "ipython",
    "version": 2
   },
   "file_extension": ".py",
   "mimetype": "text/x-python",
   "name": "python",
   "nbconvert_exporter": "python",
   "pygments_lexer": "ipython2",
   "version": "2.7.6"
  }
 },
 "nbformat": 4,
 "nbformat_minor": 0
}
