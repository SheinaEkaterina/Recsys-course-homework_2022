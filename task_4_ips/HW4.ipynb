{
 "cells": [
  {
   "cell_type": "code",
   "execution_count": 1,
   "metadata": {
    "collapsed": true,
    "pycharm": {
     "name": "#%%\n"
    }
   },
   "outputs": [],
   "source": [
    "import pandas as pd\n",
    "import numpy as np\n",
    "import json\n",
    "from sklearn.linear_model import LogisticRegression\n",
    "from sklearn.preprocessing import OneHotEncoder\n",
    "from scipy import sparse\n",
    "from scipy.stats import norm\n",
    "from typing import List, Dict\n",
    "from sklearn.metrics import log_loss, roc_auc_score\n",
    "from scipy.special import logit"
   ]
  },
  {
   "cell_type": "markdown",
   "source": [
    "# Data preparation"
   ],
   "metadata": {
    "collapsed": false,
    "pycharm": {
     "name": "#%% md\n"
    }
   }
  },
  {
   "cell_type": "markdown",
   "source": [
    "Прочитаем данные, выделив сразу необходимые нам фичи"
   ],
   "metadata": {
    "collapsed": false,
    "pycharm": {
     "name": "#%% md\n"
    }
   }
  },
  {
   "cell_type": "code",
   "execution_count": 2,
   "outputs": [
    {
     "data": {
      "text/plain": "            date_time  zone_id  banner_id  os_id  country_id  banner_id0  \\\n0 2021-09-27 00:01:30        0          0      0           0        1240   \n1 2021-09-26 22:54:49        1          1      0           1           1   \n2 2021-09-26 23:57:20        2          2      0           0           2   \n3 2021-09-27 00:04:30        3          3      1           1           3   \n4 2021-09-27 00:06:21        4          4      1           0           4   \n\n         g0  coeff_sum0  banner_id1        g1  coeff_sum1  clicks  \n0  0.035016   -7.268846           0  0.049516   -5.369901       1  \n1  0.054298   -2.657477         269  0.031942   -4.449220       1  \n2  0.014096   -3.824875          21  0.014906   -3.939309       1  \n3  0.015232   -3.461357          99  0.050671   -3.418403       1  \n4  0.051265   -4.009026    11464230  0.032005   -2.828797       1  ",
      "text/html": "<div>\n<style scoped>\n    .dataframe tbody tr th:only-of-type {\n        vertical-align: middle;\n    }\n\n    .dataframe tbody tr th {\n        vertical-align: top;\n    }\n\n    .dataframe thead th {\n        text-align: right;\n    }\n</style>\n<table border=\"1\" class=\"dataframe\">\n  <thead>\n    <tr style=\"text-align: right;\">\n      <th></th>\n      <th>date_time</th>\n      <th>zone_id</th>\n      <th>banner_id</th>\n      <th>os_id</th>\n      <th>country_id</th>\n      <th>banner_id0</th>\n      <th>g0</th>\n      <th>coeff_sum0</th>\n      <th>banner_id1</th>\n      <th>g1</th>\n      <th>coeff_sum1</th>\n      <th>clicks</th>\n    </tr>\n  </thead>\n  <tbody>\n    <tr>\n      <th>0</th>\n      <td>2021-09-27 00:01:30</td>\n      <td>0</td>\n      <td>0</td>\n      <td>0</td>\n      <td>0</td>\n      <td>1240</td>\n      <td>0.035016</td>\n      <td>-7.268846</td>\n      <td>0</td>\n      <td>0.049516</td>\n      <td>-5.369901</td>\n      <td>1</td>\n    </tr>\n    <tr>\n      <th>1</th>\n      <td>2021-09-26 22:54:49</td>\n      <td>1</td>\n      <td>1</td>\n      <td>0</td>\n      <td>1</td>\n      <td>1</td>\n      <td>0.054298</td>\n      <td>-2.657477</td>\n      <td>269</td>\n      <td>0.031942</td>\n      <td>-4.449220</td>\n      <td>1</td>\n    </tr>\n    <tr>\n      <th>2</th>\n      <td>2021-09-26 23:57:20</td>\n      <td>2</td>\n      <td>2</td>\n      <td>0</td>\n      <td>0</td>\n      <td>2</td>\n      <td>0.014096</td>\n      <td>-3.824875</td>\n      <td>21</td>\n      <td>0.014906</td>\n      <td>-3.939309</td>\n      <td>1</td>\n    </tr>\n    <tr>\n      <th>3</th>\n      <td>2021-09-27 00:04:30</td>\n      <td>3</td>\n      <td>3</td>\n      <td>1</td>\n      <td>1</td>\n      <td>3</td>\n      <td>0.015232</td>\n      <td>-3.461357</td>\n      <td>99</td>\n      <td>0.050671</td>\n      <td>-3.418403</td>\n      <td>1</td>\n    </tr>\n    <tr>\n      <th>4</th>\n      <td>2021-09-27 00:06:21</td>\n      <td>4</td>\n      <td>4</td>\n      <td>1</td>\n      <td>0</td>\n      <td>4</td>\n      <td>0.051265</td>\n      <td>-4.009026</td>\n      <td>11464230</td>\n      <td>0.032005</td>\n      <td>-2.828797</td>\n      <td>1</td>\n    </tr>\n  </tbody>\n</table>\n</div>"
     },
     "execution_count": 2,
     "metadata": {},
     "output_type": "execute_result"
    }
   ],
   "source": [
    "full_data = pd.read_csv(\n",
    "    '../data/data.csv',\n",
    "    usecols=[\n",
    "        'date_time',\n",
    "        'zone_id',\n",
    "        'banner_id',\n",
    "        'os_id',\n",
    "        'country_id',\n",
    "        'banner_id0',\n",
    "        'banner_id1',\n",
    "        'g0',\n",
    "        'g1',\n",
    "        'coeff_sum0',\n",
    "        'coeff_sum1',\n",
    "        'clicks'\n",
    "    ],\n",
    "    parse_dates=['date_time'],\n",
    "    infer_datetime_format=True\n",
    ")\n",
    "full_data.head()"
   ],
   "metadata": {
    "collapsed": false,
    "pycharm": {
     "name": "#%%\n"
    }
   }
  },
  {
   "cell_type": "markdown",
   "source": [
    "Фичу `date_time` разделим на день и час: одну будем использовать для сплита, а другую для обучения."
   ],
   "metadata": {
    "collapsed": false,
    "pycharm": {
     "name": "#%% md\n"
    }
   }
  },
  {
   "cell_type": "code",
   "execution_count": 3,
   "outputs": [],
   "source": [
    "full_data['date'] = full_data['date_time'].dt.date\n",
    "full_data['day_hour'] = full_data['date_time'].dt.hour"
   ],
   "metadata": {
    "collapsed": false,
    "pycharm": {
     "name": "#%%\n"
    }
   }
  },
  {
   "cell_type": "markdown",
   "source": [
    "Как обычно, выкидваем день `2021-09-01`, а оставшиеся данные делим на трейн и тест."
   ],
   "metadata": {
    "collapsed": false,
    "pycharm": {
     "name": "#%% md\n"
    }
   }
  },
  {
   "cell_type": "code",
   "execution_count": 4,
   "outputs": [],
   "source": [
    "full_data = full_data[full_data.date != pd.Timestamp('2021-09-01').date()]\n",
    "\n",
    "full_data_test = full_data[full_data.date == pd.Timestamp('2021-10-02').date()]\n",
    "full_data_train = full_data[full_data.date != pd.Timestamp('2021-10-02').date()]"
   ],
   "metadata": {
    "collapsed": false,
    "pycharm": {
     "name": "#%%\n"
    }
   }
  },
  {
   "cell_type": "markdown",
   "source": [
    "Выделим из трейна таргет."
   ],
   "metadata": {
    "collapsed": false,
    "pycharm": {
     "name": "#%% md\n"
    }
   }
  },
  {
   "cell_type": "code",
   "execution_count": 5,
   "outputs": [
    {
     "name": "stdout",
     "output_type": "stream",
     "text": [
      "Train size: 13692493\n"
     ]
    }
   ],
   "source": [
    "y_train = full_data_train['clicks'].to_numpy()\n",
    "data_train = full_data_train.drop('clicks', axis=1)\n",
    "print(f\"Train size: {len(data_train)}\")"
   ],
   "metadata": {
    "collapsed": false,
    "pycharm": {
     "name": "#%%\n"
    }
   }
  },
  {
   "cell_type": "markdown",
   "source": [
    "Теперь разберёмся с тестом, на котором будем считать CIPS.\n",
    "\n",
    "Проверим на `nan` новые фичи, которые в этом задании используем в первый раз."
   ],
   "metadata": {
    "collapsed": false,
    "pycharm": {
     "name": "#%% md\n"
    }
   }
  },
  {
   "cell_type": "code",
   "execution_count": 6,
   "outputs": [
    {
     "data": {
      "text/plain": "date_time        0\nzone_id          0\nbanner_id        0\nos_id            0\ncountry_id       0\nbanner_id0       0\ng0              12\ncoeff_sum0      12\nbanner_id1       0\ng1            4904\ncoeff_sum1    4904\nclicks           0\ndate             0\nday_hour         0\ndtype: int64"
     },
     "execution_count": 6,
     "metadata": {},
     "output_type": "execute_result"
    }
   ],
   "source": [
    "full_data_test.isna().sum()"
   ],
   "metadata": {
    "collapsed": false,
    "pycharm": {
     "name": "#%%\n"
    }
   }
  },
  {
   "cell_type": "markdown",
   "source": [
    "Как видно, `nan` есть. Удалим строки с `nan`.\n",
    "\n",
    "Помимо этого, вспоминая об условии задания, удалим строки, в которых `banner_id != banner_id0`."
   ],
   "metadata": {
    "collapsed": false,
    "pycharm": {
     "name": "#%% md\n"
    }
   }
  },
  {
   "cell_type": "code",
   "execution_count": 7,
   "outputs": [
    {
     "name": "stdout",
     "output_type": "stream",
     "text": [
      "The number of diverged banners: 238404\n"
     ]
    }
   ],
   "source": [
    "full_data_test = full_data_test.dropna()\n",
    "\n",
    "diverged_banners_mask = full_data_test['banner_id'] != full_data_test['banner_id0']\n",
    "print(f\"The number of diverged banners: {diverged_banners_mask.sum()}\")\n",
    "\n",
    "full_data_test = full_data_test[~diverged_banners_mask]"
   ],
   "metadata": {
    "collapsed": false,
    "pycharm": {
     "name": "#%%\n"
    }
   }
  },
  {
   "cell_type": "markdown",
   "source": [
    "Осталось отделить таргет фичу, а также создать второй тест, в котором `banner_id` -- это `banner_id1`"
   ],
   "metadata": {
    "collapsed": false,
    "pycharm": {
     "name": "#%% md\n"
    }
   }
  },
  {
   "cell_type": "code",
   "execution_count": 8,
   "outputs": [
    {
     "name": "stdout",
     "output_type": "stream",
     "text": [
      "Test size: 1885670\n"
     ]
    }
   ],
   "source": [
    "y_test = full_data_test['clicks'].to_numpy()\n",
    "data_test = full_data_test.drop('clicks', axis=1)\n",
    "print(f\"Test size: {len(data_test)}\")\n",
    "\n",
    "data_test_reversed = data_test.copy()\n",
    "data_test_reversed['banner_id'] = data_test['banner_id1']"
   ],
   "metadata": {
    "collapsed": false,
    "pycharm": {
     "name": "#%%\n"
    }
   }
  },
  {
   "cell_type": "markdown",
   "source": [
    "Также, следуя решению первой домашки, добавим интеракции"
   ],
   "metadata": {
    "collapsed": false,
    "pycharm": {
     "name": "#%% md\n"
    }
   }
  },
  {
   "cell_type": "code",
   "execution_count": 9,
   "outputs": [],
   "source": [
    "def add_interaction(data: pd.DataFrame, interacting_features: List[str]):\n",
    "    def create_interaction(row):\n",
    "        interaction = []\n",
    "        for feature in interacting_features:\n",
    "            interaction.append(str(row[feature]))\n",
    "        return \":\".join(interaction)\n",
    "    new_column_name = \":\".join(interacting_features)\n",
    "    print(f\"New column name: {new_column_name}\")\n",
    "    data[new_column_name] = data.apply(create_interaction, axis=1)"
   ],
   "metadata": {
    "collapsed": false,
    "pycharm": {
     "name": "#%%\n"
    }
   }
  },
  {
   "cell_type": "code",
   "execution_count": 10,
   "outputs": [
    {
     "name": "stdout",
     "output_type": "stream",
     "text": [
      "New column name: banner_id:country_id\n",
      "New column name: banner_id:country_id\n",
      "New column name: banner_id:country_id\n",
      "New column name: zone_id:os_id\n",
      "New column name: zone_id:os_id\n",
      "New column name: zone_id:os_id\n",
      "New column name: banner_id:os_id\n",
      "New column name: banner_id:os_id\n",
      "New column name: banner_id:os_id\n",
      "New column name: banner_id:day_hour\n",
      "New column name: banner_id:day_hour\n",
      "New column name: banner_id:day_hour\n"
     ]
    }
   ],
   "source": [
    "interactions = [\n",
    "    ['banner_id', 'country_id'],\n",
    "    ['zone_id', 'os_id'],\n",
    "    ['banner_id', 'os_id'],\n",
    "    ['banner_id', 'day_hour']\n",
    "]\n",
    "for interaction in interactions:\n",
    "    add_interaction(data_train, interaction)\n",
    "    add_interaction(data_test, interaction)\n",
    "    add_interaction(data_test_reversed, interaction)"
   ],
   "metadata": {
    "collapsed": false,
    "pycharm": {
     "name": "#%%\n"
    }
   }
  },
  {
   "cell_type": "markdown",
   "source": [
    "# Data transformation"
   ],
   "metadata": {
    "collapsed": false,
    "pycharm": {
     "name": "#%% md\n"
    }
   }
  },
  {
   "cell_type": "markdown",
   "source": [
    "Все фичи категориальные, так как в этом задании не используем фичу `campaign_clicks`"
   ],
   "metadata": {
    "collapsed": false,
    "pycharm": {
     "name": "#%% md\n"
    }
   }
  },
  {
   "cell_type": "code",
   "execution_count": 11,
   "outputs": [],
   "source": [
    "categorical_features = [\n",
    "    'country_id',\n",
    "    'os_id',\n",
    "    'zone_id',\n",
    "    'banner_id',\n",
    "    'day_hour',\n",
    "    'banner_id:country_id',\n",
    "    'zone_id:os_id',\n",
    "    'banner_id:os_id',\n",
    "    'banner_id:day_hour'\n",
    "]"
   ],
   "metadata": {
    "collapsed": false,
    "pycharm": {
     "name": "#%%\n"
    }
   }
  },
  {
   "cell_type": "markdown",
   "source": [
    "Код по преобразованию данных для модели аналогичен коду из первой домашки:"
   ],
   "metadata": {
    "collapsed": false,
    "pycharm": {
     "name": "#%% md\n"
    }
   }
  },
  {
   "cell_type": "code",
   "execution_count": 12,
   "outputs": [],
   "source": [
    "def create_encoders(data: pd.DataFrame, categorical_features: List[str]):\n",
    "    encoders = {}\n",
    "    for feature in categorical_features:\n",
    "        encoders[feature] = OneHotEncoder(handle_unknown='ignore').fit(data[[feature]])\n",
    "    return encoders\n",
    "\n",
    "def transform_data(data: pd.DataFrame, categorical_features: List[str], feature_encoders: Dict):\n",
    "    transformed_data = []\n",
    "\n",
    "    for feature in categorical_features:\n",
    "        encoder = feature_encoders[feature]\n",
    "        transformed_data.append(encoder.transform(data[[feature]]))\n",
    "\n",
    "    return sparse.hstack(transformed_data)"
   ],
   "metadata": {
    "collapsed": false,
    "pycharm": {
     "name": "#%%\n"
    }
   }
  },
  {
   "cell_type": "markdown",
   "source": [
    "# Model training"
   ],
   "metadata": {
    "collapsed": false,
    "pycharm": {
     "name": "#%% md\n"
    }
   }
  },
  {
   "cell_type": "markdown",
   "source": [
    "Для решения логистической регрессии будем использовать не SGD-like `liblinear` solver с `l2` регуляризацией.\n",
    "Метод эффективно находит решение регрессии для sparse данных. А это как раз наш случай)"
   ],
   "metadata": {
    "collapsed": false,
    "pycharm": {
     "name": "#%% md\n"
    }
   }
  },
  {
   "cell_type": "code",
   "execution_count": 13,
   "outputs": [],
   "source": [
    "def create_model(X, y, C):\n",
    "    return LogisticRegression(solver='liblinear', penalty='l2', C=C, random_state=42).fit(X, y)"
   ],
   "metadata": {
    "collapsed": false,
    "pycharm": {
     "name": "#%%\n"
    }
   }
  },
  {
   "cell_type": "markdown",
   "source": [
    "Реализуем подсчёт базовых метрик"
   ],
   "metadata": {
    "collapsed": false,
    "pycharm": {
     "name": "#%% md\n"
    }
   }
  },
  {
   "cell_type": "code",
   "execution_count": 14,
   "outputs": [],
   "source": [
    "def get_score(y_true, y_pred):\n",
    "    # y_pred.shape == [N, 2].\n",
    "    # Первый столбец -- вероятности 0 (отсутствия клика)\n",
    "    # Второй столбец -- вероятность 1 (клика)\n",
    "    return {\n",
    "        'log-loss': log_loss(y_true, y_pred),\n",
    "        'roc-auc': roc_auc_score(y_true, y_pred[:, 1])\n",
    "    }"
   ],
   "metadata": {
    "collapsed": false,
    "pycharm": {
     "name": "#%%\n"
    }
   }
  },
  {
   "cell_type": "markdown",
   "source": [
    "Преобразуем данные"
   ],
   "metadata": {
    "collapsed": false,
    "pycharm": {
     "name": "#%% md\n"
    }
   }
  },
  {
   "cell_type": "code",
   "execution_count": 15,
   "outputs": [],
   "source": [
    "feature_encoders = create_encoders(data_train, categorical_features)\n",
    "\n",
    "X_train = transform_data(data_train, categorical_features, feature_encoders)\n",
    "X_test = transform_data(data_test, categorical_features, feature_encoders)\n",
    "X_test_reversed = transform_data(data_test_reversed, categorical_features, feature_encoders)"
   ],
   "metadata": {
    "collapsed": false,
    "pycharm": {
     "name": "#%%\n"
    }
   }
  },
  {
   "cell_type": "markdown",
   "source": [
    "Обучим лучшую модель из первой домашки (модель с интеракциями и `C=0.1`):"
   ],
   "metadata": {
    "collapsed": false,
    "pycharm": {
     "name": "#%% md\n"
    }
   }
  },
  {
   "cell_type": "code",
   "execution_count": 16,
   "outputs": [],
   "source": [
    "model = create_model(X_train, y_train, C=0.1)"
   ],
   "metadata": {
    "collapsed": false,
    "pycharm": {
     "name": "#%%\n"
    }
   }
  },
  {
   "cell_type": "markdown",
   "source": [
    " Посчитаем базовые метрики на последнем дне"
   ],
   "metadata": {
    "collapsed": false,
    "pycharm": {
     "name": "#%% md\n"
    }
   }
  },
  {
   "cell_type": "code",
   "execution_count": 17,
   "outputs": [
    {
     "name": "stdout",
     "output_type": "stream",
     "text": [
      "{\n",
      "    \"log-loss\": 0.13218053452125872,\n",
      "    \"roc-auc\": 0.8003288993159902\n",
      "}\n"
     ]
    }
   ],
   "source": [
    "y_pred = model.predict_proba(X_test)\n",
    "best_score = get_score(y_test, y_pred)\n",
    "print(json.dumps(best_score, sort_keys=True, indent=4))"
   ],
   "metadata": {
    "collapsed": false,
    "pycharm": {
     "name": "#%%\n"
    }
   }
  },
  {
   "cell_type": "markdown",
   "source": [
    "# CIPS calculation"
   ],
   "metadata": {
    "collapsed": false,
    "pycharm": {
     "name": "#%% md\n"
    }
   }
  },
  {
   "cell_type": "markdown",
   "source": [
    "Для того чтобы посчитать вероятность показа баннера, нужно оценить следующую вероятность:\n",
    "```\n",
    "P(X_0 > X_1) = P(X_0 - X_1 > 0) = 1 - F_{X_0 - X_1}(0)\n",
    "```\n",
    ", где `X_0`, `X_1` -- две независимые нормальные величины, которые подбрасываются для выбора банера;\n",
    "`F_{X_0 - X_1}` -- функция распределения случайной величины `X_0 - X_1`.\n",
    "\n",
    "Так как `X_0` и `X_1` -- независимые нормальные случайные величины, то их разность -- это тоже нормальная случайная величина с:\n",
    "* средним `mean(X_0) - mean(X_1)`\n",
    "* стандартным отклонением: `sqrt(sigma_0**2 + sigma_1**2)`"
   ],
   "metadata": {
    "collapsed": false,
    "pycharm": {
     "name": "#%% md\n"
    }
   }
  },
  {
   "cell_type": "code",
   "execution_count": 18,
   "outputs": [],
   "source": [
    "def get_banner_probability(coeff_sum_target, g_target, coeff_sum_second, g_second):\n",
    "    return 1. - norm.cdf(0., loc=coeff_sum_target - coeff_sum_second, scale=np.sqrt(g_target**2 + g_second**2) + 1e-9)"
   ],
   "metadata": {
    "collapsed": false,
    "pycharm": {
     "name": "#%%\n"
    }
   }
  },
  {
   "cell_type": "code",
   "execution_count": 19,
   "outputs": [],
   "source": [
    "old_scores = get_banner_probability(data_test['coeff_sum0'], data_test['g0'], data_test['coeff_sum1'], data_test['g1'])\n",
    "\n",
    "y_pred0 = model.predict_proba(X_test)\n",
    "y_pred1 = model.predict_proba(X_test_reversed)\n",
    "new_coeff_sum0 = logit(y_pred0[:, 1])\n",
    "new_coeff_sum1 = logit(y_pred1[:, 1])\n",
    "\n",
    "new_scores = get_banner_probability(new_coeff_sum0, data_test['g0'], new_coeff_sum1, data_test['g1'])"
   ],
   "metadata": {
    "collapsed": false,
    "pycharm": {
     "name": "#%%\n"
    }
   }
  },
  {
   "cell_type": "markdown",
   "source": [
    "Итоговый CIPS:"
   ],
   "metadata": {
    "collapsed": false,
    "pycharm": {
     "name": "#%% md\n"
    }
   }
  },
  {
   "cell_type": "code",
   "execution_count": 20,
   "outputs": [
    {
     "name": "stdout",
     "output_type": "stream",
     "text": [
      "CIPS: 0.06490593811412901\n"
     ]
    }
   ],
   "source": [
    "cips = np.mean(y_test * np.minimum(new_scores / (old_scores + 1e-9), 10))\n",
    "print(f\"CIPS: {cips}\")"
   ],
   "metadata": {
    "collapsed": false,
    "pycharm": {
     "name": "#%%\n"
    }
   }
  },
  {
   "cell_type": "code",
   "execution_count": 20,
   "outputs": [],
   "source": [],
   "metadata": {
    "collapsed": false,
    "pycharm": {
     "name": "#%%\n"
    }
   }
  }
 ],
 "metadata": {
  "kernelspec": {
   "display_name": "Python 3",
   "language": "python",
   "name": "python3"
  },
  "language_info": {
   "codemirror_mode": {
    "name": "ipython",
    "version": 2
   },
   "file_extension": ".py",
   "mimetype": "text/x-python",
   "name": "python",
   "nbconvert_exporter": "python",
   "pygments_lexer": "ipython2",
   "version": "2.7.6"
  }
 },
 "nbformat": 4,
 "nbformat_minor": 0
}