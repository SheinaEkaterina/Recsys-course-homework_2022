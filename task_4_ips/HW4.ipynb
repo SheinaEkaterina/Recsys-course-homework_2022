{
 "cells": [
  {
   "cell_type": "code",
   "execution_count": 1,
   "metadata": {
    "pycharm": {
     "name": "#%%\n"
    }
   },
   "outputs": [],
   "source": [
    "import pandas as pd\n",
    "from scipy import sparse\n",
    "from sklearn.preprocessing import OneHotEncoder"
   ]
  },
  {
   "cell_type": "code",
   "execution_count": 2,
   "metadata": {
    "pycharm": {
     "name": "#%%\n"
    }
   },
   "outputs": [
    {
     "data": {
      "text/html": [
       "<div>\n",
       "<style scoped>\n",
       "    .dataframe tbody tr th:only-of-type {\n",
       "        vertical-align: middle;\n",
       "    }\n",
       "\n",
       "    .dataframe tbody tr th {\n",
       "        vertical-align: top;\n",
       "    }\n",
       "\n",
       "    .dataframe thead th {\n",
       "        text-align: right;\n",
       "    }\n",
       "</style>\n",
       "<table border=\"1\" class=\"dataframe\">\n",
       "  <thead>\n",
       "    <tr style=\"text-align: right;\">\n",
       "      <th></th>\n",
       "      <th>date_time</th>\n",
       "      <th>zone_id</th>\n",
       "      <th>banner_id</th>\n",
       "      <th>oaid_hash</th>\n",
       "      <th>campaign_clicks</th>\n",
       "      <th>os_id</th>\n",
       "      <th>country_id</th>\n",
       "      <th>banner_id0</th>\n",
       "      <th>rate0</th>\n",
       "      <th>g0</th>\n",
       "      <th>coeff_sum0</th>\n",
       "      <th>banner_id1</th>\n",
       "      <th>rate1</th>\n",
       "      <th>g1</th>\n",
       "      <th>coeff_sum1</th>\n",
       "      <th>impressions</th>\n",
       "      <th>clicks</th>\n",
       "    </tr>\n",
       "  </thead>\n",
       "  <tbody>\n",
       "    <tr>\n",
       "      <th>0</th>\n",
       "      <td>2021-09-27 00:01:30.000000</td>\n",
       "      <td>0</td>\n",
       "      <td>0</td>\n",
       "      <td>5664530014561852622</td>\n",
       "      <td>0</td>\n",
       "      <td>0</td>\n",
       "      <td>0</td>\n",
       "      <td>1240</td>\n",
       "      <td>0.067</td>\n",
       "      <td>0.035016</td>\n",
       "      <td>-7.268846</td>\n",
       "      <td>0</td>\n",
       "      <td>0.010</td>\n",
       "      <td>0.049516</td>\n",
       "      <td>-5.369901</td>\n",
       "      <td>1</td>\n",
       "      <td>1</td>\n",
       "    </tr>\n",
       "    <tr>\n",
       "      <th>1</th>\n",
       "      <td>2021-09-26 22:54:49.000000</td>\n",
       "      <td>1</td>\n",
       "      <td>1</td>\n",
       "      <td>5186611064559013950</td>\n",
       "      <td>0</td>\n",
       "      <td>0</td>\n",
       "      <td>1</td>\n",
       "      <td>1</td>\n",
       "      <td>0.002</td>\n",
       "      <td>0.054298</td>\n",
       "      <td>-2.657477</td>\n",
       "      <td>269</td>\n",
       "      <td>0.004</td>\n",
       "      <td>0.031942</td>\n",
       "      <td>-4.449220</td>\n",
       "      <td>1</td>\n",
       "      <td>1</td>\n",
       "    </tr>\n",
       "    <tr>\n",
       "      <th>2</th>\n",
       "      <td>2021-09-26 23:57:20.000000</td>\n",
       "      <td>2</td>\n",
       "      <td>2</td>\n",
       "      <td>2215519569292448030</td>\n",
       "      <td>3</td>\n",
       "      <td>0</td>\n",
       "      <td>0</td>\n",
       "      <td>2</td>\n",
       "      <td>0.014</td>\n",
       "      <td>0.014096</td>\n",
       "      <td>-3.824875</td>\n",
       "      <td>21</td>\n",
       "      <td>0.014</td>\n",
       "      <td>0.014906</td>\n",
       "      <td>-3.939309</td>\n",
       "      <td>1</td>\n",
       "      <td>1</td>\n",
       "    </tr>\n",
       "    <tr>\n",
       "      <th>3</th>\n",
       "      <td>2021-09-27 00:04:30.000000</td>\n",
       "      <td>3</td>\n",
       "      <td>3</td>\n",
       "      <td>6262169206735077204</td>\n",
       "      <td>0</td>\n",
       "      <td>1</td>\n",
       "      <td>1</td>\n",
       "      <td>3</td>\n",
       "      <td>0.012</td>\n",
       "      <td>0.015232</td>\n",
       "      <td>-3.461357</td>\n",
       "      <td>99</td>\n",
       "      <td>0.006</td>\n",
       "      <td>0.050671</td>\n",
       "      <td>-3.418403</td>\n",
       "      <td>1</td>\n",
       "      <td>1</td>\n",
       "    </tr>\n",
       "    <tr>\n",
       "      <th>4</th>\n",
       "      <td>2021-09-27 00:06:21.000000</td>\n",
       "      <td>4</td>\n",
       "      <td>4</td>\n",
       "      <td>4778985830203613115</td>\n",
       "      <td>0</td>\n",
       "      <td>1</td>\n",
       "      <td>0</td>\n",
       "      <td>4</td>\n",
       "      <td>0.019</td>\n",
       "      <td>0.051265</td>\n",
       "      <td>-4.009026</td>\n",
       "      <td>11464230</td>\n",
       "      <td>6.790</td>\n",
       "      <td>0.032005</td>\n",
       "      <td>-2.828797</td>\n",
       "      <td>1</td>\n",
       "      <td>1</td>\n",
       "    </tr>\n",
       "    <tr>\n",
       "      <th>5</th>\n",
       "      <td>2021-09-27 00:06:50.000000</td>\n",
       "      <td>5</td>\n",
       "      <td>5</td>\n",
       "      <td>2377014068362699676</td>\n",
       "      <td>0</td>\n",
       "      <td>2</td>\n",
       "      <td>2</td>\n",
       "      <td>5</td>\n",
       "      <td>0.004</td>\n",
       "      <td>0.337634</td>\n",
       "      <td>-3.222757</td>\n",
       "      <td>37</td>\n",
       "      <td>0.004</td>\n",
       "      <td>0.338195</td>\n",
       "      <td>-3.221755</td>\n",
       "      <td>1</td>\n",
       "      <td>1</td>\n",
       "    </tr>\n",
       "    <tr>\n",
       "      <th>6</th>\n",
       "      <td>2021-09-27 00:07:34.000000</td>\n",
       "      <td>6</td>\n",
       "      <td>6</td>\n",
       "      <td>6863358899511896876</td>\n",
       "      <td>0</td>\n",
       "      <td>3</td>\n",
       "      <td>0</td>\n",
       "      <td>6</td>\n",
       "      <td>0.002</td>\n",
       "      <td>0.033805</td>\n",
       "      <td>-3.063872</td>\n",
       "      <td>29</td>\n",
       "      <td>0.002</td>\n",
       "      <td>0.037688</td>\n",
       "      <td>-3.111623</td>\n",
       "      <td>1</td>\n",
       "      <td>1</td>\n",
       "    </tr>\n",
       "    <tr>\n",
       "      <th>7</th>\n",
       "      <td>2021-09-27 00:08:49.000000</td>\n",
       "      <td>7</td>\n",
       "      <td>7</td>\n",
       "      <td>2876502170484631685</td>\n",
       "      <td>0</td>\n",
       "      <td>4</td>\n",
       "      <td>1</td>\n",
       "      <td>7</td>\n",
       "      <td>0.010</td>\n",
       "      <td>0.026041</td>\n",
       "      <td>-2.509060</td>\n",
       "      <td>11464231</td>\n",
       "      <td>0.450</td>\n",
       "      <td>0.020563</td>\n",
       "      <td>-2.753571</td>\n",
       "      <td>1</td>\n",
       "      <td>1</td>\n",
       "    </tr>\n",
       "    <tr>\n",
       "      <th>8</th>\n",
       "      <td>2021-09-27 00:09:08.000000</td>\n",
       "      <td>8</td>\n",
       "      <td>8</td>\n",
       "      <td>5839858970958967275</td>\n",
       "      <td>0</td>\n",
       "      <td>4</td>\n",
       "      <td>3</td>\n",
       "      <td>8</td>\n",
       "      <td>0.020</td>\n",
       "      <td>0.033933</td>\n",
       "      <td>-3.888843</td>\n",
       "      <td>243</td>\n",
       "      <td>0.020</td>\n",
       "      <td>0.031670</td>\n",
       "      <td>-3.923608</td>\n",
       "      <td>1</td>\n",
       "      <td>1</td>\n",
       "    </tr>\n",
       "    <tr>\n",
       "      <th>9</th>\n",
       "      <td>2021-09-27 00:09:16.000000</td>\n",
       "      <td>1</td>\n",
       "      <td>9</td>\n",
       "      <td>4868455078459394303</td>\n",
       "      <td>0</td>\n",
       "      <td>4</td>\n",
       "      <td>4</td>\n",
       "      <td>9</td>\n",
       "      <td>0.010</td>\n",
       "      <td>0.079909</td>\n",
       "      <td>-2.997711</td>\n",
       "      <td>11464232</td>\n",
       "      <td>0.670</td>\n",
       "      <td>0.022754</td>\n",
       "      <td>-1.840219</td>\n",
       "      <td>1</td>\n",
       "      <td>1</td>\n",
       "    </tr>\n",
       "  </tbody>\n",
       "</table>\n",
       "</div>"
      ],
      "text/plain": [
       "                    date_time  zone_id  banner_id            oaid_hash  \\\n",
       "0  2021-09-27 00:01:30.000000        0          0  5664530014561852622   \n",
       "1  2021-09-26 22:54:49.000000        1          1  5186611064559013950   \n",
       "2  2021-09-26 23:57:20.000000        2          2  2215519569292448030   \n",
       "3  2021-09-27 00:04:30.000000        3          3  6262169206735077204   \n",
       "4  2021-09-27 00:06:21.000000        4          4  4778985830203613115   \n",
       "5  2021-09-27 00:06:50.000000        5          5  2377014068362699676   \n",
       "6  2021-09-27 00:07:34.000000        6          6  6863358899511896876   \n",
       "7  2021-09-27 00:08:49.000000        7          7  2876502170484631685   \n",
       "8  2021-09-27 00:09:08.000000        8          8  5839858970958967275   \n",
       "9  2021-09-27 00:09:16.000000        1          9  4868455078459394303   \n",
       "\n",
       "   campaign_clicks  os_id  country_id  banner_id0  rate0        g0  \\\n",
       "0                0      0           0        1240  0.067  0.035016   \n",
       "1                0      0           1           1  0.002  0.054298   \n",
       "2                3      0           0           2  0.014  0.014096   \n",
       "3                0      1           1           3  0.012  0.015232   \n",
       "4                0      1           0           4  0.019  0.051265   \n",
       "5                0      2           2           5  0.004  0.337634   \n",
       "6                0      3           0           6  0.002  0.033805   \n",
       "7                0      4           1           7  0.010  0.026041   \n",
       "8                0      4           3           8  0.020  0.033933   \n",
       "9                0      4           4           9  0.010  0.079909   \n",
       "\n",
       "   coeff_sum0  banner_id1  rate1        g1  coeff_sum1  impressions  clicks  \n",
       "0   -7.268846           0  0.010  0.049516   -5.369901            1       1  \n",
       "1   -2.657477         269  0.004  0.031942   -4.449220            1       1  \n",
       "2   -3.824875          21  0.014  0.014906   -3.939309            1       1  \n",
       "3   -3.461357          99  0.006  0.050671   -3.418403            1       1  \n",
       "4   -4.009026    11464230  6.790  0.032005   -2.828797            1       1  \n",
       "5   -3.222757          37  0.004  0.338195   -3.221755            1       1  \n",
       "6   -3.063872          29  0.002  0.037688   -3.111623            1       1  \n",
       "7   -2.509060    11464231  0.450  0.020563   -2.753571            1       1  \n",
       "8   -3.888843         243  0.020  0.031670   -3.923608            1       1  \n",
       "9   -2.997711    11464232  0.670  0.022754   -1.840219            1       1  "
      ]
     },
     "execution_count": 2,
     "metadata": {},
     "output_type": "execute_result"
    }
   ],
   "source": [
    "data = pd.read_csv('../data/data.csv')\n",
    "data.head(10)"
   ]
  },
  {
   "cell_type": "code",
   "execution_count": null,
   "outputs": [],
   "source": [
    "# удалим признаки, которые не нужны по условию\n",
    "# нам известно ограничение на revard, поэтому можно удалить rate0 и rate1, потому что по условию они равны 1\n",
    "columns_to_drop = ['campaign_clicks', 'rate0', 'rate1']\n",
    "data = data.drop(columns=columns_to_drop)\n",
    "\n",
    "data['date_time'] = pd.to_datetime(data['date_time'])\n",
    "data.head()"
   ],
   "metadata": {
    "collapsed": false,
    "pycharm": {
     "name": "#%%\n"
    }
   }
  },
  {
   "cell_type": "code",
   "execution_count": null,
   "outputs": [],
   "source": [
    "def analysis(data: pd.DataFrame):\n",
    "    # проверим вначале на наличие NaN-значений\n",
    "    null_values = data.isnull().sum().sum()\n",
    "    print(f\"Count of NaN {null_values}\")\n",
    "    \n",
    "    # посмотрим краткое описание данных, заметим, что impressions бесполезен, потому что константа\n",
    "    print(data.describe())\n",
    "    print()\n",
    "    \n",
    "    # посмотрим на временной интервал: \n",
    "    print(data['date_time'].dt.date.value_counts())\n",
    "    print()\n",
    "    # Заметим, что 2021-09-01 скорее всего лишний, потому что он в единственном экземпляре и выбивается из интервала\n",
    "    \n",
    "    # Посмотрим на категориальные фичи, непопулярные будем объединять в одну группу, совсем редкие будем удалять\n",
    "    print(f\"Unique {data['zone_id'].nunique()}\")\n",
    "    print(data['zone_id'].value_counts())\n",
    "    print()\n",
    "    # некоторых зон совсем мало, можно почистить\n",
    "    \n",
    "    print(f\"Unique {data['banner_id'].nunique()}\")\n",
    "    print(data['banner_id'].value_counts())\n",
    "    print()\n",
    "    # некоторых баннеров совсем мало, можно почистить\n",
    "    \n",
    "    print(f\"Unique {data['os_id'].nunique()}\")\n",
    "    print(data['os_id'].value_counts())\n",
    "    print()\n",
    "    # с 7 по 10 можно объединить\n",
    "    \n",
    "    print(f\"Unique {data['country_id'].nunique()}\")\n",
    "    print(data['country_id'].value_counts())\n",
    "    print()\n",
    "    # со странами все хорошо\n",
    "    "
   ],
   "metadata": {
    "collapsed": false,
    "pycharm": {
     "name": "#%%\n"
    }
   }
  },
  {
   "cell_type": "code",
   "execution_count": null,
   "outputs": [],
   "source": [
    "analysis(data)"
   ],
   "metadata": {
    "collapsed": false,
    "pycharm": {
     "name": "#%%\n"
    }
   }
  },
  {
   "cell_type": "markdown",
   "source": [
    "Необходима дополнительная чистка, потому что в появились новые NaN значения, так же уберем столбец с impressions, oaid_hash уберем, потому что не использовался в первой модели из домашки и сделаем простую фильтрацию по аналогии с тем, как делали раньше. Добавим часы "
   ],
   "metadata": {
    "collapsed": false,
    "pycharm": {
     "name": "#%% md\n"
    }
   }
  },
  {
   "cell_type": "code",
   "execution_count": null,
   "outputs": [],
   "source": [
    "data = data.drop(columns=[\"impressions\", 'oaid_hash'])\n",
    "data = data[data['date_time'] > '2021-09-02']\n",
    "data['hour'] = data['date_time'].dt.hour\n",
    "data.head()"
   ],
   "metadata": {
    "collapsed": false,
    "pycharm": {
     "name": "#%%\n"
    }
   }
  },
  {
   "cell_type": "markdown",
   "source": [
    "Удалим строки, где нет значений"
   ],
   "metadata": {
    "collapsed": false,
    "pycharm": {
     "name": "#%% md\n"
    }
   }
  },
  {
   "cell_type": "code",
   "execution_count": null,
   "outputs": [],
   "source": [
    "print(data.shape)\n",
    "data = data.dropna()\n",
    "print(data.shape)"
   ],
   "metadata": {
    "collapsed": false,
    "pycharm": {
     "name": "#%%\n"
    }
   }
  },
  {
   "cell_type": "markdown",
   "source": [
    "Делим на train/test по последнему дню"
   ],
   "metadata": {
    "collapsed": false,
    "pycharm": {
     "name": "#%% md\n"
    }
   }
  },
  {
   "cell_type": "code",
   "execution_count": null,
   "outputs": [],
   "source": [
    "train_data = data[data['date_time'] < '2021-10-02']\n",
    "test_data = data[data['date_time'] >= '2021-10-02']"
   ],
   "metadata": {
    "collapsed": false,
    "pycharm": {
     "name": "#%%\n"
    }
   }
  },
  {
   "cell_type": "code",
   "execution_count": null,
   "outputs": [],
   "source": [
    "train_data.shape, test_data.shape"
   ],
   "metadata": {
    "collapsed": false,
    "pycharm": {
     "name": "#%%\n"
    }
   }
  },
  {
   "cell_type": "code",
   "execution_count": null,
   "outputs": [],
   "source": [
    "categorical_features = [\"zone_id\", \"banner_id\", \"os_id\", \"country_id\", \"hour\"]"
   ],
   "metadata": {
    "collapsed": false,
    "pycharm": {
     "name": "#%%\n"
    }
   }
  },
  {
   "cell_type": "markdown",
   "source": [
    "Фильтруем по условию, что banner_id0 = banner_id"
   ],
   "metadata": {
    "collapsed": false,
    "pycharm": {
     "name": "#%% md\n"
    }
   }
  },
  {
   "cell_type": "code",
   "execution_count": null,
   "outputs": [],
   "source": [
    "test_data = test_data[test_data['banner_id0'] == test_data['banner_id']]\n",
    "test_copy = test_data.copy()\n",
    "\n",
    "y_test = test_data['clicks']\n",
    "X_test = test_data.drop(['date_time', 'clicks'], axis=1)\n",
    "\n",
    "y_train = train_data['clicks']\n",
    "X_train = train_data.drop(['date_time', 'clicks'], axis=1)\n",
    "\n",
    "# policy 1\n",
    "X_test_1 = X_test.copy()\n",
    "X_test_1['banner_id'] = X_test_1['banner_id1']"
   ],
   "metadata": {
    "collapsed": false,
    "pycharm": {
     "name": "#%%\n"
    }
   }
  },
  {
   "cell_type": "code",
   "execution_count": null,
   "outputs": [],
   "source": [
    "ohe = OneHotEncoder(handle_unknown='ignore')\n",
    "X_train = ohe.fit_transform(X_train[categorical_features])\n",
    "X_test = ohe.transform(X_test[categorical_features])\n",
    "X_test_1 = ohe.transform(X_test_1[categorical_features])"
   ],
   "metadata": {
    "collapsed": false,
    "pycharm": {
     "name": "#%%\n"
    }
   }
  },
  {
   "cell_type": "code",
   "execution_count": null,
   "outputs": [],
   "source": [
    "from sklearn.linear_model import LogisticRegression\n",
    "\n",
    "# Используем логистическую регрессию с 'liblinear', упомянутую на лекции, он не является SGD, \n",
    "# так же взяли l2 регуляризацию\n",
    "def create_model(C=0.01):\n",
    "    return LogisticRegression(solver='liblinear', C=C, penalty=\"l2\")"
   ],
   "metadata": {
    "collapsed": false,
    "pycharm": {
     "name": "#%%\n"
    }
   }
  },
  {
   "cell_type": "markdown",
   "source": [
    "Используем модель из первой домашки"
   ],
   "metadata": {
    "collapsed": false,
    "pycharm": {
     "name": "#%% md\n"
    }
   }
  },
  {
   "cell_type": "code",
   "execution_count": null,
   "outputs": [],
   "source": [
    "# Сравниваем 2 модели, получаем, что наша стала лучше базового решения\n",
    "from sklearn.metrics import roc_auc_score, log_loss\n",
    "\n",
    "model = create_model(C=0.01).fit(X_train, y_train)\n",
    "y_pred_proba = model.predict_proba(X_test)[:, 1]\n",
    "roc_auc_metric = roc_auc_score(y_test, y_pred_proba)\n",
    "log_loss_metric = log_loss(y_test, y_pred_proba)\n",
    "print(f\"roc_auc = {roc_auc_metric}, log_loss = {log_loss_metric}\")"
   ],
   "metadata": {
    "collapsed": false,
    "pycharm": {
     "name": "#%%\n"
    }
   }
  },
  {
   "cell_type": "markdown",
   "source": [
    "Посчитаем CIPS\n",
    "Нужно сравнить 2 случайные величины или по-другому: оценить вероятность того, что одна из них больше другой\n",
    "Обозначим за $N_0$ результат 1 баннера (нормальной с в), за $N_1$ второго\n",
    "\n",
    "$P(N_0 > N_1) = P(N_0 - N_1 > 0) = 1 - P(N_0 - N_1 <= 0) = 1 - F_{N_0 - N_1}(0)$\n",
    "\n",
    "Это и будет нашей функцией для подсчета policy"
   ],
   "metadata": {
    "collapsed": false,
    "pycharm": {
     "name": "#%% md\n"
    }
   }
  },
  {
   "cell_type": "code",
   "execution_count": null,
   "outputs": [],
   "source": [
    "import numpy as np\n",
    "from scipy.stats import norm\n"
   ],
   "metadata": {
    "collapsed": false,
    "pycharm": {
     "name": "#%%\n"
    }
   }
  },
  {
   "cell_type": "code",
   "execution_count": null,
   "outputs": [],
   "source": [
    "def calc_policy(coeff_sum0, g0, coeff_sum1, g1):\n",
    "    return 1. - norm.cdf(0., loc=coeff_sum0 - coeff_sum1, scale=np.sqrt(g0 ** 2 + g1 ** 2) + 1e-6)\n"
   ],
   "metadata": {
    "collapsed": false,
    "pycharm": {
     "name": "#%%\n"
    }
   }
  },
  {
   "cell_type": "code",
   "execution_count": null,
   "outputs": [],
   "source": [
    "pi0 = calc_policy(test_copy['coeff_sum0'], test_copy['g0'], test_copy['coeff_sum1'], test_copy['g1'])"
   ],
   "metadata": {
    "collapsed": false,
    "pycharm": {
     "name": "#%%\n"
    }
   }
  },
  {
   "cell_type": "markdown",
   "source": [
    "Посчитаем новые коэффициенты так как указано в условии"
   ],
   "metadata": {
    "collapsed": false,
    "pycharm": {
     "name": "#%% md\n"
    }
   }
  },
  {
   "cell_type": "code",
   "execution_count": null,
   "outputs": [],
   "source": [
    "from scipy.special import logit\n",
    "\n",
    "test_copy['coeff_sum0_new'] = logit(model.predict_proba(X_test)[:, 1])\n",
    "test_copy['coeff_sum1_new'] = logit(model.predict_proba(X_test_1)[:, 1])\n",
    "\n",
    "pi1 = calc_policy(test_copy['coeff_sum0_new'], test_copy['g0'], test_copy['coeff_sum1_new'], test_copy['g1'])"
   ],
   "metadata": {
    "collapsed": false,
    "pycharm": {
     "name": "#%%\n"
    }
   }
  },
  {
   "cell_type": "markdown",
   "source": [
    "Берем lambda = 10"
   ],
   "metadata": {
    "collapsed": false,
    "pycharm": {
     "name": "#%% md\n"
    }
   }
  },
  {
   "cell_type": "code",
   "execution_count": null,
   "outputs": [],
   "source": [
    "l = 10"
   ],
   "metadata": {
    "collapsed": false,
    "pycharm": {
     "name": "#%%\n"
    }
   }
  },
  {
   "cell_type": "code",
   "execution_count": null,
   "outputs": [],
   "source": [
    "cips = np.mean(y_test * np.minimum(pi1 / (pi0 + 1e-10), l))\n",
    "print(cips)\n"
   ],
   "metadata": {
    "collapsed": false,
    "pycharm": {
     "name": "#%%\n"
    }
   }
  },
  {
   "cell_type": "markdown",
   "metadata": {},
   "source": [
    "Посчитаем новые коэффициенты так как указано в условии"
   ]
  },
  {
   "cell_type": "code",
   "execution_count": 18,
   "metadata": {},
   "outputs": [],
   "source": [
    "from scipy.special import logit\n",
    "\n",
    "test_copy['coeff_sum0_new'] = logit(model.predict_proba(X_test)[:, 1])\n",
    "test_copy['coeff_sum1_new'] = logit(model.predict_proba(X_test_1)[:, 1])\n",
    "\n",
    "pi1 = calc_policy(test_copy['coeff_sum0_new'], test_copy['g0'], test_copy['coeff_sum1_new'], test_copy['g1'])"
   ]
  },
  {
   "cell_type": "markdown",
   "metadata": {},
   "source": [
    "Берем lambda = 10"
   ]
  },
  {
   "cell_type": "code",
   "execution_count": 19,
   "metadata": {},
   "outputs": [],
   "source": [
    "l = 10"
   ]
  },
  {
   "cell_type": "code",
   "execution_count": 20,
   "metadata": {},
   "outputs": [
    {
     "name": "stdout",
     "output_type": "stream",
     "text": [
      "0.06751013434965179\n"
     ]
    }
   ],
   "source": [
    "cips = np.mean(y_test * np.minimum(pi1 / (pi0 + 1e-10), l))\n",
    "print(cips)\n"
   ]
  },
  {
   "cell_type": "code",
   "execution_count": null,
   "metadata": {},
   "outputs": [],
   "source": []
  }
 ],
 "metadata": {
  "kernelspec": {
   "display_name": "Python 3",
   "language": "python",
   "name": "python3"
  },
  "language_info": {
   "codemirror_mode": {
    "name": "ipython",
    "version": 3
   },
   "file_extension": ".py",
   "mimetype": "text/x-python",
   "name": "python",
   "nbconvert_exporter": "python",
   "pygments_lexer": "ipython3",
   "version": "3.8.5"
  }
 },
 "nbformat": 4,
 "nbformat_minor": 1
}